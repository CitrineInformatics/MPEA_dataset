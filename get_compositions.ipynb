{
 "cells": [
  {
   "cell_type": "code",
   "execution_count": 1,
   "metadata": {},
   "outputs": [],
   "source": [
    "import os\n",
    "import numpy as np\n",
    "import pandas as pd\n",
    "import pymatgen as mg\n",
    "\n",
    "df = pd.read_csv(os.path.abspath('MPEA_dataset.csv'))"
   ]
  },
  {
   "cell_type": "code",
   "execution_count": 2,
   "metadata": {},
   "outputs": [],
   "source": [
    "def get_composition_df(formula):\n",
    "    comp = mg.Composition(formula)\n",
    "    weights = [round(comp.get_atomic_fraction(ele), 3) for ele in comp.elements]\n",
    "    elements = [str(x) for x in comp.elements]\n",
    "    df = pd.DataFrame([[formula]+weights], columns=['Alloy name']+elements)\n",
    "    return df\n",
    "\n",
    "comp_df = pd.concat([get_composition_df(x) for x in df['FORMULA']])\n",
    "comp_df = comp_df.reindex(sorted(comp_df.columns), axis=1)\n",
    "unique_comps = comp_df.drop_duplicates()\n",
    "cols = ['Alloy name']+[x for x in unique_comps.keys() if x != 'Alloy name']\n",
    "unique_comps[cols].to_csv('stats_and_tables/compositions.csv', index=False)"
   ]
  },
  {
   "cell_type": "code",
   "execution_count": 3,
   "metadata": {},
   "outputs": [
    {
     "name": "stdout",
     "output_type": "stream",
     "text": [
      "Alloy composition\n",
      "IDENTIFIER: Reference ID\n",
      "REFERENCE: doi\n",
      "PROPERTY: Processing method\n",
      "PROPERTY: Microstructure\n",
      "PROPERTY: O content (wppm)\n",
      "PROPERTY: N content (wppm)\n",
      "PROPERTY: C content (wppm)\n",
      "PROPERTY: grain size ($\\mu$m)\n",
      "PROPERTY: Exp. Density (g/cm$^3$)\n",
      "PROPERTY: Calculated Density (g/cm$^3$)\n",
      "PROPERTY: HV\n",
      "PROPERTY: Type of test\n",
      "PROPERTY: Test temperature ($^\\circ$C)\n",
      "PROPERTY: YS (MPa)\n",
      "PROPERTY: UTS (MPa)\n",
      "PROPERTY: Elongation (%)\n",
      "PROPERTY: Elongation plastic (%)\n",
      "PROPERTY: Exp. Young modulus (GPa)\n",
      "PROPERTY: Calculated Young modulus (GPa)\n",
      "REFERENCE: year\n"
     ]
    }
   ],
   "source": [
    "# group by alloy, reformat for tabl\n",
    "cols = ['FORMULA', 'IDENTIFIER: Reference ID', 'REFERENCE: doi', 'PROPERTY: Processing method', 'PROPERTY: Microstructure', 'PROPERTY: O content (wppm)', \n",
    "        'PROPERTY: N content (wppm)', 'PROPERTY: C content (wppm)', 'PROPERTY: grain size ($\\mu$m)', 'PROPERTY: Exp. Density (g/cm$^3$)',  'PROPERTY: Calculated Density (g/cm$^3$)', \n",
    "        'PROPERTY: HV', 'PROPERTY: Type of test', 'PROPERTY: Test temperature ($^\\circ$C)', 'PROPERTY: YS (MPa)', 'PROPERTY: UTS (MPa)', 'PROPERTY: Elongation (%)', 'PROPERTY: Elongation plastic (%)', \n",
    "        'PROPERTY: Exp. Young modulus (GPa)', 'PROPERTY: Calculated Young modulus (GPa)', 'REFERENCE: year']\n",
    "df = df[cols]\n",
    "\n",
    "\n",
    "import csv\n",
    "\n",
    "grouped = df.groupby('FORMULA')\n",
    "rows = []\n",
    "with open('stats_and_tables/grouped_by_composition.csv', 'w', newline='') as csvfile:\n",
    "    writer = csv.writer(csvfile)\n",
    "    \n",
    "    header_row = ['Alloy composition']+[x for x in df.keys()]\n",
    "    writer.writerow(header_row)\n",
    "    for g in grouped:\n",
    "        \n",
    "        r1 = [g[0]]+['' for x in range(len(g[1].keys()))]\n",
    "        rows.append(r1)\n",
    "        writer.writerow(r1)\n",
    "\n",
    "        for row in g[1].iterrows():\n",
    "            \n",
    "            r2 = ['']+[x if str(x) != 'nan' else '' for x in row[1]]\n",
    "            rows.append(r2)\n",
    "            writer.writerow(r2)\n",
    "\n",
    "new_df = pd.DataFrame(rows, columns=header_row)\n",
    "new_df = new_df.drop('FORMULA', axis=1)\n",
    "\n",
    "def highlight(s):\n",
    "    \n",
    "    inputs = ['IDENTIFIER: Reference ID', 'REFERENCE: doi', 'PROPERTY: Processing method', 'PROPERTY: Microstructure', 'PROPERTY: O content (wppm)', \n",
    "              'PROPERTY: N content (wppm)', 'PROPERTY: C content (wppm)']\n",
    "    \n",
    "    outputs = ['PROPERTY: grain size ($\\mu$m)', 'PROPERTY: Calculated Density (g/cm$^3$)', 'PROPERTY: Exp. Density (g/cm$^3$)', 'PROPERTY: HV', \n",
    "               'PROPERTY: Type of test', 'PROPERTY: Test temperature ($^\\circ$C)', 'PROPERTY: YS (MPa)', 'PROPERTY: UTS (MPa)', 'PROPERTY: Elongation (%)', \n",
    "               'PROPERTY: Elongation plastic (%)', 'PROPERTY: Exp. Young modulus (GPa)', 'PROPERTY: Calculated Young modulus (GPa)']\n",
    "    \n",
    "    print(s.name)\n",
    "    if s.name == 'Alloy composition':\n",
    "        return ['font-weight: bold' for v in s]\n",
    "    elif s.name in inputs:\n",
    "        return ['background-color: #cfc0a2' for v in s]\n",
    "    elif s.name in outputs:\n",
    "        return ['background-color: #a2cfc0' for v in s]\n",
    "    else:\n",
    "        return ['' for v in s]\n",
    "\n",
    "new_df = new_df.style.apply(highlight)\n",
    "new_df.to_excel('stats_and_tables/grouped_by_composition.xlsx', engine='openpyxl')"
   ]
  },
  {
   "cell_type": "code",
   "execution_count": null,
   "metadata": {},
   "outputs": [],
   "source": []
  }
 ],
 "metadata": {
  "kernelspec": {
   "display_name": "Python 3",
   "language": "python",
   "name": "python3"
  },
  "language_info": {
   "codemirror_mode": {
    "name": "ipython",
    "version": 3
   },
   "file_extension": ".py",
   "mimetype": "text/x-python",
   "name": "python",
   "nbconvert_exporter": "python",
   "pygments_lexer": "ipython3",
   "version": "3.7.3"
  }
 },
 "nbformat": 4,
 "nbformat_minor": 4
}
