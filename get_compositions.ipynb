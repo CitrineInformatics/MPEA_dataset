{
 "cells": [
  {
   "cell_type": "code",
   "execution_count": 1,
   "metadata": {},
   "outputs": [],
   "source": [
    "import os\n",
    "import numpy as np\n",
    "import pandas as pd\n",
    "import pymatgen as mg\n",
    "\n",
    "df = pd.read_csv(os.path.abspath('MPEA_dataset.csv'))"
   ]
  },
  {
   "cell_type": "code",
   "execution_count": 2,
   "metadata": {},
   "outputs": [
    {
     "name": "stdout",
     "output_type": "stream",
     "text": [
      "    Ag     Al                                 Alloy name   B      C  Ca  \\\n",
      "0  NaN  0.077                         Al0.25 Co1 Fe1 Ni1 NaN    NaN NaN   \n",
      "0  NaN  0.143                          Al0.5 Co1 Fe1 Ni1 NaN    NaN NaN   \n",
      "0  NaN  0.200                         Al0.75 Co1 Fe1 Ni1 NaN    NaN NaN   \n",
      "0  NaN  0.250                            Al1 Co1 Fe1 Ni1 NaN    NaN NaN   \n",
      "0  NaN    NaN                                Co1 Fe1 Ni1 NaN    NaN NaN   \n",
      "..  ..    ...                                        ...  ..    ...  ..   \n",
      "0  NaN    NaN                        Hf1 Mo1 Nb1 Ta1 Ti1 NaN    NaN NaN   \n",
      "0  NaN    NaN              C0.111 Co1 Cr1 Fe1 Ni1 W0.111 NaN  0.026 NaN   \n",
      "0  NaN    NaN              C0.429 Co1 Cr1 Fe1 Ni1 W0.429 NaN  0.088 NaN   \n",
      "0  NaN  0.077  Al0.267 Co1 Cr0.667 Fe0.667 Ni0.667 Ti0.2 NaN    NaN NaN   \n",
      "0  NaN  0.250                            Al1 Nb1 Ti1 Zr1 NaN    NaN NaN   \n",
      "\n",
      "       Co     Cr  Cu     Fe  ...  Sc  Si  Sn   Ta     Ti   V      W   Y  Zn  \\\n",
      "0   0.308    NaN NaN  0.308  ... NaN NaN NaN  NaN    NaN NaN    NaN NaN NaN   \n",
      "0   0.286    NaN NaN  0.286  ... NaN NaN NaN  NaN    NaN NaN    NaN NaN NaN   \n",
      "0   0.267    NaN NaN  0.267  ... NaN NaN NaN  NaN    NaN NaN    NaN NaN NaN   \n",
      "0   0.250    NaN NaN  0.250  ... NaN NaN NaN  NaN    NaN NaN    NaN NaN NaN   \n",
      "0   0.333    NaN NaN  0.333  ... NaN NaN NaN  NaN    NaN NaN    NaN NaN NaN   \n",
      "..    ...    ...  ..    ...  ...  ..  ..  ..  ...    ...  ..    ...  ..  ..   \n",
      "0     NaN    NaN NaN    NaN  ... NaN NaN NaN  0.2  0.200 NaN    NaN NaN NaN   \n",
      "0   0.237  0.237 NaN  0.237  ... NaN NaN NaN  NaN    NaN NaN  0.026 NaN NaN   \n",
      "0   0.206  0.206 NaN  0.206  ... NaN NaN NaN  NaN    NaN NaN  0.088 NaN NaN   \n",
      "0   0.288  0.192 NaN  0.192  ... NaN NaN NaN  NaN  0.058 NaN    NaN NaN NaN   \n",
      "0     NaN    NaN NaN    NaN  ... NaN NaN NaN  NaN  0.250 NaN    NaN NaN NaN   \n",
      "\n",
      "      Zr  \n",
      "0    NaN  \n",
      "0    NaN  \n",
      "0    NaN  \n",
      "0    NaN  \n",
      "0    NaN  \n",
      "..   ...  \n",
      "0    NaN  \n",
      "0    NaN  \n",
      "0    NaN  \n",
      "0    NaN  \n",
      "0   0.25  \n",
      "\n",
      "[632 rows x 31 columns]\n"
     ]
    }
   ],
   "source": [
    "def get_composition_df(formula):\n",
    "    comp = mg.Composition(formula)\n",
    "    weights = [round(comp.get_atomic_fraction(ele), 3) for ele in comp.elements]\n",
    "    elements = [str(x) for x in comp.elements]\n",
    "    df = pd.DataFrame([[formula]+weights], columns=['Alloy name']+elements)\n",
    "    return df\n",
    "\n",
    "comp_df = pd.concat([get_composition_df(x) for x in df['FORMULA']])\n",
    "comp_df = comp_df.reindex(sorted(comp_df.columns), axis=1)\n",
    "print(comp_df.drop_duplicates())\n",
    "comp_df.drop_duplicates().to_csv('stats_and_tables/compositions.csv', index=False)"
   ]
  },
  {
   "cell_type": "code",
   "execution_count": 3,
   "metadata": {},
   "outputs": [
    {
     "ename": "KeyError",
     "evalue": "\"['PROPERTY: Young modulus (GPa)', 'PROPERTY: ROM Density (g/cm$^3$)'] not in index\"",
     "output_type": "error",
     "traceback": [
      "\u001b[0;31m---------------------------------------------------------------------------\u001b[0m",
      "\u001b[0;31mKeyError\u001b[0m                                  Traceback (most recent call last)",
      "\u001b[0;32m<ipython-input-3-42c10e75025d>\u001b[0m in \u001b[0;36m<module>\u001b[0;34m\u001b[0m\n\u001b[1;32m      4\u001b[0m         \u001b[0;34m'PROPERTY: Exp. Density (g/cm$^3$)'\u001b[0m\u001b[0;34m,\u001b[0m \u001b[0;34m'PROPERTY: HV'\u001b[0m\u001b[0;34m,\u001b[0m \u001b[0;34m'PROPERTY: Type of test'\u001b[0m\u001b[0;34m,\u001b[0m \u001b[0;34m'PROPERTY: Test temperature ($^\\circ$C)'\u001b[0m\u001b[0;34m,\u001b[0m \u001b[0;34m'PROPERTY: YS (MPa)'\u001b[0m\u001b[0;34m,\u001b[0m\u001b[0;34m\u001b[0m\u001b[0;34m\u001b[0m\u001b[0m\n\u001b[1;32m      5\u001b[0m        'PROPERTY: UTS (MPa)', 'PROPERTY: Elongation (%)', 'PROPERTY: Elongation plastic (%)', 'PROPERTY: Young modulus (GPa)', 'REFERENCE: year']\n\u001b[0;32m----> 6\u001b[0;31m \u001b[0mdf\u001b[0m \u001b[0;34m=\u001b[0m \u001b[0mdf\u001b[0m\u001b[0;34m[\u001b[0m\u001b[0mcols\u001b[0m\u001b[0;34m]\u001b[0m\u001b[0;34m\u001b[0m\u001b[0;34m\u001b[0m\u001b[0m\n\u001b[0m\u001b[1;32m      7\u001b[0m \u001b[0;34m\u001b[0m\u001b[0m\n\u001b[1;32m      8\u001b[0m \u001b[0;34m\u001b[0m\u001b[0m\n",
      "\u001b[0;32m~/anaconda3/lib/python3.7/site-packages/pandas/core/frame.py\u001b[0m in \u001b[0;36m__getitem__\u001b[0;34m(self, key)\u001b[0m\n\u001b[1;32m   2804\u001b[0m             \u001b[0;32mif\u001b[0m \u001b[0mis_iterator\u001b[0m\u001b[0;34m(\u001b[0m\u001b[0mkey\u001b[0m\u001b[0;34m)\u001b[0m\u001b[0;34m:\u001b[0m\u001b[0;34m\u001b[0m\u001b[0;34m\u001b[0m\u001b[0m\n\u001b[1;32m   2805\u001b[0m                 \u001b[0mkey\u001b[0m \u001b[0;34m=\u001b[0m \u001b[0mlist\u001b[0m\u001b[0;34m(\u001b[0m\u001b[0mkey\u001b[0m\u001b[0;34m)\u001b[0m\u001b[0;34m\u001b[0m\u001b[0;34m\u001b[0m\u001b[0m\n\u001b[0;32m-> 2806\u001b[0;31m             \u001b[0mindexer\u001b[0m \u001b[0;34m=\u001b[0m \u001b[0mself\u001b[0m\u001b[0;34m.\u001b[0m\u001b[0mloc\u001b[0m\u001b[0;34m.\u001b[0m\u001b[0m_get_listlike_indexer\u001b[0m\u001b[0;34m(\u001b[0m\u001b[0mkey\u001b[0m\u001b[0;34m,\u001b[0m \u001b[0maxis\u001b[0m\u001b[0;34m=\u001b[0m\u001b[0;36m1\u001b[0m\u001b[0;34m,\u001b[0m \u001b[0mraise_missing\u001b[0m\u001b[0;34m=\u001b[0m\u001b[0;32mTrue\u001b[0m\u001b[0;34m)\u001b[0m\u001b[0;34m[\u001b[0m\u001b[0;36m1\u001b[0m\u001b[0;34m]\u001b[0m\u001b[0;34m\u001b[0m\u001b[0;34m\u001b[0m\u001b[0m\n\u001b[0m\u001b[1;32m   2807\u001b[0m \u001b[0;34m\u001b[0m\u001b[0m\n\u001b[1;32m   2808\u001b[0m         \u001b[0;31m# take() does not accept boolean indexers\u001b[0m\u001b[0;34m\u001b[0m\u001b[0;34m\u001b[0m\u001b[0;34m\u001b[0m\u001b[0m\n",
      "\u001b[0;32m~/anaconda3/lib/python3.7/site-packages/pandas/core/indexing.py\u001b[0m in \u001b[0;36m_get_listlike_indexer\u001b[0;34m(self, key, axis, raise_missing)\u001b[0m\n\u001b[1;32m   1551\u001b[0m \u001b[0;34m\u001b[0m\u001b[0m\n\u001b[1;32m   1552\u001b[0m         self._validate_read_indexer(\n\u001b[0;32m-> 1553\u001b[0;31m             \u001b[0mkeyarr\u001b[0m\u001b[0;34m,\u001b[0m \u001b[0mindexer\u001b[0m\u001b[0;34m,\u001b[0m \u001b[0mo\u001b[0m\u001b[0;34m.\u001b[0m\u001b[0m_get_axis_number\u001b[0m\u001b[0;34m(\u001b[0m\u001b[0maxis\u001b[0m\u001b[0;34m)\u001b[0m\u001b[0;34m,\u001b[0m \u001b[0mraise_missing\u001b[0m\u001b[0;34m=\u001b[0m\u001b[0mraise_missing\u001b[0m\u001b[0;34m\u001b[0m\u001b[0;34m\u001b[0m\u001b[0m\n\u001b[0m\u001b[1;32m   1554\u001b[0m         )\n\u001b[1;32m   1555\u001b[0m         \u001b[0;32mreturn\u001b[0m \u001b[0mkeyarr\u001b[0m\u001b[0;34m,\u001b[0m \u001b[0mindexer\u001b[0m\u001b[0;34m\u001b[0m\u001b[0;34m\u001b[0m\u001b[0m\n",
      "\u001b[0;32m~/anaconda3/lib/python3.7/site-packages/pandas/core/indexing.py\u001b[0m in \u001b[0;36m_validate_read_indexer\u001b[0;34m(self, key, indexer, axis, raise_missing)\u001b[0m\n\u001b[1;32m   1644\u001b[0m             \u001b[0;32mif\u001b[0m \u001b[0;32mnot\u001b[0m \u001b[0;34m(\u001b[0m\u001b[0mself\u001b[0m\u001b[0;34m.\u001b[0m\u001b[0mname\u001b[0m \u001b[0;34m==\u001b[0m \u001b[0;34m\"loc\"\u001b[0m \u001b[0;32mand\u001b[0m \u001b[0;32mnot\u001b[0m \u001b[0mraise_missing\u001b[0m\u001b[0;34m)\u001b[0m\u001b[0;34m:\u001b[0m\u001b[0;34m\u001b[0m\u001b[0;34m\u001b[0m\u001b[0m\n\u001b[1;32m   1645\u001b[0m                 \u001b[0mnot_found\u001b[0m \u001b[0;34m=\u001b[0m \u001b[0mlist\u001b[0m\u001b[0;34m(\u001b[0m\u001b[0mset\u001b[0m\u001b[0;34m(\u001b[0m\u001b[0mkey\u001b[0m\u001b[0;34m)\u001b[0m \u001b[0;34m-\u001b[0m \u001b[0mset\u001b[0m\u001b[0;34m(\u001b[0m\u001b[0max\u001b[0m\u001b[0;34m)\u001b[0m\u001b[0;34m)\u001b[0m\u001b[0;34m\u001b[0m\u001b[0;34m\u001b[0m\u001b[0m\n\u001b[0;32m-> 1646\u001b[0;31m                 \u001b[0;32mraise\u001b[0m \u001b[0mKeyError\u001b[0m\u001b[0;34m(\u001b[0m\u001b[0;34mf\"{not_found} not in index\"\u001b[0m\u001b[0;34m)\u001b[0m\u001b[0;34m\u001b[0m\u001b[0;34m\u001b[0m\u001b[0m\n\u001b[0m\u001b[1;32m   1647\u001b[0m \u001b[0;34m\u001b[0m\u001b[0m\n\u001b[1;32m   1648\u001b[0m             \u001b[0;31m# we skip the warning on Categorical/Interval\u001b[0m\u001b[0;34m\u001b[0m\u001b[0;34m\u001b[0m\u001b[0;34m\u001b[0m\u001b[0m\n",
      "\u001b[0;31mKeyError\u001b[0m: \"['PROPERTY: Young modulus (GPa)', 'PROPERTY: ROM Density (g/cm$^3$)'] not in index\""
     ]
    }
   ],
   "source": [
    "# group by alloy, reformat for tabl\n",
    "cols = ['FORMULA', 'IDENTIFIER: Reference ID', 'REFERENCE: doi', 'PROPERTY: Processing method', 'PROPERTY: Microstructure', 'PROPERTY: O content (wppm)', \n",
    "        'PROPERTY: N content (wppm)', 'PROPERTY: C content (wppm)', 'PROPERTY: grain size ($\\mu$m)', 'PROPERTY: ROM Density (g/cm$^3$)', \n",
    "        'PROPERTY: Exp. Density (g/cm$^3$)', 'PROPERTY: HV', 'PROPERTY: Type of test', 'PROPERTY: Test temperature ($^\\circ$C)', 'PROPERTY: YS (MPa)',\n",
    "       'PROPERTY: UTS (MPa)', 'PROPERTY: Elongation (%)', 'PROPERTY: Elongation plastic (%)', 'PROPERTY: Young modulus (GPa)', 'REFERENCE: year']\n",
    "df = df[cols]\n",
    "\n",
    "\n",
    "import csv\n",
    "\n",
    "grouped = df.groupby('FORMULA')\n",
    "rows = []\n",
    "with open('stats_and_tables/grouped_by_composition.csv', 'w', newline='') as csvfile:\n",
    "    writer = csv.writer(csvfile)\n",
    "    \n",
    "    header_row = ['Alloy composition']+[x for x in df.keys()]\n",
    "    writer.writerow(header_row)\n",
    "    for g in grouped:\n",
    "        \n",
    "        r1 = [g[0]]+['' for x in range(len(g[1].keys()))]\n",
    "        rows.append(r1)\n",
    "        writer.writerow(r1)\n",
    "\n",
    "        for row in g[1].iterrows():\n",
    "            \n",
    "            r2 = ['']+[x if str(x) != 'nan' else '' for x in row[1]]\n",
    "            rows.append(r2)\n",
    "            writer.writerow(r2)\n",
    "\n",
    "new_df = pd.DataFrame(rows, columns=header_row)\n",
    "new_df = new_df.drop('FORMULA', axis=1)\n",
    "\n",
    "def highlight(s):\n",
    "    \n",
    "    inputs = ['IDENTIFIER: Reference ID', 'REFERENCE: doi', 'PROPERTY: Processing method', 'PROPERTY: Microstructure', 'PROPERTY: O content (wppm)', \n",
    "              'PROPERTY: N content (wppm)', 'PROPERTY: C content (wppm)']\n",
    "    \n",
    "    outputs = ['PROPERTY: grain size ($\\mu$m)', 'PROPERTY: ROM Density (g/cm$^3$)', 'PROPERTY: Exp. Density (g/cm$^3$)', 'PROPERTY: HV', \n",
    "               'PROPERTY: Type of test', 'PROPERTY: Test temperature ($^\\circ$C)', 'PROPERTY: YS (MPa)', 'PROPERTY: UTS (MPa)', 'PROPERTY: Elongation (%)', \n",
    "               'PROPERTY: Elongation plastic (%)', 'PROPERTY: Young modulus (GPa)']\n",
    "    \n",
    "    print(s.name)\n",
    "    if s.name == 'Alloy composition':\n",
    "        return ['font-weight: bold' for v in s]\n",
    "    elif s.name in inputs:\n",
    "        return ['background-color: #cfc0a2' for v in s]\n",
    "    elif s.name in outputs:\n",
    "        return ['background-color: #a2cfc0' for v in s]\n",
    "    else:\n",
    "        return ['' for v in s]\n",
    "\n",
    "new_df = new_df.style.apply(highlight)\n",
    "new_df.to_excel('stats_and_tables/grouped_by_composition.xlsx', engine='openpyxl')"
   ]
  },
  {
   "cell_type": "code",
   "execution_count": null,
   "metadata": {},
   "outputs": [],
   "source": []
  }
 ],
 "metadata": {
  "kernelspec": {
   "display_name": "Python 3",
   "language": "python",
   "name": "python3"
  },
  "language_info": {
   "codemirror_mode": {
    "name": "ipython",
    "version": 3
   },
   "file_extension": ".py",
   "mimetype": "text/x-python",
   "name": "python",
   "nbconvert_exporter": "python",
   "pygments_lexer": "ipython3",
   "version": "3.7.3"
  }
 },
 "nbformat": 4,
 "nbformat_minor": 4
}
