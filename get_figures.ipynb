{
 "cells": [
  {
   "cell_type": "markdown",
   "metadata": {},
   "source": [
    "# This notebook generates figures presented in the article."
   ]
  },
  {
   "cell_type": "code",
   "execution_count": 20,
   "metadata": {},
   "outputs": [
    {
     "data": {
      "text/html": [
       "<div>\n",
       "<style scoped>\n",
       "    .dataframe tbody tr th:only-of-type {\n",
       "        vertical-align: middle;\n",
       "    }\n",
       "\n",
       "    .dataframe tbody tr th {\n",
       "        vertical-align: top;\n",
       "    }\n",
       "\n",
       "    .dataframe thead th {\n",
       "        text-align: right;\n",
       "    }\n",
       "</style>\n",
       "<table border=\"1\" class=\"dataframe\">\n",
       "  <thead>\n",
       "    <tr style=\"text-align: right;\">\n",
       "      <th></th>\n",
       "      <th>Unnamed: 0</th>\n",
       "      <th>PROPERTY: grain size ($\\mu$m)</th>\n",
       "      <th>PROPERTY: ROM Density (g/cm$^3$)</th>\n",
       "      <th>PROPERTY: HV</th>\n",
       "      <th>PROPERTY: Test temperature ($^\\circ$C)</th>\n",
       "      <th>PROPERTY: YS (MPa)</th>\n",
       "      <th>PROPERTY: UTS (MPa)</th>\n",
       "      <th>PROPERTY: Elongation (%)</th>\n",
       "      <th>PROPERTY: Elongation plastic (%)</th>\n",
       "      <th>PROPERTY: ROM Young modulus (GPa)</th>\n",
       "      <th>PROPERTY: Exp. Young modulus (GPa)</th>\n",
       "      <th>PROPERTY: O content (wppm)</th>\n",
       "      <th>PROPERTY: N content (wppm)</th>\n",
       "      <th>PROPERTY: C content (wppm)</th>\n",
       "      <th>Internal Reference #</th>\n",
       "      <th>PROPERTY: Exp. Density (g/cm$^3$)</th>\n",
       "      <th>IDENTIFIER: Reference ID</th>\n",
       "      <th>REFERENCE: year</th>\n",
       "      <th>PROPERTY: Calculated Density (g/cm$^3$)</th>\n",
       "      <th>PROPERTY: Calculated Young modulus (GPa)</th>\n",
       "    </tr>\n",
       "  </thead>\n",
       "  <tbody>\n",
       "    <tr>\n",
       "      <th>count</th>\n",
       "      <td>1545.000000</td>\n",
       "      <td>237.000000</td>\n",
       "      <td>614.000000</td>\n",
       "      <td>530.000000</td>\n",
       "      <td>1364.000000</td>\n",
       "      <td>1067.000000</td>\n",
       "      <td>535.000000</td>\n",
       "      <td>619.000000</td>\n",
       "      <td>149.000000</td>\n",
       "      <td>226.000000</td>\n",
       "      <td>145.000000</td>\n",
       "      <td>57.000000</td>\n",
       "      <td>45.0</td>\n",
       "      <td>4.000000</td>\n",
       "      <td>156.000000</td>\n",
       "      <td>112.000000</td>\n",
       "      <td>1545.000000</td>\n",
       "      <td>1545.000000</td>\n",
       "      <td>1545.000000</td>\n",
       "      <td>730.000000</td>\n",
       "    </tr>\n",
       "    <tr>\n",
       "      <th>mean</th>\n",
       "      <td>402.010356</td>\n",
       "      <td>90.222121</td>\n",
       "      <td>7.763681</td>\n",
       "      <td>478.256792</td>\n",
       "      <td>228.768182</td>\n",
       "      <td>890.989588</td>\n",
       "      <td>1184.647383</td>\n",
       "      <td>30.216688</td>\n",
       "      <td>20.272349</td>\n",
       "      <td>170.163717</td>\n",
       "      <td>124.972414</td>\n",
       "      <td>764.000000</td>\n",
       "      <td>5.0</td>\n",
       "      <td>19911.750000</td>\n",
       "      <td>61.698718</td>\n",
       "      <td>7.639518</td>\n",
       "      <td>134.286084</td>\n",
       "      <td>2016.209061</td>\n",
       "      <td>7.962071</td>\n",
       "      <td>166.443836</td>\n",
       "    </tr>\n",
       "    <tr>\n",
       "      <th>std</th>\n",
       "      <td>249.131496</td>\n",
       "      <td>182.997396</td>\n",
       "      <td>1.758429</td>\n",
       "      <td>212.896712</td>\n",
       "      <td>379.104681</td>\n",
       "      <td>569.450302</td>\n",
       "      <td>721.291007</td>\n",
       "      <td>22.010637</td>\n",
       "      <td>25.725757</td>\n",
       "      <td>40.979630</td>\n",
       "      <td>56.943524</td>\n",
       "      <td>2084.998458</td>\n",
       "      <td>0.0</td>\n",
       "      <td>16142.818184</td>\n",
       "      <td>24.444122</td>\n",
       "      <td>2.484075</td>\n",
       "      <td>80.288645</td>\n",
       "      <td>3.725479</td>\n",
       "      <td>1.760284</td>\n",
       "      <td>48.838501</td>\n",
       "    </tr>\n",
       "    <tr>\n",
       "      <th>min</th>\n",
       "      <td>0.000000</td>\n",
       "      <td>0.018200</td>\n",
       "      <td>2.700000</td>\n",
       "      <td>94.700000</td>\n",
       "      <td>-268.800000</td>\n",
       "      <td>24.000000</td>\n",
       "      <td>80.000000</td>\n",
       "      <td>0.000000</td>\n",
       "      <td>0.000000</td>\n",
       "      <td>56.000000</td>\n",
       "      <td>16.600000</td>\n",
       "      <td>80.000000</td>\n",
       "      <td>5.0</td>\n",
       "      <td>1900.000000</td>\n",
       "      <td>8.000000</td>\n",
       "      <td>1.460000</td>\n",
       "      <td>1.000000</td>\n",
       "      <td>2004.000000</td>\n",
       "      <td>1.400000</td>\n",
       "      <td>72.000000</td>\n",
       "    </tr>\n",
       "    <tr>\n",
       "      <th>25%</th>\n",
       "      <td>193.000000</td>\n",
       "      <td>3.000000</td>\n",
       "      <td>6.700000</td>\n",
       "      <td>319.500000</td>\n",
       "      <td>25.000000</td>\n",
       "      <td>409.500000</td>\n",
       "      <td>678.500000</td>\n",
       "      <td>10.700000</td>\n",
       "      <td>6.000000</td>\n",
       "      <td>143.000000</td>\n",
       "      <td>83.500000</td>\n",
       "      <td>90.000000</td>\n",
       "      <td>5.0</td>\n",
       "      <td>8775.250000</td>\n",
       "      <td>38.750000</td>\n",
       "      <td>6.505000</td>\n",
       "      <td>62.000000</td>\n",
       "      <td>2015.000000</td>\n",
       "      <td>6.900000</td>\n",
       "      <td>110.000000</td>\n",
       "    </tr>\n",
       "    <tr>\n",
       "      <th>50%</th>\n",
       "      <td>386.000000</td>\n",
       "      <td>20.000000</td>\n",
       "      <td>7.400000</td>\n",
       "      <td>479.150000</td>\n",
       "      <td>25.000000</td>\n",
       "      <td>822.000000</td>\n",
       "      <td>1005.000000</td>\n",
       "      <td>27.900000</td>\n",
       "      <td>12.000000</td>\n",
       "      <td>181.000000</td>\n",
       "      <td>99.200000</td>\n",
       "      <td>100.000000</td>\n",
       "      <td>5.0</td>\n",
       "      <td>20683.500000</td>\n",
       "      <td>62.500000</td>\n",
       "      <td>7.781500</td>\n",
       "      <td>134.000000</td>\n",
       "      <td>2018.000000</td>\n",
       "      <td>7.800000</td>\n",
       "      <td>175.500000</td>\n",
       "    </tr>\n",
       "    <tr>\n",
       "      <th>75%</th>\n",
       "      <td>579.000000</td>\n",
       "      <td>92.000000</td>\n",
       "      <td>8.400000</td>\n",
       "      <td>624.750000</td>\n",
       "      <td>300.000000</td>\n",
       "      <td>1260.000000</td>\n",
       "      <td>1459.500000</td>\n",
       "      <td>50.000000</td>\n",
       "      <td>25.000000</td>\n",
       "      <td>198.750000</td>\n",
       "      <td>182.000000</td>\n",
       "      <td>200.000000</td>\n",
       "      <td>5.0</td>\n",
       "      <td>31820.000000</td>\n",
       "      <td>78.000000</td>\n",
       "      <td>8.680000</td>\n",
       "      <td>210.000000</td>\n",
       "      <td>2019.000000</td>\n",
       "      <td>8.500000</td>\n",
       "      <td>210.000000</td>\n",
       "    </tr>\n",
       "    <tr>\n",
       "      <th>max</th>\n",
       "      <td>930.000000</td>\n",
       "      <td>2000.000000</td>\n",
       "      <td>13.800000</td>\n",
       "      <td>1183.000000</td>\n",
       "      <td>1600.000000</td>\n",
       "      <td>3416.000000</td>\n",
       "      <td>4023.600000</td>\n",
       "      <td>105.000000</td>\n",
       "      <td>189.200000</td>\n",
       "      <td>258.000000</td>\n",
       "      <td>240.000000</td>\n",
       "      <td>7946.000000</td>\n",
       "      <td>5.0</td>\n",
       "      <td>36380.000000</td>\n",
       "      <td>114.000000</td>\n",
       "      <td>13.600000</td>\n",
       "      <td>265.000000</td>\n",
       "      <td>2019.000000</td>\n",
       "      <td>13.700000</td>\n",
       "      <td>298.000000</td>\n",
       "    </tr>\n",
       "  </tbody>\n",
       "</table>\n",
       "</div>"
      ],
      "text/plain": [
       "        Unnamed: 0  PROPERTY: grain size ($\\mu$m)  \\\n",
       "count  1545.000000                     237.000000   \n",
       "mean    402.010356                      90.222121   \n",
       "std     249.131496                     182.997396   \n",
       "min       0.000000                       0.018200   \n",
       "25%     193.000000                       3.000000   \n",
       "50%     386.000000                      20.000000   \n",
       "75%     579.000000                      92.000000   \n",
       "max     930.000000                    2000.000000   \n",
       "\n",
       "       PROPERTY: ROM Density (g/cm$^3$)  PROPERTY: HV  \\\n",
       "count                        614.000000    530.000000   \n",
       "mean                           7.763681    478.256792   \n",
       "std                            1.758429    212.896712   \n",
       "min                            2.700000     94.700000   \n",
       "25%                            6.700000    319.500000   \n",
       "50%                            7.400000    479.150000   \n",
       "75%                            8.400000    624.750000   \n",
       "max                           13.800000   1183.000000   \n",
       "\n",
       "       PROPERTY: Test temperature ($^\\circ$C)  PROPERTY: YS (MPa)  \\\n",
       "count                             1364.000000         1067.000000   \n",
       "mean                               228.768182          890.989588   \n",
       "std                                379.104681          569.450302   \n",
       "min                               -268.800000           24.000000   \n",
       "25%                                 25.000000          409.500000   \n",
       "50%                                 25.000000          822.000000   \n",
       "75%                                300.000000         1260.000000   \n",
       "max                               1600.000000         3416.000000   \n",
       "\n",
       "       PROPERTY: UTS (MPa)  PROPERTY: Elongation (%)  \\\n",
       "count           535.000000                619.000000   \n",
       "mean           1184.647383                 30.216688   \n",
       "std             721.291007                 22.010637   \n",
       "min              80.000000                  0.000000   \n",
       "25%             678.500000                 10.700000   \n",
       "50%            1005.000000                 27.900000   \n",
       "75%            1459.500000                 50.000000   \n",
       "max            4023.600000                105.000000   \n",
       "\n",
       "       PROPERTY: Elongation plastic (%)  PROPERTY: ROM Young modulus (GPa)  \\\n",
       "count                        149.000000                         226.000000   \n",
       "mean                          20.272349                         170.163717   \n",
       "std                           25.725757                          40.979630   \n",
       "min                            0.000000                          56.000000   \n",
       "25%                            6.000000                         143.000000   \n",
       "50%                           12.000000                         181.000000   \n",
       "75%                           25.000000                         198.750000   \n",
       "max                          189.200000                         258.000000   \n",
       "\n",
       "       PROPERTY: Exp. Young modulus (GPa)  PROPERTY: O content (wppm)  \\\n",
       "count                          145.000000                   57.000000   \n",
       "mean                           124.972414                  764.000000   \n",
       "std                             56.943524                 2084.998458   \n",
       "min                             16.600000                   80.000000   \n",
       "25%                             83.500000                   90.000000   \n",
       "50%                             99.200000                  100.000000   \n",
       "75%                            182.000000                  200.000000   \n",
       "max                            240.000000                 7946.000000   \n",
       "\n",
       "       PROPERTY: N content (wppm)  PROPERTY: C content (wppm)  \\\n",
       "count                        45.0                    4.000000   \n",
       "mean                          5.0                19911.750000   \n",
       "std                           0.0                16142.818184   \n",
       "min                           5.0                 1900.000000   \n",
       "25%                           5.0                 8775.250000   \n",
       "50%                           5.0                20683.500000   \n",
       "75%                           5.0                31820.000000   \n",
       "max                           5.0                36380.000000   \n",
       "\n",
       "       Internal Reference #  PROPERTY: Exp. Density (g/cm$^3$)  \\\n",
       "count            156.000000                         112.000000   \n",
       "mean              61.698718                           7.639518   \n",
       "std               24.444122                           2.484075   \n",
       "min                8.000000                           1.460000   \n",
       "25%               38.750000                           6.505000   \n",
       "50%               62.500000                           7.781500   \n",
       "75%               78.000000                           8.680000   \n",
       "max              114.000000                          13.600000   \n",
       "\n",
       "       IDENTIFIER: Reference ID  REFERENCE: year  \\\n",
       "count               1545.000000      1545.000000   \n",
       "mean                 134.286084      2016.209061   \n",
       "std                   80.288645         3.725479   \n",
       "min                    1.000000      2004.000000   \n",
       "25%                   62.000000      2015.000000   \n",
       "50%                  134.000000      2018.000000   \n",
       "75%                  210.000000      2019.000000   \n",
       "max                  265.000000      2019.000000   \n",
       "\n",
       "       PROPERTY: Calculated Density (g/cm$^3$)  \\\n",
       "count                              1545.000000   \n",
       "mean                                  7.962071   \n",
       "std                                   1.760284   \n",
       "min                                   1.400000   \n",
       "25%                                   6.900000   \n",
       "50%                                   7.800000   \n",
       "75%                                   8.500000   \n",
       "max                                  13.700000   \n",
       "\n",
       "       PROPERTY: Calculated Young modulus (GPa)  \n",
       "count                                730.000000  \n",
       "mean                                 166.443836  \n",
       "std                                   48.838501  \n",
       "min                                   72.000000  \n",
       "25%                                  110.000000  \n",
       "50%                                  175.500000  \n",
       "75%                                  210.000000  \n",
       "max                                  298.000000  "
      ]
     },
     "execution_count": 20,
     "metadata": {},
     "output_type": "execute_result"
    }
   ],
   "source": [
    "import numpy as np\n",
    "import pandas as pd\n",
    "import os\n",
    "import plotly.express as px\n",
    "import plotly.io as pio\n",
    "import plotly.graph_objects as go\n",
    "from plotly.subplots import make_subplots\n",
    "\n",
    "pio.templates.default = \"simple_white\"\n",
    "\n",
    "# import csv as dataframe\n",
    "df = pd.read_csv(os.path.abspath('stats_and_tables/MPEA_dataset_for_stats.csv'))\n",
    "#df = pd.read_csv(os.path.abspath('MPEA_dataset.csv'))\n",
    "\n",
    "df_rt = df[(df['PROPERTY: Test temperature ($^\\circ$C)'] >= 20) & (df['PROPERTY: Test temperature ($^\\circ$C)'] <= 25)]\n",
    "df.describe()"
   ]
  },
  {
   "cell_type": "code",
   "execution_count": 21,
   "metadata": {},
   "outputs": [
    {
     "name": "stderr",
     "output_type": "stream",
     "text": [
      "/Users/chrisborg/anaconda3/lib/python3.7/site-packages/ipykernel_launcher.py:15: SettingWithCopyWarning:\n",
      "\n",
      "\n",
      "A value is trying to be set on a copy of a slice from a DataFrame.\n",
      "Try using .loc[row_indexer,col_indexer] = value instead\n",
      "\n",
      "See the caveats in the documentation: https://pandas.pydata.org/pandas-docs/stable/user_guide/indexing.html#returning-a-view-versus-a-copy\n",
      "\n"
     ]
    }
   ],
   "source": [
    "df_e = df_rt\n",
    "\n",
    "def apply_neg_elong(row):\n",
    "    \n",
    "    val = row['PROPERTY: Elongation (%)']\n",
    "    \n",
    "    if np.isnan(val):\n",
    "        return val\n",
    "    else:\n",
    "        if row['PROPERTY: Type of test'] == 'C':\n",
    "            return -val\n",
    "        else:\n",
    "            return val\n",
    "\n",
    "df_e['PROPERTY: Elongation (%)'] = df_e.apply(apply_neg_elong, axis=1)\n",
    "df_e_BCC = df_e[df_e['PROPERTY: BCC/FCC/other'] == 'BCC']\n",
    "df_e_FCC = df_e[df_e['PROPERTY: BCC/FCC/other'] == 'FCC']\n",
    "df_e_other = df_e[df_e['PROPERTY: BCC/FCC/other'] == 'other']\n",
    "\n",
    "fig = go.Figure()\n",
    "fig.update_layout(font=dict(family=\"Barlow Semi Condensed\", size=28))\n",
    "fig.update_layout(xaxis_title='Elongation (%)', yaxis_title='Yield Strengh (MPa)', width=1000, height=800)\n",
    "\n",
    "fig.add_trace(go.Scatter(x=[0,0], y=[-100, 4100], line = dict(color='black', width=3, dash='dash'), name=''))\n",
    "\n",
    "fig.add_trace(go.Scatter(x=df_e_other[\"PROPERTY: Elongation (%)\"], y=df_e_other[\"PROPERTY: YS (MPa)\"], \n",
    "                         mode='markers', marker_color='#f50e89', marker_size=8, marker_symbol='circle', name='other', \n",
    "                         hovertext=df_e_other['REFERENCE: doi']\n",
    "                        ))\n",
    "\n",
    "fig.add_trace(go.Scatter(x=df_e_BCC[\"PROPERTY: Elongation (%)\"], y=df_e_BCC[\"PROPERTY: YS (MPa)\"], \n",
    "                         mode='markers', marker_color='#0ef5de', marker_size=8, marker_symbol='diamond', name='BCC',\n",
    "                        hovertext=df_e_BCC['REFERENCE: doi']\n",
    "))\n",
    "\n",
    "fig.add_trace(go.Scatter(x=df_e_FCC[\"PROPERTY: Elongation (%)\"], y=df_e_FCC[\"PROPERTY: YS (MPa)\"], \n",
    "                         mode='markers', marker_color='#f5b80e', marker_size=8, marker_symbol='square', name='FCC',\n",
    "                        hovertext=df_e_FCC['REFERENCE: doi']\n",
    "))\n",
    "fig['layout']['yaxis'].update(range=[0, 3000], autorange=False)\n",
    "\n",
    "fig.update_layout(\n",
    "    annotations=[\n",
    "        dict(\n",
    "            x=-50,\n",
    "            y=2500,\n",
    "            text=\"Compression\",\n",
    "            ax=0,\n",
    "            ay=0\n",
    "        ),\n",
    "         dict(\n",
    "            x=50,\n",
    "            y=2500,\n",
    "            text=\"Tension\",\n",
    "            ax=0,\n",
    "            ay=0\n",
    "        )\n",
    "    ])\n",
    "\n",
    "\n",
    "\n",
    "# fig['layout']['xaxis'].update(range=[-100, 200], autorange=False)\n",
    "fig.write_image(\"figures/ys_scatter.pdf\", scale=1)\n",
    "#fig.show()"
   ]
  },
  {
   "cell_type": "code",
   "execution_count": 22,
   "metadata": {},
   "outputs": [
    {
     "name": "stderr",
     "output_type": "stream",
     "text": [
      "/Users/chrisborg/anaconda3/lib/python3.7/site-packages/ipykernel_launcher.py:38: SettingWithCopyWarning:\n",
      "\n",
      "\n",
      "A value is trying to be set on a copy of a slice from a DataFrame.\n",
      "Try using .loc[row_indexer,col_indexer] = value instead\n",
      "\n",
      "See the caveats in the documentation: https://pandas.pydata.org/pandas-docs/stable/user_guide/indexing.html#returning-a-view-versus-a-copy\n",
      "\n",
      "/Users/chrisborg/anaconda3/lib/python3.7/site-packages/ipykernel_launcher.py:39: SettingWithCopyWarning:\n",
      "\n",
      "\n",
      "A value is trying to be set on a copy of a slice from a DataFrame.\n",
      "Try using .loc[row_indexer,col_indexer] = value instead\n",
      "\n",
      "See the caveats in the documentation: https://pandas.pydata.org/pandas-docs/stable/user_guide/indexing.html#returning-a-view-versus-a-copy\n",
      "\n"
     ]
    }
   ],
   "source": [
    "fig = make_subplots(rows=1, cols=3)\n",
    "\n",
    "y = 'PROPERTY: YS (MPa)'\n",
    "x = 'PROPERTY: Test temperature ($^\\circ$C)'\n",
    "\n",
    "df_ys = df.dropna(subset=[x,y])\n",
    "#df_ys = df[df[x]>0]\n",
    "\n",
    "grey = 'grey'\n",
    "blue = '#0ef5de'\n",
    "yellow = '#f5b80e'\n",
    "magenta = '#f50e89'\n",
    "\n",
    "bcc_marker = dict(color = grey, size = 10, line = dict(color = grey, width = 1), symbol='diamond')\n",
    "bcc_bold_marker = dict(color = blue, size = 10, line = dict(color = blue, width = 1), symbol='diamond')\n",
    "\n",
    "fcc_marker = dict(color = grey, size = 10, line = dict(color = grey, width = 1), symbol='square')\n",
    "fcc_bold_marker = dict(color = '#f5b80e', size = 10, line = dict(color = yellow, width = 1), symbol='square')\n",
    "\n",
    "\n",
    "other_marker = dict(color = grey, size = 10, line = dict(color = grey, width = 1), symbol='circle')\n",
    "other_bold_marker = dict(color = magenta, size = 10, line = dict(color = magenta, width = 1), symbol='circle')\n",
    "        \n",
    "samples = df_ys.groupby(['FORMULA', 'PROPERTY: synthesis method', 'PROPERTY: BCC/FCC/other',  'REFERENCE: doi'])\n",
    "\n",
    "\n",
    "\n",
    "for s in samples:\n",
    "    temps = s[1]['PROPERTY: Test temperature ($^\\circ$C)']\n",
    "    if len(s[1]) > 3 and len(temps.unique()) > 1:\n",
    "        phase = s[1]['PROPERTY: BCC/FCC/other'].values[0]\n",
    "        doi = s[1]['REFERENCE: doi'].values[0]\n",
    "        sm = s[1]['PROPERTY: synthesis method'].values[0]\n",
    "        hovertext=s[1]['FORMULA']\n",
    "\n",
    "        if phase == 'BCC':\n",
    "            if doi == '10.1016/j.msea.2017.10.073' and sm == 'CR':\n",
    "                s[1][x] = s[1][x][::2].dropna().reset_index()\n",
    "                s[1][y] = s[1][y][::2].dropna().reset_index()\n",
    "\n",
    "            fig.add_trace(go.Scatter(x=s[1][x], y=s[1][y], marker=bcc_bold_marker, mode='lines+markers', hovertext=hovertext), row=1, col=1)\n",
    "            fig.add_trace(go.Scatter(x=s[1][x], y=s[1][y], marker=bcc_marker, opacity=0.4, mode='lines+markers', hovertext=hovertext), row=1, col=2)\n",
    "            fig.add_trace(go.Scatter(x=s[1][x], y=s[1][y], marker=bcc_marker, opacity=0.4, mode='lines+markers', hovertext=hovertext), row=1, col=3)\n",
    "            \n",
    "        if phase == 'FCC':\n",
    "            fig.add_trace(go.Scatter(x=s[1][x], y=s[1][y], marker=fcc_bold_marker,  mode='lines+markers', hovertext=hovertext), row=1, col=2)\n",
    "            fig.add_trace(go.Scatter(x=s[1][x], y=s[1][y], marker=fcc_marker, opacity=0.4, mode='lines+markers', hovertext=hovertext), row=1, col=1)\n",
    "            fig.add_trace(go.Scatter(x=s[1][x], y=s[1][y], marker=fcc_marker, opacity=0.4, mode='lines+markers', hovertext=hovertext), row=1, col=3)\n",
    "            \n",
    "        if phase == 'other':\n",
    "            #print(s[0], len(s[1]), temps)\n",
    "\n",
    "            fig.add_trace(go.Scatter(x=s[1][x], y=s[1][y], marker=other_marker, opacity=0.4, mode='lines+markers', hovertext=hovertext), row=1, col=1)\n",
    "            fig.add_trace(go.Scatter(x=s[1][x], y=s[1][y], marker=other_marker, opacity=0.4,  mode='lines+markers', hovertext=hovertext), row=1, col=2)\n",
    "            fig.add_trace(go.Scatter(x=s[1][x], y=s[1][y], marker=other_bold_marker, mode='lines+markers', hovertext=hovertext), row=1, col=3)\n",
    "\n",
    "            \n",
    "for i in [1,2,3]:\n",
    "    fig.update_yaxes(title_text='Yield Strength (MPa)', row=1, col=i)\n",
    "    fig.update_xaxes(title_text='Temperature (°C)', row=1, col=i)\n",
    "    \n",
    "fig.update_layout(\n",
    "    annotations=[\n",
    "        dict(\n",
    "            x=500,\n",
    "            y=2500,\n",
    "            text=\"BCC\",\n",
    "            ax=0,\n",
    "            ay=0,\n",
    "            xref='x1',\n",
    "            yref='y1'\n",
    "        ),\n",
    "         dict(\n",
    "            x=500,\n",
    "            y=2500,\n",
    "            text=\"FCC\",\n",
    "            ax=0,\n",
    "            ay=0,\n",
    "            xref='x2',\n",
    "            yref='y2'\n",
    "        ),\n",
    "         dict(\n",
    "            x=500,\n",
    "            y=2500,\n",
    "            text=\"other\",\n",
    "            ax=0,\n",
    "            ay=0,\n",
    "            xref='x3',\n",
    "            yref='y3'\n",
    "        )\n",
    "    ])\n",
    "\n",
    "fig.update_layout(font=dict(family=\"Barlow Semi Condensed\", size=32)) \n",
    "fig.update_layout(showlegend=False)\n",
    "fig.update_layout(width=2400, height=800)\n",
    "fig.write_image(\"figures/YS_temp.pdf\")\n",
    "fig.write_html(\"figures/YS_temp.html\")\n",
    "\n",
    "#fig.show()"
   ]
  },
  {
   "cell_type": "code",
   "execution_count": 23,
   "metadata": {},
   "outputs": [],
   "source": [
    "# DONUTS\n",
    "\n",
    "def get_totals(df, prop, phase):\n",
    "    df = df[df['PROPERTY: BCC/FCC/other'] == phase]\n",
    "    total = len(df[prop].dropna())\n",
    "    return total\n",
    "\n",
    "\n",
    "phases = ['BCC', 'FCC', 'other']\n",
    "props = ['PROPERTY: YS (MPa)', 'PROPERTY: UTS (MPa)', 'PROPERTY: Elongation (%)', 'PROPERTY: HV']\n",
    "totals = {}\n",
    "for prop in props:\n",
    "    vals = [get_totals(df, prop, phase) for phase in phases]\n",
    "    totals[prop] = vals\n",
    "\n",
    "    labels = phases\n",
    "    values = vals\n",
    "    colors = ['#0ef5de', '#f5b80e', '#f50e89']\n",
    "    prop_name = prop.split(':')[1].split('(')[0].strip()\n",
    "\n",
    "    fig = go.Figure(data=[go.Pie(labels=labels, values=values, hole=.5)])\n",
    "    fig.update_layout(font=dict(family=\"Barlow Semi Condensed\", size=28), title=prop_name) \n",
    "    fig.update_layout(width=500, height=500)\n",
    "    fig.update_traces(hoverinfo='label', textinfo='value', textfont_size=28,\n",
    "                  marker=dict(colors=colors, line=dict(color='#000000', width=2)))\n",
    "    fig.update_layout(annotations=[dict(text=sum(values), x=0.5, y=0.5, font_size=28, showarrow=False)])\n",
    "    fig.write_image(\"figures/{}_donut.pdf\".format(prop_name))\n",
    "    #fig.show()"
   ]
  },
  {
   "cell_type": "code",
   "execution_count": 24,
   "metadata": {},
   "outputs": [
    {
     "name": "stderr",
     "output_type": "stream",
     "text": [
      "/Users/chrisborg/anaconda3/lib/python3.7/site-packages/ipykernel_launcher.py:14: SettingWithCopyWarning:\n",
      "\n",
      "\n",
      "A value is trying to be set on a copy of a slice from a DataFrame.\n",
      "Try using .loc[row_indexer,col_indexer] = value instead\n",
      "\n",
      "See the caveats in the documentation: https://pandas.pydata.org/pandas-docs/stable/user_guide/indexing.html#returning-a-view-versus-a-copy\n",
      "\n"
     ]
    },
    {
     "name": "stdout",
     "output_type": "stream",
     "text": [
      "630\n",
      "['Li', 'B', 'C', 'Mg', 'Al', 'Si', 'Ca', 'Sc', 'Ti', 'V', 'Cr', 'Mn', 'Fe', 'Co', 'Ni', 'Cu', 'Zn', 'Ga', 'Y', 'Zr', 'Nb', 'Mo', 'Pd', 'Ag', 'Sn', 'Nd', 'Hf', 'Ta', 'W', 'Re']\n",
      "435\n"
     ]
    }
   ],
   "source": [
    "# HEATMAP\n",
    "# v2 - https://seaborn.pydata.org/examples/many_pairwise_correlations.html\n",
    "\n",
    "from collections import Counter\n",
    "from pymatgen import Composition\n",
    "from pymatgen.core import periodic_table\n",
    "import itertools\n",
    "\n",
    "\n",
    "df = df.dropna(subset=['FORMULA'])\n",
    "df['composition'] = df['FORMULA'].apply(Composition)\n",
    "df['elements'] = df['FORMULA'].apply(lambda x: Composition(x).elements)\n",
    "df_unique = df.drop_duplicates(subset='composition')\n",
    "df_unique['elements'] = df_unique['FORMULA'].apply(lambda x: [str(i) for i in Composition(x).elements])\n",
    "\n",
    "print(len(df_unique))\n",
    "\n",
    "total_elements = []\n",
    "for i in df_unique['elements']:\n",
    "    total_elements.extend(i)\n",
    "\n",
    "total_counts = Counter(total_elements).most_common()\n",
    "\n",
    "all_elements = sorted(list(set(total_elements)))\n",
    "all_elements = [(x, periodic_table.Element(x).number) for x in all_elements]\n",
    "all_elements = sorted(all_elements, key=lambda e: e[1])\n",
    "all_elements = [x[0] for x in all_elements]\n",
    "\n",
    "print(all_elements)\n",
    "\n",
    "ele_pairs = list(itertools.combinations(all_elements, 2))\n",
    "\n",
    "print(len(ele_pairs))\n",
    "\n",
    "ep_counts = {}\n",
    "for ep in ele_pairs:\n",
    "    count = 0 \n",
    "    for elements in df_unique['elements']:\n",
    "        if ep[0] in elements and ep[1] in elements:\n",
    "            count += 1\n",
    "    ep_counts[ep] = count\n",
    "    \n",
    "x = [i[0] for i in ele_pairs]\n",
    "y = [i[1] for i in ele_pairs]\n",
    "z = [ep_counts[i] for i in ele_pairs]\n",
    "\n",
    "\n",
    "fig = go.Figure(data=go.Heatmap(z=z, x=x, y=y, hoverongaps = False, colorscale = 'Cividis'))\n",
    "fig.update_layout(width=1000, height=1000)\n",
    "fig.update_layout(font=dict(family=\"Barlow Semi Condensed\", size=18))\n",
    "\n",
    "fig.update_layout(annotations=[dict(\n",
    "    x=1.18, \n",
    "    align=\"right\", \n",
    "    valign=\"top\", \n",
    "    text='Number of records containing both elements', \n",
    "    showarrow=False, \n",
    "    xref=\"paper\", \n",
    "    yref=\"paper\", \n",
    "    xanchor=\"right\",\n",
    "    yanchor=\"middle\",\n",
    "    textangle=90)])\n",
    "\n",
    "lines = go.Scatter(x=[0, 0.5, 1], y=[0, 0.5, 1], mode='lines', line_color='black', line_width=2.5)\n",
    "\n",
    "\n",
    "#fig.show()\n",
    "fig.write_image(\"figures/heatmap.png\")\n",
    "\n",
    "\n",
    "# fig = px.bar(x=[i[0] for i in total_counts], y=[i[1] for i in total_counts])\n",
    "# fig.update_layout(font=dict(family=\"Barlow Semi Condensed\", size=14))\n",
    "# fig.update_layout(width=1000, height=1000)\n",
    "# #fig.show()"
   ]
  },
  {
   "cell_type": "code",
   "execution_count": 37,
   "metadata": {},
   "outputs": [
    {
     "data": {
      "application/vnd.plotly.v1+json": {
       "config": {
        "plotlyServerURL": "https://plot.ly"
       },
       "data": [
        {
         "alignmentgroup": "True",
         "boxpoints": "all",
         "customdata": [
          [
           "10.1016/j.jmmm.2014.07.023"
          ],
          [
           "10.1016/j.jmmm.2014.07.023"
          ],
          [
           "10.1016/j.jmmm.2014.07.023"
          ],
          [
           "10.1016/j.jmmm.2014.07.023"
          ],
          [
           "10.1016/j.jmmm.2014.07.023"
          ],
          [
           "10.1016/j.jmmm.2014.07.023"
          ],
          [
           "10.1016/j.jmmm.2014.07.023"
          ],
          [
           "10.1016/j.jmmm.2014.07.023"
          ],
          [
           "10.1016/j.jmmm.2014.07.023"
          ],
          [
           "10.1016/j.actamat.2014.08.026"
          ],
          [
           "10.1016/j.actamat.2014.08.026"
          ],
          [
           "10.1016/j.actamat.2014.08.026"
          ],
          [
           "10.1016/j.actamat.2014.08.026"
          ],
          [
           "10.1016/j.actamat.2014.08.026"
          ],
          [
           "10.1016/j.actamat.2014.08.026"
          ],
          [
           "10.1016/j.actamat.2014.08.026"
          ],
          [
           "10.1016/j.intermet.2015.01.004"
          ],
          [
           "10.1016/j.intermet.2015.01.004"
          ],
          [
           "10.1016/j.intermet.2015.01.004"
          ],
          [
           "10.1016/j.intermet.2015.01.004"
          ],
          [
           "10.1016/j.intermet.2015.01.004"
          ],
          [
           "10.1016/j.intermet.2015.01.004"
          ],
          [
           "10.1016/j.jallcom.2009.08.090"
          ],
          [
           "10.1016/j.jallcom.2009.08.090"
          ],
          [
           "10.1016/j.jallcom.2009.08.090"
          ],
          [
           "10.1016/j.jallcom.2009.08.090"
          ],
          [
           "10.1016/j.jallcom.2009.08.090"
          ],
          [
           "10.1016/j.jallcom.2009.08.090"
          ],
          [
           "10.1016/j.jallcom.2009.08.090"
          ],
          [
           "10.1016/j.jallcom.2009.08.090"
          ],
          [
           "10.1016/j.jallcom.2009.08.090"
          ],
          [
           "10.1016/j.jallcom.2009.08.090"
          ],
          [
           "10.1016/j.jallcom.2009.08.090"
          ],
          [
           "10.1016/j.jallcom.2009.08.090"
          ],
          [
           "10.1016/j.jallcom.2009.08.090"
          ],
          [
           "10.1016/j.jallcom.2009.08.090"
          ],
          [
           "10.1016/j.jallcom.2009.08.090"
          ],
          [
           "10.1016/j.jallcom.2009.08.090"
          ],
          [
           "10.1016/j.jallcom.2009.08.090"
          ],
          [
           "10.1016/j.jallcom.2009.08.090"
          ],
          [
           "10.1016/j.jallcom.2009.08.090"
          ],
          [
           "10.1016/j.jallcom.2009.08.090"
          ],
          [
           "10.1007/s11837-013-0753-6"
          ],
          [
           "10.1007/s11837-013-0753-6"
          ],
          [
           "10.1007/s11837-013-0753-6"
          ],
          [
           "10.1007/s11837-013-0753-6"
          ],
          [
           "10.1007/s11837-013-0753-6"
          ],
          [
           "10.1016/j.msea.2008.12.053"
          ],
          [
           "10.1016/j.msea.2008.12.053"
          ],
          [
           "10.1016/j.msea.2008.12.053"
          ],
          [
           "10.1016/j.msea.2008.12.053"
          ],
          [
           "10.1016/j.msea.2008.12.053"
          ],
          [
           "10.1016/j.actamat.2011.06.041"
          ],
          [
           "10.1016/j.actamat.2011.06.041"
          ],
          [
           "10.1016/j.actamat.2011.06.041"
          ],
          [
           "10.1016/j.actamat.2011.06.041"
          ],
          [
           "10.1016/j.matdes.2013.04.061"
          ],
          [
           "10.1016/C2013-0-14235-3"
          ],
          [
           "10.1016/j.jallcom.2008.07.124"
          ],
          [
           "10.1016/j.jallcom.2008.07.124"
          ],
          [
           "10.1016/j.jallcom.2008.07.124"
          ],
          [
           "10.1016/j.jallcom.2008.07.124"
          ],
          [
           "10.1016/j.jallcom.2008.07.124"
          ],
          [
           "10.1016/j.jallcom.2008.07.124"
          ],
          [
           "10.1016/j.jallcom.2008.07.124"
          ],
          [
           "10.1016/j.jallcom.2008.07.124"
          ],
          [
           "10.1016/j.jallcom.2008.07.124"
          ],
          [
           "10.1016/j.msea.2008.01.064"
          ],
          [
           "10.1016/j.jallcom.2010.10.047"
          ],
          [
           "10.1016/j.jallcom.2010.10.047"
          ],
          [
           "10.1016/j.jallcom.2010.10.047"
          ],
          [
           "10.1016/j.jallcom.2010.10.047"
          ],
          [
           "10.1016/j.jallcom.2010.10.047"
          ],
          [
           "10.1016/j.jallcom.2010.10.047"
          ],
          [
           "10.1016/j.jallcom.2010.10.047"
          ],
          [
           "10.1016/j.jallcom.2010.10.047"
          ],
          [
           "10.1016/j.msea.2010.07.028"
          ],
          [
           "10.1016/j.msea.2010.07.028"
          ],
          [
           "10.1016/j.msea.2010.07.028"
          ],
          [
           "10.1016/j.msea.2010.07.028"
          ],
          [
           "10.1016/j.msea.2010.07.028"
          ],
          [
           "10.1016/j.msea.2010.07.028"
          ],
          [
           "10.1016/j.msea.2011.10.110"
          ],
          [
           "10.1016/j.msea.2011.10.110"
          ],
          [
           "10.1016/j.msea.2011.10.110"
          ],
          [
           "10.1016/j.msea.2011.10.110"
          ],
          [
           "10.1016/j.msea.2011.10.110"
          ],
          [
           "10.1002/adem.200900171"
          ],
          [
           "10.1002/adem.200900171"
          ],
          [
           "10.1002/adem.200900171"
          ],
          [
           "10.1002/adem.200900171"
          ],
          [
           "10.1002/adem.200900171"
          ],
          [
           "10.1016/j.wear.2009.10.013"
          ],
          [
           "10.1016/j.wear.2009.10.013"
          ],
          [
           "10.1016/j.wear.2009.10.013"
          ],
          [
           "10.1016/j.wear.2009.10.013"
          ],
          [
           "10.1016/j.intermet.2012.09.008"
          ],
          [
           "10.1016/j.intermet.2012.09.008"
          ],
          [
           "10.1016/j.intermet.2012.09.008"
          ],
          [
           "10.1016/j.intermet.2012.09.008"
          ],
          [
           "10.1016/j.intermet.2012.09.008"
          ],
          [
           "10.1016/j.msea.2010.07.049"
          ],
          [
           "10.1016/j.msea.2010.07.049"
          ],
          [
           "10.1016/j.msea.2010.07.049"
          ],
          [
           "10.1016/j.msea.2010.07.049"
          ],
          [
           "10.1016/j.msea.2010.07.049"
          ],
          [
           "10.1016/j.msea.2010.07.049"
          ],
          [
           "10.1016/j.jallcom.2008.11.059"
          ],
          [
           "10.1016/j.jallcom.2008.11.059"
          ],
          [
           "10.1016/j.jallcom.2008.11.059"
          ],
          [
           "10.1016/j.jallcom.2008.11.059"
          ],
          [
           "10.1016/j.jallcom.2008.11.059"
          ],
          [
           "10.1063/1.2734517"
          ],
          [
           "10.1063/1.2734517"
          ],
          [
           "10.1063/1.2734517"
          ],
          [
           "10.1002/adem.200300567"
          ],
          [
           "10.1002/adem.200300567"
          ],
          [
           "10.1002/adem.200300567"
          ],
          [
           "10.1002/adem.200300567"
          ],
          [
           "10.1002/adem.200300567"
          ],
          [
           "10.1002/adem.200300567"
          ],
          [
           "10.1002/adem.200300567"
          ],
          [
           "10.1002/adem.200300567"
          ],
          [
           "10.1002/adem.200300567"
          ],
          [
           "10.1016/j.actamat.2013.09.037"
          ],
          [
           "10.1016/j.actamat.2013.09.037"
          ],
          [
           "10.1016/j.actamat.2013.09.037"
          ],
          [
           "10.1016/j.actamat.2013.09.037"
          ],
          [
           "10.1016/j.actamat.2013.09.037"
          ],
          [
           "10.1016/j.actamat.2013.09.037"
          ],
          [
           "10.1016/j.actamat.2013.09.037"
          ],
          [
           "10.1016/j.actamat.2013.09.037"
          ],
          [
           "10.1016/j.actamat.2013.09.037"
          ],
          [
           "10.1016/j.actamat.2013.09.037"
          ],
          [
           "10.1016/j.actamat.2013.09.037"
          ],
          [
           "10.1016/j.actamat.2013.09.037"
          ],
          [
           "10.1016/j.actamat.2013.09.037"
          ],
          [
           "10.1016/j.actamat.2013.09.037"
          ],
          [
           "10.1016/j.jallcom.2014.12.157"
          ],
          [
           "10.1016/j.jallcom.2014.12.157"
          ],
          [
           "10.1016/j.jallcom.2014.12.157"
          ],
          [
           "10.1016/j.jallcom.2014.12.157"
          ],
          [
           "10.1016/j.jallcom.2014.12.157"
          ],
          [
           "10.1016/j.jallcom.2014.12.157"
          ],
          [
           "10.1016/j.jallcom.2014.12.157"
          ],
          [
           "10.1016/j.jallcom.2014.12.157"
          ],
          [
           "10.1016/j.jallcom.2014.12.157"
          ],
          [
           "10.1016/j.jallcom.2014.12.157"
          ],
          [
           "10.1016/j.msea.2010.05.052"
          ],
          [
           "10.1016/j.msea.2010.05.052"
          ],
          [
           "10.1016/j.jallcom.2013.03.253"
          ],
          [
           "10.1016/j.jallcom.2013.03.253"
          ],
          [
           "10.1016/j.jallcom.2013.03.253"
          ],
          [
           "10.1016/j.jallcom.2013.03.253"
          ],
          [
           "10.1016/j.jallcom.2013.03.253"
          ],
          [
           "10.3166/acsm.31.633-648"
          ],
          [
           "10.3166/acsm.31.633-648"
          ],
          [
           "10.3166/acsm.31.633-648"
          ],
          [
           "10.3166/acsm.31.633-648"
          ],
          [
           "10.3166/acsm.31.633-648"
          ],
          [
           "10.3166/acsm.31.633-648"
          ],
          [
           "10.3166/acsm.31.633-648"
          ],
          [
           "10.3166/acsm.31.633-648"
          ],
          [
           "10.3166/acsm.31.633-648"
          ],
          [
           "10.3166/acsm.31.633-648"
          ],
          [
           "10.3166/acsm.31.633-648"
          ],
          [
           "10.3166/acsm.31.633-648"
          ],
          [
           "10.3166/acsm.31.633-648"
          ],
          [
           "10.1016/j.intermet.2010.03.030"
          ],
          [
           "10.1016/j.intermet.2006.08.005"
          ],
          [
           "10.1016/j.intermet.2006.08.005"
          ],
          [
           "10.1016/j.intermet.2006.08.005"
          ],
          [
           "10.1149/1.2744133"
          ],
          [
           "10.1149/1.2744133"
          ],
          [
           "10.1149/1.2744133"
          ],
          [
           "10.1149/1.2744133"
          ],
          [
           "10.2320/matertrans.47.1395"
          ],
          [
           "10.2320/matertrans.47.1395"
          ],
          [
           "10.2320/matertrans.47.1395"
          ],
          [
           "10.2320/matertrans.47.1395"
          ],
          [
           "10.2320/matertrans.47.1395"
          ],
          [
           "10.2320/matertrans.47.1395"
          ],
          [
           "10.2320/matertrans.47.1395"
          ],
          [
           "10.2320/matertrans.47.1395"
          ],
          [
           "10.2320/matertrans.47.1395"
          ],
          [
           "10.2320/matertrans.47.1395"
          ],
          [
           "10.2320/matertrans.47.1395"
          ],
          [
           "10.1007/s11661-006-0081-3"
          ],
          [
           "10.1007/s11661-006-0081-3"
          ],
          [
           "10.1007/s11661-006-0081-3"
          ],
          [
           "10.1007/s11661-006-0081-3"
          ],
          [
           "10.1007/s11661-006-0081-3"
          ],
          [
           "10.1007/s11661-006-0081-3"
          ],
          [
           "10.1007/s11661-006-0081-3"
          ],
          [
           "10.1007/s11661-006-0081-3"
          ],
          [
           "10.1007/s11661-006-0081-3"
          ],
          [
           "10.1007/s11661-006-0081-3"
          ],
          [
           "10.1007/s11661-006-0081-3"
          ],
          [
           "10.1016/j.msea.2012.07.003"
          ],
          [
           "10.1016/j.msea.2012.07.003"
          ],
          [
           "10.1016/j.msea.2012.07.003"
          ],
          [
           "10.1016/j.msea.2012.07.003"
          ],
          [
           "10.1016/j.msea.2012.07.003"
          ],
          [
           "10.1016/j.msea.2012.07.003"
          ],
          [
           "10.1016/j.msea.2008.08.025"
          ],
          [
           "10.1016/j.msea.2008.08.025"
          ],
          [
           "10.1016/j.msea.2008.08.025"
          ],
          [
           "10.1016/j.msea.2008.08.025"
          ],
          [
           "10.1016/j.matdes.2009.09.016"
          ],
          [
           "10.1016/j.matdes.2009.09.016"
          ],
          [
           "10.1016/j.matdes.2009.09.016"
          ],
          [
           "10.1016/j.matdes.2009.09.016"
          ],
          [
           "10.1016/j.msea.2012.03.080"
          ],
          [
           "10.1016/j.msea.2012.03.080"
          ],
          [
           "10.1016/j.msea.2012.03.080"
          ],
          [
           "10.1016/j.msea.2012.03.080"
          ],
          [
           "10.1016/j.msea.2012.03.080"
          ],
          [
           "10.1016/j.msea.2012.03.080"
          ],
          [
           "10.1016/j.msea.2012.03.080"
          ],
          [
           "10.1016/j.msea.2012.03.080"
          ],
          [
           "10.1016/j.matdes.2012.08.019"
          ],
          [
           "10.1016/j.matdes.2012.08.019"
          ],
          [
           "10.1016/j.matdes.2012.08.019"
          ],
          [
           "10.1016/j.matdes.2012.08.019"
          ],
          [
           "10.1016/j.matdes.2012.08.019"
          ],
          [
           "10.1016/j.matdes.2012.08.019"
          ],
          [
           "10.1016/j.msea.2011.11.063"
          ],
          [
           "10.1016/j.msea.2011.11.063"
          ],
          [
           "10.1016/j.msea.2011.11.063"
          ],
          [
           "10.1016/j.msea.2011.11.063"
          ],
          [
           "10.1016/j.msea.2011.11.063"
          ],
          [
           "10.1016/j.msea.2011.11.063"
          ],
          [
           "10.1063/1.3587228"
          ],
          [
           "10.1063/1.3587228"
          ],
          [
           "10.1063/1.3587228"
          ],
          [
           "10.1063/1.3587228"
          ],
          [
           "10.1063/1.3587228"
          ],
          [
           "10.1063/1.3587228"
          ],
          [
           "10.1016/j.jallcom.2011.02.108"
          ],
          [
           "10.1016/j.apsusc.2015.07.207"
          ],
          [
           "10.1016/j.apsusc.2015.07.207"
          ],
          [
           "10.1016/j.apsusc.2015.07.207"
          ],
          [
           "10.1016/j.apsusc.2015.07.207"
          ],
          [
           "10.1007/s11837-015-1402-z"
          ],
          [
           "10.1007/s11837-015-1402-z"
          ],
          [
           "10.1007/s11837-015-1402-z"
          ],
          [
           "10.1007/s11837-015-1402-z"
          ],
          [
           "10.1007/s11837-015-1402-z"
          ],
          [
           "10.1007/s11837-015-1402-z"
          ],
          [
           "10.1080/21663831.2014.985855"
          ],
          [
           "10.1007/s11837-014-1066-0"
          ],
          [
           "10.1007/s11837-014-1066-0"
          ],
          [
           "10.1007/s11837-014-1066-0"
          ],
          [
           "10.1007/s11837-014-1066-0"
          ],
          [
           "10.1007/s11837-014-1066-0"
          ],
          [
           "10.1007/s11837-014-1066-0"
          ],
          [
           "10.1007/s11837-014-1066-0"
          ],
          [
           "10.1007/s11837-014-1066-0"
          ],
          [
           "10.1007/s11837-014-1066-0"
          ],
          [
           "10.1007/s11837-014-1066-0"
          ],
          [
           "10.1007/s11837-014-1066-0"
          ],
          [
           "10.1007/s11837-014-1066-0"
          ],
          [
           "10.1007/s11837-014-1066-0"
          ],
          [
           "10.1007/s11837-014-1066-0"
          ],
          [
           "10.1007/s11837-014-1066-0"
          ],
          [
           "10.1007/s11837-014-1066-0"
          ],
          [
           "10.1007/s11837-014-1066-0"
          ],
          [
           "10.1007/s11837-014-1066-0"
          ],
          [
           "10.1007/s11837-014-1066-0"
          ],
          [
           "10.1016/j.jallcom.2014.11.064"
          ],
          [
           "10.1016/j.jallcom.2014.11.064"
          ],
          [
           "10.1016/j.jallcom.2014.11.064"
          ],
          [
           "10.1016/j.jallcom.2014.11.064"
          ],
          [
           "10.1016/j.jallcom.2014.11.064"
          ],
          [
           "10.3390/e16020870"
          ],
          [
           "10.3390/e16020870"
          ],
          [
           "10.3390/e16020870"
          ],
          [
           "10.3390/e16020870"
          ],
          [
           "10.3390/e16020870"
          ],
          [
           "10.1016/j.proeng.2012.03.043"
          ],
          [
           "10.1016/j.proeng.2012.03.043"
          ],
          [
           "10.1016/j.proeng.2012.03.043"
          ],
          [
           "10.1016/j.proeng.2012.03.043"
          ],
          [
           "10.1016/j.matlet.2014.11.162"
          ],
          [
           "10.1016/j.matlet.2014.11.162"
          ],
          [
           "10.1016/j.matlet.2014.11.162"
          ],
          [
           "10.1016/j.matlet.2014.11.162"
          ],
          [
           "10.1016/j.msea.2011.09.033"
          ],
          [
           "10.1016/j.msea.2011.09.033"
          ],
          [
           "10.1016/j.msea.2011.09.033"
          ],
          [
           "10.1016/j.msea.2011.09.033"
          ],
          [
           "10.1016/j.msea.2012.12.018"
          ],
          [
           "10.1016/j.msea.2012.12.018"
          ],
          [
           "10.1016/j.msea.2012.12.018"
          ],
          [
           "10.1016/j.msea.2012.12.018"
          ],
          [
           "10.1016/j.msea.2012.12.018"
          ],
          [
           "10.1016/j.msea.2012.12.018"
          ],
          [
           "10.1016/j.msea.2012.12.018"
          ],
          [
           "10.1016/j.msea.2012.12.018"
          ],
          [
           "10.1016/j.msea.2012.12.018"
          ],
          [
           "10.1016/j.msea.2012.12.018"
          ],
          [
           "10.1016/j.msea.2012.12.018"
          ],
          [
           "10.1016/j.msea.2012.12.018"
          ],
          [
           "10.1016/j.msea.2012.12.018"
          ],
          [
           "10.1016/j.msea.2012.12.018"
          ],
          [
           "10.1016/j.msea.2012.12.018"
          ],
          [
           "10.1016/j.msea.2012.12.018"
          ],
          [
           "10.1016/j.intermet.2015.09.011"
          ],
          [
           "10.1016/j.intermet.2015.09.011"
          ],
          [
           "10.1016/j.intermet.2015.09.011"
          ],
          [
           "10.1016/j.matlet.2016.03.133"
          ],
          [
           "10.1016/j.matlet.2016.03.133"
          ],
          [
           "10.1016/j.matlet.2016.03.133"
          ],
          [
           "10.1016/j.matlet.2016.03.133"
          ],
          [
           "10.1016/j.matlet.2016.03.133"
          ],
          [
           "10.1016/j.intermet.2015.03.013"
          ],
          [
           "10.1016/j.intermet.2015.03.013"
          ],
          [
           "10.1016/j.intermet.2015.03.013"
          ],
          [
           "10.1016/j.intermet.2015.03.013"
          ],
          [
           "10.1016/j.intermet.2015.03.013"
          ],
          [
           "10.1016/j.intermet.2015.03.013"
          ],
          [
           "10.1016/j.intermet.2015.03.013"
          ],
          [
           "10.1016/j.intermet.2015.03.013"
          ],
          [
           "10.1016/j.matdes.2015.05.019"
          ],
          [
           "10.1016/j.matdes.2015.05.019"
          ],
          [
           "10.1016/j.matdes.2015.05.019"
          ],
          [
           "10.1016/j.matdes.2015.05.019"
          ],
          [
           "10.1016/j.matdes.2015.05.019"
          ],
          [
           "10.1016/j.matlet.2016.03.092"
          ],
          [
           "10.1016/j.matlet.2016.03.092"
          ],
          [
           "10.1016/j.matlet.2016.03.092"
          ],
          [
           "10.1063/1.4966659"
          ],
          [
           "10.1007/s10853-012-6260-2"
          ],
          [
           "10.1007/s10853-012-6260-2"
          ],
          [
           "10.1007/s10853-012-6260-2"
          ],
          [
           "10.1007/s10853-012-6260-2"
          ],
          [
           "10.1007/s10853-012-6260-2"
          ],
          [
           "10.1007/s10853-012-6260-2"
          ],
          [
           "10.1016/j.matlet.2014.05.134"
          ],
          [
           "10.3390/e18050189"
          ],
          [
           "10.1016/j.intermet.2011.01.004"
          ],
          [
           "10.1016/j.intermet.2011.01.004"
          ],
          [
           "10.1016/j.intermet.2011.01.004"
          ],
          [
           "10.1016/j.intermet.2011.01.004"
          ],
          [
           "10.1016/j.intermet.2011.01.004"
          ],
          [
           "10.1016/j.intermet.2011.01.004"
          ],
          [
           "10.1016/j.intermet.2011.01.004"
          ],
          [
           "10.1016/j.intermet.2011.01.004"
          ],
          [
           "10.1016/j.intermet.2011.01.004"
          ],
          [
           "10.1016/j.intermet.2011.01.004"
          ],
          [
           "10.1016/j.intermet.2011.01.004"
          ],
          [
           "10.1016/j.intermet.2011.01.004"
          ],
          [
           "10.1016/j.intermet.2011.01.004"
          ],
          [
           "10.1016/j.intermet.2011.01.004"
          ],
          [
           "10.1016/j.matdes.2015.06.072"
          ],
          [
           "10.1016/j.matdes.2015.06.072"
          ],
          [
           "10.1016/j.matdes.2015.06.072"
          ],
          [
           "10.1016/j.matdes.2015.06.072"
          ],
          [
           "10.1016/j.matdes.2015.06.072"
          ],
          [
           "10.1016/j.matdes.2015.06.072"
          ],
          [
           "10.1016/j.matdes.2015.06.072"
          ],
          [
           "10.1016/j.matdes.2015.06.072"
          ],
          [
           "10.1016/j.matdes.2015.06.072"
          ],
          [
           "10.1016/j.matdes.2015.06.072"
          ],
          [
           "10.1016/j.matdes.2015.06.072"
          ],
          [
           "10.1016/j.matdes.2015.06.072"
          ],
          [
           "10.1016/j.matdes.2015.06.072"
          ],
          [
           "10.1016/j.matdes.2015.06.072"
          ],
          [
           "10.1016/j.matdes.2015.06.072"
          ],
          [
           "10.1016/j.matdes.2015.06.072"
          ],
          [
           "10.1016/j.matdes.2015.06.072"
          ],
          [
           "10.1007/s11837-012-0366-5"
          ],
          [
           "10.1007/s11837-012-0366-5"
          ],
          [
           "10.1007/s11837-012-0366-5"
          ],
          [
           "10.1007/s11837-012-0366-5"
          ],
          [
           "10.1007/s11837-012-0366-5"
          ],
          [
           "10.1007/s11837-012-0366-5"
          ],
          [
           "10.1007/s11837-012-0366-5"
          ],
          [
           "10.1007/s11837-012-0366-5"
          ],
          [
           "10.1016/j.jallcom.2015.07.185"
          ],
          [
           "10.1016/j.jallcom.2015.07.185"
          ],
          [
           "10.1016/j.jallcom.2015.07.185"
          ],
          [
           "10.1016/j.jallcom.2015.07.185"
          ],
          [
           "10.1016/j.jallcom.2015.07.185"
          ],
          [
           "10.1016/j.jallcom.2015.07.185"
          ],
          [
           "10.1016/j.jallcom.2015.07.185"
          ],
          [
           "10.1016/j.jallcom.2015.07.185"
          ],
          [
           "10.1016/j.jallcom.2015.07.185"
          ],
          [
           "10.1016/j.jallcom.2015.07.185"
          ],
          [
           "10.1016/j.jallcom.2015.07.185"
          ],
          [
           "10.1016/j.msea.2006.11.049"
          ],
          [
           "10.1016/j.msea.2006.11.049"
          ],
          [
           "10.1016/j.msea.2006.11.049"
          ],
          [
           "10.1016/j.msea.2006.11.049"
          ],
          [
           "10.1016/j.jallcom.2015.07.285"
          ],
          [
           "10.1016/j.jallcom.2015.07.285"
          ],
          [
           "10.1016/j.jallcom.2015.07.285"
          ],
          [
           "10.1016/j.jallcom.2015.07.285"
          ],
          [
           "10.1016/j.jallcom.2015.07.285"
          ],
          [
           "10.1016/j.jallcom.2015.07.285"
          ],
          [
           "10.1007/s11661-005-0218-9"
          ],
          [
           "10.1007/s11661-005-0218-9"
          ],
          [
           "10.1007/s11661-005-0218-9"
          ],
          [
           "10.1007/s11661-005-0218-9"
          ],
          [
           "10.1007/s11661-005-0218-9"
          ],
          [
           "10.1007/s11661-005-0218-9"
          ],
          [
           "10.1007/s11661-005-0218-9"
          ],
          [
           "10.1007/s11661-005-0218-9"
          ],
          [
           "10.1007/s11661-005-0218-9"
          ],
          [
           "10.1007/s11661-005-0218-9"
          ],
          [
           "10.1007/s11661-005-0218-9"
          ],
          [
           "10.1007/s11661-005-0218-9"
          ],
          [
           "10.1007/s11661-005-0218-9"
          ],
          [
           "10.1007/s11661-005-0218-9"
          ],
          [
           "10.1007/s11661-005-0218-9"
          ],
          [
           "10.1007/s11661-005-0218-9"
          ],
          [
           "10.1007/s11661-005-0218-9"
          ],
          [
           "10.1007/s11661-005-0218-9"
          ],
          [
           "10.1007/s11661-005-0218-9"
          ],
          [
           "10.1007/s11661-005-0218-9"
          ],
          [
           "10.1007/s11661-005-0218-9"
          ],
          [
           "10.1016/j.jallcom.2015.11.050"
          ],
          [
           "10.1016/j.jallcom.2015.11.050"
          ],
          [
           "10.1016/j.jallcom.2015.11.050"
          ],
          [
           "10.1016/j.jallcom.2015.11.050"
          ],
          [
           "10.1016/j.jallcom.2015.11.050"
          ],
          [
           "10.1016/j.jallcom.2015.11.050"
          ],
          [
           "10.1007/s11661-017-4386-1"
          ],
          [
           "10.1007/s11661-017-4386-1"
          ],
          [
           "10.1007/s11661-017-4386-1"
          ],
          [
           "10.1007/s11661-017-4386-1"
          ],
          [
           "10.1007/s11661-017-4386-1"
          ],
          [
           "10.1007/s11661-017-4386-1"
          ],
          [
           "10.1007/s11661-017-4386-1"
          ],
          [
           "10.1007/s11661-017-4386-1"
          ],
          [
           "10.1007/s11661-017-4386-1"
          ],
          [
           "10.1007/s11661-017-4386-1"
          ],
          [
           "10.1007/s11661-017-4386-1"
          ],
          [
           "10.1007/s11661-017-4386-1"
          ],
          [
           "10.1007/s11661-017-4386-1"
          ],
          [
           "10.1016/j.msea.2017.08.019"
          ],
          [
           "10.1016/j.msea.2017.08.019"
          ],
          [
           "10.1016/j.msea.2017.08.019"
          ],
          [
           "10.1016/j.msea.2017.08.019"
          ],
          [
           "10.1016/j.msea.2017.08.019"
          ],
          [
           "10.1016/j.msea.2017.08.019"
          ],
          [
           "10.1016/j.msea.2017.08.019"
          ],
          [
           "10.1016/j.msea.2017.08.019"
          ],
          [
           "10.1016/j.msea.2017.08.019"
          ],
          [
           "10.1016/j.msea.2017.08.019"
          ],
          [
           "10.1016/j.msea.2017.08.019"
          ],
          [
           "10.1016/j.msea.2017.08.019"
          ],
          [
           "10.1016/j.msea.2017.08.019"
          ],
          [
           "10.1016/j.msea.2017.08.019"
          ],
          [
           "10.1016/j.msea.2017.08.019"
          ],
          [
           "10.1016/j.msea.2017.08.019"
          ],
          [
           "10.1016/j.msea.2017.08.019"
          ],
          [
           "10.1016/j.msea.2017.08.019"
          ],
          [
           "10.1007/s11665-017-2799-z"
          ],
          [
           "10.1007/s11665-017-2799-z"
          ],
          [
           "10.1007/s11665-017-2799-z"
          ],
          [
           "10.1007/s11665-017-2799-z"
          ],
          [
           "10.1007/s11665-017-2799-z"
          ],
          [
           "10.1016/j.ijrmhm.2014.07.009"
          ],
          [
           "10.1016/j.ijrmhm.2014.07.009"
          ],
          [
           "10.1016/j.ijrmhm.2014.07.009"
          ],
          [
           "10.1016/j.ijrmhm.2014.07.009"
          ],
          [
           "10.1016/j.ijrmhm.2014.07.009"
          ],
          [
           "10.1016/j.ijrmhm.2014.07.009"
          ],
          [
           "10.1016/j.ijrmhm.2014.07.009"
          ],
          [
           "10.1016/j.ijrmhm.2014.07.009"
          ],
          [
           "10.1016/j.ijrmhm.2014.07.009"
          ],
          [
           "10.1016/j.ijrmhm.2014.07.009"
          ],
          [
           "10.1016/j.matchemphys.2017.06.054"
          ],
          [
           "10.1016/j.matchemphys.2017.06.054"
          ],
          [
           "10.1016/j.matchemphys.2017.06.054"
          ],
          [
           "10.1016/j.matchemphys.2017.06.054"
          ],
          [
           "10.1016/j.matchemphys.2017.06.054"
          ],
          [
           "10.1016/j.matchemphys.2017.06.054"
          ],
          [
           "10.1080/14786435.2015.1028506"
          ],
          [
           "10.1080/14786435.2015.1028506"
          ],
          [
           "10.1080/14786435.2015.1028506"
          ],
          [
           "10.1080/14786435.2015.1028506"
          ],
          [
           "10.1080/14786435.2015.1028506"
          ],
          [
           "10.1016/j.jallcom.2015.11.091"
          ],
          [
           "10.1016/j.jallcom.2015.11.091"
          ],
          [
           "10.1016/j.jallcom.2015.11.091"
          ],
          [
           "10.1016/j.jallcom.2015.11.091"
          ],
          [
           "10.1016/j.jallcom.2015.11.091"
          ],
          [
           "10.1016/j.jallcom.2015.11.091"
          ],
          [
           "10.1016/j.msea.2017.10.073"
          ],
          [
           "10.1016/j.msea.2017.10.073"
          ],
          [
           "10.1016/j.msea.2017.10.073"
          ],
          [
           "10.1016/j.msea.2017.10.073"
          ],
          [
           "10.1016/j.msea.2017.10.073"
          ],
          [
           "10.1016/j.msea.2017.10.073"
          ],
          [
           "10.1016/j.msea.2017.10.073"
          ],
          [
           "10.1016/j.msea.2017.10.073"
          ],
          [
           "10.1016/j.msea.2017.10.073"
          ],
          [
           "10.1016/j.msea.2017.10.073"
          ],
          [
           "10.1016/j.msea.2017.10.073"
          ],
          [
           "10.1016/j.msea.2017.10.073"
          ],
          [
           "10.1016/j.msea.2017.10.073"
          ],
          [
           "10.1016/j.msea.2017.10.073"
          ],
          [
           "10.1016/j.msea.2017.10.073"
          ],
          [
           "10.1016/j.msea.2017.10.073"
          ],
          [
           "10.1016/j.msea.2017.10.073"
          ],
          [
           "10.1016/j.msea.2017.10.073"
          ],
          [
           "10.1016/j.msea.2017.10.073"
          ],
          [
           "10.1016/j.msea.2017.10.073"
          ],
          [
           "10.1016/j.msea.2017.10.073"
          ],
          [
           "10.1016/j.jallcom.2016.10.014"
          ],
          [
           "10.1016/j.jallcom.2016.10.014"
          ],
          [
           "10.1016/j.jallcom.2016.10.014"
          ],
          [
           "10.1016/j.jallcom.2016.10.014"
          ],
          [
           "10.1016/j.jallcom.2016.10.014"
          ],
          [
           "10.1016/j.jallcom.2016.10.014"
          ],
          [
           "10.1016/j.jallcom.2016.10.014"
          ],
          [
           "10.1016/j.jallcom.2016.10.014"
          ],
          [
           "10.1016/j.jallcom.2016.10.014"
          ],
          [
           "10.1016/j.jallcom.2016.10.014"
          ],
          [
           "10.1016/j.jallcom.2016.10.014"
          ],
          [
           "10.1016/j.jallcom.2016.10.014"
          ],
          [
           "10.1080/21663831.2016.1221861"
          ],
          [
           "10.1016/j.matdes.2017.11.033"
          ],
          [
           "10.1016/j.matdes.2017.11.033"
          ],
          [
           "10.1016/j.matdes.2017.11.033"
          ],
          [
           "10.1016/j.matdes.2017.11.033"
          ],
          [
           "10.1016/j.matdes.2017.11.033"
          ],
          [
           "10.1016/j.matdes.2017.11.033"
          ],
          [
           "10.1016/j.matdes.2017.11.033"
          ],
          [
           "10.1016/j.matdes.2017.11.033"
          ],
          [
           "10.1016/j.matdes.2017.11.033"
          ],
          [
           "10.4028/www.scientific.net/MSF.849.76"
          ],
          [
           "10.4028/www.scientific.net/MSF.849.76"
          ],
          [
           "10.4028/www.scientific.net/MSF.849.76"
          ],
          [
           "10.4028/www.scientific.net/MSF.849.76"
          ],
          [
           "10.4028/www.scientific.net/MSF.849.76"
          ],
          [
           "10.4028/www.scientific.net/MSF.849.76"
          ],
          [
           "10.4028/www.scientific.net/MSF.849.76"
          ],
          [
           "10.1016/j.actamat.2017.09.035"
          ],
          [
           "10.1016/j.actamat.2017.09.035"
          ],
          [
           "10.1016/j.actamat.2017.09.035"
          ],
          [
           "10.1016/j.actamat.2017.09.035"
          ],
          [
           "10.1016/j.jallcom.2015.07.209"
          ],
          [
           "10.1016/j.jallcom.2015.07.209"
          ],
          [
           "10.1016/j.jallcom.2015.07.209"
          ],
          [
           "10.1016/j.matlet.2016.08.060"
          ],
          [
           "10.1016/j.matlet.2016.08.060"
          ],
          [
           "10.1016/j.matlet.2016.08.060"
          ],
          [
           "10.1016/j.actamat.2017.09.062"
          ],
          [
           "10.1016/j.msea.2015.08.024"
          ],
          [
           "10.1016/j.matchar.2015.11.018"
          ],
          [
           "10.1016/j.msea.2015.12.017"
          ],
          [
           "10.1016/j.msea.2015.12.017"
          ],
          [
           "10.1016/j.msea.2015.12.017"
          ],
          [
           "10.1016/j.msea.2015.12.017"
          ],
          [
           "10.4028/www.scientific.net/MSF.898.638"
          ],
          [
           "10.4028/www.scientific.net/MSF.898.638"
          ],
          [
           "10.4028/www.scientific.net/MSF.898.638"
          ],
          [
           "10.4028/www.scientific.net/MSF.898.638"
          ],
          [
           "10.1016/j.actamat.2016.01.018"
          ],
          [
           "10.1016/j.actamat.2016.01.018"
          ],
          [
           "10.1016/j.actamat.2016.01.018"
          ],
          [
           "10.1016/j.actamat.2016.01.018"
          ],
          [
           "10.1016/j.actamat.2016.01.018"
          ],
          [
           "10.1002/adma.201701678"
          ],
          [
           "10.1002/adma.201701678"
          ],
          [
           "10.1002/adma.201701678"
          ],
          [
           "10.1002/adma.201701678"
          ],
          [
           "10.1016/j.msea.2017.12.004"
          ],
          [
           "10.1016/j.msea.2017.12.004"
          ],
          [
           "10.1016/j.msea.2017.12.004"
          ],
          [
           "10.1016/j.msea.2017.12.004"
          ],
          [
           "10.1016/j.msea.2017.12.004"
          ],
          [
           "10.1016/j.jallcom.2016.11.188"
          ],
          [
           "10.1016/j.intermet.2017.01.007"
          ],
          [
           "10.1016/j.intermet.2017.01.007"
          ],
          [
           "10.1016/j.intermet.2017.01.007"
          ],
          [
           "10.1016/j.intermet.2017.01.007"
          ],
          [
           "10.1016/j.intermet.2017.01.007"
          ],
          [
           "10.1016/j.intermet.2017.01.007"
          ],
          [
           "10.1016/j.intermet.2017.01.007"
          ],
          [
           "10.1016/j.intermet.2017.01.007"
          ],
          [
           "10.1016/j.intermet.2017.01.007"
          ],
          [
           "10.1016/j.intermet.2017.01.007"
          ],
          [
           "10.1016/j.msec.2016.12.057"
          ],
          [
           "10.1016/j.scriptamat.2016.10.028"
          ],
          [
           "10.1016/j.scriptamat.2016.10.028"
          ],
          [
           "10.1016/j.msea.2017.12.021"
          ],
          [
           "10.1016/j.msea.2016.07.102"
          ],
          [
           "10.1016/j.msea.2016.07.102"
          ],
          [
           "10.1016/j.msea.2016.07.102"
          ],
          [
           "10.1016/j.matlet.2016.11.030"
          ],
          [
           "10.1016/j.matlet.2016.11.030"
          ],
          [
           "10.1016/j.matlet.2016.11.030"
          ],
          [
           "10.1016/j.matlet.2016.11.030"
          ],
          [
           "10.1016/j.matlet.2016.11.030"
          ],
          [
           "10.1016/j.jallcom.2015.08.224"
          ],
          [
           "10.1016/j.jallcom.2015.08.224"
          ],
          [
           "10.1016/j.jallcom.2015.08.224"
          ],
          [
           "10.1016/j.jallcom.2015.08.224"
          ],
          [
           "10.1016/j.jallcom.2015.08.224"
          ],
          [
           "10.1016/j.jallcom.2015.08.224"
          ],
          [
           "10.1016/j.jallcom.2015.08.224"
          ],
          [
           "10.1016/j.jallcom.2015.08.224"
          ],
          [
           "10.1016/j.jallcom.2015.08.224"
          ],
          [
           "10.1016/j.jallcom.2015.08.224"
          ],
          [
           "10.1016/j.jallcom.2015.08.224"
          ],
          [
           "10.1016/j.jallcom.2015.08.224"
          ],
          [
           "10.1016/j.jallcom.2015.08.224"
          ],
          [
           "10.1016/j.jallcom.2015.08.224"
          ],
          [
           "10.1016/j.jallcom.2015.08.224"
          ],
          [
           "10.1016/j.jallcom.2015.08.224"
          ],
          [
           "10.1016/j.scriptamat.2018.08.048"
          ],
          [
           "10.1016/j.jallcom.2018.08.093"
          ],
          [
           "10.1016/j.jallcom.2018.08.093"
          ],
          [
           "10.1016/j.jallcom.2018.08.093"
          ],
          [
           "10.1016/j.jallcom.2018.08.093"
          ],
          [
           "10.1016/j.jallcom.2018.08.093"
          ],
          [
           "10.1016/j.jallcom.2018.08.093"
          ],
          [
           "10.1016/j.jallcom.2018.08.093"
          ],
          [
           "10.1016/j.jallcom.2018.08.093"
          ],
          [
           "10.1016/j.jallcom.2018.08.093"
          ],
          [
           "10.1016/j.jallcom.2018.08.093"
          ],
          [
           "10.1016/j.jallcom.2018.08.093"
          ],
          [
           "10.1016/j.jallcom.2018.08.093"
          ],
          [
           "10.1016/j.jallcom.2018.08.093"
          ],
          [
           "10.1016/j.jallcom.2018.08.093"
          ],
          [
           "10.1016/j.jallcom.2018.08.093"
          ],
          [
           "10.1016/j.actamat.2013.06.018"
          ],
          [
           "10.1016/j.actamat.2017.03.069"
          ],
          [
           "10.1016/j.actamat.2017.03.069"
          ],
          [
           "10.1016/j.actamat.2017.03.069"
          ],
          [
           "10.1016/j.actamat.2017.03.069"
          ],
          [
           "10.1038/s41598-017-16509-9"
          ],
          [
           "10.1038/s41598-017-16509-9"
          ],
          [
           "10.1016/j.matlet.2017.04.072"
          ],
          [
           "10.1016/j.matlet.2017.04.072"
          ],
          [
           "10.1016/j.matlet.2017.04.072"
          ],
          [
           "10.1016/j.matlet.2017.04.072"
          ],
          [
           "10.1016/j.matlet.2017.04.072"
          ],
          [
           "10.1016/j.scriptamat.2016.06.019"
          ],
          [
           "10.1016/j.scriptamat.2016.06.019"
          ],
          [
           "10.1016/j.scriptamat.2016.06.019"
          ],
          [
           "10.1016/j.matdes.2017.02.072"
          ],
          [
           "10.1016/j.matdes.2017.02.072"
          ],
          [
           "10.1016/j.matdes.2017.02.072"
          ],
          [
           "10.1016/j.matdes.2017.02.072"
          ],
          [
           "10.1016/j.matdes.2017.02.072"
          ],
          [
           "10.1016/j.actamat.2017.03.066"
          ],
          [
           "10.1016/j.jallcom.2008.12.088"
          ],
          [
           "10.1016/j.jallcom.2008.12.088"
          ],
          [
           "10.1016/j.jallcom.2008.12.088"
          ],
          [
           "10.1016/j.jallcom.2013.11.084"
          ],
          [
           "10.1016/j.jallcom.2013.11.084"
          ],
          [
           "10.1016/j.matdes.2016.05.079"
          ],
          [
           "10.1016/j.msea.2015.08.078"
          ],
          [
           "10.1016/j.jallcom.2016.05.034"
          ],
          [
           "10.1016/j.jallcom.2016.05.034"
          ],
          [
           "10.1016/j.jallcom.2016.05.034"
          ],
          [
           "10.1016/j.jallcom.2016.05.034"
          ],
          [
           "10.1016/j.jallcom.2016.05.034"
          ],
          [
           "10.1016/j.jallcom.2017.03.307"
          ],
          [
           "10.1016/j.matlet.2016.01.096"
          ],
          [
           "10.1016/j.actamat.2016.11.016"
          ],
          [
           "10.1016/j.actamat.2016.11.016"
          ],
          [
           "10.1016/j.actamat.2016.11.016"
          ],
          [
           "10.1016/j.actamat.2016.11.016"
          ],
          [
           "10.1016/j.actamat.2016.11.016"
          ],
          [
           "10.1016/j.actamat.2016.11.016"
          ],
          [
           "10.1016/j.actamat.2016.11.016"
          ],
          [
           "10.1016/j.actamat.2016.11.016"
          ],
          [
           "10.1016/j.actamat.2016.11.016"
          ],
          [
           "10.1016/j.scriptamat.2016.04.014"
          ],
          [
           "10.1016/j.scriptamat.2016.04.014"
          ],
          [
           "10.1016/j.scriptamat.2016.04.014"
          ],
          [
           "10.1016/j.scriptamat.2016.04.014"
          ],
          [
           "10.1016/j.scriptamat.2017.05.019"
          ],
          [
           "10.1016/j.scriptamat.2017.05.019"
          ],
          [
           "10.1016/j.scriptamat.2017.05.019"
          ],
          [
           "10.1016/j.scriptamat.2017.05.019"
          ],
          [
           "10.1016/j.scriptamat.2017.05.019"
          ],
          [
           "10.1016/j.scriptamat.2017.05.019"
          ],
          [
           "10.1016/j.scriptamat.2017.05.019"
          ],
          [
           "10.1016/j.actamat.2016.06.063"
          ],
          [
           "10.1016/j.actamat.2016.06.063"
          ],
          [
           "10.1016/j.actamat.2016.06.063"
          ],
          [
           "10.1016/j.actamat.2016.06.063"
          ],
          [
           "10.1016/j.actamat.2016.06.063"
          ],
          [
           "10.1016/j.actamat.2016.06.063"
          ],
          [
           "10.1016/j.actamat.2016.06.063"
          ],
          [
           "10.1080/02670836.2017.1342367"
          ],
          [
           "10.1080/02670836.2017.1342367"
          ],
          [
           "10.1080/02670836.2017.1342367"
          ],
          [
           "10.1080/02670836.2017.1342367"
          ],
          [
           "10.1016/j.actamat.2015.08.076"
          ],
          [
           "10.1016/j.actamat.2015.08.076"
          ],
          [
           "10.1016/j.actamat.2015.08.076"
          ],
          [
           "10.1016/j.actamat.2015.08.076"
          ],
          [
           "10.1016/j.ultramic.2015.06.009"
          ],
          [
           "10.1016/j.ultramic.2015.06.009"
          ],
          [
           "10.1016/j.matchar.2018.06.036"
          ],
          [
           "10.1016/j.ultramic.2015.06.009"
          ],
          [
           "10.1016/j.ultramic.2015.06.009"
          ],
          [
           "10.1016/j.ultramic.2015.06.009"
          ],
          [
           "10.1016/j.matchar.2018.06.036"
          ],
          [
           "10.1007/s11837-015-1484-7"
          ],
          [
           "10.1007/s11837-015-1484-7"
          ],
          [
           "10.1007/s11837-015-1484-7"
          ],
          [
           "10.1007/s11837-015-1484-7"
          ],
          [
           "10.1007/s11837-015-1484-7"
          ],
          [
           "10.1007/s11837-015-1484-7"
          ],
          [
           "10.1016/j.msea.2016.11.019"
          ],
          [
           "10.1016/j.msea.2016.11.019"
          ],
          [
           "10.1016/j.msea.2016.11.019"
          ],
          [
           "10.1016/j.msea.2016.11.019"
          ],
          [
           "10.1016/j.msea.2016.11.019"
          ],
          [
           "10.1016/j.matlet.2016.01.096"
          ],
          [
           "10.1016/j.matdes.2013.12.048"
          ],
          [
           "10.1016/j.jmst.2014.09.011"
          ],
          [
           "10.1016/j.jmst.2014.09.011"
          ],
          [
           "10.1007/s11665-015-1767-8"
          ],
          [
           "10.1016/j.msea.2015.09.089"
          ],
          [
           "10.1134/S0031918X17060084"
          ],
          [
           "10.1134/S0031918X17060084"
          ],
          [
           "10.1134/S0031918X17060084"
          ],
          [
           "10.1134/S0031918X17060084"
          ],
          [
           "10.1134/S0031918X17060084"
          ],
          [
           "10.1016/j.msea.2015.02.072"
          ],
          [
           "10.1016/j.jallcom.2013.12.210"
          ],
          [
           "10.1016/j.actamat.2016.11.016"
          ],
          [
           "10.1016/j.actamat.2016.11.016"
          ],
          [
           "10.1016/j.actamat.2016.11.016"
          ],
          [
           "10.1016/j.msea.2017.04.111"
          ],
          [
           "10.1016/j.msea.2017.04.111"
          ],
          [
           "10.1007/s11837-013-0756-3"
          ],
          [
           "10.1007/s11837-013-0756-3"
          ],
          [
           "10.1007/s11837-013-0756-3"
          ],
          [
           "10.1016/j.actamat.2015.07.004"
          ],
          [
           "10.1016/j.jallcom.2009.10.088"
          ],
          [
           "10.1016/j.jallcom.2009.10.088"
          ],
          [
           "10.1016/j.msea.2011.11.045"
          ],
          [
           "10.1016/j.msea.2011.11.045"
          ],
          [
           "10.1016/j.msea.2015.08.078"
          ],
          [
           "10.1016/j.msea.2015.08.078"
          ],
          [
           "10.1016/j.msea.2011.11.045"
          ],
          [
           "10.1016/j.msea.2011.11.045"
          ],
          [
           "10.1016/j.jallcom.2009.10.088"
          ],
          [
           "10.1016/j.jallcom.2009.10.088"
          ],
          [
           "10.1016/j.actamat.2018.11.049"
          ],
          [
           "10.1016/j.actamat.2018.11.049"
          ],
          [
           "10.1016/j.actamat.2018.12.012"
          ],
          [
           "10.1016/j.actamat.2018.12.012"
          ],
          [
           "10.1016/j.actamat.2018.12.012"
          ],
          [
           "10.1016/j.actamat.2018.12.012"
          ],
          [
           "10.1016/j.msea.2018.10.094"
          ],
          [
           "10.1016/j.msea.2018.10.094"
          ],
          [
           "10.1016/j.jallcom.2018.08.176"
          ],
          [
           "10.1016/j.jallcom.2018.08.176"
          ],
          [
           "10.1016/j.jallcom.2018.08.176"
          ],
          [
           "10.1016/j.jallcom.2018.08.176"
          ],
          [
           "10.1016/j.jallcom.2018.08.176"
          ],
          [
           "10.1016/j.actamat.2018.12.015"
          ],
          [
           "10.1016/j.actamat.2018.12.015"
          ],
          [
           "10.1016/j.actamat.2018.12.015"
          ],
          [
           "10.1038/s41467-019-08460-2"
          ],
          [
           "10.1038/s41467-019-08460-2"
          ],
          [
           "10.1038/s41467-019-08460-2"
          ],
          [
           "10.1016/j.scriptamat.2018.11.042"
          ],
          [
           "10.1016/j.scriptamat.2018.11.042"
          ],
          [
           "10.1016/j.scriptamat.2018.11.042"
          ],
          [
           "10.1016/j.jallcom.2018.10.230"
          ],
          [
           "10.1016/j.jallcom.2018.10.230"
          ],
          [
           "10.1016/j.jallcom.2018.10.230"
          ],
          [
           "10.1016/j.jmst.2018.09.068"
          ],
          [
           "10.1016/j.jmst.2018.09.068"
          ],
          [
           "10.1016/j.jallcom.2018.10.168"
          ],
          [
           "10.1016/j.jallcom.2018.10.168"
          ],
          [
           "10.1016/j.jallcom.2018.10.168"
          ],
          [
           "10.1016/j.jallcom.2018.10.168"
          ],
          [
           "10.1016/j.jallcom.2018.10.168"
          ],
          [
           "10.1016/j.jallcom.2018.10.168"
          ],
          [
           "10.1007/s40843-018-9373-y"
          ],
          [
           "10.1007/s40843-018-9373-y"
          ],
          [
           "10.1007/s40843-018-9373-y"
          ],
          [
           "10.1007/s40843-018-9373-y"
          ],
          [
           "10.1007/s40843-018-9373-y"
          ],
          [
           "10.1007/s40843-018-9373-y"
          ],
          [
           "10.1016/j.matdes.2019.107698"
          ],
          [
           "10.1016/j.matdes.2019.107698"
          ],
          [
           "10.1016/j.matdes.2019.107698"
          ],
          [
           "10.1016/j.matdes.2019.107698"
          ],
          [
           "10.1016/j.matdes.2019.107698"
          ],
          [
           "10.1016/j.jmst.2018.10.009"
          ],
          [
           "10.1016/j.jmst.2018.10.009"
          ],
          [
           "10.1016/j.jmst.2018.10.009"
          ],
          [
           "10.1016/j.jmst.2018.10.009"
          ],
          [
           "10.1016/j.jmst.2018.10.009"
          ],
          [
           "10.1016/j.scriptamat.2018.10.023"
          ],
          [
           "10.1016/j.scriptamat.2018.10.023"
          ],
          [
           "10.1016/j.scriptamat.2018.10.023"
          ],
          [
           "10.1016/j.scriptamat.2018.10.023"
          ],
          [
           "10.1016/j.scriptamat.2018.10.023"
          ],
          [
           "10.1016/j.jallcom.2018.11.057"
          ],
          [
           "10.1016/j.msea.2019.01.050"
          ],
          [
           "10.1016/j.msea.2019.01.050"
          ],
          [
           "10.1016/j.msea.2019.01.050"
          ],
          [
           "10.1016/j.ijplas.2018.10.005"
          ],
          [
           "10.1016/j.ijplas.2018.10.005"
          ],
          [
           "10.1016/j.ijplas.2018.10.005"
          ],
          [
           "10.1016/j.ijplas.2018.10.005"
          ],
          [
           "10.1016/j.ijplas.2018.10.005"
          ],
          [
           "10.1016/j.ijplas.2018.10.005"
          ],
          [
           "10.1016/j.ijplas.2018.10.005"
          ],
          [
           "10.1016/j.jallcom.2018.08.115"
          ],
          [
           "10.1016/j.matchemphys.2018.09.033"
          ],
          [
           "10.1016/j.matchemphys.2018.09.033"
          ],
          [
           "10.1016/j.matchemphys.2018.09.033"
          ],
          [
           "10.1016/j.matchemphys.2018.09.033"
          ],
          [
           "10.1016/j.matchemphys.2018.09.033"
          ],
          [
           "10.1016/j.matchemphys.2018.09.033"
          ],
          [
           "10.1016/j.jallcom.2018.11.318"
          ],
          [
           "10.1016/j.jallcom.2018.11.318"
          ],
          [
           "10.1016/j.jallcom.2018.11.318"
          ],
          [
           "10.1016/j.jallcom.2018.11.318"
          ],
          [
           "10.1016/j.calphad.2015.09.007"
          ],
          [
           "10.1016/j.vacuum.2018.12.009"
          ],
          [
           "10.1016/j.vacuum.2018.12.009"
          ],
          [
           "10.1016/j.vacuum.2018.12.009"
          ],
          [
           "10.1016/j.vacuum.2018.12.009"
          ],
          [
           "10.1016/j.vacuum.2018.12.009"
          ],
          [
           "10.1002/adma.201807142"
          ],
          [
           "10.1002/adma.201807142"
          ],
          [
           "10.1002/adma.201807142"
          ],
          [
           "10.1002/adma.201807142"
          ],
          [
           "10.1002/adma.201807142"
          ],
          [
           "10.1016/j.actamat.2018.12.010"
          ],
          [
           "10.1016/j.actamat.2018.12.010"
          ],
          [
           "10.1016/j.scriptamat.2018.09.008"
          ],
          [
           "10.1016/j.matchar.2018.07.015"
          ],
          [
           "10.1080/21663831.2018.1553803"
          ],
          [
           "10.1080/21663831.2018.1553803"
          ],
          [
           "10.1080/21663831.2018.1553803"
          ],
          [
           "10.1080/21663831.2018.1553803"
          ],
          [
           "10.1080/21663831.2018.1553803"
          ],
          [
           "10.1016/j.intermet.2019.04.003"
          ],
          [
           "10.1016/j.intermet.2014.11.005"
          ],
          [
           "10.1557/adv.2017.76"
          ],
          [
           "10.1016/j.msea.2016.05.082"
          ],
          [
           "10.1016/j.msea.2017.04.003"
          ],
          [
           "10.1016/j.msea.2017.06.086"
          ],
          [
           " 10.1038/ncomms10602"
          ],
          [
           "10.1016/j.msea.2017.04.003"
          ],
          [
           "10.1016/j.actamat.2019.03.010"
          ],
          [
           "10.1016/j.actamat.2019.03.010"
          ],
          [
           "10.1016/j.actamat.2019.03.010"
          ],
          [
           "10.1016/j.actamat.2019.03.010"
          ],
          [
           "10.1016/j.actamat.2019.03.010"
          ],
          [
           "10.1016/j.actamat.2019.03.010"
          ],
          [
           "10.1016/j.actamat.2019.03.010"
          ],
          [
           "10.1016/j.actamat.2019.03.010"
          ],
          [
           "10.1016/j.actamat.2019.03.010"
          ],
          [
           "10.1016/j.actamat.2019.03.010"
          ],
          [
           "10.1016/j.actamat.2019.03.010"
          ],
          [
           "10.1016/j.actamat.2019.03.010"
          ],
          [
           "10.1016/j.actamat.2019.03.010"
          ],
          [
           "10.1016/j.actamat.2019.03.010"
          ],
          [
           "10.1016/j.actamat.2019.03.010"
          ],
          [
           "10.1016/j.actamat.2019.03.010"
          ],
          [
           "10.1016/j.actamat.2019.03.010"
          ],
          [
           "10.1016/j.actamat.2019.03.010"
          ],
          [
           "10.1016/j.actamat.2019.03.010"
          ],
          [
           "10.1016/j.actamat.2019.03.010"
          ],
          [
           "10.1016/j.actamat.2019.03.010"
          ],
          [
           "10.1016/j.actamat.2019.03.010"
          ],
          [
           "10.1016/j.actamat.2019.03.010"
          ],
          [
           "10.1016/j.actamat.2019.03.010"
          ],
          [
           "10.1016/j.actamat.2019.03.010"
          ],
          [
           "10.1016/j.actamat.2019.03.010"
          ],
          [
           "10.1016/j.actamat.2019.03.010"
          ],
          [
           "10.1016/j.actamat.2019.03.010"
          ],
          [
           "10.1016/j.actamat.2019.03.010"
          ],
          [
           "10.1016/j.actamat.2019.03.010"
          ],
          [
           "10.1016/j.actamat.2019.03.010"
          ],
          [
           "10.1016/j.actamat.2019.03.010"
          ],
          [
           "10.1016/j.actamat.2019.03.010"
          ],
          [
           "10.1016/j.actamat.2019.03.010"
          ],
          [
           "10.1016/j.actamat.2019.03.010"
          ],
          [
           "10.1016/j.actamat.2019.03.010"
          ],
          [
           "10.1016/j.actamat.2019.03.010"
          ],
          [
           "10.1016/j.actamat.2019.03.010"
          ],
          [
           "10.1016/j.actamat.2019.03.010"
          ],
          [
           "10.1016/j.actamat.2019.03.010"
          ],
          [
           "10.1016/j.actamat.2019.03.010"
          ],
          [
           "10.1016/j.actamat.2019.03.010"
          ],
          [
           "10.1016/j.msea.2019.01.112"
          ],
          [
           "10.1016/j.msea.2019.01.112"
          ],
          [
           "10.1016/j.msea.2019.01.112"
          ],
          [
           "10.1016/j.msea.2019.01.112"
          ],
          [
           "10.1016/j.msea.2019.01.112"
          ],
          [
           "10.1016/j.msea.2019.01.112"
          ],
          [
           "10.1016/j.actamat.2019.06.032"
          ],
          [
           "10.1016/j.actamat.2019.06.032"
          ],
          [
           "10.1016/j.actamat.2019.06.032"
          ],
          [
           "10.1016/j.actamat.2019.06.032"
          ],
          [
           "10.1016/j.actamat.2019.06.032"
          ],
          [
           "10.1016/j.actamat.2019.06.032"
          ],
          [
           "10.1016/j.actamat.2019.06.032"
          ],
          [
           "10.1016/j.actamat.2019.06.032"
          ],
          [
           "10.1016/j.actamat.2019.06.032"
          ],
          [
           "10.1016/j.actamat.2019.06.032"
          ],
          [
           "10.1016/j.actamat.2019.06.032"
          ],
          [
           "10.1016/j.actamat.2019.06.032"
          ],
          [
           "10.1016/j.actamat.2019.06.032"
          ],
          [
           "10.1016/j.actamat.2019.06.032"
          ],
          [
           "10.1016/j.actamat.2019.06.032"
          ],
          [
           "10.1016/j.actamat.2019.06.032"
          ],
          [
           "10.1016/j.actamat.2019.06.032"
          ],
          [
           "10.1016/j.actamat.2019.06.032"
          ],
          [
           "10.1016/j.actamat.2019.06.032"
          ],
          [
           "10.1016/j.actamat.2019.06.032"
          ],
          [
           "10.1016/j.actamat.2019.06.032"
          ],
          [
           "10.1016/j.actamat.2019.06.032"
          ],
          [
           "10.1016/j.actamat.2019.06.032"
          ],
          [
           "10.1016/j.actamat.2019.06.032"
          ],
          [
           "10.1016/j.actamat.2019.06.032"
          ],
          [
           "10.1016/j.actamat.2019.06.032"
          ],
          [
           "10.1016/j.actamat.2019.06.032"
          ],
          [
           "10.1016/j.actamat.2019.06.032"
          ],
          [
           "10.1016/j.actamat.2019.06.032"
          ],
          [
           "10.1016/j.actamat.2019.06.032"
          ],
          [
           "10.1016/j.actamat.2019.06.032"
          ],
          [
           "10.1016/j.actamat.2019.06.032"
          ],
          [
           "10.1016/j.actamat.2019.06.032"
          ],
          [
           "10.1016/j.actamat.2019.06.032"
          ],
          [
           "10.1016/j.actamat.2019.06.032"
          ],
          [
           "10.1016/j.actamat.2019.06.032"
          ],
          [
           "10.1016/j.actamat.2019.06.032"
          ],
          [
           "10.1016/j.actamat.2019.06.032"
          ],
          [
           "10.1016/j.actamat.2019.06.032"
          ],
          [
           "10.1016/j.actamat.2019.06.032"
          ],
          [
           "10.1016/j.actamat.2019.06.032"
          ],
          [
           "10.1016/j.actamat.2019.06.032"
          ],
          [
           "10.1016/j.actamat.2019.06.032"
          ],
          [
           "10.1016/j.actamat.2019.06.032"
          ],
          [
           "10.1016/j.actamat.2019.06.032"
          ],
          [
           "10.1016/j.actamat.2019.06.032"
          ],
          [
           "10.1016/j.actamat.2019.06.032"
          ],
          [
           "10.1016/j.actamat.2019.06.032"
          ],
          [
           "10.1016/j.actamat.2019.06.032"
          ],
          [
           "10.1016/j.actamat.2019.06.032"
          ],
          [
           "10.1016/j.actamat.2019.06.032"
          ],
          [
           "10.1016/j.actamat.2019.06.032"
          ],
          [
           "10.1016/j.actamat.2019.06.032"
          ],
          [
           "10.1016/j.actamat.2019.06.032"
          ],
          [
           "10.1016/j.actamat.2019.06.032"
          ],
          [
           "10.1016/j.actamat.2019.06.032"
          ],
          [
           "10.1016/j.actamat.2019.06.032"
          ],
          [
           "10.1016/j.actamat.2019.06.032"
          ],
          [
           "10.1016/j.actamat.2019.06.032"
          ],
          [
           "10.1016/j.actamat.2019.06.032"
          ],
          [
           "10.1016/j.actamat.2019.06.032"
          ],
          [
           "10.1016/j.actamat.2019.06.032"
          ],
          [
           "10.1016/j.actamat.2019.06.032"
          ],
          [
           "10.1016/j.actamat.2019.06.032"
          ],
          [
           "10.1016/j.actamat.2019.06.032"
          ],
          [
           "10.1016/j.actamat.2019.06.032"
          ],
          [
           "10.1016/j.actamat.2019.06.032"
          ],
          [
           "10.1016/j.actamat.2019.06.032"
          ],
          [
           "10.1016/j.actamat.2019.06.032"
          ],
          [
           "10.1016/j.actamat.2019.06.032"
          ],
          [
           "10.1016/j.actamat.2019.06.032"
          ],
          [
           "10.1016/j.actamat.2019.06.032"
          ],
          [
           "10.1016/j.actamat.2019.06.032"
          ],
          [
           "10.1016/j.actamat.2019.06.032"
          ],
          [
           "10.1016/j.actamat.2019.06.032"
          ],
          [
           "10.1016/j.actamat.2019.06.032"
          ],
          [
           "10.1016/j.actamat.2019.06.032"
          ],
          [
           "10.1016/j.actamat.2019.06.032"
          ],
          [
           "10.1016/j.intermet.2019.106486"
          ],
          [
           "10.1016/j.jallcom.2019.04.291"
          ],
          [
           "10.1016/j.jallcom.2019.04.291"
          ],
          [
           "10.1016/j.jallcom.2019.04.291"
          ],
          [
           "10.1016/j.intermet.2019.106477"
          ],
          [
           "10.1016/j.intermet.2019.106477"
          ],
          [
           "10.1016/j.intermet.2019.106477"
          ],
          [
           "10.1016/j.intermet.2019.106477"
          ],
          [
           "10.1016/j.jmst.2018.12.002"
          ],
          [
           "10.1016/j.jmst.2018.12.002"
          ],
          [
           "10.1016/j.jmst.2018.12.002"
          ],
          [
           "10.1016/j.ijrmhm.2019.02.009"
          ],
          [
           "10.1016/j.intermet.2015.10.011"
          ],
          [
           "10.1016/j.actamat.2019.04.017"
          ],
          [
           "10.1016/j.actamat.2019.04.017"
          ],
          [
           "10.1016/j.actamat.2019.04.017"
          ],
          [
           "10.1016/j.actamat.2019.04.017"
          ],
          [
           "10.1016/j.actamat.2019.04.017"
          ],
          [
           "10.1016/j.actamat.2019.04.017"
          ],
          [
           "10.1016/j.actamat.2019.04.017"
          ],
          [
           "10.1016/j.actamat.2019.04.017"
          ],
          [
           "10.1016/j.actamat.2019.04.017"
          ],
          [
           "10.1016/j.actamat.2019.04.017"
          ],
          [
           "10.1016/j.actamat.2019.04.017"
          ],
          [
           "10.1016/j.actamat.2019.04.017"
          ],
          [
           "10.1016/j.actamat.2019.04.017"
          ],
          [
           "10.1016/j.actamat.2019.04.017"
          ],
          [
           "10.1016/j.actamat.2019.04.017"
          ],
          [
           "10.1016/j.actamat.2019.04.017"
          ],
          [
           "10.1016/j.actamat.2019.04.017"
          ],
          [
           "10.1016/j.actamat.2019.04.017"
          ],
          [
           "10.1016/j.actamat.2019.04.017"
          ],
          [
           "10.1016/j.actamat.2019.04.017"
          ],
          [
           "10.1016/j.actamat.2019.04.017"
          ],
          [
           "10.1016/j.actamat.2019.04.017"
          ],
          [
           "10.1016/j.actamat.2019.04.017"
          ],
          [
           "10.1016/j.actamat.2019.04.017"
          ],
          [
           "10.1016/j.actamat.2019.04.017"
          ],
          [
           "10.1016/j.jallcom.2019.02.083"
          ],
          [
           "10.1016/j.jallcom.2019.02.083"
          ],
          [
           "10.1016/j.jallcom.2019.02.083"
          ],
          [
           "10.1016/j.jallcom.2019.01.341"
          ],
          [
           "10.1016/j.jallcom.2019.01.341"
          ],
          [
           "10.1016/j.jallcom.2019.01.341"
          ],
          [
           "10.1016/j.jallcom.2019.01.341"
          ],
          [
           "10.1016/j.jallcom.2019.01.341"
          ],
          [
           "10.1016/j.jallcom.2019.01.341"
          ],
          [
           "10.1016/j.jallcom.2019.01.341"
          ],
          [
           "10.1016/j.jallcom.2019.01.341"
          ],
          [
           "10.1016/j.msea.2019.04.025"
          ],
          [
           "10.1016/j.msea.2019.04.025"
          ],
          [
           "10.1016/j.msea.2019.04.025"
          ],
          [
           "10.1016/j.msea.2019.04.025"
          ],
          [
           "10.1016/j.msea.2019.04.025"
          ],
          [
           "10.1016/j.msea.2019.04.025"
          ],
          [
           "10.1016/j.msea.2019.04.025"
          ],
          [
           "10.1016/j.msea.2019.04.025"
          ],
          [
           "10.1016/j.scriptamat.2019.02.038"
          ],
          [
           "10.1016/j.scriptamat.2019.02.038"
          ],
          [
           "10.1016/j.scriptamat.2019.02.038"
          ],
          [
           "10.1016/j.scriptamat.2019.02.038"
          ],
          [
           "10.1016/j.scriptamat.2019.02.038"
          ],
          [
           "10.1016/j.scriptamat.2019.02.038"
          ],
          [
           "10.1088/2053-1591/ab0597"
          ],
          [
           "10.1088/2053-1591/ab0597"
          ],
          [
           "10.1088/2053-1591/ab0597"
          ],
          [
           "10.1016/j.matchar.2019.03.006"
          ],
          [
           "10.1016/j.matchar.2019.03.006"
          ],
          [
           "10.1016/j.jallcom.2018.12.040"
          ],
          [
           "10.1016/j.jallcom.2018.12.040"
          ],
          [
           "10.1016/j.jallcom.2018.12.040"
          ],
          [
           "10.1016/j.jallcom.2018.12.040"
          ],
          [
           "10.1016/j.jallcom.2018.12.040"
          ],
          [
           "10.1016/j.jallcom.2018.12.040"
          ],
          [
           "10.1016/j.jallcom.2018.12.040"
          ],
          [
           "10.1016/j.jallcom.2018.12.040"
          ],
          [
           "10.1016/j.jallcom.2018.11.181"
          ],
          [
           "10.1016/j.jallcom.2018.11.181"
          ],
          [
           "10.1016/j.jallcom.2018.11.181"
          ],
          [
           "10.1007/s11665-019-04003-4"
          ],
          [
           "10.1007/s11665-019-04003-4"
          ],
          [
           "10.1007/s11665-019-04003-4"
          ],
          [
           "10.1007/s11665-019-04003-4"
          ],
          [
           "10.1007/s11665-019-04003-4"
          ],
          [
           "10.1007/s11665-019-04003-4"
          ],
          [
           "10.1007/s11665-019-04003-4"
          ],
          [
           "10.1007/s11665-019-04003-4"
          ],
          [
           "10.1007/s11665-019-04003-4"
          ],
          [
           "10.1016/j.jallcom.2018.11.111"
          ],
          [
           "10.1016/j.jallcom.2018.11.111"
          ],
          [
           "10.1016/j.jallcom.2018.11.111"
          ],
          [
           "10.1016/j.jallcom.2018.11.111"
          ],
          [
           "10.1016/j.jallcom.2018.11.111"
          ],
          [
           "10.3390/e21020169"
          ],
          [
           "10.3390/e21020169"
          ],
          [
           "10.3390/e21020169"
          ],
          [
           "10.3390/e21020169"
          ],
          [
           "10.3390/e21020169"
          ],
          [
           "10.3390/e21020169"
          ],
          [
           "10.3390/e21020169"
          ],
          [
           "10.3390/e21020169"
          ],
          [
           "10.3390/e21020169"
          ],
          [
           "10.3390/e21020169"
          ],
          [
           "10.1016/j.msea.2018.12.077"
          ],
          [
           "10.1016/j.msea.2018.12.077"
          ],
          [
           "10.1016/j.msea.2018.12.077"
          ],
          [
           "10.1016/j.msea.2018.12.077"
          ],
          [
           "10.1016/j.msea.2018.12.077"
          ],
          [
           "10.1016/j.jallcom.2019.07.195"
          ],
          [
           "10.1016/j.jallcom.2019.07.100"
          ],
          [
           "10.1016/j.jallcom.2019.07.100"
          ],
          [
           "10.1016/j.jallcom.2019.07.100"
          ],
          [
           "10.1016/j.jallcom.2019.07.100"
          ],
          [
           "10.1016/j.jallcom.2019.07.100"
          ],
          [
           "10.1016/j.jallcom.2019.07.100"
          ],
          [
           "10.1016/j.jallcom.2018.01.247"
          ],
          [
           "10.1016/j.jallcom.2018.01.247"
          ],
          [
           "10.1016/j.jallcom.2018.01.247"
          ],
          [
           "10.1016/j.matdes.2016.12.036"
          ],
          [
           "10.1016/j.matdes.2016.12.036"
          ],
          [
           "10.1016/j.matdes.2016.12.036"
          ],
          [
           "10.1016/j.matdes.2016.12.036"
          ],
          [
           "10.1016/j.jallcom.2018.07.346"
          ],
          [
           "10.1016/j.jallcom.2018.07.346"
          ],
          [
           "10.1016/j.jallcom.2018.07.346"
          ],
          [
           "10.1016/j.jallcom.2018.07.346"
          ],
          [
           "10.1016/j.jallcom.2018.07.346"
          ],
          [
           "10.1016/j.intermet.2016.09.003"
          ],
          [
           "10.1016/j.jallcom.2019.06.301"
          ],
          [
           "10.1016/j.jallcom.2019.06.301"
          ],
          [
           "10.1016/j.jallcom.2019.06.301"
          ],
          [
           "10.1016/j.jallcom.2019.06.301"
          ],
          [
           "10.1016/j.jallcom.2019.06.301"
          ],
          [
           "10.1016/j.jallcom.2019.06.138"
          ],
          [
           "10.1016/j.jallcom.2019.06.138"
          ],
          [
           "10.1016/j.jallcom.2019.06.138"
          ],
          [
           "10.1016/j.jallcom.2019.06.138"
          ],
          [
           "10.1016/j.jallcom.2019.06.138"
          ],
          [
           "10.1016/j.jallcom.2019.06.138"
          ],
          [
           "10.1016/j.jallcom.2019.06.138"
          ],
          [
           "10.1016/j.jallcom.2019.06.138"
          ],
          [
           "10.1007/s12598-019-01310-6"
          ],
          [
           "10.1007/s12598-019-01310-6"
          ],
          [
           "10.1007/s12598-019-01310-6"
          ],
          [
           "10.1007/s12598-019-01310-6"
          ],
          [
           "10.1007/s12598-019-01310-6"
          ],
          [
           "10.1007/s12598-019-01310-6"
          ],
          [
           "10.1007/s12598-019-01310-6"
          ],
          [
           "10.1007/s12598-019-01310-6"
          ],
          [
           "10.1016/j.intermet.2019.106550"
          ],
          [
           "10.1016/j.intermet.2019.106550"
          ],
          [
           "10.1016/j.intermet.2019.106550"
          ],
          [
           "10.1007/s40195-019-00935-x"
          ],
          [
           "10.1007/s40195-019-00935-x"
          ],
          [
           "10.1007/s40195-019-00935-x"
          ],
          [
           "10.1016/j.matchar.2019.109792"
          ],
          [
           "10.1016/j.matchar.2019.109792"
          ],
          [
           "10.1016/j.matchar.2019.109792"
          ],
          [
           "10.1016/j.matchar.2019.109792"
          ],
          [
           "10.1016/j.jallcom.2019.05.322"
          ],
          [
           "10.1016/j.jallcom.2019.05.322"
          ],
          [
           "10.1016/j.jallcom.2019.05.322"
          ],
          [
           "10.1016/j.jallcom.2019.05.322"
          ],
          [
           "10.1016/j.jallcom.2019.05.322"
          ],
          [
           "10.1016/j.jallcom.2019.05.322"
          ],
          [
           "10.1016/j.jallcom.2019.05.322"
          ],
          [
           "10.1016/j.jallcom.2019.05.322"
          ],
          [
           "10.1016/j.jallcom.2019.05.322"
          ],
          [
           "10.1016/j.jallcom.2019.05.322"
          ],
          [
           "10.1016/j.jallcom.2019.05.322"
          ],
          [
           "10.1016/j.jallcom.2019.05.322"
          ],
          [
           "10.1016/j.jallcom.2019.05.322"
          ],
          [
           "10.1016/j.jallcom.2019.05.322"
          ],
          [
           "10.1016/j.jallcom.2019.05.322"
          ],
          [
           "10.1016/j.jallcom.2019.05.322"
          ],
          [
           "10.1016/j.jallcom.2019.05.322"
          ],
          [
           "10.1016/j.jallcom.2019.05.322"
          ],
          [
           "10.1016/j.jallcom.2019.05.322"
          ],
          [
           "10.1016/j.jallcom.2019.05.322"
          ],
          [
           "10.1016/j.jallcom.2019.05.322"
          ],
          [
           "10.1016/j.jallcom.2019.05.322"
          ],
          [
           "10.1016/j.jallcom.2019.05.322"
          ],
          [
           "10.1016/j.jallcom.2019.05.322"
          ],
          [
           "10.1016/j.jallcom.2019.05.322"
          ],
          [
           "10.1016/j.jallcom.2019.05.322"
          ],
          [
           "10.1016/j.jallcom.2019.05.322"
          ],
          [
           "10.1016/j.jallcom.2019.05.322"
          ],
          [
           "10.1016/j.jallcom.2019.05.322"
          ],
          [
           "10.1016/j.jallcom.2019.05.322"
          ],
          [
           "10.1016/j.jallcom.2019.05.322"
          ],
          [
           "10.1016/j.jallcom.2019.05.322"
          ],
          [
           "10.1016/j.jallcom.2019.05.322"
          ],
          [
           "10.1016/j.jallcom.2019.05.322"
          ],
          [
           "10.1016/j.jallcom.2019.05.322"
          ],
          [
           "10.1016/j.jallcom.2019.05.322"
          ],
          [
           "10.1016/j.jallcom.2019.05.322"
          ],
          [
           "10.1016/j.jallcom.2019.05.322"
          ],
          [
           "10.1016/j.jallcom.2019.05.322"
          ],
          [
           "10.1016/j.jallcom.2019.05.322"
          ],
          [
           "10.1016/j.jallcom.2019.05.322"
          ],
          [
           "10.1016/j.jallcom.2019.05.322"
          ],
          [
           "10.1016/j.msea.2019.138181"
          ],
          [
           "10.1016/j.msea.2019.138181"
          ],
          [
           "10.1016/j.msea.2019.138181"
          ],
          [
           "10.1016/j.msea.2019.138181"
          ],
          [
           "10.1016/j.msea.2019.138181"
          ],
          [
           "10.1016/j.msea.2019.138181"
          ],
          [
           "10.1016/j.actamat.2019.06.006"
          ],
          [
           "10.1016/j.actamat.2019.06.006"
          ],
          [
           "10.1016/j.actamat.2019.06.006"
          ],
          [
           "10.1016/j.actamat.2019.06.006"
          ],
          [
           "10.1016/j.actamat.2019.06.006"
          ],
          [
           "10.1016/j.actamat.2019.06.006"
          ],
          [
           "10.1016/j.actamat.2019.06.006"
          ],
          [
           "10.1016/j.actamat.2019.06.006"
          ],
          [
           "10.1016/j.actamat.2019.06.006"
          ],
          [
           "10.1016/j.actamat.2019.06.006"
          ],
          [
           "10.1016/j.actamat.2019.06.006"
          ],
          [
           "10.1016/j.actamat.2019.06.006"
          ],
          [
           "10.1016/j.actamat.2019.06.006"
          ],
          [
           "10.1016/j.actamat.2019.06.006"
          ],
          [
           "10.1016/j.actamat.2019.06.006"
          ],
          [
           "10.1016/j.actamat.2019.06.006"
          ],
          [
           "10.1016/j.actamat.2019.06.006"
          ],
          [
           "10.1016/j.actamat.2019.06.006"
          ],
          [
           "10.1016/j.actamat.2019.06.006"
          ],
          [
           "10.1016/j.actamat.2019.06.006"
          ],
          [
           "10.1016/j.actamat.2019.06.006"
          ],
          [
           "10.1016/j.actamat.2019.06.006"
          ],
          [
           "10.1016/j.actamat.2019.06.006"
          ],
          [
           "10.1016/j.actamat.2019.06.006"
          ],
          [
           "10.1016/j.actamat.2019.06.006"
          ],
          [
           "10.1016/j.actamat.2019.06.006"
          ],
          [
           "10.1016/j.actamat.2019.06.006"
          ],
          [
           "10.1016/j.actamat.2019.06.006"
          ],
          [
           "10.1016/j.actamat.2019.06.006"
          ],
          [
           "10.1016/j.actamat.2019.06.006"
          ],
          [
           "10.1016/j.actamat.2019.06.006"
          ],
          [
           "10.1016/j.actamat.2019.06.006"
          ],
          [
           "10.1016/j.actamat.2019.06.006"
          ],
          [
           "10.1016/j.actamat.2019.06.006"
          ],
          [
           "10.1016/j.actamat.2019.06.006"
          ],
          [
           "10.1016/j.actamat.2019.06.006"
          ],
          [
           "10.1016/j.actamat.2019.06.006"
          ],
          [
           "10.1016/j.actamat.2019.06.006"
          ],
          [
           "10.1016/j.actamat.2019.06.006"
          ],
          [
           "10.1016/j.actamat.2019.06.006"
          ],
          [
           "10.1016/j.actamat.2019.06.006"
          ],
          [
           "10.1016/j.actamat.2019.06.006"
          ],
          [
           "10.1016/j.actamat.2019.06.006"
          ],
          [
           "10.1016/j.actamat.2019.06.006"
          ],
          [
           "10.1016/j.actamat.2019.06.006"
          ],
          [
           "10.1007/s40195-019-00921-3"
          ],
          [
           "10.1007/s40195-019-00921-3"
          ],
          [
           "10.1007/s40195-019-00921-3"
          ],
          [
           "10.1007/s40195-019-00921-3"
          ],
          [
           "10.1007/s40195-019-00921-3"
          ],
          [
           "10.1007/s40195-019-00921-3"
          ],
          [
           "10.1007/s40195-019-00921-3"
          ],
          [
           "10.1007/s40195-019-00921-3"
          ],
          [
           "10.1007/s40195-019-00921-3"
          ],
          [
           "10.1007/s40195-019-00921-3"
          ],
          [
           "10.1007/s40195-019-00921-3"
          ],
          [
           "10.1016/j.matchar.2019.05.043"
          ],
          [
           "10.1016/j.matchar.2019.05.043"
          ],
          [
           "10.1016/j.matchar.2019.05.043"
          ],
          [
           "10.1016/j.matchar.2019.05.043"
          ],
          [
           "10.1016/j.matchar.2019.05.043"
          ],
          [
           "10.1016/j.matchar.2019.05.043"
          ],
          [
           "10.1016/j.matlet.2019.04.012"
          ],
          [
           "10.1016/j.matlet.2019.04.012"
          ],
          [
           "10.1016/j.matlet.2019.04.012"
          ],
          [
           "10.1016/j.matlet.2019.04.012"
          ],
          [
           "10.1007/s40195-019-00916-0"
          ],
          [
           "10.1007/s40195-019-00916-0"
          ],
          [
           "10.1016/j.matchar.2019.05.022"
          ],
          [
           "10.1016/j.matchar.2019.05.022"
          ],
          [
           "10.1016/j.matchar.2019.05.022"
          ],
          [
           "10.1007/s11837-019-03432-9"
          ],
          [
           "10.1007/s11837-019-03432-9"
          ],
          [
           "10.1007/s11837-019-03432-9"
          ],
          [
           "10.1007/s11837-019-03432-9"
          ],
          [
           "10.1007/s11837-019-03432-9"
          ],
          [
           "10.1088/2053-1591/ab2517"
          ],
          [
           "10.1088/2053-1591/ab2517"
          ],
          [
           "10.1088/2053-1591/ab2517"
          ],
          [
           "10.1088/2053-1591/ab2517"
          ],
          [
           "10.1088/2053-1591/ab2517"
          ],
          [
           "10.1088/2053-1591/ab2517"
          ],
          [
           "10.1088/2053-1591/ab2517"
          ],
          [
           "10.1088/2053-1591/ab2517"
          ],
          [
           "10.1088/2053-1591/ab2517"
          ],
          [
           "10.1088/2053-1591/ab2517"
          ],
          [
           "10.1016/j.jallcom.2019.04.296"
          ],
          [
           "10.1016/j.msea.2019.138039"
          ],
          [
           "10.1016/j.msea.2019.138039"
          ],
          [
           "10.1016/j.msea.2019.138039"
          ],
          [
           "10.1016/j.msea.2019.138039"
          ],
          [
           "10.1016/j.msea.2019.138039"
          ],
          [
           "10.1016/j.msea.2019.138039"
          ],
          [
           "10.1016/j.jallcom.2019.04.121"
          ],
          [
           "10.1016/j.jallcom.2019.04.121"
          ],
          [
           "10.1016/j.matlet.2019.03.075"
          ],
          [
           "10.1016/j.matlet.2019.03.075"
          ],
          [
           "10.1016/j.matlet.2019.03.075"
          ],
          [
           "10.1016/j.matlet.2019.03.075"
          ],
          [
           "10.1016/j.matlet.2019.03.075"
          ],
          [
           "10.1016/j.matlet.2019.03.075"
          ],
          [
           "10.1007/s10853-019-03567-9"
          ],
          [
           "10.1007/s10853-019-03567-9"
          ],
          [
           "10.1007/s10853-019-03567-9"
          ],
          [
           "10.1007/s10853-019-03567-9"
          ],
          [
           "10.1007/s10853-019-03567-9"
          ],
          [
           "10.1007/s10853-019-03567-9"
          ],
          [
           "10.1007/s10853-019-03567-9"
          ],
          [
           "10.1007/s10853-019-03567-9"
          ],
          [
           "10.1007/s10853-019-03567-9"
          ],
          [
           "10.1007/s10853-019-03567-9"
          ],
          [
           "10.1007/s10853-019-03567-9"
          ],
          [
           "10.1007/s10853-019-03567-9"
          ],
          [
           "10.1007/s10853-019-03567-9"
          ],
          [
           "10.1007/s10853-019-03567-9"
          ],
          [
           "10.1007/s10853-019-03567-9"
          ],
          [
           "10.1007/s10853-019-03567-9"
          ],
          [
           "10.1007/s10853-019-03567-9"
          ],
          [
           "10.1007/s10853-019-03567-9"
          ],
          [
           "10.1007/s10853-019-03567-9"
          ],
          [
           "10.1007/s10853-019-03567-9"
          ],
          [
           "10.1007/s10853-019-03567-9"
          ],
          [
           "10.1007/s11661-019-05231-y"
          ],
          [
           "10.1007/s11661-019-05231-y"
          ],
          [
           "10.1007/s11661-019-05231-y"
          ],
          [
           "10.1007/s11661-019-05231-y"
          ],
          [
           "10.1007/s11661-019-05231-y"
          ],
          [
           "10.1007/s11661-019-05231-y"
          ],
          [
           "10.1007/s11661-019-05231-y"
          ],
          [
           "10.1007/s11661-019-05231-y"
          ],
          [
           "10.1007/s11661-019-05231-y"
          ],
          [
           "10.1007/s11661-019-05231-y"
          ],
          [
           "10.1007/s11661-019-05231-y"
          ],
          [
           "10.1016/j.vacuum.2019.04.043"
          ],
          [
           "10.1016/j.vacuum.2019.04.043"
          ],
          [
           "10.1016/j.vacuum.2019.04.043"
          ],
          [
           "10.1016/j.vacuum.2019.04.043"
          ],
          [
           "10.1016/j.intermet.2012.03.005"
          ],
          [
           "10.1016/j.intermet.2012.03.005"
          ],
          [
           "10.1016/j.intermet.2012.03.005"
          ],
          [
           "10.1016/j.intermet.2012.03.005"
          ],
          [
           "10.1016/j.msea.2013.12.096"
          ],
          [
           "10.1016/j.msea.2013.12.096"
          ],
          [
           "10.4028/www.scientific.net/MSF.846.13"
          ],
          [
           "10.4028/www.scientific.net/MSF.846.13"
          ],
          [
           "10.4028/www.scientific.net/MSF.846.13"
          ],
          [
           "10.4028/www.scientific.net/MSF.846.13"
          ],
          [
           "10.4028/www.scientific.net/MSF.846.13"
          ],
          [
           "10.4028/www.scientific.net/MSF.846.13"
          ],
          [
           "10.4028/www.scientific.net/MSF.846.13"
          ],
          [
           "10.4028/www.scientific.net/MSF.846.13"
          ],
          [
           "10.1016/j.jallcom.2010.02.032"
          ],
          [
           "10.1016/j.jallcom.2010.02.032"
          ],
          [
           "10.1016/j.msea.2019.05.056"
          ],
          [
           "10.1016/j.msea.2019.05.056"
          ],
          [
           "10.1016/j.msea.2019.05.056"
          ],
          [
           "10.1016/j.msea.2019.05.056"
          ],
          [
           "10.1016/j.msea.2019.04.096"
          ],
          [
           "10.1016/j.msea.2019.04.096"
          ],
          [
           "10.1016/j.msea.2019.04.096"
          ],
          [
           "10.1016/j.msea.2019.05.078"
          ],
          [
           "10.1016/j.msea.2019.05.078"
          ],
          [
           "10.1016/j.msea.2019.05.078"
          ],
          [
           "10.1016/j.msea.2019.05.078"
          ],
          [
           "10.1016/j.msea.2019.05.078"
          ],
          [
           "10.1016/j.msea.2019.05.078"
          ],
          [
           "10.1016/j.msea.2019.05.078"
          ],
          [
           "10.1016/j.msea.2019.05.003"
          ],
          [
           "10.1016/j.msea.2019.05.003"
          ],
          [
           "10.1016/j.msea.2019.05.003"
          ],
          [
           "10.1038/s41467-019-10533-1"
          ],
          [
           "10.1038/s41467-019-10533-1"
          ],
          [
           "10.1038/s41467-019-10533-1"
          ],
          [
           "10.1038/s41467-019-10533-1"
          ],
          [
           "10.1038/s41467-019-10533-1"
          ],
          [
           "10.1038/s41467-019-10533-1"
          ],
          [
           "10.1038/s41467-019-10533-1"
          ],
          [
           "10.1016/j.jmst.2018.12.014"
          ],
          [
           "10.1016/j.jmst.2018.12.014"
          ],
          [
           "10.1016/j.jmst.2018.12.014"
          ],
          [
           "10.1016/j.jmst.2018.12.014"
          ],
          [
           "10.1016/j.jmst.2018.12.014"
          ],
          [
           "10.1016/j.jmst.2018.12.014"
          ],
          [
           "10.1016/j.msea.2019.04.104"
          ],
          [
           "10.1016/j.msea.2019.04.104"
          ],
          [
           "10.1016/j.msea.2019.04.104"
          ],
          [
           "10.1016/j.msea.2019.04.104"
          ],
          [
           "10.1016/j.jmmm.2019.01.096"
          ],
          [
           "10.1016/j.jmmm.2019.01.096"
          ],
          [
           "10.1016/j.jmmm.2019.01.096"
          ],
          [
           "10.1038/s41598-019-43329-w"
          ],
          [
           "10.1038/s41598-019-43329-w"
          ],
          [
           "10.1038/s41598-019-43329-w"
          ],
          [
           "10.1038/s41598-019-43329-w"
          ],
          [
           "10.1038/s41598-019-43329-w"
          ],
          [
           "10.3390/e21050448"
          ],
          [
           "10.3390/e21050448"
          ],
          [
           "10.3390/e21050448"
          ],
          [
           "10.3390/e21050448"
          ],
          [
           "10.3390/e21050448"
          ],
          [
           "10.3390/e21050448"
          ],
          [
           "10.3390/e21050448"
          ],
          [
           "10.3390/e21050448"
          ],
          [
           "10.3390/e21050448"
          ],
          [
           "10.3390/e21050448"
          ],
          [
           "10.3390/e21050448"
          ],
          [
           "10.3390/ma12071136"
          ],
          [
           "10.3390/ma12071136"
          ],
          [
           "10.3390/ma12071136"
          ],
          [
           "10.3390/ma12071136"
          ],
          [
           "10.3390/ma12071136"
          ],
          [
           "10.3390/e21030288"
          ],
          [
           "10.3390/e21030288"
          ],
          [
           "10.3390/e21030288"
          ],
          [
           "10.3390/e21030288"
          ],
          [
           "10.3390/e21030288"
          ],
          [
           "10.1016/j.scriptamat.2018.12.021"
          ],
          [
           "10.1557/jmr.2019.40"
          ],
          [
           "10.1557/jmr.2019.40"
          ],
          [
           "10.1557/jmr.2019.40"
          ],
          [
           "10.1557/jmr.2019.40"
          ],
          [
           "10.1557/jmr.2019.40"
          ],
          [
           "10.1557/jmr.2019.18"
          ],
          [
           "10.1557/jmr.2019.18"
          ],
          [
           "10.1557/jmr.2019.18"
          ],
          [
           "10.1557/jmr.2019.18"
          ],
          [
           "10.1557/jmr.2019.36"
          ],
          [
           "10.1557/jmr.2019.36"
          ],
          [
           "10.1557/jmr.2019.36"
          ],
          [
           "10.1557/jmr.2019.36"
          ],
          [
           "10.1557/jmr.2019.36"
          ],
          [
           "10.1016/j.msea.2019.01.088"
          ],
          [
           "10.1016/j.msea.2019.01.088"
          ],
          [
           "10.1016/j.msea.2019.01.088"
          ],
          [
           "10.1016/j.msea.2019.01.088"
          ],
          [
           "10.1016/j.msea.2019.01.083"
          ],
          [
           "10.1016/j.msea.2019.01.083"
          ],
          [
           "10.1016/j.msea.2019.01.083"
          ],
          [
           "10.1016/j.msea.2019.01.083"
          ],
          [
           "10.1007/s00339-019-2484-1"
          ],
          [
           "10.1007/s00339-019-2484-1"
          ],
          [
           "10.1007/s00339-019-2484-1"
          ],
          [
           "10.1007/s00339-019-2484-1"
          ],
          [
           "10.1007/s10853-018-03196-8"
          ],
          [
           "10.1007/s00339-019-2506-z"
          ],
          [
           "10.1007/s00339-019-2506-z"
          ],
          [
           "10.1007/s00339-019-2506-z"
          ],
          [
           "10.1007/s00339-019-2506-z"
          ],
          [
           "10.3390/met9030351"
          ],
          [
           "10.1007/s11665-018-3837-1"
          ],
          [
           "10.1007/s11665-018-3837-1"
          ],
          [
           "10.1007/s11665-018-3837-1"
          ],
          [
           "10.1007/s11665-018-3837-1"
          ],
          [
           "10.1007/s11665-018-3837-1"
          ],
          [
           "10.3390/e21020122"
          ],
          [
           "10.3390/e21020122"
          ],
          [
           "10.3390/e21020122"
          ],
          [
           "10.3390/e21020122"
          ],
          [
           "10.3390/e21020114"
          ],
          [
           "10.3390/e21020114"
          ],
          [
           "10.3390/e21020114"
          ],
          [
           "10.3390/e21020114"
          ],
          [
           "10.3390/e21020114"
          ],
          [
           "10.3390/e21020114"
          ],
          [
           "10.3390/e21020114"
          ],
          [
           "10.1016/j.msea.2018.12.020"
          ],
          [
           "10.1016/j.msea.2018.12.020"
          ],
          [
           "10.1016/j.msea.2018.12.020"
          ],
          [
           "10.1016/j.msea.2018.12.020"
          ],
          [
           "10.1016/j.msea.2018.12.020"
          ],
          [
           "10.1155/2019/2157592"
          ],
          [
           "10.1155/2019/2157592"
          ],
          [
           "10.1155/2019/2157592"
          ],
          [
           "10.1155/2019/2157592"
          ],
          [
           "10.1155/2019/2157592"
          ],
          [
           "10.1155/2019/2157592"
          ],
          [
           "10.1155/2019/2157592"
          ],
          [
           "10.1155/2019/2157592"
          ],
          [
           "10.1155/2019/2157592"
          ],
          [
           "10.1080/00325899.2019.1576389"
          ],
          [
           "10.1007/s11106-019-00012-z"
          ],
          [
           "10.1007/s11106-019-00012-z"
          ],
          [
           "10.1007/s11106-019-00012-z"
          ],
          [
           "10.1007/s11106-019-00012-z"
          ],
          [
           "10.1080/00325899.2018.1554834"
          ],
          [
           "10.1007/s11665-018-3822-8"
          ],
          [
           "10.1007/s11665-018-3822-8"
          ],
          [
           "10.3390/e21010015"
          ],
          [
           "10.3390/e21010015"
          ],
          [
           "10.3390/e21010015"
          ],
          [
           "10.3390/e21010015"
          ],
          [
           "10.3390/e21010015"
          ],
          [
           "10.3390/e21010015"
          ],
          [
           "10.3390/e21010015"
          ],
          [
           "10.3390/e21010015"
          ],
          [
           "10.3390/e21010015"
          ],
          [
           "10.3390/e21010015"
          ],
          [
           "10.3390/e21010015"
          ],
          [
           "10.3390/e21010015"
          ],
          [
           "10.3390/e21010015"
          ],
          [
           "10.3390/e21010015"
          ],
          [
           "10.3390/e21010015"
          ],
          [
           "10.3390/e21010015"
          ],
          [
           "10.3390/e21010015"
          ],
          [
           "10.3390/e21010015"
          ],
          [
           "10.3390/e21010015"
          ],
          [
           "10.3390/e21010015"
          ],
          [
           "10.3390/e21010015"
          ],
          [
           "10.3390/e21010015"
          ],
          [
           "10.3390/coatings9010016"
          ],
          [
           "10.3390/coatings9010016"
          ],
          [
           "10.3390/coatings9010016"
          ],
          [
           "10.5755/j01.ms.25.3.19452"
          ],
          [
           "10.1007/s11661-018-4646-8"
          ],
          [
           "10.1007/s11661-018-4646-8"
          ],
          [
           "10.1007/s11661-018-4646-8"
          ],
          [
           "10.1007/s11661-018-4646-8"
          ],
          [
           "10.1007/s11661-018-4646-8"
          ],
          [
           "10.1007/s11661-018-4646-8"
          ],
          [
           "10.1007/s11661-018-4646-8"
          ],
          [
           "10.1007/s11661-018-4646-8"
          ],
          [
           "10.1007/s11661-018-4646-8"
          ],
          [
           "10.1007/s11661-018-4646-8"
          ],
          [
           "10.1007/s11661-018-4646-8"
          ],
          [
           "10.1080/02670836.2018.1446267"
          ],
          [
           "10.1080/02670836.2018.1446267"
          ],
          [
           "10.1016/j.matlet.2015.08.099"
          ],
          [
           "10.1179/1743284715Y.0000000032"
          ],
          [
           "10.1016/j.actamat.2012.11.032"
          ],
          [
           "10.1016/j.actamat.2012.11.032"
          ],
          [
           "10.1088/0256-307X/35/3/036102"
          ],
          [
           "10.1088/0256-307X/35/3/036102"
          ],
          [
           "10.1088/0256-307X/35/3/036102"
          ],
          [
           "10.1088/0256-307X/35/3/036102"
          ],
          [
           "10.1088/0256-307X/35/3/036102"
          ],
          [
           "10.1088/0256-307X/35/3/036102"
          ],
          [
           "10.1016/j.matdes.2018.06.003"
          ],
          [
           "10.1016/j.matdes.2018.06.003"
          ],
          [
           "10.1016/j.matdes.2018.06.003"
          ],
          [
           "10.1016/j.matdes.2018.06.003"
          ],
          [
           "10.1016/j.matdes.2018.06.003"
          ],
          [
           "10.1016/j.matdes.2018.06.003"
          ],
          [
           "10.1016/j.matdes.2018.06.003"
          ],
          [
           "10.1016/j.matdes.2018.06.003"
          ],
          [
           "10.1016/j.matdes.2018.06.003"
          ],
          [
           "10.1016/j.matdes.2018.06.003"
          ],
          [
           "10.1016/j.matdes.2018.06.003"
          ],
          [
           "10.1016/j.matdes.2018.06.003"
          ],
          [
           "10.1016/j.matdes.2018.06.003"
          ],
          [
           "10.1016/j.matdes.2018.06.003"
          ],
          [
           "10.1016/j.matdes.2018.06.003"
          ],
          [
           "10.1016/j.matdes.2018.06.003"
          ],
          [
           "10.1016/j.matdes.2018.06.003"
          ],
          [
           "10.1016/j.matdes.2018.06.003"
          ],
          [
           "10.1016/j.matdes.2018.06.003"
          ],
          [
           "10.1016/j.matdes.2018.06.003"
          ],
          [
           "10.1016/j.matdes.2018.06.003"
          ],
          [
           "10.1016/j.matdes.2018.06.003"
          ]
         ],
         "hoverlabel": {
          "namelength": 0
         },
         "hovertemplate": "<b>%{hovertext}</b><br><br>PROPERTY: BCC/FCC/other=%{x}<br>PROPERTY: HV=%{y}<br>REFERENCE: doi=%{customdata[0]}",
         "hovertext": [
          "Al0.25 Co1 Fe1 Ni1",
          "Al0.5 Co1 Fe1 Ni1",
          "Al0.75 Co1 Fe1 Ni1",
          "Al1 Co1 Fe1 Ni1",
          "Co1 Fe1 Ni1",
          "Co1 Fe1 Ni1",
          "Co1 Fe1 Ni1 Si0.25",
          "Co1 Fe1 Ni1 Si0.5",
          "Co1 Fe1 Ni1 Si0.75",
          "Co1 Cr1 Fe1 Ni1",
          "Co1 Cr1 Mn1 Ni1",
          "Co1 Cr1 Ni1",
          "Co1 Fe1 Mn1 Ni1",
          "Co1 Fe1 Ni1",
          "Co1 Mn1 Ni1",
          "Fe1 Mn1 Ni1",
          "Co1 Cr1 Fe1 Nb0.103 Ni1",
          "Co1 Cr1 Fe1 Nb0.155 Ni1",
          "Co1 Cr1 Fe1 Nb0.206 Ni1",
          "Co1 Cr1 Fe1 Nb0.309 Ni1",
          "Co1 Cr1 Fe1 Nb0.412 Ni1",
          "Co1 Cr1 Fe1 Ni1",
          "Al0.25 Co1 Cr1 Fe1 Ni1",
          "Al0.25 Co1 Cr1 Fe1 Ni1",
          "Al0.375 Co1 Cr1 Fe1 Ni1",
          "Al0.375 Co1 Cr1 Fe1 Ni1",
          "Al0.5 Co1 Cr1 Fe1 Ni1",
          "Al0.5 Co1 Cr1 Fe1 Ni1",
          "Al0.75 Co1 Cr1 Fe1 Ni1",
          "Al0.75 Co1 Cr1 Fe1 Ni1",
          "Al0.875 Co1 Cr1 Fe1 Ni1",
          "Al0.875 Co1 Cr1 Fe1 Ni1",
          "Al1 Co0.8 Cr0.8 Fe0.8 Ni0.8",
          "Al1 Co0.8 Cr0.8 Fe0.8 Ni0.8",
          "Al1 Co0.667 Cr0.667 Fe0.667 Ni0.667",
          "Al1 Co0.667 Cr0.667 Fe0.667 Ni0.667",
          "Al1 Co0.5 Cr0.5 Fe0.5 Ni0.5",
          "Al1 Co0.5 Cr0.5 Fe0.5 Ni0.5",
          "Al1 Co1 Cr1 Fe1 Ni1",
          "Al1 Co1 Cr1 Fe1 Ni1",
          "Co1 Cr1 Fe1 Ni1",
          "Co1 Cr1 Fe1 Ni1",
          "Al0.5 Co1 Cr1 Fe1 Mo0.5 Ni1",
          "Al1 Co0.667 Cr0.667 Fe0.667 Mo0.333 Ni0.667",
          "Al1 Co0.5 Cr0.5 Fe0.5 Mo0.25 Ni0.5",
          "Al1 Co1 Cr1 Fe1 Mo0.5 Ni1",
          "Co1 Cr1 Fe1 Mo0.5 Ni1",
          "Al0.5 Co1 Cr1 Fe1 Ni1 Ti1",
          "Al1 Co0.667 Cr0.667 Fe0.667 Ni0.667 Ti0.667",
          "Al1 Co0.5 Cr0.5 Fe0.5 Ni0.5 Ti0.5",
          "Al1 Co1 Cr1 Fe1 Ni1 Ti1",
          "Co1 Cr1 Fe1 Ni1 Ti1",
          "Al0.133 Co1 Cr0.667 Fe0.667 Ni1 Ti0.667",
          "Al0.133 Co1 Cr0.667 Fe0.667 Ni1 Ti0.333",
          "Co1 Cr0.667 Fe0.667 Ni1 Ti0.667",
          "Co1 Cr0.667 Fe0.667 Ni1 Ti0.333",
          "Al0.7 Co0.3 Cr1 Fe1 Ni1",
          "Al0.875 Co1 Cr1 Fe1 Ni1",
          "Al1 Co0.667 Cr0.667 Fe0.667 Ni0.667",
          "Al1 Co0.4 Cr0.4 Fe0.4 Ni0.4",
          "Al1 Co0.5 Cr0.5 Fe0.5 Ni0.5",
          "Al1 Co0.333 Cr0.333 Fe0.333 Ni0.333",
          "Al1 Co1 Cr1 Fe1 Ni1",
          "Al1 Cr1 Cu1 Fe1 Ni1",
          "Co1 Cr1 Cu1 Fe1 Ni1",
          "Cr1 Cu1 Fe1 Mn1 Ni1",
          "Cr1 Cu1 Fe1 Mo1 Ni1",
          "Al1 Co1 Cr1 Fe1 Ni1",
          "Al1 C0.1 Co1 Cr1 Fe1 Ni1",
          "Al1 C0.2 Co1 Cr1 Fe1 Ni1",
          "Al1 C0.3 Co1 Cr1 Fe1 Ni1",
          "Al1 C0.4 Co1 Cr1 Fe1 Ni1",
          "Al1 C0.5 Co1 Cr1 Fe1 Ni1",
          "Al0.667 C1 Co0.667 Cr0.667 Fe0.667 Ni0.667",
          "Al1 C1 Co1 Cr1 Fe1 Ni1",
          "Al1 Co1 Cr1 Fe1 Ni1",
          "Al1 Co1 Cr1 Fe1 Mo0.1 Ni1",
          "Al1 Co1 Cr1 Fe1 Mo0.2 Ni1",
          "Al1 Co1 Cr1 Fe1 Mo0.3 Ni1",
          "Al1 Co1 Cr1 Fe1 Mo0.4 Ni1",
          "Al1 Co1 Cr1 Fe1 Mo0.5 Ni1",
          "Al1 Co1 Cr1 Fe1 Ni1",
          "Al1 Co1 Cr1 Fe1 Nb0.1 Ni1",
          "Al1 Co1 Cr1 Fe1 Nb0.25 Ni1",
          "Al1 Co1 Cr1 Fe1 Nb0.5 Ni1",
          "Al1 Co1 Cr1 Fe1 Nb0.75 Ni1",
          "Al1 Co1 Cr1 Fe1 Ni1",
          "Al0.8 Co1 Cr1 Cu1 Fe1 Ni1",
          "Al1 Co0.5 Cr1 Fe1 Mo0.5 Ni1",
          "Al0.667 Co1 Cr0.667 Fe0.667 Mo0.333 Ni0.667",
          "Al0.5 Co1 Cr0.5 Fe0.5 Mo0.25 Ni0.5",
          "Al1 Co1 Cr1 Fe1 Mo0.5 Ni1",
          "Al1 Co1 Cr1 Fe1 Mo0.5 Ni1",
          "Al1 Co1 Cr1 Fe0.6 Mo0.5 Ni1",
          "Al0.667 Co0.667 Cr0.667 Fe1 Mo0.333 Ni0.667",
          "Al0.5 Co0.5 Cr0.5 Fe1 Mo0.25 Ni0.5",
          "Al1 Co1 Cr1 Fe1 Mo0.5",
          "Al1 Co1 Cr1 Fe1 Mo0.5 Ni1",
          "Al1 Co1 Cr1 Fe1 Mo0.5 Ni0.5",
          "Al0.667 Co0.667 Cr0.667 Fe0.667 Mo0.333 Ni1",
          "Al0.5 Co0.5 Cr0.5 Fe0.5 Mo0.25 Ni1",
          "Al1 Co1 Cr1 Fe1 Ni1",
          "Al1 Co1 Cr1 Fe1 Ni1 Si1",
          "Al1 Co1 Cr1 Fe1 Ni1 Si0.2",
          "Al1 Co1 Cr1 Fe1 Ni1 Si0.4",
          "Al1 Co1 Cr1 Fe1 Ni1 Si0.6",
          "Al1 Co1 Cr1 Fe1 Ni1 Si0.8",
          "Al0.25 Co1 Cr1 Cu0.5 Fe1 Ni1 Ti0.5",
          "Al0.25 Co1 Cr1 Cu0.75 Fe1 Ni1 Ti0.5",
          "Al0.5 Co1 Cr1 Cu0.5 Fe1 Ni1 Ti0.5",
          "Al0.75 Co1 Cr1 Cu0.25 Fe1 Ni1 Ti0.5",
          "Co1 Cr1 Cu1 Fe1 Ni1 Ti0.5",
          "Al1 Co1 Cr1 Fe1 Ni1 Ti1",
          "Al1 Co1 Cr1 Fe1 Ni1 Ti0.5",
          "Al0.667 Co0.667 Cr0.667 Fe0.667 Ni0.667 Ti1",
          "Al1 Co1 Cr1 Fe1 Ni1 Ti1 V1 Zr1",
          "Al1 Co1 Fe1 Ni1 Ti1 V1 Zr1",
          "Al1 Fe1 Ni1 Ti1 V1 Zr1",
          "Co1 Cr1 Cu1 Fe1 Ni1 Ti1 V1 Zr1",
          "Co1 Cr1 Fe1 Mo1 Ni1 Ti1 V1 Zr1",
          "Co1 Cu1 Fe1 Ni1 Ti1 V1 Zr1",
          "Co1 Fe1 Mo1 Ni1 Ti1 V1 Zr1",
          "Cu1 Fe1 Ni1 Ti1 V1 Zr1",
          "Fe1 Mo1 Ni1 Ti1 V1 Zr1",
          "Al0.1 Co1 Cr1 Fe1 Mn1 Ni1",
          "Al0.2 Co1 Cr1 Fe1 Mn1 Ni1",
          "Al0.38 Co1 Cr1 Fe1 Mn1 Ni1",
          "Al0.43 Co1 Cr1 Fe1 Mn1 Ni1",
          "Al0.49 Co1 Cr1 Fe1 Mn1 Ni1",
          "Al0.56 Co1 Cr1 Fe1 Mn1 Ni1",
          "Al0.62 Co1 Cr1 Fe1 Mn1 Ni1",
          "Al0.68 Co1 Cr1 Fe1 Mn1 Ni1",
          "Al0.75 Co1 Cr1 Fe1 Mn1 Ni1",
          "Al0.81 Co1 Cr1 Fe1 Mn1 Ni1",
          "Al0.88 Co1 Cr1 Fe1 Mn1 Ni1",
          "Al0.95 Co1 Cr1 Fe1 Mn1 Ni1",
          "Al1 Co0.8 Cr0.8 Fe0.8 Mn0.8 Ni0.8",
          "Co1 Cr1 Fe1 Mn1 Ni1",
          "Co1 Cr1 Fe1 Mn1 Ni1",
          "Co1 Cr1 Fe1 Mn1 Ni1",
          "Co1 Cr1 Fe1 Mn1 Ni1 V0.25",
          "Co1 Cr1 Fe1 Mn1 Ni1 V0.25",
          "Co1 Cr1 Fe1 Mn1 Ni1 V0.5",
          "Co1 Cr1 Fe1 Mn1 Ni1 V0.5",
          "Co1 Cr1 Fe1 Mn1 Ni1 V0.75",
          "Co1 Cr1 Fe1 Mn1 Ni1 V0.75",
          "Co1 Cr1 Fe1 Mn1 Ni1 V1",
          "Co1 Cr1 Fe1 Mn1 Ni1 V1",
          "Al0.2 Cr0.667 Fe1 Mn0.667 Ni0.333",
          "Al0.333 Cr0.667 Fe1 Mn0.667 Ni0.333",
          "Al1 Cr1 Fe1 Ni1",
          "Al1 Cr1 Fe1 Mo1 Ni1",
          "Al1 Cr1 Fe1 Mo0.2 Ni1",
          "Al1 Cr1 Fe1 Mo0.5 Ni1",
          "Al1 Cr1 Fe1 Mo0.8 Ni1",
          "Al0.3 Co1 Cr1 Cu1 Fe1",
          "Al0.5 Co1 Cr1 Cu1 Fe1",
          "Al0.8 Co1 Cr1 Cu1 Fe1",
          "Al1 Co0.769 Cr0.769 Cu0.769 Fe0.769",
          "Al1 Co0.667 Cr0.667 Cu0.667 Fe0.667",
          "Al1 Co0.556 Cr0.556 Cu0.556 Fe0.556",
          "Al1 Co0.5 Cr0.5 Cu0.5 Fe0.5",
          "Al1 Co0.435 Cr0.435 Cu0.435 Fe0.435",
          "Al1 Co0.4 Cr0.4 Cu0.4 Fe0.4",
          "Al1 Co0.357 Cr0.357 Cu0.357 Fe0.357",
          "Al1 Co0.333 Cr0.333 Cu0.333 Fe0.333",
          "Al1 Co1 Cr1 Cu1 Fe1",
          "Co1 Cr1 Cu1 Fe1",
          "Co1 Cr1 Cu0.5 Fe1 Ni1",
          "Co1 Cr1 Cu1 Fe1 Ni1 Ti1",
          "Co1 Cr1 Cu1 Fe1 Ni1 Ti0.5",
          "Co1 Cr1 Cu1 Fe1 Ni1 Ti0.8",
          "Al0.5 B0.2 Co1 Cr1 Cu1 Fe1 Ni1",
          "Al0.5 B0.6 Co1 Cr1 Cu1 Fe1 Ni1",
          "Al0.5 B1 Co1 Cr1 Cu1 Fe1 Ni1",
          "Al0.5 Co1 Cr1 Cu1 Fe1 Ni1",
          "Al0.5 Co1 Cr1 Cu1 Fe1 Ni1",
          "Al0.5 Co1 Cr1 Cu1 Fe1 Ni1 Ti1",
          "Al0.5 Co1 Cr1 Cu1 Fe1 Ni1 Ti0.2",
          "Al0.5 Co1 Cr1 Cu1 Fe1 Ni1 Ti0.4",
          "Al0.5 Co1 Cr1 Cu1 Fe1 Ni1 Ti0.6",
          "Al0.5 Co1 Cr1 Cu1 Fe1 Ni1 Ti0.8",
          "Al0.417 Co0.833 Cr0.833 Cu0.833 Fe0.833 Ni0.833 Ti1",
          "Al0.357 Co0.714 Cr0.714 Cu0.714 Fe0.714 Ni0.714 Ti1",
          "Al0.312 Co0.625 Cr0.625 Cu0.625 Fe0.625 Ni0.625 Ti1",
          "Al0.278 Co0.556 Cr0.556 Cu0.556 Fe0.556 Ni0.556 Ti1",
          "Al0.25 Co0.5 Cr0.5 Cu0.5 Fe0.5 Ni0.5 Ti1",
          "Al0.5 Co1 Cr1 Cu1 Fe1 Ni1",
          "Al0.5 Co1 Cr1 Cu1 Fe1 Ni1 V0.2",
          "Al0.5 Co1 Cr1 Cu1 Fe1 Ni1 V0.4",
          "Al0.5 Co1 Cr1 Cu1 Fe1 Ni1 V0.6",
          "Al0.5 Co1 Cr1 Cu1 Fe1 Ni1 V0.8",
          "Al0.5 Co1 Cr1 Cu1 Fe1 Ni1 V1",
          "Al0.417 Co0.833 Cr0.833 Cu0.833 Fe0.833 Ni0.833 V1",
          "Al0.357 Co0.714 Cr0.714 Cu0.714 Fe0.714 Ni0.714 V1",
          "Al0.312 Co0.625 Cr0.625 Cu0.625 Fe0.625 Ni0.625 V1",
          "Al0.278 Co0.556 Cr0.556 Cu0.556 Fe0.556 Ni0.556 V1",
          "Al0.25 Co0.5 Cr0.5 Cu0.5 Fe0.5 Ni0.5 V1",
          "Al1 Co1 Cr1 Cu1 Fe1 Ni1",
          "Al1 Co1 Cu1 Fe1 Nd1 Ni1",
          "Al1 Co1 Cu1 Fe1 Ni1",
          "Al1 Co1 Cu1 Fe1 Ni1 Si1",
          "Al1 Co1 Cu1 Fe1 Ni1 Ti1",
          "Al1 Co1 Cu1 Fe1 Ni1 Zr1",
          "Al1 Co1 Cr1 Cu1 Fe1 Mn1 Ni1",
          "Al1 Co1 Cr1 Cu1 Fe1 Ni1",
          "Al1 Co1 Cr1 Cu1 Fe1 Ni1 Ti1",
          "Al1 Co1 Cr1 Cu1 Fe1 Ni1 V1",
          "Al1 Co1 Cr1 Cu1 Ni1 Ti1",
          "Al1 Co1 Cr1 Cu1 Ni1 Ti1 Y1",
          "Al1 Co1 Cr1 Cu1 Ni1 Ti1 Y0.5",
          "Al1 Co1 Cr1 Cu1 Ni1 Ti1 Y0.8",
          "Co1 Cu1 Fe1 Ni1",
          "Co1 Cu1 Fe1 Ni1 Sn0.02",
          "Co1 Cu1 Fe1 Ni1 Sn0.04",
          "Co1 Cu1 Fe1 Ni1 Sn0.05",
          "Co1 Cu1 Fe1 Ni1 Sn0.07",
          "Co1 Cu1 Fe1 Ni1 Sn0.1",
          "Co1 Cu1 Fe1 Ni1 Sn0.2",
          "Co1 Cu1 Fe1 Ni1 Sn0.5",
          "Co1 Cu1 Fe1 Mn1 Ni1",
          "Co1 Cu1 Fe1 Mn1 Ni1 Sn0.03",
          "Co1 Cu1 Fe1 Mn1 Ni1 Sn0.05",
          "Co1 Cu1 Fe1 Mn1 Ni1 Sn0.08",
          "Co1 Cu1 Fe1 Mn1 Ni1 Sn0.1",
          "Co1 Cu1 Fe1 Mn1 Ni1 Sn0.2",
          "Al1 Cr1 Cu1 Fe1 Ni1",
          "Al1 Cr1 Cu1 Fe1 Ni0.6",
          "Al1 Cr1 Cu1 Fe1 Ni0.8",
          "Al0.833 Cr0.833 Cu0.833 Fe0.833 Ni1",
          "Al0.714 Cr0.714 Cu0.714 Fe0.714 Ni1",
          "Co1 Cr1 Cu1 Fe1 Ni1",
          "Al0.1 Cr0.5 Cu0.5 Fe0.5 Ni1",
          "Al0.2 Cr0.5 Cu0.5 Fe0.5 Ni1",
          "Al0.3 Cr0.5 Cu0.5 Fe0.5 Ni1",
          "Al0.4 Cr0.5 Cu0.5 Fe0.5 Ni1",
          "Al0.6 Cr0.5 Cu0.5 Fe0.5 Ni1",
          "Al0.5 Cr0.5 Cu0.5 Fe0.5 Ni1",
          "Al1 Cr1 Cu1 Fe1 Ni1 Ti1",
          "Al1 Cu0.889 Fe0.667 Ni0.889 Ti1",
          "Al1 Cu0.889 Fe0.667 Ni0.889 Ti1",
          "Al1 Cu1 Fe1 Ni1 Ti1",
          "Al1 Cu1 Ni1 Ti1",
          "Al1 Cu0.062 Li0.062 Mg0.062 Zn0.062",
          "Al1 Li0.062 Mg0.062 Sn0.062 Zn0.062",
          "Al1 Cu0.2 Li0.5 Mg1 Zn0.5",
          "Al1 Cu0.5 Li0.5 Mg1 Sn0.2",
          "Al1 Li0.5 Mg1 Sn0.2 Zn0.5",
          "Al1 Li1 Mg1 Sn1 Zn1",
          "Al0.667 Li0.667 Mg0.333 Sc0.667 Ti1",
          "Al0.214 Nb0.714 Ta0.571 Ti1 V0.143 Zr0.929",
          "Al0.214 Nb0.714 Ta0.571 Ti1 V0.143 Zr0.929",
          "Al0.214 Nb0.714 Ta0.571 Ti1 V0.143 Zr0.929",
          "Al0.214 Nb0.714 Ta0.714 Ti1 Zr0.929",
          "Al0.214 Nb0.714 Ta0.714 Ti1 Zr0.929",
          "Al0.214 Nb0.714 Ta0.714 Ti1 Zr0.929",
          "Al0.4 Hf0.6 Nb1 Ta1 Ti1 Zr1",
          "Al0.4 Hf0.6 Nb1 Ta1 Ti1 Zr1",
          "Al0.4 Hf0.6 Nb1 Ta1 Ti1 Zr1",
          "Al0.333 Nb0.667 Ta0.533 Ti1 V0.133 Zr0.667",
          "Al0.333 Nb0.667 Ta0.533 Ti1 V0.133 Zr0.667",
          "Al0.333 Nb0.667 Ta0.533 Ti1 V0.133 Zr0.667",
          "Al1 Mo0.5 Nb1 Ta0.5 Ti1 Zr1",
          "Al1 Mo0.5 Nb1 Ta0.5 Ti1 Zr1",
          "Al1 Mo0.5 Nb1 Ta0.5 Ti1 Zr1",
          "Al1 Mo0.5 Nb1 Ta0.5 Ti1 Zr1",
          "Al0.667 Nb1 Ta0.333 Ti1 Zr0.333",
          "Al0.667 Nb1 Ta0.333 Ti1 Zr0.333",
          "Al0.667 Nb1 Ta0.333 Ti1 Zr0.333",
          "Al0.3 Hf1 Nb1 Ta1 Ti1 Zr1",
          "Al0.5 Hf1 Nb1 Ta1 Ti1 Zr1",
          "Al0.75 Hf1 Nb1 Ta1 Ti1 Zr1",
          "Al1 Hf1 Nb1 Ta1 Ti1 Zr1",
          "Hf1 Nb1 Ta1 Ti1 Zr1",
          "Al0.25 Mo1 Nb1 Ti1 V1",
          "Al0.5 Mo1 Nb1 Ti1 V1",
          "Al0.75 Mo1 Nb1 Ti1 V1",
          "Al1 Mo1 Nb1 Ti1 V1",
          "Mo1 Nb1 Ti1 V1",
          "Al0.25 Nb1 Ta1 Ti1 V1",
          "Al0.5 Nb1 Ta1 Ti1 V1",
          "Al1 Nb1 Ta1 Ti1 V1",
          "Nb1 Ta1 Ti1 V1",
          "Al1 Nb1 Ti1 V1",
          "Al1 Nb1 Ti1 V1",
          "Al1 Nb1 Ti1 V1",
          "Al1 Nb1 Ti1 V1",
          "Cr1 Mo0.5 Nb1 Ta0.5 Ti1 Zr1",
          "Cr1 Mo0.5 Nb1 Ta0.5 Ti1 Zr1",
          "Cr1 Mo0.5 Nb1 Ta0.5 Ti1 Zr1",
          "Cr1 Mo0.5 Nb1 Ta0.5 Ti1 Zr1",
          "Cr1 Nb1 Ti1 V1 Zr1",
          "Cr1 Nb1 Ti1 V1 Zr1",
          "Cr1 Nb1 Ti1 V1 Zr1",
          "Cr1 Nb1 Ti1 V1 Zr1",
          "Cr1 Nb1 Ti1 Zr1",
          "Cr1 Nb1 Ti1 Zr1",
          "Cr1 Nb1 Ti1 Zr1",
          "Cr1 Nb1 Ti1 Zr1",
          "Nb0.5 Ti0.5 V1 Zr0.5",
          "Nb0.5 Ti0.5 V1 Zr0.5",
          "Nb0.5 Ti0.5 V1 Zr0.5",
          "Nb0.5 Ti0.5 V1 Zr0.5",
          "Nb1 Ti1 V1 Zr1",
          "Nb1 Ti1 V1 Zr1",
          "Nb1 Ti1 V1 Zr1",
          "Nb1 Ti1 V1 Zr1",
          "Hf0.5 Mo0.5 Nb1 Ti1 Zr1",
          "C0.1 Hf0.5 Mo0.5 Nb1 Ti1 Zr1",
          "C0.3 Hf0.5 Mo0.5 Nb1 Ti1 Zr1",
          "Hf1 Mo0.25 Nb1 Ta1 Ti1 Zr1",
          "Hf1 Mo0.5 Nb1 Ta1 Ti1 Zr1",
          "Hf1 Mo0.75 Nb1 Ta1 Ti1 Zr1",
          "Hf1 Mo1 Nb1 Ta1 Ti1 Zr1",
          "Hf1 Nb1 Ta1 Ti1 Zr1",
          "Hf1 Mo1 Nb1 Ta1 Ti1 Zr1",
          "Hf1 Mo1 Nb1 Ta1 Ti1 Zr1",
          "Hf1 Mo1 Nb1 Ta1 Ti1 Zr1",
          "Hf1 Mo1 Nb1 Ta1 Ti1 Zr1",
          "Hf1 Mo1 Ta1 Ti1 Zr1",
          "Hf1 Mo1 Ta1 Ti1 Zr1",
          "Hf1 Mo1 Ta1 Ti1 Zr1",
          "Hf1 Mo1 Ta1 Ti1 Zr1",
          "Hf1 Mo1 Nb1 Ti1 Zr1",
          "Hf1 Mo1 Nb1 Ti1 Zr1",
          "Hf1 Mo1 Nb1 Ti1 Zr1",
          "Hf1 Mo1 Nb1 Ti1 Zr1",
          "Hf1 Mo1 Nb1 Ti1 Zr1",
          "Hf1 Nb1 Si0.5 Ti1 V1",
          "Hf1 Nb1 Si0.5 Ti1 V1",
          "Hf1 Nb1 Si0.5 Ti1 V1",
          "Hf0.333 Nb0.333 Ta0.333 Ti1 Zr0.667",
          "Hf1 Nb1 Ta1 Ti1 Zr1",
          "Hf1 Nb1 Ta1 Ti1 Zr1",
          "Hf1 Nb1 Ta1 Ti1 Zr1",
          "Hf1 Nb1 Ta1 Ti1 Zr1",
          "Hf1 Nb1 Ta1 Ti1 Zr1",
          "Hf1 Nb1 Ta1 Ti1 Zr1",
          "Hf1 Nb1 Ti1 Zr1",
          "Mo1 Nb1 Ta1 V1",
          "Mo1 Nb1 Ta1 V1 W1",
          "Mo1 Nb1 Ta1 V1 W1",
          "Mo1 Nb1 Ta1 V1 W1",
          "Mo1 Nb1 Ta1 V1 W1",
          "Mo1 Nb1 Ta1 V1 W1",
          "Mo1 Nb1 Ta1 V1 W1",
          "Mo1 Nb1 Ta1 V1 W1",
          "Mo1 Nb1 Ta1 W1",
          "Mo1 Nb1 Ta1 W1",
          "Mo1 Nb1 Ta1 W1",
          "Mo1 Nb1 Ta1 W1",
          "Mo1 Nb1 Ta1 W1",
          "Mo1 Nb1 Ta1 W1",
          "Mo1 Nb1 Ta1 W1",
          "Mo0.3 Nb1 Ti1 V1 Zr1",
          "Mo0.5 Nb1 Ti1 V1 Zr1",
          "Mo0.7 Nb1 Ti1 V1 Zr1",
          "Mo1 Nb0.769 Ti0.769 V0.769 Zr0.769",
          "Mo1 Nb0.667 Ti0.667 V0.667 Zr0.667",
          "Mo1 Nb0.588 Ti0.588 V0.588 Zr0.588",
          "Mo1 Nb0.5 Ti0.5 V0.5 Zr0.5",
          "Mo1 Nb1 Ti1 V1 Zr1",
          "Mo1 Nb1 Ti1 V0.3 Zr1",
          "Mo0.1 Nb1 Ti1 V0.3 Zr1",
          "Mo0.3 Nb1 Ti1 V0.3 Zr1",
          "Mo0.5 Nb1 Ti1 V0.3 Zr1",
          "Mo0.7 Nb1 Ti1 V0.3 Zr1",
          "Mo1 Nb0.769 Ti0.769 V0.231 Zr0.769",
          "Mo1 Nb0.667 Ti0.667 V0.2 Zr0.667",
          "Nb1 Ti1 V0.3 Zr1",
          "Nb1 Ti1 V1 Zr1",
          "Mo1 Nb1 Ti1 V0.25 Zr1",
          "Mo1 Nb1 Ti1 V0.5 Zr1",
          "Mo1 Nb1 Ti1 V0.75 Zr1",
          "Mo1 Nb1 Ti1 V1 Zr1",
          "Mo0.667 Nb0.667 Ti0.667 V1 Zr0.667",
          "Mo0.5 Nb0.5 Ti0.5 V1 Zr0.5",
          "Mo0.333 Nb0.333 Ti0.333 V1 Zr0.333",
          "Mo1 Nb1 Ti1 Zr1",
          "Co1 Fe1 Mo0.2 Ni1 V1",
          "Co1 Fe1 Mo0.4 Ni1 V1",
          "Co1 Fe1 Mo0.6 Ni1 V1",
          "Co1 Fe1 Mo0.8 Ni1 V1",
          "Co0.833 Fe0.833 Mo0.833 Ni1 V0.833",
          "Co0.714 Fe0.714 Mo0.714 Ni1 V0.714",
          "Co0.625 Fe0.625 Mo0.625 Ni1 V0.625",
          "Co0.556 Fe0.556 Mo0.556 Ni1 V0.556",
          "Co0.5 Fe0.5 Mo0.5 Ni1 V0.5",
          "Co1 Fe1 Mo1 Ni1 V1",
          "Co1 Fe1 Ni1 V1",
          "Al0.125 Co1 Cr1 Cu1 Fe1 Mn1 Ni1 Ti1 V1",
          "Al0.25 Co1 Cr1 Cu1 Fe1 Mn1 Ni1 Ti1 V1",
          "Al0.667 Co1 Cr1 Cu1 Fe1 Mn1 Ni1 Ti1 V1",
          "Co1 Cr1 Cu1 Fe1 Mn1 Ni1 Ti1 V1",
          "Cu1 Mn1 Ni1 Zn0.333",
          "Cu1 Mn1 Ni1 Zn0.25",
          "Al0.111 Cu1 Mn1 Ni1",
          "Cu1 Mn1 Ni1 Sn0.111",
          "Al0.053 Cu1 Mn1 Ni1",
          "Cu1 Mn1 Ni1 Sn0.053",
          "Al0.5 Co1 Cr1 Cu1 Fe1 Ni1",
          "Al0.5 Co1 Cr1 Cu1 Fe1 Ni1",
          "Al0.5 Co1 Cr1 Cu1 Fe1 Ni1",
          "Al0.5 Co1 Cr1 Cu1 Fe1 Ni1",
          "Al0.5 Co1 Cr1 Cu1 Fe1 Ni1",
          "Al0.5 Co1 Cr1 Cu1 Fe1 Ni1",
          "Al0.5 Co1 Cr1 Cu1 Fe1 Ni1",
          "Al1 Co0.5 Cr0.5 Cu0.5 Fe0.5 Ni0.5",
          "Al1 Co0.5 Cr0.5 Cu0.5 Fe0.5 Ni0.5",
          "Al1 Co0.5 Cr0.5 Cu0.5 Fe0.5 Ni0.5",
          "Al1 Co0.5 Cr0.5 Cu0.5 Fe0.5 Ni0.5",
          "Al1 Co0.5 Cr0.5 Cu0.5 Fe0.5 Ni0.5",
          "Al1 Co0.5 Cr0.5 Cu0.5 Fe0.5 Ni0.5",
          "Al1 Co0.5 Cr0.5 Cu0.5 Fe0.5 Ni0.5",
          "Al1 Co0.5 Cr0.5 Cu0.5 Fe0.5 Ni0.5",
          "Al1 Co1 Cr1 Cu1 Fe1 Ni1",
          "Al1 Co1 Cr1 Cu1 Fe1 Ni1",
          "Al1 Co1 Cr1 Cu1 Fe1 Ni1",
          "Al1 Co1 Cr1 Cu1 Fe1 Ni1",
          "Al1 Co1 Cr1 Cu1 Fe1 Ni1",
          "Al1 Co1 Cr1 Cu1 Fe1 Ni1",
          "Al1 Cr1 Mo1 Nb1 Ti1",
          "Al1 Cr1 Mo1 Nb1 Ti1",
          "Al1 Cr1 Mo1 Nb1 Ti1",
          "Al1 Cr1 Mo1 Nb1 Ti1",
          "Al1 Cr1 Mo1 Nb1 Ti1",
          "Al1 Cr1 Mo1 Nb1 Ti1",
          "Al1 Cr1 Mo1 Nb1 Ti1",
          "Al1 Cr1 Mo1 Nb1 Ti1",
          "Al1 Cr1 Mo1 Nb1 Ti1",
          "Al1 Cr1 Mo1 Nb1 Ti1",
          "Al1 Cr1 Mo1 Ti1",
          "Al1 Cr1 Mo1 Ti1",
          "Al1 Cr1 Mo1 Ti1",
          "Al1 Cr1 Mo1 Ti1",
          "Al1 Cr1 Mo1 Ti1",
          "Al1 Mo1 Nb1 Ti1",
          "Al1 Mo1 Nb1 Ti1",
          "Al1 Mo1 Nb1 Ti1",
          "Al1 Mo1 Nb1 Ti1",
          "Al1 Nb1 Ti1 V1",
          "Al1 Nb1 Ti1 V1",
          "Al1 Nb1 Ti1 V1",
          "Al1 Nb1 Ti1 V1 Zr1",
          "Al1 Nb1 Ti1 V1 Zr1",
          "Al1 Nb1 Ti1 V1 Zr1",
          "Al1 Nb1 Ti1 V1 Zr0.1",
          "Al1 Nb1 Ti1 V1 Zr0.1",
          "Al1 Nb1 Ti1 V1 Zr0.1",
          "Al1 Nb1 Ti1 V1 Zr0.25",
          "Al1 Nb1 Ti1 V1 Zr0.25",
          "Al1 Nb1 Ti1 V1 Zr0.25",
          "Al1 Nb1 Ti1 V1 Zr0.5",
          "Al1 Nb1 Ti1 V1 Zr0.5",
          "Al1 Nb1 Ti1 V1 Zr0.5",
          "Al0.667 Nb0.667 Ti0.667 V0.667 Zr1",
          "Al0.667 Nb0.667 Ti0.667 V0.667 Zr1",
          "Al0.667 Nb0.667 Ti0.667 V0.667 Zr1",
          "Co1 Cr1 Mo1 Nb1",
          "Co1 Cr1 Mo1 Nb1 Ti1",
          "Co1 Cr1 Mo1 Nb1 Ti0.2",
          "Co1 Cr1 Mo1 Nb1 Ti0.4",
          "Co1 Cr1 Mo1 Nb1 Ti0.5",
          "Cr1 Hf1 Nb1 Ti1 Zr1",
          "Cr1 Hf1 Nb1 Ti1 Zr1",
          "Cr1 Hf1 Nb1 Ti1 Zr1",
          "Cr1 Hf1 Nb1 Ti1 Zr1",
          "Cr1 Hf1 Nb1 Ti1 Zr1",
          "Hf1 Nb1 Ti1 V1 Zr1",
          "Hf1 Nb1 Ti1 V1 Zr1",
          "Hf1 Nb1 Ti1 V1 Zr1",
          "Hf1 Nb1 Ti1 V1 Zr1",
          "Hf1 Nb1 Ti1 V1 Zr1",
          "Cr1 Ta1 Ti0.17 V1 W1",
          "Cr1 Ta1 Ti0.17 V1 W1",
          "Cr1 Ta1 Ti0.3 V1 W1",
          "Cr1 Ta1 Ti0.3 V1 W1",
          "Cr1 Ta1 V1 W1",
          "Cr1 Ta1 V1 W1",
          "Hf0.26 Nb1 Ta1 Ti0.578 Zr0.416",
          "Hf0.26 Nb1 Ta1 Ti0.578 Zr0.416",
          "Hf0.26 Nb1 Ta1 Ti0.578 Zr0.416",
          "Hf0.26 Nb1 Ta1 Ti0.578 Zr0.416",
          "Hf0.26 Nb1 Ta1 Ti0.578 Zr0.416",
          "Hf0.5 Mo0.5 Nb1 Si0.1 Ti1 Zr1",
          "Hf0.5 Mo0.5 Nb1 Si0.3 Ti1 Zr1",
          "Hf0.5 Mo0.5 Nb1 Si0.5 Ti1 Zr1",
          "Hf0.5 Mo0.5 Nb1 Si0.7 Ti1 Zr1",
          "Hf0.5 Mo0.5 Nb1 Si0.9 Ti1 Zr1",
          "Hf0.5 Mo0.5 Nb1 Ti1 Zr1",
          "Hf0.5 Nb0.667 Ta0.333 Ti1 Zr0.833",
          "Hf0.5 Nb0.667 Ta0.333 Ti1 Zr0.833",
          "Hf0.5 Nb0.667 Ta0.333 Ti1 Zr0.833",
          "Hf0.5 Nb0.667 Ta0.333 Ti1 Zr0.833",
          "Hf0.5 Nb0.667 Ta0.333 Ti1 Zr0.833",
          "Hf0.5 Nb0.667 Ta0.333 Ti1 Zr0.833",
          "Hf0.5 Nb0.667 Ta0.333 Ti1 Zr0.833",
          "Hf0.5 Nb0.667 Ta0.333 Ti1 Zr0.833",
          "Hf0.5 Nb0.667 Ta0.333 Ti1 Zr0.833",
          "Hf0.5 Nb0.667 Ta0.333 Ti1 Zr0.833",
          "Hf0.5 Nb0.667 Ta0.333 Ti1 Zr0.833",
          "Hf0.5 Nb0.667 Ta0.333 Ti1 Zr0.833",
          "Hf0.5 Nb0.667 Ta0.333 Ti1 Zr0.833",
          "Hf0.5 Nb0.667 Ta0.333 Ti1 Zr0.833",
          "Hf0.5 Nb0.667 Ta0.333 Ti1 Zr0.833",
          "Hf0.5 Nb0.667 Ta0.333 Ti1 Zr0.833",
          "Hf0.5 Nb0.667 Ta0.333 Ti1 Zr0.833",
          "Hf0.5 Nb0.667 Ta0.333 Ti1 Zr0.833",
          "Hf0.5 Nb0.667 Ta0.333 Ti1 Zr0.833",
          "Hf0.5 Nb0.667 Ta0.333 Ti1 Zr0.833",
          "Hf0.5 Nb0.667 Ta0.333 Ti1 Zr0.833",
          "Hf1 Mo0.5 Nb1 Si0.3 Ti1 V0.5",
          "Hf1 Mo0.5 Nb1 Si0.3 Ti1 V0.5",
          "Hf1 Mo0.5 Nb1 Si0.3 Ti1 V0.5",
          "Hf1 Mo0.5 Nb1 Si0.5 Ti1 V0.5",
          "Hf1 Mo0.5 Nb1 Si0.5 Ti1 V0.5",
          "Hf1 Mo0.5 Nb1 Si0.5 Ti1 V0.5",
          "Hf1 Mo0.5 Nb1 Si0.7 Ti1 V0.5",
          "Hf1 Mo0.5 Nb1 Si0.7 Ti1 V0.5",
          "Hf1 Mo0.5 Nb1 Si0.7 Ti1 V0.5",
          "Hf1 Mo0.5 Nb1 Ti1 V0.5",
          "Hf1 Mo0.5 Nb1 Ti1 V0.5",
          "Hf1 Mo0.5 Nb1 Ti1 V0.5",
          "Hf0.787 Nb0.142 Ta0.142 Ti1 Zr0.787",
          "Al0.25 Nb1 Ta1 Ti1 Zr1",
          "Al0.25 Nb1 Ta1 Ti1 Zr1",
          "Al0.5 Mo0.5 Nb1 Ta0.5 Ti1 Zr1",
          "Al0.5 Mo0.5 Nb1 Ta0.5 Ti1 Zr1",
          "Al1 Mo0.5 Nb1 Ta0.5 Ti1 Zr1",
          "Al1 Mo0.5 Nb1 Ta0.5 Ti1 Zr0.5",
          "Al1 Mo0.5 Nb1 Ta0.5 Ti1 Zr0.5",
          "Al1 Nb1 Ta0.5 Ti1 Zr0.5",
          "Al1 Nb1 Ta0.5 Ti1 Zr0.5",
          "Hf1 Nb1 Si0.5 Ti1 V1 Zr1",
          "Hf1 Nb1 Si0.5 Ti1 V1 Zr1",
          "Hf1 Nb1 Si0.5 Ti1 V1 Zr1",
          "Hf1 Nb1 Si0.5 Ti1 V1 Zr1",
          "Hf1 Nb1 Si0.5 Ti1 V1 Zr1",
          "Hf1 Nb1 Si0.5 Ti1 V1 Zr1",
          "Hf1 Nb1 Si0.5 Ti1 V1 Zr1",
          "Hf1 Nb1 Ta1 Ti1 Zr1",
          "Hf1 Nb1 Ta1 Ti1 Zr1",
          "Hf1 Nb1 Ta1 Ti1 Zr1",
          "Hf1 Nb1 Ta1 Ti1 Zr1",
          "Hf1 Nb1 Ta1 Ti1 Zr1",
          "Hf1 Nb1 Ta1 Ti1 Zr1",
          "Hf1 Nb1 Ta1 Ti1 Zr1",
          "Hf1 Nb1 Ta1 Ti1 Zr1",
          "Hf1 Nb1 Ta1 Ti1 Zr1",
          "Hf1 Nb1 Ta1 Ti1 Zr1",
          "Hf1 Nb1 Ta1 Ti1 Zr1",
          "Hf1 Nb1 Ta1 Ti1 Zr1",
          "Hf1 Nb1 Ta1 Ti1 Zr1",
          "Hf1 Nb1 Ta1 Ti1 Zr1",
          "Hf1 Nb1 Ta1 Ti1 Zr1",
          "Hf1 Nb1 Ta1 Ti1 Zr1",
          "Hf1 Nb1 Ta1 Ti1 Zr1",
          "Al0.2 Mo1 Ta1 Ti1 V1",
          "Al0.6 Mo1 Ta1 Ti1 V1",
          "Al1 Mo1 Ta1 Ti1 V1",
          "Mo1 Ta1 Ti1 V1",
          "Hf1 Nb1 Ta1 Zr1",
          "Hf1 Nb1 Ta1 Zr1",
          "Hf1 Nb1 Ta1 Zr1",
          "Hf1 Nb1 Ta1 Zr1",
          "Hf1 Nb1 Ta1 Zr1",
          "Hf1 Ta0.4 Ti1 Zr1",
          "Hf1 Ta0.5 Ti1 Zr1",
          "Hf1 Ta0.6 Ti1 Zr1",
          "Hf1 Ta1 Ti1 Zr1",
          "Mo1 Nb1 Ta1 Ti0.25 W1",
          "Mo1 Nb1 Ta1 Ti0.5 W1",
          "Mo1 Nb1 Ta1 Ti0.75 W1",
          "Mo1 Nb1 Ta1 Ti1 W1",
          "Mo1 Nb1 Ta1 W1",
          "Mo1 Nb1 Ta1 Ti1 V1",
          "Mo1 Nb1 Ta1 Ti1 V1 W1",
          "Mo1 Nb1 Ta1 Ti1 V1 W1",
          "Mo1 Nb1 Ta1 Ti1 V1 W1",
          "Mo1 Nb1 Ta1 Ti1 V1 W1",
          "Mo1 Nb1 Ta1 Ti1 V1 W1",
          "Mo1 Nb1 Ta1 Ti1 W1",
          "Mo1 Nb1 Ta1 Ti1 W1",
          "Mo1 Nb1 Ta1 Ti1 W1",
          "Mo1 Nb1 Ta1 Ti1 W1",
          "Mo1 Nb1 Ta1 Ti1 W1",
          "Mo1 Nb1 Ta1 Ti1 Zr1",
          "Mo1 Nb1 Ta1 Ti1 Zr1",
          "Mo1 Nb1 Ta1 Ti1 Zr1",
          "Mo1 Nb1 Ta1 V1 W1",
          "Nb1 Ta1 Ti1 V1",
          "Nb1 Ta1 Ti1 V1 W1",
          "Nb1 Ta1 V1 W1",
          "Al0.25 Cr0.5 Nb0.5 Ti1 V0.25",
          "Al0.25 Cr0.5 Nb0.5 Ti1 V0.25",
          "Al0.25 Cr0.5 Nb0.5 Ti1 V0.25",
          "Al0.25 Cr0.5 Nb0.5 Ti1 V0.25",
          "Al0.25 Cr0.5 Nb0.5 Ti1 V0.25",
          "Al1 Cr0.5 Nb1 Ti1 V1",
          "Al1 Cr0.5 Nb1 Ti1 V1",
          "Al1 Cr0.5 Nb1 Ti1 V1",
          "Al1 Cr0.5 Nb1 Ti1 V1",
          "Al0.667 Cr1 Nb0.667 Ti0.667 V0.667",
          "Al0.667 Cr1 Nb0.667 Ti0.667 V0.667",
          "Al0.667 Cr1 Nb0.667 Ti0.667 V0.667",
          "Al0.667 Cr1 Nb0.667 Ti0.667 V0.667",
          "Al1 Cr1 Nb1 Ti1 V1",
          "Al1 Cr1 Nb1 Ti1 V1",
          "Al1 Cr1 Nb1 Ti1 V1",
          "Al1 Cr1 Nb1 Ti1 V1",
          "Al1 Nb1 Ti1 V1",
          "Al1 Nb1 Ti1 V1",
          "Al1 Nb1 Ti1 V1",
          "Al1 Nb1 Ti1 V1",
          "Al0.3 Co1 Cr1 Fe1 Ni1",
          "Cr0.5 Fe1 Mn0.625 Ni0.375",
          "Al0.05 Cr0.5 Fe1 Mn0.625 Ni0.375",
          "Al0.15 Cr0.5 Fe1 Mn0.625 Ni0.375",
          "Al0.25 Cr0.5 Fe1 Mn0.625 Ni0.375",
          "Al0.35 Cr0.5 Fe1 Mn0.625 Ni0.375",
          "Cr0.5 Fe1 Mn0.625 Ni0.375",
          "Al0.05 Cr0.5 Fe1 Mn0.625 Ni0.375",
          "Al0.15 Cr0.5 Fe1 Mn0.625 Ni0.375",
          "Al0.25 Cr0.5 Fe1 Mn0.625 Ni0.375",
          "Al0.35 Cr0.5 Fe1 Mn0.625 Ni0.375",
          "Cr0.5 Fe1 Mn0.625 Ni0.375",
          "Al0.05 Cr0.5 Fe1 Mn0.625 Ni0.375",
          "Al0.15 Cr0.5 Fe1 Mn0.625 Ni0.375",
          "Al0.25 Cr0.5 Fe1 Mn0.625 Ni0.375",
          "Al0.35 Cr0.5 Fe1 Mn0.625 Ni0.375",
          "Co1 Cr1 Fe1 Mn1 Ni1",
          "Co0.2 Cr0.2 Fe1 Mn0.6",
          "Co0.2 Cr0.2 Fe1 Mn0.6",
          "Co0.2 Cr0.2 Fe1 Mn0.6",
          "Co0.2 Cr0.2 Fe1 Mn0.6",
          "Co0.2 Cr0.2 Fe1 Mn0.6",
          "Co0.2 Cr0.2 Fe1 Mn0.6",
          "Al0.304 Co1 Cr1 Fe1 Ni1",
          "Al0.304 Co1 Cr1 Fe1 Ni1",
          "Al0.304 Co1 Cr1 Fe1 Ni1",
          "Al0.304 Co1 Cr1 Fe1 Ni1",
          "Al0.304 Co1 Cr1 Fe1 Ni1",
          "Al0.304 Co1 Cr1 Fe1 Ni1",
          "Al0.304 Co1 Cr1 Fe1 Ni1",
          "Al0.304 Co1 Cr1 Fe1 Ni1",
          "Al0.304 Co1 Cr1 Fe1 Ni1",
          "Al0.304 Co1 Cr1 Fe1 Ni1",
          "Al0.304 Co1 Cr1 Fe1 Ni1",
          "Al0.304 Co1 Cr1 Fe1 Ni1",
          "Al0.304 Co1 Cr1 Fe1 Ni1",
          "Al0.304 Co1 Cr1 Fe1 Ni1",
          "Al0.304 Co1 Cr1 Fe1 Ni1",
          "Al0.304 Co1 Cr1 Fe1 Ni1",
          "Al0.304 Co1 Cr1 Fe1 Ni1",
          "Al0.304 Co1 Cr1 Fe1 Ni1",
          "Al0.304 Co1 Cr1 Fe1 Ni1",
          "Al0.304 Co1 Cr1 Fe1 Ni1",
          "Al1 Co1 Cr1 Fe1 Ni1",
          "Al1 Co1 Cr1 Fe1 Ni1",
          "Al1 Co1 Cr1 Fe1 Ni1",
          "Al1 Co1 Cr1 Fe1 Ni1",
          "Al1 Co1 Cr1 Fe1 Ni1",
          "Al1 Co1 Cr1 Fe1 Ni1",
          "Al1 Co1 Cr1 Fe1 Ni1",
          "Al0.515 Cr0.515 Fe1 Ni1",
          "Al0.511 Co0.511 Cr0.511 Fe0.511 Ni1",
          "Al0.465 Co0.465 Cr0.465 Fe0.465 Ni1",
          "Al0.451 Co0.451 Cr0.451 Fe0.451 Ni1",
          "Al0.511 Co0.511 Cr0.511 Fe0.511 Ni1",
          "Al0.465 Co0.465 Cr0.465 Fe0.465 Ni1",
          "Al0.451 Co0.451 Cr0.451 Fe0.451 Ni1",
          "Al0.511 Co0.511 Cr0.511 Fe0.511 Ni1",
          "Al0.465 Co0.465 Cr0.465 Fe0.465 Ni1",
          "Al0.451 Co0.451 Cr0.451 Fe0.451 Ni1",
          "Al0.343 Co0.514 Cr0.514 Fe1 Ni0.514",
          "Al0.343 Co0.514 Cr0.514 Fe1 Ni0.514",
          "Al0.343 Co0.514 Cr0.514 Fe1 Ni0.514",
          "Al0.343 Co0.514 Cr0.514 Fe1 Ni0.514",
          "Co1 Cr0.429 Fe0.571 Mo0.286 Ni0.571",
          "Co1 Cr0.429 Fe0.571 Mo0.286 Ni0.571",
          "Co1 Cr0.429 Fe0.571 Mo0.286 Ni0.571",
          "Co1 Cr0.429 Fe0.571 Mo0.286 Ni0.571",
          "Co1 Cr0.429 Fe0.571 Mo0.286 Ni0.571",
          "Co1 Cr0.429 Fe0.571 Mo0.286 Ni0.571",
          "Co1 Cr0.429 Fe0.571 Mo0.286 Ni0.571",
          "Co1 Cr1 Fe1 Ni1",
          "Co1 Cr1 Fe1 Mo0.083 Ni1",
          "Co1 Cr1 Fe1 Mo0.208 Ni1",
          "Co1 Cr1 Fe1 Mo0.304 Ni1",
          "Co1 Cr1 Fe1 Mo0.304 Ni1",
          "Co1 Cr1 Fe1 Mo0.304 Ni1",
          "Co1 Cr1 Fe1 Mo0.304 Ni1",
          "Co1 Cr1 Fe1 Mn1 Ni1",
          "C0.02 Co1 Cr1 Fe1 Mn1 Ni1",
          "Co1 Cr1 Fe1 Mn1 Ni1",
          "C0.02 Co1 Cr1 Fe1 Mn1 Ni1",
          "Co1 Cr1 Fe1 Ni1",
          "Al0.167 Co1 Cr1 Fe1 Ni1 Ti0.083",
          "Al0.167 Co1 Cr1 Fe1 Ni1 Ti0.083",
          "Al0.167 Co1 Cr1 Fe1 Ni1 Ti0.083",
          "Al0.242 Co0.515 Cr0.515 Cu0.242 Fe0.515 Ni1",
          "Al0.242 Co0.515 Cr0.515 Cu0.242 Fe0.515 Ni1",
          "Al0.242 Co0.515 Cr0.515 Cu0.242 Fe0.515 Ni1",
          "Al0.229 Co0.486 Cr0.4 Cu0.229 Fe0.486 Mo0.003 Ni1 Ti0.029 W0.003",
          "Al0.229 Co0.486 Cr0.4 Cu0.229 Fe0.486 Mo0.003 Ni1 Ti0.029 W0.003",
          "Al0.229 Co0.486 Cr0.4 Cu0.229 Fe0.486 Mo0.003 Ni1 Ti0.029 W0.003",
          "Al0.229 Co0.486 Cr0.4 Cu0.229 Fe0.486 Mo0.003 Ni1 Ti0.029 W0.003",
          "Al0.278 Co0.694 Cr0.222 Fe0.417 Ni1 Ti0.167",
          "Al0.278 Co0.694 Cr0.222 Fe0.417 Ni1 Ti0.167",
          "Al0.278 Co0.694 Cr0.222 Fe0.417 Ni1 Ti0.167",
          "Al0.278 Co0.694 Cr0.222 Fe0.417 Ni1 Ti0.167",
          "Al0.278 Co0.694 Cr0.222 Fe0.417 Ni1 Ti0.167",
          "Al0.278 Co0.694 Cr0.222 Fe0.417 Ni1 Ti0.167",
          "Al0.885 Cr1 Fe1 Ni1",
          "Al1 Cr1 Fe1 Ni1",
          "Al1 Cr0.889 Fe0.889 Ni0.889",
          "Al1 Cr0.828 Fe0.828 Ni0.828",
          "Al1 Cr0.767 Fe0.767 Ni0.767",
          "Al0.5 Cr0.5 Fe1 Ni1",
          "Al1 Co1 Cr1 Fe1 Ni1",
          "Al0.545 Cr0.545 Fe0.515 Ni1 Ti0.273",
          "Al0.545 Cr0.545 Fe0.515 Ni1 Ti0.273",
          "Cr1 Fe1 Ni1 V0.5 W1",
          "Al0.515 Cr0.515 Cu0.515 Fe0.515 Ni1",
          "Co1 Cr1 Fe1 Mn1 Ni1",
          "Co1 Cr1 Fe1 Mn1 Ni1 V0.263",
          "Co1 Cr1 Fe1 Mn1 Ni1 V0.5",
          "Co1 Cr1 Fe1 Mn1 Ni1 V0.765",
          "Co1 Cr1 Fe1 Mn1 Ni1 V1",
          "Al0.304 Co1 Cr1 Fe1 Ni1",
          "Co1 Cr1 Fe1 Ni1",
          "Al0.511 Co0.511 Cr0.511 Fe0.511 Ni1",
          "Al0.465 Co0.465 Cr0.465 Fe0.465 Ni1",
          "Al0.451 Co0.451 Cr0.451 Fe0.451 Ni1",
          "Al0.108 Co0.514 Cr0.514 Cu0.108 Fe0.514 Ni1",
          "Al0.108 Co0.514 Cr0.514 Cu0.108 Fe0.514 Ni1",
          "Al0.242 Co0.515 Cr0.515 Cu0.242 Fe0.515 Ni1",
          "Al0.242 Co0.515 Cr0.515 Cu0.242 Fe0.515 Ni1",
          "Al0.242 Co0.515 Cr0.515 Cu0.242 Fe0.515 Ni1",
          "Al0.5 Co1 Cr1 Cu1 Fe1 Ni1",
          "Al0.5 Co1 Cr1 Cu1 Fe1 Ni1",
          "Al0.5 Co1 Cr1 Cu1 Fe1 Ni1",
          "Al1 Co1 Cr1 Cu1 Fe1 Ni1",
          "Al1 Co1 Cr1 Cu1 Fe1 Ni1",
          "Al1 Co1 Cr1 Fe1 Ni1",
          "Al1 Co1 Cr1 Fe1 Ni1",
          "Al1 Co1 Cr1 Cu1 Fe1 Ni1",
          "Al1 Co1 Cr1 Cu1 Fe1 Ni1",
          "Al0.5 Co1 Cr1 Cu1 Fe1 Ni1",
          "Al0.5 Co1 Cr1 Cu1 Fe1 Ni1",
          "Co1 Cr1 Fe1 Ni1 Ti0.2",
          "Co1 Cr1 Fe1 Ni1 Ti0.2",
          "Al0.1 Co1 Cr1 Fe1 Ni1",
          "Al0.1 Co1 Cr1 Fe1 Ni1",
          "Al0.1 Co1 Cr1 Fe1 Ni1",
          "Al0.1 Co1 Cr1 Fe1 Ni1",
          "Co1 Cr1 Fe1 Mn1 Ni1",
          "Co1 Cr1 Fe1 Mn1 Ni1",
          "Al0.5 Cr0.5 Fe0.5 Ni1",
          "Al0.429 Cr0.476 Fe0.476 Ni1",
          "Al0.364 Cr0.455 Fe0.455 Ni1",
          "Al0.304 Cr0.435 Fe0.435 Ni1",
          "Al0.25 Cr0.417 Fe0.417 Ni1",
          "Co1 Cr1 Ni1",
          "Co1 Cr1 Ni1",
          "Co1 Cr1 Ni1",
          "Al0.476 Co0.476 Cr0.476 Fe0.476 Ni1",
          "Al0.476 Co0.476 Cr0.476 Fe0.476 Ni1",
          "Al0.476 Co0.476 Cr0.476 Fe0.476 Ni1",
          "Co1 Cr1 Fe1 Mn1 Ni1",
          "Co1 Cr1 Fe1 Mn1 Ni1",
          "Co1 Cr1 Fe1 Mn1 Ni1",
          "Nb1 Ta1 Ti1 V1",
          "Nb1 Ta1 Ti1 V1",
          "Nb1 Ta1 Ti1 V1",
          "Co1 Cr1 Fe1 Mn1 Ni1",
          "Co1 Cr1 Fe1 Mn1 Ni1",
          "Co1 Cr1 Fe1 Mn1 Ni1",
          "Al0.1 Co1 Cr1 Fe1 Mn1 Ni1",
          "Al0.3 Co1 Cr1 Fe1 Mn1 Ni1",
          "Al0.5 Co1 Cr1 Fe1 Mn1 Ni1",
          "Al0.7 Co1 Cr1 Fe1 Mn1 Ni1",
          "Al1 Co1 Cr1 Fe1 Mn1 Ni1",
          "Co1 Cr1 Fe1 Ni1",
          "Co1 Cr1 Fe1 Ni1",
          "Co1 Cr1 Fe1 Ni1",
          "Co1 Cr1 Fe1 Ni1",
          "Co1 Cr1 Fe1 Ni1",
          "Co1 Cr1 Fe1 Ni1",
          "Co1 Cr1 Fe1 Ni1",
          "Al0.3 Co1 Cr1 Fe1 Ni1",
          "Al0.6 Co1 Cr1 Fe1 Ni1",
          "Al0.9 Co1 Cr1 Fe1 Ni1",
          "Al0.9 Co1 Cr1 Fe1 Ni1 Ti0.5",
          "Co1 Cr1 Fe1 Mn1 Ni1",
          "Co1 Cr1 Fe1 Mn1 Mo0.042 Ni1",
          "Co1 Cr1 Fe1 Mn1 Mo0.087 Ni1",
          "Co1 Cr1 Fe1 Mn1 Mo0.136 Ni1",
          "Co1 Cr1 Fe1 Mn1 Mo0.19 Ni1",
          "Al0.3 Co1 Cr1 Fe1 Ni1",
          "Al0.3 Co1 Cr1 Fe1 Ni1",
          "Al0.3 Co1 Cr1 Fe1 Ni1",
          "Al0.3 Co1 Cr1 Fe1 Ni1",
          "Al0.3 Co1 Cr1 Fe1 Ni1",
          "Al1 Co1 Cr1 Ni1",
          "Co1 Cr1 Fe1 Mn1 Ni1",
          "C0.5 Co1 Cr1 Fe1 Mn1 Ni1",
          "C1 Co1 Cr1 Fe1 Mn1 Ni1",
          "Co1 Cr0.588 Fe0.176 Mo0.176 Ni1",
          "Co1 Cr0.588 Fe0.176 Mo0.176 Ni1",
          "Co1 Cr0.588 Fe0.176 Mo0.176 Ni1",
          "Co1 Cr0.588 Fe0.176 Mo0.176 Ni1",
          "Co1 Cr0.588 Fe0.176 Mo0.176 Ni1",
          "Co1 Cr0.588 Fe0.176 Mo0.176 Ni1",
          "Co1 Cr0.588 Fe0.176 Mo0.176 Ni1",
          "Co1 Cr1 Fe1 Mn1 Ni1",
          "Cr1 Cu1 Fe1 Mn1 Ni1",
          "Cr1 Cu1 Fe1 Mn1 Ni1",
          "Cr1 Cu1 Fe1 Mn1 Ni1",
          "Cr1 Cu1 Fe1 Mn1 Ni1",
          "Cr1 Cu1 Fe1 Mn1 Ni1",
          "Cr1 Cu1 Fe1 Mn1 Ni1",
          "Cr1 Mo1 Nb1 Ta1 V1 W1",
          "Cr1 Mo1 Nb1 Ta1 V1 W1",
          "Cr1 Mo1 Nb1 Ta1 V1 W1",
          "Cr1 Mo1 Nb1 Ta1 V1 W1",
          "Cr1 Mo1 Nb1 Ta1 V1 W1",
          "Co1 Cr1 Cu1 Fe1 Ni1",
          "Al0.5 Co1 Cr1 Cu1 Fe1 Ni1",
          "Al1 Co1 Cr1 Cu1 Fe1 Ni1",
          "Al1 Co0.667 Cr0.667 Cu0.667 Fe0.667 Ni0.667",
          "Al1 Co0.5 Cr0.5 Cu0.5 Fe0.5 Ni0.5",
          "Co1 Ni1 V1",
          "Co1 Ni1 V1",
          "Co1 Ni1 V1",
          "Co1 Ni1 V1",
          "Co1 Ni1 V1",
          "Al0.3 Co1 Cr1 Fe1 Ni1",
          "Al0.3 Co1 Cr1 Fe1 Ni1",
          "Al0.544 C0.001 Co0.69 Fe1 Ni0.69",
          "Hf1 Nb1 Ta1 Ti1 Zr1",
          "Co0.5 Cr0.5 Fe1 Ni1",
          "Co0.875 Cr0.625 Fe1 Ni1",
          "Co1 Cr0.556 Fe0.667 Ni0.667",
          "Co1 Cr0.455 Fe0.364 Ni0.364",
          "Co1 Cr0.385 Fe0.154 Ni0.154",
          "Hf1 Nb1 Ti1 Zr1",
          "Co1 Cr1 Fe1 Mn1 Ni1",
          "Co1 Cr1 Fe1 Mn1 Ni1",
          "Co1 Cr1 Fe1 Ni1",
          "Co1 Fe1 Ni1",
          "Co1 Cr1 Ni1",
          "Co1 Cr1 Ni1",
          "Co1 Cr1 Ni1",
          "Al1 Co0.5 Cr1 Fe0.147 Ni0.294",
          "Al1 Co0.298 Cr0.319 Cu0.106 Fe0.277 Ni0.128",
          "Al1 Co0.289 Cr0.158 Cu0.237 Fe0.816 Ni0.132",
          "Al1 Co0.278 Cr0.861 Cu0.167 Fe0.25 Ni0.222",
          "Al1 Co0.395 Cr0.349 Fe0.326 Ni0.256",
          "Al1 Co0.255 Cr0.255 Cu0.106 Fe0.277 Ni0.234",
          "Al1 Co0.442 Cr0.442 Fe0.256 Ni0.186",
          "Al1 Co0.256 Cr0.795 Cu0.128 Fe0.205 Ni0.179",
          "Al1 Co0.277 Cr0.277 Cu0.106 Fe0.255 Ni0.213",
          "Al1 Co0.465 Cr0.512 Fe0.186 Ni0.163",
          "Al1 Co0.298 Cr0.404 Cu0.106 Fe0.213 Ni0.106",
          "Al1 Co0.465 Cr0.442 Fe0.209 Ni0.209",
          "Al1 Co0.304 Cr0.5 Cu0.109 Fe0.152 Ni0.109",
          "Al1 Co0.318 Cr0.5 Cu0.114 Fe0.205 Ni0.136",
          "Al1 Co0.442 Cr0.558 Fe0.186 Ni0.14",
          "Al1 Co0.419 Cr0.558 Fe0.233 Ni0.116",
          "Al1 Co0.298 Cr0.426 Cu0.106 Fe0.191 Ni0.106",
          "Al1 Co0.558 Cr0.512 Fe0.116 Ni0.14",
          "Al1 Co0.581 Cr0.512 Fe0.116 Ni0.116",
          "Al1 Co0.558 Cr0.535 Fe0.116 Ni0.116",
          "Al1 Co0.535 Cr0.488 Fe0.186 Ni0.116",
          "Al1 Co0.255 Cr0.426 Cu0.106 Fe0.234 Ni0.106",
          "Al1 Co0.349 Cr0.395 Cu0.116 Fe0.326 Ni0.14",
          "Al1 Co0.238 Cr0.714 Cu0.119 Fe0.167 Ni0.143",
          "Al1 Co0.234 Cr0.468 Cu0.106 Fe0.213 Ni0.106",
          "Al1 Co0.277 Cr0.426 Cu0.106 Fe0.213 Ni0.106",
          "Al0.853 Co0.647 Cr1 Fe0.147 Ni0.294",
          "Al1 Co0.149 Cr0.34 Cu0.191 Fe0.34 Ni0.106",
          "Al1 Co0.326 Cr0.488 Cu0.116 Fe0.279 Ni0.116",
          "Al1 Co0.383 Cr0.319 Cu0.106 Fe0.213 Ni0.106",
          "Al1 Co0.426 Cr0.383 Cu0.106 Fe0.106 Ni0.106",
          "Al1 Co0.419 Cr0.465 Fe0.279 Ni0.163",
          "Al1 Co0.362 Cr0.34 Cu0.106 Fe0.213 Ni0.106",
          "Al1 Co0.558 Cr0.535 Fe0.116 Ni0.116",
          "Al1 Co0.581 Cr0.512 Fe0.116 Ni0.116",
          "Al1 Co0.457 Cr0.391 Cu0.109 Fe0.109 Ni0.109",
          "Al1 Co0.512 Cr0.512 Fe0.186 Ni0.116",
          "Al1 Co0.512 Cr0.535 Fe0.163 Ni0.116",
          "Al1 Co0.465 Cr0.488 Fe0.209 Ni0.163",
          "Al1 Co0.512 Cr0.581 Fe0.116 Ni0.116",
          "Al1 Co0.404 Cr0.404 Cu0.106 Fe0.106 Ni0.106",
          "Al1 Co0.674 Cr0.419 Fe0.116 Ni0.116",
          "Co0.986 Cr0.952 Fe0.933 Mn0.914 Ni1",
          "Co0.986 Cr0.952 Fe0.933 Mn0.914 Ni1",
          "Co0.986 Cr0.952 Fe0.933 Mn0.914 Ni1",
          "Co0.986 Cr0.952 Fe0.933 Mn0.914 Ni1",
          "Co0.986 Cr0.952 Fe0.933 Mn0.914 Ni1",
          "Co0.986 Cr0.952 Fe0.933 Mn0.914 Ni1",
          "Al0.4 Hf0.6 Nb1 Ta1 Ti1 Zr1",
          "Al1 Cr1 Mo1 Ti1",
          "Al1 Mo1 Nb1 Ti1",
          "Hf1 Mo0.5 Nb1 Ti1 V0.5",
          "Hf1 Mo1 Nb1 Ta1 Ti1 Zr1",
          "Hf1 Mo1 Nb1 Ti1 Zr1",
          "Hf1 Mo1 Ta1 Ti1 Zr1",
          "Hf1 Nb1 Ta1 Ti1 Zr1",
          "Mo1 Nb1 Ta1 Ti1 V1 W1",
          "Mo1 Nb1 Ta1 Ti1 W1",
          "Mo1 Nb1 Ta1 V1 W1",
          "Mo1 Nb1 Ta1 W1",
          "Mo1 Nb1 Ti1",
          "Nb1 Ta0.3 Ti1 Zr1",
          "Nb1 Ti1 Zr1",
          "Al1 Cr1 Mo1 Nb1 Ti1",
          "Al0.24 Nb1 Ti1 V1 Zr1",
          "Al1 Mo0.5 Nb1 Ta0.5 Ti1 Zr1",
          "Cr1 Nb0.333 Ti0.333 Zr0.333",
          "Cr1 Mo0.5 Nb1 Ta0.5 Ti1 Zr1",
          "Hf1 Mo0.5 Nb1 Si0.3 Ti1 V0.5",
          "Hf1 Mo0.5 Nb1 Si0.5 Ti1 V0.5",
          "Hf1 Mo0.5 Nb1 Si0.7 Ti1 V0.5",
          "Mo1 Nb1 Ti1 V1 Zr1",
          "Nb1 Re0.3 Ti1 Zr1",
          "Nb1 Ta1 Ti1 V1 Zr1",
          "Al0.4 Hf0.6 Nb1 Ta1 Ti1 Zr1",
          "Al1 Cr1 Mo1 Ti1",
          "Al1 Mo1 Nb1 Ti1",
          "Hf1 Mo0.5 Nb1 Ti1 V0.5",
          "Hf1 Mo1 Nb1 Ta1 Ti1 Zr1",
          "Hf1 Mo1 Nb1 Ti1 Zr1",
          "Hf1 Mo1 Ta1 Ti1 Zr1",
          "Hf1 Nb1 Ta1 Ti1 Zr1",
          "Mo1 Nb1 Ta1 Ti1 V1 W1",
          "Mo1 Nb1 Ta1 Ti1 W1",
          "Mo1 Nb1 Ta1 V1 W1",
          "Mo1 Nb1 Ta1 W1",
          "Mo1 Nb1 Ti1",
          "Nb1 Ta0.3 Ti1 Zr1",
          "Nb1 Ti1 Zr1",
          "Al1 Cr1 Mo1 Nb1 Ti1",
          "Al0.24 Nb1 Ti1 V1 Zr1",
          "Al1 Mo0.5 Nb1 Ta0.5 Ti1 Zr1",
          "Cr1 Nb0.333 Ti0.333 Zr0.333",
          "Cr1 Mo0.5 Nb1 Ta0.5 Ti1 Zr1",
          "Hf1 Mo0.5 Nb1 Si0.3 Ti1 V0.5",
          "Hf1 Mo0.5 Nb1 Si0.5 Ti1 V0.5",
          "Hf1 Mo0.5 Nb1 Si0.7 Ti1 V0.5",
          "Mo1 Nb1 Ti1 V1 Zr1",
          "Nb1 Re0.3 Ti1 Zr1",
          "Nb1 Ta1 Ti1 V1 Zr1",
          "Al0.4 Hf0.6 Nb1 Ta1 Ti1 Zr1",
          "Al1 Cr1 Mo1 Ti1",
          "Al1 Mo1 Nb1 Ti1",
          "Hf1 Mo0.5 Nb1 Ti1 V0.5",
          "Hf1 Mo1 Nb1 Ta1 Ti1 Zr1",
          "Hf1 Mo1 Nb1 Ti1 Zr1",
          "Hf1 Mo1 Ta1 Ti1 Zr1",
          "Hf1 Nb1 Ta1 Ti1 Zr1",
          "Mo1 Nb1 Ta1 Ti1 V1 W1",
          "Mo1 Nb1 Ta1 Ti1 W1",
          "Mo1 Nb1 Ta1 V1 W1",
          "Mo1 Nb1 Ta1 W1",
          "Mo1 Nb1 Ti1",
          "Nb1 Ta0.3 Ti1 Zr1",
          "Nb1 Ti1 Zr1",
          "Al1 Cr1 Mo1 Nb1 Ti1",
          "Al0.24 Nb1 Ti1 V1 Zr1",
          "Al1 Mo0.5 Nb1 Ta0.5 Ti1 Zr1",
          "Cr1 Nb0.333 Ti0.333 Zr0.333",
          "Cr1 Mo0.5 Nb1 Ta0.5 Ti1 Zr1",
          "Hf1 Mo0.5 Nb1 Si0.3 Ti1 V0.5",
          "Hf1 Mo0.5 Nb1 Si0.5 Ti1 V0.5",
          "Hf1 Mo0.5 Nb1 Si0.7 Ti1 V0.5",
          "Mo1 Nb1 Ti1 V1 Zr1",
          "Nb1 Re0.3 Ti1 Zr1",
          "Nb1 Ta1 Ti1 V1 Zr1",
          "Co1 Cr1 Fe1 Mn1 Ni1",
          "Hf1 Nb1 Ta1 Ti1 Zr1",
          "Hf1 Nb1 Ta1 Ti1 Zr1",
          "Hf1 Nb1 Ta1 Ti1 Zr1",
          "Co1 Fe1 Ni1",
          "Co1 Fe1 Ni1",
          "Co1 Fe1 Ni1",
          "Co1 Fe1 Ni1",
          "Co1 Cr1 Ni1",
          "Co1 Cr1 Ni1",
          "Co1 Cr1 Ni1",
          "Cr0.286 Mo0.476 Nb1 Ta0.024 Ti0.31 V0.286",
          "Hf1 Mo1 Nb1 Ti1 Zr1",
          "Co1 Fe1 Ni1",
          "Co1 Cr0.053 Ni1",
          "Fe1 Mn1 Ni1",
          "Fe1 Mn1 Ni1",
          "Fe1 Mn1 Ni1",
          "Fe1 Mn1 Ni1",
          "Fe1 Mn1 Ni1",
          "Fe1 Mn1 Ni1",
          "Co1 Mn1 Ni1",
          "Co1 Mn1 Ni1",
          "Co1 Mn1 Ni1",
          "Co1 Mn1 Ni1",
          "Co1 Cr0.25 Ni1",
          "Co1 Cr0.25 Ni1",
          "Co1 Cr0.25 Ni1",
          "Co1 Cr0.25 Ni1",
          "Co1 Cr1 Fe1 Ni1",
          "Co1 Cr1 Fe1 Ni1",
          "Co1 Cr1 Fe1 Ni1",
          "Co1 Cr1 Fe1 Ni1",
          "Co1 Cr1 Fe1 Ni1",
          "Co0.25 Cr1 Ni1",
          "Co0.25 Cr1 Ni1",
          "Co0.25 Cr1 Ni1",
          "Co0.25 Cr1 Ni1",
          "Al1 Co1 Ni1 Ti1",
          "Al1 Fe1 Ni1 Ti1",
          "Al1 Co1 Fe1 Ni1 Ti1",
          "Al1 Cr1 Cu1 Fe1 Ni1",
          "Al1 Cr1 Cu1 Fe1 Ni1",
          "Al1 Cr1 Cu1 Fe1 Ni1",
          "Al1 Cr1 Cu1 Fe1 Ni1",
          "Al1 Cr1 Cu1 Fe1 Ni1",
          "Al1 Cr1 Cu1 Fe1 Ni1",
          "Al1 Cr1 Cu1 Fe1 Ni1",
          "Al1 Cr1 Cu1 Fe1 Ni1",
          "Co1 Cr1 Fe1 Mn1 Ni1",
          "Co1 Cr1 Fe1 Mn1 Ni1",
          "Co1 Cr1 Fe1 Mn1 Ni1",
          "Co1 Cr1 Fe1 Mn1 Ni1",
          "Co1 Cr1 Fe1 Mn1 Ni1",
          "Co1 Cr1 Fe1 Mn1 Ni1",
          "Co1 Cr1 Fe1 Mn1 Ni1",
          "Co1 Cr1 Fe1 Mn1 Ni1",
          "Co0.5 Fe0.5 Mo0.1 Ni1 V0.25",
          "Co0.5 Fe0.5 Mo0.1 Ni1 V0.25",
          "Co0.5 Fe0.5 Mo0.1 Ni1 V0.25",
          "Co0.5 Fe0.5 Mo0.1 Ni1 V0.25",
          "Co0.5 Fe0.5 Mo0.1 Ni1 V0.25",
          "Co0.5 Fe0.5 Mo0.1 Ni1 V0.25",
          "Al0.3 Co1 Cr1 Fe1 Ni1",
          "Al0.3 Co1 Cr1 Fe1 Ni1",
          "Al0.3 Co1 Cr1 Fe1 Ni1",
          "Al1 Co1 Cr1 Fe1 Ni1",
          "Al1 Co1 Cr1 Fe1 Ni1",
          "Co0.318 Cr0.227 Fe1 Mo0.091 Ni0.182",
          "Co0.327 Cr0.227 Fe1 Mo0.136 Ni0.127",
          "Co0.318 Cr0.227 Fe1 Mo0.091 Ni0.182",
          "Co0.327 Cr0.227 Fe1 Mo0.136 Ni0.127",
          "Co0.318 Cr0.227 Fe1 Mo0.091 Ni0.182",
          "Co0.327 Cr0.227 Fe1 Mo0.136 Ni0.127",
          "Co0.318 Cr0.227 Fe1 Mo0.091 Ni0.182",
          "Co0.327 Cr0.227 Fe1 Mo0.136 Ni0.127",
          "Co1 Cr1 Fe1 Mn1 Ni1",
          "Co1 Cr1 Fe1 Mn1 Ni1",
          "Co1 Cr1 Fe1 Mn1 Ni1",
          "Cr1 Cu1 Fe1 Mn1 Ni1",
          "Cr1 Cu1 Fe1 Mn1 Ni1",
          "Cr1 Cu1 Fe1 Mn1 Ni1",
          "Cr1 Cu1 Fe1 Mn1 Ni1",
          "Cr1 Cu1 Fe1 Mn1 Ni1",
          "Cr1 Cu1 Fe1 Mn1 Ni1",
          "Cr1 Cu1 Fe1 Mn1 Ni1",
          "Cr1 Cu1 Fe1 Mn1 Ni1",
          "Cr1 Cu1 Fe1 Mn1 Ni1",
          "Mo1 Nb1 Re0.5 W1",
          "C0.2 Mo1 Nb1 Re0.5 Ta0.2 W1",
          "C0.4 Mo1 Nb1 Re0.5 Ta0.4 W1",
          "C0.5 Mo1 Nb1 Re0.5 Ta0.5 W1",
          "C0.6 Mo1 Nb1 Re0.5 Ta0.6 W1",
          "Al0.278 Co0.694 Cr0.222 Fe0.417 Ni1 Ti0.167",
          "Al0.278 Co0.694 Cr0.222 Fe0.417 Ni1 Ti0.167",
          "Al0.278 Co0.694 Cr0.222 Fe0.417 Ni1 Ti0.167",
          "Al0.278 Co0.694 Cr0.222 Fe0.417 Ni1 Ti0.167",
          "Al0.278 Co0.694 Cr0.222 Fe0.417 Ni1 Ti0.167",
          "Al0.278 Co0.694 Cr0.222 Fe0.417 Ni1 Ti0.167",
          "Al0.278 Co0.694 Cr0.222 Fe0.417 Ni1 Ti0.167",
          "Al0.278 Co0.694 Cr0.222 Fe0.417 Ni1 Ti0.167",
          "Al0.278 Co0.694 Cr0.222 Fe0.417 Ni1 Ti0.167",
          "Al0.278 Co0.694 Cr0.222 Fe0.417 Ni1 Ti0.167",
          "Co0.286 Cr0.429 Fe1 Mn0.143 Ni0.714 V0.286",
          "Co0.286 Cr0.429 Fe1 Mn0.143 Ni0.714 V0.286",
          "Co0.286 Cr0.429 Fe1 Mn0.143 Ni0.714 V0.286",
          "Co0.286 Cr0.429 Fe1 Mn0.143 Ni0.714 V0.286",
          "Co0.286 Cr0.429 Fe1 Mn0.143 Ni0.714 V0.286",
          "Co1 Cr1 Fe1 Mn1 Ni1",
          "Al1 Co0.5 Cr0.5 Fe0.5 Ni0.5",
          "Al1 Co0.556 Cr0.556 Fe0.556 Ni0.556 Ti0.111",
          "Al1 Co0.667 Cr0.667 Fe0.667 Ni0.667 Ti0.333",
          "Al1 Co0.833 Cr0.833 Fe0.833 Ni0.833 Ti0.667",
          "Al1 Co1 Cr1 Fe1 Ni1 Ti1",
          "Al0.667 Co0.833 Cr0.833 Fe0.833 Ni0.833 Ti1",
          "Al1 Co1 Cr1 Fe1 Ni1",
          "Al0.8 Co1 Cr1 Fe1 Ni1 Ti0.2",
          "Al0.5 Co1 Cr1 Fe1 Ni1 Ti0.5",
          "Al1 Co1 Cu1 Fe1 Ni1",
          "Al1 Co1 Cr1 Cu1 Fe1 Ni1",
          "Al1 Co1 Cu1 Fe1 Ni1 Ti1",
          "Al1 Co1 Cr1 Cu1 Fe1 Ni1 Ti1",
          "Al1 Cr1 Fe1 Ni1",
          "Al1 Co0.25 Cr1 Fe1 Ni1",
          "Al1 Co0.5 Cr1 Fe1 Ni1",
          "Al1 Co0.75 Cr1 Fe1 Ni1",
          "Al1 Co1 Cr1 Fe1 Ni1",
          "Co1 Cr1 Fe1 Mn1",
          "Al1 Co1 Cr1 Fe1 Ni1",
          "Al1 Co1 Cr1 Fe1 Ni1",
          "Al1 Co1 Cr1 Fe1 Ni1",
          "Al1 Co1 Cr1 Fe1 Ni1",
          "Al1 Co1 Cr1 Fe1 Ni1",
          "Hf1 Nb1 Ta1 Ti1 W1 Zr1",
          "Hf1 Mo1 Nb1 Ta1 Ti1 W1 Zr1",
          "Hf1 Nb1 Ta1 Ti1 W1 Zr1",
          "Hf1 Mo1 Nb1 Ta1 Ti1 W1 Zr1",
          "Hf1 Nb1 Ta1 Ti1 W1 Zr1",
          "Hf1 Mo1 Nb1 Ta1 Ti1 W1 Zr1",
          "Hf1 Nb1 Ta1 Ti1 W1 Zr1",
          "Hf1 Mo1 Nb1 Ta1 Ti1 W1 Zr1",
          "Nb1 Ti1 Zr1",
          "Hf1 Nb1 Ti1 Zr1",
          "Nb1 Ti1 Zr1",
          "Hf1 Nb1 Ti1 Zr1",
          "Nb1 Ti1 Zr1",
          "Hf1 Nb1 Ti1 Zr1",
          "Nb1 Ti1 Zr1",
          "Hf1 Nb1 Ti1 Zr1",
          "Co1 Cr1 Fe1 Ni1",
          "Co1 Cr1 Fe1 Ni1 W0.2",
          "Co1 Cr1 Fe1 Ni1 W0.5",
          "Cr1 Fe1 Mo1 Nb1 V1",
          "Cr1 Fe1 Mo1 Nb1 Ti1",
          "Fe1 Mo1 Nb1 Ti1 V1",
          "Al0.15 Cr0.5 Cu0.25 Fe0.5 Ni1",
          "Al0.15 Cr0.5 Cu0.25 Fe0.5 Ni1",
          "Al0.15 Cr0.5 Cu0.25 Fe0.5 Ni1",
          "Al0.15 Cr0.5 Cu0.25 Fe0.5 Ni1",
          "Hf1 Nb1 Ta1 Ti1 Zr1",
          "Hf1 Nb1 Ta1 Ti1 Zr1",
          "Hf1 Nb1 Ta1 Ti1 Zr1",
          "Hf1 Nb1 Ta1 Ti1 Zr1",
          "Hf1 Nb1 Ta1 Ti1 Zr1",
          "Hf1 Nb1 Ta1 Ti1 Zr1",
          "Hf1 Nb1 Ta1 Ti1 Zr1",
          "Hf1 Nb1 Ta1 Ti1 Zr1",
          "Hf1 Nb1 Ta1 Ti1 Zr1",
          "Hf1 Nb1 Ta1 Ti1 Zr1",
          "Hf1 Nb1 Ta1 Ti1 Zr1",
          "Hf1 Nb1 Ta1 Ti1 Zr1",
          "Hf1 Nb1 Ta1 Ti1 Zr1",
          "Hf1 Nb1 Ta1 Ti1 Zr1",
          "Hf1 Nb1 Ta1 Ti1 Zr1",
          "Hf1 Nb1 Ta1 Ti1 Zr1",
          "Hf1 Nb1 Ta1 Ti1 Zr1",
          "Hf1 Nb1 Ta1 Ti1 Zr1",
          "Hf1 Nb1 Ta1 Ti1 Zr1",
          "Hf1 Nb1 Ta1 Ti1 Zr1",
          "Hf1 Nb1 Ta1 Ti1 Zr1",
          "Hf1 Nb1 Ta1 Ti1 Zr1",
          "Hf1 Nb1 Ta1 Ti1 Zr1",
          "Hf1 Nb1 Ta1 Ti1 Zr1",
          "Hf1 Nb1 Ta1 Ti1 Zr1",
          "Hf1 Nb1 Ta1 Ti1 Zr1",
          "Hf1 Nb1 Ta1 Ti1 Zr1",
          "Hf1 Nb1 Ta1 Ti1 Zr1",
          "Hf1 Nb1 Ta1 Ti1 Zr1",
          "Hf1 Nb1 Ta1 Ti1 Zr1",
          "Hf1 Nb1 Ta1 Ti1 Zr1",
          "Hf1 Nb1 Ta1 Ti1 Zr1",
          "Hf1 Nb1 Ta1 Ti1 Zr1",
          "Hf1 Nb1 Ta1 Ti1 Zr1",
          "Hf1 Nb1 Ta1 Ti1 Zr1",
          "Hf1 Nb1 Ta1 Ti1 Zr1",
          "Hf1 Nb1 Ta1 Ti1 Zr1",
          "Hf1 Nb1 Ta1 Ti1 Zr1",
          "Hf1 Nb1 Ta1 Ti1 Zr1",
          "Hf1 Nb1 Ta1 Ti1 Zr1",
          "Hf1 Nb1 Ta1 Ti1 Zr1",
          "Hf1 Nb1 Ta1 Ti1 Zr1",
          "Co1 Cr1 Fe1 Ni1 Ti0.3",
          "Co1 Cr1 Fe1 Ni1 Ti0.3",
          "Co0.333 Cr0.667 Fe0.667 Ni1 Ti0.2",
          "Co0.333 Cr0.667 Fe0.667 Ni1 Ti0.2",
          "Cr0.5 Fe0.5 Ni1 Ti0.15",
          "Cr0.5 Fe0.5 Ni1 Ti0.15",
          "Nb1 Ta1 Ti1",
          "Nb1 Ta1 Ti1",
          "Nb1 Ta1 Ti1",
          "Nb1 Ta1 Ti1",
          "Nb1 Ta1 Ti1",
          "Nb1 Ta1 Ti1",
          "Nb1 Ta1 Ti1",
          "Nb1 Ta1 Ti1",
          "Al1 Nb1 Ta1 Ti1",
          "Al1 Nb1 Ta1 Ti1",
          "Al1 Nb1 Ta1 Ti1",
          "Mo1 Nb1 Ta1 Ti1",
          "Mo1 Nb1 Ta1 Ti1",
          "Mo1 Nb1 Ta1 Ti1",
          "Mo1 Nb1 Ta1 Ti1",
          "Mo1 Nb1 Ta1 Ti1",
          "Mo1 Nb1 Ta1 Ti1",
          "Mo1 Nb1 Ta1 Ti1",
          "Mo1 Nb1 Ta1 Ti1",
          "Mo1 Nb1 Ta1 Ti1",
          "Nb1 Ta1 Ti1 W1",
          "Nb1 Ta1 Ti1 W1",
          "Nb1 Ta1 Ti1 W1",
          "Nb1 Ta1 Ti1 W1",
          "Nb1 Ta1 Ti1 W1",
          "Nb1 Ta1 Ti1 W1",
          "Nb1 Ta1 Ti1 W1",
          "Nb1 Ta1 Ti1 W1",
          "Hf1 Nb1 Ta1 Ti1",
          "Hf1 Nb1 Ta1 Ti1",
          "Hf1 Nb1 Ta1 Ti1",
          "Hf1 Nb1 Ta1 Ti1",
          "Cr1 Mo1 Nb1 Ti1",
          "Cr1 Mo1 Nb1 Ti1",
          "Cr1 Mo1 Nb1 Ti1",
          "Cr1 Mo1 Nb1 Ti1",
          "Cr1 Mo1 Nb1 Ti1",
          "Cr1 Mo1 Ta1 Ti1",
          "Cr1 Mo1 Ta1 Ti1",
          "Cr1 Mo1 Ta1 Ti1",
          "Cr1 Mo1 Ta1 Ti1",
          "Cr1 Mo1 Ta1 Ti1",
          "Cr1 Mo1 Ta1 Ti1",
          "Cr1 Mo1 Ta1 Ti1",
          "Cr1 Mo1 Ta1 Ti1",
          "Hf0.25 Ti1 V0.5 Zr0.5",
          "Hf0.25 Ti1 V0.5 Zr0.5",
          "Hf0.25 Ti1 V0.5 Zr0.5",
          "Hf0.25 Nb0.125 Ti1 V0.5 Zr0.5",
          "Hf0.25 Nb0.25 Ti1 V0.5 Zr0.5",
          "Hf0.25 Nb0.25 Ti1 V0.5 Zr0.5",
          "Hf0.25 Nb0.25 Ti1 V0.5 Zr0.5",
          "Hf0.25 Nb0.375 Ti1 V0.5 Zr0.5",
          "Hf0.25 Nb0.5 Ti1 V0.5 Zr0.5",
          "Hf0.25 Nb0.5 Ti1 V0.5 Zr0.5",
          "Hf0.25 Nb0.5 Ti1 V0.5 Zr0.5",
          "Cr1 Cu1 Fe1 Mn1 Ni1",
          "Cr1 Cu1 Fe1 Mn1 Ni1",
          "Cr1 Cu1 Fe1 Mn1 Ni1",
          "Cr1 Cu1 Fe1 Mn1 Ni1",
          "Cr1 Cu1 Fe1 Mn1 Ni1",
          "Cr1 Cu1 Fe1 Mn1 Ni1",
          "Co0.476 Cr0.476 Fe0.476 Nb0.095 Ni1",
          "Co0.476 Cr0.476 Fe0.476 Nb0.19 Ni1",
          "Co0.476 Cr0.476 Fe0.476 Nb0.095 Ni1",
          "Co0.476 Cr0.476 Fe0.476 Nb0.19 Ni1",
          "C0.053 Co1 Cr1 Fe1 Mn1 Ni1",
          "C0.053 Co1 Cr1 Fe1 Mn1 Ni1",
          "Al1 Co1 Cr1 Fe1 Ni1",
          "Al1 Co1 Cr1 Fe1 Ni1",
          "Al1 Co1 Cr1 Fe1 Ni1",
          "Cr1 Mo1 Nb1 Ti1 W1",
          "Cr1 Mo1 Nb1 Ti1 W1",
          "Cr1 Mo1 Nb1 Ti1 W1",
          "Cr1 Mo1 Nb1 Ti1 W1",
          "Cr1 Mo1 Nb1 Ti1 W1",
          "Al1 Co1 Cr1 Fe1 Ni1",
          "Al1 Co1 Cr1 Fe1 Ni1",
          "Al1 Co1 Cr1 Fe1 Ni1",
          "Al1 Co1 Cr1 Fe1 Ni1",
          "Al1 Co1 Cr1 Fe1 Ni1",
          "Al1 Co1 Cr1 Fe1 Ni1",
          "Al1 Co1 Cr1 Fe1 Ni1",
          "Al1 Co1 Cr1 Fe1 Ni1",
          "Al1 Co1 Cr1 Fe1 Ni1",
          "Al1 Co1 Cr1 Fe1 Ni1",
          "Cr1 Fe1 Mn1 Ni1",
          "Co0.25 Cr0.25 Fe1 Mn1",
          "Co0.25 Cr0.25 Fe1 Mn1",
          "Co0.25 Cr0.25 Fe1 Mn1",
          "Co0.25 Cr0.25 Fe1 Mn1",
          "Co0.25 Cr0.25 Fe1 Mn1",
          "Co0.25 Cr0.25 Fe1 Mn1",
          "Co1 Cr1 Fe1 Mn1 Ni1",
          "C0.041 Co1 Cr1 Fe1 Mn1 Nb0.041 Ni1",
          "Al0.5 Nb1 Ta0.5 Ti1 Zr1",
          "Al0.5 Nb1 Ta0.5 Ti1 Zr1",
          "Al0.5 Nb1 Ta0.5 Ti1 Zr1",
          "Al0.5 Nb1 Ta0.5 Ti1 Zr1",
          "Al0.5 Nb1 Ta0.5 Ti1 Zr1",
          "Al0.5 Nb1 Ta0.5 Ti1 Zr1",
          "Mo1 Nb1 Ta1 W1",
          "Mo1 Nb1 Si0.25 Ta1 W1",
          "Mo1 Nb1 Si0.5 Ta1 W1",
          "Mo1 Nb1 Si0.75 Ta1 W1",
          "Mo1 Nb1 Ta1 W1",
          "Mo1 Nb1 Si0.25 Ta1 W1",
          "Mo1 Nb1 Si0.5 Ta1 W1",
          "Mo1 Nb1 Si0.75 Ta1 W1",
          "Mo1 Nb1 Ta1 W1",
          "Mo1 Nb1 Si0.25 Ta1 W1",
          "Mo1 Nb1 Si0.5 Ta1 W1",
          "Mo1 Nb1 Si0.75 Ta1 W1",
          "Mo1 Nb1 Ta1 W1",
          "Mo1 Nb1 Si0.25 Ta1 W1",
          "Mo1 Nb1 Si0.5 Ta1 W1",
          "Mo1 Nb1 Si0.75 Ta1 W1",
          "Mo1 Nb1 Ta1 W1",
          "Mo1 Nb1 Si0.25 Ta1 W1",
          "Mo1 Nb1 Si0.5 Ta1 W1",
          "Mo1 Nb1 Si0.75 Ta1 W1",
          "Mo1 Nb1 Si0.75 Ta1 W1",
          "Co1 Cr1 Fe1 Mn1 Ni1",
          "Co1 Cr1 Fe1 Mn1 Ni1",
          "Co1 Cr1 Fe1 Mn1 Ni1",
          "Co1 Cr1 Fe1 Mn1 Ni1",
          "Co1 Cr1 Fe1 Mn1 Ni1",
          "Co1 Cr1 Fe1 Mn1 Ni1",
          "Co1 Cr1 Fe1 Mn1 Ni1",
          "Co1 Cr1 Fe1 Mn1 Ni1",
          "Co1 Cr1 Fe1 Mn1 Ni1",
          "Co1 Cr1 Fe1 Mn1 Ni1",
          "Co1 Cr1 Fe1 Mn1 Ni1",
          "C0.1 Co1 Cr1 Fe1 Mn1 Ni1 Ti0.1",
          "C0.1 Co1 Cr1 Fe1 Mn1 Ni1 Ti0.1",
          "C0.1 Co1 Cr1 Fe1 Mn1 Ni1 Ti0.1",
          "C0.1 Co1 Cr1 Fe1 Mn1 Ni1 Ti0.1",
          "Co1 Cr1 Fe1 Ni1",
          "Al0.5 Co1 Cr1 Fe1 Ni1",
          "Al1 Co1 Cr1 Fe1 Ni1",
          "Al1 Co0.5 Cr0.5 Fe0.5 Ni0.5",
          "Al0.5 Co1 Fe1 Ni1 Ti0.5",
          "Al0.5 Co1 Cr1 Fe1 Ni1 Ti0.5",
          "Al0.5 Co1 Cr1 Fe1 Mn1 Ni1",
          "Al0.5 Co1 Cr1 Fe1 Mn1 Ni1 Ta0.2",
          "Al0.5 Co1 Cr1 Fe1 Mn1 Ni1 Ta0.4",
          "Al0.55 Co1 Cr1 Fe1 Mn1 Ni1 Ta0.6",
          "Co1 Cr1 Fe1 Mn1 Ni1",
          "Co1 Cr1 Fe1 Mn1 Ni1 Ta0.2",
          "Co1 Cr1 Fe1 Mn1 Ni1 Ta0.4",
          "Co1 Cr1 Fe1 Mn1 Ni1 Ta0.6",
          "Al0.3 Co1 Cr1 Fe1 Ni1",
          "Al0.3 Co1 Cr1 Fe1 Mo0.1 Ni1",
          "Al0.143 Cr0.343 Fe1 Mn0.8 Ni0.571",
          "Al0.286 Cr0.343 Fe1 Mn0.657 Ni0.571",
          "Al0.143 Cr0.343 Fe1 Mn0.8 Ni0.571",
          "Al0.286 Cr0.343 Fe1 Mn0.657 Ni0.571",
          "Co1 Cu1 Fe1 Mn1 Ni1",
          "Co1 Cu1 Fe1 Mn1 Ni1",
          "Co1 Cu1 Fe1 Mn1 Ni1",
          "Co1 Cr1 Fe1 Mo0.15 Ni1",
          "Co1 Cr1 Fe1 Mo0.15 Ni1",
          "Co1 Cr1 Fe1 Mo0.15 Ni1",
          "Co1 Cr1 Fe1 Mo0.15 Ni1",
          "Co1 Cr1 Fe1 Mo0.15 Ni1",
          "Co1 Cr1 Fe1 Mo0.15 Ni1",
          "Co1 Cr1 Fe1 Mo0.15 Ni1",
          "Co0.139 Cr0.446 Cu0.99 Ni1 Si0.277",
          "Co0.139 Cr0.446 Cu0.99 Ni1 Si0.277",
          "Co0.139 Cr0.446 Cu0.99 Ni1 Si0.277",
          "Al1 Co1 Cr0.091 Nb0.727 W0.212",
          "Co1 Cr0.917 Ni1 Ta0.5 Ti0.75",
          "Al0.947 Co0.158 Mo1 Ni0.289 W0.237",
          "Co0.043 Nb0.638 Ni1 Ta0.255 Ti0.191",
          "Co0.273 Cr0.477 Nb0.477 Ni0.045 Ti1",
          "Co1 Cr0.487 Nb0.231 Ta0.026 Ti0.821",
          "Co0.564 Nb0.795 Ta0.103 Ti1 W0.103",
          "Al1 Co1 Cu1 Fe1 Ni0.5",
          "Al1 Co1 Cu1 Fe1 Ni0.8",
          "Al1 Co1 Cu1 Fe1 Ni1",
          "Al0.667 Co0.667 Cu0.667 Fe0.667 Ni1",
          "Al0.5 Co0.5 Cu0.5 Fe0.5 Ni1",
          "Al0.333 Co0.333 Cu0.333 Fe0.333 Ni1",
          "Al0.5 Cr1 Fe1 Mn1 Ni1",
          "Al0.6 Cr1 Fe1 Mn1 Ni1",
          "Al0.7 Cr1 Fe1 Mn1 Ni1",
          "Al0.8 Cr1 Fe1 Mn1 Ni1",
          "Co1 Cr0.2 Fe1 Ni1 Si0.2",
          "Co1 Cr0.2 Fe1 Ni1 Si0.2",
          "Co1 Cr0.2 Fe1 Ni1 Si0.2",
          "Al1 Cu0.077 Fe0.077 Mg0.077 Si0.231 Zn0.077",
          "Al1 Cu0.077 Mg0.077 Ni0.077 Si0.231 Zn0.077",
          "Al1 Cr0.077 Cu0.077 Mg0.077 Si0.231 Zn0.077",
          "Al1 Cu0.077 Mg0.077 Mn0.077 Si0.231 Zn0.077",
          "Al1 Cu0.077 Mg0.077 Si0.231 Zn0.077 Zr0.077",
          "Co1 Cr1 Fe1 Mo0.2 Ni1",
          "Co1 Cr1 Fe1 Mo0.2 Ni1",
          "Co1 Cr1 Fe1 Mo0.2 Ni1",
          "Co1 Cr1 Fe1 Mo0.2 Ni1",
          "Co1 Cr1 Fe1 Mo0.2 Ni1",
          "Co1 Cr1 Fe1 Mo0.2 Ni1",
          "Co1 Cr1 Fe1 Mo0.2 Ni1",
          "Co1 Cr1 Fe1 Mo0.2 Ni1",
          "Co1 Cr1 Fe1 Mo0.2 Ni1",
          "Co1 Cr1 Fe1 Mo0.2 Ni1",
          "Co1 Cr1 Fe1 Mo0.2 Ni1",
          "Al0.569 Ca0.143 Li0.857 Mg1 Si0.286 Y0.003",
          "Al0.429 Ca0.286 Li1 Mg1 Si0.143",
          "Al0.312 Ca0.021 Li0.792 Mg1 Si0.021",
          "Al0.333 Ca0.011 Li0.844 Mg1 Si0.033",
          "Al0.333 Ca0.011 Li0.867 Mg1 Si0.011",
          "Co1 Cr1 Fe1 Ni1 Pd1",
          "Co1 Cr1 Fe1 Mn0.2 Ni1 Pd1",
          "Co1 Cr1 Fe1 Mn0.4 Ni1 Pd1",
          "Co1 Cr1 Fe1 Mn0.6 Ni1 Pd1",
          "Co1 Cr1 Fe1 Mn0.8 Ni1 Pd1",
          "Al0.3 Co1 Cr1 Fe1 Mn1 Ni1",
          "Cr1 Fe1 Ni1 Ti0.2",
          "Cr1 Fe1 Ni1 Ti0.3",
          "Cr1 Fe1 Ni1 Ti0.4",
          "Cr1 Fe1 Ni1 Ti0.5",
          "Cr1 Fe1 Ni1 Ti0.6",
          "Al1 Cr1 Cu1 Fe1 Mn1",
          "Al1 Cr1 Cu1 Fe1 Mn1 W0.05",
          "Al1 Cr1 Cu1 Fe1 Mn1 W0.1",
          "Al1 Cr1 Cu1 Fe1 Mn1 W0.5",
          "Co1 Cu1 Fe1 Nb0.5 Ni1",
          "Co0.2 Cu0.2 Fe0.2 Nb1 Ni0.2",
          "Co0.133 Cu0.133 Fe0.133 Nb1 Ni0.133",
          "Co0.086 Cu0.086 Fe0.086 Nb1 Ni0.086",
          "Co0.067 Cu0.067 Fe0.067 Nb1 Ni0.067",
          "Co0.2 Cr0.2 Fe1 Mn0.6",
          "B0.006 Co0.201 Cr0.201 Fe1 Mn0.604",
          "B0.012 Co0.202 Cr0.202 Fe1 Mn0.607",
          "B0.035 Co0.207 Cr0.207 Fe1 Mn0.621",
          "Al0.186 Cr0.149 Fe1 Mn0.861 Ni0.28",
          "Al0.186 Cr0.149 Fe1 Mn0.861 Ni0.28",
          "Al0.186 Cr0.149 Fe1 Mn0.861 Ni0.28",
          "Al0.186 Cr0.149 Fe1 Mn0.861 Ni0.28",
          "Hf1 Ti1 Zr1",
          "Hf1 Sc1 Ti1 Zr1",
          "Hf1 Ti1 Y1 Zr1",
          "Hf1 Sc1 Ti1 Y1 Zr1",
          "Co1 Cr1 Fe1 Ga1 Ni1",
          "Al0.562 Co0.938 Cr0.312 Fe0.312 Ni1",
          "Al0.581 Co0.968 Cr0.323 Fe0.323 Mo0.032 Ni1",
          "Al0.6 Co1 Cr0.333 Fe0.333 Mo0.067 Ni1",
          "Al0.6 Co1 Cr0.333 Fe0.333 Mo0.1 Ni0.967",
          "Co1 Cr1 Fe1 Mo0.149 Ni1",
          "Co1 Cr1 Cu1 Fe1 Ni1",
          "Co1 Cr1 Cu1 Fe1 Ni1 V0.042",
          "Co1 Cr1 Cu1 Fe1 Ni1 V0.087",
          "Co1 Cr1 Cu1 Fe1 Ni1 V0.136",
          "Co1 Cr1 Cu1 Fe1 Ni1 V0.19",
          "Co1 Cr1 Cu1 Ni1 Zn1",
          "Co1 Cr1 Cu1 Ni1 Zn1",
          "Co1 Cr1 Cu1 Ni1 Zn1",
          "Co1 Cr1 Cu1 Ni1 Zn1",
          "Hf1 Nb1 Ta1 Ti1 Zr1",
          "Nb1 Ta1 Ti1 Zr1",
          "Nb1 Ta1 Ti1",
          "Ta1 Ti1 Zr1",
          "Nb1 Ti1 Zr1",
          "Nb1 Ta0.667 Ti0.667 Zr0.333",
          "Nb0.333 Ta0.667 Ti0.667 Zr1",
          "Ag1 Al1 Nb1 Ti1 Zn1",
          "Ag1 Al1 Nb1 Ti1 Zn1",
          "Ag1 Al1 Nb1 Ti1 Zn1",
          "Ag1 Al1 Nb1 Ti1 Zn1",
          "Ag1 Al1 Nb1 Ti1 Zn1",
          "Al0.774 Fe1 Mn0.903 Ni0.484",
          "Al0.774 Fe1 Mn0.903 Ni0.484 Ti0.026",
          "Al0.774 Fe1 Mn0.903 Ni0.484 Ti0.097",
          "Al0.774 Fe1 Mn0.903 Ni0.484",
          "Al0.774 Fe1 Mn0.903 Ni0.484 Ti0.026",
          "Al0.774 Fe1 Mn0.903 Ni0.484 Ti0.097",
          "Al0.774 Fe1 Mn0.903 Ni0.484",
          "Al0.774 Fe1 Mn0.903 Ni0.484 Ti0.026",
          "Al0.774 Fe1 Mn0.903 Ni0.484 Ti0.097",
          "Al1 C1 Co1 Cr1 Fe1 Ni1",
          "Cr1 Cu1 Fe1 Ni1 Ti1",
          "Cr1 Cu1 Fe1 Ni1 Ti1",
          "Cr1 Cu1 Fe1 Ni1 Ti1",
          "Cr1 Cu1 Fe1 Ni1 Ti1",
          "Co1 Cr1 Fe1 Mn1 Ni1",
          "Al0.5 Cr1 Cu1 Fe1 Ni1",
          "Al0.5 Cr1 Cu1 Fe1 Ni1",
          "Hf1 Mo1 Nb1 Ta1 Ti1 Zr1",
          "Hf1 Mo1 Ta1 Ti1 Zr1",
          "Hf1 Mo1 Nb1 Ti1 Zr1",
          "Hf1 Mo1 Nb1 Ta1 Zr1",
          "Hf1 Mo1 Nb1 Ta1 Ti1",
          "Hf1 Mo1 Nb1 Ta1 Ti1 Zr1",
          "Hf1 Mo1 Ta1 Ti1 Zr1",
          "Hf1 Mo1 Nb1 Ti1 Zr1",
          "Hf1 Mo1 Nb1 Ta1 Zr1",
          "Hf1 Mo1 Nb1 Ta1 Ti1",
          "Hf1 Mo1 Nb1 Ta1 Ti1 Zr1",
          "Hf1 Mo1 Ta1 Ti1 Zr1",
          "Hf1 Mo1 Nb1 Ti1 Zr1",
          "Hf1 Mo1 Nb1 Ta1 Zr1",
          "Hf1 Mo1 Nb1 Ta1 Ti1",
          "Hf1 Mo1 Nb1 Ta1 Ti1 Zr1",
          "Hf1 Mo1 Ta1 Ti1 Zr1",
          "Hf1 Mo1 Nb1 Ti1 Zr1",
          "Hf1 Mo1 Nb1 Ta1 Zr1",
          "Hf1 Mo1 Nb1 Ta1 Ti1",
          "Hf1 Mo1 Nb1 Ta1 Zr1",
          "Hf1 Mo1 Nb1 Ta1 Ti1",
          "Co1 Cr1 Fe1 Ni1",
          "C0.111 Co1 Cr1 Fe1 Ni1 W0.111",
          "C0.429 Co1 Cr1 Fe1 Ni1 W0.429",
          "Al0.267 Co1 Cr0.667 Fe0.667 Ni0.667 Ti0.2",
          "Hf1 Nb1 Ta1 Ti1 Zr1",
          "Hf1 Nb1 Ta1 Ti1 Zr1",
          "Hf1 Nb1 Ta1 Ti1 Zr1",
          "Hf1 Nb1 Ta1 Ti1 Zr1",
          "Hf1 Nb1 Ta1 Ti1 Zr1",
          "Hf1 Nb1 Ta1 Ti1 Zr1",
          "Hf1 Nb1 Ta1 Ti1 Zr1",
          "Hf1 Nb1 Ta1 Ti1 Zr1",
          "Hf1 Nb1 Ta1 Ti1 Zr1",
          "Hf1 Nb1 Ta1 Ti1 Zr1",
          "Hf1 Nb1 Ta1 Ti1 Zr1",
          "Al1 Nb1 Ti1 Zr1",
          "Al1 Nb1 Ti1 Zr1",
          "Al1 Nb1 Ti1 V1 Zr0.5",
          "Al1 Nb1 Ti1 Zr1",
          "Nb1 Ti1 V1 Zr1",
          "Cr1 Nb1 Ti1 Zr1",
          "Al1 Cr1 Fe1 Mo0.5 Ni1",
          "Al1 Cr1 Fe1 Mo0.5 Ni1 Ti0.25",
          "Al1 Cr1 Fe1 Mo0.5 Ni1 Ti0.4",
          "Al1 Cr1 Fe1 Mo0.5 Ni1 Ti0.5",
          "Al1 Cr1 Fe1 Mo0.5 Ni1 Ti0.6",
          "Al1 Cr1 Fe1 Mo0.5 Ni1 Ti0.75",
          "Al1 Cr1 Mo1 Nb1",
          "Al1 Cr1 Mo1 Nb1",
          "Al1 Hf1 Nb1 Ti1",
          "Al1 Hf1 Nb1 Ti1",
          "Al1 Hf1 Ta1 Ti1",
          "Al1 Hf1 Ta1 Ti1",
          "Al1 Mo1 Nb1 Ti1",
          "Al1 Mo1 Nb1 Ti1",
          "Al1 Nb1 Ta1 Ti1",
          "Al1 Nb1 Ta1 Ti1",
          "Cr1 Mo1 Ta1 Ti1",
          "Cr1 Mo1 Ta1 Ti1",
          "Cr1 Nb1 Ta1 Ti1",
          "Cr1 Nb1 Ta1 Ti1",
          "Cr1 Nb1 Ti1 W1",
          "Cr1 Nb1 Ti1 W1",
          "Hf1 Nb1 Ta1 Ti1",
          "Hf1 Nb1 Ta1 Ti1",
          "Mo1 Nb1 Ta1 Ti1 W1",
          "Mo1 Nb1 Ta1 Ti1 W1",
          "Mo1 Nb1 Ta1 Ti1",
          "Mo1 Nb1 Ta1 Ti1"
         ],
         "legendgroup": "",
         "marker": {
          "color": "#1F77B4"
         },
         "name": "",
         "notched": false,
         "offsetgroup": "",
         "orientation": "v",
         "showlegend": false,
         "type": "box",
         "x": [
          "FCC",
          "other",
          "other",
          "BCC",
          "FCC",
          "FCC",
          "FCC",
          "other",
          "other",
          "FCC",
          "FCC",
          "FCC",
          "FCC",
          "FCC",
          "FCC",
          "FCC",
          "other",
          "other",
          "other",
          "other",
          "other",
          "FCC",
          "FCC",
          "FCC",
          "FCC",
          "FCC",
          "other",
          "other",
          "other",
          "other",
          "BCC",
          "other",
          "BCC",
          "BCC",
          "BCC",
          "BCC",
          "BCC",
          "BCC",
          "BCC",
          "other",
          "FCC",
          "FCC",
          "other",
          "other",
          "other",
          "other",
          "other",
          "other",
          "other",
          "other",
          "other",
          "FCC",
          "other",
          "FCC",
          "other",
          "other",
          "other",
          "other",
          "BCC",
          "BCC",
          "BCC",
          "BCC",
          "BCC",
          "other",
          "FCC",
          "other",
          "FCC",
          "BCC",
          "other",
          "other",
          "other",
          "other",
          "other",
          "other",
          "other",
          "BCC",
          "BCC",
          "other",
          "other",
          "other",
          "other",
          "BCC",
          "BCC",
          "other",
          "other",
          "other",
          "BCC",
          "other",
          "other",
          "other",
          "other",
          "other",
          "other",
          "other",
          "other",
          "other",
          "other",
          "other",
          "other",
          "other",
          "other",
          "BCC",
          "other",
          "BCC",
          "BCC",
          "BCC",
          "other",
          "FCC",
          "FCC",
          "other",
          "other",
          "FCC",
          "other",
          "other",
          "other",
          "other",
          "BCC",
          "BCC",
          "other",
          "other",
          "other",
          "other",
          "other",
          "other",
          "FCC",
          "FCC",
          "FCC",
          "other",
          "other",
          "other",
          "other",
          "other",
          "other",
          "other",
          "other",
          "other",
          "BCC",
          "FCC",
          "FCC",
          "FCC",
          "FCC",
          "other",
          "FCC",
          "FCC",
          "other",
          "other",
          "other",
          "other",
          "other",
          "BCC",
          "other",
          "other",
          "other",
          "other",
          "other",
          "FCC",
          "FCC",
          "other",
          "other",
          "other",
          "other",
          "other",
          "other",
          "other",
          "BCC",
          "BCC",
          "other",
          "FCC",
          "FCC",
          "FCC",
          "FCC",
          "other",
          "other",
          "other",
          "other",
          "other",
          "FCC",
          "other",
          "FCC",
          "FCC",
          "other",
          "other",
          "other",
          "other",
          "other",
          "other",
          "other",
          "FCC",
          "FCC",
          "other",
          "other",
          "other",
          "other",
          "BCC",
          "BCC",
          "BCC",
          "BCC",
          "BCC",
          "other",
          "other",
          "other",
          "other",
          "other",
          "other",
          "other",
          "other",
          "other",
          "other",
          "BCC",
          "other",
          "other",
          "other",
          "FCC",
          "FCC",
          "other",
          "other",
          "other",
          "other",
          "other",
          "other",
          "FCC",
          "FCC",
          "other",
          "other",
          "other",
          "other",
          "other",
          "other",
          "other",
          "other",
          "other",
          "FCC",
          "FCC",
          "FCC",
          "FCC",
          "FCC",
          "other",
          "other",
          "other",
          "FCC",
          "FCC",
          "FCC",
          "FCC",
          "other",
          "other",
          "other",
          "other",
          "other",
          "other",
          "other",
          "BCC",
          "BCC",
          "BCC",
          "BCC",
          "BCC",
          "BCC",
          "BCC",
          "BCC",
          "BCC",
          "BCC",
          "BCC",
          "BCC",
          "other",
          "other",
          "other",
          "other",
          "BCC",
          "BCC",
          "BCC",
          "BCC",
          "BCC",
          "BCC",
          "other",
          "BCC",
          "BCC",
          "BCC",
          "BCC",
          "BCC",
          "BCC",
          "BCC",
          "BCC",
          "BCC",
          "BCC",
          "BCC",
          "BCC",
          "BCC",
          "BCC",
          "other",
          "other",
          "other",
          "other",
          "other",
          "other",
          "other",
          "other",
          "other",
          "other",
          "other",
          "other",
          "BCC",
          "BCC",
          "BCC",
          "BCC",
          "BCC",
          "BCC",
          "BCC",
          "BCC",
          "BCC",
          "other",
          "other",
          "BCC",
          "BCC",
          "BCC",
          "BCC",
          "BCC",
          "BCC",
          "BCC",
          "BCC",
          "BCC",
          "BCC",
          "BCC",
          "BCC",
          "BCC",
          "BCC",
          "BCC",
          "BCC",
          "BCC",
          "BCC",
          "other",
          "other",
          "other",
          "BCC",
          "BCC",
          "BCC",
          "BCC",
          "BCC",
          "BCC",
          "BCC",
          "BCC",
          "BCC",
          "BCC",
          "BCC",
          "BCC",
          "BCC",
          "BCC",
          "BCC",
          "BCC",
          "BCC",
          "BCC",
          "BCC",
          "BCC",
          "BCC",
          "BCC",
          "BCC",
          "BCC",
          "BCC",
          "BCC",
          "BCC",
          "BCC",
          "BCC",
          "BCC",
          "BCC",
          "BCC",
          "BCC",
          "BCC",
          "BCC",
          "BCC",
          "BCC",
          "BCC",
          "BCC",
          "BCC",
          "BCC",
          "BCC",
          "BCC",
          "BCC",
          "BCC",
          "BCC",
          "BCC",
          "BCC",
          "other",
          "other",
          "other",
          "other",
          "other",
          "other",
          "other",
          "other",
          "other",
          "other",
          "FCC",
          "other",
          "BCC",
          "other",
          "other",
          "FCC",
          "FCC",
          "other",
          "other",
          "FCC",
          "other",
          "FCC",
          "FCC",
          "FCC",
          "FCC",
          "FCC",
          "FCC",
          "FCC",
          "BCC",
          "BCC",
          "BCC",
          "BCC",
          "BCC",
          "BCC",
          "BCC",
          "BCC",
          "other",
          "other",
          "other",
          "other",
          "other",
          "other",
          "BCC",
          "BCC",
          "BCC",
          "BCC",
          "BCC",
          "BCC",
          "BCC",
          "BCC",
          "BCC",
          "BCC",
          "BCC",
          "BCC",
          "BCC",
          "BCC",
          "BCC",
          "BCC",
          "BCC",
          "BCC",
          "BCC",
          "other",
          "other",
          "other",
          "other",
          "other",
          "other",
          "other",
          "other",
          "other",
          "other",
          "other",
          "other",
          "other",
          "other",
          "other",
          "other",
          "other",
          "other",
          "other",
          "other",
          "other",
          "BCC",
          "other",
          "other",
          "other",
          "other",
          "other",
          "other",
          "other",
          "BCC",
          "BCC",
          "BCC",
          "other",
          "other",
          "other",
          "other",
          "other",
          "other",
          "other",
          "BCC",
          "BCC",
          "BCC",
          "BCC",
          "BCC",
          "other",
          "other",
          "other",
          "other",
          "other",
          "other",
          "BCC",
          "BCC",
          "BCC",
          "BCC",
          "BCC",
          "BCC",
          "BCC",
          "BCC",
          "BCC",
          "BCC",
          "BCC",
          "BCC",
          "BCC",
          "BCC",
          "BCC",
          "BCC",
          "BCC",
          "BCC",
          "BCC",
          "BCC",
          "BCC",
          "other",
          "other",
          "other",
          "other",
          "other",
          "other",
          "other",
          "other",
          "other",
          "BCC",
          "BCC",
          "BCC",
          "BCC",
          "other",
          "other",
          "other",
          "other",
          "other",
          "other",
          "other",
          "other",
          "other",
          "other",
          "other",
          "other",
          "other",
          "other",
          "other",
          "other",
          "BCC",
          "other",
          "other",
          "BCC",
          "BCC",
          "other",
          "BCC",
          "BCC",
          "BCC",
          "BCC",
          "BCC",
          "BCC",
          "BCC",
          "BCC",
          "BCC",
          "BCC",
          "BCC",
          "BCC",
          "BCC",
          "BCC",
          "BCC",
          "other",
          "other",
          "other",
          "other",
          "BCC",
          "other",
          "other",
          "other",
          "BCC",
          "BCC",
          "BCC",
          "BCC",
          "BCC",
          "BCC",
          "BCC",
          "BCC",
          "BCC",
          "BCC",
          "BCC",
          "BCC",
          "BCC",
          "BCC",
          "BCC",
          "BCC",
          "BCC",
          "other",
          "other",
          "other",
          "BCC",
          "BCC",
          "BCC",
          "BCC",
          "other",
          "other",
          "other",
          "other",
          "BCC",
          "BCC",
          "BCC",
          "BCC",
          "BCC",
          "other",
          "other",
          "other",
          "other",
          "other",
          "other",
          "other",
          "other",
          "BCC",
          "BCC",
          "BCC",
          "BCC",
          "other",
          "other",
          "other",
          "other",
          "other",
          "other",
          "other",
          "other",
          "other",
          "other",
          "other",
          "other",
          "other",
          "other",
          "other",
          "other",
          "FCC",
          "other",
          "other",
          "other",
          "other",
          "other",
          "other",
          "other",
          "other",
          "other",
          "FCC",
          "other",
          "FCC",
          "other",
          "other",
          "FCC",
          "other",
          "other",
          "FCC",
          "other",
          "other",
          "other",
          "other",
          "other",
          "FCC",
          "FCC",
          "other",
          "other",
          "other",
          "other",
          "other",
          "other",
          "other",
          "other",
          "other",
          "other",
          "other",
          "other",
          "other",
          "other",
          "other",
          "other",
          "other",
          "other",
          "other",
          "other",
          "other",
          "other",
          "FCC",
          "other",
          "other",
          "other",
          "other",
          "other",
          "FCC",
          "FCC",
          "other",
          "other",
          "other",
          "other",
          "other",
          "other",
          "FCC",
          "other",
          "FCC",
          "other",
          "FCC",
          "FCC",
          "other",
          "other",
          "other",
          "other",
          "other",
          "other",
          "other",
          "other",
          "other",
          "other",
          "other",
          "other",
          "other",
          "other",
          "other",
          "other",
          "other",
          "other",
          "other",
          "other",
          "other",
          "other",
          "other",
          "other",
          "other",
          "other",
          "FCC",
          "other",
          "other",
          "other",
          "other",
          "FCC",
          "FCC",
          "other",
          "other",
          "other",
          "FCC",
          "other",
          "other",
          "other",
          "other",
          "other",
          "FCC",
          "other",
          "other",
          "other",
          "other",
          "other",
          "other",
          "other",
          "FCC",
          "other",
          "FCC",
          "FCC",
          "FCC",
          "FCC",
          "FCC",
          "FCC",
          "FCC",
          "FCC",
          "other",
          "other",
          "other",
          "other",
          "FCC",
          "FCC",
          "FCC",
          "FCC",
          "other",
          "other",
          "other",
          "FCC",
          "FCC",
          "FCC",
          "BCC",
          "BCC",
          "BCC",
          "FCC",
          "FCC",
          "other",
          "other",
          "other",
          "other",
          "other",
          "other",
          "FCC",
          "FCC",
          "FCC",
          "FCC",
          "FCC",
          "FCC",
          "FCC",
          "FCC",
          "other",
          "other",
          "other",
          "FCC",
          "FCC",
          "other",
          "other",
          "other",
          "other",
          "other",
          "other",
          "other",
          "other",
          "other",
          "FCC",
          "FCC",
          "FCC",
          "FCC",
          "FCC",
          "FCC",
          "FCC",
          "FCC",
          "FCC",
          "FCC",
          "FCC",
          "other",
          "other",
          "other",
          "other",
          "other",
          "other",
          "other",
          "other",
          "other",
          "other",
          "other",
          "other",
          "FCC",
          "other",
          "other",
          "other",
          "other",
          "other",
          "other",
          "other",
          "other",
          "other",
          "FCC",
          "other",
          "BCC",
          "FCC",
          "FCC",
          "FCC",
          "other",
          "other",
          "BCC",
          "other",
          "other",
          "other",
          "other",
          "other",
          "other",
          "other",
          "other",
          "other",
          "other",
          "other",
          "other",
          "other",
          "other",
          "other",
          "other",
          "other",
          "other",
          "other",
          "other",
          "other",
          "other",
          "other",
          "other",
          "other",
          "other",
          "other",
          "other",
          "other",
          "other",
          "other",
          "other",
          "other",
          "other",
          "other",
          "other",
          "other",
          "other",
          "other",
          "other",
          "other",
          "other",
          "other",
          "other",
          "other",
          "other",
          "other",
          "other",
          "other",
          "BCC",
          "other",
          "other",
          "other",
          "FCC",
          "other",
          "BCC",
          "BCC",
          "BCC",
          "BCC",
          "BCC",
          "BCC",
          "BCC",
          "BCC",
          "BCC",
          "BCC",
          "BCC",
          "BCC",
          "BCC",
          "BCC",
          "BCC",
          "other",
          "other",
          "other",
          "other",
          "other",
          "other",
          "other",
          "other",
          "other",
          "other",
          "other",
          "BCC",
          "BCC",
          "BCC",
          "BCC",
          "BCC",
          "BCC",
          "BCC",
          "BCC",
          "BCC",
          "BCC",
          "BCC",
          "BCC",
          "BCC",
          "BCC",
          "BCC",
          "other",
          "other",
          "other",
          "other",
          "other",
          "other",
          "other",
          "other",
          "other",
          "other",
          "other",
          "BCC",
          "BCC",
          "BCC",
          "BCC",
          "BCC",
          "BCC",
          "BCC",
          "BCC",
          "BCC",
          "BCC",
          "BCC",
          "BCC",
          "BCC",
          "BCC",
          "BCC",
          "other",
          "other",
          "other",
          "other",
          "other",
          "other",
          "other",
          "other",
          "other",
          "other",
          "other",
          "FCC",
          "BCC",
          "BCC",
          "BCC",
          "FCC",
          "FCC",
          "FCC",
          "FCC",
          "other",
          "other",
          "other",
          "other",
          "BCC",
          "FCC",
          "FCC",
          "FCC",
          "FCC",
          "FCC",
          "FCC",
          "FCC",
          "FCC",
          "FCC",
          "FCC",
          "FCC",
          "FCC",
          "FCC",
          "FCC",
          "FCC",
          "FCC",
          "FCC",
          "FCC",
          "FCC",
          "FCC",
          "FCC",
          "FCC",
          "FCC",
          "FCC",
          "FCC",
          "other",
          "other",
          "other",
          "other",
          "other",
          "other",
          "other",
          "other",
          "other",
          "other",
          "other",
          "FCC",
          "FCC",
          "FCC",
          "FCC",
          "FCC",
          "FCC",
          "FCC",
          "FCC",
          "FCC",
          "FCC",
          "FCC",
          "FCC",
          "FCC",
          "FCC",
          "FCC",
          "FCC",
          "FCC",
          "other",
          "other",
          "other",
          "other",
          "other",
          "other",
          "other",
          "other",
          "other",
          "other",
          "FCC",
          "FCC",
          "FCC",
          "other",
          "other",
          "other",
          "other",
          "other",
          "other",
          "other",
          "other",
          "other",
          "BCC",
          "other",
          "other",
          "other",
          "other",
          "FCC",
          "FCC",
          "FCC",
          "FCC",
          "FCC",
          "FCC",
          "FCC",
          "FCC",
          "FCC",
          "FCC",
          "FCC",
          "FCC",
          "FCC",
          "FCC",
          "FCC",
          "other",
          "other",
          "other",
          "other",
          "other",
          "other",
          "other",
          "other",
          "other",
          "other",
          "other",
          "other",
          "other",
          "other",
          "other",
          "other",
          "other",
          "other",
          "other",
          "other",
          "other",
          "other",
          "other",
          "other",
          "other",
          "other",
          "other",
          "other",
          "other",
          "other",
          "other",
          "other",
          "other",
          "BCC",
          "BCC",
          "BCC",
          "BCC",
          "BCC",
          "BCC",
          "BCC",
          "BCC",
          "FCC",
          "FCC",
          "other",
          "other",
          "other",
          "other",
          "FCC",
          "other",
          "other",
          "other",
          "BCC",
          "BCC",
          "BCC",
          "BCC",
          "BCC",
          "BCC",
          "BCC",
          "BCC",
          "BCC",
          "BCC",
          "BCC",
          "BCC",
          "BCC",
          "BCC",
          "BCC",
          "BCC",
          "BCC",
          "BCC",
          "BCC",
          "BCC",
          "BCC",
          "BCC",
          "BCC",
          "BCC",
          "BCC",
          "BCC",
          "BCC",
          "BCC",
          "BCC",
          "BCC",
          "BCC",
          "BCC",
          "BCC",
          "BCC",
          "BCC",
          "BCC",
          "BCC",
          "BCC",
          "BCC",
          "BCC",
          "BCC",
          "BCC",
          "FCC",
          "FCC",
          "FCC",
          "FCC",
          "FCC",
          "FCC",
          "BCC",
          "BCC",
          "BCC",
          "BCC",
          "BCC",
          "BCC",
          "BCC",
          "BCC",
          "BCC",
          "BCC",
          "BCC",
          "BCC",
          "BCC",
          "BCC",
          "BCC",
          "BCC",
          "BCC",
          "BCC",
          "BCC",
          "BCC",
          "BCC",
          "BCC",
          "BCC",
          "BCC",
          "BCC",
          "BCC",
          "BCC",
          "BCC",
          "BCC",
          "BCC",
          "BCC",
          "BCC",
          "BCC",
          "BCC",
          "BCC",
          "BCC",
          "BCC",
          "other",
          "other",
          "other",
          "other",
          "other",
          "other",
          "other",
          "other",
          "BCC",
          "BCC",
          "BCC",
          "BCC",
          "BCC",
          "BCC",
          "BCC",
          "BCC",
          "BCC",
          "BCC",
          "BCC",
          "other",
          "other",
          "other",
          "other",
          "other",
          "other",
          "other",
          "other",
          "other",
          "other",
          "other",
          "other",
          "other",
          "other",
          "other",
          "other",
          "other",
          "other",
          "other",
          "other",
          "other",
          "other",
          "other",
          "other",
          "other",
          "other",
          "other",
          "other",
          "other",
          "other",
          "FCC",
          "FCC",
          "FCC",
          "FCC",
          "FCC",
          "FCC",
          "FCC",
          "FCC",
          "other",
          "other",
          "BCC",
          "other",
          "other",
          "other",
          "other",
          "BCC",
          "other",
          "other",
          "other",
          "BCC",
          "other",
          "other",
          "other",
          "BCC",
          "other",
          "other",
          "other",
          "BCC",
          "other",
          "other",
          "other",
          "BCC",
          "other",
          "other",
          "other",
          "other",
          "FCC",
          "FCC",
          "FCC",
          "FCC",
          "FCC",
          "FCC",
          "FCC",
          "FCC",
          "FCC",
          "FCC",
          "FCC",
          "other",
          "other",
          "other",
          "other",
          "FCC",
          "other",
          "BCC",
          "BCC",
          "other",
          "FCC",
          "other",
          "other",
          "other",
          "other",
          "other",
          "other",
          "other",
          "other",
          "FCC",
          "FCC",
          "FCC",
          "FCC",
          "FCC",
          "FCC",
          "FCC",
          "FCC",
          "FCC",
          "FCC",
          "other",
          "other",
          "FCC",
          "FCC",
          "other",
          "other",
          "other",
          "other",
          "other",
          "other",
          "other",
          "other",
          "other",
          "other",
          "other",
          "other",
          "other",
          "other",
          "other",
          "other",
          "other",
          "FCC",
          "other",
          "other",
          "other",
          "other",
          "FCC",
          "FCC",
          "FCC",
          "FCC",
          "FCC",
          "FCC",
          "FCC",
          "other",
          "FCC",
          "FCC",
          "FCC",
          "FCC",
          "FCC",
          "FCC",
          "FCC",
          "FCC",
          "FCC",
          "FCC",
          "FCC",
          "other",
          "other",
          "other",
          "other",
          "other",
          "FCC",
          "other",
          "other",
          "other",
          "other",
          "other",
          "other",
          "other",
          "BCC",
          "BCC",
          "BCC",
          "other",
          "other",
          "other",
          "other",
          "other",
          "other",
          "other",
          "other",
          "other",
          "other",
          "other",
          "other",
          "other",
          "other",
          "other",
          "other",
          "other",
          "other",
          "other",
          "other",
          "other",
          "other",
          "other",
          "other",
          "other",
          "other",
          "other",
          "FCC",
          "other",
          "other",
          "other",
          "other",
          "other",
          "other",
          "other",
          "other",
          "BCC",
          "BCC",
          "BCC",
          "other",
          "BCC",
          "other",
          "other",
          "other",
          "other",
          "other",
          "other",
          "other",
          "other",
          "other",
          "other",
          "other",
          "other",
          "other",
          "other",
          "other",
          "other",
          "other",
          "other",
          "other",
          "other",
          "other",
          "other",
          "FCC",
          "FCC",
          "BCC",
          "BCC",
          "BCC",
          "BCC",
          "BCC",
          "BCC",
          "BCC",
          "BCC",
          "BCC",
          "BCC",
          "BCC",
          "BCC",
          "BCC",
          "BCC",
          "BCC",
          "BCC",
          "BCC",
          "BCC",
          "BCC",
          "BCC",
          "BCC",
          "BCC",
          "FCC",
          "FCC",
          "FCC",
          "other",
          "BCC",
          "BCC",
          "BCC",
          "BCC",
          "BCC",
          "BCC",
          "BCC",
          "BCC",
          "BCC",
          "BCC",
          "BCC",
          "other",
          "other",
          "other",
          "other",
          "other",
          "other",
          "other",
          "other",
          "other",
          "other",
          "other",
          "other",
          "other",
          "other",
          "other",
          "other",
          "other",
          "other",
          "other",
          "BCC",
          "other",
          "BCC",
          "BCC",
          "BCC",
          "other",
          "BCC",
          "other",
          "BCC",
          "BCC",
          "BCC",
          "BCC",
          "BCC",
          "BCC",
          "BCC"
         ],
         "x0": " ",
         "xaxis": "x",
         "y": [
          138,
          212,
          385,
          456,
          125,
          125,
          149,
          287,
          570,
          null,
          null,
          null,
          null,
          null,
          null,
          null,
          null,
          null,
          null,
          null,
          null,
          null,
          110,
          113,
          131,
          196,
          159,
          209,
          388,
          280,
          538,
          361,
          487,
          499,
          484,
          517,
          509,
          512,
          484,
          433,
          116,
          113,
          425,
          655,
          605,
          715,
          210,
          null,
          null,
          643,
          null,
          null,
          717,
          487,
          654,
          509,
          624,
          null,
          402,
          487,
          432,
          506,
          395,
          342,
          286,
          296,
          263,
          null,
          null,
          null,
          null,
          null,
          null,
          null,
          null,
          null,
          null,
          null,
          null,
          null,
          null,
          null,
          569,
          668,
          747,
          null,
          520,
          270,
          801,
          741,
          586,
          796,
          755,
          754,
          635,
          639,
          857,
          730,
          708,
          586,
          395,
          null,
          null,
          null,
          null,
          null,
          null,
          null,
          null,
          null,
          null,
          null,
          null,
          178,
          null,
          780,
          790,
          800,
          680,
          850,
          630,
          790,
          590,
          740,
          180,
          171,
          182,
          183,
          220,
          278,
          405,
          486,
          530,
          539,
          533,
          535,
          539,
          176,
          144,
          135,
          151,
          144,
          186,
          275,
          380,
          342,
          636,
          650,
          297,
          396,
          472,
          905,
          549,
          622,
          854,
          180,
          207,
          271,
          476,
          510,
          557,
          567,
          603,
          624,
          657,
          644,
          407,
          134,
          172,
          null,
          null,
          null,
          415,
          505,
          736,
          300,
          225,
          636,
          272,
          321,
          458,
          590,
          646,
          664,
          657,
          667,
          696,
          215,
          204,
          231,
          328,
          447,
          639,
          579,
          577,
          594,
          597,
          587,
          472,
          578,
          536,
          682,
          626,
          472,
          null,
          null,
          null,
          null,
          null,
          null,
          null,
          null,
          null,
          null,
          null,
          null,
          null,
          null,
          null,
          null,
          208,
          192,
          205,
          219,
          253,
          319,
          495,
          496,
          486,
          407,
          367,
          286,
          null,
          null,
          null,
          null,
          null,
          null,
          null,
          516,
          516,
          516,
          537,
          null,
          null,
          null,
          null,
          null,
          null,
          591,
          500,
          null,
          null,
          490,
          null,
          null,
          500,
          null,
          null,
          530,
          null,
          null,
          591,
          null,
          null,
          null,
          408,
          null,
          null,
          353,
          396,
          427,
          441,
          295,
          460,
          487,
          517,
          537,
          441,
          null,
          null,
          null,
          null,
          448,
          null,
          null,
          null,
          540,
          null,
          null,
          null,
          482,
          null,
          null,
          null,
          418,
          null,
          null,
          null,
          304,
          null,
          null,
          null,
          335,
          null,
          null,
          null,
          null,
          null,
          null,
          395,
          480,
          492,
          505,
          335,
          505,
          null,
          null,
          null,
          542,
          null,
          null,
          null,
          null,
          null,
          null,
          null,
          null,
          null,
          null,
          490,
          301,
          null,
          null,
          null,
          null,
          null,
          null,
          null,
          504,
          536,
          null,
          null,
          null,
          null,
          null,
          null,
          454,
          null,
          null,
          null,
          null,
          null,
          null,
          null,
          null,
          null,
          null,
          null,
          null,
          null,
          null,
          null,
          null,
          null,
          null,
          null,
          null,
          null,
          null,
          null,
          null,
          null,
          null,
          null,
          null,
          null,
          null,
          null,
          267,
          402,
          557,
          606,
          602,
          538,
          520,
          510,
          382,
          625,
          238,
          null,
          null,
          null,
          null,
          147,
          109,
          241,
          318,
          166,
          205,
          null,
          null,
          null,
          null,
          null,
          null,
          null,
          null,
          null,
          null,
          null,
          null,
          null,
          null,
          null,
          null,
          null,
          null,
          null,
          null,
          null,
          null,
          null,
          null,
          null,
          null,
          null,
          null,
          null,
          null,
          null,
          null,
          null,
          null,
          null,
          null,
          null,
          null,
          null,
          null,
          null,
          null,
          null,
          null,
          null,
          null,
          null,
          null,
          null,
          null,
          null,
          null,
          null,
          null,
          null,
          null,
          null,
          null,
          null,
          null,
          null,
          null,
          null,
          null,
          null,
          null,
          null,
          null,
          null,
          null,
          null,
          null,
          null,
          715,
          null,
          780,
          null,
          715,
          null,
          null,
          null,
          null,
          null,
          null,
          442,
          494,
          524,
          580,
          640,
          400,
          null,
          null,
          null,
          null,
          null,
          null,
          null,
          null,
          null,
          null,
          null,
          null,
          null,
          null,
          null,
          null,
          null,
          null,
          null,
          null,
          null,
          null,
          null,
          null,
          null,
          null,
          null,
          null,
          null,
          null,
          null,
          null,
          null,
          null,
          null,
          null,
          null,
          null,
          null,
          null,
          null,
          null,
          null,
          null,
          null,
          null,
          null,
          null,
          null,
          null,
          420,
          530,
          340,
          309,
          366,
          null,
          351,
          null,
          null,
          null,
          null,
          null,
          null,
          null,
          null,
          null,
          null,
          null,
          null,
          null,
          null,
          571,
          536,
          null,
          550,
          365,
          null,
          null,
          null,
          null,
          478.3,
          481.2,
          495.6,
          507.5,
          null,
          null,
          null,
          null,
          null,
          null,
          null,
          null,
          null,
          null,
          null,
          null,
          null,
          null,
          null,
          null,
          null,
          null,
          null,
          null,
          null,
          null,
          null,
          null,
          null,
          null,
          null,
          null,
          null,
          null,
          null,
          null,
          null,
          null,
          null,
          null,
          null,
          null,
          null,
          null,
          null,
          null,
          null,
          null,
          null,
          null,
          null,
          null,
          null,
          null,
          null,
          null,
          null,
          null,
          null,
          null,
          null,
          null,
          null,
          null,
          null,
          null,
          null,
          null,
          null,
          null,
          null,
          null,
          null,
          null,
          null,
          null,
          null,
          null,
          null,
          null,
          null,
          null,
          null,
          null,
          null,
          null,
          null,
          null,
          null,
          null,
          null,
          null,
          null,
          null,
          null,
          null,
          null,
          null,
          null,
          null,
          null,
          null,
          null,
          null,
          null,
          null,
          null,
          null,
          null,
          null,
          null,
          null,
          null,
          null,
          null,
          null,
          null,
          null,
          null,
          null,
          null,
          null,
          null,
          null,
          null,
          null,
          null,
          null,
          null,
          null,
          168,
          328,
          206,
          231,
          178,
          343,
          171,
          343,
          341,
          345,
          345,
          345,
          345,
          null,
          null,
          null,
          null,
          null,
          null,
          null,
          null,
          null,
          null,
          null,
          null,
          null,
          null,
          null,
          null,
          null,
          null,
          null,
          null,
          null,
          null,
          null,
          null,
          null,
          null,
          null,
          null,
          null,
          null,
          null,
          null,
          null,
          null,
          null,
          null,
          null,
          null,
          null,
          null,
          null,
          null,
          null,
          null,
          null,
          null,
          null,
          null,
          null,
          null,
          468,
          326,
          223,
          null,
          null,
          null,
          130.2,
          394.1,
          430.7,
          427.9,
          444.3,
          510.9,
          null,
          null,
          415,
          432,
          511,
          553,
          622,
          684,
          null,
          null,
          null,
          null,
          null,
          null,
          94.7,
          117,
          228,
          511,
          623,
          null,
          null,
          null,
          null,
          null,
          null,
          null,
          null,
          null,
          null,
          11.6,
          null,
          null,
          null,
          null,
          null,
          null,
          null,
          null,
          null,
          null,
          null,
          null,
          null,
          null,
          null,
          null,
          null,
          1072,
          1010,
          991.3,
          988.3,
          704.6,
          160,
          160,
          458,
          498,
          560,
          null,
          null,
          null,
          null,
          null,
          null,
          null,
          null,
          null,
          null,
          null,
          null,
          null,
          null,
          null,
          null,
          null,
          null,
          null,
          null,
          null,
          null,
          699,
          728,
          604,
          790,
          806,
          811,
          855,
          802,
          799,
          857,
          855,
          816,
          811,
          790,
          855,
          856,
          859,
          875,
          865,
          868,
          863,
          843,
          794,
          783,
          797,
          805,
          699,
          749,
          828,
          849,
          883,
          864,
          841,
          868,
          865,
          840,
          882,
          883,
          828,
          848,
          878,
          782,
          null,
          null,
          null,
          null,
          null,
          null,
          null,
          null,
          null,
          null,
          null,
          null,
          null,
          null,
          null,
          null,
          null,
          null,
          null,
          null,
          null,
          null,
          null,
          null,
          null,
          null,
          null,
          null,
          null,
          null,
          null,
          null,
          null,
          null,
          null,
          null,
          null,
          null,
          null,
          null,
          null,
          null,
          null,
          null,
          null,
          null,
          null,
          null,
          null,
          null,
          null,
          null,
          null,
          null,
          null,
          null,
          null,
          null,
          null,
          null,
          null,
          null,
          null,
          null,
          null,
          null,
          null,
          null,
          null,
          null,
          null,
          null,
          null,
          null,
          null,
          null,
          null,
          null,
          null,
          null,
          null,
          null,
          null,
          null,
          null,
          null,
          null,
          null,
          null,
          null,
          null,
          null,
          null,
          null,
          null,
          741,
          null,
          null,
          null,
          null,
          null,
          null,
          null,
          null,
          null,
          null,
          null,
          null,
          null,
          null,
          null,
          null,
          null,
          null,
          null,
          null,
          null,
          null,
          null,
          null,
          null,
          null,
          672,
          666,
          667,
          434,
          666,
          761,
          747,
          null,
          null,
          null,
          null,
          null,
          null,
          null,
          null,
          null,
          null,
          null,
          null,
          null,
          null,
          null,
          null,
          null,
          null,
          132,
          147,
          165,
          519,
          493,
          null,
          null,
          null,
          null,
          null,
          null,
          null,
          null,
          null,
          null,
          null,
          null,
          null,
          null,
          null,
          null,
          null,
          null,
          null,
          null,
          473,
          510,
          558,
          583,
          615,
          null,
          null,
          null,
          null,
          null,
          null,
          null,
          null,
          null,
          null,
          null,
          null,
          null,
          null,
          null,
          410.9,
          581.7,
          605.5,
          641.7,
          639.6,
          703,
          856.9,
          null,
          null,
          null,
          null,
          null,
          null,
          null,
          null,
          null,
          null,
          null,
          null,
          null,
          null,
          null,
          null,
          null,
          null,
          null,
          null,
          null,
          null,
          null,
          null,
          null,
          null,
          372,
          351,
          null,
          null,
          null,
          null,
          null,
          null,
          168.9,
          244,
          357.9,
          826,
          792,
          699,
          107,
          209,
          321,
          159,
          null,
          null,
          null,
          null,
          null,
          null,
          null,
          null,
          null,
          null,
          null,
          null,
          null,
          null,
          null,
          null,
          null,
          null,
          null,
          null,
          null,
          null,
          null,
          null,
          null,
          null,
          null,
          null,
          null,
          null,
          null,
          null,
          null,
          null,
          null,
          null,
          null,
          null,
          null,
          null,
          null,
          null,
          263,
          185,
          197,
          308,
          335,
          204,
          null,
          null,
          null,
          null,
          null,
          null,
          null,
          null,
          null,
          null,
          null,
          null,
          null,
          null,
          null,
          null,
          null,
          null,
          null,
          null,
          null,
          null,
          null,
          null,
          null,
          null,
          null,
          null,
          null,
          null,
          null,
          null,
          null,
          null,
          null,
          null,
          null,
          null,
          null,
          null,
          null,
          null,
          null,
          null,
          null,
          338.3,
          338.3,
          338.3,
          332.4,
          322.5,
          322.5,
          322.5,
          318.9,
          310.4,
          310.4,
          310.4,
          398,
          367,
          312,
          271,
          183,
          162,
          null,
          null,
          null,
          null,
          345,
          285,
          550,
          510,
          503,
          null,
          null,
          null,
          null,
          null,
          null,
          null,
          null,
          null,
          null,
          null,
          null,
          null,
          null,
          null,
          null,
          null,
          null,
          null,
          null,
          null,
          null,
          null,
          null,
          null,
          null,
          null,
          null,
          null,
          null,
          504.5,
          567,
          697,
          682.6,
          420,
          425,
          535,
          640,
          425,
          420,
          560,
          600,
          340,
          425,
          540,
          650,
          335.5,
          399.2,
          550.5,
          597.3,
          null,
          null,
          null,
          null,
          null,
          null,
          null,
          null,
          null,
          null,
          null,
          null,
          457,
          461,
          428,
          378,
          null,
          250,
          500,
          733,
          733,
          640,
          null,
          385,
          486,
          570,
          null,
          200,
          290,
          345,
          160,
          200,
          null,
          null,
          null,
          null,
          null,
          null,
          null,
          null,
          null,
          null,
          null,
          null,
          null,
          null,
          142.5,
          147.4,
          155.2,
          1084,
          1011,
          725,
          815,
          422,
          856,
          277,
          430.9,
          420,
          391.4,
          323.8,
          299.2,
          279.6,
          353,
          361,
          375,
          386,
          130.1,
          318.2,
          153.8,
          null,
          null,
          null,
          null,
          null,
          null,
          null,
          null,
          null,
          null,
          null,
          null,
          null,
          null,
          null,
          null,
          null,
          null,
          null,
          null,
          null,
          295,
          470,
          380,
          180,
          160,
          null,
          362.2,
          510.3,
          600.3,
          709.6,
          718.2,
          633,
          680,
          705,
          780,
          null,
          null,
          null,
          null,
          null,
          296,
          282,
          306,
          452,
          null,
          null,
          null,
          null,
          211,
          233,
          241,
          256,
          null,
          305.4,
          357.3,
          362.6,
          359.7,
          210,
          null,
          null,
          null,
          null,
          null,
          null,
          null,
          null,
          615,
          359,
          358,
          246,
          485,
          295,
          294,
          489,
          null,
          null,
          null,
          null,
          null,
          310,
          330,
          500,
          340,
          410,
          495,
          330,
          330,
          490,
          null,
          null,
          null,
          null,
          null,
          435,
          226,
          287,
          null,
          null,
          null,
          null,
          null,
          null,
          null,
          null,
          null,
          null,
          null,
          null,
          null,
          null,
          null,
          null,
          null,
          null,
          null,
          null,
          null,
          null,
          null,
          475,
          531,
          515,
          null,
          null,
          null,
          null,
          null,
          null,
          null,
          null,
          null,
          null,
          null,
          422,
          418,
          null,
          539.6,
          335,
          418,
          623.7,
          712,
          731.9,
          751.7,
          756.1,
          766.2,
          null,
          null,
          null,
          null,
          null,
          null,
          null,
          509,
          null,
          458,
          555,
          539,
          null,
          495,
          630,
          630,
          280,
          270,
          482,
          446,
          407,
          431
         ],
         "y0": " ",
         "yaxis": "y"
        }
       ],
       "layout": {
        "boxmode": "group",
        "font": {
         "family": "Barlow Semi Condensed",
         "size": 26
        },
        "height": 800,
        "legend": {
         "tracegroupgap": 0
        },
        "margin": {
         "t": 60
        },
        "template": {
         "data": {
          "bar": [
           {
            "error_x": {
             "color": "rgb(36,36,36)"
            },
            "error_y": {
             "color": "rgb(36,36,36)"
            },
            "marker": {
             "line": {
              "color": "white",
              "width": 0.5
             }
            },
            "type": "bar"
           }
          ],
          "barpolar": [
           {
            "marker": {
             "line": {
              "color": "white",
              "width": 0.5
             }
            },
            "type": "barpolar"
           }
          ],
          "carpet": [
           {
            "aaxis": {
             "endlinecolor": "rgb(36,36,36)",
             "gridcolor": "white",
             "linecolor": "white",
             "minorgridcolor": "white",
             "startlinecolor": "rgb(36,36,36)"
            },
            "baxis": {
             "endlinecolor": "rgb(36,36,36)",
             "gridcolor": "white",
             "linecolor": "white",
             "minorgridcolor": "white",
             "startlinecolor": "rgb(36,36,36)"
            },
            "type": "carpet"
           }
          ],
          "choropleth": [
           {
            "colorbar": {
             "outlinewidth": 1,
             "tickcolor": "rgb(36,36,36)",
             "ticks": "outside"
            },
            "type": "choropleth"
           }
          ],
          "contour": [
           {
            "colorbar": {
             "outlinewidth": 1,
             "tickcolor": "rgb(36,36,36)",
             "ticks": "outside"
            },
            "colorscale": [
             [
              0,
              "#440154"
             ],
             [
              0.1111111111111111,
              "#482878"
             ],
             [
              0.2222222222222222,
              "#3e4989"
             ],
             [
              0.3333333333333333,
              "#31688e"
             ],
             [
              0.4444444444444444,
              "#26828e"
             ],
             [
              0.5555555555555556,
              "#1f9e89"
             ],
             [
              0.6666666666666666,
              "#35b779"
             ],
             [
              0.7777777777777778,
              "#6ece58"
             ],
             [
              0.8888888888888888,
              "#b5de2b"
             ],
             [
              1,
              "#fde725"
             ]
            ],
            "type": "contour"
           }
          ],
          "contourcarpet": [
           {
            "colorbar": {
             "outlinewidth": 1,
             "tickcolor": "rgb(36,36,36)",
             "ticks": "outside"
            },
            "type": "contourcarpet"
           }
          ],
          "heatmap": [
           {
            "colorbar": {
             "outlinewidth": 1,
             "tickcolor": "rgb(36,36,36)",
             "ticks": "outside"
            },
            "colorscale": [
             [
              0,
              "#440154"
             ],
             [
              0.1111111111111111,
              "#482878"
             ],
             [
              0.2222222222222222,
              "#3e4989"
             ],
             [
              0.3333333333333333,
              "#31688e"
             ],
             [
              0.4444444444444444,
              "#26828e"
             ],
             [
              0.5555555555555556,
              "#1f9e89"
             ],
             [
              0.6666666666666666,
              "#35b779"
             ],
             [
              0.7777777777777778,
              "#6ece58"
             ],
             [
              0.8888888888888888,
              "#b5de2b"
             ],
             [
              1,
              "#fde725"
             ]
            ],
            "type": "heatmap"
           }
          ],
          "heatmapgl": [
           {
            "colorbar": {
             "outlinewidth": 1,
             "tickcolor": "rgb(36,36,36)",
             "ticks": "outside"
            },
            "colorscale": [
             [
              0,
              "#440154"
             ],
             [
              0.1111111111111111,
              "#482878"
             ],
             [
              0.2222222222222222,
              "#3e4989"
             ],
             [
              0.3333333333333333,
              "#31688e"
             ],
             [
              0.4444444444444444,
              "#26828e"
             ],
             [
              0.5555555555555556,
              "#1f9e89"
             ],
             [
              0.6666666666666666,
              "#35b779"
             ],
             [
              0.7777777777777778,
              "#6ece58"
             ],
             [
              0.8888888888888888,
              "#b5de2b"
             ],
             [
              1,
              "#fde725"
             ]
            ],
            "type": "heatmapgl"
           }
          ],
          "histogram": [
           {
            "marker": {
             "line": {
              "color": "white",
              "width": 0.6
             }
            },
            "type": "histogram"
           }
          ],
          "histogram2d": [
           {
            "colorbar": {
             "outlinewidth": 1,
             "tickcolor": "rgb(36,36,36)",
             "ticks": "outside"
            },
            "colorscale": [
             [
              0,
              "#440154"
             ],
             [
              0.1111111111111111,
              "#482878"
             ],
             [
              0.2222222222222222,
              "#3e4989"
             ],
             [
              0.3333333333333333,
              "#31688e"
             ],
             [
              0.4444444444444444,
              "#26828e"
             ],
             [
              0.5555555555555556,
              "#1f9e89"
             ],
             [
              0.6666666666666666,
              "#35b779"
             ],
             [
              0.7777777777777778,
              "#6ece58"
             ],
             [
              0.8888888888888888,
              "#b5de2b"
             ],
             [
              1,
              "#fde725"
             ]
            ],
            "type": "histogram2d"
           }
          ],
          "histogram2dcontour": [
           {
            "colorbar": {
             "outlinewidth": 1,
             "tickcolor": "rgb(36,36,36)",
             "ticks": "outside"
            },
            "colorscale": [
             [
              0,
              "#440154"
             ],
             [
              0.1111111111111111,
              "#482878"
             ],
             [
              0.2222222222222222,
              "#3e4989"
             ],
             [
              0.3333333333333333,
              "#31688e"
             ],
             [
              0.4444444444444444,
              "#26828e"
             ],
             [
              0.5555555555555556,
              "#1f9e89"
             ],
             [
              0.6666666666666666,
              "#35b779"
             ],
             [
              0.7777777777777778,
              "#6ece58"
             ],
             [
              0.8888888888888888,
              "#b5de2b"
             ],
             [
              1,
              "#fde725"
             ]
            ],
            "type": "histogram2dcontour"
           }
          ],
          "mesh3d": [
           {
            "colorbar": {
             "outlinewidth": 1,
             "tickcolor": "rgb(36,36,36)",
             "ticks": "outside"
            },
            "type": "mesh3d"
           }
          ],
          "parcoords": [
           {
            "line": {
             "colorbar": {
              "outlinewidth": 1,
              "tickcolor": "rgb(36,36,36)",
              "ticks": "outside"
             }
            },
            "type": "parcoords"
           }
          ],
          "pie": [
           {
            "automargin": true,
            "type": "pie"
           }
          ],
          "scatter": [
           {
            "marker": {
             "colorbar": {
              "outlinewidth": 1,
              "tickcolor": "rgb(36,36,36)",
              "ticks": "outside"
             }
            },
            "type": "scatter"
           }
          ],
          "scatter3d": [
           {
            "line": {
             "colorbar": {
              "outlinewidth": 1,
              "tickcolor": "rgb(36,36,36)",
              "ticks": "outside"
             }
            },
            "marker": {
             "colorbar": {
              "outlinewidth": 1,
              "tickcolor": "rgb(36,36,36)",
              "ticks": "outside"
             }
            },
            "type": "scatter3d"
           }
          ],
          "scattercarpet": [
           {
            "marker": {
             "colorbar": {
              "outlinewidth": 1,
              "tickcolor": "rgb(36,36,36)",
              "ticks": "outside"
             }
            },
            "type": "scattercarpet"
           }
          ],
          "scattergeo": [
           {
            "marker": {
             "colorbar": {
              "outlinewidth": 1,
              "tickcolor": "rgb(36,36,36)",
              "ticks": "outside"
             }
            },
            "type": "scattergeo"
           }
          ],
          "scattergl": [
           {
            "marker": {
             "colorbar": {
              "outlinewidth": 1,
              "tickcolor": "rgb(36,36,36)",
              "ticks": "outside"
             }
            },
            "type": "scattergl"
           }
          ],
          "scattermapbox": [
           {
            "marker": {
             "colorbar": {
              "outlinewidth": 1,
              "tickcolor": "rgb(36,36,36)",
              "ticks": "outside"
             }
            },
            "type": "scattermapbox"
           }
          ],
          "scatterpolar": [
           {
            "marker": {
             "colorbar": {
              "outlinewidth": 1,
              "tickcolor": "rgb(36,36,36)",
              "ticks": "outside"
             }
            },
            "type": "scatterpolar"
           }
          ],
          "scatterpolargl": [
           {
            "marker": {
             "colorbar": {
              "outlinewidth": 1,
              "tickcolor": "rgb(36,36,36)",
              "ticks": "outside"
             }
            },
            "type": "scatterpolargl"
           }
          ],
          "scatterternary": [
           {
            "marker": {
             "colorbar": {
              "outlinewidth": 1,
              "tickcolor": "rgb(36,36,36)",
              "ticks": "outside"
             }
            },
            "type": "scatterternary"
           }
          ],
          "surface": [
           {
            "colorbar": {
             "outlinewidth": 1,
             "tickcolor": "rgb(36,36,36)",
             "ticks": "outside"
            },
            "colorscale": [
             [
              0,
              "#440154"
             ],
             [
              0.1111111111111111,
              "#482878"
             ],
             [
              0.2222222222222222,
              "#3e4989"
             ],
             [
              0.3333333333333333,
              "#31688e"
             ],
             [
              0.4444444444444444,
              "#26828e"
             ],
             [
              0.5555555555555556,
              "#1f9e89"
             ],
             [
              0.6666666666666666,
              "#35b779"
             ],
             [
              0.7777777777777778,
              "#6ece58"
             ],
             [
              0.8888888888888888,
              "#b5de2b"
             ],
             [
              1,
              "#fde725"
             ]
            ],
            "type": "surface"
           }
          ],
          "table": [
           {
            "cells": {
             "fill": {
              "color": "rgb(237,237,237)"
             },
             "line": {
              "color": "white"
             }
            },
            "header": {
             "fill": {
              "color": "rgb(217,217,217)"
             },
             "line": {
              "color": "white"
             }
            },
            "type": "table"
           }
          ]
         },
         "layout": {
          "annotationdefaults": {
           "arrowhead": 0,
           "arrowwidth": 1
          },
          "coloraxis": {
           "colorbar": {
            "outlinewidth": 1,
            "tickcolor": "rgb(36,36,36)",
            "ticks": "outside"
           }
          },
          "colorscale": {
           "diverging": [
            [
             0,
             "rgb(103,0,31)"
            ],
            [
             0.1,
             "rgb(178,24,43)"
            ],
            [
             0.2,
             "rgb(214,96,77)"
            ],
            [
             0.3,
             "rgb(244,165,130)"
            ],
            [
             0.4,
             "rgb(253,219,199)"
            ],
            [
             0.5,
             "rgb(247,247,247)"
            ],
            [
             0.6,
             "rgb(209,229,240)"
            ],
            [
             0.7,
             "rgb(146,197,222)"
            ],
            [
             0.8,
             "rgb(67,147,195)"
            ],
            [
             0.9,
             "rgb(33,102,172)"
            ],
            [
             1,
             "rgb(5,48,97)"
            ]
           ],
           "sequential": [
            [
             0,
             "#440154"
            ],
            [
             0.1111111111111111,
             "#482878"
            ],
            [
             0.2222222222222222,
             "#3e4989"
            ],
            [
             0.3333333333333333,
             "#31688e"
            ],
            [
             0.4444444444444444,
             "#26828e"
            ],
            [
             0.5555555555555556,
             "#1f9e89"
            ],
            [
             0.6666666666666666,
             "#35b779"
            ],
            [
             0.7777777777777778,
             "#6ece58"
            ],
            [
             0.8888888888888888,
             "#b5de2b"
            ],
            [
             1,
             "#fde725"
            ]
           ],
           "sequentialminus": [
            [
             0,
             "#440154"
            ],
            [
             0.1111111111111111,
             "#482878"
            ],
            [
             0.2222222222222222,
             "#3e4989"
            ],
            [
             0.3333333333333333,
             "#31688e"
            ],
            [
             0.4444444444444444,
             "#26828e"
            ],
            [
             0.5555555555555556,
             "#1f9e89"
            ],
            [
             0.6666666666666666,
             "#35b779"
            ],
            [
             0.7777777777777778,
             "#6ece58"
            ],
            [
             0.8888888888888888,
             "#b5de2b"
            ],
            [
             1,
             "#fde725"
            ]
           ]
          },
          "colorway": [
           "#1F77B4",
           "#FF7F0E",
           "#2CA02C",
           "#D62728",
           "#9467BD",
           "#8C564B",
           "#E377C2",
           "#7F7F7F",
           "#BCBD22",
           "#17BECF"
          ],
          "font": {
           "color": "rgb(36,36,36)"
          },
          "geo": {
           "bgcolor": "white",
           "lakecolor": "white",
           "landcolor": "white",
           "showlakes": true,
           "showland": true,
           "subunitcolor": "white"
          },
          "hoverlabel": {
           "align": "left"
          },
          "hovermode": "closest",
          "mapbox": {
           "style": "light"
          },
          "paper_bgcolor": "white",
          "plot_bgcolor": "white",
          "polar": {
           "angularaxis": {
            "gridcolor": "rgb(232,232,232)",
            "linecolor": "rgb(36,36,36)",
            "showgrid": false,
            "showline": true,
            "ticks": "outside"
           },
           "bgcolor": "white",
           "radialaxis": {
            "gridcolor": "rgb(232,232,232)",
            "linecolor": "rgb(36,36,36)",
            "showgrid": false,
            "showline": true,
            "ticks": "outside"
           }
          },
          "scene": {
           "xaxis": {
            "backgroundcolor": "white",
            "gridcolor": "rgb(232,232,232)",
            "gridwidth": 2,
            "linecolor": "rgb(36,36,36)",
            "showbackground": true,
            "showgrid": false,
            "showline": true,
            "ticks": "outside",
            "zeroline": false,
            "zerolinecolor": "rgb(36,36,36)"
           },
           "yaxis": {
            "backgroundcolor": "white",
            "gridcolor": "rgb(232,232,232)",
            "gridwidth": 2,
            "linecolor": "rgb(36,36,36)",
            "showbackground": true,
            "showgrid": false,
            "showline": true,
            "ticks": "outside",
            "zeroline": false,
            "zerolinecolor": "rgb(36,36,36)"
           },
           "zaxis": {
            "backgroundcolor": "white",
            "gridcolor": "rgb(232,232,232)",
            "gridwidth": 2,
            "linecolor": "rgb(36,36,36)",
            "showbackground": true,
            "showgrid": false,
            "showline": true,
            "ticks": "outside",
            "zeroline": false,
            "zerolinecolor": "rgb(36,36,36)"
           }
          },
          "shapedefaults": {
           "fillcolor": "black",
           "line": {
            "width": 0
           },
           "opacity": 0.3
          },
          "ternary": {
           "aaxis": {
            "gridcolor": "rgb(232,232,232)",
            "linecolor": "rgb(36,36,36)",
            "showgrid": false,
            "showline": true,
            "ticks": "outside"
           },
           "baxis": {
            "gridcolor": "rgb(232,232,232)",
            "linecolor": "rgb(36,36,36)",
            "showgrid": false,
            "showline": true,
            "ticks": "outside"
           },
           "bgcolor": "white",
           "caxis": {
            "gridcolor": "rgb(232,232,232)",
            "linecolor": "rgb(36,36,36)",
            "showgrid": false,
            "showline": true,
            "ticks": "outside"
           }
          },
          "title": {
           "x": 0.05
          },
          "xaxis": {
           "automargin": true,
           "gridcolor": "rgb(232,232,232)",
           "linecolor": "rgb(36,36,36)",
           "showgrid": false,
           "showline": true,
           "ticks": "outside",
           "title": {
            "standoff": 15
           },
           "zeroline": false,
           "zerolinecolor": "rgb(36,36,36)"
          },
          "yaxis": {
           "automargin": true,
           "gridcolor": "rgb(232,232,232)",
           "linecolor": "rgb(36,36,36)",
           "showgrid": false,
           "showline": true,
           "ticks": "outside",
           "title": {
            "standoff": 15
           },
           "zeroline": false,
           "zerolinecolor": "rgb(36,36,36)"
          }
         }
        },
        "width": 800,
        "xaxis": {
         "anchor": "y",
         "autorange": true,
         "domain": [
          0,
          1
         ],
         "range": [
          -0.5147540983606558,
          2.5
         ],
         "title": {
          "text": "PROPERTY: BCC/FCC/other"
         },
         "type": "category"
        },
        "yaxis": {
         "anchor": "x",
         "autorange": true,
         "domain": [
          0,
          1
         ],
         "range": [
          -47.977777777777796,
          1143.5777777777778
         ],
         "title": {
          "text": "PROPERTY: HV"
         },
         "type": "linear"
        }
       }
      },
      "image/png": "[encoded data removed]",
      "text/html": [
       "<div>\n",
       "        \n",
       "        \n",
       "            <div id=\"fade5225-76f7-4fd2-8153-b5b2722e8efe\" class=\"plotly-graph-div\" style=\"height:800px; width:800px;\"></div>\n",
       "            <script type=\"text/javascript\">\n",
       "                require([\"plotly\"], function(Plotly) {\n",
       "                    window.PLOTLYENV=window.PLOTLYENV || {};\n",
       "                    \n",
       "                if (document.getElementById(\"fade5225-76f7-4fd2-8153-b5b2722e8efe\")) {\n",
       "                    Plotly.newPlot(\n",
       "                        'fade5225-76f7-4fd2-8153-b5b2722e8efe',\n",
       "                        [{\"alignmentgroup\": \"True\", \"boxpoints\": \"all\", \"customdata\": [[\"10.1016/j.jmmm.2014.07.023\"], [\"10.1016/j.jmmm.2014.07.023\"], [\"10.1016/j.jmmm.2014.07.023\"], [\"10.1016/j.jmmm.2014.07.023\"], [\"10.1016/j.jmmm.2014.07.023\"], [\"10.1016/j.jmmm.2014.07.023\"], [\"10.1016/j.jmmm.2014.07.023\"], [\"10.1016/j.jmmm.2014.07.023\"], [\"10.1016/j.jmmm.2014.07.023\"], [\"10.1016/j.actamat.2014.08.026\"], [\"10.1016/j.actamat.2014.08.026\"], [\"10.1016/j.actamat.2014.08.026\"], [\"10.1016/j.actamat.2014.08.026\"], [\"10.1016/j.actamat.2014.08.026\"], [\"10.1016/j.actamat.2014.08.026\"], [\"10.1016/j.actamat.2014.08.026\"], [\"10.1016/j.intermet.2015.01.004\"], [\"10.1016/j.intermet.2015.01.004\"], [\"10.1016/j.intermet.2015.01.004\"], [\"10.1016/j.intermet.2015.01.004\"], [\"10.1016/j.intermet.2015.01.004\"], [\"10.1016/j.intermet.2015.01.004\"], [\"10.1016/j.jallcom.2009.08.090\"], [\"10.1016/j.jallcom.2009.08.090\"], [\"10.1016/j.jallcom.2009.08.090\"], [\"10.1016/j.jallcom.2009.08.090\"], [\"10.1016/j.jallcom.2009.08.090\"], [\"10.1016/j.jallcom.2009.08.090\"], [\"10.1016/j.jallcom.2009.08.090\"], [\"10.1016/j.jallcom.2009.08.090\"], [\"10.1016/j.jallcom.2009.08.090\"], [\"10.1016/j.jallcom.2009.08.090\"], [\"10.1016/j.jallcom.2009.08.090\"], [\"10.1016/j.jallcom.2009.08.090\"], [\"10.1016/j.jallcom.2009.08.090\"], [\"10.1016/j.jallcom.2009.08.090\"], [\"10.1016/j.jallcom.2009.08.090\"], [\"10.1016/j.jallcom.2009.08.090\"], [\"10.1016/j.jallcom.2009.08.090\"], [\"10.1016/j.jallcom.2009.08.090\"], [\"10.1016/j.jallcom.2009.08.090\"], [\"10.1016/j.jallcom.2009.08.090\"], [\"10.1007/s11837-013-0753-6\"], [\"10.1007/s11837-013-0753-6\"], [\"10.1007/s11837-013-0753-6\"], [\"10.1007/s11837-013-0753-6\"], [\"10.1007/s11837-013-0753-6\"], [\"10.1016/j.msea.2008.12.053\"], [\"10.1016/j.msea.2008.12.053\"], [\"10.1016/j.msea.2008.12.053\"], [\"10.1016/j.msea.2008.12.053\"], [\"10.1016/j.msea.2008.12.053\"], [\"10.1016/j.actamat.2011.06.041\"], [\"10.1016/j.actamat.2011.06.041\"], [\"10.1016/j.actamat.2011.06.041\"], [\"10.1016/j.actamat.2011.06.041\"], [\"10.1016/j.matdes.2013.04.061\"], [\"10.1016/C2013-0-14235-3\"], [\"10.1016/j.jallcom.2008.07.124\"], [\"10.1016/j.jallcom.2008.07.124\"], [\"10.1016/j.jallcom.2008.07.124\"], [\"10.1016/j.jallcom.2008.07.124\"], [\"10.1016/j.jallcom.2008.07.124\"], [\"10.1016/j.jallcom.2008.07.124\"], [\"10.1016/j.jallcom.2008.07.124\"], [\"10.1016/j.jallcom.2008.07.124\"], [\"10.1016/j.jallcom.2008.07.124\"], [\"10.1016/j.msea.2008.01.064\"], [\"10.1016/j.jallcom.2010.10.047\"], [\"10.1016/j.jallcom.2010.10.047\"], [\"10.1016/j.jallcom.2010.10.047\"], [\"10.1016/j.jallcom.2010.10.047\"], [\"10.1016/j.jallcom.2010.10.047\"], [\"10.1016/j.jallcom.2010.10.047\"], [\"10.1016/j.jallcom.2010.10.047\"], [\"10.1016/j.jallcom.2010.10.047\"], [\"10.1016/j.msea.2010.07.028\"], [\"10.1016/j.msea.2010.07.028\"], [\"10.1016/j.msea.2010.07.028\"], [\"10.1016/j.msea.2010.07.028\"], [\"10.1016/j.msea.2010.07.028\"], [\"10.1016/j.msea.2010.07.028\"], [\"10.1016/j.msea.2011.10.110\"], [\"10.1016/j.msea.2011.10.110\"], [\"10.1016/j.msea.2011.10.110\"], [\"10.1016/j.msea.2011.10.110\"], [\"10.1016/j.msea.2011.10.110\"], [\"10.1002/adem.200900171\"], [\"10.1002/adem.200900171\"], [\"10.1002/adem.200900171\"], [\"10.1002/adem.200900171\"], [\"10.1002/adem.200900171\"], [\"10.1016/j.wear.2009.10.013\"], [\"10.1016/j.wear.2009.10.013\"], [\"10.1016/j.wear.2009.10.013\"], [\"10.1016/j.wear.2009.10.013\"], [\"10.1016/j.intermet.2012.09.008\"], [\"10.1016/j.intermet.2012.09.008\"], [\"10.1016/j.intermet.2012.09.008\"], [\"10.1016/j.intermet.2012.09.008\"], [\"10.1016/j.intermet.2012.09.008\"], [\"10.1016/j.msea.2010.07.049\"], [\"10.1016/j.msea.2010.07.049\"], [\"10.1016/j.msea.2010.07.049\"], [\"10.1016/j.msea.2010.07.049\"], [\"10.1016/j.msea.2010.07.049\"], [\"10.1016/j.msea.2010.07.049\"], [\"10.1016/j.jallcom.2008.11.059\"], [\"10.1016/j.jallcom.2008.11.059\"], [\"10.1016/j.jallcom.2008.11.059\"], [\"10.1016/j.jallcom.2008.11.059\"], [\"10.1016/j.jallcom.2008.11.059\"], [\"10.1063/1.2734517\"], [\"10.1063/1.2734517\"], [\"10.1063/1.2734517\"], [\"10.1002/adem.200300567\"], [\"10.1002/adem.200300567\"], [\"10.1002/adem.200300567\"], [\"10.1002/adem.200300567\"], [\"10.1002/adem.200300567\"], [\"10.1002/adem.200300567\"], [\"10.1002/adem.200300567\"], [\"10.1002/adem.200300567\"], [\"10.1002/adem.200300567\"], [\"10.1016/j.actamat.2013.09.037\"], [\"10.1016/j.actamat.2013.09.037\"], [\"10.1016/j.actamat.2013.09.037\"], [\"10.1016/j.actamat.2013.09.037\"], [\"10.1016/j.actamat.2013.09.037\"], [\"10.1016/j.actamat.2013.09.037\"], [\"10.1016/j.actamat.2013.09.037\"], [\"10.1016/j.actamat.2013.09.037\"], [\"10.1016/j.actamat.2013.09.037\"], [\"10.1016/j.actamat.2013.09.037\"], [\"10.1016/j.actamat.2013.09.037\"], [\"10.1016/j.actamat.2013.09.037\"], [\"10.1016/j.actamat.2013.09.037\"], [\"10.1016/j.actamat.2013.09.037\"], [\"10.1016/j.jallcom.2014.12.157\"], [\"10.1016/j.jallcom.2014.12.157\"], [\"10.1016/j.jallcom.2014.12.157\"], [\"10.1016/j.jallcom.2014.12.157\"], [\"10.1016/j.jallcom.2014.12.157\"], [\"10.1016/j.jallcom.2014.12.157\"], [\"10.1016/j.jallcom.2014.12.157\"], [\"10.1016/j.jallcom.2014.12.157\"], [\"10.1016/j.jallcom.2014.12.157\"], [\"10.1016/j.jallcom.2014.12.157\"], [\"10.1016/j.msea.2010.05.052\"], [\"10.1016/j.msea.2010.05.052\"], [\"10.1016/j.jallcom.2013.03.253\"], [\"10.1016/j.jallcom.2013.03.253\"], [\"10.1016/j.jallcom.2013.03.253\"], [\"10.1016/j.jallcom.2013.03.253\"], [\"10.1016/j.jallcom.2013.03.253\"], [\"10.3166/acsm.31.633-648\"], [\"10.3166/acsm.31.633-648\"], [\"10.3166/acsm.31.633-648\"], [\"10.3166/acsm.31.633-648\"], [\"10.3166/acsm.31.633-648\"], [\"10.3166/acsm.31.633-648\"], [\"10.3166/acsm.31.633-648\"], [\"10.3166/acsm.31.633-648\"], [\"10.3166/acsm.31.633-648\"], [\"10.3166/acsm.31.633-648\"], [\"10.3166/acsm.31.633-648\"], [\"10.3166/acsm.31.633-648\"], [\"10.3166/acsm.31.633-648\"], [\"10.1016/j.intermet.2010.03.030\"], [\"10.1016/j.intermet.2006.08.005\"], [\"10.1016/j.intermet.2006.08.005\"], [\"10.1016/j.intermet.2006.08.005\"], [\"10.1149/1.2744133\"], [\"10.1149/1.2744133\"], [\"10.1149/1.2744133\"], [\"10.1149/1.2744133\"], [\"10.2320/matertrans.47.1395\"], [\"10.2320/matertrans.47.1395\"], [\"10.2320/matertrans.47.1395\"], [\"10.2320/matertrans.47.1395\"], [\"10.2320/matertrans.47.1395\"], [\"10.2320/matertrans.47.1395\"], [\"10.2320/matertrans.47.1395\"], [\"10.2320/matertrans.47.1395\"], [\"10.2320/matertrans.47.1395\"], [\"10.2320/matertrans.47.1395\"], [\"10.2320/matertrans.47.1395\"], [\"10.1007/s11661-006-0081-3\"], [\"10.1007/s11661-006-0081-3\"], [\"10.1007/s11661-006-0081-3\"], [\"10.1007/s11661-006-0081-3\"], [\"10.1007/s11661-006-0081-3\"], [\"10.1007/s11661-006-0081-3\"], [\"10.1007/s11661-006-0081-3\"], [\"10.1007/s11661-006-0081-3\"], [\"10.1007/s11661-006-0081-3\"], [\"10.1007/s11661-006-0081-3\"], [\"10.1007/s11661-006-0081-3\"], [\"10.1016/j.msea.2012.07.003\"], [\"10.1016/j.msea.2012.07.003\"], [\"10.1016/j.msea.2012.07.003\"], [\"10.1016/j.msea.2012.07.003\"], [\"10.1016/j.msea.2012.07.003\"], [\"10.1016/j.msea.2012.07.003\"], [\"10.1016/j.msea.2008.08.025\"], [\"10.1016/j.msea.2008.08.025\"], [\"10.1016/j.msea.2008.08.025\"], [\"10.1016/j.msea.2008.08.025\"], [\"10.1016/j.matdes.2009.09.016\"], [\"10.1016/j.matdes.2009.09.016\"], [\"10.1016/j.matdes.2009.09.016\"], [\"10.1016/j.matdes.2009.09.016\"], [\"10.1016/j.msea.2012.03.080\"], [\"10.1016/j.msea.2012.03.080\"], [\"10.1016/j.msea.2012.03.080\"], [\"10.1016/j.msea.2012.03.080\"], [\"10.1016/j.msea.2012.03.080\"], [\"10.1016/j.msea.2012.03.080\"], [\"10.1016/j.msea.2012.03.080\"], [\"10.1016/j.msea.2012.03.080\"], [\"10.1016/j.matdes.2012.08.019\"], [\"10.1016/j.matdes.2012.08.019\"], [\"10.1016/j.matdes.2012.08.019\"], [\"10.1016/j.matdes.2012.08.019\"], [\"10.1016/j.matdes.2012.08.019\"], [\"10.1016/j.matdes.2012.08.019\"], [\"10.1016/j.msea.2011.11.063\"], [\"10.1016/j.msea.2011.11.063\"], [\"10.1016/j.msea.2011.11.063\"], [\"10.1016/j.msea.2011.11.063\"], [\"10.1016/j.msea.2011.11.063\"], [\"10.1016/j.msea.2011.11.063\"], [\"10.1063/1.3587228\"], [\"10.1063/1.3587228\"], [\"10.1063/1.3587228\"], [\"10.1063/1.3587228\"], [\"10.1063/1.3587228\"], [\"10.1063/1.3587228\"], [\"10.1016/j.jallcom.2011.02.108\"], [\"10.1016/j.apsusc.2015.07.207\"], [\"10.1016/j.apsusc.2015.07.207\"], [\"10.1016/j.apsusc.2015.07.207\"], [\"10.1016/j.apsusc.2015.07.207\"], [\"10.1007/s11837-015-1402-z\"], [\"10.1007/s11837-015-1402-z\"], [\"10.1007/s11837-015-1402-z\"], [\"10.1007/s11837-015-1402-z\"], [\"10.1007/s11837-015-1402-z\"], [\"10.1007/s11837-015-1402-z\"], [\"10.1080/21663831.2014.985855\"], [\"10.1007/s11837-014-1066-0\"], [\"10.1007/s11837-014-1066-0\"], [\"10.1007/s11837-014-1066-0\"], [\"10.1007/s11837-014-1066-0\"], [\"10.1007/s11837-014-1066-0\"], [\"10.1007/s11837-014-1066-0\"], [\"10.1007/s11837-014-1066-0\"], [\"10.1007/s11837-014-1066-0\"], [\"10.1007/s11837-014-1066-0\"], [\"10.1007/s11837-014-1066-0\"], [\"10.1007/s11837-014-1066-0\"], [\"10.1007/s11837-014-1066-0\"], [\"10.1007/s11837-014-1066-0\"], [\"10.1007/s11837-014-1066-0\"], [\"10.1007/s11837-014-1066-0\"], [\"10.1007/s11837-014-1066-0\"], [\"10.1007/s11837-014-1066-0\"], [\"10.1007/s11837-014-1066-0\"], [\"10.1007/s11837-014-1066-0\"], [\"10.1016/j.jallcom.2014.11.064\"], [\"10.1016/j.jallcom.2014.11.064\"], [\"10.1016/j.jallcom.2014.11.064\"], [\"10.1016/j.jallcom.2014.11.064\"], [\"10.1016/j.jallcom.2014.11.064\"], [\"10.3390/e16020870\"], [\"10.3390/e16020870\"], [\"10.3390/e16020870\"], [\"10.3390/e16020870\"], [\"10.3390/e16020870\"], [\"10.1016/j.proeng.2012.03.043\"], [\"10.1016/j.proeng.2012.03.043\"], [\"10.1016/j.proeng.2012.03.043\"], [\"10.1016/j.proeng.2012.03.043\"], [\"10.1016/j.matlet.2014.11.162\"], [\"10.1016/j.matlet.2014.11.162\"], [\"10.1016/j.matlet.2014.11.162\"], [\"10.1016/j.matlet.2014.11.162\"], [\"10.1016/j.msea.2011.09.033\"], [\"10.1016/j.msea.2011.09.033\"], [\"10.1016/j.msea.2011.09.033\"], [\"10.1016/j.msea.2011.09.033\"], [\"10.1016/j.msea.2012.12.018\"], [\"10.1016/j.msea.2012.12.018\"], [\"10.1016/j.msea.2012.12.018\"], [\"10.1016/j.msea.2012.12.018\"], [\"10.1016/j.msea.2012.12.018\"], [\"10.1016/j.msea.2012.12.018\"], [\"10.1016/j.msea.2012.12.018\"], [\"10.1016/j.msea.2012.12.018\"], [\"10.1016/j.msea.2012.12.018\"], [\"10.1016/j.msea.2012.12.018\"], [\"10.1016/j.msea.2012.12.018\"], [\"10.1016/j.msea.2012.12.018\"], [\"10.1016/j.msea.2012.12.018\"], [\"10.1016/j.msea.2012.12.018\"], [\"10.1016/j.msea.2012.12.018\"], [\"10.1016/j.msea.2012.12.018\"], [\"10.1016/j.intermet.2015.09.011\"], [\"10.1016/j.intermet.2015.09.011\"], [\"10.1016/j.intermet.2015.09.011\"], [\"10.1016/j.matlet.2016.03.133\"], [\"10.1016/j.matlet.2016.03.133\"], [\"10.1016/j.matlet.2016.03.133\"], [\"10.1016/j.matlet.2016.03.133\"], [\"10.1016/j.matlet.2016.03.133\"], [\"10.1016/j.intermet.2015.03.013\"], [\"10.1016/j.intermet.2015.03.013\"], [\"10.1016/j.intermet.2015.03.013\"], [\"10.1016/j.intermet.2015.03.013\"], [\"10.1016/j.intermet.2015.03.013\"], [\"10.1016/j.intermet.2015.03.013\"], [\"10.1016/j.intermet.2015.03.013\"], [\"10.1016/j.intermet.2015.03.013\"], [\"10.1016/j.matdes.2015.05.019\"], [\"10.1016/j.matdes.2015.05.019\"], [\"10.1016/j.matdes.2015.05.019\"], [\"10.1016/j.matdes.2015.05.019\"], [\"10.1016/j.matdes.2015.05.019\"], [\"10.1016/j.matlet.2016.03.092\"], [\"10.1016/j.matlet.2016.03.092\"], [\"10.1016/j.matlet.2016.03.092\"], [\"10.1063/1.4966659\"], [\"10.1007/s10853-012-6260-2\"], [\"10.1007/s10853-012-6260-2\"], [\"10.1007/s10853-012-6260-2\"], [\"10.1007/s10853-012-6260-2\"], [\"10.1007/s10853-012-6260-2\"], [\"10.1007/s10853-012-6260-2\"], [\"10.1016/j.matlet.2014.05.134\"], [\"10.3390/e18050189\"], [\"10.1016/j.intermet.2011.01.004\"], [\"10.1016/j.intermet.2011.01.004\"], [\"10.1016/j.intermet.2011.01.004\"], [\"10.1016/j.intermet.2011.01.004\"], [\"10.1016/j.intermet.2011.01.004\"], [\"10.1016/j.intermet.2011.01.004\"], [\"10.1016/j.intermet.2011.01.004\"], [\"10.1016/j.intermet.2011.01.004\"], [\"10.1016/j.intermet.2011.01.004\"], [\"10.1016/j.intermet.2011.01.004\"], [\"10.1016/j.intermet.2011.01.004\"], [\"10.1016/j.intermet.2011.01.004\"], [\"10.1016/j.intermet.2011.01.004\"], [\"10.1016/j.intermet.2011.01.004\"], [\"10.1016/j.matdes.2015.06.072\"], [\"10.1016/j.matdes.2015.06.072\"], [\"10.1016/j.matdes.2015.06.072\"], [\"10.1016/j.matdes.2015.06.072\"], [\"10.1016/j.matdes.2015.06.072\"], [\"10.1016/j.matdes.2015.06.072\"], [\"10.1016/j.matdes.2015.06.072\"], [\"10.1016/j.matdes.2015.06.072\"], [\"10.1016/j.matdes.2015.06.072\"], [\"10.1016/j.matdes.2015.06.072\"], [\"10.1016/j.matdes.2015.06.072\"], [\"10.1016/j.matdes.2015.06.072\"], [\"10.1016/j.matdes.2015.06.072\"], [\"10.1016/j.matdes.2015.06.072\"], [\"10.1016/j.matdes.2015.06.072\"], [\"10.1016/j.matdes.2015.06.072\"], [\"10.1016/j.matdes.2015.06.072\"], [\"10.1007/s11837-012-0366-5\"], [\"10.1007/s11837-012-0366-5\"], [\"10.1007/s11837-012-0366-5\"], [\"10.1007/s11837-012-0366-5\"], [\"10.1007/s11837-012-0366-5\"], [\"10.1007/s11837-012-0366-5\"], [\"10.1007/s11837-012-0366-5\"], [\"10.1007/s11837-012-0366-5\"], [\"10.1016/j.jallcom.2015.07.185\"], [\"10.1016/j.jallcom.2015.07.185\"], [\"10.1016/j.jallcom.2015.07.185\"], [\"10.1016/j.jallcom.2015.07.185\"], [\"10.1016/j.jallcom.2015.07.185\"], [\"10.1016/j.jallcom.2015.07.185\"], [\"10.1016/j.jallcom.2015.07.185\"], [\"10.1016/j.jallcom.2015.07.185\"], [\"10.1016/j.jallcom.2015.07.185\"], [\"10.1016/j.jallcom.2015.07.185\"], [\"10.1016/j.jallcom.2015.07.185\"], [\"10.1016/j.msea.2006.11.049\"], [\"10.1016/j.msea.2006.11.049\"], [\"10.1016/j.msea.2006.11.049\"], [\"10.1016/j.msea.2006.11.049\"], [\"10.1016/j.jallcom.2015.07.285\"], [\"10.1016/j.jallcom.2015.07.285\"], [\"10.1016/j.jallcom.2015.07.285\"], [\"10.1016/j.jallcom.2015.07.285\"], [\"10.1016/j.jallcom.2015.07.285\"], [\"10.1016/j.jallcom.2015.07.285\"], [\"10.1007/s11661-005-0218-9\"], [\"10.1007/s11661-005-0218-9\"], [\"10.1007/s11661-005-0218-9\"], [\"10.1007/s11661-005-0218-9\"], [\"10.1007/s11661-005-0218-9\"], [\"10.1007/s11661-005-0218-9\"], [\"10.1007/s11661-005-0218-9\"], [\"10.1007/s11661-005-0218-9\"], [\"10.1007/s11661-005-0218-9\"], [\"10.1007/s11661-005-0218-9\"], [\"10.1007/s11661-005-0218-9\"], [\"10.1007/s11661-005-0218-9\"], [\"10.1007/s11661-005-0218-9\"], [\"10.1007/s11661-005-0218-9\"], [\"10.1007/s11661-005-0218-9\"], [\"10.1007/s11661-005-0218-9\"], [\"10.1007/s11661-005-0218-9\"], [\"10.1007/s11661-005-0218-9\"], [\"10.1007/s11661-005-0218-9\"], [\"10.1007/s11661-005-0218-9\"], [\"10.1007/s11661-005-0218-9\"], [\"10.1016/j.jallcom.2015.11.050\"], [\"10.1016/j.jallcom.2015.11.050\"], [\"10.1016/j.jallcom.2015.11.050\"], [\"10.1016/j.jallcom.2015.11.050\"], [\"10.1016/j.jallcom.2015.11.050\"], [\"10.1016/j.jallcom.2015.11.050\"], [\"10.1007/s11661-017-4386-1\"], [\"10.1007/s11661-017-4386-1\"], [\"10.1007/s11661-017-4386-1\"], [\"10.1007/s11661-017-4386-1\"], [\"10.1007/s11661-017-4386-1\"], [\"10.1007/s11661-017-4386-1\"], [\"10.1007/s11661-017-4386-1\"], [\"10.1007/s11661-017-4386-1\"], [\"10.1007/s11661-017-4386-1\"], [\"10.1007/s11661-017-4386-1\"], [\"10.1007/s11661-017-4386-1\"], [\"10.1007/s11661-017-4386-1\"], [\"10.1007/s11661-017-4386-1\"], [\"10.1016/j.msea.2017.08.019\"], [\"10.1016/j.msea.2017.08.019\"], [\"10.1016/j.msea.2017.08.019\"], [\"10.1016/j.msea.2017.08.019\"], [\"10.1016/j.msea.2017.08.019\"], [\"10.1016/j.msea.2017.08.019\"], [\"10.1016/j.msea.2017.08.019\"], [\"10.1016/j.msea.2017.08.019\"], [\"10.1016/j.msea.2017.08.019\"], [\"10.1016/j.msea.2017.08.019\"], [\"10.1016/j.msea.2017.08.019\"], [\"10.1016/j.msea.2017.08.019\"], [\"10.1016/j.msea.2017.08.019\"], [\"10.1016/j.msea.2017.08.019\"], [\"10.1016/j.msea.2017.08.019\"], [\"10.1016/j.msea.2017.08.019\"], [\"10.1016/j.msea.2017.08.019\"], [\"10.1016/j.msea.2017.08.019\"], [\"10.1007/s11665-017-2799-z\"], [\"10.1007/s11665-017-2799-z\"], [\"10.1007/s11665-017-2799-z\"], [\"10.1007/s11665-017-2799-z\"], [\"10.1007/s11665-017-2799-z\"], [\"10.1016/j.ijrmhm.2014.07.009\"], [\"10.1016/j.ijrmhm.2014.07.009\"], [\"10.1016/j.ijrmhm.2014.07.009\"], [\"10.1016/j.ijrmhm.2014.07.009\"], [\"10.1016/j.ijrmhm.2014.07.009\"], [\"10.1016/j.ijrmhm.2014.07.009\"], [\"10.1016/j.ijrmhm.2014.07.009\"], [\"10.1016/j.ijrmhm.2014.07.009\"], [\"10.1016/j.ijrmhm.2014.07.009\"], [\"10.1016/j.ijrmhm.2014.07.009\"], [\"10.1016/j.matchemphys.2017.06.054\"], [\"10.1016/j.matchemphys.2017.06.054\"], [\"10.1016/j.matchemphys.2017.06.054\"], [\"10.1016/j.matchemphys.2017.06.054\"], [\"10.1016/j.matchemphys.2017.06.054\"], [\"10.1016/j.matchemphys.2017.06.054\"], [\"10.1080/14786435.2015.1028506\"], [\"10.1080/14786435.2015.1028506\"], [\"10.1080/14786435.2015.1028506\"], [\"10.1080/14786435.2015.1028506\"], [\"10.1080/14786435.2015.1028506\"], [\"10.1016/j.jallcom.2015.11.091\"], [\"10.1016/j.jallcom.2015.11.091\"], [\"10.1016/j.jallcom.2015.11.091\"], [\"10.1016/j.jallcom.2015.11.091\"], [\"10.1016/j.jallcom.2015.11.091\"], [\"10.1016/j.jallcom.2015.11.091\"], [\"10.1016/j.msea.2017.10.073\"], [\"10.1016/j.msea.2017.10.073\"], [\"10.1016/j.msea.2017.10.073\"], [\"10.1016/j.msea.2017.10.073\"], [\"10.1016/j.msea.2017.10.073\"], [\"10.1016/j.msea.2017.10.073\"], [\"10.1016/j.msea.2017.10.073\"], [\"10.1016/j.msea.2017.10.073\"], [\"10.1016/j.msea.2017.10.073\"], [\"10.1016/j.msea.2017.10.073\"], [\"10.1016/j.msea.2017.10.073\"], [\"10.1016/j.msea.2017.10.073\"], [\"10.1016/j.msea.2017.10.073\"], [\"10.1016/j.msea.2017.10.073\"], [\"10.1016/j.msea.2017.10.073\"], [\"10.1016/j.msea.2017.10.073\"], [\"10.1016/j.msea.2017.10.073\"], [\"10.1016/j.msea.2017.10.073\"], [\"10.1016/j.msea.2017.10.073\"], [\"10.1016/j.msea.2017.10.073\"], [\"10.1016/j.msea.2017.10.073\"], [\"10.1016/j.jallcom.2016.10.014\"], [\"10.1016/j.jallcom.2016.10.014\"], [\"10.1016/j.jallcom.2016.10.014\"], [\"10.1016/j.jallcom.2016.10.014\"], [\"10.1016/j.jallcom.2016.10.014\"], [\"10.1016/j.jallcom.2016.10.014\"], [\"10.1016/j.jallcom.2016.10.014\"], [\"10.1016/j.jallcom.2016.10.014\"], [\"10.1016/j.jallcom.2016.10.014\"], [\"10.1016/j.jallcom.2016.10.014\"], [\"10.1016/j.jallcom.2016.10.014\"], [\"10.1016/j.jallcom.2016.10.014\"], [\"10.1080/21663831.2016.1221861\"], [\"10.1016/j.matdes.2017.11.033\"], [\"10.1016/j.matdes.2017.11.033\"], [\"10.1016/j.matdes.2017.11.033\"], [\"10.1016/j.matdes.2017.11.033\"], [\"10.1016/j.matdes.2017.11.033\"], [\"10.1016/j.matdes.2017.11.033\"], [\"10.1016/j.matdes.2017.11.033\"], [\"10.1016/j.matdes.2017.11.033\"], [\"10.1016/j.matdes.2017.11.033\"], [\"10.4028/www.scientific.net/MSF.849.76\"], [\"10.4028/www.scientific.net/MSF.849.76\"], [\"10.4028/www.scientific.net/MSF.849.76\"], [\"10.4028/www.scientific.net/MSF.849.76\"], [\"10.4028/www.scientific.net/MSF.849.76\"], [\"10.4028/www.scientific.net/MSF.849.76\"], [\"10.4028/www.scientific.net/MSF.849.76\"], [\"10.1016/j.actamat.2017.09.035\"], [\"10.1016/j.actamat.2017.09.035\"], [\"10.1016/j.actamat.2017.09.035\"], [\"10.1016/j.actamat.2017.09.035\"], [\"10.1016/j.jallcom.2015.07.209\"], [\"10.1016/j.jallcom.2015.07.209\"], [\"10.1016/j.jallcom.2015.07.209\"], [\"10.1016/j.matlet.2016.08.060\"], [\"10.1016/j.matlet.2016.08.060\"], [\"10.1016/j.matlet.2016.08.060\"], [\"10.1016/j.actamat.2017.09.062\"], [\"10.1016/j.msea.2015.08.024\"], [\"10.1016/j.matchar.2015.11.018\"], [\"10.1016/j.msea.2015.12.017\"], [\"10.1016/j.msea.2015.12.017\"], [\"10.1016/j.msea.2015.12.017\"], [\"10.1016/j.msea.2015.12.017\"], [\"10.4028/www.scientific.net/MSF.898.638\"], [\"10.4028/www.scientific.net/MSF.898.638\"], [\"10.4028/www.scientific.net/MSF.898.638\"], [\"10.4028/www.scientific.net/MSF.898.638\"], [\"10.1016/j.actamat.2016.01.018\"], [\"10.1016/j.actamat.2016.01.018\"], [\"10.1016/j.actamat.2016.01.018\"], [\"10.1016/j.actamat.2016.01.018\"], [\"10.1016/j.actamat.2016.01.018\"], [\"10.1002/adma.201701678\"], [\"10.1002/adma.201701678\"], [\"10.1002/adma.201701678\"], [\"10.1002/adma.201701678\"], [\"10.1016/j.msea.2017.12.004\"], [\"10.1016/j.msea.2017.12.004\"], [\"10.1016/j.msea.2017.12.004\"], [\"10.1016/j.msea.2017.12.004\"], [\"10.1016/j.msea.2017.12.004\"], [\"10.1016/j.jallcom.2016.11.188\"], [\"10.1016/j.intermet.2017.01.007\"], [\"10.1016/j.intermet.2017.01.007\"], [\"10.1016/j.intermet.2017.01.007\"], [\"10.1016/j.intermet.2017.01.007\"], [\"10.1016/j.intermet.2017.01.007\"], [\"10.1016/j.intermet.2017.01.007\"], [\"10.1016/j.intermet.2017.01.007\"], [\"10.1016/j.intermet.2017.01.007\"], [\"10.1016/j.intermet.2017.01.007\"], [\"10.1016/j.intermet.2017.01.007\"], [\"10.1016/j.msec.2016.12.057\"], [\"10.1016/j.scriptamat.2016.10.028\"], [\"10.1016/j.scriptamat.2016.10.028\"], [\"10.1016/j.msea.2017.12.021\"], [\"10.1016/j.msea.2016.07.102\"], [\"10.1016/j.msea.2016.07.102\"], [\"10.1016/j.msea.2016.07.102\"], [\"10.1016/j.matlet.2016.11.030\"], [\"10.1016/j.matlet.2016.11.030\"], [\"10.1016/j.matlet.2016.11.030\"], [\"10.1016/j.matlet.2016.11.030\"], [\"10.1016/j.matlet.2016.11.030\"], [\"10.1016/j.jallcom.2015.08.224\"], [\"10.1016/j.jallcom.2015.08.224\"], [\"10.1016/j.jallcom.2015.08.224\"], [\"10.1016/j.jallcom.2015.08.224\"], [\"10.1016/j.jallcom.2015.08.224\"], [\"10.1016/j.jallcom.2015.08.224\"], [\"10.1016/j.jallcom.2015.08.224\"], [\"10.1016/j.jallcom.2015.08.224\"], [\"10.1016/j.jallcom.2015.08.224\"], [\"10.1016/j.jallcom.2015.08.224\"], [\"10.1016/j.jallcom.2015.08.224\"], [\"10.1016/j.jallcom.2015.08.224\"], [\"10.1016/j.jallcom.2015.08.224\"], [\"10.1016/j.jallcom.2015.08.224\"], [\"10.1016/j.jallcom.2015.08.224\"], [\"10.1016/j.jallcom.2015.08.224\"], [\"10.1016/j.scriptamat.2018.08.048\"], [\"10.1016/j.jallcom.2018.08.093\"], [\"10.1016/j.jallcom.2018.08.093\"], [\"10.1016/j.jallcom.2018.08.093\"], [\"10.1016/j.jallcom.2018.08.093\"], [\"10.1016/j.jallcom.2018.08.093\"], [\"10.1016/j.jallcom.2018.08.093\"], [\"10.1016/j.jallcom.2018.08.093\"], [\"10.1016/j.jallcom.2018.08.093\"], [\"10.1016/j.jallcom.2018.08.093\"], [\"10.1016/j.jallcom.2018.08.093\"], [\"10.1016/j.jallcom.2018.08.093\"], [\"10.1016/j.jallcom.2018.08.093\"], [\"10.1016/j.jallcom.2018.08.093\"], [\"10.1016/j.jallcom.2018.08.093\"], [\"10.1016/j.jallcom.2018.08.093\"], [\"10.1016/j.actamat.2013.06.018\"], [\"10.1016/j.actamat.2017.03.069\"], [\"10.1016/j.actamat.2017.03.069\"], [\"10.1016/j.actamat.2017.03.069\"], [\"10.1016/j.actamat.2017.03.069\"], [\"10.1038/s41598-017-16509-9\"], [\"10.1038/s41598-017-16509-9\"], [\"10.1016/j.matlet.2017.04.072\"], [\"10.1016/j.matlet.2017.04.072\"], [\"10.1016/j.matlet.2017.04.072\"], [\"10.1016/j.matlet.2017.04.072\"], [\"10.1016/j.matlet.2017.04.072\"], [\"10.1016/j.scriptamat.2016.06.019\"], [\"10.1016/j.scriptamat.2016.06.019\"], [\"10.1016/j.scriptamat.2016.06.019\"], [\"10.1016/j.matdes.2017.02.072\"], [\"10.1016/j.matdes.2017.02.072\"], [\"10.1016/j.matdes.2017.02.072\"], [\"10.1016/j.matdes.2017.02.072\"], [\"10.1016/j.matdes.2017.02.072\"], [\"10.1016/j.actamat.2017.03.066\"], [\"10.1016/j.jallcom.2008.12.088\"], [\"10.1016/j.jallcom.2008.12.088\"], [\"10.1016/j.jallcom.2008.12.088\"], [\"10.1016/j.jallcom.2013.11.084\"], [\"10.1016/j.jallcom.2013.11.084\"], [\"10.1016/j.matdes.2016.05.079\"], [\"10.1016/j.msea.2015.08.078\"], [\"10.1016/j.jallcom.2016.05.034\"], [\"10.1016/j.jallcom.2016.05.034\"], [\"10.1016/j.jallcom.2016.05.034\"], [\"10.1016/j.jallcom.2016.05.034\"], [\"10.1016/j.jallcom.2016.05.034\"], [\"10.1016/j.jallcom.2017.03.307\"], [\"10.1016/j.matlet.2016.01.096\"], [\"10.1016/j.actamat.2016.11.016\"], [\"10.1016/j.actamat.2016.11.016\"], [\"10.1016/j.actamat.2016.11.016\"], [\"10.1016/j.actamat.2016.11.016\"], [\"10.1016/j.actamat.2016.11.016\"], [\"10.1016/j.actamat.2016.11.016\"], [\"10.1016/j.actamat.2016.11.016\"], [\"10.1016/j.actamat.2016.11.016\"], [\"10.1016/j.actamat.2016.11.016\"], [\"10.1016/j.scriptamat.2016.04.014\"], [\"10.1016/j.scriptamat.2016.04.014\"], [\"10.1016/j.scriptamat.2016.04.014\"], [\"10.1016/j.scriptamat.2016.04.014\"], [\"10.1016/j.scriptamat.2017.05.019\"], [\"10.1016/j.scriptamat.2017.05.019\"], [\"10.1016/j.scriptamat.2017.05.019\"], [\"10.1016/j.scriptamat.2017.05.019\"], [\"10.1016/j.scriptamat.2017.05.019\"], [\"10.1016/j.scriptamat.2017.05.019\"], [\"10.1016/j.scriptamat.2017.05.019\"], [\"10.1016/j.actamat.2016.06.063\"], [\"10.1016/j.actamat.2016.06.063\"], [\"10.1016/j.actamat.2016.06.063\"], [\"10.1016/j.actamat.2016.06.063\"], [\"10.1016/j.actamat.2016.06.063\"], [\"10.1016/j.actamat.2016.06.063\"], [\"10.1016/j.actamat.2016.06.063\"], [\"10.1080/02670836.2017.1342367\"], [\"10.1080/02670836.2017.1342367\"], [\"10.1080/02670836.2017.1342367\"], [\"10.1080/02670836.2017.1342367\"], [\"10.1016/j.actamat.2015.08.076\"], [\"10.1016/j.actamat.2015.08.076\"], [\"10.1016/j.actamat.2015.08.076\"], [\"10.1016/j.actamat.2015.08.076\"], [\"10.1016/j.ultramic.2015.06.009\"], [\"10.1016/j.ultramic.2015.06.009\"], [\"10.1016/j.matchar.2018.06.036\"], [\"10.1016/j.ultramic.2015.06.009\"], [\"10.1016/j.ultramic.2015.06.009\"], [\"10.1016/j.ultramic.2015.06.009\"], [\"10.1016/j.matchar.2018.06.036\"], [\"10.1007/s11837-015-1484-7\"], [\"10.1007/s11837-015-1484-7\"], [\"10.1007/s11837-015-1484-7\"], [\"10.1007/s11837-015-1484-7\"], [\"10.1007/s11837-015-1484-7\"], [\"10.1007/s11837-015-1484-7\"], [\"10.1016/j.msea.2016.11.019\"], [\"10.1016/j.msea.2016.11.019\"], [\"10.1016/j.msea.2016.11.019\"], [\"10.1016/j.msea.2016.11.019\"], [\"10.1016/j.msea.2016.11.019\"], [\"10.1016/j.matlet.2016.01.096\"], [\"10.1016/j.matdes.2013.12.048\"], [\"10.1016/j.jmst.2014.09.011\"], [\"10.1016/j.jmst.2014.09.011\"], [\"10.1007/s11665-015-1767-8\"], [\"10.1016/j.msea.2015.09.089\"], [\"10.1134/S0031918X17060084\"], [\"10.1134/S0031918X17060084\"], [\"10.1134/S0031918X17060084\"], [\"10.1134/S0031918X17060084\"], [\"10.1134/S0031918X17060084\"], [\"10.1016/j.msea.2015.02.072\"], [\"10.1016/j.jallcom.2013.12.210\"], [\"10.1016/j.actamat.2016.11.016\"], [\"10.1016/j.actamat.2016.11.016\"], [\"10.1016/j.actamat.2016.11.016\"], [\"10.1016/j.msea.2017.04.111\"], [\"10.1016/j.msea.2017.04.111\"], [\"10.1007/s11837-013-0756-3\"], [\"10.1007/s11837-013-0756-3\"], [\"10.1007/s11837-013-0756-3\"], [\"10.1016/j.actamat.2015.07.004\"], [\"10.1016/j.jallcom.2009.10.088\"], [\"10.1016/j.jallcom.2009.10.088\"], [\"10.1016/j.msea.2011.11.045\"], [\"10.1016/j.msea.2011.11.045\"], [\"10.1016/j.msea.2015.08.078\"], [\"10.1016/j.msea.2015.08.078\"], [\"10.1016/j.msea.2011.11.045\"], [\"10.1016/j.msea.2011.11.045\"], [\"10.1016/j.jallcom.2009.10.088\"], [\"10.1016/j.jallcom.2009.10.088\"], [\"10.1016/j.actamat.2018.11.049\"], [\"10.1016/j.actamat.2018.11.049\"], [\"10.1016/j.actamat.2018.12.012\"], [\"10.1016/j.actamat.2018.12.012\"], [\"10.1016/j.actamat.2018.12.012\"], [\"10.1016/j.actamat.2018.12.012\"], [\"10.1016/j.msea.2018.10.094\"], [\"10.1016/j.msea.2018.10.094\"], [\"10.1016/j.jallcom.2018.08.176\"], [\"10.1016/j.jallcom.2018.08.176\"], [\"10.1016/j.jallcom.2018.08.176\"], [\"10.1016/j.jallcom.2018.08.176\"], [\"10.1016/j.jallcom.2018.08.176\"], [\"10.1016/j.actamat.2018.12.015\"], [\"10.1016/j.actamat.2018.12.015\"], [\"10.1016/j.actamat.2018.12.015\"], [\"10.1038/s41467-019-08460-2\"], [\"10.1038/s41467-019-08460-2\"], [\"10.1038/s41467-019-08460-2\"], [\"10.1016/j.scriptamat.2018.11.042\"], [\"10.1016/j.scriptamat.2018.11.042\"], [\"10.1016/j.scriptamat.2018.11.042\"], [\"10.1016/j.jallcom.2018.10.230\"], [\"10.1016/j.jallcom.2018.10.230\"], [\"10.1016/j.jallcom.2018.10.230\"], [\"10.1016/j.jmst.2018.09.068\"], [\"10.1016/j.jmst.2018.09.068\"], [\"10.1016/j.jallcom.2018.10.168\"], [\"10.1016/j.jallcom.2018.10.168\"], [\"10.1016/j.jallcom.2018.10.168\"], [\"10.1016/j.jallcom.2018.10.168\"], [\"10.1016/j.jallcom.2018.10.168\"], [\"10.1016/j.jallcom.2018.10.168\"], [\"10.1007/s40843-018-9373-y\"], [\"10.1007/s40843-018-9373-y\"], [\"10.1007/s40843-018-9373-y\"], [\"10.1007/s40843-018-9373-y\"], [\"10.1007/s40843-018-9373-y\"], [\"10.1007/s40843-018-9373-y\"], [\"10.1016/j.matdes.2019.107698\"], [\"10.1016/j.matdes.2019.107698\"], [\"10.1016/j.matdes.2019.107698\"], [\"10.1016/j.matdes.2019.107698\"], [\"10.1016/j.matdes.2019.107698\"], [\"10.1016/j.jmst.2018.10.009\"], [\"10.1016/j.jmst.2018.10.009\"], [\"10.1016/j.jmst.2018.10.009\"], [\"10.1016/j.jmst.2018.10.009\"], [\"10.1016/j.jmst.2018.10.009\"], [\"10.1016/j.scriptamat.2018.10.023\"], [\"10.1016/j.scriptamat.2018.10.023\"], [\"10.1016/j.scriptamat.2018.10.023\"], [\"10.1016/j.scriptamat.2018.10.023\"], [\"10.1016/j.scriptamat.2018.10.023\"], [\"10.1016/j.jallcom.2018.11.057\"], [\"10.1016/j.msea.2019.01.050\"], [\"10.1016/j.msea.2019.01.050\"], [\"10.1016/j.msea.2019.01.050\"], [\"10.1016/j.ijplas.2018.10.005\"], [\"10.1016/j.ijplas.2018.10.005\"], [\"10.1016/j.ijplas.2018.10.005\"], [\"10.1016/j.ijplas.2018.10.005\"], [\"10.1016/j.ijplas.2018.10.005\"], [\"10.1016/j.ijplas.2018.10.005\"], [\"10.1016/j.ijplas.2018.10.005\"], [\"10.1016/j.jallcom.2018.08.115\"], [\"10.1016/j.matchemphys.2018.09.033\"], [\"10.1016/j.matchemphys.2018.09.033\"], [\"10.1016/j.matchemphys.2018.09.033\"], [\"10.1016/j.matchemphys.2018.09.033\"], [\"10.1016/j.matchemphys.2018.09.033\"], [\"10.1016/j.matchemphys.2018.09.033\"], [\"10.1016/j.jallcom.2018.11.318\"], [\"10.1016/j.jallcom.2018.11.318\"], [\"10.1016/j.jallcom.2018.11.318\"], [\"10.1016/j.jallcom.2018.11.318\"], [\"10.1016/j.calphad.2015.09.007\"], [\"10.1016/j.vacuum.2018.12.009\"], [\"10.1016/j.vacuum.2018.12.009\"], [\"10.1016/j.vacuum.2018.12.009\"], [\"10.1016/j.vacuum.2018.12.009\"], [\"10.1016/j.vacuum.2018.12.009\"], [\"10.1002/adma.201807142\"], [\"10.1002/adma.201807142\"], [\"10.1002/adma.201807142\"], [\"10.1002/adma.201807142\"], [\"10.1002/adma.201807142\"], [\"10.1016/j.actamat.2018.12.010\"], [\"10.1016/j.actamat.2018.12.010\"], [\"10.1016/j.scriptamat.2018.09.008\"], [\"10.1016/j.matchar.2018.07.015\"], [\"10.1080/21663831.2018.1553803\"], [\"10.1080/21663831.2018.1553803\"], [\"10.1080/21663831.2018.1553803\"], [\"10.1080/21663831.2018.1553803\"], [\"10.1080/21663831.2018.1553803\"], [\"10.1016/j.intermet.2019.04.003\"], [\"10.1016/j.intermet.2014.11.005\"], [\"10.1557/adv.2017.76\"], [\"10.1016/j.msea.2016.05.082\"], [\"10.1016/j.msea.2017.04.003\"], [\"10.1016/j.msea.2017.06.086\"], [\" 10.1038/ncomms10602\"], [\"10.1016/j.msea.2017.04.003\"], [\"10.1016/j.actamat.2019.03.010\"], [\"10.1016/j.actamat.2019.03.010\"], [\"10.1016/j.actamat.2019.03.010\"], [\"10.1016/j.actamat.2019.03.010\"], [\"10.1016/j.actamat.2019.03.010\"], [\"10.1016/j.actamat.2019.03.010\"], [\"10.1016/j.actamat.2019.03.010\"], [\"10.1016/j.actamat.2019.03.010\"], [\"10.1016/j.actamat.2019.03.010\"], [\"10.1016/j.actamat.2019.03.010\"], [\"10.1016/j.actamat.2019.03.010\"], [\"10.1016/j.actamat.2019.03.010\"], [\"10.1016/j.actamat.2019.03.010\"], [\"10.1016/j.actamat.2019.03.010\"], [\"10.1016/j.actamat.2019.03.010\"], [\"10.1016/j.actamat.2019.03.010\"], [\"10.1016/j.actamat.2019.03.010\"], [\"10.1016/j.actamat.2019.03.010\"], [\"10.1016/j.actamat.2019.03.010\"], [\"10.1016/j.actamat.2019.03.010\"], [\"10.1016/j.actamat.2019.03.010\"], [\"10.1016/j.actamat.2019.03.010\"], [\"10.1016/j.actamat.2019.03.010\"], [\"10.1016/j.actamat.2019.03.010\"], [\"10.1016/j.actamat.2019.03.010\"], [\"10.1016/j.actamat.2019.03.010\"], [\"10.1016/j.actamat.2019.03.010\"], [\"10.1016/j.actamat.2019.03.010\"], [\"10.1016/j.actamat.2019.03.010\"], [\"10.1016/j.actamat.2019.03.010\"], [\"10.1016/j.actamat.2019.03.010\"], [\"10.1016/j.actamat.2019.03.010\"], [\"10.1016/j.actamat.2019.03.010\"], [\"10.1016/j.actamat.2019.03.010\"], [\"10.1016/j.actamat.2019.03.010\"], [\"10.1016/j.actamat.2019.03.010\"], [\"10.1016/j.actamat.2019.03.010\"], [\"10.1016/j.actamat.2019.03.010\"], [\"10.1016/j.actamat.2019.03.010\"], [\"10.1016/j.actamat.2019.03.010\"], [\"10.1016/j.actamat.2019.03.010\"], [\"10.1016/j.actamat.2019.03.010\"], [\"10.1016/j.msea.2019.01.112\"], [\"10.1016/j.msea.2019.01.112\"], [\"10.1016/j.msea.2019.01.112\"], [\"10.1016/j.msea.2019.01.112\"], [\"10.1016/j.msea.2019.01.112\"], [\"10.1016/j.msea.2019.01.112\"], [\"10.1016/j.actamat.2019.06.032\"], [\"10.1016/j.actamat.2019.06.032\"], [\"10.1016/j.actamat.2019.06.032\"], [\"10.1016/j.actamat.2019.06.032\"], [\"10.1016/j.actamat.2019.06.032\"], [\"10.1016/j.actamat.2019.06.032\"], [\"10.1016/j.actamat.2019.06.032\"], [\"10.1016/j.actamat.2019.06.032\"], [\"10.1016/j.actamat.2019.06.032\"], [\"10.1016/j.actamat.2019.06.032\"], [\"10.1016/j.actamat.2019.06.032\"], [\"10.1016/j.actamat.2019.06.032\"], [\"10.1016/j.actamat.2019.06.032\"], [\"10.1016/j.actamat.2019.06.032\"], [\"10.1016/j.actamat.2019.06.032\"], [\"10.1016/j.actamat.2019.06.032\"], [\"10.1016/j.actamat.2019.06.032\"], [\"10.1016/j.actamat.2019.06.032\"], [\"10.1016/j.actamat.2019.06.032\"], [\"10.1016/j.actamat.2019.06.032\"], [\"10.1016/j.actamat.2019.06.032\"], [\"10.1016/j.actamat.2019.06.032\"], [\"10.1016/j.actamat.2019.06.032\"], [\"10.1016/j.actamat.2019.06.032\"], [\"10.1016/j.actamat.2019.06.032\"], [\"10.1016/j.actamat.2019.06.032\"], [\"10.1016/j.actamat.2019.06.032\"], [\"10.1016/j.actamat.2019.06.032\"], [\"10.1016/j.actamat.2019.06.032\"], [\"10.1016/j.actamat.2019.06.032\"], [\"10.1016/j.actamat.2019.06.032\"], [\"10.1016/j.actamat.2019.06.032\"], [\"10.1016/j.actamat.2019.06.032\"], [\"10.1016/j.actamat.2019.06.032\"], [\"10.1016/j.actamat.2019.06.032\"], [\"10.1016/j.actamat.2019.06.032\"], [\"10.1016/j.actamat.2019.06.032\"], [\"10.1016/j.actamat.2019.06.032\"], [\"10.1016/j.actamat.2019.06.032\"], [\"10.1016/j.actamat.2019.06.032\"], [\"10.1016/j.actamat.2019.06.032\"], [\"10.1016/j.actamat.2019.06.032\"], [\"10.1016/j.actamat.2019.06.032\"], [\"10.1016/j.actamat.2019.06.032\"], [\"10.1016/j.actamat.2019.06.032\"], [\"10.1016/j.actamat.2019.06.032\"], [\"10.1016/j.actamat.2019.06.032\"], [\"10.1016/j.actamat.2019.06.032\"], [\"10.1016/j.actamat.2019.06.032\"], [\"10.1016/j.actamat.2019.06.032\"], [\"10.1016/j.actamat.2019.06.032\"], [\"10.1016/j.actamat.2019.06.032\"], [\"10.1016/j.actamat.2019.06.032\"], [\"10.1016/j.actamat.2019.06.032\"], [\"10.1016/j.actamat.2019.06.032\"], [\"10.1016/j.actamat.2019.06.032\"], [\"10.1016/j.actamat.2019.06.032\"], [\"10.1016/j.actamat.2019.06.032\"], [\"10.1016/j.actamat.2019.06.032\"], [\"10.1016/j.actamat.2019.06.032\"], [\"10.1016/j.actamat.2019.06.032\"], [\"10.1016/j.actamat.2019.06.032\"], [\"10.1016/j.actamat.2019.06.032\"], [\"10.1016/j.actamat.2019.06.032\"], [\"10.1016/j.actamat.2019.06.032\"], [\"10.1016/j.actamat.2019.06.032\"], [\"10.1016/j.actamat.2019.06.032\"], [\"10.1016/j.actamat.2019.06.032\"], [\"10.1016/j.actamat.2019.06.032\"], [\"10.1016/j.actamat.2019.06.032\"], [\"10.1016/j.actamat.2019.06.032\"], [\"10.1016/j.actamat.2019.06.032\"], [\"10.1016/j.actamat.2019.06.032\"], [\"10.1016/j.actamat.2019.06.032\"], [\"10.1016/j.actamat.2019.06.032\"], [\"10.1016/j.actamat.2019.06.032\"], [\"10.1016/j.actamat.2019.06.032\"], [\"10.1016/j.actamat.2019.06.032\"], [\"10.1016/j.intermet.2019.106486\"], [\"10.1016/j.jallcom.2019.04.291\"], [\"10.1016/j.jallcom.2019.04.291\"], [\"10.1016/j.jallcom.2019.04.291\"], [\"10.1016/j.intermet.2019.106477\"], [\"10.1016/j.intermet.2019.106477\"], [\"10.1016/j.intermet.2019.106477\"], [\"10.1016/j.intermet.2019.106477\"], [\"10.1016/j.jmst.2018.12.002\"], [\"10.1016/j.jmst.2018.12.002\"], [\"10.1016/j.jmst.2018.12.002\"], [\"10.1016/j.ijrmhm.2019.02.009\"], [\"10.1016/j.intermet.2015.10.011\"], [\"10.1016/j.actamat.2019.04.017\"], [\"10.1016/j.actamat.2019.04.017\"], [\"10.1016/j.actamat.2019.04.017\"], [\"10.1016/j.actamat.2019.04.017\"], [\"10.1016/j.actamat.2019.04.017\"], [\"10.1016/j.actamat.2019.04.017\"], [\"10.1016/j.actamat.2019.04.017\"], [\"10.1016/j.actamat.2019.04.017\"], [\"10.1016/j.actamat.2019.04.017\"], [\"10.1016/j.actamat.2019.04.017\"], [\"10.1016/j.actamat.2019.04.017\"], [\"10.1016/j.actamat.2019.04.017\"], [\"10.1016/j.actamat.2019.04.017\"], [\"10.1016/j.actamat.2019.04.017\"], [\"10.1016/j.actamat.2019.04.017\"], [\"10.1016/j.actamat.2019.04.017\"], [\"10.1016/j.actamat.2019.04.017\"], [\"10.1016/j.actamat.2019.04.017\"], [\"10.1016/j.actamat.2019.04.017\"], [\"10.1016/j.actamat.2019.04.017\"], [\"10.1016/j.actamat.2019.04.017\"], [\"10.1016/j.actamat.2019.04.017\"], [\"10.1016/j.actamat.2019.04.017\"], [\"10.1016/j.actamat.2019.04.017\"], [\"10.1016/j.actamat.2019.04.017\"], [\"10.1016/j.jallcom.2019.02.083\"], [\"10.1016/j.jallcom.2019.02.083\"], [\"10.1016/j.jallcom.2019.02.083\"], [\"10.1016/j.jallcom.2019.01.341\"], [\"10.1016/j.jallcom.2019.01.341\"], [\"10.1016/j.jallcom.2019.01.341\"], [\"10.1016/j.jallcom.2019.01.341\"], [\"10.1016/j.jallcom.2019.01.341\"], [\"10.1016/j.jallcom.2019.01.341\"], [\"10.1016/j.jallcom.2019.01.341\"], [\"10.1016/j.jallcom.2019.01.341\"], [\"10.1016/j.msea.2019.04.025\"], [\"10.1016/j.msea.2019.04.025\"], [\"10.1016/j.msea.2019.04.025\"], [\"10.1016/j.msea.2019.04.025\"], [\"10.1016/j.msea.2019.04.025\"], [\"10.1016/j.msea.2019.04.025\"], [\"10.1016/j.msea.2019.04.025\"], [\"10.1016/j.msea.2019.04.025\"], [\"10.1016/j.scriptamat.2019.02.038\"], [\"10.1016/j.scriptamat.2019.02.038\"], [\"10.1016/j.scriptamat.2019.02.038\"], [\"10.1016/j.scriptamat.2019.02.038\"], [\"10.1016/j.scriptamat.2019.02.038\"], [\"10.1016/j.scriptamat.2019.02.038\"], [\"10.1088/2053-1591/ab0597\"], [\"10.1088/2053-1591/ab0597\"], [\"10.1088/2053-1591/ab0597\"], [\"10.1016/j.matchar.2019.03.006\"], [\"10.1016/j.matchar.2019.03.006\"], [\"10.1016/j.jallcom.2018.12.040\"], [\"10.1016/j.jallcom.2018.12.040\"], [\"10.1016/j.jallcom.2018.12.040\"], [\"10.1016/j.jallcom.2018.12.040\"], [\"10.1016/j.jallcom.2018.12.040\"], [\"10.1016/j.jallcom.2018.12.040\"], [\"10.1016/j.jallcom.2018.12.040\"], [\"10.1016/j.jallcom.2018.12.040\"], [\"10.1016/j.jallcom.2018.11.181\"], [\"10.1016/j.jallcom.2018.11.181\"], [\"10.1016/j.jallcom.2018.11.181\"], [\"10.1007/s11665-019-04003-4\"], [\"10.1007/s11665-019-04003-4\"], [\"10.1007/s11665-019-04003-4\"], [\"10.1007/s11665-019-04003-4\"], [\"10.1007/s11665-019-04003-4\"], [\"10.1007/s11665-019-04003-4\"], [\"10.1007/s11665-019-04003-4\"], [\"10.1007/s11665-019-04003-4\"], [\"10.1007/s11665-019-04003-4\"], [\"10.1016/j.jallcom.2018.11.111\"], [\"10.1016/j.jallcom.2018.11.111\"], [\"10.1016/j.jallcom.2018.11.111\"], [\"10.1016/j.jallcom.2018.11.111\"], [\"10.1016/j.jallcom.2018.11.111\"], [\"10.3390/e21020169\"], [\"10.3390/e21020169\"], [\"10.3390/e21020169\"], [\"10.3390/e21020169\"], [\"10.3390/e21020169\"], [\"10.3390/e21020169\"], [\"10.3390/e21020169\"], [\"10.3390/e21020169\"], [\"10.3390/e21020169\"], [\"10.3390/e21020169\"], [\"10.1016/j.msea.2018.12.077\"], [\"10.1016/j.msea.2018.12.077\"], [\"10.1016/j.msea.2018.12.077\"], [\"10.1016/j.msea.2018.12.077\"], [\"10.1016/j.msea.2018.12.077\"], [\"10.1016/j.jallcom.2019.07.195\"], [\"10.1016/j.jallcom.2019.07.100\"], [\"10.1016/j.jallcom.2019.07.100\"], [\"10.1016/j.jallcom.2019.07.100\"], [\"10.1016/j.jallcom.2019.07.100\"], [\"10.1016/j.jallcom.2019.07.100\"], [\"10.1016/j.jallcom.2019.07.100\"], [\"10.1016/j.jallcom.2018.01.247\"], [\"10.1016/j.jallcom.2018.01.247\"], [\"10.1016/j.jallcom.2018.01.247\"], [\"10.1016/j.matdes.2016.12.036\"], [\"10.1016/j.matdes.2016.12.036\"], [\"10.1016/j.matdes.2016.12.036\"], [\"10.1016/j.matdes.2016.12.036\"], [\"10.1016/j.jallcom.2018.07.346\"], [\"10.1016/j.jallcom.2018.07.346\"], [\"10.1016/j.jallcom.2018.07.346\"], [\"10.1016/j.jallcom.2018.07.346\"], [\"10.1016/j.jallcom.2018.07.346\"], [\"10.1016/j.intermet.2016.09.003\"], [\"10.1016/j.jallcom.2019.06.301\"], [\"10.1016/j.jallcom.2019.06.301\"], [\"10.1016/j.jallcom.2019.06.301\"], [\"10.1016/j.jallcom.2019.06.301\"], [\"10.1016/j.jallcom.2019.06.301\"], [\"10.1016/j.jallcom.2019.06.138\"], [\"10.1016/j.jallcom.2019.06.138\"], [\"10.1016/j.jallcom.2019.06.138\"], [\"10.1016/j.jallcom.2019.06.138\"], [\"10.1016/j.jallcom.2019.06.138\"], [\"10.1016/j.jallcom.2019.06.138\"], [\"10.1016/j.jallcom.2019.06.138\"], [\"10.1016/j.jallcom.2019.06.138\"], [\"10.1007/s12598-019-01310-6\"], [\"10.1007/s12598-019-01310-6\"], [\"10.1007/s12598-019-01310-6\"], [\"10.1007/s12598-019-01310-6\"], [\"10.1007/s12598-019-01310-6\"], [\"10.1007/s12598-019-01310-6\"], [\"10.1007/s12598-019-01310-6\"], [\"10.1007/s12598-019-01310-6\"], [\"10.1016/j.intermet.2019.106550\"], [\"10.1016/j.intermet.2019.106550\"], [\"10.1016/j.intermet.2019.106550\"], [\"10.1007/s40195-019-00935-x\"], [\"10.1007/s40195-019-00935-x\"], [\"10.1007/s40195-019-00935-x\"], [\"10.1016/j.matchar.2019.109792\"], [\"10.1016/j.matchar.2019.109792\"], [\"10.1016/j.matchar.2019.109792\"], [\"10.1016/j.matchar.2019.109792\"], [\"10.1016/j.jallcom.2019.05.322\"], [\"10.1016/j.jallcom.2019.05.322\"], [\"10.1016/j.jallcom.2019.05.322\"], [\"10.1016/j.jallcom.2019.05.322\"], [\"10.1016/j.jallcom.2019.05.322\"], [\"10.1016/j.jallcom.2019.05.322\"], [\"10.1016/j.jallcom.2019.05.322\"], [\"10.1016/j.jallcom.2019.05.322\"], [\"10.1016/j.jallcom.2019.05.322\"], [\"10.1016/j.jallcom.2019.05.322\"], [\"10.1016/j.jallcom.2019.05.322\"], [\"10.1016/j.jallcom.2019.05.322\"], [\"10.1016/j.jallcom.2019.05.322\"], [\"10.1016/j.jallcom.2019.05.322\"], [\"10.1016/j.jallcom.2019.05.322\"], [\"10.1016/j.jallcom.2019.05.322\"], [\"10.1016/j.jallcom.2019.05.322\"], [\"10.1016/j.jallcom.2019.05.322\"], [\"10.1016/j.jallcom.2019.05.322\"], [\"10.1016/j.jallcom.2019.05.322\"], [\"10.1016/j.jallcom.2019.05.322\"], [\"10.1016/j.jallcom.2019.05.322\"], [\"10.1016/j.jallcom.2019.05.322\"], [\"10.1016/j.jallcom.2019.05.322\"], [\"10.1016/j.jallcom.2019.05.322\"], [\"10.1016/j.jallcom.2019.05.322\"], [\"10.1016/j.jallcom.2019.05.322\"], [\"10.1016/j.jallcom.2019.05.322\"], [\"10.1016/j.jallcom.2019.05.322\"], [\"10.1016/j.jallcom.2019.05.322\"], [\"10.1016/j.jallcom.2019.05.322\"], [\"10.1016/j.jallcom.2019.05.322\"], [\"10.1016/j.jallcom.2019.05.322\"], [\"10.1016/j.jallcom.2019.05.322\"], [\"10.1016/j.jallcom.2019.05.322\"], [\"10.1016/j.jallcom.2019.05.322\"], [\"10.1016/j.jallcom.2019.05.322\"], [\"10.1016/j.jallcom.2019.05.322\"], [\"10.1016/j.jallcom.2019.05.322\"], [\"10.1016/j.jallcom.2019.05.322\"], [\"10.1016/j.jallcom.2019.05.322\"], [\"10.1016/j.jallcom.2019.05.322\"], [\"10.1016/j.msea.2019.138181\"], [\"10.1016/j.msea.2019.138181\"], [\"10.1016/j.msea.2019.138181\"], [\"10.1016/j.msea.2019.138181\"], [\"10.1016/j.msea.2019.138181\"], [\"10.1016/j.msea.2019.138181\"], [\"10.1016/j.actamat.2019.06.006\"], [\"10.1016/j.actamat.2019.06.006\"], [\"10.1016/j.actamat.2019.06.006\"], [\"10.1016/j.actamat.2019.06.006\"], [\"10.1016/j.actamat.2019.06.006\"], [\"10.1016/j.actamat.2019.06.006\"], [\"10.1016/j.actamat.2019.06.006\"], [\"10.1016/j.actamat.2019.06.006\"], [\"10.1016/j.actamat.2019.06.006\"], [\"10.1016/j.actamat.2019.06.006\"], [\"10.1016/j.actamat.2019.06.006\"], [\"10.1016/j.actamat.2019.06.006\"], [\"10.1016/j.actamat.2019.06.006\"], [\"10.1016/j.actamat.2019.06.006\"], [\"10.1016/j.actamat.2019.06.006\"], [\"10.1016/j.actamat.2019.06.006\"], [\"10.1016/j.actamat.2019.06.006\"], [\"10.1016/j.actamat.2019.06.006\"], [\"10.1016/j.actamat.2019.06.006\"], [\"10.1016/j.actamat.2019.06.006\"], [\"10.1016/j.actamat.2019.06.006\"], [\"10.1016/j.actamat.2019.06.006\"], [\"10.1016/j.actamat.2019.06.006\"], [\"10.1016/j.actamat.2019.06.006\"], [\"10.1016/j.actamat.2019.06.006\"], [\"10.1016/j.actamat.2019.06.006\"], [\"10.1016/j.actamat.2019.06.006\"], [\"10.1016/j.actamat.2019.06.006\"], [\"10.1016/j.actamat.2019.06.006\"], [\"10.1016/j.actamat.2019.06.006\"], [\"10.1016/j.actamat.2019.06.006\"], [\"10.1016/j.actamat.2019.06.006\"], [\"10.1016/j.actamat.2019.06.006\"], [\"10.1016/j.actamat.2019.06.006\"], [\"10.1016/j.actamat.2019.06.006\"], [\"10.1016/j.actamat.2019.06.006\"], [\"10.1016/j.actamat.2019.06.006\"], [\"10.1016/j.actamat.2019.06.006\"], [\"10.1016/j.actamat.2019.06.006\"], [\"10.1016/j.actamat.2019.06.006\"], [\"10.1016/j.actamat.2019.06.006\"], [\"10.1016/j.actamat.2019.06.006\"], [\"10.1016/j.actamat.2019.06.006\"], [\"10.1016/j.actamat.2019.06.006\"], [\"10.1016/j.actamat.2019.06.006\"], [\"10.1007/s40195-019-00921-3\"], [\"10.1007/s40195-019-00921-3\"], [\"10.1007/s40195-019-00921-3\"], [\"10.1007/s40195-019-00921-3\"], [\"10.1007/s40195-019-00921-3\"], [\"10.1007/s40195-019-00921-3\"], [\"10.1007/s40195-019-00921-3\"], [\"10.1007/s40195-019-00921-3\"], [\"10.1007/s40195-019-00921-3\"], [\"10.1007/s40195-019-00921-3\"], [\"10.1007/s40195-019-00921-3\"], [\"10.1016/j.matchar.2019.05.043\"], [\"10.1016/j.matchar.2019.05.043\"], [\"10.1016/j.matchar.2019.05.043\"], [\"10.1016/j.matchar.2019.05.043\"], [\"10.1016/j.matchar.2019.05.043\"], [\"10.1016/j.matchar.2019.05.043\"], [\"10.1016/j.matlet.2019.04.012\"], [\"10.1016/j.matlet.2019.04.012\"], [\"10.1016/j.matlet.2019.04.012\"], [\"10.1016/j.matlet.2019.04.012\"], [\"10.1007/s40195-019-00916-0\"], [\"10.1007/s40195-019-00916-0\"], [\"10.1016/j.matchar.2019.05.022\"], [\"10.1016/j.matchar.2019.05.022\"], [\"10.1016/j.matchar.2019.05.022\"], [\"10.1007/s11837-019-03432-9\"], [\"10.1007/s11837-019-03432-9\"], [\"10.1007/s11837-019-03432-9\"], [\"10.1007/s11837-019-03432-9\"], [\"10.1007/s11837-019-03432-9\"], [\"10.1088/2053-1591/ab2517\"], [\"10.1088/2053-1591/ab2517\"], [\"10.1088/2053-1591/ab2517\"], [\"10.1088/2053-1591/ab2517\"], [\"10.1088/2053-1591/ab2517\"], [\"10.1088/2053-1591/ab2517\"], [\"10.1088/2053-1591/ab2517\"], [\"10.1088/2053-1591/ab2517\"], [\"10.1088/2053-1591/ab2517\"], [\"10.1088/2053-1591/ab2517\"], [\"10.1016/j.jallcom.2019.04.296\"], [\"10.1016/j.msea.2019.138039\"], [\"10.1016/j.msea.2019.138039\"], [\"10.1016/j.msea.2019.138039\"], [\"10.1016/j.msea.2019.138039\"], [\"10.1016/j.msea.2019.138039\"], [\"10.1016/j.msea.2019.138039\"], [\"10.1016/j.jallcom.2019.04.121\"], [\"10.1016/j.jallcom.2019.04.121\"], [\"10.1016/j.matlet.2019.03.075\"], [\"10.1016/j.matlet.2019.03.075\"], [\"10.1016/j.matlet.2019.03.075\"], [\"10.1016/j.matlet.2019.03.075\"], [\"10.1016/j.matlet.2019.03.075\"], [\"10.1016/j.matlet.2019.03.075\"], [\"10.1007/s10853-019-03567-9\"], [\"10.1007/s10853-019-03567-9\"], [\"10.1007/s10853-019-03567-9\"], [\"10.1007/s10853-019-03567-9\"], [\"10.1007/s10853-019-03567-9\"], [\"10.1007/s10853-019-03567-9\"], [\"10.1007/s10853-019-03567-9\"], [\"10.1007/s10853-019-03567-9\"], [\"10.1007/s10853-019-03567-9\"], [\"10.1007/s10853-019-03567-9\"], [\"10.1007/s10853-019-03567-9\"], [\"10.1007/s10853-019-03567-9\"], [\"10.1007/s10853-019-03567-9\"], [\"10.1007/s10853-019-03567-9\"], [\"10.1007/s10853-019-03567-9\"], [\"10.1007/s10853-019-03567-9\"], [\"10.1007/s10853-019-03567-9\"], [\"10.1007/s10853-019-03567-9\"], [\"10.1007/s10853-019-03567-9\"], [\"10.1007/s10853-019-03567-9\"], [\"10.1007/s10853-019-03567-9\"], [\"10.1007/s11661-019-05231-y\"], [\"10.1007/s11661-019-05231-y\"], [\"10.1007/s11661-019-05231-y\"], [\"10.1007/s11661-019-05231-y\"], [\"10.1007/s11661-019-05231-y\"], [\"10.1007/s11661-019-05231-y\"], [\"10.1007/s11661-019-05231-y\"], [\"10.1007/s11661-019-05231-y\"], [\"10.1007/s11661-019-05231-y\"], [\"10.1007/s11661-019-05231-y\"], [\"10.1007/s11661-019-05231-y\"], [\"10.1016/j.vacuum.2019.04.043\"], [\"10.1016/j.vacuum.2019.04.043\"], [\"10.1016/j.vacuum.2019.04.043\"], [\"10.1016/j.vacuum.2019.04.043\"], [\"10.1016/j.intermet.2012.03.005\"], [\"10.1016/j.intermet.2012.03.005\"], [\"10.1016/j.intermet.2012.03.005\"], [\"10.1016/j.intermet.2012.03.005\"], [\"10.1016/j.msea.2013.12.096\"], [\"10.1016/j.msea.2013.12.096\"], [\"10.4028/www.scientific.net/MSF.846.13\"], [\"10.4028/www.scientific.net/MSF.846.13\"], [\"10.4028/www.scientific.net/MSF.846.13\"], [\"10.4028/www.scientific.net/MSF.846.13\"], [\"10.4028/www.scientific.net/MSF.846.13\"], [\"10.4028/www.scientific.net/MSF.846.13\"], [\"10.4028/www.scientific.net/MSF.846.13\"], [\"10.4028/www.scientific.net/MSF.846.13\"], [\"10.1016/j.jallcom.2010.02.032\"], [\"10.1016/j.jallcom.2010.02.032\"], [\"10.1016/j.msea.2019.05.056\"], [\"10.1016/j.msea.2019.05.056\"], [\"10.1016/j.msea.2019.05.056\"], [\"10.1016/j.msea.2019.05.056\"], [\"10.1016/j.msea.2019.04.096\"], [\"10.1016/j.msea.2019.04.096\"], [\"10.1016/j.msea.2019.04.096\"], [\"10.1016/j.msea.2019.05.078\"], [\"10.1016/j.msea.2019.05.078\"], [\"10.1016/j.msea.2019.05.078\"], [\"10.1016/j.msea.2019.05.078\"], [\"10.1016/j.msea.2019.05.078\"], [\"10.1016/j.msea.2019.05.078\"], [\"10.1016/j.msea.2019.05.078\"], [\"10.1016/j.msea.2019.05.003\"], [\"10.1016/j.msea.2019.05.003\"], [\"10.1016/j.msea.2019.05.003\"], [\"10.1038/s41467-019-10533-1\"], [\"10.1038/s41467-019-10533-1\"], [\"10.1038/s41467-019-10533-1\"], [\"10.1038/s41467-019-10533-1\"], [\"10.1038/s41467-019-10533-1\"], [\"10.1038/s41467-019-10533-1\"], [\"10.1038/s41467-019-10533-1\"], [\"10.1016/j.jmst.2018.12.014\"], [\"10.1016/j.jmst.2018.12.014\"], [\"10.1016/j.jmst.2018.12.014\"], [\"10.1016/j.jmst.2018.12.014\"], [\"10.1016/j.jmst.2018.12.014\"], [\"10.1016/j.jmst.2018.12.014\"], [\"10.1016/j.msea.2019.04.104\"], [\"10.1016/j.msea.2019.04.104\"], [\"10.1016/j.msea.2019.04.104\"], [\"10.1016/j.msea.2019.04.104\"], [\"10.1016/j.jmmm.2019.01.096\"], [\"10.1016/j.jmmm.2019.01.096\"], [\"10.1016/j.jmmm.2019.01.096\"], [\"10.1038/s41598-019-43329-w\"], [\"10.1038/s41598-019-43329-w\"], [\"10.1038/s41598-019-43329-w\"], [\"10.1038/s41598-019-43329-w\"], [\"10.1038/s41598-019-43329-w\"], [\"10.3390/e21050448\"], [\"10.3390/e21050448\"], [\"10.3390/e21050448\"], [\"10.3390/e21050448\"], [\"10.3390/e21050448\"], [\"10.3390/e21050448\"], [\"10.3390/e21050448\"], [\"10.3390/e21050448\"], [\"10.3390/e21050448\"], [\"10.3390/e21050448\"], [\"10.3390/e21050448\"], [\"10.3390/ma12071136\"], [\"10.3390/ma12071136\"], [\"10.3390/ma12071136\"], [\"10.3390/ma12071136\"], [\"10.3390/ma12071136\"], [\"10.3390/e21030288\"], [\"10.3390/e21030288\"], [\"10.3390/e21030288\"], [\"10.3390/e21030288\"], [\"10.3390/e21030288\"], [\"10.1016/j.scriptamat.2018.12.021\"], [\"10.1557/jmr.2019.40\"], [\"10.1557/jmr.2019.40\"], [\"10.1557/jmr.2019.40\"], [\"10.1557/jmr.2019.40\"], [\"10.1557/jmr.2019.40\"], [\"10.1557/jmr.2019.18\"], [\"10.1557/jmr.2019.18\"], [\"10.1557/jmr.2019.18\"], [\"10.1557/jmr.2019.18\"], [\"10.1557/jmr.2019.36\"], [\"10.1557/jmr.2019.36\"], [\"10.1557/jmr.2019.36\"], [\"10.1557/jmr.2019.36\"], [\"10.1557/jmr.2019.36\"], [\"10.1016/j.msea.2019.01.088\"], [\"10.1016/j.msea.2019.01.088\"], [\"10.1016/j.msea.2019.01.088\"], [\"10.1016/j.msea.2019.01.088\"], [\"10.1016/j.msea.2019.01.083\"], [\"10.1016/j.msea.2019.01.083\"], [\"10.1016/j.msea.2019.01.083\"], [\"10.1016/j.msea.2019.01.083\"], [\"10.1007/s00339-019-2484-1\"], [\"10.1007/s00339-019-2484-1\"], [\"10.1007/s00339-019-2484-1\"], [\"10.1007/s00339-019-2484-1\"], [\"10.1007/s10853-018-03196-8\"], [\"10.1007/s00339-019-2506-z\"], [\"10.1007/s00339-019-2506-z\"], [\"10.1007/s00339-019-2506-z\"], [\"10.1007/s00339-019-2506-z\"], [\"10.3390/met9030351\"], [\"10.1007/s11665-018-3837-1\"], [\"10.1007/s11665-018-3837-1\"], [\"10.1007/s11665-018-3837-1\"], [\"10.1007/s11665-018-3837-1\"], [\"10.1007/s11665-018-3837-1\"], [\"10.3390/e21020122\"], [\"10.3390/e21020122\"], [\"10.3390/e21020122\"], [\"10.3390/e21020122\"], [\"10.3390/e21020114\"], [\"10.3390/e21020114\"], [\"10.3390/e21020114\"], [\"10.3390/e21020114\"], [\"10.3390/e21020114\"], [\"10.3390/e21020114\"], [\"10.3390/e21020114\"], [\"10.1016/j.msea.2018.12.020\"], [\"10.1016/j.msea.2018.12.020\"], [\"10.1016/j.msea.2018.12.020\"], [\"10.1016/j.msea.2018.12.020\"], [\"10.1016/j.msea.2018.12.020\"], [\"10.1155/2019/2157592\"], [\"10.1155/2019/2157592\"], [\"10.1155/2019/2157592\"], [\"10.1155/2019/2157592\"], [\"10.1155/2019/2157592\"], [\"10.1155/2019/2157592\"], [\"10.1155/2019/2157592\"], [\"10.1155/2019/2157592\"], [\"10.1155/2019/2157592\"], [\"10.1080/00325899.2019.1576389\"], [\"10.1007/s11106-019-00012-z\"], [\"10.1007/s11106-019-00012-z\"], [\"10.1007/s11106-019-00012-z\"], [\"10.1007/s11106-019-00012-z\"], [\"10.1080/00325899.2018.1554834\"], [\"10.1007/s11665-018-3822-8\"], [\"10.1007/s11665-018-3822-8\"], [\"10.3390/e21010015\"], [\"10.3390/e21010015\"], [\"10.3390/e21010015\"], [\"10.3390/e21010015\"], [\"10.3390/e21010015\"], [\"10.3390/e21010015\"], [\"10.3390/e21010015\"], [\"10.3390/e21010015\"], [\"10.3390/e21010015\"], [\"10.3390/e21010015\"], [\"10.3390/e21010015\"], [\"10.3390/e21010015\"], [\"10.3390/e21010015\"], [\"10.3390/e21010015\"], [\"10.3390/e21010015\"], [\"10.3390/e21010015\"], [\"10.3390/e21010015\"], [\"10.3390/e21010015\"], [\"10.3390/e21010015\"], [\"10.3390/e21010015\"], [\"10.3390/e21010015\"], [\"10.3390/e21010015\"], [\"10.3390/coatings9010016\"], [\"10.3390/coatings9010016\"], [\"10.3390/coatings9010016\"], [\"10.5755/j01.ms.25.3.19452\"], [\"10.1007/s11661-018-4646-8\"], [\"10.1007/s11661-018-4646-8\"], [\"10.1007/s11661-018-4646-8\"], [\"10.1007/s11661-018-4646-8\"], [\"10.1007/s11661-018-4646-8\"], [\"10.1007/s11661-018-4646-8\"], [\"10.1007/s11661-018-4646-8\"], [\"10.1007/s11661-018-4646-8\"], [\"10.1007/s11661-018-4646-8\"], [\"10.1007/s11661-018-4646-8\"], [\"10.1007/s11661-018-4646-8\"], [\"10.1080/02670836.2018.1446267\"], [\"10.1080/02670836.2018.1446267\"], [\"10.1016/j.matlet.2015.08.099\"], [\"10.1179/1743284715Y.0000000032\"], [\"10.1016/j.actamat.2012.11.032\"], [\"10.1016/j.actamat.2012.11.032\"], [\"10.1088/0256-307X/35/3/036102\"], [\"10.1088/0256-307X/35/3/036102\"], [\"10.1088/0256-307X/35/3/036102\"], [\"10.1088/0256-307X/35/3/036102\"], [\"10.1088/0256-307X/35/3/036102\"], [\"10.1088/0256-307X/35/3/036102\"], [\"10.1016/j.matdes.2018.06.003\"], [\"10.1016/j.matdes.2018.06.003\"], [\"10.1016/j.matdes.2018.06.003\"], [\"10.1016/j.matdes.2018.06.003\"], [\"10.1016/j.matdes.2018.06.003\"], [\"10.1016/j.matdes.2018.06.003\"], [\"10.1016/j.matdes.2018.06.003\"], [\"10.1016/j.matdes.2018.06.003\"], [\"10.1016/j.matdes.2018.06.003\"], [\"10.1016/j.matdes.2018.06.003\"], [\"10.1016/j.matdes.2018.06.003\"], [\"10.1016/j.matdes.2018.06.003\"], [\"10.1016/j.matdes.2018.06.003\"], [\"10.1016/j.matdes.2018.06.003\"], [\"10.1016/j.matdes.2018.06.003\"], [\"10.1016/j.matdes.2018.06.003\"], [\"10.1016/j.matdes.2018.06.003\"], [\"10.1016/j.matdes.2018.06.003\"], [\"10.1016/j.matdes.2018.06.003\"], [\"10.1016/j.matdes.2018.06.003\"], [\"10.1016/j.matdes.2018.06.003\"], [\"10.1016/j.matdes.2018.06.003\"]], \"hoverlabel\": {\"namelength\": 0}, \"hovertemplate\": \"<b>%{hovertext}</b><br><br>PROPERTY: BCC/FCC/other=%{x}<br>PROPERTY: HV=%{y}<br>REFERENCE: doi=%{customdata[0]}\", \"hovertext\": [\"Al0.25 Co1 Fe1 Ni1\", \"Al0.5 Co1 Fe1 Ni1\", \"Al0.75 Co1 Fe1 Ni1\", \"Al1 Co1 Fe1 Ni1\", \"Co1 Fe1 Ni1\", \"Co1 Fe1 Ni1\", \"Co1 Fe1 Ni1 Si0.25\", \"Co1 Fe1 Ni1 Si0.5\", \"Co1 Fe1 Ni1 Si0.75\", \"Co1 Cr1 Fe1 Ni1\", \"Co1 Cr1 Mn1 Ni1\", \"Co1 Cr1 Ni1\", \"Co1 Fe1 Mn1 Ni1\", \"Co1 Fe1 Ni1\", \"Co1 Mn1 Ni1\", \"Fe1 Mn1 Ni1\", \"Co1 Cr1 Fe1 Nb0.103 Ni1\", \"Co1 Cr1 Fe1 Nb0.155 Ni1\", \"Co1 Cr1 Fe1 Nb0.206 Ni1\", \"Co1 Cr1 Fe1 Nb0.309 Ni1\", \"Co1 Cr1 Fe1 Nb0.412 Ni1\", \"Co1 Cr1 Fe1 Ni1\", \"Al0.25 Co1 Cr1 Fe1 Ni1\", \"Al0.25 Co1 Cr1 Fe1 Ni1\", \"Al0.375 Co1 Cr1 Fe1 Ni1\", \"Al0.375 Co1 Cr1 Fe1 Ni1\", \"Al0.5 Co1 Cr1 Fe1 Ni1\", \"Al0.5 Co1 Cr1 Fe1 Ni1\", \"Al0.75 Co1 Cr1 Fe1 Ni1\", \"Al0.75 Co1 Cr1 Fe1 Ni1\", \"Al0.875 Co1 Cr1 Fe1 Ni1\", \"Al0.875 Co1 Cr1 Fe1 Ni1\", \"Al1 Co0.8 Cr0.8 Fe0.8 Ni0.8\", \"Al1 Co0.8 Cr0.8 Fe0.8 Ni0.8\", \"Al1 Co0.667 Cr0.667 Fe0.667 Ni0.667\", \"Al1 Co0.667 Cr0.667 Fe0.667 Ni0.667\", \"Al1 Co0.5 Cr0.5 Fe0.5 Ni0.5\", \"Al1 Co0.5 Cr0.5 Fe0.5 Ni0.5\", \"Al1 Co1 Cr1 Fe1 Ni1\", \"Al1 Co1 Cr1 Fe1 Ni1\", \"Co1 Cr1 Fe1 Ni1\", \"Co1 Cr1 Fe1 Ni1\", \"Al0.5 Co1 Cr1 Fe1 Mo0.5 Ni1\", \"Al1 Co0.667 Cr0.667 Fe0.667 Mo0.333 Ni0.667\", \"Al1 Co0.5 Cr0.5 Fe0.5 Mo0.25 Ni0.5\", \"Al1 Co1 Cr1 Fe1 Mo0.5 Ni1\", \"Co1 Cr1 Fe1 Mo0.5 Ni1\", \"Al0.5 Co1 Cr1 Fe1 Ni1 Ti1\", \"Al1 Co0.667 Cr0.667 Fe0.667 Ni0.667 Ti0.667\", \"Al1 Co0.5 Cr0.5 Fe0.5 Ni0.5 Ti0.5\", \"Al1 Co1 Cr1 Fe1 Ni1 Ti1\", \"Co1 Cr1 Fe1 Ni1 Ti1\", \"Al0.133 Co1 Cr0.667 Fe0.667 Ni1 Ti0.667\", \"Al0.133 Co1 Cr0.667 Fe0.667 Ni1 Ti0.333\", \"Co1 Cr0.667 Fe0.667 Ni1 Ti0.667\", \"Co1 Cr0.667 Fe0.667 Ni1 Ti0.333\", \"Al0.7 Co0.3 Cr1 Fe1 Ni1\", \"Al0.875 Co1 Cr1 Fe1 Ni1\", \"Al1 Co0.667 Cr0.667 Fe0.667 Ni0.667\", \"Al1 Co0.4 Cr0.4 Fe0.4 Ni0.4\", \"Al1 Co0.5 Cr0.5 Fe0.5 Ni0.5\", \"Al1 Co0.333 Cr0.333 Fe0.333 Ni0.333\", \"Al1 Co1 Cr1 Fe1 Ni1\", \"Al1 Cr1 Cu1 Fe1 Ni1\", \"Co1 Cr1 Cu1 Fe1 Ni1\", \"Cr1 Cu1 Fe1 Mn1 Ni1\", \"Cr1 Cu1 Fe1 Mo1 Ni1\", \"Al1 Co1 Cr1 Fe1 Ni1\", \"Al1 C0.1 Co1 Cr1 Fe1 Ni1\", \"Al1 C0.2 Co1 Cr1 Fe1 Ni1\", \"Al1 C0.3 Co1 Cr1 Fe1 Ni1\", \"Al1 C0.4 Co1 Cr1 Fe1 Ni1\", \"Al1 C0.5 Co1 Cr1 Fe1 Ni1\", \"Al0.667 C1 Co0.667 Cr0.667 Fe0.667 Ni0.667\", \"Al1 C1 Co1 Cr1 Fe1 Ni1\", \"Al1 Co1 Cr1 Fe1 Ni1\", \"Al1 Co1 Cr1 Fe1 Mo0.1 Ni1\", \"Al1 Co1 Cr1 Fe1 Mo0.2 Ni1\", \"Al1 Co1 Cr1 Fe1 Mo0.3 Ni1\", \"Al1 Co1 Cr1 Fe1 Mo0.4 Ni1\", \"Al1 Co1 Cr1 Fe1 Mo0.5 Ni1\", \"Al1 Co1 Cr1 Fe1 Ni1\", \"Al1 Co1 Cr1 Fe1 Nb0.1 Ni1\", \"Al1 Co1 Cr1 Fe1 Nb0.25 Ni1\", \"Al1 Co1 Cr1 Fe1 Nb0.5 Ni1\", \"Al1 Co1 Cr1 Fe1 Nb0.75 Ni1\", \"Al1 Co1 Cr1 Fe1 Ni1\", \"Al0.8 Co1 Cr1 Cu1 Fe1 Ni1\", \"Al1 Co0.5 Cr1 Fe1 Mo0.5 Ni1\", \"Al0.667 Co1 Cr0.667 Fe0.667 Mo0.333 Ni0.667\", \"Al0.5 Co1 Cr0.5 Fe0.5 Mo0.25 Ni0.5\", \"Al1 Co1 Cr1 Fe1 Mo0.5 Ni1\", \"Al1 Co1 Cr1 Fe1 Mo0.5 Ni1\", \"Al1 Co1 Cr1 Fe0.6 Mo0.5 Ni1\", \"Al0.667 Co0.667 Cr0.667 Fe1 Mo0.333 Ni0.667\", \"Al0.5 Co0.5 Cr0.5 Fe1 Mo0.25 Ni0.5\", \"Al1 Co1 Cr1 Fe1 Mo0.5\", \"Al1 Co1 Cr1 Fe1 Mo0.5 Ni1\", \"Al1 Co1 Cr1 Fe1 Mo0.5 Ni0.5\", \"Al0.667 Co0.667 Cr0.667 Fe0.667 Mo0.333 Ni1\", \"Al0.5 Co0.5 Cr0.5 Fe0.5 Mo0.25 Ni1\", \"Al1 Co1 Cr1 Fe1 Ni1\", \"Al1 Co1 Cr1 Fe1 Ni1 Si1\", \"Al1 Co1 Cr1 Fe1 Ni1 Si0.2\", \"Al1 Co1 Cr1 Fe1 Ni1 Si0.4\", \"Al1 Co1 Cr1 Fe1 Ni1 Si0.6\", \"Al1 Co1 Cr1 Fe1 Ni1 Si0.8\", \"Al0.25 Co1 Cr1 Cu0.5 Fe1 Ni1 Ti0.5\", \"Al0.25 Co1 Cr1 Cu0.75 Fe1 Ni1 Ti0.5\", \"Al0.5 Co1 Cr1 Cu0.5 Fe1 Ni1 Ti0.5\", \"Al0.75 Co1 Cr1 Cu0.25 Fe1 Ni1 Ti0.5\", \"Co1 Cr1 Cu1 Fe1 Ni1 Ti0.5\", \"Al1 Co1 Cr1 Fe1 Ni1 Ti1\", \"Al1 Co1 Cr1 Fe1 Ni1 Ti0.5\", \"Al0.667 Co0.667 Cr0.667 Fe0.667 Ni0.667 Ti1\", \"Al1 Co1 Cr1 Fe1 Ni1 Ti1 V1 Zr1\", \"Al1 Co1 Fe1 Ni1 Ti1 V1 Zr1\", \"Al1 Fe1 Ni1 Ti1 V1 Zr1\", \"Co1 Cr1 Cu1 Fe1 Ni1 Ti1 V1 Zr1\", \"Co1 Cr1 Fe1 Mo1 Ni1 Ti1 V1 Zr1\", \"Co1 Cu1 Fe1 Ni1 Ti1 V1 Zr1\", \"Co1 Fe1 Mo1 Ni1 Ti1 V1 Zr1\", \"Cu1 Fe1 Ni1 Ti1 V1 Zr1\", \"Fe1 Mo1 Ni1 Ti1 V1 Zr1\", \"Al0.1 Co1 Cr1 Fe1 Mn1 Ni1\", \"Al0.2 Co1 Cr1 Fe1 Mn1 Ni1\", \"Al0.38 Co1 Cr1 Fe1 Mn1 Ni1\", \"Al0.43 Co1 Cr1 Fe1 Mn1 Ni1\", \"Al0.49 Co1 Cr1 Fe1 Mn1 Ni1\", \"Al0.56 Co1 Cr1 Fe1 Mn1 Ni1\", \"Al0.62 Co1 Cr1 Fe1 Mn1 Ni1\", \"Al0.68 Co1 Cr1 Fe1 Mn1 Ni1\", \"Al0.75 Co1 Cr1 Fe1 Mn1 Ni1\", \"Al0.81 Co1 Cr1 Fe1 Mn1 Ni1\", \"Al0.88 Co1 Cr1 Fe1 Mn1 Ni1\", \"Al0.95 Co1 Cr1 Fe1 Mn1 Ni1\", \"Al1 Co0.8 Cr0.8 Fe0.8 Mn0.8 Ni0.8\", \"Co1 Cr1 Fe1 Mn1 Ni1\", \"Co1 Cr1 Fe1 Mn1 Ni1\", \"Co1 Cr1 Fe1 Mn1 Ni1\", \"Co1 Cr1 Fe1 Mn1 Ni1 V0.25\", \"Co1 Cr1 Fe1 Mn1 Ni1 V0.25\", \"Co1 Cr1 Fe1 Mn1 Ni1 V0.5\", \"Co1 Cr1 Fe1 Mn1 Ni1 V0.5\", \"Co1 Cr1 Fe1 Mn1 Ni1 V0.75\", \"Co1 Cr1 Fe1 Mn1 Ni1 V0.75\", \"Co1 Cr1 Fe1 Mn1 Ni1 V1\", \"Co1 Cr1 Fe1 Mn1 Ni1 V1\", \"Al0.2 Cr0.667 Fe1 Mn0.667 Ni0.333\", \"Al0.333 Cr0.667 Fe1 Mn0.667 Ni0.333\", \"Al1 Cr1 Fe1 Ni1\", \"Al1 Cr1 Fe1 Mo1 Ni1\", \"Al1 Cr1 Fe1 Mo0.2 Ni1\", \"Al1 Cr1 Fe1 Mo0.5 Ni1\", \"Al1 Cr1 Fe1 Mo0.8 Ni1\", \"Al0.3 Co1 Cr1 Cu1 Fe1\", \"Al0.5 Co1 Cr1 Cu1 Fe1\", \"Al0.8 Co1 Cr1 Cu1 Fe1\", \"Al1 Co0.769 Cr0.769 Cu0.769 Fe0.769\", \"Al1 Co0.667 Cr0.667 Cu0.667 Fe0.667\", \"Al1 Co0.556 Cr0.556 Cu0.556 Fe0.556\", \"Al1 Co0.5 Cr0.5 Cu0.5 Fe0.5\", \"Al1 Co0.435 Cr0.435 Cu0.435 Fe0.435\", \"Al1 Co0.4 Cr0.4 Cu0.4 Fe0.4\", \"Al1 Co0.357 Cr0.357 Cu0.357 Fe0.357\", \"Al1 Co0.333 Cr0.333 Cu0.333 Fe0.333\", \"Al1 Co1 Cr1 Cu1 Fe1\", \"Co1 Cr1 Cu1 Fe1\", \"Co1 Cr1 Cu0.5 Fe1 Ni1\", \"Co1 Cr1 Cu1 Fe1 Ni1 Ti1\", \"Co1 Cr1 Cu1 Fe1 Ni1 Ti0.5\", \"Co1 Cr1 Cu1 Fe1 Ni1 Ti0.8\", \"Al0.5 B0.2 Co1 Cr1 Cu1 Fe1 Ni1\", \"Al0.5 B0.6 Co1 Cr1 Cu1 Fe1 Ni1\", \"Al0.5 B1 Co1 Cr1 Cu1 Fe1 Ni1\", \"Al0.5 Co1 Cr1 Cu1 Fe1 Ni1\", \"Al0.5 Co1 Cr1 Cu1 Fe1 Ni1\", \"Al0.5 Co1 Cr1 Cu1 Fe1 Ni1 Ti1\", \"Al0.5 Co1 Cr1 Cu1 Fe1 Ni1 Ti0.2\", \"Al0.5 Co1 Cr1 Cu1 Fe1 Ni1 Ti0.4\", \"Al0.5 Co1 Cr1 Cu1 Fe1 Ni1 Ti0.6\", \"Al0.5 Co1 Cr1 Cu1 Fe1 Ni1 Ti0.8\", \"Al0.417 Co0.833 Cr0.833 Cu0.833 Fe0.833 Ni0.833 Ti1\", \"Al0.357 Co0.714 Cr0.714 Cu0.714 Fe0.714 Ni0.714 Ti1\", \"Al0.312 Co0.625 Cr0.625 Cu0.625 Fe0.625 Ni0.625 Ti1\", \"Al0.278 Co0.556 Cr0.556 Cu0.556 Fe0.556 Ni0.556 Ti1\", \"Al0.25 Co0.5 Cr0.5 Cu0.5 Fe0.5 Ni0.5 Ti1\", \"Al0.5 Co1 Cr1 Cu1 Fe1 Ni1\", \"Al0.5 Co1 Cr1 Cu1 Fe1 Ni1 V0.2\", \"Al0.5 Co1 Cr1 Cu1 Fe1 Ni1 V0.4\", \"Al0.5 Co1 Cr1 Cu1 Fe1 Ni1 V0.6\", \"Al0.5 Co1 Cr1 Cu1 Fe1 Ni1 V0.8\", \"Al0.5 Co1 Cr1 Cu1 Fe1 Ni1 V1\", \"Al0.417 Co0.833 Cr0.833 Cu0.833 Fe0.833 Ni0.833 V1\", \"Al0.357 Co0.714 Cr0.714 Cu0.714 Fe0.714 Ni0.714 V1\", \"Al0.312 Co0.625 Cr0.625 Cu0.625 Fe0.625 Ni0.625 V1\", \"Al0.278 Co0.556 Cr0.556 Cu0.556 Fe0.556 Ni0.556 V1\", \"Al0.25 Co0.5 Cr0.5 Cu0.5 Fe0.5 Ni0.5 V1\", \"Al1 Co1 Cr1 Cu1 Fe1 Ni1\", \"Al1 Co1 Cu1 Fe1 Nd1 Ni1\", \"Al1 Co1 Cu1 Fe1 Ni1\", \"Al1 Co1 Cu1 Fe1 Ni1 Si1\", \"Al1 Co1 Cu1 Fe1 Ni1 Ti1\", \"Al1 Co1 Cu1 Fe1 Ni1 Zr1\", \"Al1 Co1 Cr1 Cu1 Fe1 Mn1 Ni1\", \"Al1 Co1 Cr1 Cu1 Fe1 Ni1\", \"Al1 Co1 Cr1 Cu1 Fe1 Ni1 Ti1\", \"Al1 Co1 Cr1 Cu1 Fe1 Ni1 V1\", \"Al1 Co1 Cr1 Cu1 Ni1 Ti1\", \"Al1 Co1 Cr1 Cu1 Ni1 Ti1 Y1\", \"Al1 Co1 Cr1 Cu1 Ni1 Ti1 Y0.5\", \"Al1 Co1 Cr1 Cu1 Ni1 Ti1 Y0.8\", \"Co1 Cu1 Fe1 Ni1\", \"Co1 Cu1 Fe1 Ni1 Sn0.02\", \"Co1 Cu1 Fe1 Ni1 Sn0.04\", \"Co1 Cu1 Fe1 Ni1 Sn0.05\", \"Co1 Cu1 Fe1 Ni1 Sn0.07\", \"Co1 Cu1 Fe1 Ni1 Sn0.1\", \"Co1 Cu1 Fe1 Ni1 Sn0.2\", \"Co1 Cu1 Fe1 Ni1 Sn0.5\", \"Co1 Cu1 Fe1 Mn1 Ni1\", \"Co1 Cu1 Fe1 Mn1 Ni1 Sn0.03\", \"Co1 Cu1 Fe1 Mn1 Ni1 Sn0.05\", \"Co1 Cu1 Fe1 Mn1 Ni1 Sn0.08\", \"Co1 Cu1 Fe1 Mn1 Ni1 Sn0.1\", \"Co1 Cu1 Fe1 Mn1 Ni1 Sn0.2\", \"Al1 Cr1 Cu1 Fe1 Ni1\", \"Al1 Cr1 Cu1 Fe1 Ni0.6\", \"Al1 Cr1 Cu1 Fe1 Ni0.8\", \"Al0.833 Cr0.833 Cu0.833 Fe0.833 Ni1\", \"Al0.714 Cr0.714 Cu0.714 Fe0.714 Ni1\", \"Co1 Cr1 Cu1 Fe1 Ni1\", \"Al0.1 Cr0.5 Cu0.5 Fe0.5 Ni1\", \"Al0.2 Cr0.5 Cu0.5 Fe0.5 Ni1\", \"Al0.3 Cr0.5 Cu0.5 Fe0.5 Ni1\", \"Al0.4 Cr0.5 Cu0.5 Fe0.5 Ni1\", \"Al0.6 Cr0.5 Cu0.5 Fe0.5 Ni1\", \"Al0.5 Cr0.5 Cu0.5 Fe0.5 Ni1\", \"Al1 Cr1 Cu1 Fe1 Ni1 Ti1\", \"Al1 Cu0.889 Fe0.667 Ni0.889 Ti1\", \"Al1 Cu0.889 Fe0.667 Ni0.889 Ti1\", \"Al1 Cu1 Fe1 Ni1 Ti1\", \"Al1 Cu1 Ni1 Ti1\", \"Al1 Cu0.062 Li0.062 Mg0.062 Zn0.062\", \"Al1 Li0.062 Mg0.062 Sn0.062 Zn0.062\", \"Al1 Cu0.2 Li0.5 Mg1 Zn0.5\", \"Al1 Cu0.5 Li0.5 Mg1 Sn0.2\", \"Al1 Li0.5 Mg1 Sn0.2 Zn0.5\", \"Al1 Li1 Mg1 Sn1 Zn1\", \"Al0.667 Li0.667 Mg0.333 Sc0.667 Ti1\", \"Al0.214 Nb0.714 Ta0.571 Ti1 V0.143 Zr0.929\", \"Al0.214 Nb0.714 Ta0.571 Ti1 V0.143 Zr0.929\", \"Al0.214 Nb0.714 Ta0.571 Ti1 V0.143 Zr0.929\", \"Al0.214 Nb0.714 Ta0.714 Ti1 Zr0.929\", \"Al0.214 Nb0.714 Ta0.714 Ti1 Zr0.929\", \"Al0.214 Nb0.714 Ta0.714 Ti1 Zr0.929\", \"Al0.4 Hf0.6 Nb1 Ta1 Ti1 Zr1\", \"Al0.4 Hf0.6 Nb1 Ta1 Ti1 Zr1\", \"Al0.4 Hf0.6 Nb1 Ta1 Ti1 Zr1\", \"Al0.333 Nb0.667 Ta0.533 Ti1 V0.133 Zr0.667\", \"Al0.333 Nb0.667 Ta0.533 Ti1 V0.133 Zr0.667\", \"Al0.333 Nb0.667 Ta0.533 Ti1 V0.133 Zr0.667\", \"Al1 Mo0.5 Nb1 Ta0.5 Ti1 Zr1\", \"Al1 Mo0.5 Nb1 Ta0.5 Ti1 Zr1\", \"Al1 Mo0.5 Nb1 Ta0.5 Ti1 Zr1\", \"Al1 Mo0.5 Nb1 Ta0.5 Ti1 Zr1\", \"Al0.667 Nb1 Ta0.333 Ti1 Zr0.333\", \"Al0.667 Nb1 Ta0.333 Ti1 Zr0.333\", \"Al0.667 Nb1 Ta0.333 Ti1 Zr0.333\", \"Al0.3 Hf1 Nb1 Ta1 Ti1 Zr1\", \"Al0.5 Hf1 Nb1 Ta1 Ti1 Zr1\", \"Al0.75 Hf1 Nb1 Ta1 Ti1 Zr1\", \"Al1 Hf1 Nb1 Ta1 Ti1 Zr1\", \"Hf1 Nb1 Ta1 Ti1 Zr1\", \"Al0.25 Mo1 Nb1 Ti1 V1\", \"Al0.5 Mo1 Nb1 Ti1 V1\", \"Al0.75 Mo1 Nb1 Ti1 V1\", \"Al1 Mo1 Nb1 Ti1 V1\", \"Mo1 Nb1 Ti1 V1\", \"Al0.25 Nb1 Ta1 Ti1 V1\", \"Al0.5 Nb1 Ta1 Ti1 V1\", \"Al1 Nb1 Ta1 Ti1 V1\", \"Nb1 Ta1 Ti1 V1\", \"Al1 Nb1 Ti1 V1\", \"Al1 Nb1 Ti1 V1\", \"Al1 Nb1 Ti1 V1\", \"Al1 Nb1 Ti1 V1\", \"Cr1 Mo0.5 Nb1 Ta0.5 Ti1 Zr1\", \"Cr1 Mo0.5 Nb1 Ta0.5 Ti1 Zr1\", \"Cr1 Mo0.5 Nb1 Ta0.5 Ti1 Zr1\", \"Cr1 Mo0.5 Nb1 Ta0.5 Ti1 Zr1\", \"Cr1 Nb1 Ti1 V1 Zr1\", \"Cr1 Nb1 Ti1 V1 Zr1\", \"Cr1 Nb1 Ti1 V1 Zr1\", \"Cr1 Nb1 Ti1 V1 Zr1\", \"Cr1 Nb1 Ti1 Zr1\", \"Cr1 Nb1 Ti1 Zr1\", \"Cr1 Nb1 Ti1 Zr1\", \"Cr1 Nb1 Ti1 Zr1\", \"Nb0.5 Ti0.5 V1 Zr0.5\", \"Nb0.5 Ti0.5 V1 Zr0.5\", \"Nb0.5 Ti0.5 V1 Zr0.5\", \"Nb0.5 Ti0.5 V1 Zr0.5\", \"Nb1 Ti1 V1 Zr1\", \"Nb1 Ti1 V1 Zr1\", \"Nb1 Ti1 V1 Zr1\", \"Nb1 Ti1 V1 Zr1\", \"Hf0.5 Mo0.5 Nb1 Ti1 Zr1\", \"C0.1 Hf0.5 Mo0.5 Nb1 Ti1 Zr1\", \"C0.3 Hf0.5 Mo0.5 Nb1 Ti1 Zr1\", \"Hf1 Mo0.25 Nb1 Ta1 Ti1 Zr1\", \"Hf1 Mo0.5 Nb1 Ta1 Ti1 Zr1\", \"Hf1 Mo0.75 Nb1 Ta1 Ti1 Zr1\", \"Hf1 Mo1 Nb1 Ta1 Ti1 Zr1\", \"Hf1 Nb1 Ta1 Ti1 Zr1\", \"Hf1 Mo1 Nb1 Ta1 Ti1 Zr1\", \"Hf1 Mo1 Nb1 Ta1 Ti1 Zr1\", \"Hf1 Mo1 Nb1 Ta1 Ti1 Zr1\", \"Hf1 Mo1 Nb1 Ta1 Ti1 Zr1\", \"Hf1 Mo1 Ta1 Ti1 Zr1\", \"Hf1 Mo1 Ta1 Ti1 Zr1\", \"Hf1 Mo1 Ta1 Ti1 Zr1\", \"Hf1 Mo1 Ta1 Ti1 Zr1\", \"Hf1 Mo1 Nb1 Ti1 Zr1\", \"Hf1 Mo1 Nb1 Ti1 Zr1\", \"Hf1 Mo1 Nb1 Ti1 Zr1\", \"Hf1 Mo1 Nb1 Ti1 Zr1\", \"Hf1 Mo1 Nb1 Ti1 Zr1\", \"Hf1 Nb1 Si0.5 Ti1 V1\", \"Hf1 Nb1 Si0.5 Ti1 V1\", \"Hf1 Nb1 Si0.5 Ti1 V1\", \"Hf0.333 Nb0.333 Ta0.333 Ti1 Zr0.667\", \"Hf1 Nb1 Ta1 Ti1 Zr1\", \"Hf1 Nb1 Ta1 Ti1 Zr1\", \"Hf1 Nb1 Ta1 Ti1 Zr1\", \"Hf1 Nb1 Ta1 Ti1 Zr1\", \"Hf1 Nb1 Ta1 Ti1 Zr1\", \"Hf1 Nb1 Ta1 Ti1 Zr1\", \"Hf1 Nb1 Ti1 Zr1\", \"Mo1 Nb1 Ta1 V1\", \"Mo1 Nb1 Ta1 V1 W1\", \"Mo1 Nb1 Ta1 V1 W1\", \"Mo1 Nb1 Ta1 V1 W1\", \"Mo1 Nb1 Ta1 V1 W1\", \"Mo1 Nb1 Ta1 V1 W1\", \"Mo1 Nb1 Ta1 V1 W1\", \"Mo1 Nb1 Ta1 V1 W1\", \"Mo1 Nb1 Ta1 W1\", \"Mo1 Nb1 Ta1 W1\", \"Mo1 Nb1 Ta1 W1\", \"Mo1 Nb1 Ta1 W1\", \"Mo1 Nb1 Ta1 W1\", \"Mo1 Nb1 Ta1 W1\", \"Mo1 Nb1 Ta1 W1\", \"Mo0.3 Nb1 Ti1 V1 Zr1\", \"Mo0.5 Nb1 Ti1 V1 Zr1\", \"Mo0.7 Nb1 Ti1 V1 Zr1\", \"Mo1 Nb0.769 Ti0.769 V0.769 Zr0.769\", \"Mo1 Nb0.667 Ti0.667 V0.667 Zr0.667\", \"Mo1 Nb0.588 Ti0.588 V0.588 Zr0.588\", \"Mo1 Nb0.5 Ti0.5 V0.5 Zr0.5\", \"Mo1 Nb1 Ti1 V1 Zr1\", \"Mo1 Nb1 Ti1 V0.3 Zr1\", \"Mo0.1 Nb1 Ti1 V0.3 Zr1\", \"Mo0.3 Nb1 Ti1 V0.3 Zr1\", \"Mo0.5 Nb1 Ti1 V0.3 Zr1\", \"Mo0.7 Nb1 Ti1 V0.3 Zr1\", \"Mo1 Nb0.769 Ti0.769 V0.231 Zr0.769\", \"Mo1 Nb0.667 Ti0.667 V0.2 Zr0.667\", \"Nb1 Ti1 V0.3 Zr1\", \"Nb1 Ti1 V1 Zr1\", \"Mo1 Nb1 Ti1 V0.25 Zr1\", \"Mo1 Nb1 Ti1 V0.5 Zr1\", \"Mo1 Nb1 Ti1 V0.75 Zr1\", \"Mo1 Nb1 Ti1 V1 Zr1\", \"Mo0.667 Nb0.667 Ti0.667 V1 Zr0.667\", \"Mo0.5 Nb0.5 Ti0.5 V1 Zr0.5\", \"Mo0.333 Nb0.333 Ti0.333 V1 Zr0.333\", \"Mo1 Nb1 Ti1 Zr1\", \"Co1 Fe1 Mo0.2 Ni1 V1\", \"Co1 Fe1 Mo0.4 Ni1 V1\", \"Co1 Fe1 Mo0.6 Ni1 V1\", \"Co1 Fe1 Mo0.8 Ni1 V1\", \"Co0.833 Fe0.833 Mo0.833 Ni1 V0.833\", \"Co0.714 Fe0.714 Mo0.714 Ni1 V0.714\", \"Co0.625 Fe0.625 Mo0.625 Ni1 V0.625\", \"Co0.556 Fe0.556 Mo0.556 Ni1 V0.556\", \"Co0.5 Fe0.5 Mo0.5 Ni1 V0.5\", \"Co1 Fe1 Mo1 Ni1 V1\", \"Co1 Fe1 Ni1 V1\", \"Al0.125 Co1 Cr1 Cu1 Fe1 Mn1 Ni1 Ti1 V1\", \"Al0.25 Co1 Cr1 Cu1 Fe1 Mn1 Ni1 Ti1 V1\", \"Al0.667 Co1 Cr1 Cu1 Fe1 Mn1 Ni1 Ti1 V1\", \"Co1 Cr1 Cu1 Fe1 Mn1 Ni1 Ti1 V1\", \"Cu1 Mn1 Ni1 Zn0.333\", \"Cu1 Mn1 Ni1 Zn0.25\", \"Al0.111 Cu1 Mn1 Ni1\", \"Cu1 Mn1 Ni1 Sn0.111\", \"Al0.053 Cu1 Mn1 Ni1\", \"Cu1 Mn1 Ni1 Sn0.053\", \"Al0.5 Co1 Cr1 Cu1 Fe1 Ni1\", \"Al0.5 Co1 Cr1 Cu1 Fe1 Ni1\", \"Al0.5 Co1 Cr1 Cu1 Fe1 Ni1\", \"Al0.5 Co1 Cr1 Cu1 Fe1 Ni1\", \"Al0.5 Co1 Cr1 Cu1 Fe1 Ni1\", \"Al0.5 Co1 Cr1 Cu1 Fe1 Ni1\", \"Al0.5 Co1 Cr1 Cu1 Fe1 Ni1\", \"Al1 Co0.5 Cr0.5 Cu0.5 Fe0.5 Ni0.5\", \"Al1 Co0.5 Cr0.5 Cu0.5 Fe0.5 Ni0.5\", \"Al1 Co0.5 Cr0.5 Cu0.5 Fe0.5 Ni0.5\", \"Al1 Co0.5 Cr0.5 Cu0.5 Fe0.5 Ni0.5\", \"Al1 Co0.5 Cr0.5 Cu0.5 Fe0.5 Ni0.5\", \"Al1 Co0.5 Cr0.5 Cu0.5 Fe0.5 Ni0.5\", \"Al1 Co0.5 Cr0.5 Cu0.5 Fe0.5 Ni0.5\", \"Al1 Co0.5 Cr0.5 Cu0.5 Fe0.5 Ni0.5\", \"Al1 Co1 Cr1 Cu1 Fe1 Ni1\", \"Al1 Co1 Cr1 Cu1 Fe1 Ni1\", \"Al1 Co1 Cr1 Cu1 Fe1 Ni1\", \"Al1 Co1 Cr1 Cu1 Fe1 Ni1\", \"Al1 Co1 Cr1 Cu1 Fe1 Ni1\", \"Al1 Co1 Cr1 Cu1 Fe1 Ni1\", \"Al1 Cr1 Mo1 Nb1 Ti1\", \"Al1 Cr1 Mo1 Nb1 Ti1\", \"Al1 Cr1 Mo1 Nb1 Ti1\", \"Al1 Cr1 Mo1 Nb1 Ti1\", \"Al1 Cr1 Mo1 Nb1 Ti1\", \"Al1 Cr1 Mo1 Nb1 Ti1\", \"Al1 Cr1 Mo1 Nb1 Ti1\", \"Al1 Cr1 Mo1 Nb1 Ti1\", \"Al1 Cr1 Mo1 Nb1 Ti1\", \"Al1 Cr1 Mo1 Nb1 Ti1\", \"Al1 Cr1 Mo1 Ti1\", \"Al1 Cr1 Mo1 Ti1\", \"Al1 Cr1 Mo1 Ti1\", \"Al1 Cr1 Mo1 Ti1\", \"Al1 Cr1 Mo1 Ti1\", \"Al1 Mo1 Nb1 Ti1\", \"Al1 Mo1 Nb1 Ti1\", \"Al1 Mo1 Nb1 Ti1\", \"Al1 Mo1 Nb1 Ti1\", \"Al1 Nb1 Ti1 V1\", \"Al1 Nb1 Ti1 V1\", \"Al1 Nb1 Ti1 V1\", \"Al1 Nb1 Ti1 V1 Zr1\", \"Al1 Nb1 Ti1 V1 Zr1\", \"Al1 Nb1 Ti1 V1 Zr1\", \"Al1 Nb1 Ti1 V1 Zr0.1\", \"Al1 Nb1 Ti1 V1 Zr0.1\", \"Al1 Nb1 Ti1 V1 Zr0.1\", \"Al1 Nb1 Ti1 V1 Zr0.25\", \"Al1 Nb1 Ti1 V1 Zr0.25\", \"Al1 Nb1 Ti1 V1 Zr0.25\", \"Al1 Nb1 Ti1 V1 Zr0.5\", \"Al1 Nb1 Ti1 V1 Zr0.5\", \"Al1 Nb1 Ti1 V1 Zr0.5\", \"Al0.667 Nb0.667 Ti0.667 V0.667 Zr1\", \"Al0.667 Nb0.667 Ti0.667 V0.667 Zr1\", \"Al0.667 Nb0.667 Ti0.667 V0.667 Zr1\", \"Co1 Cr1 Mo1 Nb1\", \"Co1 Cr1 Mo1 Nb1 Ti1\", \"Co1 Cr1 Mo1 Nb1 Ti0.2\", \"Co1 Cr1 Mo1 Nb1 Ti0.4\", \"Co1 Cr1 Mo1 Nb1 Ti0.5\", \"Cr1 Hf1 Nb1 Ti1 Zr1\", \"Cr1 Hf1 Nb1 Ti1 Zr1\", \"Cr1 Hf1 Nb1 Ti1 Zr1\", \"Cr1 Hf1 Nb1 Ti1 Zr1\", \"Cr1 Hf1 Nb1 Ti1 Zr1\", \"Hf1 Nb1 Ti1 V1 Zr1\", \"Hf1 Nb1 Ti1 V1 Zr1\", \"Hf1 Nb1 Ti1 V1 Zr1\", \"Hf1 Nb1 Ti1 V1 Zr1\", \"Hf1 Nb1 Ti1 V1 Zr1\", \"Cr1 Ta1 Ti0.17 V1 W1\", \"Cr1 Ta1 Ti0.17 V1 W1\", \"Cr1 Ta1 Ti0.3 V1 W1\", \"Cr1 Ta1 Ti0.3 V1 W1\", \"Cr1 Ta1 V1 W1\", \"Cr1 Ta1 V1 W1\", \"Hf0.26 Nb1 Ta1 Ti0.578 Zr0.416\", \"Hf0.26 Nb1 Ta1 Ti0.578 Zr0.416\", \"Hf0.26 Nb1 Ta1 Ti0.578 Zr0.416\", \"Hf0.26 Nb1 Ta1 Ti0.578 Zr0.416\", \"Hf0.26 Nb1 Ta1 Ti0.578 Zr0.416\", \"Hf0.5 Mo0.5 Nb1 Si0.1 Ti1 Zr1\", \"Hf0.5 Mo0.5 Nb1 Si0.3 Ti1 Zr1\", \"Hf0.5 Mo0.5 Nb1 Si0.5 Ti1 Zr1\", \"Hf0.5 Mo0.5 Nb1 Si0.7 Ti1 Zr1\", \"Hf0.5 Mo0.5 Nb1 Si0.9 Ti1 Zr1\", \"Hf0.5 Mo0.5 Nb1 Ti1 Zr1\", \"Hf0.5 Nb0.667 Ta0.333 Ti1 Zr0.833\", \"Hf0.5 Nb0.667 Ta0.333 Ti1 Zr0.833\", \"Hf0.5 Nb0.667 Ta0.333 Ti1 Zr0.833\", \"Hf0.5 Nb0.667 Ta0.333 Ti1 Zr0.833\", \"Hf0.5 Nb0.667 Ta0.333 Ti1 Zr0.833\", \"Hf0.5 Nb0.667 Ta0.333 Ti1 Zr0.833\", \"Hf0.5 Nb0.667 Ta0.333 Ti1 Zr0.833\", \"Hf0.5 Nb0.667 Ta0.333 Ti1 Zr0.833\", \"Hf0.5 Nb0.667 Ta0.333 Ti1 Zr0.833\", \"Hf0.5 Nb0.667 Ta0.333 Ti1 Zr0.833\", \"Hf0.5 Nb0.667 Ta0.333 Ti1 Zr0.833\", \"Hf0.5 Nb0.667 Ta0.333 Ti1 Zr0.833\", \"Hf0.5 Nb0.667 Ta0.333 Ti1 Zr0.833\", \"Hf0.5 Nb0.667 Ta0.333 Ti1 Zr0.833\", \"Hf0.5 Nb0.667 Ta0.333 Ti1 Zr0.833\", \"Hf0.5 Nb0.667 Ta0.333 Ti1 Zr0.833\", \"Hf0.5 Nb0.667 Ta0.333 Ti1 Zr0.833\", \"Hf0.5 Nb0.667 Ta0.333 Ti1 Zr0.833\", \"Hf0.5 Nb0.667 Ta0.333 Ti1 Zr0.833\", \"Hf0.5 Nb0.667 Ta0.333 Ti1 Zr0.833\", \"Hf0.5 Nb0.667 Ta0.333 Ti1 Zr0.833\", \"Hf1 Mo0.5 Nb1 Si0.3 Ti1 V0.5\", \"Hf1 Mo0.5 Nb1 Si0.3 Ti1 V0.5\", \"Hf1 Mo0.5 Nb1 Si0.3 Ti1 V0.5\", \"Hf1 Mo0.5 Nb1 Si0.5 Ti1 V0.5\", \"Hf1 Mo0.5 Nb1 Si0.5 Ti1 V0.5\", \"Hf1 Mo0.5 Nb1 Si0.5 Ti1 V0.5\", \"Hf1 Mo0.5 Nb1 Si0.7 Ti1 V0.5\", \"Hf1 Mo0.5 Nb1 Si0.7 Ti1 V0.5\", \"Hf1 Mo0.5 Nb1 Si0.7 Ti1 V0.5\", \"Hf1 Mo0.5 Nb1 Ti1 V0.5\", \"Hf1 Mo0.5 Nb1 Ti1 V0.5\", \"Hf1 Mo0.5 Nb1 Ti1 V0.5\", \"Hf0.787 Nb0.142 Ta0.142 Ti1 Zr0.787\", \"Al0.25 Nb1 Ta1 Ti1 Zr1\", \"Al0.25 Nb1 Ta1 Ti1 Zr1\", \"Al0.5 Mo0.5 Nb1 Ta0.5 Ti1 Zr1\", \"Al0.5 Mo0.5 Nb1 Ta0.5 Ti1 Zr1\", \"Al1 Mo0.5 Nb1 Ta0.5 Ti1 Zr1\", \"Al1 Mo0.5 Nb1 Ta0.5 Ti1 Zr0.5\", \"Al1 Mo0.5 Nb1 Ta0.5 Ti1 Zr0.5\", \"Al1 Nb1 Ta0.5 Ti1 Zr0.5\", \"Al1 Nb1 Ta0.5 Ti1 Zr0.5\", \"Hf1 Nb1 Si0.5 Ti1 V1 Zr1\", \"Hf1 Nb1 Si0.5 Ti1 V1 Zr1\", \"Hf1 Nb1 Si0.5 Ti1 V1 Zr1\", \"Hf1 Nb1 Si0.5 Ti1 V1 Zr1\", \"Hf1 Nb1 Si0.5 Ti1 V1 Zr1\", \"Hf1 Nb1 Si0.5 Ti1 V1 Zr1\", \"Hf1 Nb1 Si0.5 Ti1 V1 Zr1\", \"Hf1 Nb1 Ta1 Ti1 Zr1\", \"Hf1 Nb1 Ta1 Ti1 Zr1\", \"Hf1 Nb1 Ta1 Ti1 Zr1\", \"Hf1 Nb1 Ta1 Ti1 Zr1\", \"Hf1 Nb1 Ta1 Ti1 Zr1\", \"Hf1 Nb1 Ta1 Ti1 Zr1\", \"Hf1 Nb1 Ta1 Ti1 Zr1\", \"Hf1 Nb1 Ta1 Ti1 Zr1\", \"Hf1 Nb1 Ta1 Ti1 Zr1\", \"Hf1 Nb1 Ta1 Ti1 Zr1\", \"Hf1 Nb1 Ta1 Ti1 Zr1\", \"Hf1 Nb1 Ta1 Ti1 Zr1\", \"Hf1 Nb1 Ta1 Ti1 Zr1\", \"Hf1 Nb1 Ta1 Ti1 Zr1\", \"Hf1 Nb1 Ta1 Ti1 Zr1\", \"Hf1 Nb1 Ta1 Ti1 Zr1\", \"Hf1 Nb1 Ta1 Ti1 Zr1\", \"Al0.2 Mo1 Ta1 Ti1 V1\", \"Al0.6 Mo1 Ta1 Ti1 V1\", \"Al1 Mo1 Ta1 Ti1 V1\", \"Mo1 Ta1 Ti1 V1\", \"Hf1 Nb1 Ta1 Zr1\", \"Hf1 Nb1 Ta1 Zr1\", \"Hf1 Nb1 Ta1 Zr1\", \"Hf1 Nb1 Ta1 Zr1\", \"Hf1 Nb1 Ta1 Zr1\", \"Hf1 Ta0.4 Ti1 Zr1\", \"Hf1 Ta0.5 Ti1 Zr1\", \"Hf1 Ta0.6 Ti1 Zr1\", \"Hf1 Ta1 Ti1 Zr1\", \"Mo1 Nb1 Ta1 Ti0.25 W1\", \"Mo1 Nb1 Ta1 Ti0.5 W1\", \"Mo1 Nb1 Ta1 Ti0.75 W1\", \"Mo1 Nb1 Ta1 Ti1 W1\", \"Mo1 Nb1 Ta1 W1\", \"Mo1 Nb1 Ta1 Ti1 V1\", \"Mo1 Nb1 Ta1 Ti1 V1 W1\", \"Mo1 Nb1 Ta1 Ti1 V1 W1\", \"Mo1 Nb1 Ta1 Ti1 V1 W1\", \"Mo1 Nb1 Ta1 Ti1 V1 W1\", \"Mo1 Nb1 Ta1 Ti1 V1 W1\", \"Mo1 Nb1 Ta1 Ti1 W1\", \"Mo1 Nb1 Ta1 Ti1 W1\", \"Mo1 Nb1 Ta1 Ti1 W1\", \"Mo1 Nb1 Ta1 Ti1 W1\", \"Mo1 Nb1 Ta1 Ti1 W1\", \"Mo1 Nb1 Ta1 Ti1 Zr1\", \"Mo1 Nb1 Ta1 Ti1 Zr1\", \"Mo1 Nb1 Ta1 Ti1 Zr1\", \"Mo1 Nb1 Ta1 V1 W1\", \"Nb1 Ta1 Ti1 V1\", \"Nb1 Ta1 Ti1 V1 W1\", \"Nb1 Ta1 V1 W1\", \"Al0.25 Cr0.5 Nb0.5 Ti1 V0.25\", \"Al0.25 Cr0.5 Nb0.5 Ti1 V0.25\", \"Al0.25 Cr0.5 Nb0.5 Ti1 V0.25\", \"Al0.25 Cr0.5 Nb0.5 Ti1 V0.25\", \"Al0.25 Cr0.5 Nb0.5 Ti1 V0.25\", \"Al1 Cr0.5 Nb1 Ti1 V1\", \"Al1 Cr0.5 Nb1 Ti1 V1\", \"Al1 Cr0.5 Nb1 Ti1 V1\", \"Al1 Cr0.5 Nb1 Ti1 V1\", \"Al0.667 Cr1 Nb0.667 Ti0.667 V0.667\", \"Al0.667 Cr1 Nb0.667 Ti0.667 V0.667\", \"Al0.667 Cr1 Nb0.667 Ti0.667 V0.667\", \"Al0.667 Cr1 Nb0.667 Ti0.667 V0.667\", \"Al1 Cr1 Nb1 Ti1 V1\", \"Al1 Cr1 Nb1 Ti1 V1\", \"Al1 Cr1 Nb1 Ti1 V1\", \"Al1 Cr1 Nb1 Ti1 V1\", \"Al1 Nb1 Ti1 V1\", \"Al1 Nb1 Ti1 V1\", \"Al1 Nb1 Ti1 V1\", \"Al1 Nb1 Ti1 V1\", \"Al0.3 Co1 Cr1 Fe1 Ni1\", \"Cr0.5 Fe1 Mn0.625 Ni0.375\", \"Al0.05 Cr0.5 Fe1 Mn0.625 Ni0.375\", \"Al0.15 Cr0.5 Fe1 Mn0.625 Ni0.375\", \"Al0.25 Cr0.5 Fe1 Mn0.625 Ni0.375\", \"Al0.35 Cr0.5 Fe1 Mn0.625 Ni0.375\", \"Cr0.5 Fe1 Mn0.625 Ni0.375\", \"Al0.05 Cr0.5 Fe1 Mn0.625 Ni0.375\", \"Al0.15 Cr0.5 Fe1 Mn0.625 Ni0.375\", \"Al0.25 Cr0.5 Fe1 Mn0.625 Ni0.375\", \"Al0.35 Cr0.5 Fe1 Mn0.625 Ni0.375\", \"Cr0.5 Fe1 Mn0.625 Ni0.375\", \"Al0.05 Cr0.5 Fe1 Mn0.625 Ni0.375\", \"Al0.15 Cr0.5 Fe1 Mn0.625 Ni0.375\", \"Al0.25 Cr0.5 Fe1 Mn0.625 Ni0.375\", \"Al0.35 Cr0.5 Fe1 Mn0.625 Ni0.375\", \"Co1 Cr1 Fe1 Mn1 Ni1\", \"Co0.2 Cr0.2 Fe1 Mn0.6\", \"Co0.2 Cr0.2 Fe1 Mn0.6\", \"Co0.2 Cr0.2 Fe1 Mn0.6\", \"Co0.2 Cr0.2 Fe1 Mn0.6\", \"Co0.2 Cr0.2 Fe1 Mn0.6\", \"Co0.2 Cr0.2 Fe1 Mn0.6\", \"Al0.304 Co1 Cr1 Fe1 Ni1\", \"Al0.304 Co1 Cr1 Fe1 Ni1\", \"Al0.304 Co1 Cr1 Fe1 Ni1\", \"Al0.304 Co1 Cr1 Fe1 Ni1\", \"Al0.304 Co1 Cr1 Fe1 Ni1\", \"Al0.304 Co1 Cr1 Fe1 Ni1\", \"Al0.304 Co1 Cr1 Fe1 Ni1\", \"Al0.304 Co1 Cr1 Fe1 Ni1\", \"Al0.304 Co1 Cr1 Fe1 Ni1\", \"Al0.304 Co1 Cr1 Fe1 Ni1\", \"Al0.304 Co1 Cr1 Fe1 Ni1\", \"Al0.304 Co1 Cr1 Fe1 Ni1\", \"Al0.304 Co1 Cr1 Fe1 Ni1\", \"Al0.304 Co1 Cr1 Fe1 Ni1\", \"Al0.304 Co1 Cr1 Fe1 Ni1\", \"Al0.304 Co1 Cr1 Fe1 Ni1\", \"Al0.304 Co1 Cr1 Fe1 Ni1\", \"Al0.304 Co1 Cr1 Fe1 Ni1\", \"Al0.304 Co1 Cr1 Fe1 Ni1\", \"Al0.304 Co1 Cr1 Fe1 Ni1\", \"Al1 Co1 Cr1 Fe1 Ni1\", \"Al1 Co1 Cr1 Fe1 Ni1\", \"Al1 Co1 Cr1 Fe1 Ni1\", \"Al1 Co1 Cr1 Fe1 Ni1\", \"Al1 Co1 Cr1 Fe1 Ni1\", \"Al1 Co1 Cr1 Fe1 Ni1\", \"Al1 Co1 Cr1 Fe1 Ni1\", \"Al0.515 Cr0.515 Fe1 Ni1\", \"Al0.511 Co0.511 Cr0.511 Fe0.511 Ni1\", \"Al0.465 Co0.465 Cr0.465 Fe0.465 Ni1\", \"Al0.451 Co0.451 Cr0.451 Fe0.451 Ni1\", \"Al0.511 Co0.511 Cr0.511 Fe0.511 Ni1\", \"Al0.465 Co0.465 Cr0.465 Fe0.465 Ni1\", \"Al0.451 Co0.451 Cr0.451 Fe0.451 Ni1\", \"Al0.511 Co0.511 Cr0.511 Fe0.511 Ni1\", \"Al0.465 Co0.465 Cr0.465 Fe0.465 Ni1\", \"Al0.451 Co0.451 Cr0.451 Fe0.451 Ni1\", \"Al0.343 Co0.514 Cr0.514 Fe1 Ni0.514\", \"Al0.343 Co0.514 Cr0.514 Fe1 Ni0.514\", \"Al0.343 Co0.514 Cr0.514 Fe1 Ni0.514\", \"Al0.343 Co0.514 Cr0.514 Fe1 Ni0.514\", \"Co1 Cr0.429 Fe0.571 Mo0.286 Ni0.571\", \"Co1 Cr0.429 Fe0.571 Mo0.286 Ni0.571\", \"Co1 Cr0.429 Fe0.571 Mo0.286 Ni0.571\", \"Co1 Cr0.429 Fe0.571 Mo0.286 Ni0.571\", \"Co1 Cr0.429 Fe0.571 Mo0.286 Ni0.571\", \"Co1 Cr0.429 Fe0.571 Mo0.286 Ni0.571\", \"Co1 Cr0.429 Fe0.571 Mo0.286 Ni0.571\", \"Co1 Cr1 Fe1 Ni1\", \"Co1 Cr1 Fe1 Mo0.083 Ni1\", \"Co1 Cr1 Fe1 Mo0.208 Ni1\", \"Co1 Cr1 Fe1 Mo0.304 Ni1\", \"Co1 Cr1 Fe1 Mo0.304 Ni1\", \"Co1 Cr1 Fe1 Mo0.304 Ni1\", \"Co1 Cr1 Fe1 Mo0.304 Ni1\", \"Co1 Cr1 Fe1 Mn1 Ni1\", \"C0.02 Co1 Cr1 Fe1 Mn1 Ni1\", \"Co1 Cr1 Fe1 Mn1 Ni1\", \"C0.02 Co1 Cr1 Fe1 Mn1 Ni1\", \"Co1 Cr1 Fe1 Ni1\", \"Al0.167 Co1 Cr1 Fe1 Ni1 Ti0.083\", \"Al0.167 Co1 Cr1 Fe1 Ni1 Ti0.083\", \"Al0.167 Co1 Cr1 Fe1 Ni1 Ti0.083\", \"Al0.242 Co0.515 Cr0.515 Cu0.242 Fe0.515 Ni1\", \"Al0.242 Co0.515 Cr0.515 Cu0.242 Fe0.515 Ni1\", \"Al0.242 Co0.515 Cr0.515 Cu0.242 Fe0.515 Ni1\", \"Al0.229 Co0.486 Cr0.4 Cu0.229 Fe0.486 Mo0.003 Ni1 Ti0.029 W0.003\", \"Al0.229 Co0.486 Cr0.4 Cu0.229 Fe0.486 Mo0.003 Ni1 Ti0.029 W0.003\", \"Al0.229 Co0.486 Cr0.4 Cu0.229 Fe0.486 Mo0.003 Ni1 Ti0.029 W0.003\", \"Al0.229 Co0.486 Cr0.4 Cu0.229 Fe0.486 Mo0.003 Ni1 Ti0.029 W0.003\", \"Al0.278 Co0.694 Cr0.222 Fe0.417 Ni1 Ti0.167\", \"Al0.278 Co0.694 Cr0.222 Fe0.417 Ni1 Ti0.167\", \"Al0.278 Co0.694 Cr0.222 Fe0.417 Ni1 Ti0.167\", \"Al0.278 Co0.694 Cr0.222 Fe0.417 Ni1 Ti0.167\", \"Al0.278 Co0.694 Cr0.222 Fe0.417 Ni1 Ti0.167\", \"Al0.278 Co0.694 Cr0.222 Fe0.417 Ni1 Ti0.167\", \"Al0.885 Cr1 Fe1 Ni1\", \"Al1 Cr1 Fe1 Ni1\", \"Al1 Cr0.889 Fe0.889 Ni0.889\", \"Al1 Cr0.828 Fe0.828 Ni0.828\", \"Al1 Cr0.767 Fe0.767 Ni0.767\", \"Al0.5 Cr0.5 Fe1 Ni1\", \"Al1 Co1 Cr1 Fe1 Ni1\", \"Al0.545 Cr0.545 Fe0.515 Ni1 Ti0.273\", \"Al0.545 Cr0.545 Fe0.515 Ni1 Ti0.273\", \"Cr1 Fe1 Ni1 V0.5 W1\", \"Al0.515 Cr0.515 Cu0.515 Fe0.515 Ni1\", \"Co1 Cr1 Fe1 Mn1 Ni1\", \"Co1 Cr1 Fe1 Mn1 Ni1 V0.263\", \"Co1 Cr1 Fe1 Mn1 Ni1 V0.5\", \"Co1 Cr1 Fe1 Mn1 Ni1 V0.765\", \"Co1 Cr1 Fe1 Mn1 Ni1 V1\", \"Al0.304 Co1 Cr1 Fe1 Ni1\", \"Co1 Cr1 Fe1 Ni1\", \"Al0.511 Co0.511 Cr0.511 Fe0.511 Ni1\", \"Al0.465 Co0.465 Cr0.465 Fe0.465 Ni1\", \"Al0.451 Co0.451 Cr0.451 Fe0.451 Ni1\", \"Al0.108 Co0.514 Cr0.514 Cu0.108 Fe0.514 Ni1\", \"Al0.108 Co0.514 Cr0.514 Cu0.108 Fe0.514 Ni1\", \"Al0.242 Co0.515 Cr0.515 Cu0.242 Fe0.515 Ni1\", \"Al0.242 Co0.515 Cr0.515 Cu0.242 Fe0.515 Ni1\", \"Al0.242 Co0.515 Cr0.515 Cu0.242 Fe0.515 Ni1\", \"Al0.5 Co1 Cr1 Cu1 Fe1 Ni1\", \"Al0.5 Co1 Cr1 Cu1 Fe1 Ni1\", \"Al0.5 Co1 Cr1 Cu1 Fe1 Ni1\", \"Al1 Co1 Cr1 Cu1 Fe1 Ni1\", \"Al1 Co1 Cr1 Cu1 Fe1 Ni1\", \"Al1 Co1 Cr1 Fe1 Ni1\", \"Al1 Co1 Cr1 Fe1 Ni1\", \"Al1 Co1 Cr1 Cu1 Fe1 Ni1\", \"Al1 Co1 Cr1 Cu1 Fe1 Ni1\", \"Al0.5 Co1 Cr1 Cu1 Fe1 Ni1\", \"Al0.5 Co1 Cr1 Cu1 Fe1 Ni1\", \"Co1 Cr1 Fe1 Ni1 Ti0.2\", \"Co1 Cr1 Fe1 Ni1 Ti0.2\", \"Al0.1 Co1 Cr1 Fe1 Ni1\", \"Al0.1 Co1 Cr1 Fe1 Ni1\", \"Al0.1 Co1 Cr1 Fe1 Ni1\", \"Al0.1 Co1 Cr1 Fe1 Ni1\", \"Co1 Cr1 Fe1 Mn1 Ni1\", \"Co1 Cr1 Fe1 Mn1 Ni1\", \"Al0.5 Cr0.5 Fe0.5 Ni1\", \"Al0.429 Cr0.476 Fe0.476 Ni1\", \"Al0.364 Cr0.455 Fe0.455 Ni1\", \"Al0.304 Cr0.435 Fe0.435 Ni1\", \"Al0.25 Cr0.417 Fe0.417 Ni1\", \"Co1 Cr1 Ni1\", \"Co1 Cr1 Ni1\", \"Co1 Cr1 Ni1\", \"Al0.476 Co0.476 Cr0.476 Fe0.476 Ni1\", \"Al0.476 Co0.476 Cr0.476 Fe0.476 Ni1\", \"Al0.476 Co0.476 Cr0.476 Fe0.476 Ni1\", \"Co1 Cr1 Fe1 Mn1 Ni1\", \"Co1 Cr1 Fe1 Mn1 Ni1\", \"Co1 Cr1 Fe1 Mn1 Ni1\", \"Nb1 Ta1 Ti1 V1\", \"Nb1 Ta1 Ti1 V1\", \"Nb1 Ta1 Ti1 V1\", \"Co1 Cr1 Fe1 Mn1 Ni1\", \"Co1 Cr1 Fe1 Mn1 Ni1\", \"Co1 Cr1 Fe1 Mn1 Ni1\", \"Al0.1 Co1 Cr1 Fe1 Mn1 Ni1\", \"Al0.3 Co1 Cr1 Fe1 Mn1 Ni1\", \"Al0.5 Co1 Cr1 Fe1 Mn1 Ni1\", \"Al0.7 Co1 Cr1 Fe1 Mn1 Ni1\", \"Al1 Co1 Cr1 Fe1 Mn1 Ni1\", \"Co1 Cr1 Fe1 Ni1\", \"Co1 Cr1 Fe1 Ni1\", \"Co1 Cr1 Fe1 Ni1\", \"Co1 Cr1 Fe1 Ni1\", \"Co1 Cr1 Fe1 Ni1\", \"Co1 Cr1 Fe1 Ni1\", \"Co1 Cr1 Fe1 Ni1\", \"Al0.3 Co1 Cr1 Fe1 Ni1\", \"Al0.6 Co1 Cr1 Fe1 Ni1\", \"Al0.9 Co1 Cr1 Fe1 Ni1\", \"Al0.9 Co1 Cr1 Fe1 Ni1 Ti0.5\", \"Co1 Cr1 Fe1 Mn1 Ni1\", \"Co1 Cr1 Fe1 Mn1 Mo0.042 Ni1\", \"Co1 Cr1 Fe1 Mn1 Mo0.087 Ni1\", \"Co1 Cr1 Fe1 Mn1 Mo0.136 Ni1\", \"Co1 Cr1 Fe1 Mn1 Mo0.19 Ni1\", \"Al0.3 Co1 Cr1 Fe1 Ni1\", \"Al0.3 Co1 Cr1 Fe1 Ni1\", \"Al0.3 Co1 Cr1 Fe1 Ni1\", \"Al0.3 Co1 Cr1 Fe1 Ni1\", \"Al0.3 Co1 Cr1 Fe1 Ni1\", \"Al1 Co1 Cr1 Ni1\", \"Co1 Cr1 Fe1 Mn1 Ni1\", \"C0.5 Co1 Cr1 Fe1 Mn1 Ni1\", \"C1 Co1 Cr1 Fe1 Mn1 Ni1\", \"Co1 Cr0.588 Fe0.176 Mo0.176 Ni1\", \"Co1 Cr0.588 Fe0.176 Mo0.176 Ni1\", \"Co1 Cr0.588 Fe0.176 Mo0.176 Ni1\", \"Co1 Cr0.588 Fe0.176 Mo0.176 Ni1\", \"Co1 Cr0.588 Fe0.176 Mo0.176 Ni1\", \"Co1 Cr0.588 Fe0.176 Mo0.176 Ni1\", \"Co1 Cr0.588 Fe0.176 Mo0.176 Ni1\", \"Co1 Cr1 Fe1 Mn1 Ni1\", \"Cr1 Cu1 Fe1 Mn1 Ni1\", \"Cr1 Cu1 Fe1 Mn1 Ni1\", \"Cr1 Cu1 Fe1 Mn1 Ni1\", \"Cr1 Cu1 Fe1 Mn1 Ni1\", \"Cr1 Cu1 Fe1 Mn1 Ni1\", \"Cr1 Cu1 Fe1 Mn1 Ni1\", \"Cr1 Mo1 Nb1 Ta1 V1 W1\", \"Cr1 Mo1 Nb1 Ta1 V1 W1\", \"Cr1 Mo1 Nb1 Ta1 V1 W1\", \"Cr1 Mo1 Nb1 Ta1 V1 W1\", \"Cr1 Mo1 Nb1 Ta1 V1 W1\", \"Co1 Cr1 Cu1 Fe1 Ni1\", \"Al0.5 Co1 Cr1 Cu1 Fe1 Ni1\", \"Al1 Co1 Cr1 Cu1 Fe1 Ni1\", \"Al1 Co0.667 Cr0.667 Cu0.667 Fe0.667 Ni0.667\", \"Al1 Co0.5 Cr0.5 Cu0.5 Fe0.5 Ni0.5\", \"Co1 Ni1 V1\", \"Co1 Ni1 V1\", \"Co1 Ni1 V1\", \"Co1 Ni1 V1\", \"Co1 Ni1 V1\", \"Al0.3 Co1 Cr1 Fe1 Ni1\", \"Al0.3 Co1 Cr1 Fe1 Ni1\", \"Al0.544 C0.001 Co0.69 Fe1 Ni0.69\", \"Hf1 Nb1 Ta1 Ti1 Zr1\", \"Co0.5 Cr0.5 Fe1 Ni1\", \"Co0.875 Cr0.625 Fe1 Ni1\", \"Co1 Cr0.556 Fe0.667 Ni0.667\", \"Co1 Cr0.455 Fe0.364 Ni0.364\", \"Co1 Cr0.385 Fe0.154 Ni0.154\", \"Hf1 Nb1 Ti1 Zr1\", \"Co1 Cr1 Fe1 Mn1 Ni1\", \"Co1 Cr1 Fe1 Mn1 Ni1\", \"Co1 Cr1 Fe1 Ni1\", \"Co1 Fe1 Ni1\", \"Co1 Cr1 Ni1\", \"Co1 Cr1 Ni1\", \"Co1 Cr1 Ni1\", \"Al1 Co0.5 Cr1 Fe0.147 Ni0.294\", \"Al1 Co0.298 Cr0.319 Cu0.106 Fe0.277 Ni0.128\", \"Al1 Co0.289 Cr0.158 Cu0.237 Fe0.816 Ni0.132\", \"Al1 Co0.278 Cr0.861 Cu0.167 Fe0.25 Ni0.222\", \"Al1 Co0.395 Cr0.349 Fe0.326 Ni0.256\", \"Al1 Co0.255 Cr0.255 Cu0.106 Fe0.277 Ni0.234\", \"Al1 Co0.442 Cr0.442 Fe0.256 Ni0.186\", \"Al1 Co0.256 Cr0.795 Cu0.128 Fe0.205 Ni0.179\", \"Al1 Co0.277 Cr0.277 Cu0.106 Fe0.255 Ni0.213\", \"Al1 Co0.465 Cr0.512 Fe0.186 Ni0.163\", \"Al1 Co0.298 Cr0.404 Cu0.106 Fe0.213 Ni0.106\", \"Al1 Co0.465 Cr0.442 Fe0.209 Ni0.209\", \"Al1 Co0.304 Cr0.5 Cu0.109 Fe0.152 Ni0.109\", \"Al1 Co0.318 Cr0.5 Cu0.114 Fe0.205 Ni0.136\", \"Al1 Co0.442 Cr0.558 Fe0.186 Ni0.14\", \"Al1 Co0.419 Cr0.558 Fe0.233 Ni0.116\", \"Al1 Co0.298 Cr0.426 Cu0.106 Fe0.191 Ni0.106\", \"Al1 Co0.558 Cr0.512 Fe0.116 Ni0.14\", \"Al1 Co0.581 Cr0.512 Fe0.116 Ni0.116\", \"Al1 Co0.558 Cr0.535 Fe0.116 Ni0.116\", \"Al1 Co0.535 Cr0.488 Fe0.186 Ni0.116\", \"Al1 Co0.255 Cr0.426 Cu0.106 Fe0.234 Ni0.106\", \"Al1 Co0.349 Cr0.395 Cu0.116 Fe0.326 Ni0.14\", \"Al1 Co0.238 Cr0.714 Cu0.119 Fe0.167 Ni0.143\", \"Al1 Co0.234 Cr0.468 Cu0.106 Fe0.213 Ni0.106\", \"Al1 Co0.277 Cr0.426 Cu0.106 Fe0.213 Ni0.106\", \"Al0.853 Co0.647 Cr1 Fe0.147 Ni0.294\", \"Al1 Co0.149 Cr0.34 Cu0.191 Fe0.34 Ni0.106\", \"Al1 Co0.326 Cr0.488 Cu0.116 Fe0.279 Ni0.116\", \"Al1 Co0.383 Cr0.319 Cu0.106 Fe0.213 Ni0.106\", \"Al1 Co0.426 Cr0.383 Cu0.106 Fe0.106 Ni0.106\", \"Al1 Co0.419 Cr0.465 Fe0.279 Ni0.163\", \"Al1 Co0.362 Cr0.34 Cu0.106 Fe0.213 Ni0.106\", \"Al1 Co0.558 Cr0.535 Fe0.116 Ni0.116\", \"Al1 Co0.581 Cr0.512 Fe0.116 Ni0.116\", \"Al1 Co0.457 Cr0.391 Cu0.109 Fe0.109 Ni0.109\", \"Al1 Co0.512 Cr0.512 Fe0.186 Ni0.116\", \"Al1 Co0.512 Cr0.535 Fe0.163 Ni0.116\", \"Al1 Co0.465 Cr0.488 Fe0.209 Ni0.163\", \"Al1 Co0.512 Cr0.581 Fe0.116 Ni0.116\", \"Al1 Co0.404 Cr0.404 Cu0.106 Fe0.106 Ni0.106\", \"Al1 Co0.674 Cr0.419 Fe0.116 Ni0.116\", \"Co0.986 Cr0.952 Fe0.933 Mn0.914 Ni1\", \"Co0.986 Cr0.952 Fe0.933 Mn0.914 Ni1\", \"Co0.986 Cr0.952 Fe0.933 Mn0.914 Ni1\", \"Co0.986 Cr0.952 Fe0.933 Mn0.914 Ni1\", \"Co0.986 Cr0.952 Fe0.933 Mn0.914 Ni1\", \"Co0.986 Cr0.952 Fe0.933 Mn0.914 Ni1\", \"Al0.4 Hf0.6 Nb1 Ta1 Ti1 Zr1\", \"Al1 Cr1 Mo1 Ti1\", \"Al1 Mo1 Nb1 Ti1\", \"Hf1 Mo0.5 Nb1 Ti1 V0.5\", \"Hf1 Mo1 Nb1 Ta1 Ti1 Zr1\", \"Hf1 Mo1 Nb1 Ti1 Zr1\", \"Hf1 Mo1 Ta1 Ti1 Zr1\", \"Hf1 Nb1 Ta1 Ti1 Zr1\", \"Mo1 Nb1 Ta1 Ti1 V1 W1\", \"Mo1 Nb1 Ta1 Ti1 W1\", \"Mo1 Nb1 Ta1 V1 W1\", \"Mo1 Nb1 Ta1 W1\", \"Mo1 Nb1 Ti1\", \"Nb1 Ta0.3 Ti1 Zr1\", \"Nb1 Ti1 Zr1\", \"Al1 Cr1 Mo1 Nb1 Ti1\", \"Al0.24 Nb1 Ti1 V1 Zr1\", \"Al1 Mo0.5 Nb1 Ta0.5 Ti1 Zr1\", \"Cr1 Nb0.333 Ti0.333 Zr0.333\", \"Cr1 Mo0.5 Nb1 Ta0.5 Ti1 Zr1\", \"Hf1 Mo0.5 Nb1 Si0.3 Ti1 V0.5\", \"Hf1 Mo0.5 Nb1 Si0.5 Ti1 V0.5\", \"Hf1 Mo0.5 Nb1 Si0.7 Ti1 V0.5\", \"Mo1 Nb1 Ti1 V1 Zr1\", \"Nb1 Re0.3 Ti1 Zr1\", \"Nb1 Ta1 Ti1 V1 Zr1\", \"Al0.4 Hf0.6 Nb1 Ta1 Ti1 Zr1\", \"Al1 Cr1 Mo1 Ti1\", \"Al1 Mo1 Nb1 Ti1\", \"Hf1 Mo0.5 Nb1 Ti1 V0.5\", \"Hf1 Mo1 Nb1 Ta1 Ti1 Zr1\", \"Hf1 Mo1 Nb1 Ti1 Zr1\", \"Hf1 Mo1 Ta1 Ti1 Zr1\", \"Hf1 Nb1 Ta1 Ti1 Zr1\", \"Mo1 Nb1 Ta1 Ti1 V1 W1\", \"Mo1 Nb1 Ta1 Ti1 W1\", \"Mo1 Nb1 Ta1 V1 W1\", \"Mo1 Nb1 Ta1 W1\", \"Mo1 Nb1 Ti1\", \"Nb1 Ta0.3 Ti1 Zr1\", \"Nb1 Ti1 Zr1\", \"Al1 Cr1 Mo1 Nb1 Ti1\", \"Al0.24 Nb1 Ti1 V1 Zr1\", \"Al1 Mo0.5 Nb1 Ta0.5 Ti1 Zr1\", \"Cr1 Nb0.333 Ti0.333 Zr0.333\", \"Cr1 Mo0.5 Nb1 Ta0.5 Ti1 Zr1\", \"Hf1 Mo0.5 Nb1 Si0.3 Ti1 V0.5\", \"Hf1 Mo0.5 Nb1 Si0.5 Ti1 V0.5\", \"Hf1 Mo0.5 Nb1 Si0.7 Ti1 V0.5\", \"Mo1 Nb1 Ti1 V1 Zr1\", \"Nb1 Re0.3 Ti1 Zr1\", \"Nb1 Ta1 Ti1 V1 Zr1\", \"Al0.4 Hf0.6 Nb1 Ta1 Ti1 Zr1\", \"Al1 Cr1 Mo1 Ti1\", \"Al1 Mo1 Nb1 Ti1\", \"Hf1 Mo0.5 Nb1 Ti1 V0.5\", \"Hf1 Mo1 Nb1 Ta1 Ti1 Zr1\", \"Hf1 Mo1 Nb1 Ti1 Zr1\", \"Hf1 Mo1 Ta1 Ti1 Zr1\", \"Hf1 Nb1 Ta1 Ti1 Zr1\", \"Mo1 Nb1 Ta1 Ti1 V1 W1\", \"Mo1 Nb1 Ta1 Ti1 W1\", \"Mo1 Nb1 Ta1 V1 W1\", \"Mo1 Nb1 Ta1 W1\", \"Mo1 Nb1 Ti1\", \"Nb1 Ta0.3 Ti1 Zr1\", \"Nb1 Ti1 Zr1\", \"Al1 Cr1 Mo1 Nb1 Ti1\", \"Al0.24 Nb1 Ti1 V1 Zr1\", \"Al1 Mo0.5 Nb1 Ta0.5 Ti1 Zr1\", \"Cr1 Nb0.333 Ti0.333 Zr0.333\", \"Cr1 Mo0.5 Nb1 Ta0.5 Ti1 Zr1\", \"Hf1 Mo0.5 Nb1 Si0.3 Ti1 V0.5\", \"Hf1 Mo0.5 Nb1 Si0.5 Ti1 V0.5\", \"Hf1 Mo0.5 Nb1 Si0.7 Ti1 V0.5\", \"Mo1 Nb1 Ti1 V1 Zr1\", \"Nb1 Re0.3 Ti1 Zr1\", \"Nb1 Ta1 Ti1 V1 Zr1\", \"Co1 Cr1 Fe1 Mn1 Ni1\", \"Hf1 Nb1 Ta1 Ti1 Zr1\", \"Hf1 Nb1 Ta1 Ti1 Zr1\", \"Hf1 Nb1 Ta1 Ti1 Zr1\", \"Co1 Fe1 Ni1\", \"Co1 Fe1 Ni1\", \"Co1 Fe1 Ni1\", \"Co1 Fe1 Ni1\", \"Co1 Cr1 Ni1\", \"Co1 Cr1 Ni1\", \"Co1 Cr1 Ni1\", \"Cr0.286 Mo0.476 Nb1 Ta0.024 Ti0.31 V0.286\", \"Hf1 Mo1 Nb1 Ti1 Zr1\", \"Co1 Fe1 Ni1\", \"Co1 Cr0.053 Ni1\", \"Fe1 Mn1 Ni1\", \"Fe1 Mn1 Ni1\", \"Fe1 Mn1 Ni1\", \"Fe1 Mn1 Ni1\", \"Fe1 Mn1 Ni1\", \"Fe1 Mn1 Ni1\", \"Co1 Mn1 Ni1\", \"Co1 Mn1 Ni1\", \"Co1 Mn1 Ni1\", \"Co1 Mn1 Ni1\", \"Co1 Cr0.25 Ni1\", \"Co1 Cr0.25 Ni1\", \"Co1 Cr0.25 Ni1\", \"Co1 Cr0.25 Ni1\", \"Co1 Cr1 Fe1 Ni1\", \"Co1 Cr1 Fe1 Ni1\", \"Co1 Cr1 Fe1 Ni1\", \"Co1 Cr1 Fe1 Ni1\", \"Co1 Cr1 Fe1 Ni1\", \"Co0.25 Cr1 Ni1\", \"Co0.25 Cr1 Ni1\", \"Co0.25 Cr1 Ni1\", \"Co0.25 Cr1 Ni1\", \"Al1 Co1 Ni1 Ti1\", \"Al1 Fe1 Ni1 Ti1\", \"Al1 Co1 Fe1 Ni1 Ti1\", \"Al1 Cr1 Cu1 Fe1 Ni1\", \"Al1 Cr1 Cu1 Fe1 Ni1\", \"Al1 Cr1 Cu1 Fe1 Ni1\", \"Al1 Cr1 Cu1 Fe1 Ni1\", \"Al1 Cr1 Cu1 Fe1 Ni1\", \"Al1 Cr1 Cu1 Fe1 Ni1\", \"Al1 Cr1 Cu1 Fe1 Ni1\", \"Al1 Cr1 Cu1 Fe1 Ni1\", \"Co1 Cr1 Fe1 Mn1 Ni1\", \"Co1 Cr1 Fe1 Mn1 Ni1\", \"Co1 Cr1 Fe1 Mn1 Ni1\", \"Co1 Cr1 Fe1 Mn1 Ni1\", \"Co1 Cr1 Fe1 Mn1 Ni1\", \"Co1 Cr1 Fe1 Mn1 Ni1\", \"Co1 Cr1 Fe1 Mn1 Ni1\", \"Co1 Cr1 Fe1 Mn1 Ni1\", \"Co0.5 Fe0.5 Mo0.1 Ni1 V0.25\", \"Co0.5 Fe0.5 Mo0.1 Ni1 V0.25\", \"Co0.5 Fe0.5 Mo0.1 Ni1 V0.25\", \"Co0.5 Fe0.5 Mo0.1 Ni1 V0.25\", \"Co0.5 Fe0.5 Mo0.1 Ni1 V0.25\", \"Co0.5 Fe0.5 Mo0.1 Ni1 V0.25\", \"Al0.3 Co1 Cr1 Fe1 Ni1\", \"Al0.3 Co1 Cr1 Fe1 Ni1\", \"Al0.3 Co1 Cr1 Fe1 Ni1\", \"Al1 Co1 Cr1 Fe1 Ni1\", \"Al1 Co1 Cr1 Fe1 Ni1\", \"Co0.318 Cr0.227 Fe1 Mo0.091 Ni0.182\", \"Co0.327 Cr0.227 Fe1 Mo0.136 Ni0.127\", \"Co0.318 Cr0.227 Fe1 Mo0.091 Ni0.182\", \"Co0.327 Cr0.227 Fe1 Mo0.136 Ni0.127\", \"Co0.318 Cr0.227 Fe1 Mo0.091 Ni0.182\", \"Co0.327 Cr0.227 Fe1 Mo0.136 Ni0.127\", \"Co0.318 Cr0.227 Fe1 Mo0.091 Ni0.182\", \"Co0.327 Cr0.227 Fe1 Mo0.136 Ni0.127\", \"Co1 Cr1 Fe1 Mn1 Ni1\", \"Co1 Cr1 Fe1 Mn1 Ni1\", \"Co1 Cr1 Fe1 Mn1 Ni1\", \"Cr1 Cu1 Fe1 Mn1 Ni1\", \"Cr1 Cu1 Fe1 Mn1 Ni1\", \"Cr1 Cu1 Fe1 Mn1 Ni1\", \"Cr1 Cu1 Fe1 Mn1 Ni1\", \"Cr1 Cu1 Fe1 Mn1 Ni1\", \"Cr1 Cu1 Fe1 Mn1 Ni1\", \"Cr1 Cu1 Fe1 Mn1 Ni1\", \"Cr1 Cu1 Fe1 Mn1 Ni1\", \"Cr1 Cu1 Fe1 Mn1 Ni1\", \"Mo1 Nb1 Re0.5 W1\", \"C0.2 Mo1 Nb1 Re0.5 Ta0.2 W1\", \"C0.4 Mo1 Nb1 Re0.5 Ta0.4 W1\", \"C0.5 Mo1 Nb1 Re0.5 Ta0.5 W1\", \"C0.6 Mo1 Nb1 Re0.5 Ta0.6 W1\", \"Al0.278 Co0.694 Cr0.222 Fe0.417 Ni1 Ti0.167\", \"Al0.278 Co0.694 Cr0.222 Fe0.417 Ni1 Ti0.167\", \"Al0.278 Co0.694 Cr0.222 Fe0.417 Ni1 Ti0.167\", \"Al0.278 Co0.694 Cr0.222 Fe0.417 Ni1 Ti0.167\", \"Al0.278 Co0.694 Cr0.222 Fe0.417 Ni1 Ti0.167\", \"Al0.278 Co0.694 Cr0.222 Fe0.417 Ni1 Ti0.167\", \"Al0.278 Co0.694 Cr0.222 Fe0.417 Ni1 Ti0.167\", \"Al0.278 Co0.694 Cr0.222 Fe0.417 Ni1 Ti0.167\", \"Al0.278 Co0.694 Cr0.222 Fe0.417 Ni1 Ti0.167\", \"Al0.278 Co0.694 Cr0.222 Fe0.417 Ni1 Ti0.167\", \"Co0.286 Cr0.429 Fe1 Mn0.143 Ni0.714 V0.286\", \"Co0.286 Cr0.429 Fe1 Mn0.143 Ni0.714 V0.286\", \"Co0.286 Cr0.429 Fe1 Mn0.143 Ni0.714 V0.286\", \"Co0.286 Cr0.429 Fe1 Mn0.143 Ni0.714 V0.286\", \"Co0.286 Cr0.429 Fe1 Mn0.143 Ni0.714 V0.286\", \"Co1 Cr1 Fe1 Mn1 Ni1\", \"Al1 Co0.5 Cr0.5 Fe0.5 Ni0.5\", \"Al1 Co0.556 Cr0.556 Fe0.556 Ni0.556 Ti0.111\", \"Al1 Co0.667 Cr0.667 Fe0.667 Ni0.667 Ti0.333\", \"Al1 Co0.833 Cr0.833 Fe0.833 Ni0.833 Ti0.667\", \"Al1 Co1 Cr1 Fe1 Ni1 Ti1\", \"Al0.667 Co0.833 Cr0.833 Fe0.833 Ni0.833 Ti1\", \"Al1 Co1 Cr1 Fe1 Ni1\", \"Al0.8 Co1 Cr1 Fe1 Ni1 Ti0.2\", \"Al0.5 Co1 Cr1 Fe1 Ni1 Ti0.5\", \"Al1 Co1 Cu1 Fe1 Ni1\", \"Al1 Co1 Cr1 Cu1 Fe1 Ni1\", \"Al1 Co1 Cu1 Fe1 Ni1 Ti1\", \"Al1 Co1 Cr1 Cu1 Fe1 Ni1 Ti1\", \"Al1 Cr1 Fe1 Ni1\", \"Al1 Co0.25 Cr1 Fe1 Ni1\", \"Al1 Co0.5 Cr1 Fe1 Ni1\", \"Al1 Co0.75 Cr1 Fe1 Ni1\", \"Al1 Co1 Cr1 Fe1 Ni1\", \"Co1 Cr1 Fe1 Mn1\", \"Al1 Co1 Cr1 Fe1 Ni1\", \"Al1 Co1 Cr1 Fe1 Ni1\", \"Al1 Co1 Cr1 Fe1 Ni1\", \"Al1 Co1 Cr1 Fe1 Ni1\", \"Al1 Co1 Cr1 Fe1 Ni1\", \"Hf1 Nb1 Ta1 Ti1 W1 Zr1\", \"Hf1 Mo1 Nb1 Ta1 Ti1 W1 Zr1\", \"Hf1 Nb1 Ta1 Ti1 W1 Zr1\", \"Hf1 Mo1 Nb1 Ta1 Ti1 W1 Zr1\", \"Hf1 Nb1 Ta1 Ti1 W1 Zr1\", \"Hf1 Mo1 Nb1 Ta1 Ti1 W1 Zr1\", \"Hf1 Nb1 Ta1 Ti1 W1 Zr1\", \"Hf1 Mo1 Nb1 Ta1 Ti1 W1 Zr1\", \"Nb1 Ti1 Zr1\", \"Hf1 Nb1 Ti1 Zr1\", \"Nb1 Ti1 Zr1\", \"Hf1 Nb1 Ti1 Zr1\", \"Nb1 Ti1 Zr1\", \"Hf1 Nb1 Ti1 Zr1\", \"Nb1 Ti1 Zr1\", \"Hf1 Nb1 Ti1 Zr1\", \"Co1 Cr1 Fe1 Ni1\", \"Co1 Cr1 Fe1 Ni1 W0.2\", \"Co1 Cr1 Fe1 Ni1 W0.5\", \"Cr1 Fe1 Mo1 Nb1 V1\", \"Cr1 Fe1 Mo1 Nb1 Ti1\", \"Fe1 Mo1 Nb1 Ti1 V1\", \"Al0.15 Cr0.5 Cu0.25 Fe0.5 Ni1\", \"Al0.15 Cr0.5 Cu0.25 Fe0.5 Ni1\", \"Al0.15 Cr0.5 Cu0.25 Fe0.5 Ni1\", \"Al0.15 Cr0.5 Cu0.25 Fe0.5 Ni1\", \"Hf1 Nb1 Ta1 Ti1 Zr1\", \"Hf1 Nb1 Ta1 Ti1 Zr1\", \"Hf1 Nb1 Ta1 Ti1 Zr1\", \"Hf1 Nb1 Ta1 Ti1 Zr1\", \"Hf1 Nb1 Ta1 Ti1 Zr1\", \"Hf1 Nb1 Ta1 Ti1 Zr1\", \"Hf1 Nb1 Ta1 Ti1 Zr1\", \"Hf1 Nb1 Ta1 Ti1 Zr1\", \"Hf1 Nb1 Ta1 Ti1 Zr1\", \"Hf1 Nb1 Ta1 Ti1 Zr1\", \"Hf1 Nb1 Ta1 Ti1 Zr1\", \"Hf1 Nb1 Ta1 Ti1 Zr1\", \"Hf1 Nb1 Ta1 Ti1 Zr1\", \"Hf1 Nb1 Ta1 Ti1 Zr1\", \"Hf1 Nb1 Ta1 Ti1 Zr1\", \"Hf1 Nb1 Ta1 Ti1 Zr1\", \"Hf1 Nb1 Ta1 Ti1 Zr1\", \"Hf1 Nb1 Ta1 Ti1 Zr1\", \"Hf1 Nb1 Ta1 Ti1 Zr1\", \"Hf1 Nb1 Ta1 Ti1 Zr1\", \"Hf1 Nb1 Ta1 Ti1 Zr1\", \"Hf1 Nb1 Ta1 Ti1 Zr1\", \"Hf1 Nb1 Ta1 Ti1 Zr1\", \"Hf1 Nb1 Ta1 Ti1 Zr1\", \"Hf1 Nb1 Ta1 Ti1 Zr1\", \"Hf1 Nb1 Ta1 Ti1 Zr1\", \"Hf1 Nb1 Ta1 Ti1 Zr1\", \"Hf1 Nb1 Ta1 Ti1 Zr1\", \"Hf1 Nb1 Ta1 Ti1 Zr1\", \"Hf1 Nb1 Ta1 Ti1 Zr1\", \"Hf1 Nb1 Ta1 Ti1 Zr1\", \"Hf1 Nb1 Ta1 Ti1 Zr1\", \"Hf1 Nb1 Ta1 Ti1 Zr1\", \"Hf1 Nb1 Ta1 Ti1 Zr1\", \"Hf1 Nb1 Ta1 Ti1 Zr1\", \"Hf1 Nb1 Ta1 Ti1 Zr1\", \"Hf1 Nb1 Ta1 Ti1 Zr1\", \"Hf1 Nb1 Ta1 Ti1 Zr1\", \"Hf1 Nb1 Ta1 Ti1 Zr1\", \"Hf1 Nb1 Ta1 Ti1 Zr1\", \"Hf1 Nb1 Ta1 Ti1 Zr1\", \"Hf1 Nb1 Ta1 Ti1 Zr1\", \"Co1 Cr1 Fe1 Ni1 Ti0.3\", \"Co1 Cr1 Fe1 Ni1 Ti0.3\", \"Co0.333 Cr0.667 Fe0.667 Ni1 Ti0.2\", \"Co0.333 Cr0.667 Fe0.667 Ni1 Ti0.2\", \"Cr0.5 Fe0.5 Ni1 Ti0.15\", \"Cr0.5 Fe0.5 Ni1 Ti0.15\", \"Nb1 Ta1 Ti1\", \"Nb1 Ta1 Ti1\", \"Nb1 Ta1 Ti1\", \"Nb1 Ta1 Ti1\", \"Nb1 Ta1 Ti1\", \"Nb1 Ta1 Ti1\", \"Nb1 Ta1 Ti1\", \"Nb1 Ta1 Ti1\", \"Al1 Nb1 Ta1 Ti1\", \"Al1 Nb1 Ta1 Ti1\", \"Al1 Nb1 Ta1 Ti1\", \"Mo1 Nb1 Ta1 Ti1\", \"Mo1 Nb1 Ta1 Ti1\", \"Mo1 Nb1 Ta1 Ti1\", \"Mo1 Nb1 Ta1 Ti1\", \"Mo1 Nb1 Ta1 Ti1\", \"Mo1 Nb1 Ta1 Ti1\", \"Mo1 Nb1 Ta1 Ti1\", \"Mo1 Nb1 Ta1 Ti1\", \"Mo1 Nb1 Ta1 Ti1\", \"Nb1 Ta1 Ti1 W1\", \"Nb1 Ta1 Ti1 W1\", \"Nb1 Ta1 Ti1 W1\", \"Nb1 Ta1 Ti1 W1\", \"Nb1 Ta1 Ti1 W1\", \"Nb1 Ta1 Ti1 W1\", \"Nb1 Ta1 Ti1 W1\", \"Nb1 Ta1 Ti1 W1\", \"Hf1 Nb1 Ta1 Ti1\", \"Hf1 Nb1 Ta1 Ti1\", \"Hf1 Nb1 Ta1 Ti1\", \"Hf1 Nb1 Ta1 Ti1\", \"Cr1 Mo1 Nb1 Ti1\", \"Cr1 Mo1 Nb1 Ti1\", \"Cr1 Mo1 Nb1 Ti1\", \"Cr1 Mo1 Nb1 Ti1\", \"Cr1 Mo1 Nb1 Ti1\", \"Cr1 Mo1 Ta1 Ti1\", \"Cr1 Mo1 Ta1 Ti1\", \"Cr1 Mo1 Ta1 Ti1\", \"Cr1 Mo1 Ta1 Ti1\", \"Cr1 Mo1 Ta1 Ti1\", \"Cr1 Mo1 Ta1 Ti1\", \"Cr1 Mo1 Ta1 Ti1\", \"Cr1 Mo1 Ta1 Ti1\", \"Hf0.25 Ti1 V0.5 Zr0.5\", \"Hf0.25 Ti1 V0.5 Zr0.5\", \"Hf0.25 Ti1 V0.5 Zr0.5\", \"Hf0.25 Nb0.125 Ti1 V0.5 Zr0.5\", \"Hf0.25 Nb0.25 Ti1 V0.5 Zr0.5\", \"Hf0.25 Nb0.25 Ti1 V0.5 Zr0.5\", \"Hf0.25 Nb0.25 Ti1 V0.5 Zr0.5\", \"Hf0.25 Nb0.375 Ti1 V0.5 Zr0.5\", \"Hf0.25 Nb0.5 Ti1 V0.5 Zr0.5\", \"Hf0.25 Nb0.5 Ti1 V0.5 Zr0.5\", \"Hf0.25 Nb0.5 Ti1 V0.5 Zr0.5\", \"Cr1 Cu1 Fe1 Mn1 Ni1\", \"Cr1 Cu1 Fe1 Mn1 Ni1\", \"Cr1 Cu1 Fe1 Mn1 Ni1\", \"Cr1 Cu1 Fe1 Mn1 Ni1\", \"Cr1 Cu1 Fe1 Mn1 Ni1\", \"Cr1 Cu1 Fe1 Mn1 Ni1\", \"Co0.476 Cr0.476 Fe0.476 Nb0.095 Ni1\", \"Co0.476 Cr0.476 Fe0.476 Nb0.19 Ni1\", \"Co0.476 Cr0.476 Fe0.476 Nb0.095 Ni1\", \"Co0.476 Cr0.476 Fe0.476 Nb0.19 Ni1\", \"C0.053 Co1 Cr1 Fe1 Mn1 Ni1\", \"C0.053 Co1 Cr1 Fe1 Mn1 Ni1\", \"Al1 Co1 Cr1 Fe1 Ni1\", \"Al1 Co1 Cr1 Fe1 Ni1\", \"Al1 Co1 Cr1 Fe1 Ni1\", \"Cr1 Mo1 Nb1 Ti1 W1\", \"Cr1 Mo1 Nb1 Ti1 W1\", \"Cr1 Mo1 Nb1 Ti1 W1\", \"Cr1 Mo1 Nb1 Ti1 W1\", \"Cr1 Mo1 Nb1 Ti1 W1\", \"Al1 Co1 Cr1 Fe1 Ni1\", \"Al1 Co1 Cr1 Fe1 Ni1\", \"Al1 Co1 Cr1 Fe1 Ni1\", \"Al1 Co1 Cr1 Fe1 Ni1\", \"Al1 Co1 Cr1 Fe1 Ni1\", \"Al1 Co1 Cr1 Fe1 Ni1\", \"Al1 Co1 Cr1 Fe1 Ni1\", \"Al1 Co1 Cr1 Fe1 Ni1\", \"Al1 Co1 Cr1 Fe1 Ni1\", \"Al1 Co1 Cr1 Fe1 Ni1\", \"Cr1 Fe1 Mn1 Ni1\", \"Co0.25 Cr0.25 Fe1 Mn1\", \"Co0.25 Cr0.25 Fe1 Mn1\", \"Co0.25 Cr0.25 Fe1 Mn1\", \"Co0.25 Cr0.25 Fe1 Mn1\", \"Co0.25 Cr0.25 Fe1 Mn1\", \"Co0.25 Cr0.25 Fe1 Mn1\", \"Co1 Cr1 Fe1 Mn1 Ni1\", \"C0.041 Co1 Cr1 Fe1 Mn1 Nb0.041 Ni1\", \"Al0.5 Nb1 Ta0.5 Ti1 Zr1\", \"Al0.5 Nb1 Ta0.5 Ti1 Zr1\", \"Al0.5 Nb1 Ta0.5 Ti1 Zr1\", \"Al0.5 Nb1 Ta0.5 Ti1 Zr1\", \"Al0.5 Nb1 Ta0.5 Ti1 Zr1\", \"Al0.5 Nb1 Ta0.5 Ti1 Zr1\", \"Mo1 Nb1 Ta1 W1\", \"Mo1 Nb1 Si0.25 Ta1 W1\", \"Mo1 Nb1 Si0.5 Ta1 W1\", \"Mo1 Nb1 Si0.75 Ta1 W1\", \"Mo1 Nb1 Ta1 W1\", \"Mo1 Nb1 Si0.25 Ta1 W1\", \"Mo1 Nb1 Si0.5 Ta1 W1\", \"Mo1 Nb1 Si0.75 Ta1 W1\", \"Mo1 Nb1 Ta1 W1\", \"Mo1 Nb1 Si0.25 Ta1 W1\", \"Mo1 Nb1 Si0.5 Ta1 W1\", \"Mo1 Nb1 Si0.75 Ta1 W1\", \"Mo1 Nb1 Ta1 W1\", \"Mo1 Nb1 Si0.25 Ta1 W1\", \"Mo1 Nb1 Si0.5 Ta1 W1\", \"Mo1 Nb1 Si0.75 Ta1 W1\", \"Mo1 Nb1 Ta1 W1\", \"Mo1 Nb1 Si0.25 Ta1 W1\", \"Mo1 Nb1 Si0.5 Ta1 W1\", \"Mo1 Nb1 Si0.75 Ta1 W1\", \"Mo1 Nb1 Si0.75 Ta1 W1\", \"Co1 Cr1 Fe1 Mn1 Ni1\", \"Co1 Cr1 Fe1 Mn1 Ni1\", \"Co1 Cr1 Fe1 Mn1 Ni1\", \"Co1 Cr1 Fe1 Mn1 Ni1\", \"Co1 Cr1 Fe1 Mn1 Ni1\", \"Co1 Cr1 Fe1 Mn1 Ni1\", \"Co1 Cr1 Fe1 Mn1 Ni1\", \"Co1 Cr1 Fe1 Mn1 Ni1\", \"Co1 Cr1 Fe1 Mn1 Ni1\", \"Co1 Cr1 Fe1 Mn1 Ni1\", \"Co1 Cr1 Fe1 Mn1 Ni1\", \"C0.1 Co1 Cr1 Fe1 Mn1 Ni1 Ti0.1\", \"C0.1 Co1 Cr1 Fe1 Mn1 Ni1 Ti0.1\", \"C0.1 Co1 Cr1 Fe1 Mn1 Ni1 Ti0.1\", \"C0.1 Co1 Cr1 Fe1 Mn1 Ni1 Ti0.1\", \"Co1 Cr1 Fe1 Ni1\", \"Al0.5 Co1 Cr1 Fe1 Ni1\", \"Al1 Co1 Cr1 Fe1 Ni1\", \"Al1 Co0.5 Cr0.5 Fe0.5 Ni0.5\", \"Al0.5 Co1 Fe1 Ni1 Ti0.5\", \"Al0.5 Co1 Cr1 Fe1 Ni1 Ti0.5\", \"Al0.5 Co1 Cr1 Fe1 Mn1 Ni1\", \"Al0.5 Co1 Cr1 Fe1 Mn1 Ni1 Ta0.2\", \"Al0.5 Co1 Cr1 Fe1 Mn1 Ni1 Ta0.4\", \"Al0.55 Co1 Cr1 Fe1 Mn1 Ni1 Ta0.6\", \"Co1 Cr1 Fe1 Mn1 Ni1\", \"Co1 Cr1 Fe1 Mn1 Ni1 Ta0.2\", \"Co1 Cr1 Fe1 Mn1 Ni1 Ta0.4\", \"Co1 Cr1 Fe1 Mn1 Ni1 Ta0.6\", \"Al0.3 Co1 Cr1 Fe1 Ni1\", \"Al0.3 Co1 Cr1 Fe1 Mo0.1 Ni1\", \"Al0.143 Cr0.343 Fe1 Mn0.8 Ni0.571\", \"Al0.286 Cr0.343 Fe1 Mn0.657 Ni0.571\", \"Al0.143 Cr0.343 Fe1 Mn0.8 Ni0.571\", \"Al0.286 Cr0.343 Fe1 Mn0.657 Ni0.571\", \"Co1 Cu1 Fe1 Mn1 Ni1\", \"Co1 Cu1 Fe1 Mn1 Ni1\", \"Co1 Cu1 Fe1 Mn1 Ni1\", \"Co1 Cr1 Fe1 Mo0.15 Ni1\", \"Co1 Cr1 Fe1 Mo0.15 Ni1\", \"Co1 Cr1 Fe1 Mo0.15 Ni1\", \"Co1 Cr1 Fe1 Mo0.15 Ni1\", \"Co1 Cr1 Fe1 Mo0.15 Ni1\", \"Co1 Cr1 Fe1 Mo0.15 Ni1\", \"Co1 Cr1 Fe1 Mo0.15 Ni1\", \"Co0.139 Cr0.446 Cu0.99 Ni1 Si0.277\", \"Co0.139 Cr0.446 Cu0.99 Ni1 Si0.277\", \"Co0.139 Cr0.446 Cu0.99 Ni1 Si0.277\", \"Al1 Co1 Cr0.091 Nb0.727 W0.212\", \"Co1 Cr0.917 Ni1 Ta0.5 Ti0.75\", \"Al0.947 Co0.158 Mo1 Ni0.289 W0.237\", \"Co0.043 Nb0.638 Ni1 Ta0.255 Ti0.191\", \"Co0.273 Cr0.477 Nb0.477 Ni0.045 Ti1\", \"Co1 Cr0.487 Nb0.231 Ta0.026 Ti0.821\", \"Co0.564 Nb0.795 Ta0.103 Ti1 W0.103\", \"Al1 Co1 Cu1 Fe1 Ni0.5\", \"Al1 Co1 Cu1 Fe1 Ni0.8\", \"Al1 Co1 Cu1 Fe1 Ni1\", \"Al0.667 Co0.667 Cu0.667 Fe0.667 Ni1\", \"Al0.5 Co0.5 Cu0.5 Fe0.5 Ni1\", \"Al0.333 Co0.333 Cu0.333 Fe0.333 Ni1\", \"Al0.5 Cr1 Fe1 Mn1 Ni1\", \"Al0.6 Cr1 Fe1 Mn1 Ni1\", \"Al0.7 Cr1 Fe1 Mn1 Ni1\", \"Al0.8 Cr1 Fe1 Mn1 Ni1\", \"Co1 Cr0.2 Fe1 Ni1 Si0.2\", \"Co1 Cr0.2 Fe1 Ni1 Si0.2\", \"Co1 Cr0.2 Fe1 Ni1 Si0.2\", \"Al1 Cu0.077 Fe0.077 Mg0.077 Si0.231 Zn0.077\", \"Al1 Cu0.077 Mg0.077 Ni0.077 Si0.231 Zn0.077\", \"Al1 Cr0.077 Cu0.077 Mg0.077 Si0.231 Zn0.077\", \"Al1 Cu0.077 Mg0.077 Mn0.077 Si0.231 Zn0.077\", \"Al1 Cu0.077 Mg0.077 Si0.231 Zn0.077 Zr0.077\", \"Co1 Cr1 Fe1 Mo0.2 Ni1\", \"Co1 Cr1 Fe1 Mo0.2 Ni1\", \"Co1 Cr1 Fe1 Mo0.2 Ni1\", \"Co1 Cr1 Fe1 Mo0.2 Ni1\", \"Co1 Cr1 Fe1 Mo0.2 Ni1\", \"Co1 Cr1 Fe1 Mo0.2 Ni1\", \"Co1 Cr1 Fe1 Mo0.2 Ni1\", \"Co1 Cr1 Fe1 Mo0.2 Ni1\", \"Co1 Cr1 Fe1 Mo0.2 Ni1\", \"Co1 Cr1 Fe1 Mo0.2 Ni1\", \"Co1 Cr1 Fe1 Mo0.2 Ni1\", \"Al0.569 Ca0.143 Li0.857 Mg1 Si0.286 Y0.003\", \"Al0.429 Ca0.286 Li1 Mg1 Si0.143\", \"Al0.312 Ca0.021 Li0.792 Mg1 Si0.021\", \"Al0.333 Ca0.011 Li0.844 Mg1 Si0.033\", \"Al0.333 Ca0.011 Li0.867 Mg1 Si0.011\", \"Co1 Cr1 Fe1 Ni1 Pd1\", \"Co1 Cr1 Fe1 Mn0.2 Ni1 Pd1\", \"Co1 Cr1 Fe1 Mn0.4 Ni1 Pd1\", \"Co1 Cr1 Fe1 Mn0.6 Ni1 Pd1\", \"Co1 Cr1 Fe1 Mn0.8 Ni1 Pd1\", \"Al0.3 Co1 Cr1 Fe1 Mn1 Ni1\", \"Cr1 Fe1 Ni1 Ti0.2\", \"Cr1 Fe1 Ni1 Ti0.3\", \"Cr1 Fe1 Ni1 Ti0.4\", \"Cr1 Fe1 Ni1 Ti0.5\", \"Cr1 Fe1 Ni1 Ti0.6\", \"Al1 Cr1 Cu1 Fe1 Mn1\", \"Al1 Cr1 Cu1 Fe1 Mn1 W0.05\", \"Al1 Cr1 Cu1 Fe1 Mn1 W0.1\", \"Al1 Cr1 Cu1 Fe1 Mn1 W0.5\", \"Co1 Cu1 Fe1 Nb0.5 Ni1\", \"Co0.2 Cu0.2 Fe0.2 Nb1 Ni0.2\", \"Co0.133 Cu0.133 Fe0.133 Nb1 Ni0.133\", \"Co0.086 Cu0.086 Fe0.086 Nb1 Ni0.086\", \"Co0.067 Cu0.067 Fe0.067 Nb1 Ni0.067\", \"Co0.2 Cr0.2 Fe1 Mn0.6\", \"B0.006 Co0.201 Cr0.201 Fe1 Mn0.604\", \"B0.012 Co0.202 Cr0.202 Fe1 Mn0.607\", \"B0.035 Co0.207 Cr0.207 Fe1 Mn0.621\", \"Al0.186 Cr0.149 Fe1 Mn0.861 Ni0.28\", \"Al0.186 Cr0.149 Fe1 Mn0.861 Ni0.28\", \"Al0.186 Cr0.149 Fe1 Mn0.861 Ni0.28\", \"Al0.186 Cr0.149 Fe1 Mn0.861 Ni0.28\", \"Hf1 Ti1 Zr1\", \"Hf1 Sc1 Ti1 Zr1\", \"Hf1 Ti1 Y1 Zr1\", \"Hf1 Sc1 Ti1 Y1 Zr1\", \"Co1 Cr1 Fe1 Ga1 Ni1\", \"Al0.562 Co0.938 Cr0.312 Fe0.312 Ni1\", \"Al0.581 Co0.968 Cr0.323 Fe0.323 Mo0.032 Ni1\", \"Al0.6 Co1 Cr0.333 Fe0.333 Mo0.067 Ni1\", \"Al0.6 Co1 Cr0.333 Fe0.333 Mo0.1 Ni0.967\", \"Co1 Cr1 Fe1 Mo0.149 Ni1\", \"Co1 Cr1 Cu1 Fe1 Ni1\", \"Co1 Cr1 Cu1 Fe1 Ni1 V0.042\", \"Co1 Cr1 Cu1 Fe1 Ni1 V0.087\", \"Co1 Cr1 Cu1 Fe1 Ni1 V0.136\", \"Co1 Cr1 Cu1 Fe1 Ni1 V0.19\", \"Co1 Cr1 Cu1 Ni1 Zn1\", \"Co1 Cr1 Cu1 Ni1 Zn1\", \"Co1 Cr1 Cu1 Ni1 Zn1\", \"Co1 Cr1 Cu1 Ni1 Zn1\", \"Hf1 Nb1 Ta1 Ti1 Zr1\", \"Nb1 Ta1 Ti1 Zr1\", \"Nb1 Ta1 Ti1\", \"Ta1 Ti1 Zr1\", \"Nb1 Ti1 Zr1\", \"Nb1 Ta0.667 Ti0.667 Zr0.333\", \"Nb0.333 Ta0.667 Ti0.667 Zr1\", \"Ag1 Al1 Nb1 Ti1 Zn1\", \"Ag1 Al1 Nb1 Ti1 Zn1\", \"Ag1 Al1 Nb1 Ti1 Zn1\", \"Ag1 Al1 Nb1 Ti1 Zn1\", \"Ag1 Al1 Nb1 Ti1 Zn1\", \"Al0.774 Fe1 Mn0.903 Ni0.484\", \"Al0.774 Fe1 Mn0.903 Ni0.484 Ti0.026\", \"Al0.774 Fe1 Mn0.903 Ni0.484 Ti0.097\", \"Al0.774 Fe1 Mn0.903 Ni0.484\", \"Al0.774 Fe1 Mn0.903 Ni0.484 Ti0.026\", \"Al0.774 Fe1 Mn0.903 Ni0.484 Ti0.097\", \"Al0.774 Fe1 Mn0.903 Ni0.484\", \"Al0.774 Fe1 Mn0.903 Ni0.484 Ti0.026\", \"Al0.774 Fe1 Mn0.903 Ni0.484 Ti0.097\", \"Al1 C1 Co1 Cr1 Fe1 Ni1\", \"Cr1 Cu1 Fe1 Ni1 Ti1\", \"Cr1 Cu1 Fe1 Ni1 Ti1\", \"Cr1 Cu1 Fe1 Ni1 Ti1\", \"Cr1 Cu1 Fe1 Ni1 Ti1\", \"Co1 Cr1 Fe1 Mn1 Ni1\", \"Al0.5 Cr1 Cu1 Fe1 Ni1\", \"Al0.5 Cr1 Cu1 Fe1 Ni1\", \"Hf1 Mo1 Nb1 Ta1 Ti1 Zr1\", \"Hf1 Mo1 Ta1 Ti1 Zr1\", \"Hf1 Mo1 Nb1 Ti1 Zr1\", \"Hf1 Mo1 Nb1 Ta1 Zr1\", \"Hf1 Mo1 Nb1 Ta1 Ti1\", \"Hf1 Mo1 Nb1 Ta1 Ti1 Zr1\", \"Hf1 Mo1 Ta1 Ti1 Zr1\", \"Hf1 Mo1 Nb1 Ti1 Zr1\", \"Hf1 Mo1 Nb1 Ta1 Zr1\", \"Hf1 Mo1 Nb1 Ta1 Ti1\", \"Hf1 Mo1 Nb1 Ta1 Ti1 Zr1\", \"Hf1 Mo1 Ta1 Ti1 Zr1\", \"Hf1 Mo1 Nb1 Ti1 Zr1\", \"Hf1 Mo1 Nb1 Ta1 Zr1\", \"Hf1 Mo1 Nb1 Ta1 Ti1\", \"Hf1 Mo1 Nb1 Ta1 Ti1 Zr1\", \"Hf1 Mo1 Ta1 Ti1 Zr1\", \"Hf1 Mo1 Nb1 Ti1 Zr1\", \"Hf1 Mo1 Nb1 Ta1 Zr1\", \"Hf1 Mo1 Nb1 Ta1 Ti1\", \"Hf1 Mo1 Nb1 Ta1 Zr1\", \"Hf1 Mo1 Nb1 Ta1 Ti1\", \"Co1 Cr1 Fe1 Ni1\", \"C0.111 Co1 Cr1 Fe1 Ni1 W0.111\", \"C0.429 Co1 Cr1 Fe1 Ni1 W0.429\", \"Al0.267 Co1 Cr0.667 Fe0.667 Ni0.667 Ti0.2\", \"Hf1 Nb1 Ta1 Ti1 Zr1\", \"Hf1 Nb1 Ta1 Ti1 Zr1\", \"Hf1 Nb1 Ta1 Ti1 Zr1\", \"Hf1 Nb1 Ta1 Ti1 Zr1\", \"Hf1 Nb1 Ta1 Ti1 Zr1\", \"Hf1 Nb1 Ta1 Ti1 Zr1\", \"Hf1 Nb1 Ta1 Ti1 Zr1\", \"Hf1 Nb1 Ta1 Ti1 Zr1\", \"Hf1 Nb1 Ta1 Ti1 Zr1\", \"Hf1 Nb1 Ta1 Ti1 Zr1\", \"Hf1 Nb1 Ta1 Ti1 Zr1\", \"Al1 Nb1 Ti1 Zr1\", \"Al1 Nb1 Ti1 Zr1\", \"Al1 Nb1 Ti1 V1 Zr0.5\", \"Al1 Nb1 Ti1 Zr1\", \"Nb1 Ti1 V1 Zr1\", \"Cr1 Nb1 Ti1 Zr1\", \"Al1 Cr1 Fe1 Mo0.5 Ni1\", \"Al1 Cr1 Fe1 Mo0.5 Ni1 Ti0.25\", \"Al1 Cr1 Fe1 Mo0.5 Ni1 Ti0.4\", \"Al1 Cr1 Fe1 Mo0.5 Ni1 Ti0.5\", \"Al1 Cr1 Fe1 Mo0.5 Ni1 Ti0.6\", \"Al1 Cr1 Fe1 Mo0.5 Ni1 Ti0.75\", \"Al1 Cr1 Mo1 Nb1\", \"Al1 Cr1 Mo1 Nb1\", \"Al1 Hf1 Nb1 Ti1\", \"Al1 Hf1 Nb1 Ti1\", \"Al1 Hf1 Ta1 Ti1\", \"Al1 Hf1 Ta1 Ti1\", \"Al1 Mo1 Nb1 Ti1\", \"Al1 Mo1 Nb1 Ti1\", \"Al1 Nb1 Ta1 Ti1\", \"Al1 Nb1 Ta1 Ti1\", \"Cr1 Mo1 Ta1 Ti1\", \"Cr1 Mo1 Ta1 Ti1\", \"Cr1 Nb1 Ta1 Ti1\", \"Cr1 Nb1 Ta1 Ti1\", \"Cr1 Nb1 Ti1 W1\", \"Cr1 Nb1 Ti1 W1\", \"Hf1 Nb1 Ta1 Ti1\", \"Hf1 Nb1 Ta1 Ti1\", \"Mo1 Nb1 Ta1 Ti1 W1\", \"Mo1 Nb1 Ta1 Ti1 W1\", \"Mo1 Nb1 Ta1 Ti1\", \"Mo1 Nb1 Ta1 Ti1\"], \"legendgroup\": \"\", \"marker\": {\"color\": \"#1F77B4\"}, \"name\": \"\", \"notched\": false, \"offsetgroup\": \"\", \"orientation\": \"v\", \"showlegend\": false, \"type\": \"box\", \"x\": [\"FCC\", \"other\", \"other\", \"BCC\", \"FCC\", \"FCC\", \"FCC\", \"other\", \"other\", \"FCC\", \"FCC\", \"FCC\", \"FCC\", \"FCC\", \"FCC\", \"FCC\", \"other\", \"other\", \"other\", \"other\", \"other\", \"FCC\", \"FCC\", \"FCC\", \"FCC\", \"FCC\", \"other\", \"other\", \"other\", \"other\", \"BCC\", \"other\", \"BCC\", \"BCC\", \"BCC\", \"BCC\", \"BCC\", \"BCC\", \"BCC\", \"other\", \"FCC\", \"FCC\", \"other\", \"other\", \"other\", \"other\", \"other\", \"other\", \"other\", \"other\", \"other\", \"FCC\", \"other\", \"FCC\", \"other\", \"other\", \"other\", \"other\", \"BCC\", \"BCC\", \"BCC\", \"BCC\", \"BCC\", \"other\", \"FCC\", \"other\", \"FCC\", \"BCC\", \"other\", \"other\", \"other\", \"other\", \"other\", \"other\", \"other\", \"BCC\", \"BCC\", \"other\", \"other\", \"other\", \"other\", \"BCC\", \"BCC\", \"other\", \"other\", \"other\", \"BCC\", \"other\", \"other\", \"other\", \"other\", \"other\", \"other\", \"other\", \"other\", \"other\", \"other\", \"other\", \"other\", \"other\", \"other\", \"BCC\", \"other\", \"BCC\", \"BCC\", \"BCC\", \"other\", \"FCC\", \"FCC\", \"other\", \"other\", \"FCC\", \"other\", \"other\", \"other\", \"other\", \"BCC\", \"BCC\", \"other\", \"other\", \"other\", \"other\", \"other\", \"other\", \"FCC\", \"FCC\", \"FCC\", \"other\", \"other\", \"other\", \"other\", \"other\", \"other\", \"other\", \"other\", \"other\", \"BCC\", \"FCC\", \"FCC\", \"FCC\", \"FCC\", \"other\", \"FCC\", \"FCC\", \"other\", \"other\", \"other\", \"other\", \"other\", \"BCC\", \"other\", \"other\", \"other\", \"other\", \"other\", \"FCC\", \"FCC\", \"other\", \"other\", \"other\", \"other\", \"other\", \"other\", \"other\", \"BCC\", \"BCC\", \"other\", \"FCC\", \"FCC\", \"FCC\", \"FCC\", \"other\", \"other\", \"other\", \"other\", \"other\", \"FCC\", \"other\", \"FCC\", \"FCC\", \"other\", \"other\", \"other\", \"other\", \"other\", \"other\", \"other\", \"FCC\", \"FCC\", \"other\", \"other\", \"other\", \"other\", \"BCC\", \"BCC\", \"BCC\", \"BCC\", \"BCC\", \"other\", \"other\", \"other\", \"other\", \"other\", \"other\", \"other\", \"other\", \"other\", \"other\", \"BCC\", \"other\", \"other\", \"other\", \"FCC\", \"FCC\", \"other\", \"other\", \"other\", \"other\", \"other\", \"other\", \"FCC\", \"FCC\", \"other\", \"other\", \"other\", \"other\", \"other\", \"other\", \"other\", \"other\", \"other\", \"FCC\", \"FCC\", \"FCC\", \"FCC\", \"FCC\", \"other\", \"other\", \"other\", \"FCC\", \"FCC\", \"FCC\", \"FCC\", \"other\", \"other\", \"other\", \"other\", \"other\", \"other\", \"other\", \"BCC\", \"BCC\", \"BCC\", \"BCC\", \"BCC\", \"BCC\", \"BCC\", \"BCC\", \"BCC\", \"BCC\", \"BCC\", \"BCC\", \"other\", \"other\", \"other\", \"other\", \"BCC\", \"BCC\", \"BCC\", \"BCC\", \"BCC\", \"BCC\", \"other\", \"BCC\", \"BCC\", \"BCC\", \"BCC\", \"BCC\", \"BCC\", \"BCC\", \"BCC\", \"BCC\", \"BCC\", \"BCC\", \"BCC\", \"BCC\", \"BCC\", \"other\", \"other\", \"other\", \"other\", \"other\", \"other\", \"other\", \"other\", \"other\", \"other\", \"other\", \"other\", \"BCC\", \"BCC\", \"BCC\", \"BCC\", \"BCC\", \"BCC\", \"BCC\", \"BCC\", \"BCC\", \"other\", \"other\", \"BCC\", \"BCC\", \"BCC\", \"BCC\", \"BCC\", \"BCC\", \"BCC\", \"BCC\", \"BCC\", \"BCC\", \"BCC\", \"BCC\", \"BCC\", \"BCC\", \"BCC\", \"BCC\", \"BCC\", \"BCC\", \"other\", \"other\", \"other\", \"BCC\", \"BCC\", \"BCC\", \"BCC\", \"BCC\", \"BCC\", \"BCC\", \"BCC\", \"BCC\", \"BCC\", \"BCC\", \"BCC\", \"BCC\", \"BCC\", \"BCC\", \"BCC\", \"BCC\", \"BCC\", \"BCC\", \"BCC\", \"BCC\", \"BCC\", \"BCC\", \"BCC\", \"BCC\", \"BCC\", \"BCC\", \"BCC\", \"BCC\", \"BCC\", \"BCC\", \"BCC\", \"BCC\", \"BCC\", \"BCC\", \"BCC\", \"BCC\", \"BCC\", \"BCC\", \"BCC\", \"BCC\", \"BCC\", \"BCC\", \"BCC\", \"BCC\", \"BCC\", \"BCC\", \"BCC\", \"other\", \"other\", \"other\", \"other\", \"other\", \"other\", \"other\", \"other\", \"other\", \"other\", \"FCC\", \"other\", \"BCC\", \"other\", \"other\", \"FCC\", \"FCC\", \"other\", \"other\", \"FCC\", \"other\", \"FCC\", \"FCC\", \"FCC\", \"FCC\", \"FCC\", \"FCC\", \"FCC\", \"BCC\", \"BCC\", \"BCC\", \"BCC\", \"BCC\", \"BCC\", \"BCC\", \"BCC\", \"other\", \"other\", \"other\", \"other\", \"other\", \"other\", \"BCC\", \"BCC\", \"BCC\", \"BCC\", \"BCC\", \"BCC\", \"BCC\", \"BCC\", \"BCC\", \"BCC\", \"BCC\", \"BCC\", \"BCC\", \"BCC\", \"BCC\", \"BCC\", \"BCC\", \"BCC\", \"BCC\", \"other\", \"other\", \"other\", \"other\", \"other\", \"other\", \"other\", \"other\", \"other\", \"other\", \"other\", \"other\", \"other\", \"other\", \"other\", \"other\", \"other\", \"other\", \"other\", \"other\", \"other\", \"BCC\", \"other\", \"other\", \"other\", \"other\", \"other\", \"other\", \"other\", \"BCC\", \"BCC\", \"BCC\", \"other\", \"other\", \"other\", \"other\", \"other\", \"other\", \"other\", \"BCC\", \"BCC\", \"BCC\", \"BCC\", \"BCC\", \"other\", \"other\", \"other\", \"other\", \"other\", \"other\", \"BCC\", \"BCC\", \"BCC\", \"BCC\", \"BCC\", \"BCC\", \"BCC\", \"BCC\", \"BCC\", \"BCC\", \"BCC\", \"BCC\", \"BCC\", \"BCC\", \"BCC\", \"BCC\", \"BCC\", \"BCC\", \"BCC\", \"BCC\", \"BCC\", \"other\", \"other\", \"other\", \"other\", \"other\", \"other\", \"other\", \"other\", \"other\", \"BCC\", \"BCC\", \"BCC\", \"BCC\", \"other\", \"other\", \"other\", \"other\", \"other\", \"other\", \"other\", \"other\", \"other\", \"other\", \"other\", \"other\", \"other\", \"other\", \"other\", \"other\", \"BCC\", \"other\", \"other\", \"BCC\", \"BCC\", \"other\", \"BCC\", \"BCC\", \"BCC\", \"BCC\", \"BCC\", \"BCC\", \"BCC\", \"BCC\", \"BCC\", \"BCC\", \"BCC\", \"BCC\", \"BCC\", \"BCC\", \"BCC\", \"other\", \"other\", \"other\", \"other\", \"BCC\", \"other\", \"other\", \"other\", \"BCC\", \"BCC\", \"BCC\", \"BCC\", \"BCC\", \"BCC\", \"BCC\", \"BCC\", \"BCC\", \"BCC\", \"BCC\", \"BCC\", \"BCC\", \"BCC\", \"BCC\", \"BCC\", \"BCC\", \"other\", \"other\", \"other\", \"BCC\", \"BCC\", \"BCC\", \"BCC\", \"other\", \"other\", \"other\", \"other\", \"BCC\", \"BCC\", \"BCC\", \"BCC\", \"BCC\", \"other\", \"other\", \"other\", \"other\", \"other\", \"other\", \"other\", \"other\", \"BCC\", \"BCC\", \"BCC\", \"BCC\", \"other\", \"other\", \"other\", \"other\", \"other\", \"other\", \"other\", \"other\", \"other\", \"other\", \"other\", \"other\", \"other\", \"other\", \"other\", \"other\", \"FCC\", \"other\", \"other\", \"other\", \"other\", \"other\", \"other\", \"other\", \"other\", \"other\", \"FCC\", \"other\", \"FCC\", \"other\", \"other\", \"FCC\", \"other\", \"other\", \"FCC\", \"other\", \"other\", \"other\", \"other\", \"other\", \"FCC\", \"FCC\", \"other\", \"other\", \"other\", \"other\", \"other\", \"other\", \"other\", \"other\", \"other\", \"other\", \"other\", \"other\", \"other\", \"other\", \"other\", \"other\", \"other\", \"other\", \"other\", \"other\", \"other\", \"other\", \"FCC\", \"other\", \"other\", \"other\", \"other\", \"other\", \"FCC\", \"FCC\", \"other\", \"other\", \"other\", \"other\", \"other\", \"other\", \"FCC\", \"other\", \"FCC\", \"other\", \"FCC\", \"FCC\", \"other\", \"other\", \"other\", \"other\", \"other\", \"other\", \"other\", \"other\", \"other\", \"other\", \"other\", \"other\", \"other\", \"other\", \"other\", \"other\", \"other\", \"other\", \"other\", \"other\", \"other\", \"other\", \"other\", \"other\", \"other\", \"other\", \"FCC\", \"other\", \"other\", \"other\", \"other\", \"FCC\", \"FCC\", \"other\", \"other\", \"other\", \"FCC\", \"other\", \"other\", \"other\", \"other\", \"other\", \"FCC\", \"other\", \"other\", \"other\", \"other\", \"other\", \"other\", \"other\", \"FCC\", \"other\", \"FCC\", \"FCC\", \"FCC\", \"FCC\", \"FCC\", \"FCC\", \"FCC\", \"FCC\", \"other\", \"other\", \"other\", \"other\", \"FCC\", \"FCC\", \"FCC\", \"FCC\", \"other\", \"other\", \"other\", \"FCC\", \"FCC\", \"FCC\", \"BCC\", \"BCC\", \"BCC\", \"FCC\", \"FCC\", \"other\", \"other\", \"other\", \"other\", \"other\", \"other\", \"FCC\", \"FCC\", \"FCC\", \"FCC\", \"FCC\", \"FCC\", \"FCC\", \"FCC\", \"other\", \"other\", \"other\", \"FCC\", \"FCC\", \"other\", \"other\", \"other\", \"other\", \"other\", \"other\", \"other\", \"other\", \"other\", \"FCC\", \"FCC\", \"FCC\", \"FCC\", \"FCC\", \"FCC\", \"FCC\", \"FCC\", \"FCC\", \"FCC\", \"FCC\", \"other\", \"other\", \"other\", \"other\", \"other\", \"other\", \"other\", \"other\", \"other\", \"other\", \"other\", \"other\", \"FCC\", \"other\", \"other\", \"other\", \"other\", \"other\", \"other\", \"other\", \"other\", \"other\", \"FCC\", \"other\", \"BCC\", \"FCC\", \"FCC\", \"FCC\", \"other\", \"other\", \"BCC\", \"other\", \"other\", \"other\", \"other\", \"other\", \"other\", \"other\", \"other\", \"other\", \"other\", \"other\", \"other\", \"other\", \"other\", \"other\", \"other\", \"other\", \"other\", \"other\", \"other\", \"other\", \"other\", \"other\", \"other\", \"other\", \"other\", \"other\", \"other\", \"other\", \"other\", \"other\", \"other\", \"other\", \"other\", \"other\", \"other\", \"other\", \"other\", \"other\", \"other\", \"other\", \"other\", \"other\", \"other\", \"other\", \"other\", \"other\", \"other\", \"other\", \"BCC\", \"other\", \"other\", \"other\", \"FCC\", \"other\", \"BCC\", \"BCC\", \"BCC\", \"BCC\", \"BCC\", \"BCC\", \"BCC\", \"BCC\", \"BCC\", \"BCC\", \"BCC\", \"BCC\", \"BCC\", \"BCC\", \"BCC\", \"other\", \"other\", \"other\", \"other\", \"other\", \"other\", \"other\", \"other\", \"other\", \"other\", \"other\", \"BCC\", \"BCC\", \"BCC\", \"BCC\", \"BCC\", \"BCC\", \"BCC\", \"BCC\", \"BCC\", \"BCC\", \"BCC\", \"BCC\", \"BCC\", \"BCC\", \"BCC\", \"other\", \"other\", \"other\", \"other\", \"other\", \"other\", \"other\", \"other\", \"other\", \"other\", \"other\", \"BCC\", \"BCC\", \"BCC\", \"BCC\", \"BCC\", \"BCC\", \"BCC\", \"BCC\", \"BCC\", \"BCC\", \"BCC\", \"BCC\", \"BCC\", \"BCC\", \"BCC\", \"other\", \"other\", \"other\", \"other\", \"other\", \"other\", \"other\", \"other\", \"other\", \"other\", \"other\", \"FCC\", \"BCC\", \"BCC\", \"BCC\", \"FCC\", \"FCC\", \"FCC\", \"FCC\", \"other\", \"other\", \"other\", \"other\", \"BCC\", \"FCC\", \"FCC\", \"FCC\", \"FCC\", \"FCC\", \"FCC\", \"FCC\", \"FCC\", \"FCC\", \"FCC\", \"FCC\", \"FCC\", \"FCC\", \"FCC\", \"FCC\", \"FCC\", \"FCC\", \"FCC\", \"FCC\", \"FCC\", \"FCC\", \"FCC\", \"FCC\", \"FCC\", \"FCC\", \"other\", \"other\", \"other\", \"other\", \"other\", \"other\", \"other\", \"other\", \"other\", \"other\", \"other\", \"FCC\", \"FCC\", \"FCC\", \"FCC\", \"FCC\", \"FCC\", \"FCC\", \"FCC\", \"FCC\", \"FCC\", \"FCC\", \"FCC\", \"FCC\", \"FCC\", \"FCC\", \"FCC\", \"FCC\", \"other\", \"other\", \"other\", \"other\", \"other\", \"other\", \"other\", \"other\", \"other\", \"other\", \"FCC\", \"FCC\", \"FCC\", \"other\", \"other\", \"other\", \"other\", \"other\", \"other\", \"other\", \"other\", \"other\", \"BCC\", \"other\", \"other\", \"other\", \"other\", \"FCC\", \"FCC\", \"FCC\", \"FCC\", \"FCC\", \"FCC\", \"FCC\", \"FCC\", \"FCC\", \"FCC\", \"FCC\", \"FCC\", \"FCC\", \"FCC\", \"FCC\", \"other\", \"other\", \"other\", \"other\", \"other\", \"other\", \"other\", \"other\", \"other\", \"other\", \"other\", \"other\", \"other\", \"other\", \"other\", \"other\", \"other\", \"other\", \"other\", \"other\", \"other\", \"other\", \"other\", \"other\", \"other\", \"other\", \"other\", \"other\", \"other\", \"other\", \"other\", \"other\", \"other\", \"BCC\", \"BCC\", \"BCC\", \"BCC\", \"BCC\", \"BCC\", \"BCC\", \"BCC\", \"FCC\", \"FCC\", \"other\", \"other\", \"other\", \"other\", \"FCC\", \"other\", \"other\", \"other\", \"BCC\", \"BCC\", \"BCC\", \"BCC\", \"BCC\", \"BCC\", \"BCC\", \"BCC\", \"BCC\", \"BCC\", \"BCC\", \"BCC\", \"BCC\", \"BCC\", \"BCC\", \"BCC\", \"BCC\", \"BCC\", \"BCC\", \"BCC\", \"BCC\", \"BCC\", \"BCC\", \"BCC\", \"BCC\", \"BCC\", \"BCC\", \"BCC\", \"BCC\", \"BCC\", \"BCC\", \"BCC\", \"BCC\", \"BCC\", \"BCC\", \"BCC\", \"BCC\", \"BCC\", \"BCC\", \"BCC\", \"BCC\", \"BCC\", \"FCC\", \"FCC\", \"FCC\", \"FCC\", \"FCC\", \"FCC\", \"BCC\", \"BCC\", \"BCC\", \"BCC\", \"BCC\", \"BCC\", \"BCC\", \"BCC\", \"BCC\", \"BCC\", \"BCC\", \"BCC\", \"BCC\", \"BCC\", \"BCC\", \"BCC\", \"BCC\", \"BCC\", \"BCC\", \"BCC\", \"BCC\", \"BCC\", \"BCC\", \"BCC\", \"BCC\", \"BCC\", \"BCC\", \"BCC\", \"BCC\", \"BCC\", \"BCC\", \"BCC\", \"BCC\", \"BCC\", \"BCC\", \"BCC\", \"BCC\", \"other\", \"other\", \"other\", \"other\", \"other\", \"other\", \"other\", \"other\", \"BCC\", \"BCC\", \"BCC\", \"BCC\", \"BCC\", \"BCC\", \"BCC\", \"BCC\", \"BCC\", \"BCC\", \"BCC\", \"other\", \"other\", \"other\", \"other\", \"other\", \"other\", \"other\", \"other\", \"other\", \"other\", \"other\", \"other\", \"other\", \"other\", \"other\", \"other\", \"other\", \"other\", \"other\", \"other\", \"other\", \"other\", \"other\", \"other\", \"other\", \"other\", \"other\", \"other\", \"other\", \"other\", \"FCC\", \"FCC\", \"FCC\", \"FCC\", \"FCC\", \"FCC\", \"FCC\", \"FCC\", \"other\", \"other\", \"BCC\", \"other\", \"other\", \"other\", \"other\", \"BCC\", \"other\", \"other\", \"other\", \"BCC\", \"other\", \"other\", \"other\", \"BCC\", \"other\", \"other\", \"other\", \"BCC\", \"other\", \"other\", \"other\", \"BCC\", \"other\", \"other\", \"other\", \"other\", \"FCC\", \"FCC\", \"FCC\", \"FCC\", \"FCC\", \"FCC\", \"FCC\", \"FCC\", \"FCC\", \"FCC\", \"FCC\", \"other\", \"other\", \"other\", \"other\", \"FCC\", \"other\", \"BCC\", \"BCC\", \"other\", \"FCC\", \"other\", \"other\", \"other\", \"other\", \"other\", \"other\", \"other\", \"other\", \"FCC\", \"FCC\", \"FCC\", \"FCC\", \"FCC\", \"FCC\", \"FCC\", \"FCC\", \"FCC\", \"FCC\", \"other\", \"other\", \"FCC\", \"FCC\", \"other\", \"other\", \"other\", \"other\", \"other\", \"other\", \"other\", \"other\", \"other\", \"other\", \"other\", \"other\", \"other\", \"other\", \"other\", \"other\", \"other\", \"FCC\", \"other\", \"other\", \"other\", \"other\", \"FCC\", \"FCC\", \"FCC\", \"FCC\", \"FCC\", \"FCC\", \"FCC\", \"other\", \"FCC\", \"FCC\", \"FCC\", \"FCC\", \"FCC\", \"FCC\", \"FCC\", \"FCC\", \"FCC\", \"FCC\", \"FCC\", \"other\", \"other\", \"other\", \"other\", \"other\", \"FCC\", \"other\", \"other\", \"other\", \"other\", \"other\", \"other\", \"other\", \"BCC\", \"BCC\", \"BCC\", \"other\", \"other\", \"other\", \"other\", \"other\", \"other\", \"other\", \"other\", \"other\", \"other\", \"other\", \"other\", \"other\", \"other\", \"other\", \"other\", \"other\", \"other\", \"other\", \"other\", \"other\", \"other\", \"other\", \"other\", \"other\", \"other\", \"other\", \"FCC\", \"other\", \"other\", \"other\", \"other\", \"other\", \"other\", \"other\", \"other\", \"BCC\", \"BCC\", \"BCC\", \"other\", \"BCC\", \"other\", \"other\", \"other\", \"other\", \"other\", \"other\", \"other\", \"other\", \"other\", \"other\", \"other\", \"other\", \"other\", \"other\", \"other\", \"other\", \"other\", \"other\", \"other\", \"other\", \"other\", \"other\", \"FCC\", \"FCC\", \"BCC\", \"BCC\", \"BCC\", \"BCC\", \"BCC\", \"BCC\", \"BCC\", \"BCC\", \"BCC\", \"BCC\", \"BCC\", \"BCC\", \"BCC\", \"BCC\", \"BCC\", \"BCC\", \"BCC\", \"BCC\", \"BCC\", \"BCC\", \"BCC\", \"BCC\", \"FCC\", \"FCC\", \"FCC\", \"other\", \"BCC\", \"BCC\", \"BCC\", \"BCC\", \"BCC\", \"BCC\", \"BCC\", \"BCC\", \"BCC\", \"BCC\", \"BCC\", \"other\", \"other\", \"other\", \"other\", \"other\", \"other\", \"other\", \"other\", \"other\", \"other\", \"other\", \"other\", \"other\", \"other\", \"other\", \"other\", \"other\", \"other\", \"other\", \"BCC\", \"other\", \"BCC\", \"BCC\", \"BCC\", \"other\", \"BCC\", \"other\", \"BCC\", \"BCC\", \"BCC\", \"BCC\", \"BCC\", \"BCC\", \"BCC\"], \"x0\": \" \", \"xaxis\": \"x\", \"y\": [138.0, 212.0, 385.0, 456.0, 125.0, 125.0, 149.0, 287.0, 570.0, null, null, null, null, null, null, null, null, null, null, null, null, null, 110.0, 113.0, 131.0, 196.0, 159.0, 209.0, 388.0, 280.0, 538.0, 361.0, 487.0, 499.0, 484.0, 517.0, 509.0, 512.0, 484.0, 433.0, 116.0, 113.0, 425.0, 655.0, 605.0, 715.0, 210.0, null, null, 643.0, null, null, 717.0, 487.0, 654.0, 509.0, 624.0, null, 402.0, 487.0, 432.0, 506.0, 395.0, 342.0, 286.0, 296.0, 263.0, null, null, null, null, null, null, null, null, null, null, null, null, null, null, null, 569.0, 668.0, 747.0, null, 520.0, 270.0, 801.0, 741.0, 586.0, 796.0, 755.0, 754.0, 635.0, 639.0, 857.0, 730.0, 708.0, 586.0, 395.0, null, null, null, null, null, null, null, null, null, null, null, null, 178.0, null, 780.0, 790.0, 800.0, 680.0, 850.0, 630.0, 790.0, 590.0, 740.0, 180.0, 171.0, 182.0, 183.0, 220.0, 278.0, 405.0, 486.0, 530.0, 539.0, 533.0, 535.0, 539.0, 176.0, 144.0, 135.0, 151.0, 144.0, 186.0, 275.0, 380.0, 342.0, 636.0, 650.0, 297.0, 396.0, 472.0, 905.0, 549.0, 622.0, 854.0, 180.0, 207.0, 271.0, 476.0, 510.0, 557.0, 567.0, 603.0, 624.0, 657.0, 644.0, 407.0, 134.0, 172.0, null, null, null, 415.0, 505.0, 736.0, 300.0, 225.0, 636.0, 272.0, 321.0, 458.0, 590.0, 646.0, 664.0, 657.0, 667.0, 696.0, 215.0, 204.0, 231.0, 328.0, 447.0, 639.0, 579.0, 577.0, 594.0, 597.0, 587.0, 472.0, 578.0, 536.0, 682.0, 626.0, 472.0, null, null, null, null, null, null, null, null, null, null, null, null, null, null, null, null, 208.0, 192.0, 205.0, 219.0, 253.0, 319.0, 495.0, 496.0, 486.0, 407.0, 367.0, 286.0, null, null, null, null, null, null, null, 516.0, 516.0, 516.0, 537.0, null, null, null, null, null, null, 591.0, 500.0, null, null, 490.0, null, null, 500.0, null, null, 530.0, null, null, 591.0, null, null, null, 408.0, null, null, 353.0, 396.0, 427.0, 441.0, 295.0, 460.0, 487.0, 517.0, 537.0, 441.0, null, null, null, null, 448.0, null, null, null, 540.0, null, null, null, 482.0, null, null, null, 418.0, null, null, null, 304.0, null, null, null, 335.0, null, null, null, null, null, null, 395.0, 480.0, 492.0, 505.0, 335.0, 505.0, null, null, null, 542.0, null, null, null, null, null, null, null, null, null, null, 490.0, 301.0, null, null, null, null, null, null, null, 504.0, 536.0, null, null, null, null, null, null, 454.0, null, null, null, null, null, null, null, null, null, null, null, null, null, null, null, null, null, null, null, null, null, null, null, null, null, null, null, null, null, null, null, 267.0, 402.0, 557.0, 606.0, 602.0, 538.0, 520.0, 510.0, 382.0, 625.0, 238.0, null, null, null, null, 147.0, 109.0, 241.0, 318.0, 166.0, 205.0, null, null, null, null, null, null, null, null, null, null, null, null, null, null, null, null, null, null, null, null, null, null, null, null, null, null, null, null, null, null, null, null, null, null, null, null, null, null, null, null, null, null, null, null, null, null, null, null, null, null, null, null, null, null, null, null, null, null, null, null, null, null, null, null, null, null, null, null, null, null, null, null, null, 715.0, null, 780.0, null, 715.0, null, null, null, null, null, null, 442.0, 494.0, 524.0, 580.0, 640.0, 400.0, null, null, null, null, null, null, null, null, null, null, null, null, null, null, null, null, null, null, null, null, null, null, null, null, null, null, null, null, null, null, null, null, null, null, null, null, null, null, null, null, null, null, null, null, null, null, null, null, null, null, 420.0, 530.0, 340.0, 309.0, 366.0, null, 351.0, null, null, null, null, null, null, null, null, null, null, null, null, null, null, 571.0, 536.0, null, 550.0, 365.0, null, null, null, null, 478.3, 481.2, 495.6, 507.5, null, null, null, null, null, null, null, null, null, null, null, null, null, null, null, null, null, null, null, null, null, null, null, null, null, null, null, null, null, null, null, null, null, null, null, null, null, null, null, null, null, null, null, null, null, null, null, null, null, null, null, null, null, null, null, null, null, null, null, null, null, null, null, null, null, null, null, null, null, null, null, null, null, null, null, null, null, null, null, null, null, null, null, null, null, null, null, null, null, null, null, null, null, null, null, null, null, null, null, null, null, null, null, null, null, null, null, null, null, null, null, null, null, null, null, null, null, null, null, null, null, null, null, null, null, null, 168.0, 328.0, 206.0, 231.0, 178.0, 343.0, 171.0, 343.0, 341.0, 345.0, 345.0, 345.0, 345.0, null, null, null, null, null, null, null, null, null, null, null, null, null, null, null, null, null, null, null, null, null, null, null, null, null, null, null, null, null, null, null, null, null, null, null, null, null, null, null, null, null, null, null, null, null, null, null, null, null, null, 468.0, 326.0, 223.0, null, null, null, 130.2, 394.1, 430.7, 427.9, 444.3, 510.9, null, null, 415.0, 432.0, 511.0, 553.0, 622.0, 684.0, null, null, null, null, null, null, 94.7, 117.0, 228.0, 511.0, 623.0, null, null, null, null, null, null, null, null, null, null, 11.6, null, null, null, null, null, null, null, null, null, null, null, null, null, null, null, null, null, 1072.0, 1010.0, 991.3, 988.3, 704.6, 160.0, 160.0, 458.0, 498.0, 560.0, null, null, null, null, null, null, null, null, null, null, null, null, null, null, null, null, null, null, null, null, null, null, 699.0, 728.0, 604.0, 790.0, 806.0, 811.0, 855.0, 802.0, 799.0, 857.0, 855.0, 816.0, 811.0, 790.0, 855.0, 856.0, 859.0, 875.0, 865.0, 868.0, 863.0, 843.0, 794.0, 783.0, 797.0, 805.0, 699.0, 749.0, 828.0, 849.0, 883.0, 864.0, 841.0, 868.0, 865.0, 840.0, 882.0, 883.0, 828.0, 848.0, 878.0, 782.0, null, null, null, null, null, null, null, null, null, null, null, null, null, null, null, null, null, null, null, null, null, null, null, null, null, null, null, null, null, null, null, null, null, null, null, null, null, null, null, null, null, null, null, null, null, null, null, null, null, null, null, null, null, null, null, null, null, null, null, null, null, null, null, null, null, null, null, null, null, null, null, null, null, null, null, null, null, null, null, null, null, null, null, null, null, null, null, null, null, null, null, null, null, null, null, 741.0, null, null, null, null, null, null, null, null, null, null, null, null, null, null, null, null, null, null, null, null, null, null, null, null, null, null, 672.0, 666.0, 667.0, 434.0, 666.0, 761.0, 747.0, null, null, null, null, null, null, null, null, null, null, null, null, null, null, null, null, null, null, 132.0, 147.0, 165.0, 519.0, 493.0, null, null, null, null, null, null, null, null, null, null, null, null, null, null, null, null, null, null, null, null, 473.0, 510.0, 558.0, 583.0, 615.0, null, null, null, null, null, null, null, null, null, null, null, null, null, null, null, 410.9, 581.7, 605.5, 641.7, 639.6, 703.0, 856.9, null, null, null, null, null, null, null, null, null, null, null, null, null, null, null, null, null, null, null, null, null, null, null, null, null, null, 372.0, 351.0, null, null, null, null, null, null, 168.9, 244.0, 357.9, 826.0, 792.0, 699.0, 107.0, 209.0, 321.0, 159.0, null, null, null, null, null, null, null, null, null, null, null, null, null, null, null, null, null, null, null, null, null, null, null, null, null, null, null, null, null, null, null, null, null, null, null, null, null, null, null, null, null, null, 263.0, 185.0, 197.0, 308.0, 335.0, 204.0, null, null, null, null, null, null, null, null, null, null, null, null, null, null, null, null, null, null, null, null, null, null, null, null, null, null, null, null, null, null, null, null, null, null, null, null, null, null, null, null, null, null, null, null, null, 338.3, 338.3, 338.3, 332.4, 322.5, 322.5, 322.5, 318.9, 310.4, 310.4, 310.4, 398.0, 367.0, 312.0, 271.0, 183.0, 162.0, null, null, null, null, 345.0, 285.0, 550.0, 510.0, 503.0, null, null, null, null, null, null, null, null, null, null, null, null, null, null, null, null, null, null, null, null, null, null, null, null, null, null, null, null, null, null, 504.5, 567.0, 697.0, 682.6, 420.0, 425.0, 535.0, 640.0, 425.0, 420.0, 560.0, 600.0, 340.0, 425.0, 540.0, 650.0, 335.5, 399.2, 550.5, 597.3, null, null, null, null, null, null, null, null, null, null, null, null, 457.0, 461.0, 428.0, 378.0, null, 250.0, 500.0, 733.0, 733.0, 640.0, null, 385.0, 486.0, 570.0, null, 200.0, 290.0, 345.0, 160.0, 200.0, null, null, null, null, null, null, null, null, null, null, null, null, null, null, 142.5, 147.4, 155.2, 1084.0, 1011.0, 725.0, 815.0, 422.0, 856.0, 277.0, 430.9, 420.0, 391.4, 323.8, 299.2, 279.6, 353.0, 361.0, 375.0, 386.0, 130.1, 318.2, 153.8, null, null, null, null, null, null, null, null, null, null, null, null, null, null, null, null, null, null, null, null, null, 295.0, 470.0, 380.0, 180.0, 160.0, null, 362.2, 510.3, 600.3, 709.6, 718.2, 633.0, 680.0, 705.0, 780.0, null, null, null, null, null, 296.0, 282.0, 306.0, 452.0, null, null, null, null, 211.0, 233.0, 241.0, 256.0, null, 305.4, 357.3, 362.6, 359.7, 210.0, null, null, null, null, null, null, null, null, 615.0, 359.0, 358.0, 246.0, 485.0, 295.0, 294.0, 489.0, null, null, null, null, null, 310.0, 330.0, 500.0, 340.0, 410.0, 495.0, 330.0, 330.0, 490.0, null, null, null, null, null, 435.0, 226.0, 287.0, null, null, null, null, null, null, null, null, null, null, null, null, null, null, null, null, null, null, null, null, null, null, null, 475.0, 531.0, 515.0, null, null, null, null, null, null, null, null, null, null, null, 422.0, 418.0, null, 539.6, 335.0, 418.0, 623.7, 712.0, 731.9, 751.7, 756.1, 766.2, null, null, null, null, null, null, null, 509.0, null, 458.0, 555.0, 539.0, null, 495.0, 630.0, 630.0, 280.0, 270.0, 482.0, 446.0, 407.0, 431.0], \"y0\": \" \", \"yaxis\": \"y\"}],\n",
       "                        {\"boxmode\": \"group\", \"font\": {\"family\": \"Barlow Semi Condensed\", \"size\": 26}, \"height\": 800, \"legend\": {\"tracegroupgap\": 0}, \"margin\": {\"t\": 60}, \"template\": {\"data\": {\"bar\": [{\"error_x\": {\"color\": \"rgb(36,36,36)\"}, \"error_y\": {\"color\": \"rgb(36,36,36)\"}, \"marker\": {\"line\": {\"color\": \"white\", \"width\": 0.5}}, \"type\": \"bar\"}], \"barpolar\": [{\"marker\": {\"line\": {\"color\": \"white\", \"width\": 0.5}}, \"type\": \"barpolar\"}], \"carpet\": [{\"aaxis\": {\"endlinecolor\": \"rgb(36,36,36)\", \"gridcolor\": \"white\", \"linecolor\": \"white\", \"minorgridcolor\": \"white\", \"startlinecolor\": \"rgb(36,36,36)\"}, \"baxis\": {\"endlinecolor\": \"rgb(36,36,36)\", \"gridcolor\": \"white\", \"linecolor\": \"white\", \"minorgridcolor\": \"white\", \"startlinecolor\": \"rgb(36,36,36)\"}, \"type\": \"carpet\"}], \"choropleth\": [{\"colorbar\": {\"outlinewidth\": 1, \"tickcolor\": \"rgb(36,36,36)\", \"ticks\": \"outside\"}, \"type\": \"choropleth\"}], \"contour\": [{\"colorbar\": {\"outlinewidth\": 1, \"tickcolor\": \"rgb(36,36,36)\", \"ticks\": \"outside\"}, \"colorscale\": [[0.0, \"#440154\"], [0.1111111111111111, \"#482878\"], [0.2222222222222222, \"#3e4989\"], [0.3333333333333333, \"#31688e\"], [0.4444444444444444, \"#26828e\"], [0.5555555555555556, \"#1f9e89\"], [0.6666666666666666, \"#35b779\"], [0.7777777777777778, \"#6ece58\"], [0.8888888888888888, \"#b5de2b\"], [1.0, \"#fde725\"]], \"type\": \"contour\"}], \"contourcarpet\": [{\"colorbar\": {\"outlinewidth\": 1, \"tickcolor\": \"rgb(36,36,36)\", \"ticks\": \"outside\"}, \"type\": \"contourcarpet\"}], \"heatmap\": [{\"colorbar\": {\"outlinewidth\": 1, \"tickcolor\": \"rgb(36,36,36)\", \"ticks\": \"outside\"}, \"colorscale\": [[0.0, \"#440154\"], [0.1111111111111111, \"#482878\"], [0.2222222222222222, \"#3e4989\"], [0.3333333333333333, \"#31688e\"], [0.4444444444444444, \"#26828e\"], [0.5555555555555556, \"#1f9e89\"], [0.6666666666666666, \"#35b779\"], [0.7777777777777778, \"#6ece58\"], [0.8888888888888888, \"#b5de2b\"], [1.0, \"#fde725\"]], \"type\": \"heatmap\"}], \"heatmapgl\": [{\"colorbar\": {\"outlinewidth\": 1, \"tickcolor\": \"rgb(36,36,36)\", \"ticks\": \"outside\"}, \"colorscale\": [[0.0, \"#440154\"], [0.1111111111111111, \"#482878\"], [0.2222222222222222, \"#3e4989\"], [0.3333333333333333, \"#31688e\"], [0.4444444444444444, \"#26828e\"], [0.5555555555555556, \"#1f9e89\"], [0.6666666666666666, \"#35b779\"], [0.7777777777777778, \"#6ece58\"], [0.8888888888888888, \"#b5de2b\"], [1.0, \"#fde725\"]], \"type\": \"heatmapgl\"}], \"histogram\": [{\"marker\": {\"line\": {\"color\": \"white\", \"width\": 0.6}}, \"type\": \"histogram\"}], \"histogram2d\": [{\"colorbar\": {\"outlinewidth\": 1, \"tickcolor\": \"rgb(36,36,36)\", \"ticks\": \"outside\"}, \"colorscale\": [[0.0, \"#440154\"], [0.1111111111111111, \"#482878\"], [0.2222222222222222, \"#3e4989\"], [0.3333333333333333, \"#31688e\"], [0.4444444444444444, \"#26828e\"], [0.5555555555555556, \"#1f9e89\"], [0.6666666666666666, \"#35b779\"], [0.7777777777777778, \"#6ece58\"], [0.8888888888888888, \"#b5de2b\"], [1.0, \"#fde725\"]], \"type\": \"histogram2d\"}], \"histogram2dcontour\": [{\"colorbar\": {\"outlinewidth\": 1, \"tickcolor\": \"rgb(36,36,36)\", \"ticks\": \"outside\"}, \"colorscale\": [[0.0, \"#440154\"], [0.1111111111111111, \"#482878\"], [0.2222222222222222, \"#3e4989\"], [0.3333333333333333, \"#31688e\"], [0.4444444444444444, \"#26828e\"], [0.5555555555555556, \"#1f9e89\"], [0.6666666666666666, \"#35b779\"], [0.7777777777777778, \"#6ece58\"], [0.8888888888888888, \"#b5de2b\"], [1.0, \"#fde725\"]], \"type\": \"histogram2dcontour\"}], \"mesh3d\": [{\"colorbar\": {\"outlinewidth\": 1, \"tickcolor\": \"rgb(36,36,36)\", \"ticks\": \"outside\"}, \"type\": \"mesh3d\"}], \"parcoords\": [{\"line\": {\"colorbar\": {\"outlinewidth\": 1, \"tickcolor\": \"rgb(36,36,36)\", \"ticks\": \"outside\"}}, \"type\": \"parcoords\"}], \"pie\": [{\"automargin\": true, \"type\": \"pie\"}], \"scatter\": [{\"marker\": {\"colorbar\": {\"outlinewidth\": 1, \"tickcolor\": \"rgb(36,36,36)\", \"ticks\": \"outside\"}}, \"type\": \"scatter\"}], \"scatter3d\": [{\"line\": {\"colorbar\": {\"outlinewidth\": 1, \"tickcolor\": \"rgb(36,36,36)\", \"ticks\": \"outside\"}}, \"marker\": {\"colorbar\": {\"outlinewidth\": 1, \"tickcolor\": \"rgb(36,36,36)\", \"ticks\": \"outside\"}}, \"type\": \"scatter3d\"}], \"scattercarpet\": [{\"marker\": {\"colorbar\": {\"outlinewidth\": 1, \"tickcolor\": \"rgb(36,36,36)\", \"ticks\": \"outside\"}}, \"type\": \"scattercarpet\"}], \"scattergeo\": [{\"marker\": {\"colorbar\": {\"outlinewidth\": 1, \"tickcolor\": \"rgb(36,36,36)\", \"ticks\": \"outside\"}}, \"type\": \"scattergeo\"}], \"scattergl\": [{\"marker\": {\"colorbar\": {\"outlinewidth\": 1, \"tickcolor\": \"rgb(36,36,36)\", \"ticks\": \"outside\"}}, \"type\": \"scattergl\"}], \"scattermapbox\": [{\"marker\": {\"colorbar\": {\"outlinewidth\": 1, \"tickcolor\": \"rgb(36,36,36)\", \"ticks\": \"outside\"}}, \"type\": \"scattermapbox\"}], \"scatterpolar\": [{\"marker\": {\"colorbar\": {\"outlinewidth\": 1, \"tickcolor\": \"rgb(36,36,36)\", \"ticks\": \"outside\"}}, \"type\": \"scatterpolar\"}], \"scatterpolargl\": [{\"marker\": {\"colorbar\": {\"outlinewidth\": 1, \"tickcolor\": \"rgb(36,36,36)\", \"ticks\": \"outside\"}}, \"type\": \"scatterpolargl\"}], \"scatterternary\": [{\"marker\": {\"colorbar\": {\"outlinewidth\": 1, \"tickcolor\": \"rgb(36,36,36)\", \"ticks\": \"outside\"}}, \"type\": \"scatterternary\"}], \"surface\": [{\"colorbar\": {\"outlinewidth\": 1, \"tickcolor\": \"rgb(36,36,36)\", \"ticks\": \"outside\"}, \"colorscale\": [[0.0, \"#440154\"], [0.1111111111111111, \"#482878\"], [0.2222222222222222, \"#3e4989\"], [0.3333333333333333, \"#31688e\"], [0.4444444444444444, \"#26828e\"], [0.5555555555555556, \"#1f9e89\"], [0.6666666666666666, \"#35b779\"], [0.7777777777777778, \"#6ece58\"], [0.8888888888888888, \"#b5de2b\"], [1.0, \"#fde725\"]], \"type\": \"surface\"}], \"table\": [{\"cells\": {\"fill\": {\"color\": \"rgb(237,237,237)\"}, \"line\": {\"color\": \"white\"}}, \"header\": {\"fill\": {\"color\": \"rgb(217,217,217)\"}, \"line\": {\"color\": \"white\"}}, \"type\": \"table\"}]}, \"layout\": {\"annotationdefaults\": {\"arrowhead\": 0, \"arrowwidth\": 1}, \"coloraxis\": {\"colorbar\": {\"outlinewidth\": 1, \"tickcolor\": \"rgb(36,36,36)\", \"ticks\": \"outside\"}}, \"colorscale\": {\"diverging\": [[0.0, \"rgb(103,0,31)\"], [0.1, \"rgb(178,24,43)\"], [0.2, \"rgb(214,96,77)\"], [0.3, \"rgb(244,165,130)\"], [0.4, \"rgb(253,219,199)\"], [0.5, \"rgb(247,247,247)\"], [0.6, \"rgb(209,229,240)\"], [0.7, \"rgb(146,197,222)\"], [0.8, \"rgb(67,147,195)\"], [0.9, \"rgb(33,102,172)\"], [1.0, \"rgb(5,48,97)\"]], \"sequential\": [[0.0, \"#440154\"], [0.1111111111111111, \"#482878\"], [0.2222222222222222, \"#3e4989\"], [0.3333333333333333, \"#31688e\"], [0.4444444444444444, \"#26828e\"], [0.5555555555555556, \"#1f9e89\"], [0.6666666666666666, \"#35b779\"], [0.7777777777777778, \"#6ece58\"], [0.8888888888888888, \"#b5de2b\"], [1.0, \"#fde725\"]], \"sequentialminus\": [[0.0, \"#440154\"], [0.1111111111111111, \"#482878\"], [0.2222222222222222, \"#3e4989\"], [0.3333333333333333, \"#31688e\"], [0.4444444444444444, \"#26828e\"], [0.5555555555555556, \"#1f9e89\"], [0.6666666666666666, \"#35b779\"], [0.7777777777777778, \"#6ece58\"], [0.8888888888888888, \"#b5de2b\"], [1.0, \"#fde725\"]]}, \"colorway\": [\"#1F77B4\", \"#FF7F0E\", \"#2CA02C\", \"#D62728\", \"#9467BD\", \"#8C564B\", \"#E377C2\", \"#7F7F7F\", \"#BCBD22\", \"#17BECF\"], \"font\": {\"color\": \"rgb(36,36,36)\"}, \"geo\": {\"bgcolor\": \"white\", \"lakecolor\": \"white\", \"landcolor\": \"white\", \"showlakes\": true, \"showland\": true, \"subunitcolor\": \"white\"}, \"hoverlabel\": {\"align\": \"left\"}, \"hovermode\": \"closest\", \"mapbox\": {\"style\": \"light\"}, \"paper_bgcolor\": \"white\", \"plot_bgcolor\": \"white\", \"polar\": {\"angularaxis\": {\"gridcolor\": \"rgb(232,232,232)\", \"linecolor\": \"rgb(36,36,36)\", \"showgrid\": false, \"showline\": true, \"ticks\": \"outside\"}, \"bgcolor\": \"white\", \"radialaxis\": {\"gridcolor\": \"rgb(232,232,232)\", \"linecolor\": \"rgb(36,36,36)\", \"showgrid\": false, \"showline\": true, \"ticks\": \"outside\"}}, \"scene\": {\"xaxis\": {\"backgroundcolor\": \"white\", \"gridcolor\": \"rgb(232,232,232)\", \"gridwidth\": 2, \"linecolor\": \"rgb(36,36,36)\", \"showbackground\": true, \"showgrid\": false, \"showline\": true, \"ticks\": \"outside\", \"zeroline\": false, \"zerolinecolor\": \"rgb(36,36,36)\"}, \"yaxis\": {\"backgroundcolor\": \"white\", \"gridcolor\": \"rgb(232,232,232)\", \"gridwidth\": 2, \"linecolor\": \"rgb(36,36,36)\", \"showbackground\": true, \"showgrid\": false, \"showline\": true, \"ticks\": \"outside\", \"zeroline\": false, \"zerolinecolor\": \"rgb(36,36,36)\"}, \"zaxis\": {\"backgroundcolor\": \"white\", \"gridcolor\": \"rgb(232,232,232)\", \"gridwidth\": 2, \"linecolor\": \"rgb(36,36,36)\", \"showbackground\": true, \"showgrid\": false, \"showline\": true, \"ticks\": \"outside\", \"zeroline\": false, \"zerolinecolor\": \"rgb(36,36,36)\"}}, \"shapedefaults\": {\"fillcolor\": \"black\", \"line\": {\"width\": 0}, \"opacity\": 0.3}, \"ternary\": {\"aaxis\": {\"gridcolor\": \"rgb(232,232,232)\", \"linecolor\": \"rgb(36,36,36)\", \"showgrid\": false, \"showline\": true, \"ticks\": \"outside\"}, \"baxis\": {\"gridcolor\": \"rgb(232,232,232)\", \"linecolor\": \"rgb(36,36,36)\", \"showgrid\": false, \"showline\": true, \"ticks\": \"outside\"}, \"bgcolor\": \"white\", \"caxis\": {\"gridcolor\": \"rgb(232,232,232)\", \"linecolor\": \"rgb(36,36,36)\", \"showgrid\": false, \"showline\": true, \"ticks\": \"outside\"}}, \"title\": {\"x\": 0.05}, \"xaxis\": {\"automargin\": true, \"gridcolor\": \"rgb(232,232,232)\", \"linecolor\": \"rgb(36,36,36)\", \"showgrid\": false, \"showline\": true, \"ticks\": \"outside\", \"title\": {\"standoff\": 15}, \"zeroline\": false, \"zerolinecolor\": \"rgb(36,36,36)\"}, \"yaxis\": {\"automargin\": true, \"gridcolor\": \"rgb(232,232,232)\", \"linecolor\": \"rgb(36,36,36)\", \"showgrid\": false, \"showline\": true, \"ticks\": \"outside\", \"title\": {\"standoff\": 15}, \"zeroline\": false, \"zerolinecolor\": \"rgb(36,36,36)\"}}}, \"width\": 800, \"xaxis\": {\"anchor\": \"y\", \"domain\": [0.0, 1.0], \"title\": {\"text\": \"PROPERTY: BCC/FCC/other\"}}, \"yaxis\": {\"anchor\": \"x\", \"domain\": [0.0, 1.0], \"title\": {\"text\": \"PROPERTY: HV\"}}},\n",
       "                        {\"responsive\": true}\n",
       "                    ).then(function(){\n",
       "                            \n",
       "var gd = document.getElementById('fade5225-76f7-4fd2-8153-b5b2722e8efe');\n",
       "var x = new MutationObserver(function (mutations, observer) {{\n",
       "        var display = window.getComputedStyle(gd).display;\n",
       "        if (!display || display === 'none') {{\n",
       "            console.log([gd, 'removed!']);\n",
       "            Plotly.purge(gd);\n",
       "            observer.disconnect();\n",
       "        }}\n",
       "}});\n",
       "\n",
       "// Listen for the removal of the full notebook cells\n",
       "var notebookContainer = gd.closest('#notebook-container');\n",
       "if (notebookContainer) {{\n",
       "    x.observe(notebookContainer, {childList: true});\n",
       "}}\n",
       "\n",
       "// Listen for the clearing of the current output cell\n",
       "var outputEl = gd.closest('.output');\n",
       "if (outputEl) {{\n",
       "    x.observe(outputEl, {childList: true});\n",
       "}}\n",
       "\n",
       "                        })\n",
       "                };\n",
       "                });\n",
       "            </script>\n",
       "        </div>"
      ]
     },
     "metadata": {},
     "output_type": "display_data"
    }
   ],
   "source": [
    "df = pd.read_csv('tests/data_with_added_errors/MPEA_dataset_with_fig4_error.csv')\n",
    "#df = df[(df['PROPERTY: Test temperature ($^\\circ$C)'] >= 20) & (df['PROPERTY: Test temperature ($^\\circ$C)'] <= 25)]\n",
    "\n",
    "fig = px.box(df, x='PROPERTY: BCC/FCC/other', y='PROPERTY: HV', points='all', hover_name='FORMULA', hover_data=['REFERENCE: doi'])\n",
    "fig.update_layout(width=800, height=800)\n",
    "fig.update_layout(font=dict(family=\"Barlow Semi Condensed\", size=26))\n",
    "fig.show()\n",
    "fig.write_image(\"figures/boxplot.pdf\")\n"
   ]
  },
  {
   "cell_type": "code",
   "execution_count": null,
   "metadata": {},
   "outputs": [],
   "source": []
  }
 ],
 "metadata": {
  "kernelspec": {
   "display_name": "Python 3",
   "language": "python",
   "name": "python3"
  },
  "language_info": {
   "codemirror_mode": {
    "name": "ipython",
    "version": 3
   },
   "file_extension": ".py",
   "mimetype": "text/x-python",
   "name": "python",
   "nbconvert_exporter": "python",
   "pygments_lexer": "ipython3",
   "version": "3.7.3"
  }
 },
 "nbformat": 4,
 "nbformat_minor": 4
}
