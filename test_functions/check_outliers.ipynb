{
 "cells": [
  {
   "cell_type": "markdown",
   "metadata": {},
   "source": [
    "# This notebook highlights extreme values recorded in the database."
   ]
  },
  {
   "cell_type": "code",
   "execution_count": 23,
   "metadata": {},
   "outputs": [
    {
     "name": "stdout",
     "output_type": "stream",
     "text": [
      "Index(['IDENTIFIER: Reference ID', 'FORMULA', 'PROPERTY: Microstructure',\n",
      "       'PROPERTY: Processing method', 'PROPERTY: BCC/FCC/other',\n",
      "       'PROPERTY: grain size ($\\mu$m)', 'PROPERTY: Exp. Density (g/cm$^3$)',\n",
      "       'PROPERTY: Calculated Density (g/cm$^3$)', 'PROPERTY: HV',\n",
      "       'PROPERTY: Type of test', 'PROPERTY: Test temperature ($^\\circ$C)',\n",
      "       'PROPERTY: YS (MPa)', 'PROPERTY: UTS (MPa)', 'PROPERTY: Elongation (%)',\n",
      "       'PROPERTY: Elongation plastic (%)',\n",
      "       'PROPERTY: Exp. Young modulus (GPa)',\n",
      "       'PROPERTY: Calculated Young modulus (GPa)',\n",
      "       'PROPERTY: O content (wppm)', 'PROPERTY: N content (wppm)',\n",
      "       'PROPERTY: C content (wppm)', 'REFERENCE: doi', 'REFERENCE: year',\n",
      "       'REFERENCE: title'],\n",
      "      dtype='object')\n"
     ]
    },
    {
     "data": {
      "text/html": [
       "<div>\n",
       "<style scoped>\n",
       "    .dataframe tbody tr th:only-of-type {\n",
       "        vertical-align: middle;\n",
       "    }\n",
       "\n",
       "    .dataframe tbody tr th {\n",
       "        vertical-align: top;\n",
       "    }\n",
       "\n",
       "    .dataframe thead th {\n",
       "        text-align: right;\n",
       "    }\n",
       "</style>\n",
       "<table border=\"1\" class=\"dataframe\">\n",
       "  <thead>\n",
       "    <tr style=\"text-align: right;\">\n",
       "      <th></th>\n",
       "      <th>PROPERTY: YS (MPa)</th>\n",
       "      <th>FORMULA</th>\n",
       "      <th>PROPERTY: Test temperature ($^\\circ$C)</th>\n",
       "      <th>PROPERTY: Microstructure</th>\n",
       "      <th>REFERENCE: doi</th>\n",
       "    </tr>\n",
       "  </thead>\n",
       "  <tbody>\n",
       "    <tr>\n",
       "      <th>823</th>\n",
       "      <td>3416.0</td>\n",
       "      <td>Cr1 Mo1 Nb1 Ta1 V1 W1</td>\n",
       "      <td>25.0</td>\n",
       "      <td>BCC+Laves+Sec.</td>\n",
       "      <td>10.1016/j.jallcom.2018.11.318</td>\n",
       "    </tr>\n",
       "    <tr>\n",
       "      <th>824</th>\n",
       "      <td>3410.0</td>\n",
       "      <td>Cr1 Mo1 Nb1 Ta1 V1 W1</td>\n",
       "      <td>25.0</td>\n",
       "      <td>BCC+Laves+Sec.</td>\n",
       "      <td>10.1016/j.jallcom.2018.11.318</td>\n",
       "    </tr>\n",
       "    <tr>\n",
       "      <th>825</th>\n",
       "      <td>3338.0</td>\n",
       "      <td>Cr1 Mo1 Nb1 Ta1 V1 W1</td>\n",
       "      <td>25.0</td>\n",
       "      <td>BCC+Laves+Sec.</td>\n",
       "      <td>10.1016/j.jallcom.2018.11.318</td>\n",
       "    </tr>\n",
       "    <tr>\n",
       "      <th>80</th>\n",
       "      <td>2757.0</td>\n",
       "      <td>Al1 Co1 Cr1 Fe1 Mo0.5 Ni1</td>\n",
       "      <td>25.0</td>\n",
       "      <td>BCC+Sec.</td>\n",
       "      <td>10.1016/j.msea.2010.07.028</td>\n",
       "    </tr>\n",
       "    <tr>\n",
       "      <th>991</th>\n",
       "      <td>2680.0</td>\n",
       "      <td>Cr0.286 Mo0.476 Nb1 Ta0.024 Ti0.31 V0.286</td>\n",
       "      <td>25.0</td>\n",
       "      <td>BCC+Sec.</td>\n",
       "      <td>10.1016/j.ijrmhm.2019.02.009</td>\n",
       "    </tr>\n",
       "  </tbody>\n",
       "</table>\n",
       "</div>"
      ],
      "text/plain": [
       "     PROPERTY: YS (MPa)                                    FORMULA  \\\n",
       "823              3416.0                      Cr1 Mo1 Nb1 Ta1 V1 W1   \n",
       "824              3410.0                      Cr1 Mo1 Nb1 Ta1 V1 W1   \n",
       "825              3338.0                      Cr1 Mo1 Nb1 Ta1 V1 W1   \n",
       "80               2757.0                  Al1 Co1 Cr1 Fe1 Mo0.5 Ni1   \n",
       "991              2680.0  Cr0.286 Mo0.476 Nb1 Ta0.024 Ti0.31 V0.286   \n",
       "\n",
       "     PROPERTY: Test temperature ($^\\circ$C) PROPERTY: Microstructure  \\\n",
       "823                                    25.0           BCC+Laves+Sec.   \n",
       "824                                    25.0           BCC+Laves+Sec.   \n",
       "825                                    25.0           BCC+Laves+Sec.   \n",
       "80                                     25.0                 BCC+Sec.   \n",
       "991                                    25.0                 BCC+Sec.   \n",
       "\n",
       "                    REFERENCE: doi  \n",
       "823  10.1016/j.jallcom.2018.11.318  \n",
       "824  10.1016/j.jallcom.2018.11.318  \n",
       "825  10.1016/j.jallcom.2018.11.318  \n",
       "80      10.1016/j.msea.2010.07.028  \n",
       "991   10.1016/j.ijrmhm.2019.02.009  "
      ]
     },
     "metadata": {},
     "output_type": "display_data"
    },
    {
     "data": {
      "text/html": [
       "<div>\n",
       "<style scoped>\n",
       "    .dataframe tbody tr th:only-of-type {\n",
       "        vertical-align: middle;\n",
       "    }\n",
       "\n",
       "    .dataframe tbody tr th {\n",
       "        vertical-align: top;\n",
       "    }\n",
       "\n",
       "    .dataframe thead th {\n",
       "        text-align: right;\n",
       "    }\n",
       "</style>\n",
       "<table border=\"1\" class=\"dataframe\">\n",
       "  <thead>\n",
       "    <tr style=\"text-align: right;\">\n",
       "      <th></th>\n",
       "      <th>PROPERTY: Elongation (%)</th>\n",
       "      <th>FORMULA</th>\n",
       "      <th>PROPERTY: Test temperature ($^\\circ$C)</th>\n",
       "      <th>PROPERTY: Microstructure</th>\n",
       "      <th>REFERENCE: doi</th>\n",
       "    </tr>\n",
       "  </thead>\n",
       "  <tbody>\n",
       "    <tr>\n",
       "      <th>1040</th>\n",
       "      <td>189.2</td>\n",
       "      <td>Co0.5 Fe0.5 Mo0.1 Ni1 V0.25</td>\n",
       "      <td>600.0</td>\n",
       "      <td>FCC</td>\n",
       "      <td>10.1016/j.scriptamat.2019.02.038</td>\n",
       "    </tr>\n",
       "    <tr>\n",
       "      <th>1041</th>\n",
       "      <td>154.3</td>\n",
       "      <td>Co0.5 Fe0.5 Mo0.1 Ni1 V0.25</td>\n",
       "      <td>700.0</td>\n",
       "      <td>FCC</td>\n",
       "      <td>10.1016/j.scriptamat.2019.02.038</td>\n",
       "    </tr>\n",
       "    <tr>\n",
       "      <th>1042</th>\n",
       "      <td>119.5</td>\n",
       "      <td>Co0.5 Fe0.5 Mo0.1 Ni1 V0.25</td>\n",
       "      <td>800.0</td>\n",
       "      <td>FCC</td>\n",
       "      <td>10.1016/j.scriptamat.2019.02.038</td>\n",
       "    </tr>\n",
       "    <tr>\n",
       "      <th>1013</th>\n",
       "      <td>105.0</td>\n",
       "      <td>Co1 Cr1 Fe1 Ni1</td>\n",
       "      <td>25.0</td>\n",
       "      <td>FCC</td>\n",
       "      <td>10.1016/j.actamat.2019.04.017</td>\n",
       "    </tr>\n",
       "    <tr>\n",
       "      <th>1008</th>\n",
       "      <td>101.0</td>\n",
       "      <td>Co1 Cr0.25 Ni1</td>\n",
       "      <td>25.0</td>\n",
       "      <td>FCC</td>\n",
       "      <td>10.1016/j.actamat.2019.04.017</td>\n",
       "    </tr>\n",
       "  </tbody>\n",
       "</table>\n",
       "</div>"
      ],
      "text/plain": [
       "      PROPERTY: Elongation (%)                      FORMULA  \\\n",
       "1040                     189.2  Co0.5 Fe0.5 Mo0.1 Ni1 V0.25   \n",
       "1041                     154.3  Co0.5 Fe0.5 Mo0.1 Ni1 V0.25   \n",
       "1042                     119.5  Co0.5 Fe0.5 Mo0.1 Ni1 V0.25   \n",
       "1013                     105.0              Co1 Cr1 Fe1 Ni1   \n",
       "1008                     101.0               Co1 Cr0.25 Ni1   \n",
       "\n",
       "      PROPERTY: Test temperature ($^\\circ$C) PROPERTY: Microstructure  \\\n",
       "1040                                   600.0                      FCC   \n",
       "1041                                   700.0                      FCC   \n",
       "1042                                   800.0                      FCC   \n",
       "1013                                    25.0                      FCC   \n",
       "1008                                    25.0                      FCC   \n",
       "\n",
       "                        REFERENCE: doi  \n",
       "1040  10.1016/j.scriptamat.2019.02.038  \n",
       "1041  10.1016/j.scriptamat.2019.02.038  \n",
       "1042  10.1016/j.scriptamat.2019.02.038  \n",
       "1013     10.1016/j.actamat.2019.04.017  \n",
       "1008     10.1016/j.actamat.2019.04.017  "
      ]
     },
     "metadata": {},
     "output_type": "display_data"
    },
    {
     "data": {
      "text/html": [
       "<div>\n",
       "<style scoped>\n",
       "    .dataframe tbody tr th:only-of-type {\n",
       "        vertical-align: middle;\n",
       "    }\n",
       "\n",
       "    .dataframe tbody tr th {\n",
       "        vertical-align: top;\n",
       "    }\n",
       "\n",
       "    .dataframe thead th {\n",
       "        text-align: right;\n",
       "    }\n",
       "</style>\n",
       "<table border=\"1\" class=\"dataframe\">\n",
       "  <thead>\n",
       "    <tr style=\"text-align: right;\">\n",
       "      <th></th>\n",
       "      <th>PROPERTY: HV</th>\n",
       "      <th>FORMULA</th>\n",
       "      <th>PROPERTY: Test temperature ($^\\circ$C)</th>\n",
       "      <th>PROPERTY: Microstructure</th>\n",
       "      <th>REFERENCE: doi</th>\n",
       "    </tr>\n",
       "  </thead>\n",
       "  <tbody>\n",
       "    <tr>\n",
       "      <th>1189</th>\n",
       "      <td>1630.0</td>\n",
       "      <td>Mo1 Nb1 Ta1 W1</td>\n",
       "      <td>NaN</td>\n",
       "      <td>BCC</td>\n",
       "      <td>10.1016/j.msea.2019.138140</td>\n",
       "    </tr>\n",
       "    <tr>\n",
       "      <th>1188</th>\n",
       "      <td>1450.0</td>\n",
       "      <td>Mo1 Nb1 Ta1 W1</td>\n",
       "      <td>NaN</td>\n",
       "      <td>BCC</td>\n",
       "      <td>10.1016/j.msea.2019.138140</td>\n",
       "    </tr>\n",
       "    <tr>\n",
       "      <th>804</th>\n",
       "      <td>1183.0</td>\n",
       "      <td>Al1 Co1 Cr1 Ni1</td>\n",
       "      <td>25.0</td>\n",
       "      <td>BCC+B2</td>\n",
       "      <td>10.1016/j.jallcom.2018.11.057</td>\n",
       "    </tr>\n",
       "    <tr>\n",
       "      <th>1362</th>\n",
       "      <td>1084.0</td>\n",
       "      <td>Al1 Co1 Cr0.091 Nb0.727 W0.212</td>\n",
       "      <td>25.0</td>\n",
       "      <td>NaN</td>\n",
       "      <td>10.1038/s41467-019-10533-1</td>\n",
       "    </tr>\n",
       "    <tr>\n",
       "      <th>822</th>\n",
       "      <td>1072.0</td>\n",
       "      <td>Cr1 Mo1 Nb1 Ta1 V1 W1</td>\n",
       "      <td>25.0</td>\n",
       "      <td>BCC+Laves+Sec.</td>\n",
       "      <td>10.1016/j.jallcom.2018.11.318</td>\n",
       "    </tr>\n",
       "  </tbody>\n",
       "</table>\n",
       "</div>"
      ],
      "text/plain": [
       "      PROPERTY: HV                         FORMULA  \\\n",
       "1189        1630.0                  Mo1 Nb1 Ta1 W1   \n",
       "1188        1450.0                  Mo1 Nb1 Ta1 W1   \n",
       "804         1183.0                 Al1 Co1 Cr1 Ni1   \n",
       "1362        1084.0  Al1 Co1 Cr0.091 Nb0.727 W0.212   \n",
       "822         1072.0           Cr1 Mo1 Nb1 Ta1 V1 W1   \n",
       "\n",
       "      PROPERTY: Test temperature ($^\\circ$C) PROPERTY: Microstructure  \\\n",
       "1189                                     NaN                      BCC   \n",
       "1188                                     NaN                      BCC   \n",
       "804                                     25.0                   BCC+B2   \n",
       "1362                                    25.0                      NaN   \n",
       "822                                     25.0           BCC+Laves+Sec.   \n",
       "\n",
       "                     REFERENCE: doi  \n",
       "1189     10.1016/j.msea.2019.138140  \n",
       "1188     10.1016/j.msea.2019.138140  \n",
       "804   10.1016/j.jallcom.2018.11.057  \n",
       "1362     10.1038/s41467-019-10533-1  \n",
       "822   10.1016/j.jallcom.2018.11.318  "
      ]
     },
     "metadata": {},
     "output_type": "display_data"
    },
    {
     "data": {
      "text/html": [
       "<div>\n",
       "<style scoped>\n",
       "    .dataframe tbody tr th:only-of-type {\n",
       "        vertical-align: middle;\n",
       "    }\n",
       "\n",
       "    .dataframe tbody tr th {\n",
       "        vertical-align: top;\n",
       "    }\n",
       "\n",
       "    .dataframe thead th {\n",
       "        text-align: right;\n",
       "    }\n",
       "</style>\n",
       "<table border=\"1\" class=\"dataframe\">\n",
       "  <thead>\n",
       "    <tr style=\"text-align: right;\">\n",
       "      <th></th>\n",
       "      <th>PROPERTY: Processing method</th>\n",
       "      <th>FORMULA</th>\n",
       "      <th>PROPERTY: Test temperature ($^\\circ$C)</th>\n",
       "      <th>PROPERTY: Microstructure</th>\n",
       "      <th>REFERENCE: doi</th>\n",
       "    </tr>\n",
       "  </thead>\n",
       "  <tbody>\n",
       "    <tr>\n",
       "      <th>682</th>\n",
       "      <td>WROUGHT</td>\n",
       "      <td>Co1 Cr0.429 Fe0.571 Mo0.286 Ni0.571</td>\n",
       "      <td>25.0</td>\n",
       "      <td>FCC+Sec.</td>\n",
       "      <td>10.1016/j.scriptamat.2017.05.019</td>\n",
       "    </tr>\n",
       "    <tr>\n",
       "      <th>1146</th>\n",
       "      <td>WROUGHT</td>\n",
       "      <td>Hf1 Nb1 Ta1 Ti1 Zr1</td>\n",
       "      <td>160.0</td>\n",
       "      <td>BCC</td>\n",
       "      <td>10.1016/j.jallcom.2019.05.322</td>\n",
       "    </tr>\n",
       "    <tr>\n",
       "      <th>1048</th>\n",
       "      <td>WROUGHT</td>\n",
       "      <td>Co0.318 Cr0.227 Fe1 Mo0.091 Ni0.182</td>\n",
       "      <td>25.0</td>\n",
       "      <td>FCC+Sec.</td>\n",
       "      <td>10.1016/j.jallcom.2018.12.040</td>\n",
       "    </tr>\n",
       "    <tr>\n",
       "      <th>788</th>\n",
       "      <td>WROUGHT</td>\n",
       "      <td>Co1 Cr1 Fe1 Ni1</td>\n",
       "      <td>-268.8</td>\n",
       "      <td>FCC</td>\n",
       "      <td>10.1007/s40843-018-9373-y</td>\n",
       "    </tr>\n",
       "    <tr>\n",
       "      <th>648</th>\n",
       "      <td>WROUGHT</td>\n",
       "      <td>Al0.304 Co1 Cr1 Fe1 Ni1</td>\n",
       "      <td>25.0</td>\n",
       "      <td>FCC</td>\n",
       "      <td>10.1016/j.matdes.2017.02.072</td>\n",
       "    </tr>\n",
       "  </tbody>\n",
       "</table>\n",
       "</div>"
      ],
      "text/plain": [
       "     PROPERTY: Processing method                              FORMULA  \\\n",
       "682                      WROUGHT  Co1 Cr0.429 Fe0.571 Mo0.286 Ni0.571   \n",
       "1146                     WROUGHT                  Hf1 Nb1 Ta1 Ti1 Zr1   \n",
       "1048                     WROUGHT  Co0.318 Cr0.227 Fe1 Mo0.091 Ni0.182   \n",
       "788                      WROUGHT                      Co1 Cr1 Fe1 Ni1   \n",
       "648                      WROUGHT              Al0.304 Co1 Cr1 Fe1 Ni1   \n",
       "\n",
       "      PROPERTY: Test temperature ($^\\circ$C) PROPERTY: Microstructure  \\\n",
       "682                                     25.0                 FCC+Sec.   \n",
       "1146                                   160.0                      BCC   \n",
       "1048                                    25.0                 FCC+Sec.   \n",
       "788                                   -268.8                      FCC   \n",
       "648                                     25.0                      FCC   \n",
       "\n",
       "                        REFERENCE: doi  \n",
       "682   10.1016/j.scriptamat.2017.05.019  \n",
       "1146     10.1016/j.jallcom.2019.05.322  \n",
       "1048     10.1016/j.jallcom.2018.12.040  \n",
       "788          10.1007/s40843-018-9373-y  \n",
       "648       10.1016/j.matdes.2017.02.072  "
      ]
     },
     "metadata": {},
     "output_type": "display_data"
    }
   ],
   "source": [
    "import pandas as pd\n",
    "\n",
    "\n",
    "props = ['PROPERTY: YS (MPa)', 'PROPERTY: Elongation (%)', 'PROPERTY: HV', 'PROPERTY: Processing method']\n",
    "\n",
    "df = pd.read_csv('../MPEA_dataset.csv')\n",
    "print(df.keys())\n",
    "for prop in props:\n",
    "    df = df.sort_values(prop, ascending=False)\n",
    "    top_ys = df.head(5)\n",
    "    display(top_ys[[prop, 'FORMULA', 'PROPERTY: Test temperature ($^\\circ$C)', 'PROPERTY: Microstructure', 'REFERENCE: doi']])"
   ]
  },
  {
   "cell_type": "code",
   "execution_count": 24,
   "metadata": {},
   "outputs": [
    {
     "data": {
      "text/html": [
       "<div>\n",
       "<style scoped>\n",
       "    .dataframe tbody tr th:only-of-type {\n",
       "        vertical-align: middle;\n",
       "    }\n",
       "\n",
       "    .dataframe tbody tr th {\n",
       "        vertical-align: top;\n",
       "    }\n",
       "\n",
       "    .dataframe thead th {\n",
       "        text-align: right;\n",
       "    }\n",
       "</style>\n",
       "<table border=\"1\" class=\"dataframe\">\n",
       "  <thead>\n",
       "    <tr style=\"text-align: right;\">\n",
       "      <th></th>\n",
       "      <th>PROPERTY: YS (MPa)</th>\n",
       "      <th>FORMULA</th>\n",
       "      <th>PROPERTY: Test temperature ($^\\circ$C)</th>\n",
       "      <th>PROPERTY: Microstructure</th>\n",
       "      <th>REFERENCE: doi</th>\n",
       "    </tr>\n",
       "  </thead>\n",
       "  <tbody>\n",
       "    <tr>\n",
       "      <th>970</th>\n",
       "      <td>24.0</td>\n",
       "      <td>Al0.24 Nb1 Ti1 V1 Zr1</td>\n",
       "      <td>1200.0</td>\n",
       "      <td>BCC+Laves</td>\n",
       "      <td>10.1016/j.actamat.2019.06.032</td>\n",
       "    </tr>\n",
       "    <tr>\n",
       "      <th>972</th>\n",
       "      <td>32.0</td>\n",
       "      <td>Cr1 Nb0.333 Ti0.333 Zr0.333</td>\n",
       "      <td>1200.0</td>\n",
       "      <td>BCC+Laves</td>\n",
       "      <td>10.1016/j.actamat.2019.06.032</td>\n",
       "    </tr>\n",
       "    <tr>\n",
       "      <th>600</th>\n",
       "      <td>40.0</td>\n",
       "      <td>Al1 Cr0.5 Nb1 Ti1 V1</td>\n",
       "      <td>1000.0</td>\n",
       "      <td>BCC</td>\n",
       "      <td>10.1016/j.jallcom.2015.08.224</td>\n",
       "    </tr>\n",
       "    <tr>\n",
       "      <th>415</th>\n",
       "      <td>47.0</td>\n",
       "      <td>Al1 Co1 Cr1 Cu1 Fe1 Ni1</td>\n",
       "      <td>1000.0</td>\n",
       "      <td>FCC+BCC</td>\n",
       "      <td>10.1007/s11661-005-0218-9</td>\n",
       "    </tr>\n",
       "    <tr>\n",
       "      <th>1028</th>\n",
       "      <td>48.0</td>\n",
       "      <td>Al1 Cr1 Cu1 Fe1 Ni1</td>\n",
       "      <td>800.0</td>\n",
       "      <td>FCC+BCC+B2</td>\n",
       "      <td>10.1016/j.jallcom.2019.01.341</td>\n",
       "    </tr>\n",
       "    <tr>\n",
       "      <th>306</th>\n",
       "      <td>58.0</td>\n",
       "      <td>Nb1 Ti1 V1 Zr1</td>\n",
       "      <td>1000.0</td>\n",
       "      <td>BCC</td>\n",
       "      <td>10.1016/j.msea.2012.12.018</td>\n",
       "    </tr>\n",
       "    <tr>\n",
       "      <th>521</th>\n",
       "      <td>60.0</td>\n",
       "      <td>Hf1 Mo0.5 Nb1 Ti1 V0.5</td>\n",
       "      <td>1200.0</td>\n",
       "      <td>BCC</td>\n",
       "      <td>10.1016/j.jallcom.2016.10.014</td>\n",
       "    </tr>\n",
       "    <tr>\n",
       "      <th>957</th>\n",
       "      <td>60.0</td>\n",
       "      <td>Hf1 Mo0.5 Nb1 Ti1 V0.5</td>\n",
       "      <td>1200.0</td>\n",
       "      <td>BCC</td>\n",
       "      <td>10.1016/j.actamat.2019.06.032</td>\n",
       "    </tr>\n",
       "    <tr>\n",
       "      <th>968</th>\n",
       "      <td>61.0</td>\n",
       "      <td>Nb1 Ti1 Zr1</td>\n",
       "      <td>1200.0</td>\n",
       "      <td>BCC</td>\n",
       "      <td>10.1016/j.actamat.2019.06.032</td>\n",
       "    </tr>\n",
       "    <tr>\n",
       "      <th>747</th>\n",
       "      <td>63.0</td>\n",
       "      <td>Al1 Co1 Cr1 Cu1 Fe1 Ni1</td>\n",
       "      <td>700.0</td>\n",
       "      <td>BCC+Sec.</td>\n",
       "      <td>10.1016/j.msea.2011.11.045</td>\n",
       "    </tr>\n",
       "  </tbody>\n",
       "</table>\n",
       "</div>"
      ],
      "text/plain": [
       "      PROPERTY: YS (MPa)                      FORMULA  \\\n",
       "970                 24.0        Al0.24 Nb1 Ti1 V1 Zr1   \n",
       "972                 32.0  Cr1 Nb0.333 Ti0.333 Zr0.333   \n",
       "600                 40.0         Al1 Cr0.5 Nb1 Ti1 V1   \n",
       "415                 47.0      Al1 Co1 Cr1 Cu1 Fe1 Ni1   \n",
       "1028                48.0          Al1 Cr1 Cu1 Fe1 Ni1   \n",
       "306                 58.0               Nb1 Ti1 V1 Zr1   \n",
       "521                 60.0       Hf1 Mo0.5 Nb1 Ti1 V0.5   \n",
       "957                 60.0       Hf1 Mo0.5 Nb1 Ti1 V0.5   \n",
       "968                 61.0                  Nb1 Ti1 Zr1   \n",
       "747                 63.0      Al1 Co1 Cr1 Cu1 Fe1 Ni1   \n",
       "\n",
       "      PROPERTY: Test temperature ($^\\circ$C) PROPERTY: Microstructure  \\\n",
       "970                                   1200.0                BCC+Laves   \n",
       "972                                   1200.0                BCC+Laves   \n",
       "600                                   1000.0                      BCC   \n",
       "415                                   1000.0                  FCC+BCC   \n",
       "1028                                   800.0               FCC+BCC+B2   \n",
       "306                                   1000.0                      BCC   \n",
       "521                                   1200.0                      BCC   \n",
       "957                                   1200.0                      BCC   \n",
       "968                                   1200.0                      BCC   \n",
       "747                                    700.0                 BCC+Sec.   \n",
       "\n",
       "                     REFERENCE: doi  \n",
       "970   10.1016/j.actamat.2019.06.032  \n",
       "972   10.1016/j.actamat.2019.06.032  \n",
       "600   10.1016/j.jallcom.2015.08.224  \n",
       "415       10.1007/s11661-005-0218-9  \n",
       "1028  10.1016/j.jallcom.2019.01.341  \n",
       "306      10.1016/j.msea.2012.12.018  \n",
       "521   10.1016/j.jallcom.2016.10.014  \n",
       "957   10.1016/j.actamat.2019.06.032  \n",
       "968   10.1016/j.actamat.2019.06.032  \n",
       "747      10.1016/j.msea.2011.11.045  "
      ]
     },
     "metadata": {},
     "output_type": "display_data"
    },
    {
     "data": {
      "text/html": [
       "<div>\n",
       "<style scoped>\n",
       "    .dataframe tbody tr th:only-of-type {\n",
       "        vertical-align: middle;\n",
       "    }\n",
       "\n",
       "    .dataframe tbody tr th {\n",
       "        vertical-align: top;\n",
       "    }\n",
       "\n",
       "    .dataframe thead th {\n",
       "        text-align: right;\n",
       "    }\n",
       "</style>\n",
       "<table border=\"1\" class=\"dataframe\">\n",
       "  <thead>\n",
       "    <tr style=\"text-align: right;\">\n",
       "      <th></th>\n",
       "      <th>PROPERTY: Elongation (%)</th>\n",
       "      <th>FORMULA</th>\n",
       "      <th>PROPERTY: Test temperature ($^\\circ$C)</th>\n",
       "      <th>PROPERTY: Microstructure</th>\n",
       "      <th>REFERENCE: doi</th>\n",
       "    </tr>\n",
       "  </thead>\n",
       "  <tbody>\n",
       "    <tr>\n",
       "      <th>1456</th>\n",
       "      <td>0.00</td>\n",
       "      <td>Nb0.333 Ta0.667 Ti0.667 Zr1</td>\n",
       "      <td>25.0</td>\n",
       "      <td>BCC+Sec.</td>\n",
       "      <td>10.3390/e21020114</td>\n",
       "    </tr>\n",
       "    <tr>\n",
       "      <th>1453</th>\n",
       "      <td>0.00</td>\n",
       "      <td>Ta1 Ti1 Zr1</td>\n",
       "      <td>25.0</td>\n",
       "      <td>BCC+Sec.</td>\n",
       "      <td>10.3390/e21020114</td>\n",
       "    </tr>\n",
       "    <tr>\n",
       "      <th>737</th>\n",
       "      <td>0.10</td>\n",
       "      <td>Al0.242 Co0.515 Cr0.515 Cu0.242 Fe0.515 Ni1</td>\n",
       "      <td>25.0</td>\n",
       "      <td>Other</td>\n",
       "      <td>10.1007/s11837-013-0756-3</td>\n",
       "    </tr>\n",
       "    <tr>\n",
       "      <th>742</th>\n",
       "      <td>0.20</td>\n",
       "      <td>Al1 Co1 Cr1 Cu1 Fe1 Ni1</td>\n",
       "      <td>25.0</td>\n",
       "      <td>BCC+Sec.</td>\n",
       "      <td>10.1016/j.msea.2011.11.045</td>\n",
       "    </tr>\n",
       "    <tr>\n",
       "      <th>561</th>\n",
       "      <td>0.30</td>\n",
       "      <td>Hf1 Nb1 Ta1 Zr1</td>\n",
       "      <td>25.0</td>\n",
       "      <td>BCC+HCP</td>\n",
       "      <td>10.1016/j.actamat.2016.01.018</td>\n",
       "    </tr>\n",
       "    <tr>\n",
       "      <th>1455</th>\n",
       "      <td>0.33</td>\n",
       "      <td>Nb1 Ta0.667 Ti0.667 Zr0.333</td>\n",
       "      <td>25.0</td>\n",
       "      <td>BCC+Sec.</td>\n",
       "      <td>10.3390/e21020114</td>\n",
       "    </tr>\n",
       "    <tr>\n",
       "      <th>771</th>\n",
       "      <td>0.70</td>\n",
       "      <td>Co1 Cr1 Fe1 Mn1 Ni1</td>\n",
       "      <td>25.0</td>\n",
       "      <td>FCC</td>\n",
       "      <td>10.1016/j.scriptamat.2018.11.042</td>\n",
       "    </tr>\n",
       "    <tr>\n",
       "      <th>663</th>\n",
       "      <td>0.80</td>\n",
       "      <td>Al1 Co1 Cr1 Fe1 Ni1</td>\n",
       "      <td>25.0</td>\n",
       "      <td>FCC+BCC</td>\n",
       "      <td>10.1016/j.jallcom.2017.03.307</td>\n",
       "    </tr>\n",
       "    <tr>\n",
       "      <th>1133</th>\n",
       "      <td>0.90</td>\n",
       "      <td>Cr1 Fe1 Mo1 Nb1 Ti1</td>\n",
       "      <td>25.0</td>\n",
       "      <td>BCC+Laves</td>\n",
       "      <td>10.1007/s40195-019-00935-x</td>\n",
       "    </tr>\n",
       "    <tr>\n",
       "      <th>657</th>\n",
       "      <td>1.00</td>\n",
       "      <td>Al1 Co1 Cr1 Fe1 Ni1</td>\n",
       "      <td>25.0</td>\n",
       "      <td>BCC+B2</td>\n",
       "      <td>10.1016/j.jallcom.2017.03.307</td>\n",
       "    </tr>\n",
       "  </tbody>\n",
       "</table>\n",
       "</div>"
      ],
      "text/plain": [
       "      PROPERTY: Elongation (%)                                      FORMULA  \\\n",
       "1456                      0.00                  Nb0.333 Ta0.667 Ti0.667 Zr1   \n",
       "1453                      0.00                                  Ta1 Ti1 Zr1   \n",
       "737                       0.10  Al0.242 Co0.515 Cr0.515 Cu0.242 Fe0.515 Ni1   \n",
       "742                       0.20                      Al1 Co1 Cr1 Cu1 Fe1 Ni1   \n",
       "561                       0.30                              Hf1 Nb1 Ta1 Zr1   \n",
       "1455                      0.33                  Nb1 Ta0.667 Ti0.667 Zr0.333   \n",
       "771                       0.70                          Co1 Cr1 Fe1 Mn1 Ni1   \n",
       "663                       0.80                          Al1 Co1 Cr1 Fe1 Ni1   \n",
       "1133                      0.90                          Cr1 Fe1 Mo1 Nb1 Ti1   \n",
       "657                       1.00                          Al1 Co1 Cr1 Fe1 Ni1   \n",
       "\n",
       "      PROPERTY: Test temperature ($^\\circ$C) PROPERTY: Microstructure  \\\n",
       "1456                                    25.0                 BCC+Sec.   \n",
       "1453                                    25.0                 BCC+Sec.   \n",
       "737                                     25.0                    Other   \n",
       "742                                     25.0                 BCC+Sec.   \n",
       "561                                     25.0                  BCC+HCP   \n",
       "1455                                    25.0                 BCC+Sec.   \n",
       "771                                     25.0                      FCC   \n",
       "663                                     25.0                  FCC+BCC   \n",
       "1133                                    25.0                BCC+Laves   \n",
       "657                                     25.0                   BCC+B2   \n",
       "\n",
       "                        REFERENCE: doi  \n",
       "1456                 10.3390/e21020114  \n",
       "1453                 10.3390/e21020114  \n",
       "737          10.1007/s11837-013-0756-3  \n",
       "742         10.1016/j.msea.2011.11.045  \n",
       "561      10.1016/j.actamat.2016.01.018  \n",
       "1455                 10.3390/e21020114  \n",
       "771   10.1016/j.scriptamat.2018.11.042  \n",
       "663      10.1016/j.jallcom.2017.03.307  \n",
       "1133        10.1007/s40195-019-00935-x  \n",
       "657      10.1016/j.jallcom.2017.03.307  "
      ]
     },
     "metadata": {},
     "output_type": "display_data"
    },
    {
     "data": {
      "text/html": [
       "<div>\n",
       "<style scoped>\n",
       "    .dataframe tbody tr th:only-of-type {\n",
       "        vertical-align: middle;\n",
       "    }\n",
       "\n",
       "    .dataframe tbody tr th {\n",
       "        vertical-align: top;\n",
       "    }\n",
       "\n",
       "    .dataframe thead th {\n",
       "        text-align: right;\n",
       "    }\n",
       "</style>\n",
       "<table border=\"1\" class=\"dataframe\">\n",
       "  <thead>\n",
       "    <tr style=\"text-align: right;\">\n",
       "      <th></th>\n",
       "      <th>PROPERTY: HV</th>\n",
       "      <th>FORMULA</th>\n",
       "      <th>PROPERTY: Test temperature ($^\\circ$C)</th>\n",
       "      <th>PROPERTY: Microstructure</th>\n",
       "      <th>REFERENCE: doi</th>\n",
       "    </tr>\n",
       "  </thead>\n",
       "  <tbody>\n",
       "    <tr>\n",
       "      <th>789</th>\n",
       "      <td>94.7</td>\n",
       "      <td>Co1 Cr1 Fe1 Ni1</td>\n",
       "      <td>NaN</td>\n",
       "      <td>FCC</td>\n",
       "      <td>10.1016/j.matdes.2019.107698</td>\n",
       "    </tr>\n",
       "    <tr>\n",
       "      <th>1135</th>\n",
       "      <td>107.0</td>\n",
       "      <td>Al0.15 Cr0.5 Cu0.25 Fe0.5 Ni1</td>\n",
       "      <td>62.0</td>\n",
       "      <td>FCC</td>\n",
       "      <td>10.1016/j.matchar.2019.109792</td>\n",
       "    </tr>\n",
       "    <tr>\n",
       "      <th>395</th>\n",
       "      <td>109.0</td>\n",
       "      <td>Cu1 Mn1 Ni1 Zn0.25</td>\n",
       "      <td>25.0</td>\n",
       "      <td>FCC</td>\n",
       "      <td>10.1016/j.jallcom.2015.07.285</td>\n",
       "    </tr>\n",
       "    <tr>\n",
       "      <th>22</th>\n",
       "      <td>110.0</td>\n",
       "      <td>Al0.25 Co1 Cr1 Fe1 Ni1</td>\n",
       "      <td>25.0</td>\n",
       "      <td>FCC</td>\n",
       "      <td>10.1016/j.jallcom.2009.08.090</td>\n",
       "    </tr>\n",
       "    <tr>\n",
       "      <th>23</th>\n",
       "      <td>113.0</td>\n",
       "      <td>Al0.25 Co1 Cr1 Fe1 Ni1</td>\n",
       "      <td>25.0</td>\n",
       "      <td>FCC</td>\n",
       "      <td>10.1016/j.jallcom.2009.08.090</td>\n",
       "    </tr>\n",
       "    <tr>\n",
       "      <th>41</th>\n",
       "      <td>113.0</td>\n",
       "      <td>Co1 Cr1 Fe1 Ni1</td>\n",
       "      <td>25.0</td>\n",
       "      <td>FCC</td>\n",
       "      <td>10.1016/j.jallcom.2009.08.090</td>\n",
       "    </tr>\n",
       "    <tr>\n",
       "      <th>40</th>\n",
       "      <td>116.0</td>\n",
       "      <td>Co1 Cr1 Fe1 Ni1</td>\n",
       "      <td>25.0</td>\n",
       "      <td>FCC</td>\n",
       "      <td>10.1016/j.jallcom.2009.08.090</td>\n",
       "    </tr>\n",
       "    <tr>\n",
       "      <th>790</th>\n",
       "      <td>117.0</td>\n",
       "      <td>Al0.3 Co1 Cr1 Fe1 Ni1</td>\n",
       "      <td>NaN</td>\n",
       "      <td>FCC</td>\n",
       "      <td>10.1016/j.matdes.2019.107698</td>\n",
       "    </tr>\n",
       "    <tr>\n",
       "      <th>4</th>\n",
       "      <td>125.0</td>\n",
       "      <td>Co1 Fe1 Ni1</td>\n",
       "      <td>25.0</td>\n",
       "      <td>FCC</td>\n",
       "      <td>10.1016/j.jmmm.2014.07.023</td>\n",
       "    </tr>\n",
       "    <tr>\n",
       "      <th>5</th>\n",
       "      <td>125.0</td>\n",
       "      <td>Co1 Fe1 Ni1</td>\n",
       "      <td>25.0</td>\n",
       "      <td>FCC</td>\n",
       "      <td>10.1016/j.jmmm.2014.07.023</td>\n",
       "    </tr>\n",
       "  </tbody>\n",
       "</table>\n",
       "</div>"
      ],
      "text/plain": [
       "      PROPERTY: HV                        FORMULA  \\\n",
       "789           94.7                Co1 Cr1 Fe1 Ni1   \n",
       "1135         107.0  Al0.15 Cr0.5 Cu0.25 Fe0.5 Ni1   \n",
       "395          109.0             Cu1 Mn1 Ni1 Zn0.25   \n",
       "22           110.0         Al0.25 Co1 Cr1 Fe1 Ni1   \n",
       "23           113.0         Al0.25 Co1 Cr1 Fe1 Ni1   \n",
       "41           113.0                Co1 Cr1 Fe1 Ni1   \n",
       "40           116.0                Co1 Cr1 Fe1 Ni1   \n",
       "790          117.0          Al0.3 Co1 Cr1 Fe1 Ni1   \n",
       "4            125.0                    Co1 Fe1 Ni1   \n",
       "5            125.0                    Co1 Fe1 Ni1   \n",
       "\n",
       "      PROPERTY: Test temperature ($^\\circ$C) PROPERTY: Microstructure  \\\n",
       "789                                      NaN                      FCC   \n",
       "1135                                    62.0                      FCC   \n",
       "395                                     25.0                      FCC   \n",
       "22                                      25.0                      FCC   \n",
       "23                                      25.0                      FCC   \n",
       "41                                      25.0                      FCC   \n",
       "40                                      25.0                      FCC   \n",
       "790                                      NaN                      FCC   \n",
       "4                                       25.0                      FCC   \n",
       "5                                       25.0                      FCC   \n",
       "\n",
       "                     REFERENCE: doi  \n",
       "789    10.1016/j.matdes.2019.107698  \n",
       "1135  10.1016/j.matchar.2019.109792  \n",
       "395   10.1016/j.jallcom.2015.07.285  \n",
       "22    10.1016/j.jallcom.2009.08.090  \n",
       "23    10.1016/j.jallcom.2009.08.090  \n",
       "41    10.1016/j.jallcom.2009.08.090  \n",
       "40    10.1016/j.jallcom.2009.08.090  \n",
       "790    10.1016/j.matdes.2019.107698  \n",
       "4        10.1016/j.jmmm.2014.07.023  \n",
       "5        10.1016/j.jmmm.2014.07.023  "
      ]
     },
     "metadata": {},
     "output_type": "display_data"
    },
    {
     "data": {
      "text/html": [
       "<div>\n",
       "<style scoped>\n",
       "    .dataframe tbody tr th:only-of-type {\n",
       "        vertical-align: middle;\n",
       "    }\n",
       "\n",
       "    .dataframe tbody tr th {\n",
       "        vertical-align: top;\n",
       "    }\n",
       "\n",
       "    .dataframe thead th {\n",
       "        text-align: right;\n",
       "    }\n",
       "</style>\n",
       "<table border=\"1\" class=\"dataframe\">\n",
       "  <thead>\n",
       "    <tr style=\"text-align: right;\">\n",
       "      <th></th>\n",
       "      <th>PROPERTY: Processing method</th>\n",
       "      <th>FORMULA</th>\n",
       "      <th>PROPERTY: Test temperature ($^\\circ$C)</th>\n",
       "      <th>PROPERTY: Microstructure</th>\n",
       "      <th>REFERENCE: doi</th>\n",
       "    </tr>\n",
       "  </thead>\n",
       "  <tbody>\n",
       "    <tr>\n",
       "      <th>1540</th>\n",
       "      <td>ANNEAL</td>\n",
       "      <td>Cr1 Nb1 Ta1 Ti1</td>\n",
       "      <td>NaN</td>\n",
       "      <td>BCC+Sec.</td>\n",
       "      <td>10.1016/j.matdes.2018.06.003</td>\n",
       "    </tr>\n",
       "    <tr>\n",
       "      <th>37</th>\n",
       "      <td>ANNEAL</td>\n",
       "      <td>Al1 Co0.5 Cr0.5 Fe0.5 Ni0.5</td>\n",
       "      <td>25.0</td>\n",
       "      <td>BCC</td>\n",
       "      <td>10.1016/j.jallcom.2009.08.090</td>\n",
       "    </tr>\n",
       "    <tr>\n",
       "      <th>285</th>\n",
       "      <td>ANNEAL</td>\n",
       "      <td>Al1 Nb1 Ti1 V1</td>\n",
       "      <td>800.0</td>\n",
       "      <td>BCC</td>\n",
       "      <td>10.1016/j.matlet.2014.11.162</td>\n",
       "    </tr>\n",
       "    <tr>\n",
       "      <th>55</th>\n",
       "      <td>ANNEAL</td>\n",
       "      <td>Co1 Cr0.667 Fe0.667 Ni1 Ti0.333</td>\n",
       "      <td>25.0</td>\n",
       "      <td>FCC</td>\n",
       "      <td>10.1016/j.actamat.2011.06.041</td>\n",
       "    </tr>\n",
       "    <tr>\n",
       "      <th>36</th>\n",
       "      <td>ANNEAL</td>\n",
       "      <td>Al1 Co0.5 Cr0.5 Fe0.5 Ni0.5</td>\n",
       "      <td>25.0</td>\n",
       "      <td>BCC</td>\n",
       "      <td>10.1016/j.jallcom.2009.08.090</td>\n",
       "    </tr>\n",
       "    <tr>\n",
       "      <th>1207</th>\n",
       "      <td>ANNEAL</td>\n",
       "      <td>Mo1 Nb1 Ta1 Ti1</td>\n",
       "      <td>300.0</td>\n",
       "      <td>BCC</td>\n",
       "      <td>10.1016/j.actamat.2019.06.006</td>\n",
       "    </tr>\n",
       "    <tr>\n",
       "      <th>1215</th>\n",
       "      <td>ANNEAL</td>\n",
       "      <td>Nb1 Ta1 Ti1 W1</td>\n",
       "      <td>300.0</td>\n",
       "      <td>BCC</td>\n",
       "      <td>10.1016/j.actamat.2019.06.006</td>\n",
       "    </tr>\n",
       "    <tr>\n",
       "      <th>339</th>\n",
       "      <td>ANNEAL</td>\n",
       "      <td>Mo1 Nb1 Ta1 V1</td>\n",
       "      <td>25.0</td>\n",
       "      <td>BCC</td>\n",
       "      <td>10.3390/e18050189</td>\n",
       "    </tr>\n",
       "    <tr>\n",
       "      <th>610</th>\n",
       "      <td>ANNEAL</td>\n",
       "      <td>Al1 Nb1 Ti1 V1</td>\n",
       "      <td>600.0</td>\n",
       "      <td>BCC</td>\n",
       "      <td>10.1016/j.jallcom.2015.08.224</td>\n",
       "    </tr>\n",
       "    <tr>\n",
       "      <th>1208</th>\n",
       "      <td>ANNEAL</td>\n",
       "      <td>Mo1 Nb1 Ta1 Ti1</td>\n",
       "      <td>400.0</td>\n",
       "      <td>BCC</td>\n",
       "      <td>10.1016/j.actamat.2019.06.006</td>\n",
       "    </tr>\n",
       "  </tbody>\n",
       "</table>\n",
       "</div>"
      ],
      "text/plain": [
       "     PROPERTY: Processing method                          FORMULA  \\\n",
       "1540                      ANNEAL                  Cr1 Nb1 Ta1 Ti1   \n",
       "37                        ANNEAL      Al1 Co0.5 Cr0.5 Fe0.5 Ni0.5   \n",
       "285                       ANNEAL                   Al1 Nb1 Ti1 V1   \n",
       "55                        ANNEAL  Co1 Cr0.667 Fe0.667 Ni1 Ti0.333   \n",
       "36                        ANNEAL      Al1 Co0.5 Cr0.5 Fe0.5 Ni0.5   \n",
       "1207                      ANNEAL                  Mo1 Nb1 Ta1 Ti1   \n",
       "1215                      ANNEAL                   Nb1 Ta1 Ti1 W1   \n",
       "339                       ANNEAL                   Mo1 Nb1 Ta1 V1   \n",
       "610                       ANNEAL                   Al1 Nb1 Ti1 V1   \n",
       "1208                      ANNEAL                  Mo1 Nb1 Ta1 Ti1   \n",
       "\n",
       "      PROPERTY: Test temperature ($^\\circ$C) PROPERTY: Microstructure  \\\n",
       "1540                                     NaN                 BCC+Sec.   \n",
       "37                                      25.0                      BCC   \n",
       "285                                    800.0                      BCC   \n",
       "55                                      25.0                      FCC   \n",
       "36                                      25.0                      BCC   \n",
       "1207                                   300.0                      BCC   \n",
       "1215                                   300.0                      BCC   \n",
       "339                                     25.0                      BCC   \n",
       "610                                    600.0                      BCC   \n",
       "1208                                   400.0                      BCC   \n",
       "\n",
       "                     REFERENCE: doi  \n",
       "1540   10.1016/j.matdes.2018.06.003  \n",
       "37    10.1016/j.jallcom.2009.08.090  \n",
       "285    10.1016/j.matlet.2014.11.162  \n",
       "55    10.1016/j.actamat.2011.06.041  \n",
       "36    10.1016/j.jallcom.2009.08.090  \n",
       "1207  10.1016/j.actamat.2019.06.006  \n",
       "1215  10.1016/j.actamat.2019.06.006  \n",
       "339               10.3390/e18050189  \n",
       "610   10.1016/j.jallcom.2015.08.224  \n",
       "1208  10.1016/j.actamat.2019.06.006  "
      ]
     },
     "metadata": {},
     "output_type": "display_data"
    }
   ],
   "source": [
    "for prop in props:\n",
    "    df = df.sort_values(prop, ascending=True)\n",
    "    top_ys = df.head(10)\n",
    "    display(top_ys[[prop, 'FORMULA', 'PROPERTY: Test temperature ($^\\circ$C)', 'PROPERTY: Microstructure', 'REFERENCE: doi']])"
   ]
  },
  {
   "cell_type": "code",
   "execution_count": 36,
   "metadata": {},
   "outputs": [
    {
     "data": {
      "application/vnd.plotly.v1+json": {
       "config": {
        "plotlyServerURL": "https://plot.ly"
       },
       "data": [
        {
         "alignmentgroup": "True",
         "bingroup": "x",
         "hoverlabel": {
          "namelength": 0
         },
         "hovertemplate": "PROPERTY: Calculated Young modulus (GPa)=%{x}<br>count=%{y}",
         "legendgroup": "",
         "marker": {
          "color": "#1F77B4"
         },
         "name": "",
         "nbinsx": 30,
         "offsetgroup": "",
         "orientation": "v",
         "showlegend": false,
         "type": "histogram",
         "x": [
          null,
          160,
          104,
          null,
          160,
          179,
          198,
          186,
          104,
          179,
          177,
          null,
          null,
          null,
          104,
          null,
          177,
          201,
          null,
          null,
          184,
          null,
          119,
          179,
          151,
          151,
          null,
          null,
          219,
          170,
          null,
          171,
          104,
          198,
          179,
          188,
          179,
          198,
          null,
          119,
          198,
          null,
          null,
          171,
          119,
          null,
          189,
          null,
          179,
          null,
          null,
          179,
          198,
          null,
          196,
          null,
          189,
          179,
          189,
          null,
          151,
          100,
          null,
          196,
          222,
          119,
          null,
          null,
          119,
          null,
          null,
          96,
          179,
          198,
          170,
          104,
          189,
          null,
          170,
          102,
          null,
          null,
          198,
          null,
          null,
          104,
          151,
          151,
          119,
          232,
          null,
          null,
          185,
          null,
          232,
          null,
          232,
          232,
          232,
          null,
          null,
          null,
          null,
          232,
          null,
          null,
          232,
          null,
          null,
          null,
          null,
          null,
          185,
          185,
          185,
          null,
          null,
          null,
          null,
          null,
          128,
          185,
          null,
          185,
          185,
          185,
          232,
          null,
          95,
          185,
          null,
          232,
          null,
          null,
          189,
          189,
          null,
          104,
          170,
          104,
          null,
          null,
          null,
          151,
          null,
          null,
          189,
          189,
          null,
          null,
          198,
          151,
          null,
          null,
          119,
          250,
          250,
          185,
          null,
          null,
          null,
          128,
          128,
          128,
          250,
          232,
          null,
          null,
          214,
          226,
          null,
          220,
          null,
          null,
          196,
          null,
          null,
          119,
          130,
          null,
          null,
          null,
          null,
          null,
          null,
          null,
          null,
          null,
          112,
          122,
          null,
          119,
          null,
          114,
          196,
          207,
          null,
          null,
          210,
          220,
          null,
          null,
          220,
          150,
          null,
          null,
          null,
          null,
          null,
          null,
          null,
          null,
          122,
          null,
          null,
          130,
          207,
          null,
          null,
          null,
          null,
          null,
          null,
          null,
          null,
          142,
          null,
          159,
          210,
          null,
          null,
          94,
          210,
          141,
          196,
          179,
          null,
          null,
          161,
          169,
          95,
          null,
          null,
          null,
          null,
          null,
          null,
          null,
          null,
          null,
          null,
          95,
          null,
          null,
          null,
          null,
          213,
          null,
          null,
          153,
          89,
          null,
          null,
          226,
          226,
          null,
          null,
          null,
          null,
          156,
          null,
          213,
          null,
          null,
          null,
          null,
          null,
          null,
          189,
          204,
          165,
          189,
          196,
          null,
          226,
          null,
          189,
          null,
          250,
          250,
          184,
          null,
          220,
          null,
          226,
          null,
          null,
          null,
          null,
          195,
          null,
          202,
          226,
          202,
          202,
          202,
          192,
          null,
          null,
          126,
          126,
          212,
          null,
          232,
          null,
          null,
          null,
          null,
          170,
          null,
          null,
          null,
          null,
          null,
          null,
          null,
          206,
          null,
          null,
          null,
          89,
          94,
          94,
          89,
          null,
          null,
          212,
          null,
          250,
          140,
          128,
          null,
          234,
          194,
          null,
          187,
          139,
          137,
          170,
          138,
          null,
          null,
          210,
          null,
          141,
          229,
          143,
          null,
          170,
          null,
          null,
          null,
          null,
          null,
          141,
          null,
          null,
          null,
          229,
          null,
          null,
          null,
          null,
          212,
          155,
          null,
          202,
          null,
          null,
          null,
          null,
          143,
          null,
          null,
          null,
          229,
          250,
          250,
          229,
          null,
          null,
          null,
          null,
          null,
          142,
          null,
          202,
          141,
          null,
          null,
          142,
          null,
          143,
          137,
          143,
          137,
          null,
          null,
          250,
          null,
          221,
          189,
          null,
          155,
          209,
          171,
          null,
          122,
          null,
          107,
          156,
          null,
          137,
          137,
          107,
          155,
          222,
          107,
          222,
          122,
          169,
          209,
          209,
          209,
          209,
          null,
          null,
          222,
          209,
          209,
          137,
          107,
          222,
          155,
          null,
          null,
          128,
          107,
          120,
          120,
          189,
          141,
          128,
          null,
          122,
          250,
          141,
          137,
          127,
          184,
          null,
          183,
          134,
          null,
          143,
          184,
          null,
          115,
          null,
          134,
          120,
          184,
          156,
          189,
          122,
          122,
          null,
          143,
          130,
          143,
          null,
          89,
          107,
          107,
          null,
          209,
          141,
          null,
          null,
          null,
          126,
          126,
          null,
          173,
          134,
          176,
          156,
          128,
          222,
          null,
          null,
          null,
          156,
          220,
          null,
          189,
          null,
          null,
          null,
          null,
          null,
          null,
          141,
          128,
          156,
          null,
          null,
          128,
          null,
          null,
          187,
          null,
          null,
          null,
          null,
          185,
          null,
          null,
          null,
          156,
          null,
          189,
          null,
          null,
          null,
          null,
          null,
          null,
          null,
          null,
          null,
          null,
          null,
          null,
          137,
          137,
          null,
          156,
          null,
          null,
          128,
          null,
          222,
          222,
          122,
          143,
          null,
          null,
          null,
          222,
          156,
          128,
          null,
          null,
          null,
          155,
          126,
          126,
          null,
          null,
          189,
          null,
          231,
          null,
          143,
          143,
          162,
          189,
          189,
          189,
          188,
          null,
          null,
          194,
          226,
          182,
          null,
          137,
          145,
          222,
          151,
          null,
          null,
          null,
          null,
          null,
          131,
          131,
          137,
          151,
          137,
          null,
          null,
          null,
          null,
          null,
          null,
          null,
          229,
          122,
          147,
          null,
          180,
          219,
          null,
          143,
          184,
          null,
          null,
          228,
          null,
          167,
          null,
          222,
          null,
          null,
          250,
          162,
          null,
          120,
          null,
          161,
          null,
          null,
          null,
          null,
          298,
          242,
          123,
          234,
          null,
          null,
          152,
          156,
          null,
          null,
          130,
          null,
          null,
          162,
          null,
          null,
          null,
          null,
          null,
          null,
          null,
          null,
          null,
          null,
          null,
          null,
          null,
          null,
          null,
          null,
          null,
          null,
          null,
          null,
          null,
          null,
          null,
          208,
          null,
          null,
          204,
          null,
          null,
          null,
          null,
          null,
          null,
          null,
          null,
          null,
          null,
          null,
          null,
          null,
          null,
          175,
          null,
          177,
          null,
          null,
          null,
          null,
          null,
          171,
          null,
          null,
          null,
          174,
          212,
          null,
          null,
          null,
          null,
          null,
          null,
          null,
          null,
          null,
          null,
          null,
          217,
          null,
          172,
          null,
          160,
          null,
          null,
          null,
          189,
          null,
          null,
          189,
          185,
          null,
          null,
          null,
          null,
          184,
          null,
          null,
          null,
          238,
          null,
          null,
          236,
          null,
          null,
          119,
          185,
          null,
          null,
          167,
          null,
          206,
          null,
          null,
          136,
          107,
          189,
          null,
          169,
          210,
          207,
          207,
          195,
          220,
          210,
          192,
          220,
          210,
          167,
          186,
          215,
          189,
          null,
          null,
          210,
          173,
          226,
          212,
          215,
          220,
          null,
          null,
          216,
          205,
          null,
          210,
          187,
          186,
          null,
          179,
          201,
          null,
          115,
          107,
          null,
          null,
          null,
          null,
          105,
          94,
          null,
          null,
          null,
          null,
          null,
          null,
          null,
          null,
          115,
          201,
          104,
          null,
          171,
          null,
          null,
          null,
          null,
          null,
          null,
          null,
          null,
          103,
          184,
          94,
          null,
          105,
          null,
          null,
          null,
          null,
          103,
          null,
          null,
          null,
          101,
          101,
          101,
          null,
          100,
          null,
          null,
          182,
          100,
          100,
          null,
          null,
          null,
          100,
          107,
          100,
          100,
          100,
          null,
          null,
          null,
          89,
          100,
          null,
          null,
          null,
          null,
          null,
          128,
          null,
          null,
          72,
          73,
          null,
          null,
          null,
          null,
          73,
          170,
          174,
          null,
          185,
          170,
          null,
          null,
          null,
          129,
          null,
          null,
          null,
          null,
          null,
          null,
          null,
          null,
          null,
          null,
          null,
          null,
          null,
          null,
          119,
          null,
          null,
          null,
          null,
          null,
          170,
          null,
          null,
          null,
          null,
          137,
          null,
          null,
          204,
          null,
          107,
          null,
          null,
          null,
          null,
          null,
          229,
          null,
          75,
          229,
          206,
          null,
          null,
          null,
          143,
          null,
          null,
          109,
          110,
          null,
          229,
          null,
          null,
          null,
          null,
          null,
          null,
          107,
          105,
          250,
          null,
          105,
          107,
          107,
          107,
          100,
          107,
          107,
          177,
          107,
          null,
          105,
          null,
          null,
          null,
          250,
          null,
          177,
          107,
          null,
          107,
          229,
          null,
          107,
          107,
          null,
          107,
          107,
          null,
          110,
          null,
          null,
          229,
          107,
          101,
          null,
          100,
          110,
          107,
          null,
          105,
          null,
          105,
          94,
          null,
          107,
          250,
          null,
          null,
          107,
          null,
          109,
          107,
          null,
          null,
          94,
          94,
          177,
          null,
          null,
          null,
          107,
          107,
          null,
          107,
          101,
          null,
          null,
          null,
          100,
          107,
          null,
          107,
          105,
          null,
          null,
          null,
          null,
          null,
          null,
          109,
          107,
          107,
          101,
          107,
          107,
          null,
          null,
          105,
          107,
          null,
          null,
          100,
          107,
          null,
          null,
          null,
          250,
          null,
          null,
          null,
          134,
          null,
          null,
          134,
          null,
          null,
          null,
          null,
          null,
          null,
          250,
          null,
          null,
          null,
          null,
          null,
          null,
          null,
          null,
          null,
          null,
          250,
          null,
          null,
          null,
          null,
          250,
          null,
          null,
          229,
          null,
          null,
          null,
          null,
          null,
          null,
          null,
          null,
          null,
          null,
          null,
          220,
          null,
          null,
          null,
          null,
          null,
          null,
          181,
          220,
          226,
          null,
          null,
          null,
          null,
          null,
          null,
          null,
          null,
          134,
          null,
          null,
          null,
          null,
          null,
          102,
          250,
          null,
          181,
          null,
          null,
          null,
          181,
          null,
          null,
          null,
          null,
          null,
          null,
          null,
          null,
          null,
          null,
          null,
          null,
          null,
          null,
          181,
          null,
          null,
          250,
          null,
          null,
          null,
          207,
          null,
          214,
          null,
          null,
          null,
          220,
          214,
          null,
          null,
          203,
          100,
          null,
          100,
          null,
          203,
          200,
          null,
          null,
          null,
          null,
          100,
          195,
          null,
          null,
          null,
          null,
          null,
          null,
          203,
          107,
          100,
          100,
          185,
          null,
          null,
          null,
          202,
          220,
          100,
          null,
          203,
          null,
          107,
          null,
          107,
          null,
          107,
          107,
          107,
          107,
          107,
          107,
          220,
          107,
          null,
          107,
          null,
          null,
          107,
          107,
          107,
          107,
          107,
          107,
          107,
          null,
          107,
          null,
          210,
          207,
          220,
          null,
          null,
          107,
          207,
          89,
          107,
          100,
          107,
          107,
          231,
          null,
          107,
          231,
          null,
          213,
          212,
          null,
          212,
          107,
          107,
          107,
          107,
          107,
          107,
          107,
          107,
          107,
          107,
          107,
          107,
          107,
          107,
          107,
          107,
          107,
          107,
          107,
          107,
          107,
          107,
          null,
          226,
          null,
          136,
          208,
          92,
          220,
          136,
          136,
          220,
          136,
          202,
          136,
          208,
          136,
          226,
          136,
          null,
          207,
          208,
          136,
          220,
          100,
          213,
          208,
          203,
          220,
          220,
          null,
          220,
          222,
          207,
          null,
          null,
          null,
          220,
          218,
          null,
          null,
          238,
          220,
          207,
          220,
          null,
          null,
          220,
          195,
          208,
          null,
          231,
          212,
          226,
          210,
          210,
          null,
          226,
          null,
          238,
          null,
          226,
          226,
          null,
          231,
          220,
          null,
          202,
          234,
          220,
          226,
          220,
          213,
          null,
          null,
          212,
          220,
          220,
          null,
          238,
          226,
          213,
          220,
          null,
          null,
          226,
          220,
          231,
          226,
          null,
          219,
          222,
          null,
          210,
          100,
          null,
          220,
          null,
          207,
          220,
          null,
          107,
          null,
          null,
          100,
          null,
          220,
          231,
          100,
          null,
          100,
          null,
          212,
          107,
          null,
          220,
          203,
          100,
          null,
          null,
          220,
          213,
          107,
          null,
          195,
          null,
          189,
          195,
          189,
          null,
          null,
          100,
          100,
          100,
          209,
          231,
          212,
          220,
          null,
          231,
          231,
          231,
          100,
          107,
          226,
          null,
          107,
          107,
          226,
          null,
          220,
          100,
          220,
          220,
          null,
          220,
          220,
          231,
          202,
          null,
          null,
          204,
          null,
          220,
          220,
          null,
          null,
          null,
          231,
          220,
          218,
          100,
          213,
          203,
          100,
          100,
          null,
          238,
          null,
          220,
          null,
          null,
          220,
          220,
          202,
          107,
          231,
          208,
          210,
          194,
          214,
          null,
          187,
          null,
          null,
          206,
          null,
          null,
          null,
          null,
          null,
          null,
          null,
          null,
          184,
          null,
          null,
          null,
          null,
          null,
          null,
          null,
          null,
          null,
          null,
          136,
          139,
          null,
          null,
          null,
          160,
          169,
          null,
          null,
          null,
          null,
          null,
          null,
          null,
          null,
          null,
          null,
          null,
          null,
          null,
          null,
          null,
          null,
          null,
          null,
          null,
          null,
          null,
          null,
          null,
          null,
          null,
          null,
          null,
          null,
          null,
          null,
          null,
          null,
          null,
          null,
          null,
          null,
          null,
          null,
          null,
          null,
          null,
          null,
          null,
          null,
          null,
          null,
          null,
          null,
          null,
          null,
          null,
          null,
          null,
          null,
          null,
          null,
          null,
          null,
          null,
          null,
          null,
          null,
          null,
          null,
          210,
          null,
          157,
          197,
          190,
          185,
          179,
          null,
          null,
          null,
          null,
          null,
          null,
          null,
          null,
          null,
          222,
          226,
          null,
          null
         ],
         "xaxis": "x",
         "yaxis": "y"
        }
       ],
       "layout": {
        "barmode": "relative",
        "font": {
         "family": "Barlow Semi Condensed",
         "size": 28
        },
        "height": 800,
        "legend": {
         "tracegroupgap": 0
        },
        "margin": {
         "t": 60
        },
        "showlegend": false,
        "template": {
         "data": {
          "bar": [
           {
            "error_x": {
             "color": "rgb(36,36,36)"
            },
            "error_y": {
             "color": "rgb(36,36,36)"
            },
            "marker": {
             "line": {
              "color": "white",
              "width": 0.5
             }
            },
            "type": "bar"
           }
          ],
          "barpolar": [
           {
            "marker": {
             "line": {
              "color": "white",
              "width": 0.5
             }
            },
            "type": "barpolar"
           }
          ],
          "carpet": [
           {
            "aaxis": {
             "endlinecolor": "rgb(36,36,36)",
             "gridcolor": "white",
             "linecolor": "white",
             "minorgridcolor": "white",
             "startlinecolor": "rgb(36,36,36)"
            },
            "baxis": {
             "endlinecolor": "rgb(36,36,36)",
             "gridcolor": "white",
             "linecolor": "white",
             "minorgridcolor": "white",
             "startlinecolor": "rgb(36,36,36)"
            },
            "type": "carpet"
           }
          ],
          "choropleth": [
           {
            "colorbar": {
             "outlinewidth": 1,
             "tickcolor": "rgb(36,36,36)",
             "ticks": "outside"
            },
            "type": "choropleth"
           }
          ],
          "contour": [
           {
            "colorbar": {
             "outlinewidth": 1,
             "tickcolor": "rgb(36,36,36)",
             "ticks": "outside"
            },
            "colorscale": [
             [
              0,
              "#440154"
             ],
             [
              0.1111111111111111,
              "#482878"
             ],
             [
              0.2222222222222222,
              "#3e4989"
             ],
             [
              0.3333333333333333,
              "#31688e"
             ],
             [
              0.4444444444444444,
              "#26828e"
             ],
             [
              0.5555555555555556,
              "#1f9e89"
             ],
             [
              0.6666666666666666,
              "#35b779"
             ],
             [
              0.7777777777777778,
              "#6ece58"
             ],
             [
              0.8888888888888888,
              "#b5de2b"
             ],
             [
              1,
              "#fde725"
             ]
            ],
            "type": "contour"
           }
          ],
          "contourcarpet": [
           {
            "colorbar": {
             "outlinewidth": 1,
             "tickcolor": "rgb(36,36,36)",
             "ticks": "outside"
            },
            "type": "contourcarpet"
           }
          ],
          "heatmap": [
           {
            "colorbar": {
             "outlinewidth": 1,
             "tickcolor": "rgb(36,36,36)",
             "ticks": "outside"
            },
            "colorscale": [
             [
              0,
              "#440154"
             ],
             [
              0.1111111111111111,
              "#482878"
             ],
             [
              0.2222222222222222,
              "#3e4989"
             ],
             [
              0.3333333333333333,
              "#31688e"
             ],
             [
              0.4444444444444444,
              "#26828e"
             ],
             [
              0.5555555555555556,
              "#1f9e89"
             ],
             [
              0.6666666666666666,
              "#35b779"
             ],
             [
              0.7777777777777778,
              "#6ece58"
             ],
             [
              0.8888888888888888,
              "#b5de2b"
             ],
             [
              1,
              "#fde725"
             ]
            ],
            "type": "heatmap"
           }
          ],
          "heatmapgl": [
           {
            "colorbar": {
             "outlinewidth": 1,
             "tickcolor": "rgb(36,36,36)",
             "ticks": "outside"
            },
            "colorscale": [
             [
              0,
              "#440154"
             ],
             [
              0.1111111111111111,
              "#482878"
             ],
             [
              0.2222222222222222,
              "#3e4989"
             ],
             [
              0.3333333333333333,
              "#31688e"
             ],
             [
              0.4444444444444444,
              "#26828e"
             ],
             [
              0.5555555555555556,
              "#1f9e89"
             ],
             [
              0.6666666666666666,
              "#35b779"
             ],
             [
              0.7777777777777778,
              "#6ece58"
             ],
             [
              0.8888888888888888,
              "#b5de2b"
             ],
             [
              1,
              "#fde725"
             ]
            ],
            "type": "heatmapgl"
           }
          ],
          "histogram": [
           {
            "marker": {
             "line": {
              "color": "white",
              "width": 0.6
             }
            },
            "type": "histogram"
           }
          ],
          "histogram2d": [
           {
            "colorbar": {
             "outlinewidth": 1,
             "tickcolor": "rgb(36,36,36)",
             "ticks": "outside"
            },
            "colorscale": [
             [
              0,
              "#440154"
             ],
             [
              0.1111111111111111,
              "#482878"
             ],
             [
              0.2222222222222222,
              "#3e4989"
             ],
             [
              0.3333333333333333,
              "#31688e"
             ],
             [
              0.4444444444444444,
              "#26828e"
             ],
             [
              0.5555555555555556,
              "#1f9e89"
             ],
             [
              0.6666666666666666,
              "#35b779"
             ],
             [
              0.7777777777777778,
              "#6ece58"
             ],
             [
              0.8888888888888888,
              "#b5de2b"
             ],
             [
              1,
              "#fde725"
             ]
            ],
            "type": "histogram2d"
           }
          ],
          "histogram2dcontour": [
           {
            "colorbar": {
             "outlinewidth": 1,
             "tickcolor": "rgb(36,36,36)",
             "ticks": "outside"
            },
            "colorscale": [
             [
              0,
              "#440154"
             ],
             [
              0.1111111111111111,
              "#482878"
             ],
             [
              0.2222222222222222,
              "#3e4989"
             ],
             [
              0.3333333333333333,
              "#31688e"
             ],
             [
              0.4444444444444444,
              "#26828e"
             ],
             [
              0.5555555555555556,
              "#1f9e89"
             ],
             [
              0.6666666666666666,
              "#35b779"
             ],
             [
              0.7777777777777778,
              "#6ece58"
             ],
             [
              0.8888888888888888,
              "#b5de2b"
             ],
             [
              1,
              "#fde725"
             ]
            ],
            "type": "histogram2dcontour"
           }
          ],
          "mesh3d": [
           {
            "colorbar": {
             "outlinewidth": 1,
             "tickcolor": "rgb(36,36,36)",
             "ticks": "outside"
            },
            "type": "mesh3d"
           }
          ],
          "parcoords": [
           {
            "line": {
             "colorbar": {
              "outlinewidth": 1,
              "tickcolor": "rgb(36,36,36)",
              "ticks": "outside"
             }
            },
            "type": "parcoords"
           }
          ],
          "pie": [
           {
            "automargin": true,
            "type": "pie"
           }
          ],
          "scatter": [
           {
            "marker": {
             "colorbar": {
              "outlinewidth": 1,
              "tickcolor": "rgb(36,36,36)",
              "ticks": "outside"
             }
            },
            "type": "scatter"
           }
          ],
          "scatter3d": [
           {
            "line": {
             "colorbar": {
              "outlinewidth": 1,
              "tickcolor": "rgb(36,36,36)",
              "ticks": "outside"
             }
            },
            "marker": {
             "colorbar": {
              "outlinewidth": 1,
              "tickcolor": "rgb(36,36,36)",
              "ticks": "outside"
             }
            },
            "type": "scatter3d"
           }
          ],
          "scattercarpet": [
           {
            "marker": {
             "colorbar": {
              "outlinewidth": 1,
              "tickcolor": "rgb(36,36,36)",
              "ticks": "outside"
             }
            },
            "type": "scattercarpet"
           }
          ],
          "scattergeo": [
           {
            "marker": {
             "colorbar": {
              "outlinewidth": 1,
              "tickcolor": "rgb(36,36,36)",
              "ticks": "outside"
             }
            },
            "type": "scattergeo"
           }
          ],
          "scattergl": [
           {
            "marker": {
             "colorbar": {
              "outlinewidth": 1,
              "tickcolor": "rgb(36,36,36)",
              "ticks": "outside"
             }
            },
            "type": "scattergl"
           }
          ],
          "scattermapbox": [
           {
            "marker": {
             "colorbar": {
              "outlinewidth": 1,
              "tickcolor": "rgb(36,36,36)",
              "ticks": "outside"
             }
            },
            "type": "scattermapbox"
           }
          ],
          "scatterpolar": [
           {
            "marker": {
             "colorbar": {
              "outlinewidth": 1,
              "tickcolor": "rgb(36,36,36)",
              "ticks": "outside"
             }
            },
            "type": "scatterpolar"
           }
          ],
          "scatterpolargl": [
           {
            "marker": {
             "colorbar": {
              "outlinewidth": 1,
              "tickcolor": "rgb(36,36,36)",
              "ticks": "outside"
             }
            },
            "type": "scatterpolargl"
           }
          ],
          "scatterternary": [
           {
            "marker": {
             "colorbar": {
              "outlinewidth": 1,
              "tickcolor": "rgb(36,36,36)",
              "ticks": "outside"
             }
            },
            "type": "scatterternary"
           }
          ],
          "surface": [
           {
            "colorbar": {
             "outlinewidth": 1,
             "tickcolor": "rgb(36,36,36)",
             "ticks": "outside"
            },
            "colorscale": [
             [
              0,
              "#440154"
             ],
             [
              0.1111111111111111,
              "#482878"
             ],
             [
              0.2222222222222222,
              "#3e4989"
             ],
             [
              0.3333333333333333,
              "#31688e"
             ],
             [
              0.4444444444444444,
              "#26828e"
             ],
             [
              0.5555555555555556,
              "#1f9e89"
             ],
             [
              0.6666666666666666,
              "#35b779"
             ],
             [
              0.7777777777777778,
              "#6ece58"
             ],
             [
              0.8888888888888888,
              "#b5de2b"
             ],
             [
              1,
              "#fde725"
             ]
            ],
            "type": "surface"
           }
          ],
          "table": [
           {
            "cells": {
             "fill": {
              "color": "rgb(237,237,237)"
             },
             "line": {
              "color": "white"
             }
            },
            "header": {
             "fill": {
              "color": "rgb(217,217,217)"
             },
             "line": {
              "color": "white"
             }
            },
            "type": "table"
           }
          ]
         },
         "layout": {
          "annotationdefaults": {
           "arrowhead": 0,
           "arrowwidth": 1
          },
          "coloraxis": {
           "colorbar": {
            "outlinewidth": 1,
            "tickcolor": "rgb(36,36,36)",
            "ticks": "outside"
           }
          },
          "colorscale": {
           "diverging": [
            [
             0,
             "rgb(103,0,31)"
            ],
            [
             0.1,
             "rgb(178,24,43)"
            ],
            [
             0.2,
             "rgb(214,96,77)"
            ],
            [
             0.3,
             "rgb(244,165,130)"
            ],
            [
             0.4,
             "rgb(253,219,199)"
            ],
            [
             0.5,
             "rgb(247,247,247)"
            ],
            [
             0.6,
             "rgb(209,229,240)"
            ],
            [
             0.7,
             "rgb(146,197,222)"
            ],
            [
             0.8,
             "rgb(67,147,195)"
            ],
            [
             0.9,
             "rgb(33,102,172)"
            ],
            [
             1,
             "rgb(5,48,97)"
            ]
           ],
           "sequential": [
            [
             0,
             "#440154"
            ],
            [
             0.1111111111111111,
             "#482878"
            ],
            [
             0.2222222222222222,
             "#3e4989"
            ],
            [
             0.3333333333333333,
             "#31688e"
            ],
            [
             0.4444444444444444,
             "#26828e"
            ],
            [
             0.5555555555555556,
             "#1f9e89"
            ],
            [
             0.6666666666666666,
             "#35b779"
            ],
            [
             0.7777777777777778,
             "#6ece58"
            ],
            [
             0.8888888888888888,
             "#b5de2b"
            ],
            [
             1,
             "#fde725"
            ]
           ],
           "sequentialminus": [
            [
             0,
             "#440154"
            ],
            [
             0.1111111111111111,
             "#482878"
            ],
            [
             0.2222222222222222,
             "#3e4989"
            ],
            [
             0.3333333333333333,
             "#31688e"
            ],
            [
             0.4444444444444444,
             "#26828e"
            ],
            [
             0.5555555555555556,
             "#1f9e89"
            ],
            [
             0.6666666666666666,
             "#35b779"
            ],
            [
             0.7777777777777778,
             "#6ece58"
            ],
            [
             0.8888888888888888,
             "#b5de2b"
            ],
            [
             1,
             "#fde725"
            ]
           ]
          },
          "colorway": [
           "#1F77B4",
           "#FF7F0E",
           "#2CA02C",
           "#D62728",
           "#9467BD",
           "#8C564B",
           "#E377C2",
           "#7F7F7F",
           "#BCBD22",
           "#17BECF"
          ],
          "font": {
           "color": "rgb(36,36,36)"
          },
          "geo": {
           "bgcolor": "white",
           "lakecolor": "white",
           "landcolor": "white",
           "showlakes": true,
           "showland": true,
           "subunitcolor": "white"
          },
          "hoverlabel": {
           "align": "left"
          },
          "hovermode": "closest",
          "mapbox": {
           "style": "light"
          },
          "paper_bgcolor": "white",
          "plot_bgcolor": "white",
          "polar": {
           "angularaxis": {
            "gridcolor": "rgb(232,232,232)",
            "linecolor": "rgb(36,36,36)",
            "showgrid": false,
            "showline": true,
            "ticks": "outside"
           },
           "bgcolor": "white",
           "radialaxis": {
            "gridcolor": "rgb(232,232,232)",
            "linecolor": "rgb(36,36,36)",
            "showgrid": false,
            "showline": true,
            "ticks": "outside"
           }
          },
          "scene": {
           "xaxis": {
            "backgroundcolor": "white",
            "gridcolor": "rgb(232,232,232)",
            "gridwidth": 2,
            "linecolor": "rgb(36,36,36)",
            "showbackground": true,
            "showgrid": false,
            "showline": true,
            "ticks": "outside",
            "zeroline": false,
            "zerolinecolor": "rgb(36,36,36)"
           },
           "yaxis": {
            "backgroundcolor": "white",
            "gridcolor": "rgb(232,232,232)",
            "gridwidth": 2,
            "linecolor": "rgb(36,36,36)",
            "showbackground": true,
            "showgrid": false,
            "showline": true,
            "ticks": "outside",
            "zeroline": false,
            "zerolinecolor": "rgb(36,36,36)"
           },
           "zaxis": {
            "backgroundcolor": "white",
            "gridcolor": "rgb(232,232,232)",
            "gridwidth": 2,
            "linecolor": "rgb(36,36,36)",
            "showbackground": true,
            "showgrid": false,
            "showline": true,
            "ticks": "outside",
            "zeroline": false,
            "zerolinecolor": "rgb(36,36,36)"
           }
          },
          "shapedefaults": {
           "fillcolor": "black",
           "line": {
            "width": 0
           },
           "opacity": 0.3
          },
          "ternary": {
           "aaxis": {
            "gridcolor": "rgb(232,232,232)",
            "linecolor": "rgb(36,36,36)",
            "showgrid": false,
            "showline": true,
            "ticks": "outside"
           },
           "baxis": {
            "gridcolor": "rgb(232,232,232)",
            "linecolor": "rgb(36,36,36)",
            "showgrid": false,
            "showline": true,
            "ticks": "outside"
           },
           "bgcolor": "white",
           "caxis": {
            "gridcolor": "rgb(232,232,232)",
            "linecolor": "rgb(36,36,36)",
            "showgrid": false,
            "showline": true,
            "ticks": "outside"
           }
          },
          "title": {
           "x": 0.05
          },
          "xaxis": {
           "automargin": true,
           "gridcolor": "rgb(232,232,232)",
           "linecolor": "rgb(36,36,36)",
           "showgrid": false,
           "showline": true,
           "ticks": "outside",
           "title": {
            "standoff": 15
           },
           "zeroline": false,
           "zerolinecolor": "rgb(36,36,36)"
          },
          "yaxis": {
           "automargin": true,
           "gridcolor": "rgb(232,232,232)",
           "linecolor": "rgb(36,36,36)",
           "showgrid": false,
           "showline": true,
           "ticks": "outside",
           "title": {
            "standoff": 15
           },
           "zeroline": false,
           "zerolinecolor": "rgb(36,36,36)"
          }
         }
        },
        "width": 1000,
        "xaxis": {
         "anchor": "y",
         "autorange": true,
         "domain": [
          0,
          1
         ],
         "range": [
          69.5,
          299.5
         ],
         "title": {
          "text": "PROPERTY: Calculated Young modulus (GPa)"
         },
         "type": "linear"
        },
        "yaxis": {
         "anchor": "x",
         "autorange": true,
         "domain": [
          0,
          1
         ],
         "range": [
          0,
          166.31578947368422
         ],
         "title": {
          "text": "count"
         }
        }
       }
      },
      "image/png": "[encoded data removed]",
      "text/html": [
       "<div>\n",
       "        \n",
       "        \n",
       "            <div id=\"24d0e98a-c4b6-410e-b666-42e9d27d7a12\" class=\"plotly-graph-div\" style=\"height:800px; width:1000px;\"></div>\n",
       "            <script type=\"text/javascript\">\n",
       "                require([\"plotly\"], function(Plotly) {\n",
       "                    window.PLOTLYENV=window.PLOTLYENV || {};\n",
       "                    \n",
       "                if (document.getElementById(\"24d0e98a-c4b6-410e-b666-42e9d27d7a12\")) {\n",
       "                    Plotly.newPlot(\n",
       "                        '24d0e98a-c4b6-410e-b666-42e9d27d7a12',\n",
       "                        [{\"alignmentgroup\": \"True\", \"bingroup\": \"x\", \"hoverlabel\": {\"namelength\": 0}, \"hovertemplate\": \"PROPERTY: Calculated Young modulus (GPa)=%{x}<br>count=%{y}\", \"legendgroup\": \"\", \"marker\": {\"color\": \"#1F77B4\"}, \"name\": \"\", \"nbinsx\": 30, \"offsetgroup\": \"\", \"orientation\": \"v\", \"showlegend\": false, \"type\": \"histogram\", \"x\": [null, 160.0, 104.0, null, 160.0, 179.0, 198.0, 186.0, 104.0, 179.0, 177.0, null, null, null, 104.0, null, 177.0, 201.0, null, null, 184.0, null, 119.0, 179.0, 151.0, 151.0, null, null, 219.0, 170.0, null, 171.0, 104.0, 198.0, 179.0, 188.0, 179.0, 198.0, null, 119.0, 198.0, null, null, 171.0, 119.0, null, 189.0, null, 179.0, null, null, 179.0, 198.0, null, 196.0, null, 189.0, 179.0, 189.0, null, 151.0, 100.0, null, 196.0, 222.0, 119.0, null, null, 119.0, null, null, 96.0, 179.0, 198.0, 170.0, 104.0, 189.0, null, 170.0, 102.0, null, null, 198.0, null, null, 104.0, 151.0, 151.0, 119.0, 232.0, null, null, 185.0, null, 232.0, null, 232.0, 232.0, 232.0, null, null, null, null, 232.0, null, null, 232.0, null, null, null, null, null, 185.0, 185.0, 185.0, null, null, null, null, null, 128.0, 185.0, null, 185.0, 185.0, 185.0, 232.0, null, 95.0, 185.0, null, 232.0, null, null, 189.0, 189.0, null, 104.0, 170.0, 104.0, null, null, null, 151.0, null, null, 189.0, 189.0, null, null, 198.0, 151.0, null, null, 119.0, 250.0, 250.0, 185.0, null, null, null, 128.0, 128.0, 128.0, 250.0, 232.0, null, null, 214.0, 226.0, null, 220.0, null, null, 196.0, null, null, 119.0, 130.0, null, null, null, null, null, null, null, null, null, 112.0, 122.0, null, 119.0, null, 114.0, 196.0, 207.0, null, null, 210.0, 220.0, null, null, 220.0, 150.0, null, null, null, null, null, null, null, null, 122.0, null, null, 130.0, 207.0, null, null, null, null, null, null, null, null, 142.0, null, 159.0, 210.0, null, null, 94.0, 210.0, 141.0, 196.0, 179.0, null, null, 161.0, 169.0, 95.0, null, null, null, null, null, null, null, null, null, null, 95.0, null, null, null, null, 213.0, null, null, 153.0, 89.0, null, null, 226.0, 226.0, null, null, null, null, 156.0, null, 213.0, null, null, null, null, null, null, 189.0, 204.0, 165.0, 189.0, 196.0, null, 226.0, null, 189.0, null, 250.0, 250.0, 184.0, null, 220.0, null, 226.0, null, null, null, null, 195.0, null, 202.0, 226.0, 202.0, 202.0, 202.0, 192.0, null, null, 126.0, 126.0, 212.0, null, 232.0, null, null, null, null, 170.0, null, null, null, null, null, null, null, 206.0, null, null, null, 89.0, 94.0, 94.0, 89.0, null, null, 212.0, null, 250.0, 140.0, 128.0, null, 234.0, 194.0, null, 187.0, 139.0, 137.0, 170.0, 138.0, null, null, 210.0, null, 141.0, 229.0, 143.0, null, 170.0, null, null, null, null, null, 141.0, null, null, null, 229.0, null, null, null, null, 212.0, 155.0, null, 202.0, null, null, null, null, 143.0, null, null, null, 229.0, 250.0, 250.0, 229.0, null, null, null, null, null, 142.0, null, 202.0, 141.0, null, null, 142.0, null, 143.0, 137.0, 143.0, 137.0, null, null, 250.0, null, 221.0, 189.0, null, 155.0, 209.0, 171.0, null, 122.0, null, 107.0, 156.0, null, 137.0, 137.0, 107.0, 155.0, 222.0, 107.0, 222.0, 122.0, 169.0, 209.0, 209.0, 209.0, 209.0, null, null, 222.0, 209.0, 209.0, 137.0, 107.0, 222.0, 155.0, null, null, 128.0, 107.0, 120.0, 120.0, 189.0, 141.0, 128.0, null, 122.0, 250.0, 141.0, 137.0, 127.0, 184.0, null, 183.0, 134.0, null, 143.0, 184.0, null, 115.0, null, 134.0, 120.0, 184.0, 156.0, 189.0, 122.0, 122.0, null, 143.0, 130.0, 143.0, null, 89.0, 107.0, 107.0, null, 209.0, 141.0, null, null, null, 126.0, 126.0, null, 173.0, 134.0, 176.0, 156.0, 128.0, 222.0, null, null, null, 156.0, 220.0, null, 189.0, null, null, null, null, null, null, 141.0, 128.0, 156.0, null, null, 128.0, null, null, 187.0, null, null, null, null, 185.0, null, null, null, 156.0, null, 189.0, null, null, null, null, null, null, null, null, null, null, null, null, 137.0, 137.0, null, 156.0, null, null, 128.0, null, 222.0, 222.0, 122.0, 143.0, null, null, null, 222.0, 156.0, 128.0, null, null, null, 155.0, 126.0, 126.0, null, null, 189.0, null, 231.0, null, 143.0, 143.0, 162.0, 189.0, 189.0, 189.0, 188.0, null, null, 194.0, 226.0, 182.0, null, 137.0, 145.0, 222.0, 151.0, null, null, null, null, null, 131.0, 131.0, 137.0, 151.0, 137.0, null, null, null, null, null, null, null, 229.0, 122.0, 147.0, null, 180.0, 219.0, null, 143.0, 184.0, null, null, 228.0, null, 167.0, null, 222.0, null, null, 250.0, 162.0, null, 120.0, null, 161.0, null, null, null, null, 298.0, 242.0, 123.0, 234.0, null, null, 152.0, 156.0, null, null, 130.0, null, null, 162.0, null, null, null, null, null, null, null, null, null, null, null, null, null, null, null, null, null, null, null, null, null, null, null, 208.0, null, null, 204.0, null, null, null, null, null, null, null, null, null, null, null, null, null, null, 175.0, null, 177.0, null, null, null, null, null, 171.0, null, null, null, 174.0, 212.0, null, null, null, null, null, null, null, null, null, null, null, 217.0, null, 172.0, null, 160.0, null, null, null, 189.0, null, null, 189.0, 185.0, null, null, null, null, 184.0, null, null, null, 238.0, null, null, 236.0, null, null, 119.0, 185.0, null, null, 167.0, null, 206.0, null, null, 136.0, 107.0, 189.0, null, 169.0, 210.0, 207.0, 207.0, 195.0, 220.0, 210.0, 192.0, 220.0, 210.0, 167.0, 186.0, 215.0, 189.0, null, null, 210.0, 173.0, 226.0, 212.0, 215.0, 220.0, null, null, 216.0, 205.0, null, 210.0, 187.0, 186.0, null, 179.0, 201.0, null, 115.0, 107.0, null, null, null, null, 105.0, 94.0, null, null, null, null, null, null, null, null, 115.0, 201.0, 104.0, null, 171.0, null, null, null, null, null, null, null, null, 103.0, 184.0, 94.0, null, 105.0, null, null, null, null, 103.0, null, null, null, 101.0, 101.0, 101.0, null, 100.0, null, null, 182.0, 100.0, 100.0, null, null, null, 100.0, 107.0, 100.0, 100.0, 100.0, null, null, null, 89.0, 100.0, null, null, null, null, null, 128.0, null, null, 72.0, 73.0, null, null, null, null, 73.0, 170.0, 174.0, null, 185.0, 170.0, null, null, null, 129.0, null, null, null, null, null, null, null, null, null, null, null, null, null, null, 119.0, null, null, null, null, null, 170.0, null, null, null, null, 137.0, null, null, 204.0, null, 107.0, null, null, null, null, null, 229.0, null, 75.0, 229.0, 206.0, null, null, null, 143.0, null, null, 109.0, 110.0, null, 229.0, null, null, null, null, null, null, 107.0, 105.0, 250.0, null, 105.0, 107.0, 107.0, 107.0, 100.0, 107.0, 107.0, 177.0, 107.0, null, 105.0, null, null, null, 250.0, null, 177.0, 107.0, null, 107.0, 229.0, null, 107.0, 107.0, null, 107.0, 107.0, null, 110.0, null, null, 229.0, 107.0, 101.0, null, 100.0, 110.0, 107.0, null, 105.0, null, 105.0, 94.0, null, 107.0, 250.0, null, null, 107.0, null, 109.0, 107.0, null, null, 94.0, 94.0, 177.0, null, null, null, 107.0, 107.0, null, 107.0, 101.0, null, null, null, 100.0, 107.0, null, 107.0, 105.0, null, null, null, null, null, null, 109.0, 107.0, 107.0, 101.0, 107.0, 107.0, null, null, 105.0, 107.0, null, null, 100.0, 107.0, null, null, null, 250.0, null, null, null, 134.0, null, null, 134.0, null, null, null, null, null, null, 250.0, null, null, null, null, null, null, null, null, null, null, 250.0, null, null, null, null, 250.0, null, null, 229.0, null, null, null, null, null, null, null, null, null, null, null, 220.0, null, null, null, null, null, null, 181.0, 220.0, 226.0, null, null, null, null, null, null, null, null, 134.0, null, null, null, null, null, 102.0, 250.0, null, 181.0, null, null, null, 181.0, null, null, null, null, null, null, null, null, null, null, null, null, null, null, 181.0, null, null, 250.0, null, null, null, 207.0, null, 214.0, null, null, null, 220.0, 214.0, null, null, 203.0, 100.0, null, 100.0, null, 203.0, 200.0, null, null, null, null, 100.0, 195.0, null, null, null, null, null, null, 203.0, 107.0, 100.0, 100.0, 185.0, null, null, null, 202.0, 220.0, 100.0, null, 203.0, null, 107.0, null, 107.0, null, 107.0, 107.0, 107.0, 107.0, 107.0, 107.0, 220.0, 107.0, null, 107.0, null, null, 107.0, 107.0, 107.0, 107.0, 107.0, 107.0, 107.0, null, 107.0, null, 210.0, 207.0, 220.0, null, null, 107.0, 207.0, 89.0, 107.0, 100.0, 107.0, 107.0, 231.0, null, 107.0, 231.0, null, 213.0, 212.0, null, 212.0, 107.0, 107.0, 107.0, 107.0, 107.0, 107.0, 107.0, 107.0, 107.0, 107.0, 107.0, 107.0, 107.0, 107.0, 107.0, 107.0, 107.0, 107.0, 107.0, 107.0, 107.0, 107.0, null, 226.0, null, 136.0, 208.0, 92.0, 220.0, 136.0, 136.0, 220.0, 136.0, 202.0, 136.0, 208.0, 136.0, 226.0, 136.0, null, 207.0, 208.0, 136.0, 220.0, 100.0, 213.0, 208.0, 203.0, 220.0, 220.0, null, 220.0, 222.0, 207.0, null, null, null, 220.0, 218.0, null, null, 238.0, 220.0, 207.0, 220.0, null, null, 220.0, 195.0, 208.0, null, 231.0, 212.0, 226.0, 210.0, 210.0, null, 226.0, null, 238.0, null, 226.0, 226.0, null, 231.0, 220.0, null, 202.0, 234.0, 220.0, 226.0, 220.0, 213.0, null, null, 212.0, 220.0, 220.0, null, 238.0, 226.0, 213.0, 220.0, null, null, 226.0, 220.0, 231.0, 226.0, null, 219.0, 222.0, null, 210.0, 100.0, null, 220.0, null, 207.0, 220.0, null, 107.0, null, null, 100.0, null, 220.0, 231.0, 100.0, null, 100.0, null, 212.0, 107.0, null, 220.0, 203.0, 100.0, null, null, 220.0, 213.0, 107.0, null, 195.0, null, 189.0, 195.0, 189.0, null, null, 100.0, 100.0, 100.0, 209.0, 231.0, 212.0, 220.0, null, 231.0, 231.0, 231.0, 100.0, 107.0, 226.0, null, 107.0, 107.0, 226.0, null, 220.0, 100.0, 220.0, 220.0, null, 220.0, 220.0, 231.0, 202.0, null, null, 204.0, null, 220.0, 220.0, null, null, null, 231.0, 220.0, 218.0, 100.0, 213.0, 203.0, 100.0, 100.0, null, 238.0, null, 220.0, null, null, 220.0, 220.0, 202.0, 107.0, 231.0, 208.0, 210.0, 194.0, 214.0, null, 187.0, null, null, 206.0, null, null, null, null, null, null, null, null, 184.0, null, null, null, null, null, null, null, null, null, null, 136.0, 139.0, null, null, null, 160.0, 169.0, null, null, null, null, null, null, null, null, null, null, null, null, null, null, null, null, null, null, null, null, null, null, null, null, null, null, null, null, null, null, null, null, null, null, null, null, null, null, null, null, null, null, null, null, null, null, null, null, null, null, null, null, null, null, null, null, null, null, null, null, null, null, null, null, 210.0, null, 157.0, 197.0, 190.0, 185.0, 179.0, null, null, null, null, null, null, null, null, null, 222.0, 226.0, null, null], \"xaxis\": \"x\", \"yaxis\": \"y\"}],\n",
       "                        {\"barmode\": \"relative\", \"font\": {\"family\": \"Barlow Semi Condensed\", \"size\": 28}, \"height\": 800, \"legend\": {\"tracegroupgap\": 0}, \"margin\": {\"t\": 60}, \"showlegend\": false, \"template\": {\"data\": {\"bar\": [{\"error_x\": {\"color\": \"rgb(36,36,36)\"}, \"error_y\": {\"color\": \"rgb(36,36,36)\"}, \"marker\": {\"line\": {\"color\": \"white\", \"width\": 0.5}}, \"type\": \"bar\"}], \"barpolar\": [{\"marker\": {\"line\": {\"color\": \"white\", \"width\": 0.5}}, \"type\": \"barpolar\"}], \"carpet\": [{\"aaxis\": {\"endlinecolor\": \"rgb(36,36,36)\", \"gridcolor\": \"white\", \"linecolor\": \"white\", \"minorgridcolor\": \"white\", \"startlinecolor\": \"rgb(36,36,36)\"}, \"baxis\": {\"endlinecolor\": \"rgb(36,36,36)\", \"gridcolor\": \"white\", \"linecolor\": \"white\", \"minorgridcolor\": \"white\", \"startlinecolor\": \"rgb(36,36,36)\"}, \"type\": \"carpet\"}], \"choropleth\": [{\"colorbar\": {\"outlinewidth\": 1, \"tickcolor\": \"rgb(36,36,36)\", \"ticks\": \"outside\"}, \"type\": \"choropleth\"}], \"contour\": [{\"colorbar\": {\"outlinewidth\": 1, \"tickcolor\": \"rgb(36,36,36)\", \"ticks\": \"outside\"}, \"colorscale\": [[0.0, \"#440154\"], [0.1111111111111111, \"#482878\"], [0.2222222222222222, \"#3e4989\"], [0.3333333333333333, \"#31688e\"], [0.4444444444444444, \"#26828e\"], [0.5555555555555556, \"#1f9e89\"], [0.6666666666666666, \"#35b779\"], [0.7777777777777778, \"#6ece58\"], [0.8888888888888888, \"#b5de2b\"], [1.0, \"#fde725\"]], \"type\": \"contour\"}], \"contourcarpet\": [{\"colorbar\": {\"outlinewidth\": 1, \"tickcolor\": \"rgb(36,36,36)\", \"ticks\": \"outside\"}, \"type\": \"contourcarpet\"}], \"heatmap\": [{\"colorbar\": {\"outlinewidth\": 1, \"tickcolor\": \"rgb(36,36,36)\", \"ticks\": \"outside\"}, \"colorscale\": [[0.0, \"#440154\"], [0.1111111111111111, \"#482878\"], [0.2222222222222222, \"#3e4989\"], [0.3333333333333333, \"#31688e\"], [0.4444444444444444, \"#26828e\"], [0.5555555555555556, \"#1f9e89\"], [0.6666666666666666, \"#35b779\"], [0.7777777777777778, \"#6ece58\"], [0.8888888888888888, \"#b5de2b\"], [1.0, \"#fde725\"]], \"type\": \"heatmap\"}], \"heatmapgl\": [{\"colorbar\": {\"outlinewidth\": 1, \"tickcolor\": \"rgb(36,36,36)\", \"ticks\": \"outside\"}, \"colorscale\": [[0.0, \"#440154\"], [0.1111111111111111, \"#482878\"], [0.2222222222222222, \"#3e4989\"], [0.3333333333333333, \"#31688e\"], [0.4444444444444444, \"#26828e\"], [0.5555555555555556, \"#1f9e89\"], [0.6666666666666666, \"#35b779\"], [0.7777777777777778, \"#6ece58\"], [0.8888888888888888, \"#b5de2b\"], [1.0, \"#fde725\"]], \"type\": \"heatmapgl\"}], \"histogram\": [{\"marker\": {\"line\": {\"color\": \"white\", \"width\": 0.6}}, \"type\": \"histogram\"}], \"histogram2d\": [{\"colorbar\": {\"outlinewidth\": 1, \"tickcolor\": \"rgb(36,36,36)\", \"ticks\": \"outside\"}, \"colorscale\": [[0.0, \"#440154\"], [0.1111111111111111, \"#482878\"], [0.2222222222222222, \"#3e4989\"], [0.3333333333333333, \"#31688e\"], [0.4444444444444444, \"#26828e\"], [0.5555555555555556, \"#1f9e89\"], [0.6666666666666666, \"#35b779\"], [0.7777777777777778, \"#6ece58\"], [0.8888888888888888, \"#b5de2b\"], [1.0, \"#fde725\"]], \"type\": \"histogram2d\"}], \"histogram2dcontour\": [{\"colorbar\": {\"outlinewidth\": 1, \"tickcolor\": \"rgb(36,36,36)\", \"ticks\": \"outside\"}, \"colorscale\": [[0.0, \"#440154\"], [0.1111111111111111, \"#482878\"], [0.2222222222222222, \"#3e4989\"], [0.3333333333333333, \"#31688e\"], [0.4444444444444444, \"#26828e\"], [0.5555555555555556, \"#1f9e89\"], [0.6666666666666666, \"#35b779\"], [0.7777777777777778, \"#6ece58\"], [0.8888888888888888, \"#b5de2b\"], [1.0, \"#fde725\"]], \"type\": \"histogram2dcontour\"}], \"mesh3d\": [{\"colorbar\": {\"outlinewidth\": 1, \"tickcolor\": \"rgb(36,36,36)\", \"ticks\": \"outside\"}, \"type\": \"mesh3d\"}], \"parcoords\": [{\"line\": {\"colorbar\": {\"outlinewidth\": 1, \"tickcolor\": \"rgb(36,36,36)\", \"ticks\": \"outside\"}}, \"type\": \"parcoords\"}], \"pie\": [{\"automargin\": true, \"type\": \"pie\"}], \"scatter\": [{\"marker\": {\"colorbar\": {\"outlinewidth\": 1, \"tickcolor\": \"rgb(36,36,36)\", \"ticks\": \"outside\"}}, \"type\": \"scatter\"}], \"scatter3d\": [{\"line\": {\"colorbar\": {\"outlinewidth\": 1, \"tickcolor\": \"rgb(36,36,36)\", \"ticks\": \"outside\"}}, \"marker\": {\"colorbar\": {\"outlinewidth\": 1, \"tickcolor\": \"rgb(36,36,36)\", \"ticks\": \"outside\"}}, \"type\": \"scatter3d\"}], \"scattercarpet\": [{\"marker\": {\"colorbar\": {\"outlinewidth\": 1, \"tickcolor\": \"rgb(36,36,36)\", \"ticks\": \"outside\"}}, \"type\": \"scattercarpet\"}], \"scattergeo\": [{\"marker\": {\"colorbar\": {\"outlinewidth\": 1, \"tickcolor\": \"rgb(36,36,36)\", \"ticks\": \"outside\"}}, \"type\": \"scattergeo\"}], \"scattergl\": [{\"marker\": {\"colorbar\": {\"outlinewidth\": 1, \"tickcolor\": \"rgb(36,36,36)\", \"ticks\": \"outside\"}}, \"type\": \"scattergl\"}], \"scattermapbox\": [{\"marker\": {\"colorbar\": {\"outlinewidth\": 1, \"tickcolor\": \"rgb(36,36,36)\", \"ticks\": \"outside\"}}, \"type\": \"scattermapbox\"}], \"scatterpolar\": [{\"marker\": {\"colorbar\": {\"outlinewidth\": 1, \"tickcolor\": \"rgb(36,36,36)\", \"ticks\": \"outside\"}}, \"type\": \"scatterpolar\"}], \"scatterpolargl\": [{\"marker\": {\"colorbar\": {\"outlinewidth\": 1, \"tickcolor\": \"rgb(36,36,36)\", \"ticks\": \"outside\"}}, \"type\": \"scatterpolargl\"}], \"scatterternary\": [{\"marker\": {\"colorbar\": {\"outlinewidth\": 1, \"tickcolor\": \"rgb(36,36,36)\", \"ticks\": \"outside\"}}, \"type\": \"scatterternary\"}], \"surface\": [{\"colorbar\": {\"outlinewidth\": 1, \"tickcolor\": \"rgb(36,36,36)\", \"ticks\": \"outside\"}, \"colorscale\": [[0.0, \"#440154\"], [0.1111111111111111, \"#482878\"], [0.2222222222222222, \"#3e4989\"], [0.3333333333333333, \"#31688e\"], [0.4444444444444444, \"#26828e\"], [0.5555555555555556, \"#1f9e89\"], [0.6666666666666666, \"#35b779\"], [0.7777777777777778, \"#6ece58\"], [0.8888888888888888, \"#b5de2b\"], [1.0, \"#fde725\"]], \"type\": \"surface\"}], \"table\": [{\"cells\": {\"fill\": {\"color\": \"rgb(237,237,237)\"}, \"line\": {\"color\": \"white\"}}, \"header\": {\"fill\": {\"color\": \"rgb(217,217,217)\"}, \"line\": {\"color\": \"white\"}}, \"type\": \"table\"}]}, \"layout\": {\"annotationdefaults\": {\"arrowhead\": 0, \"arrowwidth\": 1}, \"coloraxis\": {\"colorbar\": {\"outlinewidth\": 1, \"tickcolor\": \"rgb(36,36,36)\", \"ticks\": \"outside\"}}, \"colorscale\": {\"diverging\": [[0.0, \"rgb(103,0,31)\"], [0.1, \"rgb(178,24,43)\"], [0.2, \"rgb(214,96,77)\"], [0.3, \"rgb(244,165,130)\"], [0.4, \"rgb(253,219,199)\"], [0.5, \"rgb(247,247,247)\"], [0.6, \"rgb(209,229,240)\"], [0.7, \"rgb(146,197,222)\"], [0.8, \"rgb(67,147,195)\"], [0.9, \"rgb(33,102,172)\"], [1.0, \"rgb(5,48,97)\"]], \"sequential\": [[0.0, \"#440154\"], [0.1111111111111111, \"#482878\"], [0.2222222222222222, \"#3e4989\"], [0.3333333333333333, \"#31688e\"], [0.4444444444444444, \"#26828e\"], [0.5555555555555556, \"#1f9e89\"], [0.6666666666666666, \"#35b779\"], [0.7777777777777778, \"#6ece58\"], [0.8888888888888888, \"#b5de2b\"], [1.0, \"#fde725\"]], \"sequentialminus\": [[0.0, \"#440154\"], [0.1111111111111111, \"#482878\"], [0.2222222222222222, \"#3e4989\"], [0.3333333333333333, \"#31688e\"], [0.4444444444444444, \"#26828e\"], [0.5555555555555556, \"#1f9e89\"], [0.6666666666666666, \"#35b779\"], [0.7777777777777778, \"#6ece58\"], [0.8888888888888888, \"#b5de2b\"], [1.0, \"#fde725\"]]}, \"colorway\": [\"#1F77B4\", \"#FF7F0E\", \"#2CA02C\", \"#D62728\", \"#9467BD\", \"#8C564B\", \"#E377C2\", \"#7F7F7F\", \"#BCBD22\", \"#17BECF\"], \"font\": {\"color\": \"rgb(36,36,36)\"}, \"geo\": {\"bgcolor\": \"white\", \"lakecolor\": \"white\", \"landcolor\": \"white\", \"showlakes\": true, \"showland\": true, \"subunitcolor\": \"white\"}, \"hoverlabel\": {\"align\": \"left\"}, \"hovermode\": \"closest\", \"mapbox\": {\"style\": \"light\"}, \"paper_bgcolor\": \"white\", \"plot_bgcolor\": \"white\", \"polar\": {\"angularaxis\": {\"gridcolor\": \"rgb(232,232,232)\", \"linecolor\": \"rgb(36,36,36)\", \"showgrid\": false, \"showline\": true, \"ticks\": \"outside\"}, \"bgcolor\": \"white\", \"radialaxis\": {\"gridcolor\": \"rgb(232,232,232)\", \"linecolor\": \"rgb(36,36,36)\", \"showgrid\": false, \"showline\": true, \"ticks\": \"outside\"}}, \"scene\": {\"xaxis\": {\"backgroundcolor\": \"white\", \"gridcolor\": \"rgb(232,232,232)\", \"gridwidth\": 2, \"linecolor\": \"rgb(36,36,36)\", \"showbackground\": true, \"showgrid\": false, \"showline\": true, \"ticks\": \"outside\", \"zeroline\": false, \"zerolinecolor\": \"rgb(36,36,36)\"}, \"yaxis\": {\"backgroundcolor\": \"white\", \"gridcolor\": \"rgb(232,232,232)\", \"gridwidth\": 2, \"linecolor\": \"rgb(36,36,36)\", \"showbackground\": true, \"showgrid\": false, \"showline\": true, \"ticks\": \"outside\", \"zeroline\": false, \"zerolinecolor\": \"rgb(36,36,36)\"}, \"zaxis\": {\"backgroundcolor\": \"white\", \"gridcolor\": \"rgb(232,232,232)\", \"gridwidth\": 2, \"linecolor\": \"rgb(36,36,36)\", \"showbackground\": true, \"showgrid\": false, \"showline\": true, \"ticks\": \"outside\", \"zeroline\": false, \"zerolinecolor\": \"rgb(36,36,36)\"}}, \"shapedefaults\": {\"fillcolor\": \"black\", \"line\": {\"width\": 0}, \"opacity\": 0.3}, \"ternary\": {\"aaxis\": {\"gridcolor\": \"rgb(232,232,232)\", \"linecolor\": \"rgb(36,36,36)\", \"showgrid\": false, \"showline\": true, \"ticks\": \"outside\"}, \"baxis\": {\"gridcolor\": \"rgb(232,232,232)\", \"linecolor\": \"rgb(36,36,36)\", \"showgrid\": false, \"showline\": true, \"ticks\": \"outside\"}, \"bgcolor\": \"white\", \"caxis\": {\"gridcolor\": \"rgb(232,232,232)\", \"linecolor\": \"rgb(36,36,36)\", \"showgrid\": false, \"showline\": true, \"ticks\": \"outside\"}}, \"title\": {\"x\": 0.05}, \"xaxis\": {\"automargin\": true, \"gridcolor\": \"rgb(232,232,232)\", \"linecolor\": \"rgb(36,36,36)\", \"showgrid\": false, \"showline\": true, \"ticks\": \"outside\", \"title\": {\"standoff\": 15}, \"zeroline\": false, \"zerolinecolor\": \"rgb(36,36,36)\"}, \"yaxis\": {\"automargin\": true, \"gridcolor\": \"rgb(232,232,232)\", \"linecolor\": \"rgb(36,36,36)\", \"showgrid\": false, \"showline\": true, \"ticks\": \"outside\", \"title\": {\"standoff\": 15}, \"zeroline\": false, \"zerolinecolor\": \"rgb(36,36,36)\"}}}, \"width\": 1000, \"xaxis\": {\"anchor\": \"y\", \"domain\": [0.0, 1.0], \"title\": {\"text\": \"PROPERTY: Calculated Young modulus (GPa)\"}}, \"yaxis\": {\"anchor\": \"x\", \"domain\": [0.0, 1.0], \"title\": {\"text\": \"count\"}}},\n",
       "                        {\"responsive\": true}\n",
       "                    ).then(function(){\n",
       "                            \n",
       "var gd = document.getElementById('24d0e98a-c4b6-410e-b666-42e9d27d7a12');\n",
       "var x = new MutationObserver(function (mutations, observer) {{\n",
       "        var display = window.getComputedStyle(gd).display;\n",
       "        if (!display || display === 'none') {{\n",
       "            console.log([gd, 'removed!']);\n",
       "            Plotly.purge(gd);\n",
       "            observer.disconnect();\n",
       "        }}\n",
       "}});\n",
       "\n",
       "// Listen for the removal of the full notebook cells\n",
       "var notebookContainer = gd.closest('#notebook-container');\n",
       "if (notebookContainer) {{\n",
       "    x.observe(notebookContainer, {childList: true});\n",
       "}}\n",
       "\n",
       "// Listen for the clearing of the current output cell\n",
       "var outputEl = gd.closest('.output');\n",
       "if (outputEl) {{\n",
       "    x.observe(outputEl, {childList: true});\n",
       "}}\n",
       "\n",
       "                        })\n",
       "                };\n",
       "                });\n",
       "            </script>\n",
       "        </div>"
      ]
     },
     "metadata": {},
     "output_type": "display_data"
    }
   ],
   "source": [
    "import plotly.express as px\n",
    "import plotly.io as pio\n",
    "import plotly.graph_objects as go\n",
    "from plotly.subplots import make_subplots\n",
    "\n",
    "pio.templates.default = \"simple_white\"\n",
    "\n",
    "prop = 'PROPERTY: Calculated Young modulus (GPa)'\n",
    "\n",
    "fig = px.histogram(df, prop, nbins=30, hover_data=['FORMULA'])\n",
    "fig.update_layout(font=dict(family=\"Barlow Semi Condensed\", size=28)) \n",
    "fig.update_layout(showlegend=False)\n",
    "fig.update_layout(width=1000, height=800)\n",
    "fig.show()"
   ]
  },
  {
   "cell_type": "code",
   "execution_count": 37,
   "metadata": {},
   "outputs": [
    {
     "data": {
      "application/vnd.plotly.v1+json": {
       "config": {
        "plotlyServerURL": "https://plot.ly"
       },
       "data": [
        {
         "customdata": [
          [
           "Cr1 Nb1 Ta1 Ti1"
          ],
          [
           "Al1 Co0.5 Cr0.5 Fe0.5 Ni0.5"
          ],
          [
           "Al1 Nb1 Ti1 V1"
          ],
          [
           "Co1 Cr0.667 Fe0.667 Ni1 Ti0.333"
          ],
          [
           "Al1 Co0.5 Cr0.5 Fe0.5 Ni0.5"
          ],
          [
           "Mo1 Nb1 Ta1 Ti1"
          ],
          [
           "Nb1 Ta1 Ti1 W1"
          ],
          [
           "Mo1 Nb1 Ta1 V1"
          ],
          [
           "Al1 Nb1 Ti1 V1"
          ],
          [
           "Mo1 Nb1 Ta1 Ti1"
          ],
          [
           "Al1 Co0.8 Cr0.8 Fe0.8 Ni0.8"
          ],
          [
           "Al1 Cr1 Cu1 Fe1 Ni0.6"
          ],
          [
           "Al0.774 Fe1 Mn0.903 Ni0.484 Ti0.097"
          ],
          [
           "Al1 Cr1 Cu1 Fe1 Ni1"
          ],
          [
           "Al1 Nb1 Ti1 V1"
          ],
          [
           "Al0.774 Fe1 Mn0.903 Ni0.484 Ti0.097"
          ],
          [
           "Al1 Co0.8 Cr0.8 Fe0.8 Ni0.8"
          ],
          [
           "Al0.133 Co1 Cr0.667 Fe0.667 Ni1 Ti0.333"
          ],
          [
           "Al1 Cr1 Cu1 Fe1 Ni0.8"
          ],
          [
           "Al1 Nb1 Ti1 V1"
          ],
          [
           "Al1 Co1 Cr1 Fe1 Ni1"
          ],
          [
           "Al1 Nb1 Ti1 V1 Zr0.5"
          ],
          [
           "Al1 Cr0.5 Nb1 Ti1 V1"
          ],
          [
           "Mo1 Nb1 Ta1 Ti1"
          ],
          [
           "Al1 Mo1 Nb1 Ti1"
          ],
          [
           "Al1 Mo1 Nb1 Ti1"
          ],
          [
           "Al1 Nb1 Ti1 V1 Zr1"
          ],
          [
           "Al1 Cr1 Mo1 Nb1 Ti1"
          ],
          [
           "Cr1 Mo1 Ta1 Ti1"
          ],
          [
           "Al1 Cr1 Mo1 Nb1 Ti1"
          ],
          [
           "Hf1 Nb1 Ta1 Zr1"
          ],
          [
           "Al1 Co0.667 Cr0.667 Fe0.667 Ni0.667"
          ],
          [
           "Al1 Nb1 Ti1 V1"
          ],
          [
           "Nb1 Ta1 Ti1 W1"
          ],
          [
           "Mo1 Nb1 Ta1 Ti1"
          ],
          [
           "Al0.875 Co1 Cr1 Fe1 Ni1"
          ],
          [
           "Mo1 Nb1 Ta1 Ti1"
          ],
          [
           "Nb1 Ta1 Ti1 W1"
          ],
          [
           "Hf1 Nb1 Ta1 Zr1"
          ],
          [
           "Hf1 Nb1 Ta1 Ti1"
          ],
          [
           "Nb1 Ta1 Ti1 W1"
          ],
          [
           "Al1 Nb1 Ti1 V1"
          ],
          [
           "Hf1 Nb1 Ta1 Zr1"
          ],
          [
           "Al1 Co0.667 Cr0.667 Fe0.667 Ni0.667"
          ],
          [
           "Hf1 Nb1 Ta1 Ti1"
          ],
          [
           "Al1 Cr1 Nb1 Ti1 V1"
          ],
          [
           "Al1 Cr1 Mo1 Ti1"
          ],
          [
           "Al1 Nb1 Ti1 Zr1"
          ],
          [
           "Mo1 Nb1 Ta1 Ti1"
          ],
          [
           "Al0.774 Fe1 Mn0.903 Ni0.484 Ti0.026"
          ],
          [
           "Al0.833 Cr0.833 Cu0.833 Fe0.833 Ni1"
          ],
          [
           "Mo1 Nb1 Ta1 Ti1"
          ],
          [
           "Nb1 Ta1 Ti1 W1"
          ],
          [
           "Al1 Cr1 Mo1 Nb1 Ti1"
          ],
          [
           "Cr1 Mo1 Nb1 Ti1"
          ],
          [
           "Al1 Nb1 Ti1 V1 Zr0.25"
          ],
          [
           "Al1 Cr1 Mo1 Ti1"
          ],
          [
           "Mo1 Nb1 Ta1 Ti1"
          ],
          [
           "Al1 Cr1 Mo1 Ti1"
          ],
          [
           "Mo1 Nb1 Ta1 Ti1 Zr1"
          ],
          [
           "Al1 Mo1 Nb1 Ti1"
          ],
          [
           "Nb1 Ti1 V1 Zr1"
          ],
          [
           "Al0.75 Co1 Cr1 Fe1 Ni1"
          ],
          [
           "Cr1 Mo1 Nb1 Ti1"
          ],
          [
           "Mo1 Nb1 Ta1 Ti1 W1"
          ],
          [
           "Al1 Cr0.5 Nb1 Ti1 V1"
          ],
          [
           "Al1 Nb1 Ti1 V1"
          ],
          [
           "Al1 Nb1 Ti1 V1 Zr0.25"
          ],
          [
           "Hf1 Nb1 Ta1 Ti1"
          ],
          [
           "Al1 Cr1 Nb1 Ti1 V1"
          ],
          [
           "Al1 Nb1 Ti1 V1 Zr0.1"
          ],
          [
           "Nb1 Ti1 V0.3 Zr1"
          ],
          [
           "Mo1 Nb1 Ta1 Ti1"
          ],
          [
           "Nb1 Ta1 Ti1 W1"
          ],
          [
           "Al1 Cr1 Mo1 Nb1 Ti1"
          ],
          [
           "Al1 Nb1 Ti1 V1"
          ],
          [
           "Al1 Cr1 Mo1 Ti1"
          ],
          [
           "Al0.25 Cr0.5 Nb0.5 Ti1 V0.25"
          ],
          [
           "Al1 Cr1 Mo1 Nb1 Ti1"
          ],
          [
           "Mo0.1 Nb1 Ti1 V0.3 Zr1"
          ],
          [
           "Al0.186 Cr0.149 Fe1 Mn0.861 Ni0.28"
          ],
          [
           "Al1 Co1 Cr1 Fe1 Ni1"
          ],
          [
           "Nb1 Ta1 Ti1 W1"
          ],
          [
           "Al0.667 Cr1 Nb0.667 Ti0.667 V0.667"
          ],
          [
           "Al1 Nb1 Ti1 V1 Zr0.1"
          ],
          [
           "Al1 Nb1 Ti1 V1"
          ],
          [
           "Al1 Mo1 Nb1 Ti1"
          ],
          [
           "Al1 Mo1 Nb1 Ti1"
          ],
          [
           "Hf1 Nb1 Ta1 Ti1"
          ],
          [
           "Co1 Cr1 Fe1 Mo0.2 Ni1"
          ],
          [
           "Cr1 Cu1 Fe1 Mn1 Ni1"
          ],
          [
           "Cr1 Hf1 Nb1 Ti1 Zr1"
          ],
          [
           "Al0.278 Co0.694 Cr0.222 Fe0.417 Ni1 Ti0.167"
          ],
          [
           "Co0.476 Cr0.476 Fe0.476 Nb0.19 Ni1"
          ],
          [
           "Co1 Cr1 Fe1 Mo0.2 Ni1"
          ],
          [
           "Al1 Co1 Cr1 Fe1 Ni1"
          ],
          [
           "Co1 Cr1 Fe1 Mo0.2 Ni1"
          ],
          [
           "Co1 Cr1 Fe1 Mo0.2 Ni1"
          ],
          [
           "Co1 Cr1 Fe1 Mo0.2 Ni1"
          ],
          [
           "Al1 Co1 Cr1 Fe1 Ni1"
          ],
          [
           "Cr1 Cu1 Fe1 Mn1 Ni1"
          ],
          [
           "Al0.242 Co0.515 Cr0.515 Cu0.242 Fe0.515 Ni1"
          ],
          [
           "Co1 Cr1 Fe1 Mn1 Ni1 V1"
          ],
          [
           "Co1 Cr1 Fe1 Mo0.2 Ni1"
          ],
          [
           "Al0.304 Co1 Cr1 Fe1 Ni1"
          ],
          [
           "Al0.304 Co1 Cr1 Fe1 Ni1"
          ],
          [
           "Co1 Cr1 Fe1 Mo0.2 Ni1"
          ],
          [
           "Hf1 Nb1 Ta1 Zr1"
          ],
          [
           "Co1 Cr1 Ni1"
          ],
          [
           "Cr1 Cu1 Fe1 Mn1 Ni1"
          ],
          [
           "Cr1 Cu1 Fe1 Mn1 Ni1"
          ],
          [
           "Al1 Co1 Cr1 Fe1 Ni1"
          ],
          [
           "Al0.278 Co0.694 Cr0.222 Fe0.417 Ni1 Ti0.167"
          ],
          [
           "Al0.278 Co0.694 Cr0.222 Fe0.417 Ni1 Ti0.167"
          ],
          [
           "Al0.278 Co0.694 Cr0.222 Fe0.417 Ni1 Ti0.167"
          ],
          [
           "Co0.476 Cr0.476 Fe0.476 Nb0.095 Ni1"
          ],
          [
           "Al0.545 Cr0.545 Fe0.515 Ni1 Ti0.273"
          ],
          [
           "Hf1 Nb1 Si0.5 Ti1 V1 Zr1"
          ],
          [
           "Al1 Co1 Cr1 Fe1 Ni1"
          ],
          [
           "Cr1 Cu1 Fe1 Mn1 Ni1"
          ],
          [
           "Hf1 Mo1 Nb1 Ti1 Zr1"
          ],
          [
           "Al0.278 Co0.694 Cr0.222 Fe0.417 Ni1 Ti0.167"
          ],
          [
           "Co1 Cr1 Fe1 Mn1 Ni1 V0.765"
          ],
          [
           "Al0.278 Co0.694 Cr0.222 Fe0.417 Ni1 Ti0.167"
          ],
          [
           "Al0.278 Co0.694 Cr0.222 Fe0.417 Ni1 Ti0.167"
          ],
          [
           "Al0.278 Co0.694 Cr0.222 Fe0.417 Ni1 Ti0.167"
          ],
          [
           "Co1 Cr1 Fe1 Mo0.2 Ni1"
          ],
          [
           "Cr1 Cu1 Fe1 Mn1 Ni1"
          ],
          [
           "Hf1 Nb1 Ti1 V1 Zr1"
          ],
          [
           "Al0.278 Co0.694 Cr0.222 Fe0.417 Ni1 Ti0.167"
          ],
          [
           "Al1 Co1 Cr1 Fe1 Ni1"
          ],
          [
           "Co1 Cr1 Fe1 Mo0.2 Ni1"
          ],
          [
           "Al0.242 Co0.515 Cr0.515 Cu0.242 Fe0.515 Ni1"
          ],
          [
           "Mo1 Nb1 Ta1 W1"
          ],
          [
           "Al1 Cr1 Mo1 Ti1"
          ],
          [
           "Al1 Cr1 Mo1 Ti1"
          ],
          [
           "Al1 Cr1 Mo1 Nb1 Ti1"
          ],
          [
           "Al1 Nb1 Ti1 V1"
          ],
          [
           "Al1 Cr1 Mo1 Nb1 Ti1"
          ],
          [
           "Al1 Nb1 Ti1 V1"
          ],
          [
           "Al0.667 Nb0.667 Ti0.667 V0.667 Zr1"
          ],
          [
           "Al0.25 Cr0.5 Nb0.5 Ti1 V0.25"
          ],
          [
           "Co1 Cr0.667 Fe0.667 Ni1 Ti0.667"
          ],
          [
           "Al1 Mo1 Nb1 Ti1"
          ],
          [
           "Co1 Cr1 Fe1 Mn1 Ni1 V1"
          ],
          [
           "Cr1 Nb1 Ti1 W1"
          ],
          [
           "Al1 Cr1 Mo1 Ti1"
          ],
          [
           "Al1 Cr1 Mo1 Ti1"
          ],
          [
           "Al0.186 Cr0.149 Fe1 Mn0.861 Ni0.28"
          ],
          [
           "Al0.25 Cr0.5 Nb0.5 Ti1 V0.25"
          ],
          [
           "Nb1 Ta1 Ti1 W1"
          ],
          [
           "Al1 Mo1 Nb1 Ti1"
          ],
          [
           "Al0.667 Cr1 Nb0.667 Ti0.667 V0.667"
          ],
          [
           "Al1 Cr1 Nb1 Ti1 V1"
          ],
          [
           "Al1 Cr0.5 Nb1 Ti1 V1"
          ],
          [
           "Mo1 Nb1 Ta1 W1"
          ],
          [
           "Mo1 Nb1 Ta1 W1"
          ],
          [
           "Al0.278 Co0.694 Cr0.222 Fe0.417 Ni1 Ti0.167"
          ],
          [
           "Hf1 Nb1 Si0.5 Ti1 V1 Zr1"
          ],
          [
           "Co0.2 Cr0.2 Fe1 Mn0.6"
          ],
          [
           "Hf1 Nb1 Si0.5 Ti1 V1 Zr1"
          ],
          [
           "Hf1 Mo1 Nb1 Ti1 Zr1"
          ],
          [
           "Hf1 Mo1 Nb1 Ti1 Zr1"
          ],
          [
           "Hf1 Mo1 Nb1 Ti1 Zr1"
          ],
          [
           "Mo1 Nb1 Ta1 W1"
          ],
          [
           "Co1 Cr1 Fe1 Mo0.2 Ni1"
          ],
          [
           "Co1 Cr1 Ni1"
          ],
          [
           "Co1 Cr1 Ni1"
          ],
          [
           "Al0.167 Co1 Cr1 Fe1 Ni1 Ti0.083"
          ],
          [
           "Co1 Cr1 Fe1 Ni1"
          ],
          [
           "Co1 Cr1 Fe1 Mn1 Ni1 V0.5"
          ],
          [
           "Co1 Cr1 Fe1 Mn1 Ni1"
          ],
          [
           "Co1 Cr1 Fe1 Mn1 Ni1 V0.263"
          ],
          [
           "Al0.133 Co1 Cr0.667 Fe0.667 Ni1 Ti0.667"
          ],
          [
           "Cr1 Mo1 Nb1 Ti1"
          ],
          [
           "Al1 Nb1 Ti1 V1 Zr0.5"
          ],
          [
           "Hf1 Nb1 Si0.5 Ti1 V1 Zr1"
          ],
          [
           "Hf1 Nb1 Ta1 Ti1"
          ],
          [
           "Mo0.7 Nb1 Ti1 V1 Zr1"
          ],
          [
           "Al1 Cr1 Nb1 Ti1 V1"
          ],
          [
           "Al0.25 Cr0.5 Nb0.5 Ti1 V0.25"
          ],
          [
           "Al0.242 Co0.515 Cr0.515 Cu0.242 Fe0.515 Ni1"
          ],
          [
           "Al0.774 Fe1 Mn0.903 Ni0.484 Ti0.026"
          ],
          [
           "Al0.774 Fe1 Mn0.903 Ni0.484"
          ],
          [
           "Co1 Cr1 Fe1 Mn1 Ni1 V0.75"
          ],
          [
           "Al0.304 Co1 Cr1 Fe1 Ni1"
          ],
          [
           "Cr1 Hf1 Nb1 Ti1 Zr1"
          ],
          [
           "Cr1 Hf1 Nb1 Ti1 Zr1"
          ],
          [
           "Mo0.3 Nb1 Ti1 V0.3 Zr1"
          ],
          [
           "Mo0.5 Nb1 Ti1 V0.3 Zr1"
          ],
          [
           "Al0.304 Co1 Cr1 Fe1 Ni1"
          ],
          [
           "Al1 Cr0.5 Nb1 Ti1 V1"
          ],
          [
           "Al1 Nb1 Ti1 V1 Zr0.1"
          ],
          [
           "Mo0.3 Nb1 Ti1 V1 Zr1"
          ],
          [
           "Cr1 Mo1 Nb1 Ti1"
          ],
          [
           "Al0.375 Co1 Cr1 Fe1 Ni1"
          ],
          [
           "Cr1 Mo1 Ta1 Ti1"
          ],
          [
           "Al1 Nb1 Ti1 V1 Zr1"
          ],
          [
           "Al0.304 Co1 Cr1 Fe1 Ni1"
          ],
          [
           "Co1 Cr1 Fe1 Mn1 Ni1"
          ],
          [
           "Al1 Nb1 Ti1 V1 Zr0.25"
          ],
          [
           "Al0.5 Co1 Cr1 Fe1 Ni1"
          ],
          [
           "Co1 Cr1 Fe1 Mn1 Ni1"
          ],
          [
           "Mo1 Nb0.769 Ti0.769 V0.769 Zr0.769"
          ],
          [
           "Ag1 Al1 Nb1 Ti1 Zn1"
          ],
          [
           "Ag1 Al1 Nb1 Ti1 Zn1"
          ],
          [
           "Ag1 Al1 Nb1 Ti1 Zn1"
          ],
          [
           "Al1 Nb1 Ta1 Ti1"
          ],
          [
           "Al1 Nb1 Ti1 V1 Zr0.5"
          ],
          [
           "Al1 Mo1 Nb1 Ti1"
          ],
          [
           "Co1 Cr1 Fe1 Mn1 Ni1 V0.25"
          ],
          [
           "Cr1 Mo1 Ta1 Ti1"
          ],
          [
           "Mo0.5 Nb1 Ti1 V1 Zr1"
          ],
          [
           "Cr1 Mo1 Ta1 Ti1"
          ],
          [
           "Cr1 Hf1 Nb1 Ti1 Zr1"
          ],
          [
           "Mo0.7 Nb1 Ti1 V0.3 Zr1"
          ],
          [
           "Al0.375 Co1 Cr1 Fe1 Ni1"
          ],
          [
           "Cr1 Cu1 Fe1 Mn1 Ni1"
          ],
          [
           "Cr1 Cu1 Fe1 Mn1 Ni1"
          ],
          [
           "Ag1 Al1 Nb1 Ti1 Zn1"
          ],
          [
           "Cr1 Cu1 Fe1 Mn1 Ni1"
          ],
          [
           "Al0.229 Co0.486 Cr0.4 Cu0.229 Fe0.486 Mo0.003 Ni1 Ti0.029 W0.003"
          ],
          [
           "Cr1 Cu1 Fe1 Mn1 Ni1"
          ],
          [
           "Al0.667 Cr1 Nb0.667 Ti0.667 V0.667"
          ],
          [
           "Al0.667 Nb0.667 Ti0.667 V0.667 Zr1"
          ],
          [
           "Mo1 Nb1 Ti1 V0.3 Zr1"
          ],
          [
           "Al0.774 Fe1 Mn0.903 Ni0.484"
          ],
          [
           "Mo1 Nb0.667 Ti0.667 V0.2 Zr0.667"
          ],
          [
           "Al0.304 Co1 Cr1 Fe1 Ni1"
          ],
          [
           "Al0.278 Co0.694 Cr0.222 Fe0.417 Ni1 Ti0.167"
          ],
          [
           "Al0.229 Co0.486 Cr0.4 Cu0.229 Fe0.486 Mo0.003 Ni1 Ti0.029 W0.003"
          ],
          [
           "Nb1 Ti1 Zr1"
          ],
          [
           "Co1 Cr1 Fe1 Mn1 Ni1 V0.5"
          ],
          [
           "Mo1 Nb1 Ti1 V1 Zr1"
          ],
          [
           "Cr1 Mo1 Nb1 Ti1"
          ],
          [
           "Mo1 Nb1 Ta1 Ti1"
          ],
          [
           "Al0.667 Nb0.667 Ti0.667 V0.667 Zr1"
          ],
          [
           "Cr1 Mo1 Ta1 Ti1"
          ],
          [
           "Mo1 Nb0.588 Ti0.588 V0.588 Zr0.588"
          ],
          [
           "Mo1 Nb0.5 Ti0.5 V0.5 Zr0.5"
          ],
          [
           "Hf1 Nb1 Ti1 V1 Zr1"
          ],
          [
           "Cr1 Mo1 Ta1 Ti1"
          ],
          [
           "Cr1 Mo1 Ta1 Ti1"
          ],
          [
           "Cr1 Mo1 Ta1 Ti1"
          ],
          [
           "Al0.667 Cr1 Nb0.667 Ti0.667 V0.667"
          ],
          [
           "Cr1 Mo1 Ta1 Ti1"
          ],
          [
           "Hf1 Nb1 Ti1 V1 Zr1"
          ],
          [
           "Al0.714 Cr0.714 Cu0.714 Fe0.714 Ni1"
          ],
          [
           "Al1 Nb1 Ti1 V1 Zr1"
          ],
          [
           "Al1 Cr1 Mo1 Nb1"
          ],
          [
           "C0.053 Co1 Cr1 Fe1 Mn1 Ni1"
          ],
          [
           "Hf1 Nb1 Ti1 V1 Zr1"
          ],
          [
           "Al0.75 Co1 Cr1 Fe1 Ni1"
          ],
          [
           "Al0.875 Co1 Cr1 Fe1 Ni1"
          ],
          [
           "Cr1 Cu1 Fe1 Mn1 Ni1"
          ],
          [
           "Al0.242 Co0.515 Cr0.515 Cu0.242 Fe0.515 Ni1"
          ],
          [
           "Al0.25 Co1 Cr1 Fe1 Ni1"
          ],
          [
           "Al1 Cr1 Cu1 Fe1 Ni1 Ti1"
          ],
          [
           "Al1 Hf1 Nb1 Ti1"
          ],
          [
           "Mo1 Nb0.769 Ti0.769 V0.231 Zr0.769"
          ],
          [
           "Hf1 Nb1 Ti1 Zr1"
          ],
          [
           "Cr1 Cu1 Fe1 Mn1 Ni1"
          ],
          [
           "Al0.242 Co0.515 Cr0.515 Cu0.242 Fe0.515 Ni1"
          ],
          [
           "Co1 Cr1 Fe1 Ni1"
          ],
          [
           "Co1 Cr1 Fe1 Ni1"
          ],
          [
           "Al0.229 Co0.486 Cr0.4 Cu0.229 Fe0.486 Mo0.003 Ni1 Ti0.029 W0.003"
          ],
          [
           "Al1 Hf1 Ta1 Ti1"
          ],
          [
           "Al0.278 Co0.694 Cr0.222 Fe0.417 Ni1 Ti0.167"
          ],
          [
           "C0.053 Co1 Cr1 Fe1 Mn1 Ni1"
          ],
          [
           "Mo1 Nb0.667 Ti0.667 V0.667 Zr0.667"
          ],
          [
           "Ag1 Al1 Nb1 Ti1 Zn1"
          ],
          [
           "Al0.25 Co1 Cr1 Fe1 Ni1"
          ],
          [
           "Al0.278 Co0.694 Cr0.222 Fe0.417 Ni1 Ti0.167"
          ],
          [
           "Cr1 Cu1 Fe1 Mn1 Ni1"
          ],
          [
           "Al0.278 Co0.694 Cr0.222 Fe0.417 Ni1 Ti0.167"
          ],
          [
           "Al0.278 Co0.694 Cr0.222 Fe0.417 Ni1 Ti0.167"
          ],
          [
           "Al0.5 Co1 Cr1 Fe1 Ni1"
          ],
          [
           "Al1 Hf1 Nb1 Ti1"
          ],
          [
           "Co1 Cu1 Fe1 Mn1 Ni1"
          ],
          [
           "Al0.143 Cr0.343 Fe1 Mn0.8 Ni0.571"
          ],
          [
           "Al1 Mo1 Ta1 Ti1 V1"
          ],
          [
           "Co1 Cu1 Fe1 Mn1 Ni1"
          ],
          [
           "Al0.25 Cr0.417 Fe0.417 Ni1"
          ],
          [
           "Cr1 Cu1 Fe1 Ni1 Ti1"
          ],
          [
           "Co1 Cr1 Fe1 Ni1"
          ],
          [
           "Al0.333 Ca0.011 Li0.844 Mg1 Si0.033"
          ],
          [
           "Co1 Cu1 Fe1 Mn1 Ni1"
          ],
          [
           "Co1 Cr1 Fe1 Ga1 Ni1"
          ],
          [
           "Mo1 Nb1 Ta1 W1"
          ],
          [
           "Mo1 Nb1 Ta1 W1"
          ],
          [
           "Al1 Co1 Cr1 Fe1 Ni1"
          ],
          [
           "Al1 Cu0.2 Li0.5 Mg1 Zn0.5"
          ],
          [
           "Co1 Cr1 Fe1 Mn1 Ni1"
          ],
          [
           "Al0.304 Co1 Cr1 Fe1 Ni1"
          ],
          [
           "Co1 Cr1 Fe1 Ni1"
          ],
          [
           "Al0.333 Ca0.011 Li0.867 Mg1 Si0.011"
          ],
          [
           "Co1 Cr1 Mo1 Nb1"
          ],
          [
           "Co1 Cr1 Mo1 Nb1 Ti1"
          ],
          [
           "Co1 Cr1 Mo1 Nb1 Ti0.2"
          ],
          [
           "Co1 Cr1 Fe1 Ni1 Ti1"
          ],
          [
           "Al1 Co1 Cr1 Fe1 Nb0.75 Ni1"
          ],
          [
           "Co0.5 Fe0.5 Mo0.1 Ni1 V0.25"
          ],
          [
           "Co1 Cr1 Fe1 Ni1"
          ],
          [
           "Co0.5 Fe0.5 Mo0.1 Ni1 V0.25"
          ],
          [
           "Co0.5 Fe0.5 Mo0.1 Ni1 V0.25"
          ],
          [
           "Co0.5 Fe0.5 Mo0.1 Ni1 V0.25"
          ],
          [
           "Al0.25 Co1 Cr1 Cu0.5 Fe1 Ni1 Ti0.5"
          ],
          [
           "Al1 Co1 Cr1 Cu1 Ni1 Ti1 Y1"
          ],
          [
           "Al1 Co1 Cr1 Cu1 Fe1 Ni1"
          ],
          [
           "Hf1 Mo0.5 Nb1 Ti1 V0.5"
          ],
          [
           "Hf1 Mo0.5 Nb1 Ti1 V0.5"
          ],
          [
           "Co0.25 Cr0.25 Fe1 Mn1"
          ],
          [
           "Co1 Cr1 Fe1 Mo0.208 Ni1"
          ],
          [
           "Co1 Cr1 Fe1 Mo0.2 Ni1"
          ],
          [
           "Co1 Cr1 Mo1 Nb1 Ti0.5"
          ],
          [
           "Al1 Cu0.5 Li0.5 Mg1 Sn0.2"
          ],
          [
           "Co1 Cr1 Fe1 Mo0.304 Ni1"
          ],
          [
           "Hf1 Nb1 Si0.5 Ti1 V1"
          ],
          [
           "Al1 Cr1 Mo1 Nb1 Ti1"
          ],
          [
           "Hf1 Nb1 Si0.5 Ti1 V1 Zr1"
          ],
          [
           "Co1 Cu1 Fe1 Ni1 Sn0.07"
          ],
          [
           "Co1 Cu1 Fe1 Ni1 Sn0.1"
          ],
          [
           "Al1 Hf1 Ta1 Ti1"
          ],
          [
           "Hf1 Nb1 Si0.5 Ti1 V1 Zr1"
          ],
          [
           "Co1 Cu1 Fe1 Ni1 Sn0.5"
          ],
          [
           "Hf1 Nb1 Si0.5 Ti1 V1"
          ],
          [
           "Co1 Cr1 Cu1 Fe1 Ni1"
          ],
          [
           "Co1 Cr1 Cu1 Fe1 Ni1 V0.042"
          ],
          [
           "Co1 Cr1 Cu1 Fe1 Ni1 V0.087"
          ],
          [
           "Co1 Cr1 Cu1 Fe1 Ni1 V0.136"
          ],
          [
           "Hf1 Nb1 Ti1 Zr1"
          ],
          [
           "Nb1 Ti1 Zr1"
          ],
          [
           "Nb1 Ti1 Zr1"
          ],
          [
           "Hf1 Nb1 Ti1 Zr1"
          ],
          [
           "Co1 Cr1 Fe1 Mo0.083 Ni1"
          ],
          [
           "Co1 Cu1 Fe1 Ni1 Sn0.2"
          ],
          [
           "Co1 Cr1 Mo1 Nb1 Ti0.4"
          ],
          [
           "Al1 Cr0.828 Fe0.828 Ni0.828"
          ],
          [
           "Mo1 Nb1 Ta1 W1"
          ],
          [
           "Mo0.667 Nb0.667 Ti0.667 V1 Zr0.667"
          ],
          [
           "Hf1 Mo1 Nb1 Ti1 Zr1"
          ],
          [
           "Al0.451 Co0.451 Cr0.451 Fe0.451 Ni1"
          ],
          [
           "Co1 Cr0.429 Fe0.571 Mo0.286 Ni0.571"
          ],
          [
           "Co1 Cr1 Cu1 Fe1 Ni1 Ti0.5"
          ],
          [
           "Al1 Co1 Cr1 Fe1 Ni1"
          ],
          [
           "Nb1 Ta1 Ti1 V1 W1"
          ],
          [
           "Mo0.5 Nb0.5 Ti0.5 V1 Zr0.5"
          ],
          [
           "Hf1 Mo1 Nb1 Ta1 Ti1 Zr1"
          ],
          [
           "Al1 Cr1 Mo1 Nb1 Ti1"
          ],
          [
           "Mo0.333 Nb0.333 Ti0.333 V1 Zr0.333"
          ],
          [
           "Al1 Co1 Cr1 Cu1 Fe1 Ni1"
          ],
          [
           "Al1 Cr0.767 Fe0.767 Ni0.767"
          ],
          [
           "Al0.304 Co1 Cr1 Fe1 Ni1"
          ],
          [
           "Co1 Cr1 Fe1 Nb0.155 Ni1"
          ],
          [
           "Mo1 Nb1 Ti1 V1 Zr1"
          ],
          [
           "Mo1 Nb1 Ta1 V1 W1"
          ],
          [
           "Hf1 Mo1 Ta1 Ti1 Zr1"
          ],
          [
           "Al1 Co1 Cr1 Cu1 Fe1 Mn1 Ni1"
          ],
          [
           "Al1 Cr1 Mo1 Nb1 Ti1"
          ],
          [
           "Hf1 Mo1 Nb1 Ta1 Ti1 W1 Zr1"
          ],
          [
           "Al0.515 Cr0.515 Fe1 Ni1"
          ],
          [
           "Al1 Li0.062 Mg0.062 Sn0.062 Zn0.062"
          ],
          [
           "Al1 Co1 Cr1 Cu1 Fe1 Ni1 V1"
          ],
          [
           "Co1 Cr1 Fe1 Nb0.103 Ni1"
          ],
          [
           "Hf1 Mo1 Nb1 Ta1 Zr1"
          ],
          [
           "Al0.511 Co0.511 Cr0.511 Fe0.511 Ni1"
          ],
          [
           "Al0.465 Co0.465 Cr0.465 Fe0.465 Ni1"
          ],
          [
           "Hf1 Nb1 Si0.5 Ti1 V1 Zr1"
          ],
          [
           "Mo1 Nb1 Ta1 V1 W1"
          ],
          [
           "Al1 Cu0.062 Li0.062 Mg0.062 Zn0.062"
          ],
          [
           "Al0.5 Cr0.5 Fe1 Ni1"
          ],
          [
           "Al0.545 Cr0.545 Fe0.515 Ni1 Ti0.273"
          ],
          [
           "Hf1 Nb1 Ta1 Ti1 W1 Zr1"
          ],
          [
           "Co0.25 Cr0.25 Fe1 Mn1"
          ],
          [
           "Hf1 Mo1 Nb1 Ta1 Ti1"
          ],
          [
           "Al1 Cr1 Fe1 Ni1"
          ],
          [
           "Co0.5 Fe0.5 Mo0.1 Ni1 V0.25"
          ],
          [
           "Hf1 Mo1 Nb1 Ta1 Ti1 W1 Zr1"
          ],
          [
           "Hf1 Nb1 Ta1 Ti1 W1 Zr1"
          ],
          [
           "Hf1 Mo1 Nb1 Ta1 Ti1 W1 Zr1"
          ],
          [
           "Hf1 Mo1 Nb1 Ta1 Ti1 W1 Zr1"
          ],
          [
           "Mo1 Nb1 Ti1 Zr1"
          ],
          [
           "Hf1 Nb1 Ta1 Ti1 W1 Zr1"
          ],
          [
           "C0.1 Hf0.5 Mo0.5 Nb1 Ti1 Zr1"
          ],
          [
           "Al1 Cr1 Mo1 Nb1"
          ],
          [
           "Mo1 Nb1 Ta1 V1 W1"
          ],
          [
           "Mo1 Nb1 Ta1 W1"
          ],
          [
           "Mo1 Nb1 Ta1 W1"
          ],
          [
           "Mo1 Nb1 Ta1 V1 W1"
          ],
          [
           "Hf1 Nb1 Ta1 Ti1 W1 Zr1"
          ],
          [
           "C0.3 Hf0.5 Mo0.5 Nb1 Ti1 Zr1"
          ],
          [
           "Al0.544 C0.001 Co0.69 Fe1 Ni0.69"
          ],
          [
           "Co0.476 Cr0.476 Fe0.476 Nb0.095 Ni1"
          ],
          [
           "Al1 Cr0.889 Fe0.889 Ni0.889"
          ],
          [
           "Mo1 Nb1 Ti1 V0.5 Zr1"
          ],
          [
           "Co1 Cr1 Cu1 Fe1 Ni1 V0.19"
          ],
          [
           "Co0.5 Fe0.5 Mo0.1 Ni1 V0.25"
          ],
          [
           "Mo1 Nb1 Ti1 V0.75 Zr1"
          ],
          [
           "Hf1 Nb1 Ti1 V1 Zr1"
          ],
          [
           "Al0.304 Cr0.435 Fe0.435 Ni1"
          ],
          [
           "Mo1 Nb1 Ti1 V0.25 Zr1"
          ],
          [
           "Al0.515 Cr0.515 Cu0.515 Fe0.515 Ni1"
          ],
          [
           "Hf1 Mo1 Ta1 Ti1 Zr1"
          ],
          [
           "Hf1 Mo1 Nb1 Ta1 Ti1 Zr1"
          ],
          [
           "Hf1 Mo1 Ta1 Ti1 Zr1"
          ],
          [
           "Hf1 Mo1 Nb1 Ta1 Ti1 Zr1"
          ],
          [
           "Al0.343 Co0.514 Cr0.514 Fe1 Ni0.514"
          ],
          [
           "Al1 Co1 Cr1 Cu1 Ni1 Ti1 Y0.5"
          ],
          [
           "Mo1 Nb1 Ta1 W1"
          ],
          [
           "Al1 Co1 Cr1 Cu1 Ni1 Ti1 Y0.8"
          ],
          [
           "Co1 Cr1 Fe1 Mn1 Mo0.042 Ni1"
          ],
          [
           "Al0.5 Co1 Cr1 Cu1 Fe1 Ni1"
          ],
          [
           "Co1 Cr1 Fe1 Mn1 Mo0.19 Ni1"
          ],
          [
           "Hf1 Mo1 Nb1 Ta1 Ti1"
          ],
          [
           "Mo1 Nb1 Ta1 Ti1 V1 W1"
          ],
          [
           "Mo1 Nb1 Ta1 Ti1 V1"
          ],
          [
           "Mo1 Nb1 Ta1 Ti1 Zr1"
          ],
          [
           "Hf0.26 Nb1 Ta1 Ti0.578 Zr0.416"
          ],
          [
           "Hf1 Ta0.6 Ti1 Zr1"
          ],
          [
           "Hf1 Nb1 Ta1 Ti1 Zr1"
          ],
          [
           "Al1 Co0.5 Cr0.5 Cu0.5 Fe0.5 Ni0.5"
          ],
          [
           "Mo1 Nb1 Ta1 Ti1 Zr1"
          ],
          [
           "Hf1 Mo1 Nb1 Ta1 Ti1 Zr1"
          ],
          [
           "Hf1 Mo1 Nb1 Ta1 Ti1 Zr1"
          ],
          [
           "Hf1 Nb1 Ta1 Ti1 Zr1"
          ],
          [
           "Hf1 Mo1 Nb1 Ta1 Ti1"
          ],
          [
           "Mo1 Nb1 Ta1 Ti1 W1"
          ],
          [
           "Hf1 Nb1 Ta1 Ti1 Zr1"
          ],
          [
           "Mo1 Nb1 Ta1 Ti1 W1"
          ],
          [
           "Hf0.26 Nb1 Ta1 Ti0.578 Zr0.416"
          ],
          [
           "Al1 Co1 Cr1 Fe1 Ni1 Si0.4"
          ],
          [
           "Mo1 Nb1 Ta1 Ti1 V1 W1"
          ],
          [
           "Mo1 Nb1 Ta1 Ti1 V1 W1"
          ],
          [
           "Mo1 Nb1 Ta1 Ti1 V1 W1"
          ],
          [
           "Mo1 Nb1 Ta1 Ti1 V1 W1"
          ],
          [
           "Hf1 Mo0.5 Nb1 Si0.7 Ti1 V0.5"
          ],
          [
           "Hf1 Mo0.5 Nb1 Si0.7 Ti1 V0.5"
          ],
          [
           "Mo1 Nb1 Ta1 Ti1 W1"
          ],
          [
           "Mo1 Nb1 Ta1 Ti1 V1 W1"
          ],
          [
           "Mo1 Nb1 Ta1 Ti1 V1 W1"
          ],
          [
           "Hf1 Mo1 Nb1 Ta1 Ti1 Zr1"
          ],
          [
           "Hf1 Nb1 Ta1 Ti1 Zr1"
          ],
          [
           "Mo1 Nb1 Ta1 Ti1 W1"
          ],
          [
           "Hf1 Mo1 Nb1 Ta1 Ti1"
          ],
          [
           "Hf1 Ta0.5 Ti1 Zr1"
          ],
          [
           "Cr1 Cu1 Fe1 Mn1 Ni1"
          ],
          [
           "Hf1 Mo1 Nb1 Ti1 Zr1"
          ],
          [
           "Hf1 Ta1 Ti1 Zr1"
          ],
          [
           "Al1 Nb1 Ta1 Ti1"
          ],
          [
           "Al1 Nb1 Ta1 Ti1"
          ],
          [
           "Al0.25 Co1 Cr1 Cu0.75 Fe1 Ni1 Ti0.5"
          ],
          [
           "Hf1 Mo1 Nb1 Ta1 Zr1"
          ],
          [
           "Hf1 Mo1 Nb1 Ti1 Zr1"
          ],
          [
           "Al0.35 Cr0.5 Fe1 Mn0.625 Ni0.375"
          ],
          [
           "Hf0.26 Nb1 Ta1 Ti0.578 Zr0.416"
          ],
          [
           "Mo1 Nb1 Ta1 W1"
          ],
          [
           "Hf1 Mo1 Nb1 Ta1 Zr1"
          ],
          [
           "Hf1 Mo1 Nb1 Ta1 Ti1 Zr1"
          ],
          [
           "Al0.5 Nb1 Ta1 Ti1 V1"
          ],
          [
           "Al1 Co1 Cr1 Fe1 Ni1"
          ],
          [
           "Al1 C1 Co1 Cr1 Fe1 Ni1"
          ],
          [
           "Al0.2 Mo1 Ta1 Ti1 V1"
          ],
          [
           "Al0.25 Cr0.5 Nb0.5 Ti1 V0.25"
          ],
          [
           "Al0.25 Cr0.5 Fe1 Mn0.625 Ni0.375"
          ],
          [
           "Hf1 Mo1 Ta1 Ti1 Zr1"
          ],
          [
           "Al1 Co1 Cr1 Fe1 Ni1"
          ],
          [
           "Al1 C0.4 Co1 Cr1 Fe1 Ni1"
          ],
          [
           "Hf0.5 Mo0.5 Nb1 Ti1 Zr1"
          ],
          [
           "Al1 C0.5 Co1 Cr1 Fe1 Ni1"
          ],
          [
           "Nb1 Ta1 Ti1 V1"
          ],
          [
           "Al1 Nb1 Ta1 Ti1"
          ],
          [
           "Al1 Co1 Cr1 Fe1 Ni1"
          ],
          [
           "Al1 Co0.5 Cr0.5 Cu0.5 Fe0.5 Ni0.5"
          ],
          [
           "Mo1 Ta1 Ti1 V1"
          ],
          [
           "Hf0.26 Nb1 Ta1 Ti0.578 Zr0.416"
          ],
          [
           "Al1 Nb1 Ta1 Ti1 V1"
          ],
          [
           "Al0.667 C1 Co0.667 Cr0.667 Fe0.667 Ni0.667"
          ],
          [
           "Hf1 Mo1 Ta1 Ti1 Zr1"
          ],
          [
           "Al0.25 Nb1 Ta1 Ti1 V1"
          ],
          [
           "Hf1 Mo1 Ta1 Ti1 Zr1"
          ],
          [
           "Al1 C0.3 Co1 Cr1 Fe1 Ni1"
          ],
          [
           "Hf1 Nb1 Ti1 Zr1"
          ],
          [
           "Hf1 Nb1 Ta1 Ti1 Zr1"
          ],
          [
           "Hf1 Nb1 Ta1 Ti1 Zr1"
          ],
          [
           "Al1 C0.2 Co1 Cr1 Fe1 Ni1"
          ],
          [
           "Mo1 Nb1 Ta1 Ti1 V1 W1"
          ],
          [
           "Hf1 Mo1 Nb1 Ta1 Zr1"
          ],
          [
           "Al0.35 Cr0.5 Fe1 Mn0.625 Ni0.375"
          ],
          [
           "Al0.25 Cr0.5 Fe1 Mn0.625 Ni0.375"
          ],
          [
           "Al1 Co1 Cr1 Cu1 Fe1 Ni1"
          ],
          [
           "Hf1 Mo0.5 Nb1 Ti1 V0.5"
          ],
          [
           "Hf1 Mo0.5 Nb1 Ti1 V0.5"
          ],
          [
           "Al1 C0.1 Co1 Cr1 Fe1 Ni1"
          ],
          [
           "Al0.6 Mo1 Ta1 Ti1 V1"
          ],
          [
           "Nb1 Ta1 Ti1 V1"
          ],
          [
           "Al1 Co1 Cr1 Fe1 Ni1 Si0.2"
          ],
          [
           "Al1 Co0.5 Cr0.5 Cu0.5 Fe0.5 Ni0.5"
          ],
          [
           "Hf1 Mo1 Nb1 Ti1 Zr1"
          ],
          [
           "Mo1 Nb1 Ta1 Ti1 W1"
          ],
          [
           "Hf1 Mo0.5 Nb1 Si0.5 Ti1 V0.5"
          ],
          [
           "Al1 Co1 Cr1 Fe1 Mo0.2 Ni1"
          ],
          [
           "Al1 Co1 Cr1 Fe1 Ni1 Si1"
          ],
          [
           "Al1 Co0.5 Cr0.5 Cu0.5 Fe0.5 Ni0.5"
          ],
          [
           "Co1 Cr1 Fe1 Mn1 Ni1"
          ],
          [
           "Cr0.5 Fe1 Mn0.625 Ni0.375"
          ],
          [
           "Al0.5 Co1 Cr1 Cu1 Fe1 Ni1"
          ],
          [
           "Hf1 Mo0.5 Nb1 Si0.7 Ti1 V0.5"
          ],
          [
           "Al1 Co1 Cr1 Fe1 Ni1 Si0.8"
          ],
          [
           "Hf1 Mo0.5 Nb1 Si0.7 Ti1 V0.5"
          ],
          [
           "Al0.05 Cr0.5 Fe1 Mn0.625 Ni0.375"
          ],
          [
           "Hf1 Mo0.5 Nb1 Si0.7 Ti1 V0.5"
          ],
          [
           "Al0.15 Cr0.5 Fe1 Mn0.625 Ni0.375"
          ],
          [
           "Hf1 Mo1 Nb1 Ta1 Zr1"
          ],
          [
           "Hf1 Mo1 Nb1 Ti1 Zr1"
          ],
          [
           "Al1 Co0.5 Cr0.5 Cu0.5 Fe0.5 Ni0.5"
          ],
          [
           "Al1 Co1 Cr1 Cu1 Fe1 Ni1"
          ],
          [
           "Hf1 Mo0.5 Nb1 Si0.5 Ti1 V0.5"
          ],
          [
           "Hf1 Mo1 Nb1 Ti1 Zr1"
          ],
          [
           "Al1 Co1 Cr1 Fe1 Mo0.3 Ni1"
          ],
          [
           "Al1 Co1 Cr1 Fe1 Mo0.4 Ni1"
          ],
          [
           "Co1 Cu1 Fe1 Ni1"
          ],
          [
           "Al1 Co1 Cr1 Fe1 Ni1 Ti1"
          ],
          [
           "Al1 Co1 Cr1 Cu1 Fe1 Ni1"
          ],
          [
           "Al0.5 Co1 Cr1 Fe1 Ni1 Ti1"
          ],
          [
           "Al1 Co0.667 Cr0.667 Fe0.667 Ni0.667 Ti0.667"
          ],
          [
           "Co1 Cu1 Fe1 Ni1 Sn0.02"
          ],
          [
           "Co1 Cu1 Fe1 Ni1 Sn0.05"
          ],
          [
           "Cr0.5 Fe1 Mn0.625 Ni0.375"
          ],
          [
           "Al0.35 Cr0.5 Fe1 Mn0.625 Ni0.375"
          ],
          [
           "Al1 Co0.5 Cr0.5 Cu0.5 Fe0.5 Ni0.5"
          ],
          [
           "Co1 Cu1 Fe1 Ni1 Sn0.04"
          ],
          [
           "Al0.5 Co1 Cr1 Cu1 Fe1 Ni1"
          ],
          [
           "Al0.05 Cr0.5 Fe1 Mn0.625 Ni0.375"
          ],
          [
           "Al1 Co1 Cr1 Fe1 Mo0.5 Ni1"
          ],
          [
           "Al0.186 Cr0.149 Fe1 Mn0.861 Ni0.28"
          ],
          [
           "Hf1 Mo0.5 Nb1 Si0.3 Ti1 V0.5"
          ],
          [
           "Hf1 Mo0.5 Nb1 Si0.3 Ti1 V0.5"
          ],
          [
           "Al1 Co1 Cr1 Cu1 Fe1 Ni1"
          ],
          [
           "Cr0.5 Fe1 Mn0.625 Ni0.375"
          ],
          [
           "Co1 Cr1 Fe1 Mn1 Mo0.087 Ni1"
          ],
          [
           "Al0.05 Cr0.5 Fe1 Mn0.625 Ni0.375"
          ],
          [
           "Al0.186 Cr0.149 Fe1 Mn0.861 Ni0.28"
          ],
          [
           "Al1 Li0.5 Mg1 Sn0.2 Zn0.5"
          ],
          [
           "Al0.15 Cr0.5 Fe1 Mn0.625 Ni0.375"
          ],
          [
           "Hf1 Mo1 Nb1 Ta1 Ti1 Zr1"
          ],
          [
           "Hf1 Mo1 Nb1 Ta1 Ti1 Zr1"
          ],
          [
           "Co1 Cr1 Fe1 Mn1 Mo0.136 Ni1"
          ],
          [
           "Al1 Co0.5 Cr0.5 Cu0.5 Fe0.5 Ni0.5"
          ],
          [
           "Al1 Co1 Cr1 Cu1 Fe1 Ni1"
          ],
          [
           "Hf1 Mo0.5 Nb1 Si0.3 Ti1 V0.5"
          ],
          [
           "Hf1 Mo1 Nb1 Ti1 Zr1"
          ],
          [
           "Hf1 Mo0.5 Nb1 Si0.3 Ti1 V0.5"
          ],
          [
           "Mo1 Nb1 Ta1 Ti1 W1"
          ],
          [
           "Mo1 Nb1 Ta1 Ti1 W1"
          ],
          [
           "Hf0.26 Nb1 Ta1 Ti0.578 Zr0.416"
          ],
          [
           "Hf1 Mo1 Ta1 Ti1 Zr1"
          ],
          [
           "Al0.5 Co1 Cr1 Cu0.5 Fe1 Ni1 Ti0.5"
          ],
          [
           "Hf1 Mo0.5 Nb1 Si0.5 Ti1 V0.5"
          ],
          [
           "Hf1 Mo0.5 Nb1 Si0.5 Ti1 V0.5"
          ],
          [
           "Mo1 Nb1 Ta1 Ti1 W1"
          ],
          [
           "Al1 Co0.5 Cr0.5 Cu0.5 Fe0.5 Ni0.5"
          ],
          [
           "Hf1 Mo1 Nb1 Ti1 Zr1"
          ],
          [
           "Hf1 Mo0.5 Nb1 Si0.5 Ti1 V0.5"
          ],
          [
           "Hf1 Mo0.5 Nb1 Si0.5 Ti1 V0.5"
          ],
          [
           "Al0.25 Cr0.5 Fe1 Mn0.625 Ni0.375"
          ],
          [
           "Hf1 Mo1 Nb1 Ta1 Ti1"
          ],
          [
           "Hf1 Mo0.5 Nb1 Ti1 V0.5"
          ],
          [
           "Hf1 Mo0.5 Nb1 Ti1 V0.5"
          ],
          [
           "Hf1 Mo0.5 Nb1 Si0.7 Ti1 V0.5"
          ],
          [
           "Al0.75 Co1 Cr1 Cu0.25 Fe1 Ni1 Ti0.5"
          ],
          [
           "Al0.5 Co1 Cr1 Cu1 Fe1 Ni1"
          ],
          [
           "Hf1 Mo0.5 Nb1 Si0.3 Ti1 V0.5"
          ],
          [
           "Co1 Cr1 Fe1 Mo0.15 Ni1"
          ],
          [
           "Hf1 Mo0.5 Nb1 Si0.3 Ti1 V0.5"
          ],
          [
           "Hf1 Mo1 Ta1 Ti1 Zr1"
          ],
          [
           "Hf1 Mo1 Ta1 Ti1 Zr1"
          ],
          [
           "Al1 Co1 Cr1 Fe1 Ni1 Si0.6"
          ],
          [
           "Al0.5 Co1 Cr1 Cu1 Fe1 Ni1"
          ],
          [
           "Al0.5 Co1 Cr1 Cu1 Fe1 Ni1"
          ],
          [
           "Al0.5 Co1 Cr1 Cu1 Fe1 Ni1"
          ],
          [
           "Al1 Co1 Cr1 Fe1 Mo0.1 Ni1"
          ],
          [
           "Al0.15 Cr0.5 Fe1 Mn0.625 Ni0.375"
          ],
          [
           "Hf1 Ta0.4 Ti1 Zr1"
          ],
          [
           "Co1 Cr1 Cu1 Fe1 Ni1 Ti0.5"
          ],
          [
           "Co1 Cr1 Fe1 Ni1"
          ],
          [
           "Al1 Co1 Cr1 Fe1 Nb0.1 Ni1"
          ],
          [
           "Al0.5 B0.6 Co1 Cr1 Cu1 Fe1 Ni1"
          ],
          [
           "Hf1 Mo1 Nb1 Ta1 Ti1 Zr1"
          ],
          [
           "Al1 Co0.333 Cr0.333 Fe0.333 Ni0.333"
          ],
          [
           "Mo1 Nb1 Ta1 Ti1 W1"
          ],
          [
           "Al1 Mo1 Nb1 Ti1"
          ],
          [
           "C0.2 Mo1 Nb1 Re0.5 Ta0.2 W1"
          ],
          [
           "Co0.556 Fe0.556 Mo0.556 Ni1 V0.556"
          ],
          [
           "Cr1 Fe1 Ni1 Ti0.3"
          ],
          [
           "Al0.3 Co1 Cr1 Fe1 Mn1 Ni1"
          ],
          [
           "Al0.9 Co1 Cr1 Fe1 Ni1"
          ],
          [
           "Al1 Cu0.889 Fe0.667 Ni0.889 Ti1"
          ],
          [
           "Al1 Cu0.889 Fe0.667 Ni0.889 Ti1"
          ],
          [
           "Al1 Cu1 Fe1 Ni1 Ti1"
          ],
          [
           "Al0.75 Mo1 Nb1 Ti1 V1"
          ],
          [
           "Hf1 Mo1 Nb1 Ta1 Ti1 Zr1"
          ],
          [
           "Al1 Co1 Cr1 Fe1 Ni1"
          ],
          [
           "Co0.625 Fe0.625 Mo0.625 Ni1 V0.625"
          ],
          [
           "Hf0.5 Mo0.5 Nb1 Si0.5 Ti1 Zr1"
          ],
          [
           "Al0.75 Co1 Cr1 Fe1 Mn1 Ni1"
          ],
          [
           "Al0.88 Co1 Cr1 Fe1 Mn1 Ni1"
          ],
          [
           "Al0.95 Co1 Cr1 Fe1 Mn1 Ni1"
          ],
          [
           "Al1 Co1 Cu1 Fe1 Ni1"
          ],
          [
           "Mo1 Nb1 Ta1 V1 W1"
          ],
          [
           "Al1 Cu1 Ni1 Ti1"
          ],
          [
           "Al1 Mo1 Nb1 Ti1 V1"
          ],
          [
           "Co0.714 Fe0.714 Mo0.714 Ni1 V0.714"
          ],
          [
           "Al1 Co0.8 Cr0.8 Fe0.8 Mn0.8 Ni0.8"
          ],
          [
           "Cr1 Mo1 Ta1 Ti1"
          ],
          [
           "Al0.81 Co1 Cr1 Fe1 Mn1 Ni1"
          ],
          [
           "Hf1 Mo1 Ta1 Ti1 Zr1"
          ],
          [
           "Al1 Co1 Cr1 Fe1 Ni1"
          ],
          [
           "Al1 Cr1 Fe1 Mo0.2 Ni1"
          ],
          [
           "Al0.774 Fe1 Mn0.903 Ni0.484 Ti0.097"
          ],
          [
           "Mo1 Nb1 Ta1 Ti0.75 W1"
          ],
          [
           "Al1 Hf1 Nb1 Ta1 Ti1 Zr1"
          ],
          [
           "Mo1 Nb1 Ti1 V1"
          ],
          [
           "Hf0.5 Mo0.5 Nb1 Si0.1 Ti1 Zr1"
          ],
          [
           "Mo1 Nb1 Ta1 Ti1 W1"
          ],
          [
           "Al0.5 Co1 Cr1 Cu1 Fe1 Ni1 V0.8"
          ],
          [
           "B0.035 Co0.207 Cr0.207 Fe1 Mn0.621"
          ],
          [
           "Mo1 Nb1 Ta1 W1"
          ],
          [
           "Al1 Co1 Fe1 Ni1"
          ],
          [
           "Al0.5 Co1 Cr1 Cu1 Fe1 Ni1 Ti0.6"
          ],
          [
           "Al1 Nb1 Ta1 Ti1"
          ],
          [
           "Al1 Co1 Cr1 Cu1 Fe1 Ni1"
          ],
          [
           "Al0.25 Mo1 Nb1 Ti1 V1"
          ],
          [
           "Co1 Cr1 Fe1 Mn0.2 Ni1 Pd1"
          ],
          [
           "Al1 Co1 Cu1 Fe1 Ni1 Zr1"
          ],
          [
           "Al1 Co0.667 Cr0.667 Cu0.667 Fe0.667 Ni0.667"
          ],
          [
           "Al1 Cr1 Fe1 Ni1"
          ],
          [
           "Mo1 Nb1 Re0.5 W1"
          ],
          [
           "Mo1 Nb1 Ta1 Ti0.25 W1"
          ],
          [
           "Hf1 Mo0.5 Nb1 Ta1 Ti1 Zr1"
          ],
          [
           "Mo1 Nb1 Ta1 Ti0.5 W1"
          ],
          [
           "Ta1 Ti1 Zr1"
          ],
          [
           "Al0.68 Co1 Cr1 Fe1 Mn1 Ni1"
          ],
          [
           "Al1 Co0.4 Cr0.4 Fe0.4 Ni0.4"
          ],
          [
           "Al0.5 Mo1 Nb1 Ti1 V1"
          ],
          [
           "Nb0.333 Ta0.667 Ti0.667 Zr1"
          ],
          [
           "Hf1 Nb1 Si0.5 Ti1 V1"
          ],
          [
           "Hf1 Mo0.75 Nb1 Ta1 Ti1 Zr1"
          ],
          [
           "Al1 Co1 Cr1 Fe1 Ni1"
          ],
          [
           "Hf0.5 Mo0.5 Nb1 Si0.3 Ti1 Zr1"
          ],
          [
           "Cr1 Nb1 Ta1 Ti1"
          ],
          [
           "Al1 Co1 Cr1 Cu1 Fe1 Ni1"
          ],
          [
           "Al0.1 Co1 Cr1 Fe1 Mn1 Ni1"
          ],
          [
           "Al0.5 Co1 Cr1 Fe1 Mn1 Ni1"
          ],
          [
           "C0.4 Mo1 Nb1 Re0.5 Ta0.4 W1"
          ],
          [
           "Al1 Co0.833 Cr0.833 Fe0.833 Ni0.833 Ti0.667"
          ],
          [
           "Hf0.5 Mo0.5 Nb1 Si0.9 Ti1 Zr1"
          ],
          [
           "Al1 Co0.667 Cr0.667 Fe0.667 Ni0.667 Ti0.333"
          ],
          [
           "Al1 Co0.5 Cr0.5 Fe0.5 Ni0.5 Ti0.5"
          ],
          [
           "Al0.417 Co0.833 Cr0.833 Cu0.833 Fe0.833 Ni0.833 Ti1"
          ],
          [
           "Co1 Cr1 Fe1 Mn1 Ni1 V1"
          ],
          [
           "Al1 Co0.667 Cr0.667 Fe0.667 Mo0.333 Ni0.667"
          ],
          [
           "Al0.312 Co0.625 Cr0.625 Cu0.625 Fe0.625 Ni0.625 Ti1"
          ],
          [
           "Al0.357 Co0.714 Cr0.714 Cu0.714 Fe0.714 Ni0.714 Ti1"
          ],
          [
           "Al0.278 Co0.556 Cr0.556 Cu0.556 Fe0.556 Ni0.556 Ti1"
          ],
          [
           "Al1 Co1 Cr1 Fe1 Nb0.25 Ni1"
          ],
          [
           "Co1 Cr1 Cu1 Fe1 Ni1 Ti1 V1 Zr1"
          ],
          [
           "Al1 Co1 Cu1 Fe1 Ni1 Si1"
          ],
          [
           "Al1 Co1 Cr1 Fe1 Mn1 Ni1"
          ],
          [
           "Al0.5 Co1 Cr1 Cu1 Fe1 Ni1 V1"
          ],
          [
           "Al0.25 Co0.5 Cr0.5 Cu0.5 Fe0.5 Ni0.5 Ti1"
          ],
          [
           "Al1 Co1 Cr1 Fe1 Ni1 Ti1"
          ],
          [
           "Cr1 Mo1 Nb1 Ta1 V1 W1"
          ],
          [
           "Al1 Co1 Cr1 Fe1 Mo0.5 Ni0.5"
          ],
          [
           "Cr1 Fe1 Ni1 Ti0.5"
          ],
          [
           "Al1 Cr1 Fe1 Mo0.5 Ni1 Ti0.25"
          ],
          [
           "Al1 Co1 Cr1 Fe1 Mo0.5 Ni1"
          ],
          [
           "Cr1 Fe1 Ni1 Ti0.6"
          ],
          [
           "Al0.947 Co0.158 Mo1 Ni0.289 W0.237"
          ],
          [
           "Al1 Co1 Cr1 Fe1 Mo0.5 Ni1"
          ],
          [
           "Al1 Cr1 Fe1 Mo0.5 Ni1 Ti0.4"
          ],
          [
           "Al0.5 B1 Co1 Cr1 Cu1 Fe1 Ni1"
          ],
          [
           "Fe1 Mo1 Ni1 Ti1 V1 Zr1"
          ],
          [
           "Al0.667 Co1 Cr0.667 Fe0.667 Mo0.333 Ni0.667"
          ],
          [
           "Al1 Co1 Cr1 Fe1 Nb0.5 Ni1"
          ],
          [
           "Fe1 Mo1 Nb1 Ti1 V1"
          ],
          [
           "Co1 Fe1 Mo0.6 Ni1 V1"
          ],
          [
           "Al0.5 Co0.5 Cr0.5 Fe1 Mo0.25 Ni0.5"
          ],
          [
           "Al0.667 Co0.667 Cr0.667 Fe1 Mo0.333 Ni0.667"
          ],
          [
           "Al1 Co0.5 Cr0.5 Cu0.5 Fe0.5 Ni0.5"
          ],
          [
           "Cr1 Cu1 Fe1 Mn1 Ni1"
          ],
          [
           "Co1 Fe1 Ni1 Si0.75"
          ],
          [
           "Al0.357 Co0.714 Cr0.714 Cu0.714 Fe0.714 Ni0.714 V1"
          ],
          [
           "Al1 Co1 Cu1 Fe1 Nd1 Ni1"
          ],
          [
           "Al0.417 Co0.833 Cr0.833 Cu0.833 Fe0.833 Ni0.833 V1"
          ],
          [
           "Hf0.5 Mo0.5 Nb1 Si0.7 Ti1 Zr1"
          ],
          [
           "Al1 Co0.5 Cr0.5 Fe0.5 Ni0.5"
          ],
          [
           "C0.5 Mo1 Nb1 Re0.5 Ta0.5 W1"
          ],
          [
           "Al0.5 Co1 Cr0.5 Fe0.5 Mo0.25 Ni0.5"
          ],
          [
           "Al0.667 Co0.667 Cr0.667 Fe0.667 Mo0.333 Ni1"
          ],
          [
           "Al0.25 Co0.5 Cr0.5 Cu0.5 Fe0.5 Ni0.5 V1"
          ],
          [
           "Al0.5 Co1 Cr1 Cu1 Fe1 Ni1 Ti0.8"
          ],
          [
           "Cu1 Fe1 Ni1 Ti1 V1 Zr1"
          ],
          [
           "Al0.5 Co1 Cr1 Cu1 Fe1 Ni1 Ti1"
          ],
          [
           "Al0.312 Co0.625 Cr0.625 Cu0.625 Fe0.625 Ni0.625 V1"
          ],
          [
           "Cr1 Fe1 Ni1 Ti0.4"
          ],
          [
           "Co0.833 Fe0.833 Mo0.833 Ni1 V0.833"
          ],
          [
           "Al1 Co0.5 Cr0.5 Fe0.5 Mo0.25 Ni0.5"
          ],
          [
           "Al1 Co0.556 Cr0.556 Fe0.556 Ni0.556 Ti0.111"
          ],
          [
           "Co1 Fe1 Mo0.8 Ni1 V1"
          ],
          [
           "C0.6 Mo1 Nb1 Re0.5 Ta0.6 W1"
          ],
          [
           "Al1 Cr1 Fe1 Mo0.5 Ni1"
          ],
          [
           "Al0.7 Co1 Cr1 Fe1 Mn1 Ni1"
          ],
          [
           "Al0.9 Co1 Cr1 Fe1 Ni1 Ti0.5"
          ],
          [
           "Al1 Cr1 Fe1 Mo0.5 Ni1"
          ],
          [
           "Co1 Fe1 Mo1 Ni1 V1"
          ],
          [
           "Al1 Co1 Cu1 Fe1 Ni1 Ti1"
          ],
          [
           "Cr1 Nb1 Ti1 W1"
          ],
          [
           "Co1 Cu1 Fe1 Ni1 Ti1 V1 Zr1"
          ],
          [
           "Al0.278 Co0.556 Cr0.556 Cu0.556 Fe0.556 Ni0.556 V1"
          ],
          [
           "Al1 Cr1 Fe1 Mo0.5 Ni1 Ti0.5"
          ],
          [
           "Al1 Co0.5 Cr0.5 Fe0.5 Ni0.5"
          ],
          [
           "Al1 Co1 Cu1 Fe1 Ni0.5"
          ],
          [
           "Hf1 Ti1 Zr1"
          ],
          [
           "Al0.5 Co1 Fe1 Ni1"
          ],
          [
           "Al0.5 Co1 Cr1 Cu1 Fe1 Ni1"
          ],
          [
           "Co1 Cu1 Fe1 Mn1 Ni1 Sn0.08"
          ],
          [
           "Al0.49 Co1 Cr1 Fe1 Mn1 Ni1"
          ],
          [
           "Al0.5 Co1 Cr1 Cu1 Fe1 Ni1"
          ],
          [
           "Al0.5 Cr1 Cu1 Fe1 Ni1"
          ],
          [
           "Al0.6 Co1 Cr1 Fe1 Ni1"
          ],
          [
           "Al0.229 Co0.486 Cr0.4 Cu0.229 Fe0.486 Mo0.003 Ni1 Ti0.029 W0.003"
          ],
          [
           "Al0.5 Co1 Cr1 Cu1 Fe1 Ni1 V0.4"
          ],
          [
           "Hf1 Sc1 Ti1 Zr1"
          ],
          [
           "Co1 Fe1 Ni1 V1"
          ],
          [
           "Al0.111 Cu1 Mn1 Ni1"
          ],
          [
           "Hf1 Ti1 Y1 Zr1"
          ],
          [
           "Co1 Cr1 Fe1 Mo0.5 Ni1"
          ],
          [
           "Co1 Cr1 Fe1 Ni1 W0.2"
          ],
          [
           "Co1 Cu1 Fe1 Mn1 Ni1 Sn0.1"
          ],
          [
           "Hf1 Sc1 Ti1 Y1 Zr1"
          ],
          [
           "Cr1 Cu1 Fe1 Mo1 Ni1"
          ],
          [
           "Co1 Fe1 Mo0.2 Ni1 V1"
          ],
          [
           "Al0.8 Co1 Cr1 Cu1 Fe1 Ni1"
          ],
          [
           "Hf1 Nb1 Ta1 Ti1"
          ],
          [
           "Al0.5 Co1 Cr1 Cu1 Fe1 Ni1 Ti0.2"
          ],
          [
           "Co0.564 Nb0.795 Ta0.103 Ti1 W0.103"
          ],
          [
           "Al0.56 Co1 Cr1 Fe1 Mn1 Ni1"
          ],
          [
           "Al0.333 Co0.333 Cu0.333 Fe0.333 Ni1"
          ],
          [
           "B0.006 Co0.201 Cr0.201 Fe1 Mn0.604"
          ],
          [
           "Co1 Cr1 Cu1 Fe1 Ni1"
          ],
          [
           "Co1 Fe1 Ni1 Si0.5"
          ],
          [
           "Nb1 Ta0.667 Ti0.667 Zr0.333"
          ],
          [
           "Nb1 Ta1 Ti1"
          ],
          [
           "Hf1 Nb1 Ta1 Ti1 Zr1"
          ],
          [
           "Co1 Cu1 Fe1 Mn1 Ni1"
          ],
          [
           "Co1 Cu1 Fe1 Mn1 Ni1 Sn0.05"
          ],
          [
           "Cu1 Mn1 Ni1 Zn0.25"
          ],
          [
           "Al0.3 Co1 Cr1 Fe1 Ni1"
          ],
          [
           "Co1 Fe1 Ni1"
          ],
          [
           "Co1 Fe1 Ni1"
          ],
          [
           "Co1 Cr0.2 Fe1 Ni1 Si0.2"
          ],
          [
           "Co1 Cr1 Fe1 Mn1 Ni1"
          ],
          [
           "Al0.3 Co1 Cr1 Fe1 Ni1"
          ],
          [
           "Al0.25 Co1 Fe1 Ni1"
          ],
          [
           "Co1 Cr1 Fe1 Mn1 Ni1"
          ],
          [
           "Al0.3 Co1 Cr1 Fe1 Ni1"
          ],
          [
           "Cu1 Mn1 Ni1 Zn0.333"
          ],
          [
           "Co1 Fe1 Ni1 Si0.25"
          ],
          [
           "Co1 Cr1 Fe1 Mn1 Ni1 V0.25"
          ],
          [
           "Al0.5 Co1 Cr1 Cu1 Fe1 Ni1"
          ],
          [
           "Cu1 Mn1 Ni1 Sn0.053"
          ],
          [
           "Co1 Cr1 Cu1 Fe1 Ni1"
          ],
          [
           "Al0.3 Co1 Cr1 Fe1 Ni1"
          ],
          [
           "Al0.053 Cu1 Mn1 Ni1"
          ],
          [
           "Co1 Cr1 Fe1 Ni1"
          ],
          [
           "Al0.2 Co1 Cr1 Fe1 Mn1 Ni1"
          ],
          [
           "Co1 Cr1 Cu0.5 Fe1 Ni1"
          ],
          [
           "Co1 Cr1 Fe1 Mn1 Ni1"
          ],
          [
           "Al1 Co1 Cr1 Fe1 Ni1 Ti0.5"
          ],
          [
           "Co1 Cr1 Fe1 Mn0.6 Ni1 Pd1"
          ],
          [
           "Al0.1 Co1 Cr1 Fe1 Mn1 Ni1"
          ],
          [
           "Al0.38 Co1 Cr1 Fe1 Mn1 Ni1"
          ],
          [
           "Al0.43 Co1 Cr1 Fe1 Mn1 Ni1"
          ],
          [
           "Co1 Cr1 Fe1 Mn1 Ni1 V0.5"
          ],
          [
           "Co1 Cu1 Fe1 Mn1 Ni1 Sn0.03"
          ],
          [
           "Al0.5 Co1 Cr1 Cu1 Fe1 Ni1 V0.2"
          ],
          [
           "Co1 Cr1 Fe1 Mn0.8 Ni1 Pd1"
          ],
          [
           "Mo1 Nb1 Ta1 Ti1"
          ],
          [
           "Co1 Cr1 Fe1 Ni1 Pd1"
          ],
          [
           "Co0.2 Cr0.2 Fe1 Mn0.6"
          ],
          [
           "Nb1 Ta1 Ti1 Zr1"
          ],
          [
           "Hf1 Nb1 Ta1 Ti1 Zr1"
          ],
          [
           "Al0.6 Co1 Cr0.333 Fe0.333 Mo0.1 Ni0.967"
          ],
          [
           "Al0.6 Cr1 Fe1 Mn1 Ni1"
          ],
          [
           "Cr1 Fe1 Ni1 Ti0.2"
          ],
          [
           "Al0.6 Co1 Cr0.333 Fe0.333 Mo0.067 Ni1"
          ],
          [
           "Hf1 Nb1 Ta1 Zr1"
          ],
          [
           "Nb1 Ti1 Zr1"
          ],
          [
           "Al0.7 Cr1 Fe1 Mn1 Ni1"
          ],
          [
           "Co1 Cr1 Fe1 Mn0.4 Ni1 Pd1"
          ],
          [
           "Co0.5 Fe0.5 Mo0.5 Ni1 V0.5"
          ],
          [
           "Al0.75 Co1 Fe1 Ni1"
          ],
          [
           "Al0.8 Cr1 Fe1 Mn1 Ni1"
          ],
          [
           "Al1 Co1 Cu1 Fe1 Ni1"
          ],
          [
           "Co1 Cr1 Fe1 Ni1 W0.5"
          ],
          [
           "Al0.5 Co0.5 Cr0.5 Fe0.5 Mo0.25 Ni1"
          ],
          [
           "Hf1 Mo0.25 Nb1 Ta1 Ti1 Zr1"
          ],
          [
           "Al0.333 Cr0.667 Fe1 Mn0.667 Ni0.333"
          ],
          [
           "Al0.5 Hf1 Nb1 Ta1 Ti1 Zr1"
          ],
          [
           "Hf0.5 Mo0.5 Nb1 Ti1 Zr1"
          ],
          [
           "Al1 Co0.667 Cr0.667 Fe0.667 Ni0.667"
          ],
          [
           "Co1 Fe1 Mo0.4 Ni1 V1"
          ],
          [
           "Al0.62 Co1 Cr1 Fe1 Mn1 Ni1"
          ],
          [
           "Co1 Cr1 Fe1 Mn1 Ni1"
          ],
          [
           "Al0.5 B0.2 Co1 Cr1 Cu1 Fe1 Ni1"
          ],
          [
           "Al1 Co1 Cu1 Fe1 Ni0.8"
          ],
          [
           "Al1 Nb1 Ti1 Zr1"
          ],
          [
           "Co0.273 Cr0.477 Nb0.477 Ni0.045 Ti1"
          ],
          [
           "Al0.5 Co1 Cr1 Fe1 Mo0.5 Ni1"
          ],
          [
           "Al0.75 Hf1 Nb1 Ta1 Ti1 Zr1"
          ],
          [
           "Al1 Co1 Cr1 Fe1 Ni1"
          ],
          [
           "Nb1 Ti1 Zr1"
          ],
          [
           "Al0.581 Co0.968 Cr0.323 Fe0.323 Mo0.032 Ni1"
          ],
          [
           "Al0.3 Hf1 Nb1 Ta1 Ti1 Zr1"
          ],
          [
           "Cr1 Cu1 Fe1 Mn1 Ni1"
          ],
          [
           "Al0.2 Cr0.667 Fe1 Mn0.667 Ni0.333"
          ],
          [
           "Al0.5 Co0.5 Cu0.5 Fe0.5 Ni1"
          ],
          [
           "Al0.5 Co1 Cr1 Cu1 Fe1 Ni1"
          ],
          [
           "Hf0.333 Nb0.333 Ta0.333 Ti1 Zr0.667"
          ],
          [
           "Al0.562 Co0.938 Cr0.312 Fe0.312 Ni1"
          ],
          [
           "B0.012 Co0.202 Cr0.202 Fe1 Mn0.607"
          ],
          [
           "Al0.774 Fe1 Mn0.903 Ni0.484"
          ],
          [
           "Hf0.25 Nb0.5 Ti1 V0.5 Zr0.5"
          ],
          [
           "Hf0.25 Nb0.5 Ti1 V0.5 Zr0.5"
          ],
          [
           "Hf0.25 Nb0.5 Ti1 V0.5 Zr0.5"
          ],
          [
           "Cu1 Mn1 Ni1 Sn0.111"
          ],
          [
           "Hf0.25 Nb0.375 Ti1 V0.5 Zr0.5"
          ],
          [
           "Co1 Cu1 Fe1 Mn1 Ni1 Sn0.2"
          ],
          [
           "Al0.5 Cr1 Fe1 Mn1 Ni1"
          ],
          [
           "Al0.5 Co1 Cr1 Cu1 Fe1 Ni1 Ti0.4"
          ],
          [
           "Hf0.25 Nb0.25 Ti1 V0.5 Zr0.5"
          ],
          [
           "Hf0.25 Nb0.25 Ti1 V0.5 Zr0.5"
          ],
          [
           "Al0.667 Co0.667 Cu0.667 Fe0.667 Ni1"
          ],
          [
           "Al0.5 Co1 Cr1 Cu1 Fe1 Ni1 V0.6"
          ],
          [
           "Al0.774 Fe1 Mn0.903 Ni0.484 Ti0.026"
          ],
          [
           "Hf0.25 Nb0.125 Ti1 V0.5 Zr0.5"
          ],
          [
           "Hf1 Nb1 Ta1 Ti1 Zr1"
          ],
          [
           "Hf0.25 Ti1 V0.5 Zr0.5"
          ],
          [
           "Hf0.25 Ti1 V0.5 Zr0.5"
          ],
          [
           "Hf0.25 Ti1 V0.5 Zr0.5"
          ],
          [
           "Al1 Cr1 Cu1 Fe1 Ni1"
          ],
          [
           "Co1 Cr1 Fe1 Mn1 Ni1 V0.75"
          ],
          [
           "Al0.278 Co0.694 Cr0.222 Fe0.417 Ni1 Ti0.167"
          ],
          [
           "Hf1 Nb1 Ti1 Zr1"
          ],
          [
           "Hf0.25 Nb0.25 Ti1 V0.5 Zr0.5"
          ],
          [
           "Al1 Co1 Cr1 Fe0.6 Mo0.5 Ni1"
          ],
          [
           "Al0.885 Cr1 Fe1 Ni1"
          ],
          [
           "Al0.125 Co1 Cr1 Cu1 Fe1 Mn1 Ni1 Ti1 V1"
          ],
          [
           "Co1 Fe1 Mo1 Ni1 Ti1 V1 Zr1"
          ],
          [
           "Al0.667 Co1 Cr1 Cu1 Fe1 Mn1 Ni1 Ti1 V1"
          ],
          [
           "Hf1 Mo1 Nb1 Ti1 Zr1"
          ],
          [
           "Co1 Cr1 Fe1 Nb0.412 Ni1"
          ],
          [
           "Al1 Li1 Mg1 Sn1 Zn1"
          ],
          [
           "Al1 Cu0.077 Mg0.077 Ni0.077 Si0.231 Zn0.077"
          ],
          [
           "Al1 Cu0.077 Fe0.077 Mg0.077 Si0.231 Zn0.077"
          ],
          [
           "Co1 Cr1 Cu1 Fe1 Mn1 Ni1 Ti1 V1"
          ],
          [
           "Al1 Co1 Cr1 Fe1 Ni1"
          ],
          [
           "Al1 Co1 Cr1 Fe1 Ni1"
          ],
          [
           "Al1 Co1 Cr1 Fe1 Ni1 Ti1"
          ],
          [
           "Al1 Cu0.077 Mg0.077 Mn0.077 Si0.231 Zn0.077"
          ],
          [
           "Al1 Cr1 Mo1 Nb1 Ti1"
          ],
          [
           "Al0.25 Co1 Cr1 Cu1 Fe1 Mn1 Ni1 Ti1 V1"
          ],
          [
           "Al1 Cr1 Fe1 Mo0.5 Ni1 Ti0.75"
          ],
          [
           "Co1 Cr1 Cu1 Fe1 Ni1 Ti1"
          ],
          [
           "Al1 Cr1 Mo1 Nb1 Ti1"
          ],
          [
           "Cr1 Hf1 Nb1 Ti1 Zr1"
          ],
          [
           "Al1 Co1 Cr1 Fe1 Ni1 Ti1 V1 Zr1"
          ],
          [
           "Al1 Co1 Cr1 Cu1 Fe1 Ni1"
          ],
          [
           "Al1 Co1 Fe1 Ni1 Ti1 V1 Zr1"
          ],
          [
           "Al1 Co1 Cr1 Ni1"
          ],
          [
           "Al1 Cr1 Fe1 Mo1 Ni1"
          ],
          [
           "Al1 Co1 Cr1 Fe1 Mo0.5"
          ],
          [
           "Al0.667 Co0.833 Cr0.833 Fe0.833 Ni0.833 Ti1"
          ],
          [
           "Co1 Cr0.487 Nb0.231 Ta0.026 Ti0.821"
          ],
          [
           "Co1 Cr1 Fe1 Nb0.206 Ni1"
          ],
          [
           "Al1 Cr1 Fe1 Mo0.8 Ni1"
          ],
          [
           "Co1 Cr1 Fe1 Mo1 Ni1 Ti1 V1 Zr1"
          ],
          [
           "Co1 Cr0.917 Ni1 Ta0.5 Ti0.75"
          ],
          [
           "Cr1 Fe1 Mo1 Nb1 V1"
          ],
          [
           "Co0.043 Nb0.638 Ni1 Ta0.255 Ti0.191"
          ],
          [
           "Al0.312 Ca0.021 Li0.792 Mg1 Si0.021"
          ],
          [
           "Al1 Co0.5 Cr1 Fe1 Mo0.5 Ni1"
          ],
          [
           "Al1 Co1 Cr1 Cu1 Fe1 Ni1 Ti1"
          ],
          [
           "Al1 Fe1 Ni1 Ti1 V1 Zr1"
          ],
          [
           "Al1 Co1 Cr1 Fe1 Mo0.5 Ni1"
          ],
          [
           "Al0.242 Co0.515 Cr0.515 Cu0.242 Fe0.515 Ni1"
          ],
          [
           "Al1 Co1 Cr0.091 Nb0.727 W0.212"
          ],
          [
           "Cr1 Fe1 Mo1 Nb1 Ti1"
          ],
          [
           "Al0.429 Cr0.476 Fe0.476 Ni1"
          ],
          [
           "Al1 Cr1 Mo1 Nb1 Ti1"
          ],
          [
           "Al0.569 Ca0.143 Li0.857 Mg1 Si0.286 Y0.003"
          ],
          [
           "Al1 Co1 Cr1 Fe1 Ni1"
          ],
          [
           "Al0.343 Co0.514 Cr0.514 Fe1 Ni0.514"
          ],
          [
           "Cr1 Fe1 Ni1 V0.5 W1"
          ],
          [
           "Hf1 Mo1 Nb1 Ta1 Ti1 Zr1"
          ],
          [
           "Co0.476 Cr0.476 Fe0.476 Nb0.19 Ni1"
          ],
          [
           "Al1 Co1 Cr1 Fe1 Mo0.5 Ni1"
          ],
          [
           "Al0.143 Cr0.343 Fe1 Mn0.8 Ni0.571"
          ],
          [
           "Co1 Cr1 Cu1 Fe1 Ni1 Ti0.8"
          ],
          [
           "Hf1 Nb1 Ta1 Ti1 Zr1"
          ],
          [
           "Al0.667 Co0.667 Cr0.667 Fe0.667 Ni0.667 Ti1"
          ],
          [
           "Al0.5 Cr0.5 Fe0.5 Ni1"
          ],
          [
           "Al0.343 Co0.514 Cr0.514 Fe1 Ni0.514"
          ],
          [
           "Al0.364 Cr0.455 Fe0.455 Ni1"
          ],
          [
           "Al0.429 Ca0.286 Li1 Mg1 Si0.143"
          ],
          [
           "Mo1 Nb1 Ta1 V1 W1"
          ],
          [
           "Al0.343 Co0.514 Cr0.514 Fe1 Ni0.514"
          ],
          [
           "Al1 Cr0.077 Cu0.077 Mg0.077 Si0.231 Zn0.077"
          ],
          [
           "Mo1 Nb1 Ta1 V1 W1"
          ],
          [
           "Nb1 Ta1 V1 W1"
          ],
          [
           "Al1 Co1 Cr1 Cu1 Fe1 Ni1"
          ],
          [
           "Al1 Cr1 Fe1 Mo0.5 Ni1 Ti0.6"
          ],
          [
           "Al1 Cu0.077 Mg0.077 Si0.231 Zn0.077 Zr0.077"
          ],
          [
           "Hf1 Mo1 Ta1 Ti1 Zr1"
          ],
          [
           "Co1 Cr1 Fe1 Nb0.309 Ni1"
          ],
          [
           "Cr1 Mo0.5 Nb1 Ta0.5 Ti1 Zr1"
          ],
          [
           "Al0.333 Nb0.667 Ta0.533 Ti1 V0.133 Zr0.667"
          ],
          [
           "Al0.214 Nb0.714 Ta0.714 Ti1 Zr0.929"
          ],
          [
           "Cr1 Mo0.5 Nb1 Ta0.5 Ti1 Zr1"
          ],
          [
           "Mo1 Nb1 Ta1 V1 W1"
          ],
          [
           "Cr1 Mo0.5 Nb1 Ta0.5 Ti1 Zr1"
          ],
          [
           "Cr1 Nb1 Ti1 V1 Zr1"
          ],
          [
           "Al0.5 Mo0.5 Nb1 Ta0.5 Ti1 Zr1"
          ],
          [
           "Al0.5 Mo0.5 Nb1 Ta0.5 Ti1 Zr1"
          ],
          [
           "Cr1 Nb1 Ti1 Zr1"
          ],
          [
           "Al1 Mo0.5 Nb1 Ta0.5 Ti1 Zr1"
          ],
          [
           "Hf1 Nb1 Ta1 Ti1 Zr1"
          ],
          [
           "Al0.667 Nb1 Ta0.333 Ti1 Zr0.333"
          ],
          [
           "Mo1 Nb1 Ta1 W1"
          ],
          [
           "Cr1 Mo0.5 Nb1 Ta0.5 Ti1 Zr1"
          ],
          [
           "Nb0.5 Ti0.5 V1 Zr0.5"
          ],
          [
           "Al0.214 Nb0.714 Ta0.571 Ti1 V0.143 Zr0.929"
          ],
          [
           "Hf1 Nb1 Ta1 Ti1 Zr1"
          ],
          [
           "Hf1 Nb1 Ta1 Ti1 Zr1"
          ],
          [
           "Nb1 Ti1 V1 Zr1"
          ],
          [
           "Hf1 Nb1 Ta1 Ti1 Zr1"
          ],
          [
           "Al0.214 Nb0.714 Ta0.571 Ti1 V0.143 Zr0.929"
          ],
          [
           "Mo1 Nb1 Ti1"
          ],
          [
           "Al0.4 Hf0.6 Nb1 Ta1 Ti1 Zr1"
          ],
          [
           "Al1 Nb1 Ta0.5 Ti1 Zr0.5"
          ],
          [
           "Nb0.5 Ti0.5 V1 Zr0.5"
          ],
          [
           "Cr1 Nb0.333 Ti0.333 Zr0.333"
          ],
          [
           "Al1 Mo0.5 Nb1 Ta0.5 Ti1 Zr0.5"
          ],
          [
           "Al1 Mo0.5 Nb1 Ta0.5 Ti1 Zr1"
          ],
          [
           "Mo1 Nb1 Ta1 W1"
          ],
          [
           "Cr1 Nb1 Ti1 Zr1"
          ],
          [
           "Mo1 Nb1 Ti1"
          ],
          [
           "Hf1 Nb1 Ta1 Ti1 Zr1"
          ],
          [
           "Hf1 Nb1 Ta1 Ti1 Zr1"
          ],
          [
           "Hf1 Nb1 Ta1 Ti1 Zr1"
          ],
          [
           "Mo1 Nb1 Ta1 V1 W1"
          ],
          [
           "Al1 Mo0.5 Nb1 Ta0.5 Ti1 Zr1"
          ],
          [
           "Hf1 Nb1 Ta1 Ti1 Zr1"
          ],
          [
           "Al0.4 Hf0.6 Nb1 Ta1 Ti1 Zr1"
          ],
          [
           "Al1 Mo0.5 Nb1 Ta0.5 Ti1 Zr0.5"
          ],
          [
           "Al0.214 Nb0.714 Ta0.571 Ti1 V0.143 Zr0.929"
          ],
          [
           "Hf1 Nb1 Ta1 Ti1 Zr1"
          ],
          [
           "Al1 Mo0.5 Nb1 Ta0.5 Ti1 Zr1"
          ],
          [
           "Al0.214 Nb0.714 Ta0.714 Ti1 Zr0.929"
          ],
          [
           "Mo1 Nb1 Ti1 V1 Zr1"
          ],
          [
           "Cr1 Nb1 Ti1 V1 Zr1"
          ],
          [
           "Mo1 Nb1 Ta1 V1 W1"
          ],
          [
           "Al0.4 Hf0.6 Nb1 Ta1 Ti1 Zr1"
          ],
          [
           "Nb1 Ta0.3 Ti1 Zr1"
          ],
          [
           "Nb1 Re0.3 Ti1 Zr1"
          ],
          [
           "Nb1 Ti1 V1 Zr1"
          ],
          [
           "Al0.214 Nb0.714 Ta0.714 Ti1 Zr0.929"
          ],
          [
           "Hf1 Nb1 Ta1 Ti1 Zr1"
          ],
          [
           "Al0.24 Nb1 Ti1 V1 Zr1"
          ],
          [
           "Al0.667 Nb1 Ta0.333 Ti1 Zr0.333"
          ],
          [
           "Nb1 Ta1 Ti1 V1 Zr1"
          ],
          [
           "Nb0.5 Ti0.5 V1 Zr0.5"
          ],
          [
           "Nb1 Ti1 Zr1"
          ],
          [
           "Hf1 Nb1 Ta1 Ti1 Zr1"
          ],
          [
           "Hf1 Nb1 Ta1 Ti1 Zr1"
          ],
          [
           "Mo1 Nb1 Ta1 W1"
          ],
          [
           "Al1 Nb1 Ta0.5 Ti1 Zr0.5"
          ],
          [
           "Mo1 Nb1 Ti1 V1 Zr1"
          ],
          [
           "Hf1 Nb1 Ta1 Ti1 Zr1"
          ],
          [
           "Al0.25 Nb1 Ta1 Ti1 Zr1"
          ],
          [
           "Al0.333 Nb0.667 Ta0.533 Ti1 V0.133 Zr0.667"
          ],
          [
           "Hf1 Nb1 Ta1 Ti1 Zr1"
          ],
          [
           "Cr1 Nb1 Ti1 Zr1"
          ],
          [
           "Al1 Co1 Cr1 Fe1 Ni1"
          ],
          [
           "Nb1 Ti1 Zr1"
          ],
          [
           "Nb1 Ti1 Zr1"
          ],
          [
           "Mo1 Nb1 Ti1"
          ],
          [
           "Nb1 Re0.3 Ti1 Zr1"
          ],
          [
           "Nb1 Ta1 Ti1 V1 Zr1"
          ],
          [
           "Nb1 Re0.3 Ti1 Zr1"
          ],
          [
           "Al0.4 Hf0.6 Nb1 Ta1 Ti1 Zr1"
          ],
          [
           "Hf1 Nb1 Ta1 Ti1 Zr1"
          ],
          [
           "Al0.24 Nb1 Ti1 V1 Zr1"
          ],
          [
           "Hf1 Nb1 Ta1 Ti1 Zr1"
          ],
          [
           "Nb1 Ta0.3 Ti1 Zr1"
          ],
          [
           "Cr1 Nb1 Ti1 V1 Zr1"
          ],
          [
           "Al1 Mo0.5 Nb1 Ta0.5 Ti1 Zr1"
          ],
          [
           "Al1 Mo0.5 Nb1 Ta0.5 Ti1 Zr1"
          ],
          [
           "Nb1 Ti1 V1 Zr1"
          ],
          [
           "Hf1 Nb1 Ta1 Ti1 Zr1"
          ],
          [
           "Cr1 Nb0.333 Ti0.333 Zr0.333"
          ],
          [
           "Al0.4 Hf0.6 Nb1 Ta1 Ti1 Zr1"
          ],
          [
           "Al0.667 Nb1 Ta0.333 Ti1 Zr0.333"
          ],
          [
           "Al0.24 Nb1 Ti1 V1 Zr1"
          ],
          [
           "Cr1 Mo0.5 Nb1 Ta0.5 Ti1 Zr1"
          ],
          [
           "Cr1 Nb0.333 Ti0.333 Zr0.333"
          ],
          [
           "Cr1 Nb1 Ti1 V1 Zr1"
          ],
          [
           "Al1 Mo0.5 Nb1 Ta0.5 Ti1 Zr1"
          ],
          [
           "Al1 Mo0.5 Nb1 Ta0.5 Ti1 Zr1"
          ],
          [
           "Al0.333 Nb0.667 Ta0.533 Ti1 V0.133 Zr0.667"
          ],
          [
           "Al0.4 Hf0.6 Nb1 Ta1 Ti1 Zr1"
          ],
          [
           "Hf1 Nb1 Ta1 Ti1 Zr1"
          ],
          [
           "Nb1 Ta0.3 Ti1 Zr1"
          ],
          [
           "Hf1 Nb1 Ta1 Ti1 Zr1"
          ],
          [
           "Hf1 Nb1 Ta1 Ti1 Zr1"
          ],
          [
           "Cr1 Mo0.5 Nb1 Ta0.5 Ti1 Zr1"
          ],
          [
           "Cr1 Nb1 Ti1 Zr1"
          ],
          [
           "Nb0.5 Ti0.5 V1 Zr0.5"
          ],
          [
           "Hf1 Nb1 Ta1 Ti1 Zr1"
          ],
          [
           "Cr1 Mo0.5 Nb1 Ta0.5 Ti1 Zr1"
          ],
          [
           "Al0.25 Nb1 Ta1 Ti1 Zr1"
          ],
          [
           "Nb1 Ti1 V1 Zr1"
          ],
          [
           "Hf1 Nb1 Ta1 Ti1 Zr1"
          ],
          [
           "Mo1 Nb1 Ti1 V1 Zr1"
          ],
          [
           "Nb1 Ta1 Ti1 V1 Zr1"
          ],
          [
           "Mo1 Nb1 Si0.25 Ta1 W1"
          ],
          [
           "Mo1 Nb1 Ta1 W1"
          ],
          [
           "Mo1 Nb1 Si0.25 Ta1 W1"
          ],
          [
           "Mo1 Nb1 Si0.25 Ta1 W1"
          ],
          [
           "Cr1 Mo1 Nb1 Ta1 V1 W1"
          ],
          [
           "Nb1 Ta1 Ti1 V1"
          ],
          [
           "C0.1 Co1 Cr1 Fe1 Mn1 Ni1 Ti0.1"
          ],
          [
           "Al1 Cr1 Cu1 Fe1 Ni1"
          ],
          [
           "Nb1 Ta1 Ti1 V1"
          ],
          [
           "Cr1 Ta1 V1 W1"
          ],
          [
           "Cr1 Ta1 Ti0.3 V1 W1"
          ],
          [
           "Cr1 Ta1 Ti0.17 V1 W1"
          ],
          [
           "Mo1 Nb1 Si0.5 Ta1 W1"
          ],
          [
           "C0.1 Co1 Cr1 Fe1 Mn1 Ni1 Ti0.1"
          ],
          [
           "C0.1 Co1 Cr1 Fe1 Mn1 Ni1 Ti0.1"
          ],
          [
           "Mo1 Nb1 Ta1 W1"
          ],
          [
           "Co1 Cr1 Fe1 Mn1 Ni1"
          ],
          [
           "Al1 Co1 Cr1 Fe1 Ni1"
          ],
          [
           "Mo1 Nb1 Si0.25 Ta1 W1"
          ],
          [
           "Al1 Co1 Cr1 Fe1 Ni1"
          ],
          [
           "Al1 Co1 Cr1 Fe1 Ni1"
          ],
          [
           "Al1 Cr1 Cu1 Fe1 Ni1"
          ],
          [
           "Cr1 Mo1 Nb1 Ti1 W1"
          ],
          [
           "Cr1 Mo1 Nb1 Ti1 W1"
          ],
          [
           "Cr1 Mo1 Nb1 Ti1 W1"
          ],
          [
           "Al1 Cr1 Cu1 Fe1 Ni1"
          ],
          [
           "Mo1 Nb1 Ta1 W1"
          ],
          [
           "Al1 Co1 Cr1 Fe1 Ni1"
          ],
          [
           "Al1 Co1 Cr1 Fe1 Ni1"
          ],
          [
           "Cr0.286 Mo0.476 Nb1 Ta0.024 Ti0.31 V0.286"
          ],
          [
           "Al1 Cr1 Cu1 Fe1 Mn1 W0.1"
          ],
          [
           "Mo1 Nb1 Ta1 W1"
          ],
          [
           "Cr1 Mo1 Nb1 Ti1 W1"
          ],
          [
           "Al1 Cr1 Cu1 Fe1 Ni1"
          ],
          [
           "Mo1 Nb1 Ta1 V1 W1"
          ],
          [
           "C0.111 Co1 Cr1 Fe1 Ni1 W0.111"
          ],
          [
           "C0.1 Co1 Cr1 Fe1 Mn1 Ni1 Ti0.1"
          ],
          [
           "Mo1 Nb1 Si0.75 Ta1 W1"
          ],
          [
           "Al1 Cr1 Cu1 Fe1 Ni1"
          ],
          [
           "Cr1 Ta1 Ti0.17 V1 W1"
          ],
          [
           "Cr1 Ta1 V1 W1"
          ],
          [
           "Cr1 Ta1 Ti0.3 V1 W1"
          ],
          [
           "Al1 Cr1 Cu1 Fe1 Ni1"
          ],
          [
           "Al1 Cr1 Cu1 Fe1 Ni1"
          ],
          [
           "Mo1 Nb1 Si0.75 Ta1 W1"
          ],
          [
           "Co1 Cr1 Fe1 Mn1 Ni1"
          ],
          [
           "Co1 Cr1 Fe1 Mn1 Ni1"
          ],
          [
           "Al0.3 Co1 Cr1 Fe1 Mn1 Ni1"
          ],
          [
           "Al1 Co1 Cr1 Fe1 Ni1"
          ],
          [
           "Al1 Co1 Cr1 Fe1 Ni1"
          ],
          [
           "Mo1 Nb1 Si0.5 Ta1 W1"
          ],
          [
           "Al0.7 Co0.3 Cr1 Fe1 Ni1"
          ],
          [
           "Al1 Co1 Cr1 Fe1 Ni1"
          ],
          [
           "Co1 Cr1 Cu1 Ni1 Zn1"
          ],
          [
           "Co1 Cr1 Fe1 Mn1 Ni1"
          ],
          [
           "Co1 Cr1 Fe1 Ni1"
          ],
          [
           "Co1 Cr1 Fe1 Mo0.149 Ni1"
          ],
          [
           "Al1 Co1 Cr1 Fe1 Ni1"
          ],
          [
           "Al1 Co1 Fe1 Ni1 Ti1"
          ],
          [
           "Mo1 Nb1 Si0.5 Ta1 W1"
          ],
          [
           "Al1 Co1 Cr1 Fe1 Ni1"
          ],
          [
           "Al1 Co1 Cr1 Fe1 Ni1"
          ],
          [
           "Al1 Co1 Cr1 Fe1 Ni1"
          ],
          [
           "Al1 Co1 Cr1 Fe1 Ni1"
          ],
          [
           "Nb1 Ta1 Ti1 V1"
          ],
          [
           "Cr1 Mo1 Nb1 Ta1 V1 W1"
          ],
          [
           "Mo1 Nb1 Si0.5 Ta1 W1"
          ],
          [
           "C0.429 Co1 Cr1 Fe1 Ni1 W0.429"
          ],
          [
           "Mo1 Nb1 Si0.75 Ta1 W1"
          ],
          [
           "Al1 Co1 Cr1 Fe1 Ni1"
          ],
          [
           "Al0.5 Nb1 Ta0.5 Ti1 Zr1"
          ],
          [
           "Mo1 Nb1 Ta1 W1"
          ],
          [
           "Cr1 Mo1 Nb1 Ti1 W1"
          ],
          [
           "Co1 Cr1 Cu1 Ni1 Zn1"
          ],
          [
           "Al1 Fe1 Ni1 Ti1"
          ],
          [
           "Al1 Cr1 Cu1 Fe1 Mn1"
          ],
          [
           "Al0.267 Co1 Cr0.667 Fe0.667 Ni0.667 Ti0.2"
          ],
          [
           "Co1 Cr1 Cu1 Ni1 Zn1"
          ],
          [
           "Al1 Cr1 Cu1 Fe1 Ni1"
          ],
          [
           "Al1 C1 Co1 Cr1 Fe1 Ni1"
          ],
          [
           "Cr1 Mo1 Nb1 Ta1 V1 W1"
          ],
          [
           "Al1 Co1 Cr1 Fe1 Ni1"
          ],
          [
           "Mo1 Nb1 Si0.5 Ta1 W1"
          ],
          [
           "Mo1 Nb1 Si0.75 Ta1 W1"
          ],
          [
           "Al1 Cr1 Cu1 Fe1 Mn1 W0.05"
          ],
          [
           "Al1 Cr1 Cu1 Fe1 Mn1 W0.5"
          ],
          [
           "Mo1 Nb1 Si0.75 Ta1 W1"
          ],
          [
           "Al1 Co1 Cr1 Fe1 Ni1"
          ],
          [
           "Cr1 Mo1 Nb1 Ta1 V1 W1"
          ],
          [
           "Al1 Co1 Cr1 Fe1 Ni1"
          ],
          [
           "Al1 Co1 Ni1 Ti1"
          ],
          [
           "Mo1 Nb1 Si0.25 Ta1 W1"
          ],
          [
           "Co1 Cr1 Cu1 Ni1 Zn1"
          ],
          [
           "Mo1 Nb1 Si0.75 Ta1 W1"
          ],
          [
           "Al1 Co1 Cr1 Fe1 Ni1"
          ],
          [
           "Mo1 Nb1 Ta1 W1"
          ],
          [
           "Al0.5 Co1 Cr1 Cu1 Fe1 Ni1"
          ],
          [
           "Co0.067 Cu0.067 Fe0.067 Nb1 Ni0.067"
          ],
          [
           "Co0.139 Cr0.446 Cu0.99 Ni1 Si0.277"
          ],
          [
           "Co1 Fe1 Ni1"
          ],
          [
           "Al0.476 Co0.476 Cr0.476 Fe0.476 Ni1"
          ],
          [
           "Co1 Cr1 Fe1 Ni1 Ti0.3"
          ],
          [
           "Al0.3 Co1 Cr1 Fe1 Ni1"
          ],
          [
           "Co1 Cr0.429 Fe0.571 Mo0.286 Ni0.571"
          ],
          [
           "Al0.5 Co1 Cr1 Cu1 Fe1 Ni1"
          ],
          [
           "Co1 Cr1 Fe1 Mn1 Ni1"
          ],
          [
           "Co1 Cr1 Fe1 Ni1 Ti0.3"
          ],
          [
           "Co0.086 Cu0.086 Fe0.086 Nb1 Ni0.086"
          ],
          [
           "Co1 Cr0.429 Fe0.571 Mo0.286 Ni0.571"
          ],
          [
           "Fe1 Mn1 Ni1"
          ],
          [
           "Hf0.5 Nb0.667 Ta0.333 Ti1 Zr0.833"
          ],
          [
           "Co1 Cr0.455 Fe0.364 Ni0.364"
          ],
          [
           "Hf0.5 Nb0.667 Ta0.333 Ti1 Zr0.833"
          ],
          [
           "Co1 Cr0.385 Fe0.154 Ni0.154"
          ],
          [
           "Fe1 Mn1 Ni1"
          ],
          [
           "Al0.15 Cr0.5 Cu0.25 Fe0.5 Ni1"
          ],
          [
           "Cr1 Cu1 Fe1 Mn1 Ni1"
          ],
          [
           "Al0.5 Co1 Cr1 Cu1 Fe1 Ni1"
          ],
          [
           "C0.02 Co1 Cr1 Fe1 Mn1 Ni1"
          ],
          [
           "Al0.5 Nb1 Ta0.5 Ti1 Zr1"
          ],
          [
           "Hf0.5 Nb0.667 Ta0.333 Ti1 Zr0.833"
          ],
          [
           "Co1 Cr0.2 Fe1 Ni1 Si0.2"
          ],
          [
           "Cr1 Cu1 Fe1 Mn1 Ni1"
          ],
          [
           "Al0.3 Co1 Cr1 Fe1 Ni1"
          ],
          [
           "Co0.139 Cr0.446 Cu0.99 Ni1 Si0.277"
          ],
          [
           "Al0.476 Co0.476 Cr0.476 Fe0.476 Ni1"
          ],
          [
           "Co1 Cr0.429 Fe0.571 Mo0.286 Ni0.571"
          ],
          [
           "Co1 Cr0.429 Fe0.571 Mo0.286 Ni0.571"
          ],
          [
           "Fe1 Mn1 Ni1"
          ],
          [
           "Hf1 Nb1 Ta1 Ti1 Zr1"
          ],
          [
           "Hf0.5 Nb0.667 Ta0.333 Ti1 Zr0.833"
          ],
          [
           "Hf0.5 Nb0.667 Ta0.333 Ti1 Zr0.833"
          ],
          [
           "Al0.5 Cr1 Cu1 Fe1 Ni1"
          ],
          [
           "Co0.139 Cr0.446 Cu0.99 Ni1 Si0.277"
          ],
          [
           "Cr1 Cu1 Fe1 Mn1 Ni1"
          ],
          [
           "Al0.5 Nb1 Ta0.5 Ti1 Zr1"
          ],
          [
           "Co1 Mn1 Ni1"
          ],
          [
           "Co1 Cr1 Fe1 Mn1 Ni1"
          ],
          [
           "Hf0.5 Nb0.667 Ta0.333 Ti1 Zr0.833"
          ],
          [
           "Al0.15 Cr0.5 Cu0.25 Fe0.5 Ni1"
          ],
          [
           "Fe1 Mn1 Ni1"
          ],
          [
           "Al0.167 Co1 Cr1 Fe1 Ni1 Ti0.083"
          ],
          [
           "Hf1 Nb1 Ta1 Ti1 Zr1"
          ],
          [
           "Al0.476 Co0.476 Cr0.476 Fe0.476 Ni1"
          ],
          [
           "Hf1 Nb1 Ta1 Ti1 Zr1"
          ],
          [
           "Co1 Cr1 Fe1 Mo0.304 Ni1"
          ],
          [
           "Hf1 Nb1 Ta1 Ti1 Zr1"
          ],
          [
           "Hf1 Nb1 Ta1 Ti1 Zr1"
          ],
          [
           "Hf1 Nb1 Ta1 Ti1 Zr1"
          ],
          [
           "Hf1 Nb1 Ta1 Ti1 Zr1"
          ],
          [
           "Hf1 Nb1 Ta1 Ti1 Zr1"
          ],
          [
           "Hf1 Nb1 Ta1 Ti1 Zr1"
          ],
          [
           "Co1 Cr1 Fe1 Mn1 Ni1"
          ],
          [
           "Hf1 Nb1 Ta1 Ti1 Zr1"
          ],
          [
           "Cr1 Cu1 Fe1 Ni1 Ti1"
          ],
          [
           "Hf1 Nb1 Ta1 Ti1 Zr1"
          ],
          [
           "Co1 Cu1 Fe1 Nb0.5 Ni1"
          ],
          [
           "Cr1 Cu1 Fe1 Ni1 Ti1"
          ],
          [
           "Hf1 Nb1 Ta1 Ti1 Zr1"
          ],
          [
           "Hf1 Nb1 Ta1 Ti1 Zr1"
          ],
          [
           "Hf1 Nb1 Ta1 Ti1 Zr1"
          ],
          [
           "Hf1 Nb1 Ta1 Ti1 Zr1"
          ],
          [
           "Hf1 Nb1 Ta1 Ti1 Zr1"
          ],
          [
           "Hf1 Nb1 Ta1 Ti1 Zr1"
          ],
          [
           "Hf1 Nb1 Ta1 Ti1 Zr1"
          ],
          [
           "Cr1 Cu1 Fe1 Ni1 Ti1"
          ],
          [
           "Hf1 Nb1 Ta1 Ti1 Zr1"
          ],
          [
           "Al0.304 Co1 Cr1 Fe1 Ni1"
          ],
          [
           "Al0.304 Co1 Cr1 Fe1 Ni1"
          ],
          [
           "Co1 Cr0.053 Ni1"
          ],
          [
           "Co1 Cr1 Fe1 Mn1 Ni1"
          ],
          [
           "Al0.304 Co1 Cr1 Fe1 Ni1"
          ],
          [
           "Al0.304 Co1 Cr1 Fe1 Ni1"
          ],
          [
           "Hf1 Nb1 Ta1 Ti1 Zr1"
          ],
          [
           "Co1 Fe1 Ni1"
          ],
          [
           "Hf1 Nb1 Ti1 Zr1"
          ],
          [
           "Hf1 Nb1 Ta1 Ti1 Zr1"
          ],
          [
           "Hf0.5 Nb0.667 Ta0.333 Ti1 Zr0.833"
          ],
          [
           "Hf1 Nb1 Ta1 Ti1 Zr1"
          ],
          [
           "Hf1 Nb1 Ta1 Ti1 Zr1"
          ],
          [
           "Co1 Cr0.588 Fe0.176 Mo0.176 Ni1"
          ],
          [
           "Al0.5 Nb1 Ta0.5 Ti1 Zr1"
          ],
          [
           "Hf1 Nb1 Ta1 Ti1 Zr1"
          ],
          [
           "Co1 Cr1 Ni1"
          ],
          [
           "Al0.5 Nb1 Ta0.5 Ti1 Zr1"
          ],
          [
           "Co0.333 Cr0.667 Fe0.667 Ni1 Ti0.2"
          ],
          [
           "Co0.25 Cr0.25 Fe1 Mn1"
          ],
          [
           "Al0.15 Cr0.5 Cu0.25 Fe0.5 Ni1"
          ],
          [
           "Cr0.5 Fe0.5 Ni1 Ti0.15"
          ],
          [
           "Hf1 Nb1 Ta1 Ti1 Zr1"
          ],
          [
           "Hf1 Nb1 Ta1 Ti1 Zr1"
          ],
          [
           "Hf1 Nb1 Ta1 Ti1 Zr1"
          ],
          [
           "Hf1 Nb1 Ta1 Ti1 Zr1"
          ],
          [
           "Hf1 Nb1 Ta1 Ti1 Zr1"
          ],
          [
           "Hf1 Nb1 Ta1 Ti1 Zr1"
          ],
          [
           "Hf1 Nb1 Ta1 Ti1 Zr1"
          ],
          [
           "Hf1 Nb1 Ta1 Ti1 Zr1"
          ],
          [
           "Hf1 Nb1 Ta1 Ti1 Zr1"
          ],
          [
           "Hf1 Nb1 Ta1 Ti1 Zr1"
          ],
          [
           "Hf1 Nb1 Ta1 Ti1 Zr1"
          ],
          [
           "Hf1 Nb1 Ta1 Ti1 Zr1"
          ],
          [
           "Hf1 Nb1 Ta1 Ti1 Zr1"
          ],
          [
           "Hf1 Nb1 Ta1 Ti1 Zr1"
          ],
          [
           "Hf1 Nb1 Ta1 Ti1 Zr1"
          ],
          [
           "Hf1 Nb1 Ta1 Ti1 Zr1"
          ],
          [
           "Hf1 Nb1 Ta1 Ti1 Zr1"
          ],
          [
           "Hf1 Nb1 Ta1 Ti1 Zr1"
          ],
          [
           "Hf1 Nb1 Ta1 Ti1 Zr1"
          ],
          [
           "Hf1 Nb1 Ta1 Ti1 Zr1"
          ],
          [
           "Hf1 Nb1 Ta1 Ti1 Zr1"
          ],
          [
           "Hf1 Nb1 Ta1 Ti1 Zr1"
          ],
          [
           "Al0.5 Nb1 Ta0.5 Ti1 Zr1"
          ],
          [
           "Co1 Cr1 Fe1 Ni1"
          ],
          [
           "C0.02 Co1 Cr1 Fe1 Mn1 Ni1"
          ],
          [
           "Nb1 Ta1 Ti1"
          ],
          [
           "Co0.286 Cr0.429 Fe1 Mn0.143 Ni0.714 V0.286"
          ],
          [
           "Hf0.787 Nb0.142 Ta0.142 Ti1 Zr0.787"
          ],
          [
           "Co1 Cr1 Fe1 Mn1 Ni1"
          ],
          [
           "Nb1 Ta1 Ti1"
          ],
          [
           "Nb1 Ta1 Ti1"
          ],
          [
           "Co1 Cr1 Fe1 Mn1 Ni1"
          ],
          [
           "Nb1 Ta1 Ti1"
          ],
          [
           "Co1 Mn1 Ni1"
          ],
          [
           "Nb1 Ta1 Ti1"
          ],
          [
           "Co0.286 Cr0.429 Fe1 Mn0.143 Ni0.714 V0.286"
          ],
          [
           "Nb1 Ta1 Ti1"
          ],
          [
           "Co1 Cr1 Fe1 Ni1"
          ],
          [
           "Nb1 Ta1 Ti1"
          ],
          [
           "Co1 Ni1 V1"
          ],
          [
           "Co1 Fe1 Ni1"
          ],
          [
           "Co0.286 Cr0.429 Fe1 Mn0.143 Ni0.714 V0.286"
          ],
          [
           "Nb1 Ta1 Ti1"
          ],
          [
           "Co1 Cr1 Fe1 Mn1 Ni1"
          ],
          [
           "Hf0.5 Nb0.667 Ta0.333 Ti1 Zr0.833"
          ],
          [
           "Co1 Cr0.25 Ni1"
          ],
          [
           "Co0.286 Cr0.429 Fe1 Mn0.143 Ni0.714 V0.286"
          ],
          [
           "Fe1 Mn1 Ni1"
          ],
          [
           "Al0.1 Co1 Cr1 Fe1 Ni1"
          ],
          [
           "Co1 Cr1 Fe1 Mn1 Ni1"
          ],
          [
           "Al0.304 Co1 Cr1 Fe1 Ni1"
          ],
          [
           "Co1 Cr1 Fe1 Mn1 Ni1"
          ],
          [
           "Co1 Cr1 Mn1 Ni1"
          ],
          [
           "Co1 Fe1 Ni1"
          ],
          [
           "Co0.2 Cr0.2 Fe1 Mn0.6"
          ],
          [
           "Al0.304 Co1 Cr1 Fe1 Ni1"
          ],
          [
           "Al0.3 Co1 Cr1 Fe1 Ni1"
          ],
          [
           "Co1 Cr1 Fe1 Mn1 Ni1"
          ],
          [
           "Co1 Cr1 Fe1 Ni1 Ti0.2"
          ],
          [
           "Co1 Ni1 V1"
          ],
          [
           "C0.041 Co1 Cr1 Fe1 Mn1 Nb0.041 Ni1"
          ],
          [
           "Co0.25 Cr1 Ni1"
          ],
          [
           "Co0.986 Cr0.952 Fe0.933 Mn0.914 Ni1"
          ],
          [
           "Co1 Fe1 Ni1"
          ],
          [
           "Co1 Cr1 Fe1 Mn1 Ni1"
          ],
          [
           "Al1 Co1 Cr1 Cu1 Fe1 Ni1"
          ],
          [
           "Co0.327 Cr0.227 Fe1 Mo0.136 Ni0.127"
          ],
          [
           "Co1 Cr1 Fe1 Mn1 Ni1"
          ],
          [
           "Al0.286 Cr0.343 Fe1 Mn0.657 Ni0.571"
          ],
          [
           "Co0.286 Cr0.429 Fe1 Mn0.143 Ni0.714 V0.286"
          ],
          [
           "Co1 Ni1 V1"
          ],
          [
           "Co1 Cr1 Ni1"
          ],
          [
           "Co0.25 Cr0.25 Fe1 Mn1"
          ],
          [
           "Co1 Cr1 Fe1 Ni1"
          ],
          [
           "Al0.3 Co1 Cr1 Fe1 Ni1"
          ],
          [
           "Al0.304 Co1 Cr1 Fe1 Ni1"
          ],
          [
           "Al0.3 Co1 Cr1 Fe1 Ni1"
          ],
          [
           "Co1 Cr1 Fe1 Ni1"
          ],
          [
           "Co0.2 Cr0.2 Fe1 Mn0.6"
          ],
          [
           "Co0.25 Cr1 Ni1"
          ],
          [
           "Co0.327 Cr0.227 Fe1 Mo0.136 Ni0.127"
          ],
          [
           "Co1 Cr1 Fe1 Ni1"
          ],
          [
           "Co1 Cr1 Fe1 Ni1"
          ],
          [
           "Al1 Co1 Cr1 Cu1 Fe1 Ni1"
          ],
          [
           "Co1 Cr0.588 Fe0.176 Mo0.176 Ni1"
          ],
          [
           "Co1 Cr1 Fe1 Mn1 Ni1"
          ],
          [
           "Co0.2 Cr0.2 Fe1 Mn0.6"
          ],
          [
           "Co1 Mn1 Ni1"
          ],
          [
           "Co1 Cr0.429 Fe0.571 Mo0.286 Ni0.571"
          ],
          [
           "Co1 Cr1 Fe1 Mn1 Ni1"
          ],
          [
           "Co1 Cr1 Fe1 Ni1"
          ],
          [
           "Co1 Cr1 Fe1 Mn1 Ni1"
          ],
          [
           "Co1 Cr0.25 Ni1"
          ],
          [
           "Co0.327 Cr0.227 Fe1 Mo0.136 Ni0.127"
          ],
          [
           "Al0.304 Co1 Cr1 Fe1 Ni1"
          ],
          [
           "Co0.25 Cr0.25 Fe1 Mn1"
          ],
          [
           "Co1 Cr1 Fe1 Mn1 Ni1"
          ],
          [
           "Co1 Cr1 Fe1 Mn1 Ni1"
          ],
          [
           "Co1 Ni1 V1"
          ],
          [
           "Co0.25 Cr1 Ni1"
          ],
          [
           "Co1 Cr1 Fe1 Ni1"
          ],
          [
           "Co1 Cr0.25 Ni1"
          ],
          [
           "Co0.875 Cr0.625 Fe1 Ni1"
          ],
          [
           "Co0.318 Cr0.227 Fe1 Mo0.091 Ni0.182"
          ],
          [
           "Co0.318 Cr0.227 Fe1 Mo0.091 Ni0.182"
          ],
          [
           "Co1 Cr1 Fe1 Ni1"
          ],
          [
           "Co1 Cr1 Fe1 Mn1 Ni1"
          ],
          [
           "Co1 Cr0.588 Fe0.176 Mo0.176 Ni1"
          ],
          [
           "Co1 Cr1 Fe1 Ni1"
          ],
          [
           "Co0.318 Cr0.227 Fe1 Mo0.091 Ni0.182"
          ],
          [
           "Co0.5 Cr0.5 Fe1 Ni1"
          ],
          [
           "Co1 Cr0.556 Fe0.667 Ni0.667"
          ],
          [
           "Co0.2 Cr0.2 Fe1 Mn0.6"
          ],
          [
           "Al0.304 Co1 Cr1 Fe1 Ni1"
          ],
          [
           "Hf0.5 Nb0.667 Ta0.333 Ti1 Zr0.833"
          ],
          [
           "Co0.2 Cr0.2 Fe1 Mn0.6"
          ],
          [
           "Co1 Cr1 Fe1 Mn1 Ni1"
          ],
          [
           "Co1 Cr1 Fe1 Mo0.15 Ni1"
          ],
          [
           "Co1 Fe1 Ni1"
          ],
          [
           "Co1 Cr1 Fe1 Mn1 Ni1"
          ],
          [
           "Co0.986 Cr0.952 Fe0.933 Mn0.914 Ni1"
          ],
          [
           "Hf1 Nb1 Ta1 Ti1 Zr1"
          ],
          [
           "Co0.133 Cu0.133 Fe0.133 Nb1 Ni0.133"
          ],
          [
           "C1 Co1 Cr1 Fe1 Mn1 Ni1"
          ],
          [
           "Hf0.5 Nb0.667 Ta0.333 Ti1 Zr0.833"
          ],
          [
           "Al0.3 Co1 Cr1 Fe1 Ni1"
          ],
          [
           "Co1 Cr1 Fe1 Mn1 Ni1"
          ],
          [
           "Co1 Cr0.588 Fe0.176 Mo0.176 Ni1"
          ],
          [
           "Hf0.5 Nb0.667 Ta0.333 Ti1 Zr0.833"
          ],
          [
           "Al0.108 Co0.514 Cr0.514 Cu0.108 Fe0.514 Ni1"
          ],
          [
           "Hf0.5 Nb0.667 Ta0.333 Ti1 Zr0.833"
          ],
          [
           "Co1 Cr1 Fe1 Mo0.304 Ni1"
          ],
          [
           "Co0.25 Cr0.25 Fe1 Mn1"
          ],
          [
           "Hf1 Nb1 Ta1 Ti1 Zr1"
          ],
          [
           "Cr1 Cu1 Fe1 Mn1 Ni1"
          ],
          [
           "Co1 Cr1 Fe1 Mn1 Ni1"
          ],
          [
           "Fe1 Mn1 Ni1"
          ],
          [
           "Hf0.5 Nb0.667 Ta0.333 Ti1 Zr0.833"
          ],
          [
           "Co1 Cr1 Fe1 Mo0.304 Ni1"
          ],
          [
           "Hf1 Nb1 Ta1 Ti1 Zr1"
          ],
          [
           "Co1 Cr1 Fe1 Mn1 Ni1"
          ],
          [
           "Co0.333 Cr0.667 Fe0.667 Ni1 Ti0.2"
          ],
          [
           "Hf1 Nb1 Ta1 Ti1 Zr1"
          ],
          [
           "Co1 Cr0.429 Fe0.571 Mo0.286 Ni0.571"
          ],
          [
           "Al0.286 Cr0.343 Fe1 Mn0.657 Ni0.571"
          ],
          [
           "Cr1 Cu1 Fe1 Mn1 Ni1"
          ],
          [
           "Al0.5 Co1 Cr1 Cu1 Fe1 Ni1"
          ],
          [
           "Co1 Cr0.2 Fe1 Ni1 Si0.2"
          ],
          [
           "Al0.5 Co1 Cr1 Cu1 Fe1 Ni1"
          ],
          [
           "Al0.15 Cr0.5 Cu0.25 Fe0.5 Ni1"
          ],
          [
           "Al0.3 Co1 Cr1 Fe1 Ni1"
          ],
          [
           "Hf0.5 Nb0.667 Ta0.333 Ti1 Zr0.833"
          ],
          [
           "Hf0.5 Nb0.667 Ta0.333 Ti1 Zr0.833"
          ],
          [
           "Hf0.5 Nb0.667 Ta0.333 Ti1 Zr0.833"
          ],
          [
           "Al0.108 Co0.514 Cr0.514 Cu0.108 Fe0.514 Ni1"
          ],
          [
           "Co1 Cr1 Ni1"
          ],
          [
           "Cr0.5 Fe0.5 Ni1 Ti0.15"
          ],
          [
           "Al0.1 Co1 Cr1 Fe1 Ni1"
          ],
          [
           "Co1 Cr1 Fe1 Mo0.15 Ni1"
          ],
          [
           "Co1 Cr1 Fe1 Mo0.15 Ni1"
          ],
          [
           "Co1 Cr0.588 Fe0.176 Mo0.176 Ni1"
          ],
          [
           "Co1 Cr1 Fe1 Mo0.15 Ni1"
          ],
          [
           "Hf0.5 Nb0.667 Ta0.333 Ti1 Zr0.833"
          ],
          [
           "Hf1 Nb1 Ta1 Ti1 Zr1"
          ],
          [
           "Co1 Cr1 Fe1 Ni1"
          ],
          [
           "Al0.167 Co1 Cr1 Fe1 Ni1 Ti0.083"
          ],
          [
           "Hf1 Nb1 Ta1 Ti1 Zr1"
          ],
          [
           "Hf1 Nb1 Ta1 Ti1 Zr1"
          ],
          [
           "Co1 Cr1 Fe1 Ni1"
          ],
          [
           "Co0.986 Cr0.952 Fe0.933 Mn0.914 Ni1"
          ],
          [
           "Co1 Cr1 Fe1 Mn1 Ni1"
          ],
          [
           "Hf0.5 Nb0.667 Ta0.333 Ti1 Zr0.833"
          ],
          [
           "Al0.1 Co1 Cr1 Fe1 Ni1"
          ],
          [
           "Co1 Cr1 Fe1 Mn1 Ni1"
          ],
          [
           "Co1 Cr1 Fe1 Mo0.15 Ni1"
          ],
          [
           "Co0.986 Cr0.952 Fe0.933 Mn0.914 Ni1"
          ],
          [
           "Co1 Cr1 Fe1 Mn1 Ni1"
          ],
          [
           "Co1 Cr1 Ni1"
          ],
          [
           "Co1 Mn1 Ni1"
          ],
          [
           "Co0.986 Cr0.952 Fe0.933 Mn0.914 Ni1"
          ],
          [
           "C0.5 Co1 Cr1 Fe1 Mn1 Ni1"
          ],
          [
           "Co1 Fe1 Mn1 Ni1"
          ],
          [
           "Co1 Cr1 Fe1 Mo0.15 Ni1"
          ],
          [
           "Co1 Cr1 Fe1 Mn1 Ni1"
          ],
          [
           "Co1 Cr1 Fe1 Mn1 Ni1"
          ],
          [
           "Co0.327 Cr0.227 Fe1 Mo0.136 Ni0.127"
          ],
          [
           "Al0.3 Co1 Cr1 Fe1 Ni1"
          ],
          [
           "Cr1 Cu1 Fe1 Mn1 Ni1"
          ],
          [
           "Co1 Cr0.588 Fe0.176 Mo0.176 Ni1"
          ],
          [
           "Co1 Cr1 Fe1 Mn1 Ni1"
          ],
          [
           "Co1 Cr1 Fe1 Ni1 Ti0.2"
          ],
          [
           "Hf0.5 Nb0.667 Ta0.333 Ti1 Zr0.833"
          ],
          [
           "Co1 Cr0.25 Ni1"
          ],
          [
           "Fe1 Mn1 Ni1"
          ],
          [
           "Hf0.5 Nb0.667 Ta0.333 Ti1 Zr0.833"
          ],
          [
           "Hf0.5 Nb0.667 Ta0.333 Ti1 Zr0.833"
          ],
          [
           "Co0.318 Cr0.227 Fe1 Mo0.091 Ni0.182"
          ],
          [
           "Co0.25 Cr1 Ni1"
          ],
          [
           "Co0.986 Cr0.952 Fe0.933 Mn0.914 Ni1"
          ],
          [
           "Co1 Cr1 Fe1 Mn1 Ni1"
          ],
          [
           "Co0.2 Cu0.2 Fe0.2 Nb1 Ni0.2"
          ],
          [
           "Co1 Ni1 V1"
          ],
          [
           "Co1 Cr1 Fe1 Mn1 Ni1"
          ],
          [
           "Al0.1 Co1 Cr1 Fe1 Ni1"
          ],
          [
           "Co1 Mn1 Ni1"
          ],
          [
           "Hf1 Nb1 Ta1 Ti1 Zr1"
          ],
          [
           "Co1 Cr0.588 Fe0.176 Mo0.176 Ni1"
          ],
          [
           "Co1 Cr1 Cu1 Fe1"
          ],
          [
           "Al0.3 Co1 Cr1 Fe1 Ni1"
          ],
          [
           "Al0.3 Co1 Cr1 Cu1 Fe1"
          ],
          [
           "Al0.3 Co1 Cr1 Fe1 Mo0.1 Ni1"
          ],
          [
           "Co1 Cr1 Fe1 Mn1 Ni1 Ta0.2"
          ],
          [
           "Al0.5 Co1 Cr1 Cu1 Fe1"
          ],
          [
           "Al0.5 Co1 Cr1 Fe1 Ni1"
          ],
          [
           "Al0.8 Co1 Cr1 Cu1 Fe1"
          ],
          [
           "Co1 Cr1 Cu1 Fe1 Ni1"
          ],
          [
           "Co1 Cr1 Fe1 Mn1 Ni1 Ta0.4"
          ],
          [
           "Nb1 Ti1 V1 Zr1"
          ],
          [
           "Co1 Cr1 Fe1 Mn1 Ni1 Ta0.6"
          ],
          [
           "Al0.5 Co1 Cr1 Fe1 Mn1 Ni1 Ta0.2"
          ],
          [
           "Al1 Co1 Cr1 Cu1 Fe1"
          ],
          [
           "Cr1 Nb1 Ti1 Zr1"
          ],
          [
           "Al1 Co0.769 Cr0.769 Cu0.769 Fe0.769"
          ],
          [
           "Al0.5 Co1 Cr1 Fe1 Mn1 Ni1 Ta0.4"
          ],
          [
           "Al1 Co1 Cr1 Fe1 Ni1"
          ],
          [
           "Al1 Co0.667 Cr0.667 Cu0.667 Fe0.667"
          ],
          [
           "Al1 Nb1 Ti1 Zr1"
          ],
          [
           "Al1 Co0.556 Cr0.556 Cu0.556 Fe0.556"
          ],
          [
           "Al1 Co0.5 Cr0.5 Cu0.5 Fe0.5"
          ],
          [
           "Al0.55 Co1 Cr1 Fe1 Mn1 Ni1 Ta0.6"
          ],
          [
           "Al0.667 Li0.667 Mg0.333 Sc0.667 Ti1"
          ],
          [
           "Al1 Co0.435 Cr0.435 Cu0.435 Fe0.435"
          ],
          [
           "Al1 Co0.289 Cr0.158 Cu0.237 Fe0.816 Ni0.132"
          ],
          [
           "Al1 Co0.4 Cr0.4 Cu0.4 Fe0.4"
          ],
          [
           "Al0.5 Co1 Cr1 Fe1 Ni1 Ti0.5"
          ],
          [
           "Al1 Co0.333 Cr0.333 Cu0.333 Fe0.333"
          ],
          [
           "Al1 Co0.357 Cr0.357 Cu0.357 Fe0.357"
          ],
          [
           "Al0.853 Co0.647 Cr1 Fe0.147 Ni0.294"
          ],
          [
           "Al1 Co0.5 Cr1 Fe0.147 Ni0.294"
          ],
          [
           "Al1 Co0.298 Cr0.319 Cu0.106 Fe0.277 Ni0.128"
          ],
          [
           "Al1 Co0.5 Cr0.5 Fe0.5 Ni0.5"
          ],
          [
           "Al0.5 Co1 Fe1 Ni1 Ti0.5"
          ],
          [
           "Al1 Co0.149 Cr0.34 Cu0.191 Fe0.34 Ni0.106"
          ],
          [
           "Al1 Co0.674 Cr0.419 Fe0.116 Ni0.116"
          ],
          [
           "Al1 Co0.238 Cr0.714 Cu0.119 Fe0.167 Ni0.143"
          ],
          [
           "Al1 Co0.278 Cr0.861 Cu0.167 Fe0.25 Ni0.222"
          ],
          [
           "Al1 Co0.318 Cr0.5 Cu0.114 Fe0.205 Ni0.136"
          ],
          [
           "Al1 Co0.349 Cr0.395 Cu0.116 Fe0.326 Ni0.14"
          ],
          [
           "Al1 Co0.234 Cr0.468 Cu0.106 Fe0.213 Ni0.106"
          ],
          [
           "Al1 Co0.277 Cr0.277 Cu0.106 Fe0.255 Ni0.213"
          ],
          [
           "Al1 Co0.256 Cr0.795 Cu0.128 Fe0.205 Ni0.179"
          ],
          [
           "Al1 Co0.277 Cr0.426 Cu0.106 Fe0.213 Ni0.106"
          ],
          [
           "Al1 Co0.395 Cr0.349 Fe0.326 Ni0.256"
          ],
          [
           "Al1 Co0.255 Cr0.255 Cu0.106 Fe0.277 Ni0.234"
          ],
          [
           "Al1 Co0.304 Cr0.5 Cu0.109 Fe0.152 Ni0.109"
          ],
          [
           "Al1 Co0.465 Cr0.442 Fe0.209 Ni0.209"
          ],
          [
           "Al1 Co0.465 Cr0.488 Fe0.209 Ni0.163"
          ],
          [
           "Al1 Co0.326 Cr0.488 Cu0.116 Fe0.279 Ni0.116"
          ],
          [
           "Al1 Co0.457 Cr0.391 Cu0.109 Fe0.109 Ni0.109"
          ],
          [
           "Al1 Co0.362 Cr0.34 Cu0.106 Fe0.213 Ni0.106"
          ],
          [
           "Al1 Co0.255 Cr0.426 Cu0.106 Fe0.234 Ni0.106"
          ],
          [
           "Al1 Co0.512 Cr0.581 Fe0.116 Ni0.116"
          ],
          [
           "Al1 Co0.383 Cr0.319 Cu0.106 Fe0.213 Ni0.106"
          ],
          [
           "Al1 Co0.442 Cr0.558 Fe0.186 Ni0.14"
          ],
          [
           "Al1 Co0.442 Cr0.442 Fe0.256 Ni0.186"
          ],
          [
           "Al1 Co0.298 Cr0.404 Cu0.106 Fe0.213 Ni0.106"
          ],
          [
           "Al1 Co0.419 Cr0.558 Fe0.233 Ni0.116"
          ],
          [
           "Al1 Co0.465 Cr0.512 Fe0.186 Ni0.163"
          ],
          [
           "Al1 Co0.298 Cr0.426 Cu0.106 Fe0.191 Ni0.106"
          ],
          [
           "Al1 Co0.535 Cr0.488 Fe0.186 Ni0.116"
          ],
          [
           "Al1 Co0.419 Cr0.465 Fe0.279 Ni0.163"
          ],
          [
           "Al1 Co0.581 Cr0.512 Fe0.116 Ni0.116"
          ],
          [
           "Al1 Co0.581 Cr0.512 Fe0.116 Ni0.116"
          ],
          [
           "Al1 Co0.558 Cr0.535 Fe0.116 Ni0.116"
          ],
          [
           "Al1 Co0.558 Cr0.535 Fe0.116 Ni0.116"
          ],
          [
           "Al1 Co0.558 Cr0.512 Fe0.116 Ni0.14"
          ],
          [
           "Al1 Co0.404 Cr0.404 Cu0.106 Fe0.106 Ni0.106"
          ],
          [
           "Al1 Co0.512 Cr0.512 Fe0.186 Ni0.116"
          ],
          [
           "Al1 Co0.426 Cr0.383 Cu0.106 Fe0.106 Ni0.106"
          ],
          [
           "Al1 Co0.512 Cr0.535 Fe0.163 Ni0.116"
          ],
          [
           "Al0.511 Co0.511 Cr0.511 Fe0.511 Ni1"
          ],
          [
           "Co1 Cr1 Fe1 Mn1"
          ],
          [
           "Al0.465 Co0.465 Cr0.465 Fe0.465 Ni1"
          ],
          [
           "Al1 Co1 Cr1 Cu1 Fe1 Ni1 Ti1"
          ],
          [
           "Al0.451 Co0.451 Cr0.451 Fe0.451 Ni1"
          ],
          [
           "Al0.511 Co0.511 Cr0.511 Fe0.511 Ni1"
          ],
          [
           "Al1 Co1 Cu1 Fe1 Ni1 Ti1"
          ],
          [
           "Al1 Cr1 Fe1 Ni1"
          ],
          [
           "Al0.465 Co0.465 Cr0.465 Fe0.465 Ni1"
          ],
          [
           "Al0.511 Co0.511 Cr0.511 Fe0.511 Ni1"
          ],
          [
           "Al0.465 Co0.465 Cr0.465 Fe0.465 Ni1"
          ],
          [
           "Al0.451 Co0.451 Cr0.451 Fe0.451 Ni1"
          ],
          [
           "Al1 Co0.25 Cr1 Fe1 Ni1"
          ],
          [
           "Al1 Co1 Cr1 Fe1 Ni1"
          ],
          [
           "Al1 Co1 Cu1 Fe1 Ni1"
          ],
          [
           "Al0.451 Co0.451 Cr0.451 Fe0.451 Ni1"
          ],
          [
           "Al1 Co0.5 Cr1 Fe1 Ni1"
          ],
          [
           "Al1 Co0.75 Cr1 Fe1 Ni1"
          ],
          [
           "Al1 Co1 Cr1 Fe1 Ni1"
          ],
          [
           "Al1 Co1 Cr1 Cu1 Fe1 Ni1"
          ],
          [
           "Al0.5 Co1 Cr1 Fe1 Ni1 Ti0.5"
          ],
          [
           "Al0.8 Co1 Cr1 Fe1 Ni1 Ti0.2"
          ],
          [
           "Al0.304 Co1 Cr1 Fe1 Ni1"
          ],
          [
           "Al1 Nb1 Ti1 V1 Zr0.5"
          ],
          [
           "Al0.304 Co1 Cr1 Fe1 Ni1"
          ],
          [
           "Al0.304 Co1 Cr1 Fe1 Ni1"
          ],
          [
           "Al0.304 Co1 Cr1 Fe1 Ni1"
          ],
          [
           "Al0.875 Co1 Cr1 Fe1 Ni1"
          ],
          [
           "Al1 Co1 Cr1 Cu1 Ni1 Ti1"
          ],
          [
           "Al0.1 Cr0.5 Cu0.5 Fe0.5 Ni1"
          ],
          [
           "Al0.2 Cr0.5 Cu0.5 Fe0.5 Ni1"
          ],
          [
           "Al0.3 Cr0.5 Cu0.5 Fe0.5 Ni1"
          ],
          [
           "Al0.4 Cr0.5 Cu0.5 Fe0.5 Ni1"
          ],
          [
           "Al0.6 Cr0.5 Cu0.5 Fe0.5 Ni1"
          ],
          [
           "Al0.5 Cr0.5 Cu0.5 Fe0.5 Ni1"
          ],
          [
           "Co1 Cr1 Fe1 Mn1 Ni1"
          ],
          [
           "Co1 Cr1 Fe1 Mn1 Ni1"
          ],
          [
           "Co1 Cr1 Fe1 Ni1"
          ],
          [
           "Co1 Fe1 Ni1"
          ],
          [
           "Co1 Cr1 Ni1"
          ],
          [
           "Co1 Cr1 Ni1"
          ],
          [
           "Co1 Cr1 Ni1"
          ],
          [
           "Cr1 Fe1 Mn1 Ni1"
          ],
          [
           "Co1 Cr1 Fe1 Ni1"
          ],
          [
           "Al0.5 Co1 Cr1 Fe1 Mn1 Ni1"
          ],
          [
           "Co1 Cr1 Fe1 Mn1 Ni1"
          ]
         ],
         "hoverlabel": {
          "namelength": 0
         },
         "hovertemplate": "PROPERTY: Exp. Young modulus (GPa)=%{x}<br>PROPERTY: Calculated Young modulus (GPa)=%{y}<br>FORMULA=%{customdata[0]}",
         "legendgroup": "",
         "marker": {
          "color": "#1F77B4",
          "symbol": "circle"
         },
         "mode": "markers",
         "name": "",
         "showlegend": false,
         "type": "scattergl",
         "x": [
          null,
          null,
          null,
          null,
          null,
          null,
          null,
          null,
          null,
          null,
          null,
          null,
          null,
          null,
          null,
          null,
          null,
          null,
          null,
          null,
          null,
          null,
          null,
          null,
          null,
          null,
          null,
          null,
          null,
          null,
          null,
          null,
          null,
          null,
          null,
          null,
          null,
          null,
          null,
          null,
          null,
          null,
          null,
          null,
          null,
          null,
          null,
          null,
          null,
          null,
          null,
          null,
          null,
          null,
          null,
          null,
          null,
          null,
          null,
          null,
          null,
          null,
          null,
          null,
          null,
          null,
          null,
          null,
          null,
          null,
          null,
          null,
          null,
          null,
          null,
          null,
          null,
          null,
          null,
          null,
          null,
          null,
          null,
          null,
          null,
          null,
          null,
          null,
          null,
          null,
          null,
          null,
          null,
          null,
          null,
          null,
          null,
          null,
          null,
          null,
          null,
          null,
          null,
          null,
          null,
          null,
          null,
          null,
          null,
          null,
          null,
          null,
          null,
          null,
          null,
          null,
          null,
          null,
          null,
          null,
          null,
          null,
          null,
          null,
          null,
          null,
          null,
          null,
          null,
          null,
          null,
          null,
          null,
          null,
          null,
          null,
          null,
          null,
          null,
          null,
          null,
          null,
          null,
          null,
          null,
          null,
          null,
          null,
          null,
          null,
          null,
          null,
          null,
          null,
          null,
          null,
          null,
          null,
          null,
          null,
          null,
          null,
          null,
          null,
          null,
          null,
          null,
          null,
          null,
          null,
          null,
          null,
          null,
          null,
          null,
          null,
          null,
          null,
          null,
          null,
          null,
          null,
          null,
          null,
          null,
          null,
          null,
          null,
          null,
          null,
          null,
          null,
          null,
          null,
          null,
          null,
          null,
          null,
          null,
          null,
          null,
          null,
          null,
          null,
          null,
          null,
          null,
          null,
          null,
          null,
          null,
          null,
          null,
          null,
          null,
          null,
          null,
          null,
          null,
          null,
          null,
          null,
          null,
          null,
          null,
          null,
          null,
          null,
          null,
          null,
          null,
          null,
          null,
          null,
          null,
          null,
          null,
          null,
          null,
          null,
          null,
          null,
          null,
          null,
          null,
          null,
          null,
          null,
          null,
          null,
          null,
          null,
          null,
          null,
          null,
          null,
          null,
          null,
          null,
          null,
          null,
          null,
          null,
          null,
          null,
          null,
          null,
          null,
          null,
          null,
          null,
          null,
          null,
          null,
          null,
          null,
          null,
          null,
          null,
          null,
          null,
          null,
          null,
          null,
          null,
          null,
          null,
          null,
          null,
          null,
          null,
          null,
          null,
          null,
          null,
          null,
          null,
          null,
          null,
          135,
          null,
          null,
          null,
          null,
          null,
          null,
          null,
          37,
          null,
          null,
          null,
          null,
          null,
          null,
          null,
          null,
          null,
          null,
          null,
          null,
          null,
          null,
          null,
          null,
          null,
          null,
          null,
          null,
          null,
          null,
          null,
          null,
          null,
          null,
          null,
          null,
          null,
          null,
          null,
          null,
          null,
          null,
          null,
          null,
          null,
          null,
          null,
          null,
          null,
          null,
          null,
          null,
          null,
          null,
          null,
          null,
          null,
          null,
          null,
          null,
          null,
          null,
          null,
          null,
          null,
          null,
          null,
          null,
          null,
          null,
          null,
          null,
          null,
          null,
          null,
          null,
          null,
          null,
          null,
          null,
          null,
          null,
          null,
          null,
          null,
          null,
          null,
          null,
          null,
          null,
          null,
          null,
          null,
          null,
          null,
          null,
          null,
          null,
          null,
          null,
          null,
          null,
          null,
          null,
          null,
          null,
          null,
          36,
          null,
          38,
          null,
          null,
          null,
          null,
          null,
          null,
          null,
          null,
          null,
          null,
          null,
          null,
          null,
          null,
          null,
          null,
          null,
          null,
          null,
          null,
          null,
          null,
          null,
          null,
          null,
          null,
          null,
          null,
          null,
          null,
          null,
          null,
          null,
          null,
          null,
          null,
          null,
          null,
          null,
          null,
          103,
          null,
          null,
          null,
          null,
          null,
          null,
          null,
          null,
          null,
          75,
          null,
          null,
          null,
          null,
          null,
          156,
          null,
          181,
          null,
          null,
          null,
          null,
          null,
          null,
          null,
          73,
          null,
          null,
          null,
          137,
          null,
          null,
          null,
          151,
          null,
          null,
          null,
          null,
          null,
          null,
          null,
          213,
          null,
          null,
          null,
          null,
          null,
          null,
          null,
          null,
          null,
          null,
          null,
          null,
          null,
          null,
          null,
          null,
          null,
          null,
          null,
          null,
          null,
          null,
          null,
          null,
          null,
          null,
          null,
          null,
          148,
          null,
          107,
          133,
          null,
          null,
          null,
          null,
          null,
          null,
          null,
          null,
          null,
          null,
          null,
          null,
          null,
          null,
          null,
          null,
          null,
          null,
          null,
          null,
          null,
          null,
          null,
          null,
          null,
          null,
          null,
          null,
          null,
          null,
          null,
          161,
          null,
          null,
          null,
          null,
          null,
          null,
          null,
          null,
          null,
          null,
          null,
          null,
          164,
          null,
          null,
          null,
          null,
          null,
          null,
          null,
          null,
          null,
          null,
          null,
          null,
          null,
          93,
          null,
          null,
          null,
          null,
          null,
          null,
          null,
          null,
          null,
          null,
          null,
          null,
          145,
          145,
          146,
          null,
          115,
          null,
          null,
          null,
          null,
          null,
          null,
          null,
          null,
          108,
          null,
          null,
          null,
          null,
          null,
          null,
          null,
          null,
          null,
          null,
          103,
          null,
          null,
          null,
          null,
          null,
          null,
          null,
          null,
          null,
          null,
          null,
          null,
          null,
          null,
          null,
          null,
          null,
          102,
          null,
          157,
          null,
          null,
          null,
          93,
          null,
          109,
          null,
          null,
          null,
          null,
          null,
          null,
          null,
          null,
          null,
          null,
          94,
          null,
          null,
          null,
          null,
          null,
          null,
          null,
          null,
          null,
          null,
          null,
          null,
          null,
          null,
          null,
          null,
          null,
          null,
          null,
          null,
          null,
          null,
          null,
          null,
          null,
          null,
          null,
          null,
          null,
          null,
          null,
          null,
          null,
          null,
          null,
          null,
          null,
          null,
          null,
          null,
          null,
          null,
          null,
          null,
          null,
          null,
          null,
          null,
          null,
          null,
          null,
          null,
          null,
          null,
          null,
          null,
          null,
          null,
          null,
          null,
          null,
          null,
          null,
          null,
          null,
          null,
          null,
          null,
          null,
          null,
          null,
          null,
          null,
          null,
          null,
          null,
          null,
          null,
          null,
          null,
          null,
          null,
          null,
          null,
          null,
          null,
          null,
          null,
          null,
          null,
          null,
          null,
          null,
          127,
          143,
          55,
          null,
          null,
          null,
          null,
          null,
          null,
          null,
          null,
          null,
          null,
          null,
          null,
          null,
          null,
          null,
          null,
          null,
          null,
          null,
          null,
          null,
          null,
          null,
          null,
          178,
          null,
          null,
          null,
          null,
          null,
          null,
          null,
          null,
          null,
          null,
          null,
          98,
          59,
          null,
          null,
          null,
          null,
          null,
          null,
          null,
          null,
          null,
          null,
          null,
          null,
          null,
          null,
          96,
          null,
          97,
          null,
          null,
          null,
          null,
          null,
          null,
          null,
          null,
          null,
          null,
          102,
          null,
          88,
          null,
          63,
          null,
          null,
          null,
          null,
          null,
          null,
          null,
          null,
          null,
          null,
          null,
          null,
          null,
          null,
          null,
          null,
          null,
          null,
          null,
          null,
          null,
          null,
          85,
          null,
          null,
          null,
          null,
          null,
          null,
          null,
          null,
          null,
          null,
          164,
          null,
          163,
          null,
          null,
          null,
          107.8,
          88.7,
          74,
          null,
          null,
          90,
          114.1,
          null,
          190,
          null,
          null,
          null,
          null,
          null,
          null,
          null,
          null,
          null,
          null,
          null,
          null,
          null,
          null,
          null,
          null,
          null,
          null,
          null,
          null,
          null,
          null,
          null,
          null,
          null,
          null,
          null,
          null,
          null,
          null,
          null,
          null,
          null,
          null,
          null,
          null,
          null,
          91.5,
          160,
          null,
          null,
          null,
          null,
          null,
          null,
          78.4,
          null,
          null,
          null,
          null,
          105.1,
          null,
          null,
          null,
          null,
          null,
          null,
          null,
          null,
          null,
          null,
          null,
          null,
          null,
          null,
          null,
          null,
          null,
          null,
          null,
          null,
          null,
          null,
          null,
          null,
          null,
          null,
          null,
          null,
          null,
          null,
          null,
          null,
          null,
          null,
          null,
          null,
          105.3,
          null,
          null,
          91.6,
          null,
          null,
          null,
          null,
          null,
          null,
          null,
          null,
          null,
          null,
          null,
          null,
          null,
          null,
          109.1,
          null,
          null,
          null,
          null,
          null,
          null,
          null,
          null,
          null,
          null,
          99.2,
          null,
          null,
          null,
          null,
          null,
          null,
          null,
          null,
          null,
          null,
          null,
          null,
          null,
          null,
          null,
          null,
          null,
          null,
          null,
          null,
          92.6,
          null,
          null,
          null,
          null,
          null,
          null,
          null,
          null,
          null,
          null,
          null,
          92.6,
          null,
          null,
          null,
          null,
          null,
          null,
          101.3,
          null,
          null,
          null,
          null,
          null,
          null,
          null,
          null,
          null,
          null,
          null,
          null,
          null,
          null,
          null,
          null,
          null,
          null,
          null,
          null,
          null,
          null,
          184,
          null,
          null,
          null,
          null,
          null,
          null,
          null,
          null,
          null,
          null,
          null,
          null,
          null,
          null,
          null,
          null,
          null,
          null,
          null,
          null,
          null,
          null,
          null,
          null,
          null,
          null,
          null,
          null,
          null,
          null,
          null,
          null,
          null,
          null,
          null,
          null,
          null,
          null,
          null,
          null,
          null,
          null,
          null,
          null,
          null,
          null,
          null,
          null,
          null,
          null,
          null,
          null,
          null,
          null,
          null,
          null,
          null,
          null,
          null,
          null,
          null,
          null,
          null,
          null,
          null,
          null,
          null,
          null,
          null,
          null,
          null,
          null,
          null,
          null,
          null,
          null,
          null,
          null,
          null,
          null,
          null,
          null,
          null,
          null,
          null,
          null,
          null,
          null,
          null,
          null,
          null,
          null,
          182,
          null,
          null,
          null,
          null,
          182,
          16.6,
          null,
          null,
          null,
          null,
          null,
          null,
          null,
          null,
          null,
          null,
          null,
          null,
          182,
          null,
          null,
          null,
          null,
          null,
          null,
          null,
          190,
          null,
          null,
          51.4,
          182,
          null,
          null,
          null,
          null,
          null,
          80.2,
          80.4,
          83.1,
          86.5,
          86.7,
          86.9,
          null,
          83.5,
          null,
          83.8,
          null,
          null,
          84.2,
          84.5,
          80,
          86.3,
          85.2,
          85.5,
          85.8,
          null,
          86.1,
          null,
          null,
          219,
          null,
          null,
          null,
          77.4,
          161,
          69.7,
          84.9,
          null,
          79.8,
          79,
          null,
          null,
          null,
          null,
          null,
          null,
          null,
          47,
          null,
          87.3,
          87.7,
          87.5,
          87.9,
          88.1,
          79.6,
          88.4,
          88.9,
          87.1,
          80.7,
          81,
          81.3,
          81.6,
          81.9,
          82.3,
          82.7,
          79.3,
          77.7,
          78.1,
          78.4,
          78.7,
          88.6,
          null,
          null,
          null,
          null,
          null,
          null,
          null,
          null,
          null,
          null,
          null,
          190,
          null,
          null,
          null,
          210,
          null,
          null,
          null,
          null,
          null,
          null,
          null,
          223,
          null,
          182,
          null,
          null,
          null,
          null,
          null,
          null,
          null,
          null,
          null,
          null,
          null,
          null,
          null,
          240,
          null,
          null,
          null,
          null,
          null,
          null,
          null,
          null,
          null,
          null,
          null,
          null,
          null,
          null,
          null,
          210,
          null,
          240,
          null,
          189,
          221,
          null,
          null,
          null,
          null,
          190,
          null,
          null,
          194,
          null,
          223,
          null,
          null,
          null,
          null,
          null,
          null,
          240,
          210,
          223,
          null,
          null,
          null,
          210,
          null,
          null,
          204,
          null,
          null,
          null,
          null,
          null,
          null,
          null,
          null,
          null,
          null,
          null,
          null,
          null,
          null,
          null,
          null,
          null,
          null,
          null,
          null,
          null,
          null,
          null,
          null,
          null,
          null,
          null,
          182,
          null,
          null,
          null,
          null,
          null,
          null,
          null,
          null,
          null,
          null,
          null,
          null,
          35.2,
          null,
          null,
          null,
          null,
          null,
          null,
          null,
          null,
          null,
          null,
          null,
          null,
          null,
          null,
          null,
          null,
          null,
          null,
          210,
          null,
          null,
          null,
          null,
          null,
          null,
          null,
          null,
          null,
          190,
          null,
          null,
          null,
          null,
          null,
          null,
          null,
          null,
          null,
          null,
          null,
          null,
          null,
          223,
          null,
          null,
          null,
          null,
          240,
          null,
          null,
          null,
          null,
          null,
          null,
          null,
          null,
          null,
          null,
          null,
          null,
          null,
          null,
          null,
          null,
          null,
          null,
          null,
          null,
          null,
          null,
          null,
          null,
          null,
          null,
          null,
          null,
          null,
          null,
          null,
          null,
          null,
          null,
          null,
          null,
          null,
          null,
          null,
          null,
          null,
          null,
          null,
          null,
          null,
          null,
          null,
          null,
          null,
          null,
          null,
          null,
          null,
          null,
          null,
          null,
          null,
          null,
          null,
          null,
          null,
          null,
          null,
          null,
          null,
          null,
          null,
          null,
          null,
          null,
          null,
          null,
          null,
          null,
          null,
          null,
          null,
          null,
          null,
          null,
          null,
          null,
          null,
          null,
          null,
          null,
          null,
          null,
          null,
          null,
          null,
          null,
          null,
          null,
          null,
          null,
          null,
          null,
          null,
          null,
          null,
          null,
          null,
          null,
          null,
          null,
          null,
          null,
          null,
          null,
          36,
          null,
          null,
          null,
          null,
          null,
          null,
          202,
          202.2,
          204,
          174,
          222,
          229,
          234,
          null,
          null,
          null,
          null
         ],
         "xaxis": "x",
         "y": [
          null,
          160,
          104,
          null,
          160,
          179,
          198,
          186,
          104,
          179,
          177,
          null,
          null,
          null,
          104,
          null,
          177,
          201,
          null,
          null,
          184,
          null,
          119,
          179,
          151,
          151,
          null,
          null,
          219,
          170,
          null,
          171,
          104,
          198,
          179,
          188,
          179,
          198,
          null,
          119,
          198,
          null,
          null,
          171,
          119,
          null,
          189,
          null,
          179,
          null,
          null,
          179,
          198,
          null,
          196,
          null,
          189,
          179,
          189,
          null,
          151,
          100,
          null,
          196,
          222,
          119,
          null,
          null,
          119,
          null,
          null,
          96,
          179,
          198,
          170,
          104,
          189,
          null,
          170,
          102,
          null,
          null,
          198,
          null,
          null,
          104,
          151,
          151,
          119,
          232,
          null,
          null,
          185,
          null,
          232,
          null,
          232,
          232,
          232,
          null,
          null,
          null,
          null,
          232,
          null,
          null,
          232,
          null,
          null,
          null,
          null,
          null,
          185,
          185,
          185,
          null,
          null,
          null,
          null,
          null,
          128,
          185,
          null,
          185,
          185,
          185,
          232,
          null,
          95,
          185,
          null,
          232,
          null,
          null,
          189,
          189,
          null,
          104,
          170,
          104,
          null,
          null,
          null,
          151,
          null,
          null,
          189,
          189,
          null,
          null,
          198,
          151,
          null,
          null,
          119,
          250,
          250,
          185,
          null,
          null,
          null,
          128,
          128,
          128,
          250,
          232,
          null,
          null,
          214,
          226,
          null,
          220,
          null,
          null,
          196,
          null,
          null,
          119,
          130,
          null,
          null,
          null,
          null,
          null,
          null,
          null,
          null,
          null,
          112,
          122,
          null,
          119,
          null,
          114,
          196,
          207,
          null,
          null,
          210,
          220,
          null,
          null,
          220,
          150,
          null,
          null,
          null,
          null,
          null,
          null,
          null,
          null,
          122,
          null,
          null,
          130,
          207,
          null,
          null,
          null,
          null,
          null,
          null,
          null,
          null,
          142,
          null,
          159,
          210,
          null,
          null,
          94,
          210,
          141,
          196,
          179,
          null,
          null,
          161,
          169,
          95,
          null,
          null,
          null,
          null,
          null,
          null,
          null,
          null,
          null,
          null,
          95,
          null,
          null,
          null,
          null,
          213,
          null,
          null,
          153,
          89,
          null,
          null,
          226,
          226,
          null,
          null,
          null,
          null,
          156,
          null,
          213,
          null,
          null,
          null,
          null,
          null,
          null,
          189,
          204,
          165,
          189,
          196,
          null,
          226,
          null,
          189,
          null,
          250,
          250,
          184,
          null,
          220,
          null,
          226,
          null,
          null,
          null,
          null,
          195,
          null,
          202,
          226,
          202,
          202,
          202,
          192,
          null,
          null,
          126,
          126,
          212,
          null,
          232,
          null,
          null,
          null,
          null,
          170,
          null,
          null,
          null,
          null,
          null,
          null,
          null,
          206,
          null,
          null,
          null,
          89,
          94,
          94,
          89,
          null,
          null,
          212,
          null,
          250,
          140,
          128,
          null,
          234,
          194,
          null,
          187,
          139,
          137,
          170,
          138,
          null,
          null,
          210,
          null,
          141,
          229,
          143,
          null,
          170,
          null,
          null,
          null,
          null,
          null,
          141,
          null,
          null,
          null,
          229,
          null,
          null,
          null,
          null,
          212,
          155,
          null,
          202,
          null,
          null,
          null,
          null,
          143,
          null,
          null,
          null,
          229,
          250,
          250,
          229,
          null,
          null,
          null,
          null,
          null,
          142,
          null,
          202,
          141,
          null,
          null,
          142,
          null,
          143,
          137,
          143,
          137,
          null,
          null,
          250,
          null,
          221,
          189,
          null,
          155,
          209,
          171,
          null,
          122,
          null,
          107,
          156,
          null,
          137,
          137,
          107,
          155,
          222,
          107,
          222,
          122,
          169,
          209,
          209,
          209,
          209,
          null,
          null,
          222,
          209,
          209,
          137,
          107,
          222,
          155,
          null,
          null,
          128,
          107,
          120,
          120,
          189,
          141,
          128,
          null,
          122,
          250,
          141,
          137,
          127,
          184,
          null,
          183,
          134,
          null,
          143,
          184,
          null,
          115,
          null,
          134,
          120,
          184,
          156,
          189,
          122,
          122,
          null,
          143,
          130,
          143,
          null,
          89,
          107,
          107,
          null,
          209,
          141,
          null,
          null,
          null,
          126,
          126,
          null,
          173,
          134,
          176,
          156,
          128,
          222,
          null,
          null,
          null,
          156,
          220,
          null,
          189,
          null,
          null,
          null,
          null,
          null,
          null,
          141,
          128,
          156,
          null,
          null,
          128,
          null,
          null,
          187,
          null,
          null,
          null,
          null,
          185,
          null,
          null,
          null,
          156,
          null,
          189,
          null,
          null,
          null,
          null,
          null,
          null,
          null,
          null,
          null,
          null,
          null,
          null,
          137,
          137,
          null,
          156,
          null,
          null,
          128,
          null,
          222,
          222,
          122,
          143,
          null,
          null,
          null,
          222,
          156,
          128,
          null,
          null,
          null,
          155,
          126,
          126,
          null,
          null,
          189,
          null,
          231,
          null,
          143,
          143,
          162,
          189,
          189,
          189,
          188,
          null,
          null,
          194,
          226,
          182,
          null,
          137,
          145,
          222,
          151,
          null,
          null,
          null,
          null,
          null,
          131,
          131,
          137,
          151,
          137,
          null,
          null,
          null,
          null,
          null,
          null,
          null,
          229,
          122,
          147,
          null,
          180,
          219,
          null,
          143,
          184,
          null,
          null,
          228,
          null,
          167,
          null,
          222,
          null,
          null,
          250,
          162,
          null,
          120,
          null,
          161,
          null,
          null,
          null,
          null,
          298,
          242,
          123,
          234,
          null,
          null,
          152,
          156,
          null,
          null,
          130,
          null,
          null,
          162,
          null,
          null,
          null,
          null,
          null,
          null,
          null,
          null,
          null,
          null,
          null,
          null,
          null,
          null,
          null,
          null,
          null,
          null,
          null,
          null,
          null,
          null,
          null,
          208,
          null,
          null,
          204,
          null,
          null,
          null,
          null,
          null,
          null,
          null,
          null,
          null,
          null,
          null,
          null,
          null,
          null,
          175,
          null,
          177,
          null,
          null,
          null,
          null,
          null,
          171,
          null,
          null,
          null,
          174,
          212,
          null,
          null,
          null,
          null,
          null,
          null,
          null,
          null,
          null,
          null,
          null,
          217,
          null,
          172,
          null,
          160,
          null,
          null,
          null,
          189,
          null,
          null,
          189,
          185,
          null,
          null,
          null,
          null,
          184,
          null,
          null,
          null,
          238,
          null,
          null,
          236,
          null,
          null,
          119,
          185,
          null,
          null,
          167,
          null,
          206,
          null,
          null,
          136,
          107,
          189,
          null,
          169,
          210,
          207,
          207,
          195,
          220,
          210,
          192,
          220,
          210,
          167,
          186,
          215,
          189,
          null,
          null,
          210,
          173,
          226,
          212,
          215,
          220,
          null,
          null,
          216,
          205,
          null,
          210,
          187,
          186,
          null,
          179,
          201,
          null,
          115,
          107,
          null,
          null,
          null,
          null,
          105,
          94,
          null,
          null,
          null,
          null,
          null,
          null,
          null,
          null,
          115,
          201,
          104,
          null,
          171,
          null,
          null,
          null,
          null,
          null,
          null,
          null,
          null,
          103,
          184,
          94,
          null,
          105,
          null,
          null,
          null,
          null,
          103,
          null,
          null,
          null,
          101,
          101,
          101,
          null,
          100,
          null,
          null,
          182,
          100,
          100,
          null,
          null,
          null,
          100,
          107,
          100,
          100,
          100,
          null,
          null,
          null,
          89,
          100,
          null,
          null,
          null,
          null,
          null,
          128,
          null,
          null,
          72,
          73,
          null,
          null,
          null,
          null,
          73,
          170,
          174,
          null,
          185,
          170,
          null,
          null,
          null,
          129,
          null,
          null,
          null,
          null,
          null,
          null,
          null,
          null,
          null,
          null,
          null,
          null,
          null,
          null,
          119,
          null,
          null,
          null,
          null,
          null,
          170,
          null,
          null,
          null,
          null,
          137,
          null,
          null,
          204,
          null,
          107,
          null,
          null,
          null,
          null,
          null,
          229,
          null,
          75,
          229,
          206,
          null,
          null,
          null,
          143,
          null,
          null,
          109,
          110,
          null,
          229,
          null,
          null,
          null,
          null,
          null,
          null,
          107,
          105,
          250,
          null,
          105,
          107,
          107,
          107,
          100,
          107,
          107,
          177,
          107,
          null,
          105,
          null,
          null,
          null,
          250,
          null,
          177,
          107,
          null,
          107,
          229,
          null,
          107,
          107,
          null,
          107,
          107,
          null,
          110,
          null,
          null,
          229,
          107,
          101,
          null,
          100,
          110,
          107,
          null,
          105,
          null,
          105,
          94,
          null,
          107,
          250,
          null,
          null,
          107,
          null,
          109,
          107,
          null,
          null,
          94,
          94,
          177,
          null,
          null,
          null,
          107,
          107,
          null,
          107,
          101,
          null,
          null,
          null,
          100,
          107,
          null,
          107,
          105,
          null,
          null,
          null,
          null,
          null,
          null,
          109,
          107,
          107,
          101,
          107,
          107,
          null,
          null,
          105,
          107,
          null,
          null,
          100,
          107,
          null,
          null,
          null,
          250,
          null,
          null,
          null,
          134,
          null,
          null,
          134,
          null,
          null,
          null,
          null,
          null,
          null,
          250,
          null,
          null,
          null,
          null,
          null,
          null,
          null,
          null,
          null,
          null,
          250,
          null,
          null,
          null,
          null,
          250,
          null,
          null,
          229,
          null,
          null,
          null,
          null,
          null,
          null,
          null,
          null,
          null,
          null,
          null,
          220,
          null,
          null,
          null,
          null,
          null,
          null,
          181,
          220,
          226,
          null,
          null,
          null,
          null,
          null,
          null,
          null,
          null,
          134,
          null,
          null,
          null,
          null,
          null,
          102,
          250,
          null,
          181,
          null,
          null,
          null,
          181,
          null,
          null,
          null,
          null,
          null,
          null,
          null,
          null,
          null,
          null,
          null,
          null,
          null,
          null,
          181,
          null,
          null,
          250,
          null,
          null,
          null,
          207,
          null,
          214,
          null,
          null,
          null,
          220,
          214,
          null,
          null,
          203,
          100,
          null,
          100,
          null,
          203,
          200,
          null,
          null,
          null,
          null,
          100,
          195,
          null,
          null,
          null,
          null,
          null,
          null,
          203,
          107,
          100,
          100,
          185,
          null,
          null,
          null,
          202,
          220,
          100,
          null,
          203,
          null,
          107,
          null,
          107,
          null,
          107,
          107,
          107,
          107,
          107,
          107,
          220,
          107,
          null,
          107,
          null,
          null,
          107,
          107,
          107,
          107,
          107,
          107,
          107,
          null,
          107,
          null,
          210,
          207,
          220,
          null,
          null,
          107,
          207,
          89,
          107,
          100,
          107,
          107,
          231,
          null,
          107,
          231,
          null,
          213,
          212,
          null,
          212,
          107,
          107,
          107,
          107,
          107,
          107,
          107,
          107,
          107,
          107,
          107,
          107,
          107,
          107,
          107,
          107,
          107,
          107,
          107,
          107,
          107,
          107,
          null,
          226,
          null,
          136,
          208,
          92,
          220,
          136,
          136,
          220,
          136,
          202,
          136,
          208,
          136,
          226,
          136,
          null,
          207,
          208,
          136,
          220,
          100,
          213,
          208,
          203,
          220,
          220,
          null,
          220,
          222,
          207,
          null,
          null,
          null,
          220,
          218,
          null,
          null,
          238,
          220,
          207,
          220,
          null,
          null,
          220,
          195,
          208,
          null,
          231,
          212,
          226,
          210,
          210,
          null,
          226,
          null,
          238,
          null,
          226,
          226,
          null,
          231,
          220,
          null,
          202,
          234,
          220,
          226,
          220,
          213,
          null,
          null,
          212,
          220,
          220,
          null,
          238,
          226,
          213,
          220,
          null,
          null,
          226,
          220,
          231,
          226,
          null,
          219,
          222,
          null,
          210,
          100,
          null,
          220,
          null,
          207,
          220,
          null,
          107,
          null,
          null,
          100,
          null,
          220,
          231,
          100,
          null,
          100,
          null,
          212,
          107,
          null,
          220,
          203,
          100,
          null,
          null,
          220,
          213,
          107,
          null,
          195,
          null,
          189,
          195,
          189,
          null,
          null,
          100,
          100,
          100,
          209,
          231,
          212,
          220,
          null,
          231,
          231,
          231,
          100,
          107,
          226,
          null,
          107,
          107,
          226,
          null,
          220,
          100,
          220,
          220,
          null,
          220,
          220,
          231,
          202,
          null,
          null,
          204,
          null,
          220,
          220,
          null,
          null,
          null,
          231,
          220,
          218,
          100,
          213,
          203,
          100,
          100,
          null,
          238,
          null,
          220,
          null,
          null,
          220,
          220,
          202,
          107,
          231,
          208,
          210,
          194,
          214,
          null,
          187,
          null,
          null,
          206,
          null,
          null,
          null,
          null,
          null,
          null,
          null,
          null,
          184,
          null,
          null,
          null,
          null,
          null,
          null,
          null,
          null,
          null,
          null,
          136,
          139,
          null,
          null,
          null,
          160,
          169,
          null,
          null,
          null,
          null,
          null,
          null,
          null,
          null,
          null,
          null,
          null,
          null,
          null,
          null,
          null,
          null,
          null,
          null,
          null,
          null,
          null,
          null,
          null,
          null,
          null,
          null,
          null,
          null,
          null,
          null,
          null,
          null,
          null,
          null,
          null,
          null,
          null,
          null,
          null,
          null,
          null,
          null,
          null,
          null,
          null,
          null,
          null,
          null,
          null,
          null,
          null,
          null,
          null,
          null,
          null,
          null,
          null,
          null,
          null,
          null,
          null,
          null,
          null,
          null,
          210,
          null,
          157,
          197,
          190,
          185,
          179,
          null,
          null,
          null,
          null,
          null,
          null,
          null,
          null,
          null,
          222,
          226,
          null,
          null
         ],
         "yaxis": "y"
        }
       ],
       "layout": {
        "font": {
         "family": "Barlow Semi Condensed",
         "size": 28
        },
        "height": 800,
        "legend": {
         "tracegroupgap": 0
        },
        "margin": {
         "t": 60
        },
        "showlegend": false,
        "template": {
         "data": {
          "bar": [
           {
            "error_x": {
             "color": "rgb(36,36,36)"
            },
            "error_y": {
             "color": "rgb(36,36,36)"
            },
            "marker": {
             "line": {
              "color": "white",
              "width": 0.5
             }
            },
            "type": "bar"
           }
          ],
          "barpolar": [
           {
            "marker": {
             "line": {
              "color": "white",
              "width": 0.5
             }
            },
            "type": "barpolar"
           }
          ],
          "carpet": [
           {
            "aaxis": {
             "endlinecolor": "rgb(36,36,36)",
             "gridcolor": "white",
             "linecolor": "white",
             "minorgridcolor": "white",
             "startlinecolor": "rgb(36,36,36)"
            },
            "baxis": {
             "endlinecolor": "rgb(36,36,36)",
             "gridcolor": "white",
             "linecolor": "white",
             "minorgridcolor": "white",
             "startlinecolor": "rgb(36,36,36)"
            },
            "type": "carpet"
           }
          ],
          "choropleth": [
           {
            "colorbar": {
             "outlinewidth": 1,
             "tickcolor": "rgb(36,36,36)",
             "ticks": "outside"
            },
            "type": "choropleth"
           }
          ],
          "contour": [
           {
            "colorbar": {
             "outlinewidth": 1,
             "tickcolor": "rgb(36,36,36)",
             "ticks": "outside"
            },
            "colorscale": [
             [
              0,
              "#440154"
             ],
             [
              0.1111111111111111,
              "#482878"
             ],
             [
              0.2222222222222222,
              "#3e4989"
             ],
             [
              0.3333333333333333,
              "#31688e"
             ],
             [
              0.4444444444444444,
              "#26828e"
             ],
             [
              0.5555555555555556,
              "#1f9e89"
             ],
             [
              0.6666666666666666,
              "#35b779"
             ],
             [
              0.7777777777777778,
              "#6ece58"
             ],
             [
              0.8888888888888888,
              "#b5de2b"
             ],
             [
              1,
              "#fde725"
             ]
            ],
            "type": "contour"
           }
          ],
          "contourcarpet": [
           {
            "colorbar": {
             "outlinewidth": 1,
             "tickcolor": "rgb(36,36,36)",
             "ticks": "outside"
            },
            "type": "contourcarpet"
           }
          ],
          "heatmap": [
           {
            "colorbar": {
             "outlinewidth": 1,
             "tickcolor": "rgb(36,36,36)",
             "ticks": "outside"
            },
            "colorscale": [
             [
              0,
              "#440154"
             ],
             [
              0.1111111111111111,
              "#482878"
             ],
             [
              0.2222222222222222,
              "#3e4989"
             ],
             [
              0.3333333333333333,
              "#31688e"
             ],
             [
              0.4444444444444444,
              "#26828e"
             ],
             [
              0.5555555555555556,
              "#1f9e89"
             ],
             [
              0.6666666666666666,
              "#35b779"
             ],
             [
              0.7777777777777778,
              "#6ece58"
             ],
             [
              0.8888888888888888,
              "#b5de2b"
             ],
             [
              1,
              "#fde725"
             ]
            ],
            "type": "heatmap"
           }
          ],
          "heatmapgl": [
           {
            "colorbar": {
             "outlinewidth": 1,
             "tickcolor": "rgb(36,36,36)",
             "ticks": "outside"
            },
            "colorscale": [
             [
              0,
              "#440154"
             ],
             [
              0.1111111111111111,
              "#482878"
             ],
             [
              0.2222222222222222,
              "#3e4989"
             ],
             [
              0.3333333333333333,
              "#31688e"
             ],
             [
              0.4444444444444444,
              "#26828e"
             ],
             [
              0.5555555555555556,
              "#1f9e89"
             ],
             [
              0.6666666666666666,
              "#35b779"
             ],
             [
              0.7777777777777778,
              "#6ece58"
             ],
             [
              0.8888888888888888,
              "#b5de2b"
             ],
             [
              1,
              "#fde725"
             ]
            ],
            "type": "heatmapgl"
           }
          ],
          "histogram": [
           {
            "marker": {
             "line": {
              "color": "white",
              "width": 0.6
             }
            },
            "type": "histogram"
           }
          ],
          "histogram2d": [
           {
            "colorbar": {
             "outlinewidth": 1,
             "tickcolor": "rgb(36,36,36)",
             "ticks": "outside"
            },
            "colorscale": [
             [
              0,
              "#440154"
             ],
             [
              0.1111111111111111,
              "#482878"
             ],
             [
              0.2222222222222222,
              "#3e4989"
             ],
             [
              0.3333333333333333,
              "#31688e"
             ],
             [
              0.4444444444444444,
              "#26828e"
             ],
             [
              0.5555555555555556,
              "#1f9e89"
             ],
             [
              0.6666666666666666,
              "#35b779"
             ],
             [
              0.7777777777777778,
              "#6ece58"
             ],
             [
              0.8888888888888888,
              "#b5de2b"
             ],
             [
              1,
              "#fde725"
             ]
            ],
            "type": "histogram2d"
           }
          ],
          "histogram2dcontour": [
           {
            "colorbar": {
             "outlinewidth": 1,
             "tickcolor": "rgb(36,36,36)",
             "ticks": "outside"
            },
            "colorscale": [
             [
              0,
              "#440154"
             ],
             [
              0.1111111111111111,
              "#482878"
             ],
             [
              0.2222222222222222,
              "#3e4989"
             ],
             [
              0.3333333333333333,
              "#31688e"
             ],
             [
              0.4444444444444444,
              "#26828e"
             ],
             [
              0.5555555555555556,
              "#1f9e89"
             ],
             [
              0.6666666666666666,
              "#35b779"
             ],
             [
              0.7777777777777778,
              "#6ece58"
             ],
             [
              0.8888888888888888,
              "#b5de2b"
             ],
             [
              1,
              "#fde725"
             ]
            ],
            "type": "histogram2dcontour"
           }
          ],
          "mesh3d": [
           {
            "colorbar": {
             "outlinewidth": 1,
             "tickcolor": "rgb(36,36,36)",
             "ticks": "outside"
            },
            "type": "mesh3d"
           }
          ],
          "parcoords": [
           {
            "line": {
             "colorbar": {
              "outlinewidth": 1,
              "tickcolor": "rgb(36,36,36)",
              "ticks": "outside"
             }
            },
            "type": "parcoords"
           }
          ],
          "pie": [
           {
            "automargin": true,
            "type": "pie"
           }
          ],
          "scatter": [
           {
            "marker": {
             "colorbar": {
              "outlinewidth": 1,
              "tickcolor": "rgb(36,36,36)",
              "ticks": "outside"
             }
            },
            "type": "scatter"
           }
          ],
          "scatter3d": [
           {
            "line": {
             "colorbar": {
              "outlinewidth": 1,
              "tickcolor": "rgb(36,36,36)",
              "ticks": "outside"
             }
            },
            "marker": {
             "colorbar": {
              "outlinewidth": 1,
              "tickcolor": "rgb(36,36,36)",
              "ticks": "outside"
             }
            },
            "type": "scatter3d"
           }
          ],
          "scattercarpet": [
           {
            "marker": {
             "colorbar": {
              "outlinewidth": 1,
              "tickcolor": "rgb(36,36,36)",
              "ticks": "outside"
             }
            },
            "type": "scattercarpet"
           }
          ],
          "scattergeo": [
           {
            "marker": {
             "colorbar": {
              "outlinewidth": 1,
              "tickcolor": "rgb(36,36,36)",
              "ticks": "outside"
             }
            },
            "type": "scattergeo"
           }
          ],
          "scattergl": [
           {
            "marker": {
             "colorbar": {
              "outlinewidth": 1,
              "tickcolor": "rgb(36,36,36)",
              "ticks": "outside"
             }
            },
            "type": "scattergl"
           }
          ],
          "scattermapbox": [
           {
            "marker": {
             "colorbar": {
              "outlinewidth": 1,
              "tickcolor": "rgb(36,36,36)",
              "ticks": "outside"
             }
            },
            "type": "scattermapbox"
           }
          ],
          "scatterpolar": [
           {
            "marker": {
             "colorbar": {
              "outlinewidth": 1,
              "tickcolor": "rgb(36,36,36)",
              "ticks": "outside"
             }
            },
            "type": "scatterpolar"
           }
          ],
          "scatterpolargl": [
           {
            "marker": {
             "colorbar": {
              "outlinewidth": 1,
              "tickcolor": "rgb(36,36,36)",
              "ticks": "outside"
             }
            },
            "type": "scatterpolargl"
           }
          ],
          "scatterternary": [
           {
            "marker": {
             "colorbar": {
              "outlinewidth": 1,
              "tickcolor": "rgb(36,36,36)",
              "ticks": "outside"
             }
            },
            "type": "scatterternary"
           }
          ],
          "surface": [
           {
            "colorbar": {
             "outlinewidth": 1,
             "tickcolor": "rgb(36,36,36)",
             "ticks": "outside"
            },
            "colorscale": [
             [
              0,
              "#440154"
             ],
             [
              0.1111111111111111,
              "#482878"
             ],
             [
              0.2222222222222222,
              "#3e4989"
             ],
             [
              0.3333333333333333,
              "#31688e"
             ],
             [
              0.4444444444444444,
              "#26828e"
             ],
             [
              0.5555555555555556,
              "#1f9e89"
             ],
             [
              0.6666666666666666,
              "#35b779"
             ],
             [
              0.7777777777777778,
              "#6ece58"
             ],
             [
              0.8888888888888888,
              "#b5de2b"
             ],
             [
              1,
              "#fde725"
             ]
            ],
            "type": "surface"
           }
          ],
          "table": [
           {
            "cells": {
             "fill": {
              "color": "rgb(237,237,237)"
             },
             "line": {
              "color": "white"
             }
            },
            "header": {
             "fill": {
              "color": "rgb(217,217,217)"
             },
             "line": {
              "color": "white"
             }
            },
            "type": "table"
           }
          ]
         },
         "layout": {
          "annotationdefaults": {
           "arrowhead": 0,
           "arrowwidth": 1
          },
          "coloraxis": {
           "colorbar": {
            "outlinewidth": 1,
            "tickcolor": "rgb(36,36,36)",
            "ticks": "outside"
           }
          },
          "colorscale": {
           "diverging": [
            [
             0,
             "rgb(103,0,31)"
            ],
            [
             0.1,
             "rgb(178,24,43)"
            ],
            [
             0.2,
             "rgb(214,96,77)"
            ],
            [
             0.3,
             "rgb(244,165,130)"
            ],
            [
             0.4,
             "rgb(253,219,199)"
            ],
            [
             0.5,
             "rgb(247,247,247)"
            ],
            [
             0.6,
             "rgb(209,229,240)"
            ],
            [
             0.7,
             "rgb(146,197,222)"
            ],
            [
             0.8,
             "rgb(67,147,195)"
            ],
            [
             0.9,
             "rgb(33,102,172)"
            ],
            [
             1,
             "rgb(5,48,97)"
            ]
           ],
           "sequential": [
            [
             0,
             "#440154"
            ],
            [
             0.1111111111111111,
             "#482878"
            ],
            [
             0.2222222222222222,
             "#3e4989"
            ],
            [
             0.3333333333333333,
             "#31688e"
            ],
            [
             0.4444444444444444,
             "#26828e"
            ],
            [
             0.5555555555555556,
             "#1f9e89"
            ],
            [
             0.6666666666666666,
             "#35b779"
            ],
            [
             0.7777777777777778,
             "#6ece58"
            ],
            [
             0.8888888888888888,
             "#b5de2b"
            ],
            [
             1,
             "#fde725"
            ]
           ],
           "sequentialminus": [
            [
             0,
             "#440154"
            ],
            [
             0.1111111111111111,
             "#482878"
            ],
            [
             0.2222222222222222,
             "#3e4989"
            ],
            [
             0.3333333333333333,
             "#31688e"
            ],
            [
             0.4444444444444444,
             "#26828e"
            ],
            [
             0.5555555555555556,
             "#1f9e89"
            ],
            [
             0.6666666666666666,
             "#35b779"
            ],
            [
             0.7777777777777778,
             "#6ece58"
            ],
            [
             0.8888888888888888,
             "#b5de2b"
            ],
            [
             1,
             "#fde725"
            ]
           ]
          },
          "colorway": [
           "#1F77B4",
           "#FF7F0E",
           "#2CA02C",
           "#D62728",
           "#9467BD",
           "#8C564B",
           "#E377C2",
           "#7F7F7F",
           "#BCBD22",
           "#17BECF"
          ],
          "font": {
           "color": "rgb(36,36,36)"
          },
          "geo": {
           "bgcolor": "white",
           "lakecolor": "white",
           "landcolor": "white",
           "showlakes": true,
           "showland": true,
           "subunitcolor": "white"
          },
          "hoverlabel": {
           "align": "left"
          },
          "hovermode": "closest",
          "mapbox": {
           "style": "light"
          },
          "paper_bgcolor": "white",
          "plot_bgcolor": "white",
          "polar": {
           "angularaxis": {
            "gridcolor": "rgb(232,232,232)",
            "linecolor": "rgb(36,36,36)",
            "showgrid": false,
            "showline": true,
            "ticks": "outside"
           },
           "bgcolor": "white",
           "radialaxis": {
            "gridcolor": "rgb(232,232,232)",
            "linecolor": "rgb(36,36,36)",
            "showgrid": false,
            "showline": true,
            "ticks": "outside"
           }
          },
          "scene": {
           "xaxis": {
            "backgroundcolor": "white",
            "gridcolor": "rgb(232,232,232)",
            "gridwidth": 2,
            "linecolor": "rgb(36,36,36)",
            "showbackground": true,
            "showgrid": false,
            "showline": true,
            "ticks": "outside",
            "zeroline": false,
            "zerolinecolor": "rgb(36,36,36)"
           },
           "yaxis": {
            "backgroundcolor": "white",
            "gridcolor": "rgb(232,232,232)",
            "gridwidth": 2,
            "linecolor": "rgb(36,36,36)",
            "showbackground": true,
            "showgrid": false,
            "showline": true,
            "ticks": "outside",
            "zeroline": false,
            "zerolinecolor": "rgb(36,36,36)"
           },
           "zaxis": {
            "backgroundcolor": "white",
            "gridcolor": "rgb(232,232,232)",
            "gridwidth": 2,
            "linecolor": "rgb(36,36,36)",
            "showbackground": true,
            "showgrid": false,
            "showline": true,
            "ticks": "outside",
            "zeroline": false,
            "zerolinecolor": "rgb(36,36,36)"
           }
          },
          "shapedefaults": {
           "fillcolor": "black",
           "line": {
            "width": 0
           },
           "opacity": 0.3
          },
          "ternary": {
           "aaxis": {
            "gridcolor": "rgb(232,232,232)",
            "linecolor": "rgb(36,36,36)",
            "showgrid": false,
            "showline": true,
            "ticks": "outside"
           },
           "baxis": {
            "gridcolor": "rgb(232,232,232)",
            "linecolor": "rgb(36,36,36)",
            "showgrid": false,
            "showline": true,
            "ticks": "outside"
           },
           "bgcolor": "white",
           "caxis": {
            "gridcolor": "rgb(232,232,232)",
            "linecolor": "rgb(36,36,36)",
            "showgrid": false,
            "showline": true,
            "ticks": "outside"
           }
          },
          "title": {
           "x": 0.05
          },
          "xaxis": {
           "automargin": true,
           "gridcolor": "rgb(232,232,232)",
           "linecolor": "rgb(36,36,36)",
           "showgrid": false,
           "showline": true,
           "ticks": "outside",
           "title": {
            "standoff": 15
           },
           "zeroline": false,
           "zerolinecolor": "rgb(36,36,36)"
          },
          "yaxis": {
           "automargin": true,
           "gridcolor": "rgb(232,232,232)",
           "linecolor": "rgb(36,36,36)",
           "showgrid": false,
           "showline": true,
           "ticks": "outside",
           "title": {
            "standoff": 15
           },
           "zeroline": false,
           "zerolinecolor": "rgb(36,36,36)"
          }
         }
        },
        "width": 1000,
        "xaxis": {
         "anchor": "y",
         "autorange": true,
         "domain": [
          0,
          1
         ],
         "range": [
          2.908336772595961,
          253.69166322740404
         ],
         "title": {
          "text": "PROPERTY: Exp. Young modulus (GPa)"
         },
         "type": "linear"
        },
        "yaxis": {
         "anchor": "x",
         "autorange": true,
         "domain": [
          0,
          1
         ],
         "range": [
          57.79846180737633,
          312.2015381926237
         ],
         "title": {
          "text": "PROPERTY: Calculated Young modulus (GPa)"
         },
         "type": "linear"
        }
       }
      },
      "image/png": "[encoded data removed]",
      "text/html": [
       "<div>\n",
       "        \n",
       "        \n",
       "            <div id=\"3aaacf20-6d80-466d-8522-562e8cf688f7\" class=\"plotly-graph-div\" style=\"height:800px; width:1000px;\"></div>\n",
       "            <script type=\"text/javascript\">\n",
       "                require([\"plotly\"], function(Plotly) {\n",
       "                    window.PLOTLYENV=window.PLOTLYENV || {};\n",
       "                    \n",
       "                if (document.getElementById(\"3aaacf20-6d80-466d-8522-562e8cf688f7\")) {\n",
       "                    Plotly.newPlot(\n",
       "                        '3aaacf20-6d80-466d-8522-562e8cf688f7',\n",
       "                        [{\"customdata\": [[\"Cr1 Nb1 Ta1 Ti1\"], [\"Al1 Co0.5 Cr0.5 Fe0.5 Ni0.5\"], [\"Al1 Nb1 Ti1 V1\"], [\"Co1 Cr0.667 Fe0.667 Ni1 Ti0.333\"], [\"Al1 Co0.5 Cr0.5 Fe0.5 Ni0.5\"], [\"Mo1 Nb1 Ta1 Ti1\"], [\"Nb1 Ta1 Ti1 W1\"], [\"Mo1 Nb1 Ta1 V1\"], [\"Al1 Nb1 Ti1 V1\"], [\"Mo1 Nb1 Ta1 Ti1\"], [\"Al1 Co0.8 Cr0.8 Fe0.8 Ni0.8\"], [\"Al1 Cr1 Cu1 Fe1 Ni0.6\"], [\"Al0.774 Fe1 Mn0.903 Ni0.484 Ti0.097\"], [\"Al1 Cr1 Cu1 Fe1 Ni1\"], [\"Al1 Nb1 Ti1 V1\"], [\"Al0.774 Fe1 Mn0.903 Ni0.484 Ti0.097\"], [\"Al1 Co0.8 Cr0.8 Fe0.8 Ni0.8\"], [\"Al0.133 Co1 Cr0.667 Fe0.667 Ni1 Ti0.333\"], [\"Al1 Cr1 Cu1 Fe1 Ni0.8\"], [\"Al1 Nb1 Ti1 V1\"], [\"Al1 Co1 Cr1 Fe1 Ni1\"], [\"Al1 Nb1 Ti1 V1 Zr0.5\"], [\"Al1 Cr0.5 Nb1 Ti1 V1\"], [\"Mo1 Nb1 Ta1 Ti1\"], [\"Al1 Mo1 Nb1 Ti1\"], [\"Al1 Mo1 Nb1 Ti1\"], [\"Al1 Nb1 Ti1 V1 Zr1\"], [\"Al1 Cr1 Mo1 Nb1 Ti1\"], [\"Cr1 Mo1 Ta1 Ti1\"], [\"Al1 Cr1 Mo1 Nb1 Ti1\"], [\"Hf1 Nb1 Ta1 Zr1\"], [\"Al1 Co0.667 Cr0.667 Fe0.667 Ni0.667\"], [\"Al1 Nb1 Ti1 V1\"], [\"Nb1 Ta1 Ti1 W1\"], [\"Mo1 Nb1 Ta1 Ti1\"], [\"Al0.875 Co1 Cr1 Fe1 Ni1\"], [\"Mo1 Nb1 Ta1 Ti1\"], [\"Nb1 Ta1 Ti1 W1\"], [\"Hf1 Nb1 Ta1 Zr1\"], [\"Hf1 Nb1 Ta1 Ti1\"], [\"Nb1 Ta1 Ti1 W1\"], [\"Al1 Nb1 Ti1 V1\"], [\"Hf1 Nb1 Ta1 Zr1\"], [\"Al1 Co0.667 Cr0.667 Fe0.667 Ni0.667\"], [\"Hf1 Nb1 Ta1 Ti1\"], [\"Al1 Cr1 Nb1 Ti1 V1\"], [\"Al1 Cr1 Mo1 Ti1\"], [\"Al1 Nb1 Ti1 Zr1\"], [\"Mo1 Nb1 Ta1 Ti1\"], [\"Al0.774 Fe1 Mn0.903 Ni0.484 Ti0.026\"], [\"Al0.833 Cr0.833 Cu0.833 Fe0.833 Ni1\"], [\"Mo1 Nb1 Ta1 Ti1\"], [\"Nb1 Ta1 Ti1 W1\"], [\"Al1 Cr1 Mo1 Nb1 Ti1\"], [\"Cr1 Mo1 Nb1 Ti1\"], [\"Al1 Nb1 Ti1 V1 Zr0.25\"], [\"Al1 Cr1 Mo1 Ti1\"], [\"Mo1 Nb1 Ta1 Ti1\"], [\"Al1 Cr1 Mo1 Ti1\"], [\"Mo1 Nb1 Ta1 Ti1 Zr1\"], [\"Al1 Mo1 Nb1 Ti1\"], [\"Nb1 Ti1 V1 Zr1\"], [\"Al0.75 Co1 Cr1 Fe1 Ni1\"], [\"Cr1 Mo1 Nb1 Ti1\"], [\"Mo1 Nb1 Ta1 Ti1 W1\"], [\"Al1 Cr0.5 Nb1 Ti1 V1\"], [\"Al1 Nb1 Ti1 V1\"], [\"Al1 Nb1 Ti1 V1 Zr0.25\"], [\"Hf1 Nb1 Ta1 Ti1\"], [\"Al1 Cr1 Nb1 Ti1 V1\"], [\"Al1 Nb1 Ti1 V1 Zr0.1\"], [\"Nb1 Ti1 V0.3 Zr1\"], [\"Mo1 Nb1 Ta1 Ti1\"], [\"Nb1 Ta1 Ti1 W1\"], [\"Al1 Cr1 Mo1 Nb1 Ti1\"], [\"Al1 Nb1 Ti1 V1\"], [\"Al1 Cr1 Mo1 Ti1\"], [\"Al0.25 Cr0.5 Nb0.5 Ti1 V0.25\"], [\"Al1 Cr1 Mo1 Nb1 Ti1\"], [\"Mo0.1 Nb1 Ti1 V0.3 Zr1\"], [\"Al0.186 Cr0.149 Fe1 Mn0.861 Ni0.28\"], [\"Al1 Co1 Cr1 Fe1 Ni1\"], [\"Nb1 Ta1 Ti1 W1\"], [\"Al0.667 Cr1 Nb0.667 Ti0.667 V0.667\"], [\"Al1 Nb1 Ti1 V1 Zr0.1\"], [\"Al1 Nb1 Ti1 V1\"], [\"Al1 Mo1 Nb1 Ti1\"], [\"Al1 Mo1 Nb1 Ti1\"], [\"Hf1 Nb1 Ta1 Ti1\"], [\"Co1 Cr1 Fe1 Mo0.2 Ni1\"], [\"Cr1 Cu1 Fe1 Mn1 Ni1\"], [\"Cr1 Hf1 Nb1 Ti1 Zr1\"], [\"Al0.278 Co0.694 Cr0.222 Fe0.417 Ni1 Ti0.167\"], [\"Co0.476 Cr0.476 Fe0.476 Nb0.19 Ni1\"], [\"Co1 Cr1 Fe1 Mo0.2 Ni1\"], [\"Al1 Co1 Cr1 Fe1 Ni1\"], [\"Co1 Cr1 Fe1 Mo0.2 Ni1\"], [\"Co1 Cr1 Fe1 Mo0.2 Ni1\"], [\"Co1 Cr1 Fe1 Mo0.2 Ni1\"], [\"Al1 Co1 Cr1 Fe1 Ni1\"], [\"Cr1 Cu1 Fe1 Mn1 Ni1\"], [\"Al0.242 Co0.515 Cr0.515 Cu0.242 Fe0.515 Ni1\"], [\"Co1 Cr1 Fe1 Mn1 Ni1 V1\"], [\"Co1 Cr1 Fe1 Mo0.2 Ni1\"], [\"Al0.304 Co1 Cr1 Fe1 Ni1\"], [\"Al0.304 Co1 Cr1 Fe1 Ni1\"], [\"Co1 Cr1 Fe1 Mo0.2 Ni1\"], [\"Hf1 Nb1 Ta1 Zr1\"], [\"Co1 Cr1 Ni1\"], [\"Cr1 Cu1 Fe1 Mn1 Ni1\"], [\"Cr1 Cu1 Fe1 Mn1 Ni1\"], [\"Al1 Co1 Cr1 Fe1 Ni1\"], [\"Al0.278 Co0.694 Cr0.222 Fe0.417 Ni1 Ti0.167\"], [\"Al0.278 Co0.694 Cr0.222 Fe0.417 Ni1 Ti0.167\"], [\"Al0.278 Co0.694 Cr0.222 Fe0.417 Ni1 Ti0.167\"], [\"Co0.476 Cr0.476 Fe0.476 Nb0.095 Ni1\"], [\"Al0.545 Cr0.545 Fe0.515 Ni1 Ti0.273\"], [\"Hf1 Nb1 Si0.5 Ti1 V1 Zr1\"], [\"Al1 Co1 Cr1 Fe1 Ni1\"], [\"Cr1 Cu1 Fe1 Mn1 Ni1\"], [\"Hf1 Mo1 Nb1 Ti1 Zr1\"], [\"Al0.278 Co0.694 Cr0.222 Fe0.417 Ni1 Ti0.167\"], [\"Co1 Cr1 Fe1 Mn1 Ni1 V0.765\"], [\"Al0.278 Co0.694 Cr0.222 Fe0.417 Ni1 Ti0.167\"], [\"Al0.278 Co0.694 Cr0.222 Fe0.417 Ni1 Ti0.167\"], [\"Al0.278 Co0.694 Cr0.222 Fe0.417 Ni1 Ti0.167\"], [\"Co1 Cr1 Fe1 Mo0.2 Ni1\"], [\"Cr1 Cu1 Fe1 Mn1 Ni1\"], [\"Hf1 Nb1 Ti1 V1 Zr1\"], [\"Al0.278 Co0.694 Cr0.222 Fe0.417 Ni1 Ti0.167\"], [\"Al1 Co1 Cr1 Fe1 Ni1\"], [\"Co1 Cr1 Fe1 Mo0.2 Ni1\"], [\"Al0.242 Co0.515 Cr0.515 Cu0.242 Fe0.515 Ni1\"], [\"Mo1 Nb1 Ta1 W1\"], [\"Al1 Cr1 Mo1 Ti1\"], [\"Al1 Cr1 Mo1 Ti1\"], [\"Al1 Cr1 Mo1 Nb1 Ti1\"], [\"Al1 Nb1 Ti1 V1\"], [\"Al1 Cr1 Mo1 Nb1 Ti1\"], [\"Al1 Nb1 Ti1 V1\"], [\"Al0.667 Nb0.667 Ti0.667 V0.667 Zr1\"], [\"Al0.25 Cr0.5 Nb0.5 Ti1 V0.25\"], [\"Co1 Cr0.667 Fe0.667 Ni1 Ti0.667\"], [\"Al1 Mo1 Nb1 Ti1\"], [\"Co1 Cr1 Fe1 Mn1 Ni1 V1\"], [\"Cr1 Nb1 Ti1 W1\"], [\"Al1 Cr1 Mo1 Ti1\"], [\"Al1 Cr1 Mo1 Ti1\"], [\"Al0.186 Cr0.149 Fe1 Mn0.861 Ni0.28\"], [\"Al0.25 Cr0.5 Nb0.5 Ti1 V0.25\"], [\"Nb1 Ta1 Ti1 W1\"], [\"Al1 Mo1 Nb1 Ti1\"], [\"Al0.667 Cr1 Nb0.667 Ti0.667 V0.667\"], [\"Al1 Cr1 Nb1 Ti1 V1\"], [\"Al1 Cr0.5 Nb1 Ti1 V1\"], [\"Mo1 Nb1 Ta1 W1\"], [\"Mo1 Nb1 Ta1 W1\"], [\"Al0.278 Co0.694 Cr0.222 Fe0.417 Ni1 Ti0.167\"], [\"Hf1 Nb1 Si0.5 Ti1 V1 Zr1\"], [\"Co0.2 Cr0.2 Fe1 Mn0.6\"], [\"Hf1 Nb1 Si0.5 Ti1 V1 Zr1\"], [\"Hf1 Mo1 Nb1 Ti1 Zr1\"], [\"Hf1 Mo1 Nb1 Ti1 Zr1\"], [\"Hf1 Mo1 Nb1 Ti1 Zr1\"], [\"Mo1 Nb1 Ta1 W1\"], [\"Co1 Cr1 Fe1 Mo0.2 Ni1\"], [\"Co1 Cr1 Ni1\"], [\"Co1 Cr1 Ni1\"], [\"Al0.167 Co1 Cr1 Fe1 Ni1 Ti0.083\"], [\"Co1 Cr1 Fe1 Ni1\"], [\"Co1 Cr1 Fe1 Mn1 Ni1 V0.5\"], [\"Co1 Cr1 Fe1 Mn1 Ni1\"], [\"Co1 Cr1 Fe1 Mn1 Ni1 V0.263\"], [\"Al0.133 Co1 Cr0.667 Fe0.667 Ni1 Ti0.667\"], [\"Cr1 Mo1 Nb1 Ti1\"], [\"Al1 Nb1 Ti1 V1 Zr0.5\"], [\"Hf1 Nb1 Si0.5 Ti1 V1 Zr1\"], [\"Hf1 Nb1 Ta1 Ti1\"], [\"Mo0.7 Nb1 Ti1 V1 Zr1\"], [\"Al1 Cr1 Nb1 Ti1 V1\"], [\"Al0.25 Cr0.5 Nb0.5 Ti1 V0.25\"], [\"Al0.242 Co0.515 Cr0.515 Cu0.242 Fe0.515 Ni1\"], [\"Al0.774 Fe1 Mn0.903 Ni0.484 Ti0.026\"], [\"Al0.774 Fe1 Mn0.903 Ni0.484\"], [\"Co1 Cr1 Fe1 Mn1 Ni1 V0.75\"], [\"Al0.304 Co1 Cr1 Fe1 Ni1\"], [\"Cr1 Hf1 Nb1 Ti1 Zr1\"], [\"Cr1 Hf1 Nb1 Ti1 Zr1\"], [\"Mo0.3 Nb1 Ti1 V0.3 Zr1\"], [\"Mo0.5 Nb1 Ti1 V0.3 Zr1\"], [\"Al0.304 Co1 Cr1 Fe1 Ni1\"], [\"Al1 Cr0.5 Nb1 Ti1 V1\"], [\"Al1 Nb1 Ti1 V1 Zr0.1\"], [\"Mo0.3 Nb1 Ti1 V1 Zr1\"], [\"Cr1 Mo1 Nb1 Ti1\"], [\"Al0.375 Co1 Cr1 Fe1 Ni1\"], [\"Cr1 Mo1 Ta1 Ti1\"], [\"Al1 Nb1 Ti1 V1 Zr1\"], [\"Al0.304 Co1 Cr1 Fe1 Ni1\"], [\"Co1 Cr1 Fe1 Mn1 Ni1\"], [\"Al1 Nb1 Ti1 V1 Zr0.25\"], [\"Al0.5 Co1 Cr1 Fe1 Ni1\"], [\"Co1 Cr1 Fe1 Mn1 Ni1\"], [\"Mo1 Nb0.769 Ti0.769 V0.769 Zr0.769\"], [\"Ag1 Al1 Nb1 Ti1 Zn1\"], [\"Ag1 Al1 Nb1 Ti1 Zn1\"], [\"Ag1 Al1 Nb1 Ti1 Zn1\"], [\"Al1 Nb1 Ta1 Ti1\"], [\"Al1 Nb1 Ti1 V1 Zr0.5\"], [\"Al1 Mo1 Nb1 Ti1\"], [\"Co1 Cr1 Fe1 Mn1 Ni1 V0.25\"], [\"Cr1 Mo1 Ta1 Ti1\"], [\"Mo0.5 Nb1 Ti1 V1 Zr1\"], [\"Cr1 Mo1 Ta1 Ti1\"], [\"Cr1 Hf1 Nb1 Ti1 Zr1\"], [\"Mo0.7 Nb1 Ti1 V0.3 Zr1\"], [\"Al0.375 Co1 Cr1 Fe1 Ni1\"], [\"Cr1 Cu1 Fe1 Mn1 Ni1\"], [\"Cr1 Cu1 Fe1 Mn1 Ni1\"], [\"Ag1 Al1 Nb1 Ti1 Zn1\"], [\"Cr1 Cu1 Fe1 Mn1 Ni1\"], [\"Al0.229 Co0.486 Cr0.4 Cu0.229 Fe0.486 Mo0.003 Ni1 Ti0.029 W0.003\"], [\"Cr1 Cu1 Fe1 Mn1 Ni1\"], [\"Al0.667 Cr1 Nb0.667 Ti0.667 V0.667\"], [\"Al0.667 Nb0.667 Ti0.667 V0.667 Zr1\"], [\"Mo1 Nb1 Ti1 V0.3 Zr1\"], [\"Al0.774 Fe1 Mn0.903 Ni0.484\"], [\"Mo1 Nb0.667 Ti0.667 V0.2 Zr0.667\"], [\"Al0.304 Co1 Cr1 Fe1 Ni1\"], [\"Al0.278 Co0.694 Cr0.222 Fe0.417 Ni1 Ti0.167\"], [\"Al0.229 Co0.486 Cr0.4 Cu0.229 Fe0.486 Mo0.003 Ni1 Ti0.029 W0.003\"], [\"Nb1 Ti1 Zr1\"], [\"Co1 Cr1 Fe1 Mn1 Ni1 V0.5\"], [\"Mo1 Nb1 Ti1 V1 Zr1\"], [\"Cr1 Mo1 Nb1 Ti1\"], [\"Mo1 Nb1 Ta1 Ti1\"], [\"Al0.667 Nb0.667 Ti0.667 V0.667 Zr1\"], [\"Cr1 Mo1 Ta1 Ti1\"], [\"Mo1 Nb0.588 Ti0.588 V0.588 Zr0.588\"], [\"Mo1 Nb0.5 Ti0.5 V0.5 Zr0.5\"], [\"Hf1 Nb1 Ti1 V1 Zr1\"], [\"Cr1 Mo1 Ta1 Ti1\"], [\"Cr1 Mo1 Ta1 Ti1\"], [\"Cr1 Mo1 Ta1 Ti1\"], [\"Al0.667 Cr1 Nb0.667 Ti0.667 V0.667\"], [\"Cr1 Mo1 Ta1 Ti1\"], [\"Hf1 Nb1 Ti1 V1 Zr1\"], [\"Al0.714 Cr0.714 Cu0.714 Fe0.714 Ni1\"], [\"Al1 Nb1 Ti1 V1 Zr1\"], [\"Al1 Cr1 Mo1 Nb1\"], [\"C0.053 Co1 Cr1 Fe1 Mn1 Ni1\"], [\"Hf1 Nb1 Ti1 V1 Zr1\"], [\"Al0.75 Co1 Cr1 Fe1 Ni1\"], [\"Al0.875 Co1 Cr1 Fe1 Ni1\"], [\"Cr1 Cu1 Fe1 Mn1 Ni1\"], [\"Al0.242 Co0.515 Cr0.515 Cu0.242 Fe0.515 Ni1\"], [\"Al0.25 Co1 Cr1 Fe1 Ni1\"], [\"Al1 Cr1 Cu1 Fe1 Ni1 Ti1\"], [\"Al1 Hf1 Nb1 Ti1\"], [\"Mo1 Nb0.769 Ti0.769 V0.231 Zr0.769\"], [\"Hf1 Nb1 Ti1 Zr1\"], [\"Cr1 Cu1 Fe1 Mn1 Ni1\"], [\"Al0.242 Co0.515 Cr0.515 Cu0.242 Fe0.515 Ni1\"], [\"Co1 Cr1 Fe1 Ni1\"], [\"Co1 Cr1 Fe1 Ni1\"], [\"Al0.229 Co0.486 Cr0.4 Cu0.229 Fe0.486 Mo0.003 Ni1 Ti0.029 W0.003\"], [\"Al1 Hf1 Ta1 Ti1\"], [\"Al0.278 Co0.694 Cr0.222 Fe0.417 Ni1 Ti0.167\"], [\"C0.053 Co1 Cr1 Fe1 Mn1 Ni1\"], [\"Mo1 Nb0.667 Ti0.667 V0.667 Zr0.667\"], [\"Ag1 Al1 Nb1 Ti1 Zn1\"], [\"Al0.25 Co1 Cr1 Fe1 Ni1\"], [\"Al0.278 Co0.694 Cr0.222 Fe0.417 Ni1 Ti0.167\"], [\"Cr1 Cu1 Fe1 Mn1 Ni1\"], [\"Al0.278 Co0.694 Cr0.222 Fe0.417 Ni1 Ti0.167\"], [\"Al0.278 Co0.694 Cr0.222 Fe0.417 Ni1 Ti0.167\"], [\"Al0.5 Co1 Cr1 Fe1 Ni1\"], [\"Al1 Hf1 Nb1 Ti1\"], [\"Co1 Cu1 Fe1 Mn1 Ni1\"], [\"Al0.143 Cr0.343 Fe1 Mn0.8 Ni0.571\"], [\"Al1 Mo1 Ta1 Ti1 V1\"], [\"Co1 Cu1 Fe1 Mn1 Ni1\"], [\"Al0.25 Cr0.417 Fe0.417 Ni1\"], [\"Cr1 Cu1 Fe1 Ni1 Ti1\"], [\"Co1 Cr1 Fe1 Ni1\"], [\"Al0.333 Ca0.011 Li0.844 Mg1 Si0.033\"], [\"Co1 Cu1 Fe1 Mn1 Ni1\"], [\"Co1 Cr1 Fe1 Ga1 Ni1\"], [\"Mo1 Nb1 Ta1 W1\"], [\"Mo1 Nb1 Ta1 W1\"], [\"Al1 Co1 Cr1 Fe1 Ni1\"], [\"Al1 Cu0.2 Li0.5 Mg1 Zn0.5\"], [\"Co1 Cr1 Fe1 Mn1 Ni1\"], [\"Al0.304 Co1 Cr1 Fe1 Ni1\"], [\"Co1 Cr1 Fe1 Ni1\"], [\"Al0.333 Ca0.011 Li0.867 Mg1 Si0.011\"], [\"Co1 Cr1 Mo1 Nb1\"], [\"Co1 Cr1 Mo1 Nb1 Ti1\"], [\"Co1 Cr1 Mo1 Nb1 Ti0.2\"], [\"Co1 Cr1 Fe1 Ni1 Ti1\"], [\"Al1 Co1 Cr1 Fe1 Nb0.75 Ni1\"], [\"Co0.5 Fe0.5 Mo0.1 Ni1 V0.25\"], [\"Co1 Cr1 Fe1 Ni1\"], [\"Co0.5 Fe0.5 Mo0.1 Ni1 V0.25\"], [\"Co0.5 Fe0.5 Mo0.1 Ni1 V0.25\"], [\"Co0.5 Fe0.5 Mo0.1 Ni1 V0.25\"], [\"Al0.25 Co1 Cr1 Cu0.5 Fe1 Ni1 Ti0.5\"], [\"Al1 Co1 Cr1 Cu1 Ni1 Ti1 Y1\"], [\"Al1 Co1 Cr1 Cu1 Fe1 Ni1\"], [\"Hf1 Mo0.5 Nb1 Ti1 V0.5\"], [\"Hf1 Mo0.5 Nb1 Ti1 V0.5\"], [\"Co0.25 Cr0.25 Fe1 Mn1\"], [\"Co1 Cr1 Fe1 Mo0.208 Ni1\"], [\"Co1 Cr1 Fe1 Mo0.2 Ni1\"], [\"Co1 Cr1 Mo1 Nb1 Ti0.5\"], [\"Al1 Cu0.5 Li0.5 Mg1 Sn0.2\"], [\"Co1 Cr1 Fe1 Mo0.304 Ni1\"], [\"Hf1 Nb1 Si0.5 Ti1 V1\"], [\"Al1 Cr1 Mo1 Nb1 Ti1\"], [\"Hf1 Nb1 Si0.5 Ti1 V1 Zr1\"], [\"Co1 Cu1 Fe1 Ni1 Sn0.07\"], [\"Co1 Cu1 Fe1 Ni1 Sn0.1\"], [\"Al1 Hf1 Ta1 Ti1\"], [\"Hf1 Nb1 Si0.5 Ti1 V1 Zr1\"], [\"Co1 Cu1 Fe1 Ni1 Sn0.5\"], [\"Hf1 Nb1 Si0.5 Ti1 V1\"], [\"Co1 Cr1 Cu1 Fe1 Ni1\"], [\"Co1 Cr1 Cu1 Fe1 Ni1 V0.042\"], [\"Co1 Cr1 Cu1 Fe1 Ni1 V0.087\"], [\"Co1 Cr1 Cu1 Fe1 Ni1 V0.136\"], [\"Hf1 Nb1 Ti1 Zr1\"], [\"Nb1 Ti1 Zr1\"], [\"Nb1 Ti1 Zr1\"], [\"Hf1 Nb1 Ti1 Zr1\"], [\"Co1 Cr1 Fe1 Mo0.083 Ni1\"], [\"Co1 Cu1 Fe1 Ni1 Sn0.2\"], [\"Co1 Cr1 Mo1 Nb1 Ti0.4\"], [\"Al1 Cr0.828 Fe0.828 Ni0.828\"], [\"Mo1 Nb1 Ta1 W1\"], [\"Mo0.667 Nb0.667 Ti0.667 V1 Zr0.667\"], [\"Hf1 Mo1 Nb1 Ti1 Zr1\"], [\"Al0.451 Co0.451 Cr0.451 Fe0.451 Ni1\"], [\"Co1 Cr0.429 Fe0.571 Mo0.286 Ni0.571\"], [\"Co1 Cr1 Cu1 Fe1 Ni1 Ti0.5\"], [\"Al1 Co1 Cr1 Fe1 Ni1\"], [\"Nb1 Ta1 Ti1 V1 W1\"], [\"Mo0.5 Nb0.5 Ti0.5 V1 Zr0.5\"], [\"Hf1 Mo1 Nb1 Ta1 Ti1 Zr1\"], [\"Al1 Cr1 Mo1 Nb1 Ti1\"], [\"Mo0.333 Nb0.333 Ti0.333 V1 Zr0.333\"], [\"Al1 Co1 Cr1 Cu1 Fe1 Ni1\"], [\"Al1 Cr0.767 Fe0.767 Ni0.767\"], [\"Al0.304 Co1 Cr1 Fe1 Ni1\"], [\"Co1 Cr1 Fe1 Nb0.155 Ni1\"], [\"Mo1 Nb1 Ti1 V1 Zr1\"], [\"Mo1 Nb1 Ta1 V1 W1\"], [\"Hf1 Mo1 Ta1 Ti1 Zr1\"], [\"Al1 Co1 Cr1 Cu1 Fe1 Mn1 Ni1\"], [\"Al1 Cr1 Mo1 Nb1 Ti1\"], [\"Hf1 Mo1 Nb1 Ta1 Ti1 W1 Zr1\"], [\"Al0.515 Cr0.515 Fe1 Ni1\"], [\"Al1 Li0.062 Mg0.062 Sn0.062 Zn0.062\"], [\"Al1 Co1 Cr1 Cu1 Fe1 Ni1 V1\"], [\"Co1 Cr1 Fe1 Nb0.103 Ni1\"], [\"Hf1 Mo1 Nb1 Ta1 Zr1\"], [\"Al0.511 Co0.511 Cr0.511 Fe0.511 Ni1\"], [\"Al0.465 Co0.465 Cr0.465 Fe0.465 Ni1\"], [\"Hf1 Nb1 Si0.5 Ti1 V1 Zr1\"], [\"Mo1 Nb1 Ta1 V1 W1\"], [\"Al1 Cu0.062 Li0.062 Mg0.062 Zn0.062\"], [\"Al0.5 Cr0.5 Fe1 Ni1\"], [\"Al0.545 Cr0.545 Fe0.515 Ni1 Ti0.273\"], [\"Hf1 Nb1 Ta1 Ti1 W1 Zr1\"], [\"Co0.25 Cr0.25 Fe1 Mn1\"], [\"Hf1 Mo1 Nb1 Ta1 Ti1\"], [\"Al1 Cr1 Fe1 Ni1\"], [\"Co0.5 Fe0.5 Mo0.1 Ni1 V0.25\"], [\"Hf1 Mo1 Nb1 Ta1 Ti1 W1 Zr1\"], [\"Hf1 Nb1 Ta1 Ti1 W1 Zr1\"], [\"Hf1 Mo1 Nb1 Ta1 Ti1 W1 Zr1\"], [\"Hf1 Mo1 Nb1 Ta1 Ti1 W1 Zr1\"], [\"Mo1 Nb1 Ti1 Zr1\"], [\"Hf1 Nb1 Ta1 Ti1 W1 Zr1\"], [\"C0.1 Hf0.5 Mo0.5 Nb1 Ti1 Zr1\"], [\"Al1 Cr1 Mo1 Nb1\"], [\"Mo1 Nb1 Ta1 V1 W1\"], [\"Mo1 Nb1 Ta1 W1\"], [\"Mo1 Nb1 Ta1 W1\"], [\"Mo1 Nb1 Ta1 V1 W1\"], [\"Hf1 Nb1 Ta1 Ti1 W1 Zr1\"], [\"C0.3 Hf0.5 Mo0.5 Nb1 Ti1 Zr1\"], [\"Al0.544 C0.001 Co0.69 Fe1 Ni0.69\"], [\"Co0.476 Cr0.476 Fe0.476 Nb0.095 Ni1\"], [\"Al1 Cr0.889 Fe0.889 Ni0.889\"], [\"Mo1 Nb1 Ti1 V0.5 Zr1\"], [\"Co1 Cr1 Cu1 Fe1 Ni1 V0.19\"], [\"Co0.5 Fe0.5 Mo0.1 Ni1 V0.25\"], [\"Mo1 Nb1 Ti1 V0.75 Zr1\"], [\"Hf1 Nb1 Ti1 V1 Zr1\"], [\"Al0.304 Cr0.435 Fe0.435 Ni1\"], [\"Mo1 Nb1 Ti1 V0.25 Zr1\"], [\"Al0.515 Cr0.515 Cu0.515 Fe0.515 Ni1\"], [\"Hf1 Mo1 Ta1 Ti1 Zr1\"], [\"Hf1 Mo1 Nb1 Ta1 Ti1 Zr1\"], [\"Hf1 Mo1 Ta1 Ti1 Zr1\"], [\"Hf1 Mo1 Nb1 Ta1 Ti1 Zr1\"], [\"Al0.343 Co0.514 Cr0.514 Fe1 Ni0.514\"], [\"Al1 Co1 Cr1 Cu1 Ni1 Ti1 Y0.5\"], [\"Mo1 Nb1 Ta1 W1\"], [\"Al1 Co1 Cr1 Cu1 Ni1 Ti1 Y0.8\"], [\"Co1 Cr1 Fe1 Mn1 Mo0.042 Ni1\"], [\"Al0.5 Co1 Cr1 Cu1 Fe1 Ni1\"], [\"Co1 Cr1 Fe1 Mn1 Mo0.19 Ni1\"], [\"Hf1 Mo1 Nb1 Ta1 Ti1\"], [\"Mo1 Nb1 Ta1 Ti1 V1 W1\"], [\"Mo1 Nb1 Ta1 Ti1 V1\"], [\"Mo1 Nb1 Ta1 Ti1 Zr1\"], [\"Hf0.26 Nb1 Ta1 Ti0.578 Zr0.416\"], [\"Hf1 Ta0.6 Ti1 Zr1\"], [\"Hf1 Nb1 Ta1 Ti1 Zr1\"], [\"Al1 Co0.5 Cr0.5 Cu0.5 Fe0.5 Ni0.5\"], [\"Mo1 Nb1 Ta1 Ti1 Zr1\"], [\"Hf1 Mo1 Nb1 Ta1 Ti1 Zr1\"], [\"Hf1 Mo1 Nb1 Ta1 Ti1 Zr1\"], [\"Hf1 Nb1 Ta1 Ti1 Zr1\"], [\"Hf1 Mo1 Nb1 Ta1 Ti1\"], [\"Mo1 Nb1 Ta1 Ti1 W1\"], [\"Hf1 Nb1 Ta1 Ti1 Zr1\"], [\"Mo1 Nb1 Ta1 Ti1 W1\"], [\"Hf0.26 Nb1 Ta1 Ti0.578 Zr0.416\"], [\"Al1 Co1 Cr1 Fe1 Ni1 Si0.4\"], [\"Mo1 Nb1 Ta1 Ti1 V1 W1\"], [\"Mo1 Nb1 Ta1 Ti1 V1 W1\"], [\"Mo1 Nb1 Ta1 Ti1 V1 W1\"], [\"Mo1 Nb1 Ta1 Ti1 V1 W1\"], [\"Hf1 Mo0.5 Nb1 Si0.7 Ti1 V0.5\"], [\"Hf1 Mo0.5 Nb1 Si0.7 Ti1 V0.5\"], [\"Mo1 Nb1 Ta1 Ti1 W1\"], [\"Mo1 Nb1 Ta1 Ti1 V1 W1\"], [\"Mo1 Nb1 Ta1 Ti1 V1 W1\"], [\"Hf1 Mo1 Nb1 Ta1 Ti1 Zr1\"], [\"Hf1 Nb1 Ta1 Ti1 Zr1\"], [\"Mo1 Nb1 Ta1 Ti1 W1\"], [\"Hf1 Mo1 Nb1 Ta1 Ti1\"], [\"Hf1 Ta0.5 Ti1 Zr1\"], [\"Cr1 Cu1 Fe1 Mn1 Ni1\"], [\"Hf1 Mo1 Nb1 Ti1 Zr1\"], [\"Hf1 Ta1 Ti1 Zr1\"], [\"Al1 Nb1 Ta1 Ti1\"], [\"Al1 Nb1 Ta1 Ti1\"], [\"Al0.25 Co1 Cr1 Cu0.75 Fe1 Ni1 Ti0.5\"], [\"Hf1 Mo1 Nb1 Ta1 Zr1\"], [\"Hf1 Mo1 Nb1 Ti1 Zr1\"], [\"Al0.35 Cr0.5 Fe1 Mn0.625 Ni0.375\"], [\"Hf0.26 Nb1 Ta1 Ti0.578 Zr0.416\"], [\"Mo1 Nb1 Ta1 W1\"], [\"Hf1 Mo1 Nb1 Ta1 Zr1\"], [\"Hf1 Mo1 Nb1 Ta1 Ti1 Zr1\"], [\"Al0.5 Nb1 Ta1 Ti1 V1\"], [\"Al1 Co1 Cr1 Fe1 Ni1\"], [\"Al1 C1 Co1 Cr1 Fe1 Ni1\"], [\"Al0.2 Mo1 Ta1 Ti1 V1\"], [\"Al0.25 Cr0.5 Nb0.5 Ti1 V0.25\"], [\"Al0.25 Cr0.5 Fe1 Mn0.625 Ni0.375\"], [\"Hf1 Mo1 Ta1 Ti1 Zr1\"], [\"Al1 Co1 Cr1 Fe1 Ni1\"], [\"Al1 C0.4 Co1 Cr1 Fe1 Ni1\"], [\"Hf0.5 Mo0.5 Nb1 Ti1 Zr1\"], [\"Al1 C0.5 Co1 Cr1 Fe1 Ni1\"], [\"Nb1 Ta1 Ti1 V1\"], [\"Al1 Nb1 Ta1 Ti1\"], [\"Al1 Co1 Cr1 Fe1 Ni1\"], [\"Al1 Co0.5 Cr0.5 Cu0.5 Fe0.5 Ni0.5\"], [\"Mo1 Ta1 Ti1 V1\"], [\"Hf0.26 Nb1 Ta1 Ti0.578 Zr0.416\"], [\"Al1 Nb1 Ta1 Ti1 V1\"], [\"Al0.667 C1 Co0.667 Cr0.667 Fe0.667 Ni0.667\"], [\"Hf1 Mo1 Ta1 Ti1 Zr1\"], [\"Al0.25 Nb1 Ta1 Ti1 V1\"], [\"Hf1 Mo1 Ta1 Ti1 Zr1\"], [\"Al1 C0.3 Co1 Cr1 Fe1 Ni1\"], [\"Hf1 Nb1 Ti1 Zr1\"], [\"Hf1 Nb1 Ta1 Ti1 Zr1\"], [\"Hf1 Nb1 Ta1 Ti1 Zr1\"], [\"Al1 C0.2 Co1 Cr1 Fe1 Ni1\"], [\"Mo1 Nb1 Ta1 Ti1 V1 W1\"], [\"Hf1 Mo1 Nb1 Ta1 Zr1\"], [\"Al0.35 Cr0.5 Fe1 Mn0.625 Ni0.375\"], [\"Al0.25 Cr0.5 Fe1 Mn0.625 Ni0.375\"], [\"Al1 Co1 Cr1 Cu1 Fe1 Ni1\"], [\"Hf1 Mo0.5 Nb1 Ti1 V0.5\"], [\"Hf1 Mo0.5 Nb1 Ti1 V0.5\"], [\"Al1 C0.1 Co1 Cr1 Fe1 Ni1\"], [\"Al0.6 Mo1 Ta1 Ti1 V1\"], [\"Nb1 Ta1 Ti1 V1\"], [\"Al1 Co1 Cr1 Fe1 Ni1 Si0.2\"], [\"Al1 Co0.5 Cr0.5 Cu0.5 Fe0.5 Ni0.5\"], [\"Hf1 Mo1 Nb1 Ti1 Zr1\"], [\"Mo1 Nb1 Ta1 Ti1 W1\"], [\"Hf1 Mo0.5 Nb1 Si0.5 Ti1 V0.5\"], [\"Al1 Co1 Cr1 Fe1 Mo0.2 Ni1\"], [\"Al1 Co1 Cr1 Fe1 Ni1 Si1\"], [\"Al1 Co0.5 Cr0.5 Cu0.5 Fe0.5 Ni0.5\"], [\"Co1 Cr1 Fe1 Mn1 Ni1\"], [\"Cr0.5 Fe1 Mn0.625 Ni0.375\"], [\"Al0.5 Co1 Cr1 Cu1 Fe1 Ni1\"], [\"Hf1 Mo0.5 Nb1 Si0.7 Ti1 V0.5\"], [\"Al1 Co1 Cr1 Fe1 Ni1 Si0.8\"], [\"Hf1 Mo0.5 Nb1 Si0.7 Ti1 V0.5\"], [\"Al0.05 Cr0.5 Fe1 Mn0.625 Ni0.375\"], [\"Hf1 Mo0.5 Nb1 Si0.7 Ti1 V0.5\"], [\"Al0.15 Cr0.5 Fe1 Mn0.625 Ni0.375\"], [\"Hf1 Mo1 Nb1 Ta1 Zr1\"], [\"Hf1 Mo1 Nb1 Ti1 Zr1\"], [\"Al1 Co0.5 Cr0.5 Cu0.5 Fe0.5 Ni0.5\"], [\"Al1 Co1 Cr1 Cu1 Fe1 Ni1\"], [\"Hf1 Mo0.5 Nb1 Si0.5 Ti1 V0.5\"], [\"Hf1 Mo1 Nb1 Ti1 Zr1\"], [\"Al1 Co1 Cr1 Fe1 Mo0.3 Ni1\"], [\"Al1 Co1 Cr1 Fe1 Mo0.4 Ni1\"], [\"Co1 Cu1 Fe1 Ni1\"], [\"Al1 Co1 Cr1 Fe1 Ni1 Ti1\"], [\"Al1 Co1 Cr1 Cu1 Fe1 Ni1\"], [\"Al0.5 Co1 Cr1 Fe1 Ni1 Ti1\"], [\"Al1 Co0.667 Cr0.667 Fe0.667 Ni0.667 Ti0.667\"], [\"Co1 Cu1 Fe1 Ni1 Sn0.02\"], [\"Co1 Cu1 Fe1 Ni1 Sn0.05\"], [\"Cr0.5 Fe1 Mn0.625 Ni0.375\"], [\"Al0.35 Cr0.5 Fe1 Mn0.625 Ni0.375\"], [\"Al1 Co0.5 Cr0.5 Cu0.5 Fe0.5 Ni0.5\"], [\"Co1 Cu1 Fe1 Ni1 Sn0.04\"], [\"Al0.5 Co1 Cr1 Cu1 Fe1 Ni1\"], [\"Al0.05 Cr0.5 Fe1 Mn0.625 Ni0.375\"], [\"Al1 Co1 Cr1 Fe1 Mo0.5 Ni1\"], [\"Al0.186 Cr0.149 Fe1 Mn0.861 Ni0.28\"], [\"Hf1 Mo0.5 Nb1 Si0.3 Ti1 V0.5\"], [\"Hf1 Mo0.5 Nb1 Si0.3 Ti1 V0.5\"], [\"Al1 Co1 Cr1 Cu1 Fe1 Ni1\"], [\"Cr0.5 Fe1 Mn0.625 Ni0.375\"], [\"Co1 Cr1 Fe1 Mn1 Mo0.087 Ni1\"], [\"Al0.05 Cr0.5 Fe1 Mn0.625 Ni0.375\"], [\"Al0.186 Cr0.149 Fe1 Mn0.861 Ni0.28\"], [\"Al1 Li0.5 Mg1 Sn0.2 Zn0.5\"], [\"Al0.15 Cr0.5 Fe1 Mn0.625 Ni0.375\"], [\"Hf1 Mo1 Nb1 Ta1 Ti1 Zr1\"], [\"Hf1 Mo1 Nb1 Ta1 Ti1 Zr1\"], [\"Co1 Cr1 Fe1 Mn1 Mo0.136 Ni1\"], [\"Al1 Co0.5 Cr0.5 Cu0.5 Fe0.5 Ni0.5\"], [\"Al1 Co1 Cr1 Cu1 Fe1 Ni1\"], [\"Hf1 Mo0.5 Nb1 Si0.3 Ti1 V0.5\"], [\"Hf1 Mo1 Nb1 Ti1 Zr1\"], [\"Hf1 Mo0.5 Nb1 Si0.3 Ti1 V0.5\"], [\"Mo1 Nb1 Ta1 Ti1 W1\"], [\"Mo1 Nb1 Ta1 Ti1 W1\"], [\"Hf0.26 Nb1 Ta1 Ti0.578 Zr0.416\"], [\"Hf1 Mo1 Ta1 Ti1 Zr1\"], [\"Al0.5 Co1 Cr1 Cu0.5 Fe1 Ni1 Ti0.5\"], [\"Hf1 Mo0.5 Nb1 Si0.5 Ti1 V0.5\"], [\"Hf1 Mo0.5 Nb1 Si0.5 Ti1 V0.5\"], [\"Mo1 Nb1 Ta1 Ti1 W1\"], [\"Al1 Co0.5 Cr0.5 Cu0.5 Fe0.5 Ni0.5\"], [\"Hf1 Mo1 Nb1 Ti1 Zr1\"], [\"Hf1 Mo0.5 Nb1 Si0.5 Ti1 V0.5\"], [\"Hf1 Mo0.5 Nb1 Si0.5 Ti1 V0.5\"], [\"Al0.25 Cr0.5 Fe1 Mn0.625 Ni0.375\"], [\"Hf1 Mo1 Nb1 Ta1 Ti1\"], [\"Hf1 Mo0.5 Nb1 Ti1 V0.5\"], [\"Hf1 Mo0.5 Nb1 Ti1 V0.5\"], [\"Hf1 Mo0.5 Nb1 Si0.7 Ti1 V0.5\"], [\"Al0.75 Co1 Cr1 Cu0.25 Fe1 Ni1 Ti0.5\"], [\"Al0.5 Co1 Cr1 Cu1 Fe1 Ni1\"], [\"Hf1 Mo0.5 Nb1 Si0.3 Ti1 V0.5\"], [\"Co1 Cr1 Fe1 Mo0.15 Ni1\"], [\"Hf1 Mo0.5 Nb1 Si0.3 Ti1 V0.5\"], [\"Hf1 Mo1 Ta1 Ti1 Zr1\"], [\"Hf1 Mo1 Ta1 Ti1 Zr1\"], [\"Al1 Co1 Cr1 Fe1 Ni1 Si0.6\"], [\"Al0.5 Co1 Cr1 Cu1 Fe1 Ni1\"], [\"Al0.5 Co1 Cr1 Cu1 Fe1 Ni1\"], [\"Al0.5 Co1 Cr1 Cu1 Fe1 Ni1\"], [\"Al1 Co1 Cr1 Fe1 Mo0.1 Ni1\"], [\"Al0.15 Cr0.5 Fe1 Mn0.625 Ni0.375\"], [\"Hf1 Ta0.4 Ti1 Zr1\"], [\"Co1 Cr1 Cu1 Fe1 Ni1 Ti0.5\"], [\"Co1 Cr1 Fe1 Ni1\"], [\"Al1 Co1 Cr1 Fe1 Nb0.1 Ni1\"], [\"Al0.5 B0.6 Co1 Cr1 Cu1 Fe1 Ni1\"], [\"Hf1 Mo1 Nb1 Ta1 Ti1 Zr1\"], [\"Al1 Co0.333 Cr0.333 Fe0.333 Ni0.333\"], [\"Mo1 Nb1 Ta1 Ti1 W1\"], [\"Al1 Mo1 Nb1 Ti1\"], [\"C0.2 Mo1 Nb1 Re0.5 Ta0.2 W1\"], [\"Co0.556 Fe0.556 Mo0.556 Ni1 V0.556\"], [\"Cr1 Fe1 Ni1 Ti0.3\"], [\"Al0.3 Co1 Cr1 Fe1 Mn1 Ni1\"], [\"Al0.9 Co1 Cr1 Fe1 Ni1\"], [\"Al1 Cu0.889 Fe0.667 Ni0.889 Ti1\"], [\"Al1 Cu0.889 Fe0.667 Ni0.889 Ti1\"], [\"Al1 Cu1 Fe1 Ni1 Ti1\"], [\"Al0.75 Mo1 Nb1 Ti1 V1\"], [\"Hf1 Mo1 Nb1 Ta1 Ti1 Zr1\"], [\"Al1 Co1 Cr1 Fe1 Ni1\"], [\"Co0.625 Fe0.625 Mo0.625 Ni1 V0.625\"], [\"Hf0.5 Mo0.5 Nb1 Si0.5 Ti1 Zr1\"], [\"Al0.75 Co1 Cr1 Fe1 Mn1 Ni1\"], [\"Al0.88 Co1 Cr1 Fe1 Mn1 Ni1\"], [\"Al0.95 Co1 Cr1 Fe1 Mn1 Ni1\"], [\"Al1 Co1 Cu1 Fe1 Ni1\"], [\"Mo1 Nb1 Ta1 V1 W1\"], [\"Al1 Cu1 Ni1 Ti1\"], [\"Al1 Mo1 Nb1 Ti1 V1\"], [\"Co0.714 Fe0.714 Mo0.714 Ni1 V0.714\"], [\"Al1 Co0.8 Cr0.8 Fe0.8 Mn0.8 Ni0.8\"], [\"Cr1 Mo1 Ta1 Ti1\"], [\"Al0.81 Co1 Cr1 Fe1 Mn1 Ni1\"], [\"Hf1 Mo1 Ta1 Ti1 Zr1\"], [\"Al1 Co1 Cr1 Fe1 Ni1\"], [\"Al1 Cr1 Fe1 Mo0.2 Ni1\"], [\"Al0.774 Fe1 Mn0.903 Ni0.484 Ti0.097\"], [\"Mo1 Nb1 Ta1 Ti0.75 W1\"], [\"Al1 Hf1 Nb1 Ta1 Ti1 Zr1\"], [\"Mo1 Nb1 Ti1 V1\"], [\"Hf0.5 Mo0.5 Nb1 Si0.1 Ti1 Zr1\"], [\"Mo1 Nb1 Ta1 Ti1 W1\"], [\"Al0.5 Co1 Cr1 Cu1 Fe1 Ni1 V0.8\"], [\"B0.035 Co0.207 Cr0.207 Fe1 Mn0.621\"], [\"Mo1 Nb1 Ta1 W1\"], [\"Al1 Co1 Fe1 Ni1\"], [\"Al0.5 Co1 Cr1 Cu1 Fe1 Ni1 Ti0.6\"], [\"Al1 Nb1 Ta1 Ti1\"], [\"Al1 Co1 Cr1 Cu1 Fe1 Ni1\"], [\"Al0.25 Mo1 Nb1 Ti1 V1\"], [\"Co1 Cr1 Fe1 Mn0.2 Ni1 Pd1\"], [\"Al1 Co1 Cu1 Fe1 Ni1 Zr1\"], [\"Al1 Co0.667 Cr0.667 Cu0.667 Fe0.667 Ni0.667\"], [\"Al1 Cr1 Fe1 Ni1\"], [\"Mo1 Nb1 Re0.5 W1\"], [\"Mo1 Nb1 Ta1 Ti0.25 W1\"], [\"Hf1 Mo0.5 Nb1 Ta1 Ti1 Zr1\"], [\"Mo1 Nb1 Ta1 Ti0.5 W1\"], [\"Ta1 Ti1 Zr1\"], [\"Al0.68 Co1 Cr1 Fe1 Mn1 Ni1\"], [\"Al1 Co0.4 Cr0.4 Fe0.4 Ni0.4\"], [\"Al0.5 Mo1 Nb1 Ti1 V1\"], [\"Nb0.333 Ta0.667 Ti0.667 Zr1\"], [\"Hf1 Nb1 Si0.5 Ti1 V1\"], [\"Hf1 Mo0.75 Nb1 Ta1 Ti1 Zr1\"], [\"Al1 Co1 Cr1 Fe1 Ni1\"], [\"Hf0.5 Mo0.5 Nb1 Si0.3 Ti1 Zr1\"], [\"Cr1 Nb1 Ta1 Ti1\"], [\"Al1 Co1 Cr1 Cu1 Fe1 Ni1\"], [\"Al0.1 Co1 Cr1 Fe1 Mn1 Ni1\"], [\"Al0.5 Co1 Cr1 Fe1 Mn1 Ni1\"], [\"C0.4 Mo1 Nb1 Re0.5 Ta0.4 W1\"], [\"Al1 Co0.833 Cr0.833 Fe0.833 Ni0.833 Ti0.667\"], [\"Hf0.5 Mo0.5 Nb1 Si0.9 Ti1 Zr1\"], [\"Al1 Co0.667 Cr0.667 Fe0.667 Ni0.667 Ti0.333\"], [\"Al1 Co0.5 Cr0.5 Fe0.5 Ni0.5 Ti0.5\"], [\"Al0.417 Co0.833 Cr0.833 Cu0.833 Fe0.833 Ni0.833 Ti1\"], [\"Co1 Cr1 Fe1 Mn1 Ni1 V1\"], [\"Al1 Co0.667 Cr0.667 Fe0.667 Mo0.333 Ni0.667\"], [\"Al0.312 Co0.625 Cr0.625 Cu0.625 Fe0.625 Ni0.625 Ti1\"], [\"Al0.357 Co0.714 Cr0.714 Cu0.714 Fe0.714 Ni0.714 Ti1\"], [\"Al0.278 Co0.556 Cr0.556 Cu0.556 Fe0.556 Ni0.556 Ti1\"], [\"Al1 Co1 Cr1 Fe1 Nb0.25 Ni1\"], [\"Co1 Cr1 Cu1 Fe1 Ni1 Ti1 V1 Zr1\"], [\"Al1 Co1 Cu1 Fe1 Ni1 Si1\"], [\"Al1 Co1 Cr1 Fe1 Mn1 Ni1\"], [\"Al0.5 Co1 Cr1 Cu1 Fe1 Ni1 V1\"], [\"Al0.25 Co0.5 Cr0.5 Cu0.5 Fe0.5 Ni0.5 Ti1\"], [\"Al1 Co1 Cr1 Fe1 Ni1 Ti1\"], [\"Cr1 Mo1 Nb1 Ta1 V1 W1\"], [\"Al1 Co1 Cr1 Fe1 Mo0.5 Ni0.5\"], [\"Cr1 Fe1 Ni1 Ti0.5\"], [\"Al1 Cr1 Fe1 Mo0.5 Ni1 Ti0.25\"], [\"Al1 Co1 Cr1 Fe1 Mo0.5 Ni1\"], [\"Cr1 Fe1 Ni1 Ti0.6\"], [\"Al0.947 Co0.158 Mo1 Ni0.289 W0.237\"], [\"Al1 Co1 Cr1 Fe1 Mo0.5 Ni1\"], [\"Al1 Cr1 Fe1 Mo0.5 Ni1 Ti0.4\"], [\"Al0.5 B1 Co1 Cr1 Cu1 Fe1 Ni1\"], [\"Fe1 Mo1 Ni1 Ti1 V1 Zr1\"], [\"Al0.667 Co1 Cr0.667 Fe0.667 Mo0.333 Ni0.667\"], [\"Al1 Co1 Cr1 Fe1 Nb0.5 Ni1\"], [\"Fe1 Mo1 Nb1 Ti1 V1\"], [\"Co1 Fe1 Mo0.6 Ni1 V1\"], [\"Al0.5 Co0.5 Cr0.5 Fe1 Mo0.25 Ni0.5\"], [\"Al0.667 Co0.667 Cr0.667 Fe1 Mo0.333 Ni0.667\"], [\"Al1 Co0.5 Cr0.5 Cu0.5 Fe0.5 Ni0.5\"], [\"Cr1 Cu1 Fe1 Mn1 Ni1\"], [\"Co1 Fe1 Ni1 Si0.75\"], [\"Al0.357 Co0.714 Cr0.714 Cu0.714 Fe0.714 Ni0.714 V1\"], [\"Al1 Co1 Cu1 Fe1 Nd1 Ni1\"], [\"Al0.417 Co0.833 Cr0.833 Cu0.833 Fe0.833 Ni0.833 V1\"], [\"Hf0.5 Mo0.5 Nb1 Si0.7 Ti1 Zr1\"], [\"Al1 Co0.5 Cr0.5 Fe0.5 Ni0.5\"], [\"C0.5 Mo1 Nb1 Re0.5 Ta0.5 W1\"], [\"Al0.5 Co1 Cr0.5 Fe0.5 Mo0.25 Ni0.5\"], [\"Al0.667 Co0.667 Cr0.667 Fe0.667 Mo0.333 Ni1\"], [\"Al0.25 Co0.5 Cr0.5 Cu0.5 Fe0.5 Ni0.5 V1\"], [\"Al0.5 Co1 Cr1 Cu1 Fe1 Ni1 Ti0.8\"], [\"Cu1 Fe1 Ni1 Ti1 V1 Zr1\"], [\"Al0.5 Co1 Cr1 Cu1 Fe1 Ni1 Ti1\"], [\"Al0.312 Co0.625 Cr0.625 Cu0.625 Fe0.625 Ni0.625 V1\"], [\"Cr1 Fe1 Ni1 Ti0.4\"], [\"Co0.833 Fe0.833 Mo0.833 Ni1 V0.833\"], [\"Al1 Co0.5 Cr0.5 Fe0.5 Mo0.25 Ni0.5\"], [\"Al1 Co0.556 Cr0.556 Fe0.556 Ni0.556 Ti0.111\"], [\"Co1 Fe1 Mo0.8 Ni1 V1\"], [\"C0.6 Mo1 Nb1 Re0.5 Ta0.6 W1\"], [\"Al1 Cr1 Fe1 Mo0.5 Ni1\"], [\"Al0.7 Co1 Cr1 Fe1 Mn1 Ni1\"], [\"Al0.9 Co1 Cr1 Fe1 Ni1 Ti0.5\"], [\"Al1 Cr1 Fe1 Mo0.5 Ni1\"], [\"Co1 Fe1 Mo1 Ni1 V1\"], [\"Al1 Co1 Cu1 Fe1 Ni1 Ti1\"], [\"Cr1 Nb1 Ti1 W1\"], [\"Co1 Cu1 Fe1 Ni1 Ti1 V1 Zr1\"], [\"Al0.278 Co0.556 Cr0.556 Cu0.556 Fe0.556 Ni0.556 V1\"], [\"Al1 Cr1 Fe1 Mo0.5 Ni1 Ti0.5\"], [\"Al1 Co0.5 Cr0.5 Fe0.5 Ni0.5\"], [\"Al1 Co1 Cu1 Fe1 Ni0.5\"], [\"Hf1 Ti1 Zr1\"], [\"Al0.5 Co1 Fe1 Ni1\"], [\"Al0.5 Co1 Cr1 Cu1 Fe1 Ni1\"], [\"Co1 Cu1 Fe1 Mn1 Ni1 Sn0.08\"], [\"Al0.49 Co1 Cr1 Fe1 Mn1 Ni1\"], [\"Al0.5 Co1 Cr1 Cu1 Fe1 Ni1\"], [\"Al0.5 Cr1 Cu1 Fe1 Ni1\"], [\"Al0.6 Co1 Cr1 Fe1 Ni1\"], [\"Al0.229 Co0.486 Cr0.4 Cu0.229 Fe0.486 Mo0.003 Ni1 Ti0.029 W0.003\"], [\"Al0.5 Co1 Cr1 Cu1 Fe1 Ni1 V0.4\"], [\"Hf1 Sc1 Ti1 Zr1\"], [\"Co1 Fe1 Ni1 V1\"], [\"Al0.111 Cu1 Mn1 Ni1\"], [\"Hf1 Ti1 Y1 Zr1\"], [\"Co1 Cr1 Fe1 Mo0.5 Ni1\"], [\"Co1 Cr1 Fe1 Ni1 W0.2\"], [\"Co1 Cu1 Fe1 Mn1 Ni1 Sn0.1\"], [\"Hf1 Sc1 Ti1 Y1 Zr1\"], [\"Cr1 Cu1 Fe1 Mo1 Ni1\"], [\"Co1 Fe1 Mo0.2 Ni1 V1\"], [\"Al0.8 Co1 Cr1 Cu1 Fe1 Ni1\"], [\"Hf1 Nb1 Ta1 Ti1\"], [\"Al0.5 Co1 Cr1 Cu1 Fe1 Ni1 Ti0.2\"], [\"Co0.564 Nb0.795 Ta0.103 Ti1 W0.103\"], [\"Al0.56 Co1 Cr1 Fe1 Mn1 Ni1\"], [\"Al0.333 Co0.333 Cu0.333 Fe0.333 Ni1\"], [\"B0.006 Co0.201 Cr0.201 Fe1 Mn0.604\"], [\"Co1 Cr1 Cu1 Fe1 Ni1\"], [\"Co1 Fe1 Ni1 Si0.5\"], [\"Nb1 Ta0.667 Ti0.667 Zr0.333\"], [\"Nb1 Ta1 Ti1\"], [\"Hf1 Nb1 Ta1 Ti1 Zr1\"], [\"Co1 Cu1 Fe1 Mn1 Ni1\"], [\"Co1 Cu1 Fe1 Mn1 Ni1 Sn0.05\"], [\"Cu1 Mn1 Ni1 Zn0.25\"], [\"Al0.3 Co1 Cr1 Fe1 Ni1\"], [\"Co1 Fe1 Ni1\"], [\"Co1 Fe1 Ni1\"], [\"Co1 Cr0.2 Fe1 Ni1 Si0.2\"], [\"Co1 Cr1 Fe1 Mn1 Ni1\"], [\"Al0.3 Co1 Cr1 Fe1 Ni1\"], [\"Al0.25 Co1 Fe1 Ni1\"], [\"Co1 Cr1 Fe1 Mn1 Ni1\"], [\"Al0.3 Co1 Cr1 Fe1 Ni1\"], [\"Cu1 Mn1 Ni1 Zn0.333\"], [\"Co1 Fe1 Ni1 Si0.25\"], [\"Co1 Cr1 Fe1 Mn1 Ni1 V0.25\"], [\"Al0.5 Co1 Cr1 Cu1 Fe1 Ni1\"], [\"Cu1 Mn1 Ni1 Sn0.053\"], [\"Co1 Cr1 Cu1 Fe1 Ni1\"], [\"Al0.3 Co1 Cr1 Fe1 Ni1\"], [\"Al0.053 Cu1 Mn1 Ni1\"], [\"Co1 Cr1 Fe1 Ni1\"], [\"Al0.2 Co1 Cr1 Fe1 Mn1 Ni1\"], [\"Co1 Cr1 Cu0.5 Fe1 Ni1\"], [\"Co1 Cr1 Fe1 Mn1 Ni1\"], [\"Al1 Co1 Cr1 Fe1 Ni1 Ti0.5\"], [\"Co1 Cr1 Fe1 Mn0.6 Ni1 Pd1\"], [\"Al0.1 Co1 Cr1 Fe1 Mn1 Ni1\"], [\"Al0.38 Co1 Cr1 Fe1 Mn1 Ni1\"], [\"Al0.43 Co1 Cr1 Fe1 Mn1 Ni1\"], [\"Co1 Cr1 Fe1 Mn1 Ni1 V0.5\"], [\"Co1 Cu1 Fe1 Mn1 Ni1 Sn0.03\"], [\"Al0.5 Co1 Cr1 Cu1 Fe1 Ni1 V0.2\"], [\"Co1 Cr1 Fe1 Mn0.8 Ni1 Pd1\"], [\"Mo1 Nb1 Ta1 Ti1\"], [\"Co1 Cr1 Fe1 Ni1 Pd1\"], [\"Co0.2 Cr0.2 Fe1 Mn0.6\"], [\"Nb1 Ta1 Ti1 Zr1\"], [\"Hf1 Nb1 Ta1 Ti1 Zr1\"], [\"Al0.6 Co1 Cr0.333 Fe0.333 Mo0.1 Ni0.967\"], [\"Al0.6 Cr1 Fe1 Mn1 Ni1\"], [\"Cr1 Fe1 Ni1 Ti0.2\"], [\"Al0.6 Co1 Cr0.333 Fe0.333 Mo0.067 Ni1\"], [\"Hf1 Nb1 Ta1 Zr1\"], [\"Nb1 Ti1 Zr1\"], [\"Al0.7 Cr1 Fe1 Mn1 Ni1\"], [\"Co1 Cr1 Fe1 Mn0.4 Ni1 Pd1\"], [\"Co0.5 Fe0.5 Mo0.5 Ni1 V0.5\"], [\"Al0.75 Co1 Fe1 Ni1\"], [\"Al0.8 Cr1 Fe1 Mn1 Ni1\"], [\"Al1 Co1 Cu1 Fe1 Ni1\"], [\"Co1 Cr1 Fe1 Ni1 W0.5\"], [\"Al0.5 Co0.5 Cr0.5 Fe0.5 Mo0.25 Ni1\"], [\"Hf1 Mo0.25 Nb1 Ta1 Ti1 Zr1\"], [\"Al0.333 Cr0.667 Fe1 Mn0.667 Ni0.333\"], [\"Al0.5 Hf1 Nb1 Ta1 Ti1 Zr1\"], [\"Hf0.5 Mo0.5 Nb1 Ti1 Zr1\"], [\"Al1 Co0.667 Cr0.667 Fe0.667 Ni0.667\"], [\"Co1 Fe1 Mo0.4 Ni1 V1\"], [\"Al0.62 Co1 Cr1 Fe1 Mn1 Ni1\"], [\"Co1 Cr1 Fe1 Mn1 Ni1\"], [\"Al0.5 B0.2 Co1 Cr1 Cu1 Fe1 Ni1\"], [\"Al1 Co1 Cu1 Fe1 Ni0.8\"], [\"Al1 Nb1 Ti1 Zr1\"], [\"Co0.273 Cr0.477 Nb0.477 Ni0.045 Ti1\"], [\"Al0.5 Co1 Cr1 Fe1 Mo0.5 Ni1\"], [\"Al0.75 Hf1 Nb1 Ta1 Ti1 Zr1\"], [\"Al1 Co1 Cr1 Fe1 Ni1\"], [\"Nb1 Ti1 Zr1\"], [\"Al0.581 Co0.968 Cr0.323 Fe0.323 Mo0.032 Ni1\"], [\"Al0.3 Hf1 Nb1 Ta1 Ti1 Zr1\"], [\"Cr1 Cu1 Fe1 Mn1 Ni1\"], [\"Al0.2 Cr0.667 Fe1 Mn0.667 Ni0.333\"], [\"Al0.5 Co0.5 Cu0.5 Fe0.5 Ni1\"], [\"Al0.5 Co1 Cr1 Cu1 Fe1 Ni1\"], [\"Hf0.333 Nb0.333 Ta0.333 Ti1 Zr0.667\"], [\"Al0.562 Co0.938 Cr0.312 Fe0.312 Ni1\"], [\"B0.012 Co0.202 Cr0.202 Fe1 Mn0.607\"], [\"Al0.774 Fe1 Mn0.903 Ni0.484\"], [\"Hf0.25 Nb0.5 Ti1 V0.5 Zr0.5\"], [\"Hf0.25 Nb0.5 Ti1 V0.5 Zr0.5\"], [\"Hf0.25 Nb0.5 Ti1 V0.5 Zr0.5\"], [\"Cu1 Mn1 Ni1 Sn0.111\"], [\"Hf0.25 Nb0.375 Ti1 V0.5 Zr0.5\"], [\"Co1 Cu1 Fe1 Mn1 Ni1 Sn0.2\"], [\"Al0.5 Cr1 Fe1 Mn1 Ni1\"], [\"Al0.5 Co1 Cr1 Cu1 Fe1 Ni1 Ti0.4\"], [\"Hf0.25 Nb0.25 Ti1 V0.5 Zr0.5\"], [\"Hf0.25 Nb0.25 Ti1 V0.5 Zr0.5\"], [\"Al0.667 Co0.667 Cu0.667 Fe0.667 Ni1\"], [\"Al0.5 Co1 Cr1 Cu1 Fe1 Ni1 V0.6\"], [\"Al0.774 Fe1 Mn0.903 Ni0.484 Ti0.026\"], [\"Hf0.25 Nb0.125 Ti1 V0.5 Zr0.5\"], [\"Hf1 Nb1 Ta1 Ti1 Zr1\"], [\"Hf0.25 Ti1 V0.5 Zr0.5\"], [\"Hf0.25 Ti1 V0.5 Zr0.5\"], [\"Hf0.25 Ti1 V0.5 Zr0.5\"], [\"Al1 Cr1 Cu1 Fe1 Ni1\"], [\"Co1 Cr1 Fe1 Mn1 Ni1 V0.75\"], [\"Al0.278 Co0.694 Cr0.222 Fe0.417 Ni1 Ti0.167\"], [\"Hf1 Nb1 Ti1 Zr1\"], [\"Hf0.25 Nb0.25 Ti1 V0.5 Zr0.5\"], [\"Al1 Co1 Cr1 Fe0.6 Mo0.5 Ni1\"], [\"Al0.885 Cr1 Fe1 Ni1\"], [\"Al0.125 Co1 Cr1 Cu1 Fe1 Mn1 Ni1 Ti1 V1\"], [\"Co1 Fe1 Mo1 Ni1 Ti1 V1 Zr1\"], [\"Al0.667 Co1 Cr1 Cu1 Fe1 Mn1 Ni1 Ti1 V1\"], [\"Hf1 Mo1 Nb1 Ti1 Zr1\"], [\"Co1 Cr1 Fe1 Nb0.412 Ni1\"], [\"Al1 Li1 Mg1 Sn1 Zn1\"], [\"Al1 Cu0.077 Mg0.077 Ni0.077 Si0.231 Zn0.077\"], [\"Al1 Cu0.077 Fe0.077 Mg0.077 Si0.231 Zn0.077\"], [\"Co1 Cr1 Cu1 Fe1 Mn1 Ni1 Ti1 V1\"], [\"Al1 Co1 Cr1 Fe1 Ni1\"], [\"Al1 Co1 Cr1 Fe1 Ni1\"], [\"Al1 Co1 Cr1 Fe1 Ni1 Ti1\"], [\"Al1 Cu0.077 Mg0.077 Mn0.077 Si0.231 Zn0.077\"], [\"Al1 Cr1 Mo1 Nb1 Ti1\"], [\"Al0.25 Co1 Cr1 Cu1 Fe1 Mn1 Ni1 Ti1 V1\"], [\"Al1 Cr1 Fe1 Mo0.5 Ni1 Ti0.75\"], [\"Co1 Cr1 Cu1 Fe1 Ni1 Ti1\"], [\"Al1 Cr1 Mo1 Nb1 Ti1\"], [\"Cr1 Hf1 Nb1 Ti1 Zr1\"], [\"Al1 Co1 Cr1 Fe1 Ni1 Ti1 V1 Zr1\"], [\"Al1 Co1 Cr1 Cu1 Fe1 Ni1\"], [\"Al1 Co1 Fe1 Ni1 Ti1 V1 Zr1\"], [\"Al1 Co1 Cr1 Ni1\"], [\"Al1 Cr1 Fe1 Mo1 Ni1\"], [\"Al1 Co1 Cr1 Fe1 Mo0.5\"], [\"Al0.667 Co0.833 Cr0.833 Fe0.833 Ni0.833 Ti1\"], [\"Co1 Cr0.487 Nb0.231 Ta0.026 Ti0.821\"], [\"Co1 Cr1 Fe1 Nb0.206 Ni1\"], [\"Al1 Cr1 Fe1 Mo0.8 Ni1\"], [\"Co1 Cr1 Fe1 Mo1 Ni1 Ti1 V1 Zr1\"], [\"Co1 Cr0.917 Ni1 Ta0.5 Ti0.75\"], [\"Cr1 Fe1 Mo1 Nb1 V1\"], [\"Co0.043 Nb0.638 Ni1 Ta0.255 Ti0.191\"], [\"Al0.312 Ca0.021 Li0.792 Mg1 Si0.021\"], [\"Al1 Co0.5 Cr1 Fe1 Mo0.5 Ni1\"], [\"Al1 Co1 Cr1 Cu1 Fe1 Ni1 Ti1\"], [\"Al1 Fe1 Ni1 Ti1 V1 Zr1\"], [\"Al1 Co1 Cr1 Fe1 Mo0.5 Ni1\"], [\"Al0.242 Co0.515 Cr0.515 Cu0.242 Fe0.515 Ni1\"], [\"Al1 Co1 Cr0.091 Nb0.727 W0.212\"], [\"Cr1 Fe1 Mo1 Nb1 Ti1\"], [\"Al0.429 Cr0.476 Fe0.476 Ni1\"], [\"Al1 Cr1 Mo1 Nb1 Ti1\"], [\"Al0.569 Ca0.143 Li0.857 Mg1 Si0.286 Y0.003\"], [\"Al1 Co1 Cr1 Fe1 Ni1\"], [\"Al0.343 Co0.514 Cr0.514 Fe1 Ni0.514\"], [\"Cr1 Fe1 Ni1 V0.5 W1\"], [\"Hf1 Mo1 Nb1 Ta1 Ti1 Zr1\"], [\"Co0.476 Cr0.476 Fe0.476 Nb0.19 Ni1\"], [\"Al1 Co1 Cr1 Fe1 Mo0.5 Ni1\"], [\"Al0.143 Cr0.343 Fe1 Mn0.8 Ni0.571\"], [\"Co1 Cr1 Cu1 Fe1 Ni1 Ti0.8\"], [\"Hf1 Nb1 Ta1 Ti1 Zr1\"], [\"Al0.667 Co0.667 Cr0.667 Fe0.667 Ni0.667 Ti1\"], [\"Al0.5 Cr0.5 Fe0.5 Ni1\"], [\"Al0.343 Co0.514 Cr0.514 Fe1 Ni0.514\"], [\"Al0.364 Cr0.455 Fe0.455 Ni1\"], [\"Al0.429 Ca0.286 Li1 Mg1 Si0.143\"], [\"Mo1 Nb1 Ta1 V1 W1\"], [\"Al0.343 Co0.514 Cr0.514 Fe1 Ni0.514\"], [\"Al1 Cr0.077 Cu0.077 Mg0.077 Si0.231 Zn0.077\"], [\"Mo1 Nb1 Ta1 V1 W1\"], [\"Nb1 Ta1 V1 W1\"], [\"Al1 Co1 Cr1 Cu1 Fe1 Ni1\"], [\"Al1 Cr1 Fe1 Mo0.5 Ni1 Ti0.6\"], [\"Al1 Cu0.077 Mg0.077 Si0.231 Zn0.077 Zr0.077\"], [\"Hf1 Mo1 Ta1 Ti1 Zr1\"], [\"Co1 Cr1 Fe1 Nb0.309 Ni1\"], [\"Cr1 Mo0.5 Nb1 Ta0.5 Ti1 Zr1\"], [\"Al0.333 Nb0.667 Ta0.533 Ti1 V0.133 Zr0.667\"], [\"Al0.214 Nb0.714 Ta0.714 Ti1 Zr0.929\"], [\"Cr1 Mo0.5 Nb1 Ta0.5 Ti1 Zr1\"], [\"Mo1 Nb1 Ta1 V1 W1\"], [\"Cr1 Mo0.5 Nb1 Ta0.5 Ti1 Zr1\"], [\"Cr1 Nb1 Ti1 V1 Zr1\"], [\"Al0.5 Mo0.5 Nb1 Ta0.5 Ti1 Zr1\"], [\"Al0.5 Mo0.5 Nb1 Ta0.5 Ti1 Zr1\"], [\"Cr1 Nb1 Ti1 Zr1\"], [\"Al1 Mo0.5 Nb1 Ta0.5 Ti1 Zr1\"], [\"Hf1 Nb1 Ta1 Ti1 Zr1\"], [\"Al0.667 Nb1 Ta0.333 Ti1 Zr0.333\"], [\"Mo1 Nb1 Ta1 W1\"], [\"Cr1 Mo0.5 Nb1 Ta0.5 Ti1 Zr1\"], [\"Nb0.5 Ti0.5 V1 Zr0.5\"], [\"Al0.214 Nb0.714 Ta0.571 Ti1 V0.143 Zr0.929\"], [\"Hf1 Nb1 Ta1 Ti1 Zr1\"], [\"Hf1 Nb1 Ta1 Ti1 Zr1\"], [\"Nb1 Ti1 V1 Zr1\"], [\"Hf1 Nb1 Ta1 Ti1 Zr1\"], [\"Al0.214 Nb0.714 Ta0.571 Ti1 V0.143 Zr0.929\"], [\"Mo1 Nb1 Ti1\"], [\"Al0.4 Hf0.6 Nb1 Ta1 Ti1 Zr1\"], [\"Al1 Nb1 Ta0.5 Ti1 Zr0.5\"], [\"Nb0.5 Ti0.5 V1 Zr0.5\"], [\"Cr1 Nb0.333 Ti0.333 Zr0.333\"], [\"Al1 Mo0.5 Nb1 Ta0.5 Ti1 Zr0.5\"], [\"Al1 Mo0.5 Nb1 Ta0.5 Ti1 Zr1\"], [\"Mo1 Nb1 Ta1 W1\"], [\"Cr1 Nb1 Ti1 Zr1\"], [\"Mo1 Nb1 Ti1\"], [\"Hf1 Nb1 Ta1 Ti1 Zr1\"], [\"Hf1 Nb1 Ta1 Ti1 Zr1\"], [\"Hf1 Nb1 Ta1 Ti1 Zr1\"], [\"Mo1 Nb1 Ta1 V1 W1\"], [\"Al1 Mo0.5 Nb1 Ta0.5 Ti1 Zr1\"], [\"Hf1 Nb1 Ta1 Ti1 Zr1\"], [\"Al0.4 Hf0.6 Nb1 Ta1 Ti1 Zr1\"], [\"Al1 Mo0.5 Nb1 Ta0.5 Ti1 Zr0.5\"], [\"Al0.214 Nb0.714 Ta0.571 Ti1 V0.143 Zr0.929\"], [\"Hf1 Nb1 Ta1 Ti1 Zr1\"], [\"Al1 Mo0.5 Nb1 Ta0.5 Ti1 Zr1\"], [\"Al0.214 Nb0.714 Ta0.714 Ti1 Zr0.929\"], [\"Mo1 Nb1 Ti1 V1 Zr1\"], [\"Cr1 Nb1 Ti1 V1 Zr1\"], [\"Mo1 Nb1 Ta1 V1 W1\"], [\"Al0.4 Hf0.6 Nb1 Ta1 Ti1 Zr1\"], [\"Nb1 Ta0.3 Ti1 Zr1\"], [\"Nb1 Re0.3 Ti1 Zr1\"], [\"Nb1 Ti1 V1 Zr1\"], [\"Al0.214 Nb0.714 Ta0.714 Ti1 Zr0.929\"], [\"Hf1 Nb1 Ta1 Ti1 Zr1\"], [\"Al0.24 Nb1 Ti1 V1 Zr1\"], [\"Al0.667 Nb1 Ta0.333 Ti1 Zr0.333\"], [\"Nb1 Ta1 Ti1 V1 Zr1\"], [\"Nb0.5 Ti0.5 V1 Zr0.5\"], [\"Nb1 Ti1 Zr1\"], [\"Hf1 Nb1 Ta1 Ti1 Zr1\"], [\"Hf1 Nb1 Ta1 Ti1 Zr1\"], [\"Mo1 Nb1 Ta1 W1\"], [\"Al1 Nb1 Ta0.5 Ti1 Zr0.5\"], [\"Mo1 Nb1 Ti1 V1 Zr1\"], [\"Hf1 Nb1 Ta1 Ti1 Zr1\"], [\"Al0.25 Nb1 Ta1 Ti1 Zr1\"], [\"Al0.333 Nb0.667 Ta0.533 Ti1 V0.133 Zr0.667\"], [\"Hf1 Nb1 Ta1 Ti1 Zr1\"], [\"Cr1 Nb1 Ti1 Zr1\"], [\"Al1 Co1 Cr1 Fe1 Ni1\"], [\"Nb1 Ti1 Zr1\"], [\"Nb1 Ti1 Zr1\"], [\"Mo1 Nb1 Ti1\"], [\"Nb1 Re0.3 Ti1 Zr1\"], [\"Nb1 Ta1 Ti1 V1 Zr1\"], [\"Nb1 Re0.3 Ti1 Zr1\"], [\"Al0.4 Hf0.6 Nb1 Ta1 Ti1 Zr1\"], [\"Hf1 Nb1 Ta1 Ti1 Zr1\"], [\"Al0.24 Nb1 Ti1 V1 Zr1\"], [\"Hf1 Nb1 Ta1 Ti1 Zr1\"], [\"Nb1 Ta0.3 Ti1 Zr1\"], [\"Cr1 Nb1 Ti1 V1 Zr1\"], [\"Al1 Mo0.5 Nb1 Ta0.5 Ti1 Zr1\"], [\"Al1 Mo0.5 Nb1 Ta0.5 Ti1 Zr1\"], [\"Nb1 Ti1 V1 Zr1\"], [\"Hf1 Nb1 Ta1 Ti1 Zr1\"], [\"Cr1 Nb0.333 Ti0.333 Zr0.333\"], [\"Al0.4 Hf0.6 Nb1 Ta1 Ti1 Zr1\"], [\"Al0.667 Nb1 Ta0.333 Ti1 Zr0.333\"], [\"Al0.24 Nb1 Ti1 V1 Zr1\"], [\"Cr1 Mo0.5 Nb1 Ta0.5 Ti1 Zr1\"], [\"Cr1 Nb0.333 Ti0.333 Zr0.333\"], [\"Cr1 Nb1 Ti1 V1 Zr1\"], [\"Al1 Mo0.5 Nb1 Ta0.5 Ti1 Zr1\"], [\"Al1 Mo0.5 Nb1 Ta0.5 Ti1 Zr1\"], [\"Al0.333 Nb0.667 Ta0.533 Ti1 V0.133 Zr0.667\"], [\"Al0.4 Hf0.6 Nb1 Ta1 Ti1 Zr1\"], [\"Hf1 Nb1 Ta1 Ti1 Zr1\"], [\"Nb1 Ta0.3 Ti1 Zr1\"], [\"Hf1 Nb1 Ta1 Ti1 Zr1\"], [\"Hf1 Nb1 Ta1 Ti1 Zr1\"], [\"Cr1 Mo0.5 Nb1 Ta0.5 Ti1 Zr1\"], [\"Cr1 Nb1 Ti1 Zr1\"], [\"Nb0.5 Ti0.5 V1 Zr0.5\"], [\"Hf1 Nb1 Ta1 Ti1 Zr1\"], [\"Cr1 Mo0.5 Nb1 Ta0.5 Ti1 Zr1\"], [\"Al0.25 Nb1 Ta1 Ti1 Zr1\"], [\"Nb1 Ti1 V1 Zr1\"], [\"Hf1 Nb1 Ta1 Ti1 Zr1\"], [\"Mo1 Nb1 Ti1 V1 Zr1\"], [\"Nb1 Ta1 Ti1 V1 Zr1\"], [\"Mo1 Nb1 Si0.25 Ta1 W1\"], [\"Mo1 Nb1 Ta1 W1\"], [\"Mo1 Nb1 Si0.25 Ta1 W1\"], [\"Mo1 Nb1 Si0.25 Ta1 W1\"], [\"Cr1 Mo1 Nb1 Ta1 V1 W1\"], [\"Nb1 Ta1 Ti1 V1\"], [\"C0.1 Co1 Cr1 Fe1 Mn1 Ni1 Ti0.1\"], [\"Al1 Cr1 Cu1 Fe1 Ni1\"], [\"Nb1 Ta1 Ti1 V1\"], [\"Cr1 Ta1 V1 W1\"], [\"Cr1 Ta1 Ti0.3 V1 W1\"], [\"Cr1 Ta1 Ti0.17 V1 W1\"], [\"Mo1 Nb1 Si0.5 Ta1 W1\"], [\"C0.1 Co1 Cr1 Fe1 Mn1 Ni1 Ti0.1\"], [\"C0.1 Co1 Cr1 Fe1 Mn1 Ni1 Ti0.1\"], [\"Mo1 Nb1 Ta1 W1\"], [\"Co1 Cr1 Fe1 Mn1 Ni1\"], [\"Al1 Co1 Cr1 Fe1 Ni1\"], [\"Mo1 Nb1 Si0.25 Ta1 W1\"], [\"Al1 Co1 Cr1 Fe1 Ni1\"], [\"Al1 Co1 Cr1 Fe1 Ni1\"], [\"Al1 Cr1 Cu1 Fe1 Ni1\"], [\"Cr1 Mo1 Nb1 Ti1 W1\"], [\"Cr1 Mo1 Nb1 Ti1 W1\"], [\"Cr1 Mo1 Nb1 Ti1 W1\"], [\"Al1 Cr1 Cu1 Fe1 Ni1\"], [\"Mo1 Nb1 Ta1 W1\"], [\"Al1 Co1 Cr1 Fe1 Ni1\"], [\"Al1 Co1 Cr1 Fe1 Ni1\"], [\"Cr0.286 Mo0.476 Nb1 Ta0.024 Ti0.31 V0.286\"], [\"Al1 Cr1 Cu1 Fe1 Mn1 W0.1\"], [\"Mo1 Nb1 Ta1 W1\"], [\"Cr1 Mo1 Nb1 Ti1 W1\"], [\"Al1 Cr1 Cu1 Fe1 Ni1\"], [\"Mo1 Nb1 Ta1 V1 W1\"], [\"C0.111 Co1 Cr1 Fe1 Ni1 W0.111\"], [\"C0.1 Co1 Cr1 Fe1 Mn1 Ni1 Ti0.1\"], [\"Mo1 Nb1 Si0.75 Ta1 W1\"], [\"Al1 Cr1 Cu1 Fe1 Ni1\"], [\"Cr1 Ta1 Ti0.17 V1 W1\"], [\"Cr1 Ta1 V1 W1\"], [\"Cr1 Ta1 Ti0.3 V1 W1\"], [\"Al1 Cr1 Cu1 Fe1 Ni1\"], [\"Al1 Cr1 Cu1 Fe1 Ni1\"], [\"Mo1 Nb1 Si0.75 Ta1 W1\"], [\"Co1 Cr1 Fe1 Mn1 Ni1\"], [\"Co1 Cr1 Fe1 Mn1 Ni1\"], [\"Al0.3 Co1 Cr1 Fe1 Mn1 Ni1\"], [\"Al1 Co1 Cr1 Fe1 Ni1\"], [\"Al1 Co1 Cr1 Fe1 Ni1\"], [\"Mo1 Nb1 Si0.5 Ta1 W1\"], [\"Al0.7 Co0.3 Cr1 Fe1 Ni1\"], [\"Al1 Co1 Cr1 Fe1 Ni1\"], [\"Co1 Cr1 Cu1 Ni1 Zn1\"], [\"Co1 Cr1 Fe1 Mn1 Ni1\"], [\"Co1 Cr1 Fe1 Ni1\"], [\"Co1 Cr1 Fe1 Mo0.149 Ni1\"], [\"Al1 Co1 Cr1 Fe1 Ni1\"], [\"Al1 Co1 Fe1 Ni1 Ti1\"], [\"Mo1 Nb1 Si0.5 Ta1 W1\"], [\"Al1 Co1 Cr1 Fe1 Ni1\"], [\"Al1 Co1 Cr1 Fe1 Ni1\"], [\"Al1 Co1 Cr1 Fe1 Ni1\"], [\"Al1 Co1 Cr1 Fe1 Ni1\"], [\"Nb1 Ta1 Ti1 V1\"], [\"Cr1 Mo1 Nb1 Ta1 V1 W1\"], [\"Mo1 Nb1 Si0.5 Ta1 W1\"], [\"C0.429 Co1 Cr1 Fe1 Ni1 W0.429\"], [\"Mo1 Nb1 Si0.75 Ta1 W1\"], [\"Al1 Co1 Cr1 Fe1 Ni1\"], [\"Al0.5 Nb1 Ta0.5 Ti1 Zr1\"], [\"Mo1 Nb1 Ta1 W1\"], [\"Cr1 Mo1 Nb1 Ti1 W1\"], [\"Co1 Cr1 Cu1 Ni1 Zn1\"], [\"Al1 Fe1 Ni1 Ti1\"], [\"Al1 Cr1 Cu1 Fe1 Mn1\"], [\"Al0.267 Co1 Cr0.667 Fe0.667 Ni0.667 Ti0.2\"], [\"Co1 Cr1 Cu1 Ni1 Zn1\"], [\"Al1 Cr1 Cu1 Fe1 Ni1\"], [\"Al1 C1 Co1 Cr1 Fe1 Ni1\"], [\"Cr1 Mo1 Nb1 Ta1 V1 W1\"], [\"Al1 Co1 Cr1 Fe1 Ni1\"], [\"Mo1 Nb1 Si0.5 Ta1 W1\"], [\"Mo1 Nb1 Si0.75 Ta1 W1\"], [\"Al1 Cr1 Cu1 Fe1 Mn1 W0.05\"], [\"Al1 Cr1 Cu1 Fe1 Mn1 W0.5\"], [\"Mo1 Nb1 Si0.75 Ta1 W1\"], [\"Al1 Co1 Cr1 Fe1 Ni1\"], [\"Cr1 Mo1 Nb1 Ta1 V1 W1\"], [\"Al1 Co1 Cr1 Fe1 Ni1\"], [\"Al1 Co1 Ni1 Ti1\"], [\"Mo1 Nb1 Si0.25 Ta1 W1\"], [\"Co1 Cr1 Cu1 Ni1 Zn1\"], [\"Mo1 Nb1 Si0.75 Ta1 W1\"], [\"Al1 Co1 Cr1 Fe1 Ni1\"], [\"Mo1 Nb1 Ta1 W1\"], [\"Al0.5 Co1 Cr1 Cu1 Fe1 Ni1\"], [\"Co0.067 Cu0.067 Fe0.067 Nb1 Ni0.067\"], [\"Co0.139 Cr0.446 Cu0.99 Ni1 Si0.277\"], [\"Co1 Fe1 Ni1\"], [\"Al0.476 Co0.476 Cr0.476 Fe0.476 Ni1\"], [\"Co1 Cr1 Fe1 Ni1 Ti0.3\"], [\"Al0.3 Co1 Cr1 Fe1 Ni1\"], [\"Co1 Cr0.429 Fe0.571 Mo0.286 Ni0.571\"], [\"Al0.5 Co1 Cr1 Cu1 Fe1 Ni1\"], [\"Co1 Cr1 Fe1 Mn1 Ni1\"], [\"Co1 Cr1 Fe1 Ni1 Ti0.3\"], [\"Co0.086 Cu0.086 Fe0.086 Nb1 Ni0.086\"], [\"Co1 Cr0.429 Fe0.571 Mo0.286 Ni0.571\"], [\"Fe1 Mn1 Ni1\"], [\"Hf0.5 Nb0.667 Ta0.333 Ti1 Zr0.833\"], [\"Co1 Cr0.455 Fe0.364 Ni0.364\"], [\"Hf0.5 Nb0.667 Ta0.333 Ti1 Zr0.833\"], [\"Co1 Cr0.385 Fe0.154 Ni0.154\"], [\"Fe1 Mn1 Ni1\"], [\"Al0.15 Cr0.5 Cu0.25 Fe0.5 Ni1\"], [\"Cr1 Cu1 Fe1 Mn1 Ni1\"], [\"Al0.5 Co1 Cr1 Cu1 Fe1 Ni1\"], [\"C0.02 Co1 Cr1 Fe1 Mn1 Ni1\"], [\"Al0.5 Nb1 Ta0.5 Ti1 Zr1\"], [\"Hf0.5 Nb0.667 Ta0.333 Ti1 Zr0.833\"], [\"Co1 Cr0.2 Fe1 Ni1 Si0.2\"], [\"Cr1 Cu1 Fe1 Mn1 Ni1\"], [\"Al0.3 Co1 Cr1 Fe1 Ni1\"], [\"Co0.139 Cr0.446 Cu0.99 Ni1 Si0.277\"], [\"Al0.476 Co0.476 Cr0.476 Fe0.476 Ni1\"], [\"Co1 Cr0.429 Fe0.571 Mo0.286 Ni0.571\"], [\"Co1 Cr0.429 Fe0.571 Mo0.286 Ni0.571\"], [\"Fe1 Mn1 Ni1\"], [\"Hf1 Nb1 Ta1 Ti1 Zr1\"], [\"Hf0.5 Nb0.667 Ta0.333 Ti1 Zr0.833\"], [\"Hf0.5 Nb0.667 Ta0.333 Ti1 Zr0.833\"], [\"Al0.5 Cr1 Cu1 Fe1 Ni1\"], [\"Co0.139 Cr0.446 Cu0.99 Ni1 Si0.277\"], [\"Cr1 Cu1 Fe1 Mn1 Ni1\"], [\"Al0.5 Nb1 Ta0.5 Ti1 Zr1\"], [\"Co1 Mn1 Ni1\"], [\"Co1 Cr1 Fe1 Mn1 Ni1\"], [\"Hf0.5 Nb0.667 Ta0.333 Ti1 Zr0.833\"], [\"Al0.15 Cr0.5 Cu0.25 Fe0.5 Ni1\"], [\"Fe1 Mn1 Ni1\"], [\"Al0.167 Co1 Cr1 Fe1 Ni1 Ti0.083\"], [\"Hf1 Nb1 Ta1 Ti1 Zr1\"], [\"Al0.476 Co0.476 Cr0.476 Fe0.476 Ni1\"], [\"Hf1 Nb1 Ta1 Ti1 Zr1\"], [\"Co1 Cr1 Fe1 Mo0.304 Ni1\"], [\"Hf1 Nb1 Ta1 Ti1 Zr1\"], [\"Hf1 Nb1 Ta1 Ti1 Zr1\"], [\"Hf1 Nb1 Ta1 Ti1 Zr1\"], [\"Hf1 Nb1 Ta1 Ti1 Zr1\"], [\"Hf1 Nb1 Ta1 Ti1 Zr1\"], [\"Hf1 Nb1 Ta1 Ti1 Zr1\"], [\"Co1 Cr1 Fe1 Mn1 Ni1\"], [\"Hf1 Nb1 Ta1 Ti1 Zr1\"], [\"Cr1 Cu1 Fe1 Ni1 Ti1\"], [\"Hf1 Nb1 Ta1 Ti1 Zr1\"], [\"Co1 Cu1 Fe1 Nb0.5 Ni1\"], [\"Cr1 Cu1 Fe1 Ni1 Ti1\"], [\"Hf1 Nb1 Ta1 Ti1 Zr1\"], [\"Hf1 Nb1 Ta1 Ti1 Zr1\"], [\"Hf1 Nb1 Ta1 Ti1 Zr1\"], [\"Hf1 Nb1 Ta1 Ti1 Zr1\"], [\"Hf1 Nb1 Ta1 Ti1 Zr1\"], [\"Hf1 Nb1 Ta1 Ti1 Zr1\"], [\"Hf1 Nb1 Ta1 Ti1 Zr1\"], [\"Cr1 Cu1 Fe1 Ni1 Ti1\"], [\"Hf1 Nb1 Ta1 Ti1 Zr1\"], [\"Al0.304 Co1 Cr1 Fe1 Ni1\"], [\"Al0.304 Co1 Cr1 Fe1 Ni1\"], [\"Co1 Cr0.053 Ni1\"], [\"Co1 Cr1 Fe1 Mn1 Ni1\"], [\"Al0.304 Co1 Cr1 Fe1 Ni1\"], [\"Al0.304 Co1 Cr1 Fe1 Ni1\"], [\"Hf1 Nb1 Ta1 Ti1 Zr1\"], [\"Co1 Fe1 Ni1\"], [\"Hf1 Nb1 Ti1 Zr1\"], [\"Hf1 Nb1 Ta1 Ti1 Zr1\"], [\"Hf0.5 Nb0.667 Ta0.333 Ti1 Zr0.833\"], [\"Hf1 Nb1 Ta1 Ti1 Zr1\"], [\"Hf1 Nb1 Ta1 Ti1 Zr1\"], [\"Co1 Cr0.588 Fe0.176 Mo0.176 Ni1\"], [\"Al0.5 Nb1 Ta0.5 Ti1 Zr1\"], [\"Hf1 Nb1 Ta1 Ti1 Zr1\"], [\"Co1 Cr1 Ni1\"], [\"Al0.5 Nb1 Ta0.5 Ti1 Zr1\"], [\"Co0.333 Cr0.667 Fe0.667 Ni1 Ti0.2\"], [\"Co0.25 Cr0.25 Fe1 Mn1\"], [\"Al0.15 Cr0.5 Cu0.25 Fe0.5 Ni1\"], [\"Cr0.5 Fe0.5 Ni1 Ti0.15\"], [\"Hf1 Nb1 Ta1 Ti1 Zr1\"], [\"Hf1 Nb1 Ta1 Ti1 Zr1\"], [\"Hf1 Nb1 Ta1 Ti1 Zr1\"], [\"Hf1 Nb1 Ta1 Ti1 Zr1\"], [\"Hf1 Nb1 Ta1 Ti1 Zr1\"], [\"Hf1 Nb1 Ta1 Ti1 Zr1\"], [\"Hf1 Nb1 Ta1 Ti1 Zr1\"], [\"Hf1 Nb1 Ta1 Ti1 Zr1\"], [\"Hf1 Nb1 Ta1 Ti1 Zr1\"], [\"Hf1 Nb1 Ta1 Ti1 Zr1\"], [\"Hf1 Nb1 Ta1 Ti1 Zr1\"], [\"Hf1 Nb1 Ta1 Ti1 Zr1\"], [\"Hf1 Nb1 Ta1 Ti1 Zr1\"], [\"Hf1 Nb1 Ta1 Ti1 Zr1\"], [\"Hf1 Nb1 Ta1 Ti1 Zr1\"], [\"Hf1 Nb1 Ta1 Ti1 Zr1\"], [\"Hf1 Nb1 Ta1 Ti1 Zr1\"], [\"Hf1 Nb1 Ta1 Ti1 Zr1\"], [\"Hf1 Nb1 Ta1 Ti1 Zr1\"], [\"Hf1 Nb1 Ta1 Ti1 Zr1\"], [\"Hf1 Nb1 Ta1 Ti1 Zr1\"], [\"Hf1 Nb1 Ta1 Ti1 Zr1\"], [\"Al0.5 Nb1 Ta0.5 Ti1 Zr1\"], [\"Co1 Cr1 Fe1 Ni1\"], [\"C0.02 Co1 Cr1 Fe1 Mn1 Ni1\"], [\"Nb1 Ta1 Ti1\"], [\"Co0.286 Cr0.429 Fe1 Mn0.143 Ni0.714 V0.286\"], [\"Hf0.787 Nb0.142 Ta0.142 Ti1 Zr0.787\"], [\"Co1 Cr1 Fe1 Mn1 Ni1\"], [\"Nb1 Ta1 Ti1\"], [\"Nb1 Ta1 Ti1\"], [\"Co1 Cr1 Fe1 Mn1 Ni1\"], [\"Nb1 Ta1 Ti1\"], [\"Co1 Mn1 Ni1\"], [\"Nb1 Ta1 Ti1\"], [\"Co0.286 Cr0.429 Fe1 Mn0.143 Ni0.714 V0.286\"], [\"Nb1 Ta1 Ti1\"], [\"Co1 Cr1 Fe1 Ni1\"], [\"Nb1 Ta1 Ti1\"], [\"Co1 Ni1 V1\"], [\"Co1 Fe1 Ni1\"], [\"Co0.286 Cr0.429 Fe1 Mn0.143 Ni0.714 V0.286\"], [\"Nb1 Ta1 Ti1\"], [\"Co1 Cr1 Fe1 Mn1 Ni1\"], [\"Hf0.5 Nb0.667 Ta0.333 Ti1 Zr0.833\"], [\"Co1 Cr0.25 Ni1\"], [\"Co0.286 Cr0.429 Fe1 Mn0.143 Ni0.714 V0.286\"], [\"Fe1 Mn1 Ni1\"], [\"Al0.1 Co1 Cr1 Fe1 Ni1\"], [\"Co1 Cr1 Fe1 Mn1 Ni1\"], [\"Al0.304 Co1 Cr1 Fe1 Ni1\"], [\"Co1 Cr1 Fe1 Mn1 Ni1\"], [\"Co1 Cr1 Mn1 Ni1\"], [\"Co1 Fe1 Ni1\"], [\"Co0.2 Cr0.2 Fe1 Mn0.6\"], [\"Al0.304 Co1 Cr1 Fe1 Ni1\"], [\"Al0.3 Co1 Cr1 Fe1 Ni1\"], [\"Co1 Cr1 Fe1 Mn1 Ni1\"], [\"Co1 Cr1 Fe1 Ni1 Ti0.2\"], [\"Co1 Ni1 V1\"], [\"C0.041 Co1 Cr1 Fe1 Mn1 Nb0.041 Ni1\"], [\"Co0.25 Cr1 Ni1\"], [\"Co0.986 Cr0.952 Fe0.933 Mn0.914 Ni1\"], [\"Co1 Fe1 Ni1\"], [\"Co1 Cr1 Fe1 Mn1 Ni1\"], [\"Al1 Co1 Cr1 Cu1 Fe1 Ni1\"], [\"Co0.327 Cr0.227 Fe1 Mo0.136 Ni0.127\"], [\"Co1 Cr1 Fe1 Mn1 Ni1\"], [\"Al0.286 Cr0.343 Fe1 Mn0.657 Ni0.571\"], [\"Co0.286 Cr0.429 Fe1 Mn0.143 Ni0.714 V0.286\"], [\"Co1 Ni1 V1\"], [\"Co1 Cr1 Ni1\"], [\"Co0.25 Cr0.25 Fe1 Mn1\"], [\"Co1 Cr1 Fe1 Ni1\"], [\"Al0.3 Co1 Cr1 Fe1 Ni1\"], [\"Al0.304 Co1 Cr1 Fe1 Ni1\"], [\"Al0.3 Co1 Cr1 Fe1 Ni1\"], [\"Co1 Cr1 Fe1 Ni1\"], [\"Co0.2 Cr0.2 Fe1 Mn0.6\"], [\"Co0.25 Cr1 Ni1\"], [\"Co0.327 Cr0.227 Fe1 Mo0.136 Ni0.127\"], [\"Co1 Cr1 Fe1 Ni1\"], [\"Co1 Cr1 Fe1 Ni1\"], [\"Al1 Co1 Cr1 Cu1 Fe1 Ni1\"], [\"Co1 Cr0.588 Fe0.176 Mo0.176 Ni1\"], [\"Co1 Cr1 Fe1 Mn1 Ni1\"], [\"Co0.2 Cr0.2 Fe1 Mn0.6\"], [\"Co1 Mn1 Ni1\"], [\"Co1 Cr0.429 Fe0.571 Mo0.286 Ni0.571\"], [\"Co1 Cr1 Fe1 Mn1 Ni1\"], [\"Co1 Cr1 Fe1 Ni1\"], [\"Co1 Cr1 Fe1 Mn1 Ni1\"], [\"Co1 Cr0.25 Ni1\"], [\"Co0.327 Cr0.227 Fe1 Mo0.136 Ni0.127\"], [\"Al0.304 Co1 Cr1 Fe1 Ni1\"], [\"Co0.25 Cr0.25 Fe1 Mn1\"], [\"Co1 Cr1 Fe1 Mn1 Ni1\"], [\"Co1 Cr1 Fe1 Mn1 Ni1\"], [\"Co1 Ni1 V1\"], [\"Co0.25 Cr1 Ni1\"], [\"Co1 Cr1 Fe1 Ni1\"], [\"Co1 Cr0.25 Ni1\"], [\"Co0.875 Cr0.625 Fe1 Ni1\"], [\"Co0.318 Cr0.227 Fe1 Mo0.091 Ni0.182\"], [\"Co0.318 Cr0.227 Fe1 Mo0.091 Ni0.182\"], [\"Co1 Cr1 Fe1 Ni1\"], [\"Co1 Cr1 Fe1 Mn1 Ni1\"], [\"Co1 Cr0.588 Fe0.176 Mo0.176 Ni1\"], [\"Co1 Cr1 Fe1 Ni1\"], [\"Co0.318 Cr0.227 Fe1 Mo0.091 Ni0.182\"], [\"Co0.5 Cr0.5 Fe1 Ni1\"], [\"Co1 Cr0.556 Fe0.667 Ni0.667\"], [\"Co0.2 Cr0.2 Fe1 Mn0.6\"], [\"Al0.304 Co1 Cr1 Fe1 Ni1\"], [\"Hf0.5 Nb0.667 Ta0.333 Ti1 Zr0.833\"], [\"Co0.2 Cr0.2 Fe1 Mn0.6\"], [\"Co1 Cr1 Fe1 Mn1 Ni1\"], [\"Co1 Cr1 Fe1 Mo0.15 Ni1\"], [\"Co1 Fe1 Ni1\"], [\"Co1 Cr1 Fe1 Mn1 Ni1\"], [\"Co0.986 Cr0.952 Fe0.933 Mn0.914 Ni1\"], [\"Hf1 Nb1 Ta1 Ti1 Zr1\"], [\"Co0.133 Cu0.133 Fe0.133 Nb1 Ni0.133\"], [\"C1 Co1 Cr1 Fe1 Mn1 Ni1\"], [\"Hf0.5 Nb0.667 Ta0.333 Ti1 Zr0.833\"], [\"Al0.3 Co1 Cr1 Fe1 Ni1\"], [\"Co1 Cr1 Fe1 Mn1 Ni1\"], [\"Co1 Cr0.588 Fe0.176 Mo0.176 Ni1\"], [\"Hf0.5 Nb0.667 Ta0.333 Ti1 Zr0.833\"], [\"Al0.108 Co0.514 Cr0.514 Cu0.108 Fe0.514 Ni1\"], [\"Hf0.5 Nb0.667 Ta0.333 Ti1 Zr0.833\"], [\"Co1 Cr1 Fe1 Mo0.304 Ni1\"], [\"Co0.25 Cr0.25 Fe1 Mn1\"], [\"Hf1 Nb1 Ta1 Ti1 Zr1\"], [\"Cr1 Cu1 Fe1 Mn1 Ni1\"], [\"Co1 Cr1 Fe1 Mn1 Ni1\"], [\"Fe1 Mn1 Ni1\"], [\"Hf0.5 Nb0.667 Ta0.333 Ti1 Zr0.833\"], [\"Co1 Cr1 Fe1 Mo0.304 Ni1\"], [\"Hf1 Nb1 Ta1 Ti1 Zr1\"], [\"Co1 Cr1 Fe1 Mn1 Ni1\"], [\"Co0.333 Cr0.667 Fe0.667 Ni1 Ti0.2\"], [\"Hf1 Nb1 Ta1 Ti1 Zr1\"], [\"Co1 Cr0.429 Fe0.571 Mo0.286 Ni0.571\"], [\"Al0.286 Cr0.343 Fe1 Mn0.657 Ni0.571\"], [\"Cr1 Cu1 Fe1 Mn1 Ni1\"], [\"Al0.5 Co1 Cr1 Cu1 Fe1 Ni1\"], [\"Co1 Cr0.2 Fe1 Ni1 Si0.2\"], [\"Al0.5 Co1 Cr1 Cu1 Fe1 Ni1\"], [\"Al0.15 Cr0.5 Cu0.25 Fe0.5 Ni1\"], [\"Al0.3 Co1 Cr1 Fe1 Ni1\"], [\"Hf0.5 Nb0.667 Ta0.333 Ti1 Zr0.833\"], [\"Hf0.5 Nb0.667 Ta0.333 Ti1 Zr0.833\"], [\"Hf0.5 Nb0.667 Ta0.333 Ti1 Zr0.833\"], [\"Al0.108 Co0.514 Cr0.514 Cu0.108 Fe0.514 Ni1\"], [\"Co1 Cr1 Ni1\"], [\"Cr0.5 Fe0.5 Ni1 Ti0.15\"], [\"Al0.1 Co1 Cr1 Fe1 Ni1\"], [\"Co1 Cr1 Fe1 Mo0.15 Ni1\"], [\"Co1 Cr1 Fe1 Mo0.15 Ni1\"], [\"Co1 Cr0.588 Fe0.176 Mo0.176 Ni1\"], [\"Co1 Cr1 Fe1 Mo0.15 Ni1\"], [\"Hf0.5 Nb0.667 Ta0.333 Ti1 Zr0.833\"], [\"Hf1 Nb1 Ta1 Ti1 Zr1\"], [\"Co1 Cr1 Fe1 Ni1\"], [\"Al0.167 Co1 Cr1 Fe1 Ni1 Ti0.083\"], [\"Hf1 Nb1 Ta1 Ti1 Zr1\"], [\"Hf1 Nb1 Ta1 Ti1 Zr1\"], [\"Co1 Cr1 Fe1 Ni1\"], [\"Co0.986 Cr0.952 Fe0.933 Mn0.914 Ni1\"], [\"Co1 Cr1 Fe1 Mn1 Ni1\"], [\"Hf0.5 Nb0.667 Ta0.333 Ti1 Zr0.833\"], [\"Al0.1 Co1 Cr1 Fe1 Ni1\"], [\"Co1 Cr1 Fe1 Mn1 Ni1\"], [\"Co1 Cr1 Fe1 Mo0.15 Ni1\"], [\"Co0.986 Cr0.952 Fe0.933 Mn0.914 Ni1\"], [\"Co1 Cr1 Fe1 Mn1 Ni1\"], [\"Co1 Cr1 Ni1\"], [\"Co1 Mn1 Ni1\"], [\"Co0.986 Cr0.952 Fe0.933 Mn0.914 Ni1\"], [\"C0.5 Co1 Cr1 Fe1 Mn1 Ni1\"], [\"Co1 Fe1 Mn1 Ni1\"], [\"Co1 Cr1 Fe1 Mo0.15 Ni1\"], [\"Co1 Cr1 Fe1 Mn1 Ni1\"], [\"Co1 Cr1 Fe1 Mn1 Ni1\"], [\"Co0.327 Cr0.227 Fe1 Mo0.136 Ni0.127\"], [\"Al0.3 Co1 Cr1 Fe1 Ni1\"], [\"Cr1 Cu1 Fe1 Mn1 Ni1\"], [\"Co1 Cr0.588 Fe0.176 Mo0.176 Ni1\"], [\"Co1 Cr1 Fe1 Mn1 Ni1\"], [\"Co1 Cr1 Fe1 Ni1 Ti0.2\"], [\"Hf0.5 Nb0.667 Ta0.333 Ti1 Zr0.833\"], [\"Co1 Cr0.25 Ni1\"], [\"Fe1 Mn1 Ni1\"], [\"Hf0.5 Nb0.667 Ta0.333 Ti1 Zr0.833\"], [\"Hf0.5 Nb0.667 Ta0.333 Ti1 Zr0.833\"], [\"Co0.318 Cr0.227 Fe1 Mo0.091 Ni0.182\"], [\"Co0.25 Cr1 Ni1\"], [\"Co0.986 Cr0.952 Fe0.933 Mn0.914 Ni1\"], [\"Co1 Cr1 Fe1 Mn1 Ni1\"], [\"Co0.2 Cu0.2 Fe0.2 Nb1 Ni0.2\"], [\"Co1 Ni1 V1\"], [\"Co1 Cr1 Fe1 Mn1 Ni1\"], [\"Al0.1 Co1 Cr1 Fe1 Ni1\"], [\"Co1 Mn1 Ni1\"], [\"Hf1 Nb1 Ta1 Ti1 Zr1\"], [\"Co1 Cr0.588 Fe0.176 Mo0.176 Ni1\"], [\"Co1 Cr1 Cu1 Fe1\"], [\"Al0.3 Co1 Cr1 Fe1 Ni1\"], [\"Al0.3 Co1 Cr1 Cu1 Fe1\"], [\"Al0.3 Co1 Cr1 Fe1 Mo0.1 Ni1\"], [\"Co1 Cr1 Fe1 Mn1 Ni1 Ta0.2\"], [\"Al0.5 Co1 Cr1 Cu1 Fe1\"], [\"Al0.5 Co1 Cr1 Fe1 Ni1\"], [\"Al0.8 Co1 Cr1 Cu1 Fe1\"], [\"Co1 Cr1 Cu1 Fe1 Ni1\"], [\"Co1 Cr1 Fe1 Mn1 Ni1 Ta0.4\"], [\"Nb1 Ti1 V1 Zr1\"], [\"Co1 Cr1 Fe1 Mn1 Ni1 Ta0.6\"], [\"Al0.5 Co1 Cr1 Fe1 Mn1 Ni1 Ta0.2\"], [\"Al1 Co1 Cr1 Cu1 Fe1\"], [\"Cr1 Nb1 Ti1 Zr1\"], [\"Al1 Co0.769 Cr0.769 Cu0.769 Fe0.769\"], [\"Al0.5 Co1 Cr1 Fe1 Mn1 Ni1 Ta0.4\"], [\"Al1 Co1 Cr1 Fe1 Ni1\"], [\"Al1 Co0.667 Cr0.667 Cu0.667 Fe0.667\"], [\"Al1 Nb1 Ti1 Zr1\"], [\"Al1 Co0.556 Cr0.556 Cu0.556 Fe0.556\"], [\"Al1 Co0.5 Cr0.5 Cu0.5 Fe0.5\"], [\"Al0.55 Co1 Cr1 Fe1 Mn1 Ni1 Ta0.6\"], [\"Al0.667 Li0.667 Mg0.333 Sc0.667 Ti1\"], [\"Al1 Co0.435 Cr0.435 Cu0.435 Fe0.435\"], [\"Al1 Co0.289 Cr0.158 Cu0.237 Fe0.816 Ni0.132\"], [\"Al1 Co0.4 Cr0.4 Cu0.4 Fe0.4\"], [\"Al0.5 Co1 Cr1 Fe1 Ni1 Ti0.5\"], [\"Al1 Co0.333 Cr0.333 Cu0.333 Fe0.333\"], [\"Al1 Co0.357 Cr0.357 Cu0.357 Fe0.357\"], [\"Al0.853 Co0.647 Cr1 Fe0.147 Ni0.294\"], [\"Al1 Co0.5 Cr1 Fe0.147 Ni0.294\"], [\"Al1 Co0.298 Cr0.319 Cu0.106 Fe0.277 Ni0.128\"], [\"Al1 Co0.5 Cr0.5 Fe0.5 Ni0.5\"], [\"Al0.5 Co1 Fe1 Ni1 Ti0.5\"], [\"Al1 Co0.149 Cr0.34 Cu0.191 Fe0.34 Ni0.106\"], [\"Al1 Co0.674 Cr0.419 Fe0.116 Ni0.116\"], [\"Al1 Co0.238 Cr0.714 Cu0.119 Fe0.167 Ni0.143\"], [\"Al1 Co0.278 Cr0.861 Cu0.167 Fe0.25 Ni0.222\"], [\"Al1 Co0.318 Cr0.5 Cu0.114 Fe0.205 Ni0.136\"], [\"Al1 Co0.349 Cr0.395 Cu0.116 Fe0.326 Ni0.14\"], [\"Al1 Co0.234 Cr0.468 Cu0.106 Fe0.213 Ni0.106\"], [\"Al1 Co0.277 Cr0.277 Cu0.106 Fe0.255 Ni0.213\"], [\"Al1 Co0.256 Cr0.795 Cu0.128 Fe0.205 Ni0.179\"], [\"Al1 Co0.277 Cr0.426 Cu0.106 Fe0.213 Ni0.106\"], [\"Al1 Co0.395 Cr0.349 Fe0.326 Ni0.256\"], [\"Al1 Co0.255 Cr0.255 Cu0.106 Fe0.277 Ni0.234\"], [\"Al1 Co0.304 Cr0.5 Cu0.109 Fe0.152 Ni0.109\"], [\"Al1 Co0.465 Cr0.442 Fe0.209 Ni0.209\"], [\"Al1 Co0.465 Cr0.488 Fe0.209 Ni0.163\"], [\"Al1 Co0.326 Cr0.488 Cu0.116 Fe0.279 Ni0.116\"], [\"Al1 Co0.457 Cr0.391 Cu0.109 Fe0.109 Ni0.109\"], [\"Al1 Co0.362 Cr0.34 Cu0.106 Fe0.213 Ni0.106\"], [\"Al1 Co0.255 Cr0.426 Cu0.106 Fe0.234 Ni0.106\"], [\"Al1 Co0.512 Cr0.581 Fe0.116 Ni0.116\"], [\"Al1 Co0.383 Cr0.319 Cu0.106 Fe0.213 Ni0.106\"], [\"Al1 Co0.442 Cr0.558 Fe0.186 Ni0.14\"], [\"Al1 Co0.442 Cr0.442 Fe0.256 Ni0.186\"], [\"Al1 Co0.298 Cr0.404 Cu0.106 Fe0.213 Ni0.106\"], [\"Al1 Co0.419 Cr0.558 Fe0.233 Ni0.116\"], [\"Al1 Co0.465 Cr0.512 Fe0.186 Ni0.163\"], [\"Al1 Co0.298 Cr0.426 Cu0.106 Fe0.191 Ni0.106\"], [\"Al1 Co0.535 Cr0.488 Fe0.186 Ni0.116\"], [\"Al1 Co0.419 Cr0.465 Fe0.279 Ni0.163\"], [\"Al1 Co0.581 Cr0.512 Fe0.116 Ni0.116\"], [\"Al1 Co0.581 Cr0.512 Fe0.116 Ni0.116\"], [\"Al1 Co0.558 Cr0.535 Fe0.116 Ni0.116\"], [\"Al1 Co0.558 Cr0.535 Fe0.116 Ni0.116\"], [\"Al1 Co0.558 Cr0.512 Fe0.116 Ni0.14\"], [\"Al1 Co0.404 Cr0.404 Cu0.106 Fe0.106 Ni0.106\"], [\"Al1 Co0.512 Cr0.512 Fe0.186 Ni0.116\"], [\"Al1 Co0.426 Cr0.383 Cu0.106 Fe0.106 Ni0.106\"], [\"Al1 Co0.512 Cr0.535 Fe0.163 Ni0.116\"], [\"Al0.511 Co0.511 Cr0.511 Fe0.511 Ni1\"], [\"Co1 Cr1 Fe1 Mn1\"], [\"Al0.465 Co0.465 Cr0.465 Fe0.465 Ni1\"], [\"Al1 Co1 Cr1 Cu1 Fe1 Ni1 Ti1\"], [\"Al0.451 Co0.451 Cr0.451 Fe0.451 Ni1\"], [\"Al0.511 Co0.511 Cr0.511 Fe0.511 Ni1\"], [\"Al1 Co1 Cu1 Fe1 Ni1 Ti1\"], [\"Al1 Cr1 Fe1 Ni1\"], [\"Al0.465 Co0.465 Cr0.465 Fe0.465 Ni1\"], [\"Al0.511 Co0.511 Cr0.511 Fe0.511 Ni1\"], [\"Al0.465 Co0.465 Cr0.465 Fe0.465 Ni1\"], [\"Al0.451 Co0.451 Cr0.451 Fe0.451 Ni1\"], [\"Al1 Co0.25 Cr1 Fe1 Ni1\"], [\"Al1 Co1 Cr1 Fe1 Ni1\"], [\"Al1 Co1 Cu1 Fe1 Ni1\"], [\"Al0.451 Co0.451 Cr0.451 Fe0.451 Ni1\"], [\"Al1 Co0.5 Cr1 Fe1 Ni1\"], [\"Al1 Co0.75 Cr1 Fe1 Ni1\"], [\"Al1 Co1 Cr1 Fe1 Ni1\"], [\"Al1 Co1 Cr1 Cu1 Fe1 Ni1\"], [\"Al0.5 Co1 Cr1 Fe1 Ni1 Ti0.5\"], [\"Al0.8 Co1 Cr1 Fe1 Ni1 Ti0.2\"], [\"Al0.304 Co1 Cr1 Fe1 Ni1\"], [\"Al1 Nb1 Ti1 V1 Zr0.5\"], [\"Al0.304 Co1 Cr1 Fe1 Ni1\"], [\"Al0.304 Co1 Cr1 Fe1 Ni1\"], [\"Al0.304 Co1 Cr1 Fe1 Ni1\"], [\"Al0.875 Co1 Cr1 Fe1 Ni1\"], [\"Al1 Co1 Cr1 Cu1 Ni1 Ti1\"], [\"Al0.1 Cr0.5 Cu0.5 Fe0.5 Ni1\"], [\"Al0.2 Cr0.5 Cu0.5 Fe0.5 Ni1\"], [\"Al0.3 Cr0.5 Cu0.5 Fe0.5 Ni1\"], [\"Al0.4 Cr0.5 Cu0.5 Fe0.5 Ni1\"], [\"Al0.6 Cr0.5 Cu0.5 Fe0.5 Ni1\"], [\"Al0.5 Cr0.5 Cu0.5 Fe0.5 Ni1\"], [\"Co1 Cr1 Fe1 Mn1 Ni1\"], [\"Co1 Cr1 Fe1 Mn1 Ni1\"], [\"Co1 Cr1 Fe1 Ni1\"], [\"Co1 Fe1 Ni1\"], [\"Co1 Cr1 Ni1\"], [\"Co1 Cr1 Ni1\"], [\"Co1 Cr1 Ni1\"], [\"Cr1 Fe1 Mn1 Ni1\"], [\"Co1 Cr1 Fe1 Ni1\"], [\"Al0.5 Co1 Cr1 Fe1 Mn1 Ni1\"], [\"Co1 Cr1 Fe1 Mn1 Ni1\"]], \"hoverlabel\": {\"namelength\": 0}, \"hovertemplate\": \"PROPERTY: Exp. Young modulus (GPa)=%{x}<br>PROPERTY: Calculated Young modulus (GPa)=%{y}<br>FORMULA=%{customdata[0]}\", \"legendgroup\": \"\", \"marker\": {\"color\": \"#1F77B4\", \"symbol\": \"circle\"}, \"mode\": \"markers\", \"name\": \"\", \"showlegend\": false, \"type\": \"scattergl\", \"x\": [null, null, null, null, null, null, null, null, null, null, null, null, null, null, null, null, null, null, null, null, null, null, null, null, null, null, null, null, null, null, null, null, null, null, null, null, null, null, null, null, null, null, null, null, null, null, null, null, null, null, null, null, null, null, null, null, null, null, null, null, null, null, null, null, null, null, null, null, null, null, null, null, null, null, null, null, null, null, null, null, null, null, null, null, null, null, null, null, null, null, null, null, null, null, null, null, null, null, null, null, null, null, null, null, null, null, null, null, null, null, null, null, null, null, null, null, null, null, null, null, null, null, null, null, null, null, null, null, null, null, null, null, null, null, null, null, null, null, null, null, null, null, null, null, null, null, null, null, null, null, null, null, null, null, null, null, null, null, null, null, null, null, null, null, null, null, null, null, null, null, null, null, null, null, null, null, null, null, null, null, null, null, null, null, null, null, null, null, null, null, null, null, null, null, null, null, null, null, null, null, null, null, null, null, null, null, null, null, null, null, null, null, null, null, null, null, null, null, null, null, null, null, null, null, null, null, null, null, null, null, null, null, null, null, null, null, null, null, null, null, null, null, null, null, null, null, null, null, null, null, null, null, null, null, null, null, null, null, null, null, null, null, null, null, null, null, null, null, null, null, null, null, null, null, null, null, null, null, null, null, null, null, null, null, null, null, null, null, null, null, null, null, null, null, null, null, null, null, null, 135.0, null, null, null, null, null, null, null, 37.0, null, null, null, null, null, null, null, null, null, null, null, null, null, null, null, null, null, null, null, null, null, null, null, null, null, null, null, null, null, null, null, null, null, null, null, null, null, null, null, null, null, null, null, null, null, null, null, null, null, null, null, null, null, null, null, null, null, null, null, null, null, null, null, null, null, null, null, null, null, null, null, null, null, null, null, null, null, null, null, null, null, null, null, null, null, null, null, null, null, null, null, null, null, null, null, null, null, null, null, 36.0, null, 38.0, null, null, null, null, null, null, null, null, null, null, null, null, null, null, null, null, null, null, null, null, null, null, null, null, null, null, null, null, null, null, null, null, null, null, null, null, null, null, null, null, 103.0, null, null, null, null, null, null, null, null, null, 75.0, null, null, null, null, null, 156.0, null, 181.0, null, null, null, null, null, null, null, 73.0, null, null, null, 137.0, null, null, null, 151.0, null, null, null, null, null, null, null, 213.0, null, null, null, null, null, null, null, null, null, null, null, null, null, null, null, null, null, null, null, null, null, null, null, null, null, null, null, null, 148.0, null, 107.0, 133.0, null, null, null, null, null, null, null, null, null, null, null, null, null, null, null, null, null, null, null, null, null, null, null, null, null, null, null, null, null, null, null, 161.0, null, null, null, null, null, null, null, null, null, null, null, null, 164.0, null, null, null, null, null, null, null, null, null, null, null, null, null, 93.0, null, null, null, null, null, null, null, null, null, null, null, null, 145.0, 145.0, 146.0, null, 115.0, null, null, null, null, null, null, null, null, 108.0, null, null, null, null, null, null, null, null, null, null, 103.0, null, null, null, null, null, null, null, null, null, null, null, null, null, null, null, null, null, 102.0, null, 157.0, null, null, null, 93.0, null, 109.0, null, null, null, null, null, null, null, null, null, null, 94.0, null, null, null, null, null, null, null, null, null, null, null, null, null, null, null, null, null, null, null, null, null, null, null, null, null, null, null, null, null, null, null, null, null, null, null, null, null, null, null, null, null, null, null, null, null, null, null, null, null, null, null, null, null, null, null, null, null, null, null, null, null, null, null, null, null, null, null, null, null, null, null, null, null, null, null, null, null, null, null, null, null, null, null, null, null, null, null, null, null, null, null, null, null, 127.0, 143.0, 55.0, null, null, null, null, null, null, null, null, null, null, null, null, null, null, null, null, null, null, null, null, null, null, null, null, 178.0, null, null, null, null, null, null, null, null, null, null, null, 98.0, 59.0, null, null, null, null, null, null, null, null, null, null, null, null, null, null, 96.0, null, 97.0, null, null, null, null, null, null, null, null, null, null, 102.0, null, 88.0, null, 63.0, null, null, null, null, null, null, null, null, null, null, null, null, null, null, null, null, null, null, null, null, null, null, 85.0, null, null, null, null, null, null, null, null, null, null, 164.0, null, 163.0, null, null, null, 107.8, 88.7, 74.0, null, null, 90.0, 114.1, null, 190.0, null, null, null, null, null, null, null, null, null, null, null, null, null, null, null, null, null, null, null, null, null, null, null, null, null, null, null, null, null, null, null, null, null, null, null, null, null, 91.5, 160.0, null, null, null, null, null, null, 78.4, null, null, null, null, 105.1, null, null, null, null, null, null, null, null, null, null, null, null, null, null, null, null, null, null, null, null, null, null, null, null, null, null, null, null, null, null, null, null, null, null, null, null, 105.3, null, null, 91.6, null, null, null, null, null, null, null, null, null, null, null, null, null, null, 109.1, null, null, null, null, null, null, null, null, null, null, 99.2, null, null, null, null, null, null, null, null, null, null, null, null, null, null, null, null, null, null, null, null, 92.6, null, null, null, null, null, null, null, null, null, null, null, 92.6, null, null, null, null, null, null, 101.3, null, null, null, null, null, null, null, null, null, null, null, null, null, null, null, null, null, null, null, null, null, null, 184.0, null, null, null, null, null, null, null, null, null, null, null, null, null, null, null, null, null, null, null, null, null, null, null, null, null, null, null, null, null, null, null, null, null, null, null, null, null, null, null, null, null, null, null, null, null, null, null, null, null, null, null, null, null, null, null, null, null, null, null, null, null, null, null, null, null, null, null, null, null, null, null, null, null, null, null, null, null, null, null, null, null, null, null, null, null, null, null, null, null, null, null, null, 182.0, null, null, null, null, 182.0, 16.6, null, null, null, null, null, null, null, null, null, null, null, null, 182.0, null, null, null, null, null, null, null, 190.0, null, null, 51.4, 182.0, null, null, null, null, null, 80.2, 80.4, 83.1, 86.5, 86.7, 86.9, null, 83.5, null, 83.8, null, null, 84.2, 84.5, 80.0, 86.3, 85.2, 85.5, 85.8, null, 86.1, null, null, 219.0, null, null, null, 77.4, 161.0, 69.7, 84.9, null, 79.8, 79.0, null, null, null, null, null, null, null, 47.0, null, 87.3, 87.7, 87.5, 87.9, 88.1, 79.6, 88.4, 88.9, 87.1, 80.7, 81.0, 81.3, 81.6, 81.9, 82.3, 82.7, 79.3, 77.7, 78.1, 78.4, 78.7, 88.6, null, null, null, null, null, null, null, null, null, null, null, 190.0, null, null, null, 210.0, null, null, null, null, null, null, null, 223.0, null, 182.0, null, null, null, null, null, null, null, null, null, null, null, null, null, 240.0, null, null, null, null, null, null, null, null, null, null, null, null, null, null, null, 210.0, null, 240.0, null, 189.0, 221.0, null, null, null, null, 190.0, null, null, 194.0, null, 223.0, null, null, null, null, null, null, 240.0, 210.0, 223.0, null, null, null, 210.0, null, null, 204.0, null, null, null, null, null, null, null, null, null, null, null, null, null, null, null, null, null, null, null, null, null, null, null, null, null, null, null, 182.0, null, null, null, null, null, null, null, null, null, null, null, null, 35.2, null, null, null, null, null, null, null, null, null, null, null, null, null, null, null, null, null, null, 210.0, null, null, null, null, null, null, null, null, null, 190.0, null, null, null, null, null, null, null, null, null, null, null, null, null, 223.0, null, null, null, null, 240.0, null, null, null, null, null, null, null, null, null, null, null, null, null, null, null, null, null, null, null, null, null, null, null, null, null, null, null, null, null, null, null, null, null, null, null, null, null, null, null, null, null, null, null, null, null, null, null, null, null, null, null, null, null, null, null, null, null, null, null, null, null, null, null, null, null, null, null, null, null, null, null, null, null, null, null, null, null, null, null, null, null, null, null, null, null, null, null, null, null, null, null, null, null, null, null, null, null, null, null, null, null, null, null, null, null, null, null, null, null, null, 36.0, null, null, null, null, null, null, 202.0, 202.2, 204.0, 174.0, 222.0, 229.0, 234.0, null, null, null, null], \"xaxis\": \"x\", \"y\": [null, 160.0, 104.0, null, 160.0, 179.0, 198.0, 186.0, 104.0, 179.0, 177.0, null, null, null, 104.0, null, 177.0, 201.0, null, null, 184.0, null, 119.0, 179.0, 151.0, 151.0, null, null, 219.0, 170.0, null, 171.0, 104.0, 198.0, 179.0, 188.0, 179.0, 198.0, null, 119.0, 198.0, null, null, 171.0, 119.0, null, 189.0, null, 179.0, null, null, 179.0, 198.0, null, 196.0, null, 189.0, 179.0, 189.0, null, 151.0, 100.0, null, 196.0, 222.0, 119.0, null, null, 119.0, null, null, 96.0, 179.0, 198.0, 170.0, 104.0, 189.0, null, 170.0, 102.0, null, null, 198.0, null, null, 104.0, 151.0, 151.0, 119.0, 232.0, null, null, 185.0, null, 232.0, null, 232.0, 232.0, 232.0, null, null, null, null, 232.0, null, null, 232.0, null, null, null, null, null, 185.0, 185.0, 185.0, null, null, null, null, null, 128.0, 185.0, null, 185.0, 185.0, 185.0, 232.0, null, 95.0, 185.0, null, 232.0, null, null, 189.0, 189.0, null, 104.0, 170.0, 104.0, null, null, null, 151.0, null, null, 189.0, 189.0, null, null, 198.0, 151.0, null, null, 119.0, 250.0, 250.0, 185.0, null, null, null, 128.0, 128.0, 128.0, 250.0, 232.0, null, null, 214.0, 226.0, null, 220.0, null, null, 196.0, null, null, 119.0, 130.0, null, null, null, null, null, null, null, null, null, 112.0, 122.0, null, 119.0, null, 114.0, 196.0, 207.0, null, null, 210.0, 220.0, null, null, 220.0, 150.0, null, null, null, null, null, null, null, null, 122.0, null, null, 130.0, 207.0, null, null, null, null, null, null, null, null, 142.0, null, 159.0, 210.0, null, null, 94.0, 210.0, 141.0, 196.0, 179.0, null, null, 161.0, 169.0, 95.0, null, null, null, null, null, null, null, null, null, null, 95.0, null, null, null, null, 213.0, null, null, 153.0, 89.0, null, null, 226.0, 226.0, null, null, null, null, 156.0, null, 213.0, null, null, null, null, null, null, 189.0, 204.0, 165.0, 189.0, 196.0, null, 226.0, null, 189.0, null, 250.0, 250.0, 184.0, null, 220.0, null, 226.0, null, null, null, null, 195.0, null, 202.0, 226.0, 202.0, 202.0, 202.0, 192.0, null, null, 126.0, 126.0, 212.0, null, 232.0, null, null, null, null, 170.0, null, null, null, null, null, null, null, 206.0, null, null, null, 89.0, 94.0, 94.0, 89.0, null, null, 212.0, null, 250.0, 140.0, 128.0, null, 234.0, 194.0, null, 187.0, 139.0, 137.0, 170.0, 138.0, null, null, 210.0, null, 141.0, 229.0, 143.0, null, 170.0, null, null, null, null, null, 141.0, null, null, null, 229.0, null, null, null, null, 212.0, 155.0, null, 202.0, null, null, null, null, 143.0, null, null, null, 229.0, 250.0, 250.0, 229.0, null, null, null, null, null, 142.0, null, 202.0, 141.0, null, null, 142.0, null, 143.0, 137.0, 143.0, 137.0, null, null, 250.0, null, 221.0, 189.0, null, 155.0, 209.0, 171.0, null, 122.0, null, 107.0, 156.0, null, 137.0, 137.0, 107.0, 155.0, 222.0, 107.0, 222.0, 122.0, 169.0, 209.0, 209.0, 209.0, 209.0, null, null, 222.0, 209.0, 209.0, 137.0, 107.0, 222.0, 155.0, null, null, 128.0, 107.0, 120.0, 120.0, 189.0, 141.0, 128.0, null, 122.0, 250.0, 141.0, 137.0, 127.0, 184.0, null, 183.0, 134.0, null, 143.0, 184.0, null, 115.0, null, 134.0, 120.0, 184.0, 156.0, 189.0, 122.0, 122.0, null, 143.0, 130.0, 143.0, null, 89.0, 107.0, 107.0, null, 209.0, 141.0, null, null, null, 126.0, 126.0, null, 173.0, 134.0, 176.0, 156.0, 128.0, 222.0, null, null, null, 156.0, 220.0, null, 189.0, null, null, null, null, null, null, 141.0, 128.0, 156.0, null, null, 128.0, null, null, 187.0, null, null, null, null, 185.0, null, null, null, 156.0, null, 189.0, null, null, null, null, null, null, null, null, null, null, null, null, 137.0, 137.0, null, 156.0, null, null, 128.0, null, 222.0, 222.0, 122.0, 143.0, null, null, null, 222.0, 156.0, 128.0, null, null, null, 155.0, 126.0, 126.0, null, null, 189.0, null, 231.0, null, 143.0, 143.0, 162.0, 189.0, 189.0, 189.0, 188.0, null, null, 194.0, 226.0, 182.0, null, 137.0, 145.0, 222.0, 151.0, null, null, null, null, null, 131.0, 131.0, 137.0, 151.0, 137.0, null, null, null, null, null, null, null, 229.0, 122.0, 147.0, null, 180.0, 219.0, null, 143.0, 184.0, null, null, 228.0, null, 167.0, null, 222.0, null, null, 250.0, 162.0, null, 120.0, null, 161.0, null, null, null, null, 298.0, 242.0, 123.0, 234.0, null, null, 152.0, 156.0, null, null, 130.0, null, null, 162.0, null, null, null, null, null, null, null, null, null, null, null, null, null, null, null, null, null, null, null, null, null, null, null, 208.0, null, null, 204.0, null, null, null, null, null, null, null, null, null, null, null, null, null, null, 175.0, null, 177.0, null, null, null, null, null, 171.0, null, null, null, 174.0, 212.0, null, null, null, null, null, null, null, null, null, null, null, 217.0, null, 172.0, null, 160.0, null, null, null, 189.0, null, null, 189.0, 185.0, null, null, null, null, 184.0, null, null, null, 238.0, null, null, 236.0, null, null, 119.0, 185.0, null, null, 167.0, null, 206.0, null, null, 136.0, 107.0, 189.0, null, 169.0, 210.0, 207.0, 207.0, 195.0, 220.0, 210.0, 192.0, 220.0, 210.0, 167.0, 186.0, 215.0, 189.0, null, null, 210.0, 173.0, 226.0, 212.0, 215.0, 220.0, null, null, 216.0, 205.0, null, 210.0, 187.0, 186.0, null, 179.0, 201.0, null, 115.0, 107.0, null, null, null, null, 105.0, 94.0, null, null, null, null, null, null, null, null, 115.0, 201.0, 104.0, null, 171.0, null, null, null, null, null, null, null, null, 103.0, 184.0, 94.0, null, 105.0, null, null, null, null, 103.0, null, null, null, 101.0, 101.0, 101.0, null, 100.0, null, null, 182.0, 100.0, 100.0, null, null, null, 100.0, 107.0, 100.0, 100.0, 100.0, null, null, null, 89.0, 100.0, null, null, null, null, null, 128.0, null, null, 72.0, 73.0, null, null, null, null, 73.0, 170.0, 174.0, null, 185.0, 170.0, null, null, null, 129.0, null, null, null, null, null, null, null, null, null, null, null, null, null, null, 119.0, null, null, null, null, null, 170.0, null, null, null, null, 137.0, null, null, 204.0, null, 107.0, null, null, null, null, null, 229.0, null, 75.0, 229.0, 206.0, null, null, null, 143.0, null, null, 109.0, 110.0, null, 229.0, null, null, null, null, null, null, 107.0, 105.0, 250.0, null, 105.0, 107.0, 107.0, 107.0, 100.0, 107.0, 107.0, 177.0, 107.0, null, 105.0, null, null, null, 250.0, null, 177.0, 107.0, null, 107.0, 229.0, null, 107.0, 107.0, null, 107.0, 107.0, null, 110.0, null, null, 229.0, 107.0, 101.0, null, 100.0, 110.0, 107.0, null, 105.0, null, 105.0, 94.0, null, 107.0, 250.0, null, null, 107.0, null, 109.0, 107.0, null, null, 94.0, 94.0, 177.0, null, null, null, 107.0, 107.0, null, 107.0, 101.0, null, null, null, 100.0, 107.0, null, 107.0, 105.0, null, null, null, null, null, null, 109.0, 107.0, 107.0, 101.0, 107.0, 107.0, null, null, 105.0, 107.0, null, null, 100.0, 107.0, null, null, null, 250.0, null, null, null, 134.0, null, null, 134.0, null, null, null, null, null, null, 250.0, null, null, null, null, null, null, null, null, null, null, 250.0, null, null, null, null, 250.0, null, null, 229.0, null, null, null, null, null, null, null, null, null, null, null, 220.0, null, null, null, null, null, null, 181.0, 220.0, 226.0, null, null, null, null, null, null, null, null, 134.0, null, null, null, null, null, 102.0, 250.0, null, 181.0, null, null, null, 181.0, null, null, null, null, null, null, null, null, null, null, null, null, null, null, 181.0, null, null, 250.0, null, null, null, 207.0, null, 214.0, null, null, null, 220.0, 214.0, null, null, 203.0, 100.0, null, 100.0, null, 203.0, 200.0, null, null, null, null, 100.0, 195.0, null, null, null, null, null, null, 203.0, 107.0, 100.0, 100.0, 185.0, null, null, null, 202.0, 220.0, 100.0, null, 203.0, null, 107.0, null, 107.0, null, 107.0, 107.0, 107.0, 107.0, 107.0, 107.0, 220.0, 107.0, null, 107.0, null, null, 107.0, 107.0, 107.0, 107.0, 107.0, 107.0, 107.0, null, 107.0, null, 210.0, 207.0, 220.0, null, null, 107.0, 207.0, 89.0, 107.0, 100.0, 107.0, 107.0, 231.0, null, 107.0, 231.0, null, 213.0, 212.0, null, 212.0, 107.0, 107.0, 107.0, 107.0, 107.0, 107.0, 107.0, 107.0, 107.0, 107.0, 107.0, 107.0, 107.0, 107.0, 107.0, 107.0, 107.0, 107.0, 107.0, 107.0, 107.0, 107.0, null, 226.0, null, 136.0, 208.0, 92.0, 220.0, 136.0, 136.0, 220.0, 136.0, 202.0, 136.0, 208.0, 136.0, 226.0, 136.0, null, 207.0, 208.0, 136.0, 220.0, 100.0, 213.0, 208.0, 203.0, 220.0, 220.0, null, 220.0, 222.0, 207.0, null, null, null, 220.0, 218.0, null, null, 238.0, 220.0, 207.0, 220.0, null, null, 220.0, 195.0, 208.0, null, 231.0, 212.0, 226.0, 210.0, 210.0, null, 226.0, null, 238.0, null, 226.0, 226.0, null, 231.0, 220.0, null, 202.0, 234.0, 220.0, 226.0, 220.0, 213.0, null, null, 212.0, 220.0, 220.0, null, 238.0, 226.0, 213.0, 220.0, null, null, 226.0, 220.0, 231.0, 226.0, null, 219.0, 222.0, null, 210.0, 100.0, null, 220.0, null, 207.0, 220.0, null, 107.0, null, null, 100.0, null, 220.0, 231.0, 100.0, null, 100.0, null, 212.0, 107.0, null, 220.0, 203.0, 100.0, null, null, 220.0, 213.0, 107.0, null, 195.0, null, 189.0, 195.0, 189.0, null, null, 100.0, 100.0, 100.0, 209.0, 231.0, 212.0, 220.0, null, 231.0, 231.0, 231.0, 100.0, 107.0, 226.0, null, 107.0, 107.0, 226.0, null, 220.0, 100.0, 220.0, 220.0, null, 220.0, 220.0, 231.0, 202.0, null, null, 204.0, null, 220.0, 220.0, null, null, null, 231.0, 220.0, 218.0, 100.0, 213.0, 203.0, 100.0, 100.0, null, 238.0, null, 220.0, null, null, 220.0, 220.0, 202.0, 107.0, 231.0, 208.0, 210.0, 194.0, 214.0, null, 187.0, null, null, 206.0, null, null, null, null, null, null, null, null, 184.0, null, null, null, null, null, null, null, null, null, null, 136.0, 139.0, null, null, null, 160.0, 169.0, null, null, null, null, null, null, null, null, null, null, null, null, null, null, null, null, null, null, null, null, null, null, null, null, null, null, null, null, null, null, null, null, null, null, null, null, null, null, null, null, null, null, null, null, null, null, null, null, null, null, null, null, null, null, null, null, null, null, null, null, null, null, null, null, 210.0, null, 157.0, 197.0, 190.0, 185.0, 179.0, null, null, null, null, null, null, null, null, null, 222.0, 226.0, null, null], \"yaxis\": \"y\"}],\n",
       "                        {\"font\": {\"family\": \"Barlow Semi Condensed\", \"size\": 28}, \"height\": 800, \"legend\": {\"tracegroupgap\": 0}, \"margin\": {\"t\": 60}, \"showlegend\": false, \"template\": {\"data\": {\"bar\": [{\"error_x\": {\"color\": \"rgb(36,36,36)\"}, \"error_y\": {\"color\": \"rgb(36,36,36)\"}, \"marker\": {\"line\": {\"color\": \"white\", \"width\": 0.5}}, \"type\": \"bar\"}], \"barpolar\": [{\"marker\": {\"line\": {\"color\": \"white\", \"width\": 0.5}}, \"type\": \"barpolar\"}], \"carpet\": [{\"aaxis\": {\"endlinecolor\": \"rgb(36,36,36)\", \"gridcolor\": \"white\", \"linecolor\": \"white\", \"minorgridcolor\": \"white\", \"startlinecolor\": \"rgb(36,36,36)\"}, \"baxis\": {\"endlinecolor\": \"rgb(36,36,36)\", \"gridcolor\": \"white\", \"linecolor\": \"white\", \"minorgridcolor\": \"white\", \"startlinecolor\": \"rgb(36,36,36)\"}, \"type\": \"carpet\"}], \"choropleth\": [{\"colorbar\": {\"outlinewidth\": 1, \"tickcolor\": \"rgb(36,36,36)\", \"ticks\": \"outside\"}, \"type\": \"choropleth\"}], \"contour\": [{\"colorbar\": {\"outlinewidth\": 1, \"tickcolor\": \"rgb(36,36,36)\", \"ticks\": \"outside\"}, \"colorscale\": [[0.0, \"#440154\"], [0.1111111111111111, \"#482878\"], [0.2222222222222222, \"#3e4989\"], [0.3333333333333333, \"#31688e\"], [0.4444444444444444, \"#26828e\"], [0.5555555555555556, \"#1f9e89\"], [0.6666666666666666, \"#35b779\"], [0.7777777777777778, \"#6ece58\"], [0.8888888888888888, \"#b5de2b\"], [1.0, \"#fde725\"]], \"type\": \"contour\"}], \"contourcarpet\": [{\"colorbar\": {\"outlinewidth\": 1, \"tickcolor\": \"rgb(36,36,36)\", \"ticks\": \"outside\"}, \"type\": \"contourcarpet\"}], \"heatmap\": [{\"colorbar\": {\"outlinewidth\": 1, \"tickcolor\": \"rgb(36,36,36)\", \"ticks\": \"outside\"}, \"colorscale\": [[0.0, \"#440154\"], [0.1111111111111111, \"#482878\"], [0.2222222222222222, \"#3e4989\"], [0.3333333333333333, \"#31688e\"], [0.4444444444444444, \"#26828e\"], [0.5555555555555556, \"#1f9e89\"], [0.6666666666666666, \"#35b779\"], [0.7777777777777778, \"#6ece58\"], [0.8888888888888888, \"#b5de2b\"], [1.0, \"#fde725\"]], \"type\": \"heatmap\"}], \"heatmapgl\": [{\"colorbar\": {\"outlinewidth\": 1, \"tickcolor\": \"rgb(36,36,36)\", \"ticks\": \"outside\"}, \"colorscale\": [[0.0, \"#440154\"], [0.1111111111111111, \"#482878\"], [0.2222222222222222, \"#3e4989\"], [0.3333333333333333, \"#31688e\"], [0.4444444444444444, \"#26828e\"], [0.5555555555555556, \"#1f9e89\"], [0.6666666666666666, \"#35b779\"], [0.7777777777777778, \"#6ece58\"], [0.8888888888888888, \"#b5de2b\"], [1.0, \"#fde725\"]], \"type\": \"heatmapgl\"}], \"histogram\": [{\"marker\": {\"line\": {\"color\": \"white\", \"width\": 0.6}}, \"type\": \"histogram\"}], \"histogram2d\": [{\"colorbar\": {\"outlinewidth\": 1, \"tickcolor\": \"rgb(36,36,36)\", \"ticks\": \"outside\"}, \"colorscale\": [[0.0, \"#440154\"], [0.1111111111111111, \"#482878\"], [0.2222222222222222, \"#3e4989\"], [0.3333333333333333, \"#31688e\"], [0.4444444444444444, \"#26828e\"], [0.5555555555555556, \"#1f9e89\"], [0.6666666666666666, \"#35b779\"], [0.7777777777777778, \"#6ece58\"], [0.8888888888888888, \"#b5de2b\"], [1.0, \"#fde725\"]], \"type\": \"histogram2d\"}], \"histogram2dcontour\": [{\"colorbar\": {\"outlinewidth\": 1, \"tickcolor\": \"rgb(36,36,36)\", \"ticks\": \"outside\"}, \"colorscale\": [[0.0, \"#440154\"], [0.1111111111111111, \"#482878\"], [0.2222222222222222, \"#3e4989\"], [0.3333333333333333, \"#31688e\"], [0.4444444444444444, \"#26828e\"], [0.5555555555555556, \"#1f9e89\"], [0.6666666666666666, \"#35b779\"], [0.7777777777777778, \"#6ece58\"], [0.8888888888888888, \"#b5de2b\"], [1.0, \"#fde725\"]], \"type\": \"histogram2dcontour\"}], \"mesh3d\": [{\"colorbar\": {\"outlinewidth\": 1, \"tickcolor\": \"rgb(36,36,36)\", \"ticks\": \"outside\"}, \"type\": \"mesh3d\"}], \"parcoords\": [{\"line\": {\"colorbar\": {\"outlinewidth\": 1, \"tickcolor\": \"rgb(36,36,36)\", \"ticks\": \"outside\"}}, \"type\": \"parcoords\"}], \"pie\": [{\"automargin\": true, \"type\": \"pie\"}], \"scatter\": [{\"marker\": {\"colorbar\": {\"outlinewidth\": 1, \"tickcolor\": \"rgb(36,36,36)\", \"ticks\": \"outside\"}}, \"type\": \"scatter\"}], \"scatter3d\": [{\"line\": {\"colorbar\": {\"outlinewidth\": 1, \"tickcolor\": \"rgb(36,36,36)\", \"ticks\": \"outside\"}}, \"marker\": {\"colorbar\": {\"outlinewidth\": 1, \"tickcolor\": \"rgb(36,36,36)\", \"ticks\": \"outside\"}}, \"type\": \"scatter3d\"}], \"scattercarpet\": [{\"marker\": {\"colorbar\": {\"outlinewidth\": 1, \"tickcolor\": \"rgb(36,36,36)\", \"ticks\": \"outside\"}}, \"type\": \"scattercarpet\"}], \"scattergeo\": [{\"marker\": {\"colorbar\": {\"outlinewidth\": 1, \"tickcolor\": \"rgb(36,36,36)\", \"ticks\": \"outside\"}}, \"type\": \"scattergeo\"}], \"scattergl\": [{\"marker\": {\"colorbar\": {\"outlinewidth\": 1, \"tickcolor\": \"rgb(36,36,36)\", \"ticks\": \"outside\"}}, \"type\": \"scattergl\"}], \"scattermapbox\": [{\"marker\": {\"colorbar\": {\"outlinewidth\": 1, \"tickcolor\": \"rgb(36,36,36)\", \"ticks\": \"outside\"}}, \"type\": \"scattermapbox\"}], \"scatterpolar\": [{\"marker\": {\"colorbar\": {\"outlinewidth\": 1, \"tickcolor\": \"rgb(36,36,36)\", \"ticks\": \"outside\"}}, \"type\": \"scatterpolar\"}], \"scatterpolargl\": [{\"marker\": {\"colorbar\": {\"outlinewidth\": 1, \"tickcolor\": \"rgb(36,36,36)\", \"ticks\": \"outside\"}}, \"type\": \"scatterpolargl\"}], \"scatterternary\": [{\"marker\": {\"colorbar\": {\"outlinewidth\": 1, \"tickcolor\": \"rgb(36,36,36)\", \"ticks\": \"outside\"}}, \"type\": \"scatterternary\"}], \"surface\": [{\"colorbar\": {\"outlinewidth\": 1, \"tickcolor\": \"rgb(36,36,36)\", \"ticks\": \"outside\"}, \"colorscale\": [[0.0, \"#440154\"], [0.1111111111111111, \"#482878\"], [0.2222222222222222, \"#3e4989\"], [0.3333333333333333, \"#31688e\"], [0.4444444444444444, \"#26828e\"], [0.5555555555555556, \"#1f9e89\"], [0.6666666666666666, \"#35b779\"], [0.7777777777777778, \"#6ece58\"], [0.8888888888888888, \"#b5de2b\"], [1.0, \"#fde725\"]], \"type\": \"surface\"}], \"table\": [{\"cells\": {\"fill\": {\"color\": \"rgb(237,237,237)\"}, \"line\": {\"color\": \"white\"}}, \"header\": {\"fill\": {\"color\": \"rgb(217,217,217)\"}, \"line\": {\"color\": \"white\"}}, \"type\": \"table\"}]}, \"layout\": {\"annotationdefaults\": {\"arrowhead\": 0, \"arrowwidth\": 1}, \"coloraxis\": {\"colorbar\": {\"outlinewidth\": 1, \"tickcolor\": \"rgb(36,36,36)\", \"ticks\": \"outside\"}}, \"colorscale\": {\"diverging\": [[0.0, \"rgb(103,0,31)\"], [0.1, \"rgb(178,24,43)\"], [0.2, \"rgb(214,96,77)\"], [0.3, \"rgb(244,165,130)\"], [0.4, \"rgb(253,219,199)\"], [0.5, \"rgb(247,247,247)\"], [0.6, \"rgb(209,229,240)\"], [0.7, \"rgb(146,197,222)\"], [0.8, \"rgb(67,147,195)\"], [0.9, \"rgb(33,102,172)\"], [1.0, \"rgb(5,48,97)\"]], \"sequential\": [[0.0, \"#440154\"], [0.1111111111111111, \"#482878\"], [0.2222222222222222, \"#3e4989\"], [0.3333333333333333, \"#31688e\"], [0.4444444444444444, \"#26828e\"], [0.5555555555555556, \"#1f9e89\"], [0.6666666666666666, \"#35b779\"], [0.7777777777777778, \"#6ece58\"], [0.8888888888888888, \"#b5de2b\"], [1.0, \"#fde725\"]], \"sequentialminus\": [[0.0, \"#440154\"], [0.1111111111111111, \"#482878\"], [0.2222222222222222, \"#3e4989\"], [0.3333333333333333, \"#31688e\"], [0.4444444444444444, \"#26828e\"], [0.5555555555555556, \"#1f9e89\"], [0.6666666666666666, \"#35b779\"], [0.7777777777777778, \"#6ece58\"], [0.8888888888888888, \"#b5de2b\"], [1.0, \"#fde725\"]]}, \"colorway\": [\"#1F77B4\", \"#FF7F0E\", \"#2CA02C\", \"#D62728\", \"#9467BD\", \"#8C564B\", \"#E377C2\", \"#7F7F7F\", \"#BCBD22\", \"#17BECF\"], \"font\": {\"color\": \"rgb(36,36,36)\"}, \"geo\": {\"bgcolor\": \"white\", \"lakecolor\": \"white\", \"landcolor\": \"white\", \"showlakes\": true, \"showland\": true, \"subunitcolor\": \"white\"}, \"hoverlabel\": {\"align\": \"left\"}, \"hovermode\": \"closest\", \"mapbox\": {\"style\": \"light\"}, \"paper_bgcolor\": \"white\", \"plot_bgcolor\": \"white\", \"polar\": {\"angularaxis\": {\"gridcolor\": \"rgb(232,232,232)\", \"linecolor\": \"rgb(36,36,36)\", \"showgrid\": false, \"showline\": true, \"ticks\": \"outside\"}, \"bgcolor\": \"white\", \"radialaxis\": {\"gridcolor\": \"rgb(232,232,232)\", \"linecolor\": \"rgb(36,36,36)\", \"showgrid\": false, \"showline\": true, \"ticks\": \"outside\"}}, \"scene\": {\"xaxis\": {\"backgroundcolor\": \"white\", \"gridcolor\": \"rgb(232,232,232)\", \"gridwidth\": 2, \"linecolor\": \"rgb(36,36,36)\", \"showbackground\": true, \"showgrid\": false, \"showline\": true, \"ticks\": \"outside\", \"zeroline\": false, \"zerolinecolor\": \"rgb(36,36,36)\"}, \"yaxis\": {\"backgroundcolor\": \"white\", \"gridcolor\": \"rgb(232,232,232)\", \"gridwidth\": 2, \"linecolor\": \"rgb(36,36,36)\", \"showbackground\": true, \"showgrid\": false, \"showline\": true, \"ticks\": \"outside\", \"zeroline\": false, \"zerolinecolor\": \"rgb(36,36,36)\"}, \"zaxis\": {\"backgroundcolor\": \"white\", \"gridcolor\": \"rgb(232,232,232)\", \"gridwidth\": 2, \"linecolor\": \"rgb(36,36,36)\", \"showbackground\": true, \"showgrid\": false, \"showline\": true, \"ticks\": \"outside\", \"zeroline\": false, \"zerolinecolor\": \"rgb(36,36,36)\"}}, \"shapedefaults\": {\"fillcolor\": \"black\", \"line\": {\"width\": 0}, \"opacity\": 0.3}, \"ternary\": {\"aaxis\": {\"gridcolor\": \"rgb(232,232,232)\", \"linecolor\": \"rgb(36,36,36)\", \"showgrid\": false, \"showline\": true, \"ticks\": \"outside\"}, \"baxis\": {\"gridcolor\": \"rgb(232,232,232)\", \"linecolor\": \"rgb(36,36,36)\", \"showgrid\": false, \"showline\": true, \"ticks\": \"outside\"}, \"bgcolor\": \"white\", \"caxis\": {\"gridcolor\": \"rgb(232,232,232)\", \"linecolor\": \"rgb(36,36,36)\", \"showgrid\": false, \"showline\": true, \"ticks\": \"outside\"}}, \"title\": {\"x\": 0.05}, \"xaxis\": {\"automargin\": true, \"gridcolor\": \"rgb(232,232,232)\", \"linecolor\": \"rgb(36,36,36)\", \"showgrid\": false, \"showline\": true, \"ticks\": \"outside\", \"title\": {\"standoff\": 15}, \"zeroline\": false, \"zerolinecolor\": \"rgb(36,36,36)\"}, \"yaxis\": {\"automargin\": true, \"gridcolor\": \"rgb(232,232,232)\", \"linecolor\": \"rgb(36,36,36)\", \"showgrid\": false, \"showline\": true, \"ticks\": \"outside\", \"title\": {\"standoff\": 15}, \"zeroline\": false, \"zerolinecolor\": \"rgb(36,36,36)\"}}}, \"width\": 1000, \"xaxis\": {\"anchor\": \"y\", \"domain\": [0.0, 1.0], \"title\": {\"text\": \"PROPERTY: Exp. Young modulus (GPa)\"}}, \"yaxis\": {\"anchor\": \"x\", \"domain\": [0.0, 1.0], \"title\": {\"text\": \"PROPERTY: Calculated Young modulus (GPa)\"}}},\n",
       "                        {\"responsive\": true}\n",
       "                    ).then(function(){\n",
       "                            \n",
       "var gd = document.getElementById('3aaacf20-6d80-466d-8522-562e8cf688f7');\n",
       "var x = new MutationObserver(function (mutations, observer) {{\n",
       "        var display = window.getComputedStyle(gd).display;\n",
       "        if (!display || display === 'none') {{\n",
       "            console.log([gd, 'removed!']);\n",
       "            Plotly.purge(gd);\n",
       "            observer.disconnect();\n",
       "        }}\n",
       "}});\n",
       "\n",
       "// Listen for the removal of the full notebook cells\n",
       "var notebookContainer = gd.closest('#notebook-container');\n",
       "if (notebookContainer) {{\n",
       "    x.observe(notebookContainer, {childList: true});\n",
       "}}\n",
       "\n",
       "// Listen for the clearing of the current output cell\n",
       "var outputEl = gd.closest('.output');\n",
       "if (outputEl) {{\n",
       "    x.observe(outputEl, {childList: true});\n",
       "}}\n",
       "\n",
       "                        })\n",
       "                };\n",
       "                });\n",
       "            </script>\n",
       "        </div>"
      ]
     },
     "metadata": {},
     "output_type": "display_data"
    }
   ],
   "source": [
    "pio.templates.default = \"simple_white\"\n",
    "\n",
    "prop = 'PROPERTY: UTS (MPa)'\n",
    "\n",
    "#fig = px.scatter(df, prop, 'PROPERTY: YS (MPa)', hover_data=['FORMULA'])\n",
    "fig = px.scatter(df, 'PROPERTY: Exp. Young modulus (GPa)', 'PROPERTY: Calculated Young modulus (GPa)', hover_data=['FORMULA'])\n",
    "\n",
    "#fig.add_trace(go.Scatter(x=[0, 4000], y=[0, 4000]))\n",
    "fig.update_layout(font=dict(family=\"Barlow Semi Condensed\", size=28)) \n",
    "fig.update_layout(showlegend=False)\n",
    "fig.update_layout(width=1000, height=800)\n",
    "fig.show()"
   ]
  },
  {
   "cell_type": "code",
   "execution_count": null,
   "metadata": {},
   "outputs": [],
   "source": []
  }
 ],
 "metadata": {
  "kernelspec": {
   "display_name": "Python 3",
   "language": "python",
   "name": "python3"
  },
  "language_info": {
   "codemirror_mode": {
    "name": "ipython",
    "version": 3
   },
   "file_extension": ".py",
   "mimetype": "text/x-python",
   "name": "python",
   "nbconvert_exporter": "python",
   "pygments_lexer": "ipython3",
   "version": "3.7.3"
  }
 },
 "nbformat": 4,
 "nbformat_minor": 4
}
