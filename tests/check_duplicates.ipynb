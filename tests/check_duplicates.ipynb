{
 "cells": [
  {
   "cell_type": "markdown",
   "metadata": {},
   "source": [
    "# This notebook helps identify potential duplicate data recorded in the database."
   ]
  },
  {
   "cell_type": "code",
   "execution_count": 1,
   "metadata": {},
   "outputs": [
    {
     "name": "stdout",
     "output_type": "stream",
     "text": [
      "('(CoNi)80Cr20', '10.1016/j.actamat.2019.04.017', 'CR + A', 25.0) 4 [25.0, 25.0, 25.0, 25.0] ['745', '623', '387', '330']\n",
      "('Al0.1CoCrFeNi', '10.1016/j.actamat.2018.12.012', 'CR + A', 25.0) 3 [25.0, 25.0, 25.0] ['1403 $\\\\pm$ 20', '711 $\\\\pm$ 40', '356 $\\\\pm$ 13']\n",
      "('Al0.3CoCrFeNi', '10.1016/j.actamat.2018.12.010', 'CR+A', 25.0) 2 [25.0, 25.0] ['840 $\\\\pm$ 20', '159 $\\\\pm$ 22']\n",
      "('Al0.3CoCrFeNi', '10.1016/j.scriptamat.2018.10.023', 'CR + A', 25.0) 4 [25.0, 25.0, 25.0, 25.0] ['471', '841', '161', '187']\n",
      "('Al10Co25Cr8Fe15Ni36Ti6', '10.1007/s11837-015-1484-7', 'A', 25.0) 2 [25.0, 25.0] ['568', '596']\n",
      "('Al10Co25Cr8Fe15Ni36Ti6', '10.1007/s11837-015-1484-7', 'A', 700.0) 2 [700.0, 700.0] ['487', '486']\n",
      "('Al10Cr12Fe35Mn23Ni20', '10.1016/j.msea.2019.05.056', 'CR', 25.0) 2 [25.0, 25.0] ['320', '1400']\n",
      "('Al12Co18Cr18Fe35Ni18', '10.1016/j.scriptamat.2016.04.014', 'AC', 25.0) 2 [25.0, 25.0] ['866', '1166']\n",
      "('Al4Co19Cr19Cu4Fe19Ni37', '10.1016/j.msea.2017.04.111', 'CR + A', 25.0) 2 [25.0, 25.0] ['719', '460']\n",
      "('Al4Co24Cr24Fe24Ni24Ti2', '10.1016/j.actamat.2015.08.076', 'CR + A', 25.0) 2 [25.0, 25.0] ['645', '1005']\n",
      "('Al5Cr12Fe35Mn28Ni20', '10.1016/j.msea.2019.05.056', 'AC', 25.0) 2 [25.0, 25.0] ['280', '1253']\n",
      "('Al7Co23Cr23Fe23Ni23', '10.1016/j.jallcom.2008.12.088', 'A', 25.0) 2 [25.0, 25.0] ['305', '280']\n",
      "('Al7Co23Cr23Fe23Ni23', '10.1016/j.matdes.2017.02.072', 'CR + A', 25.0) 5 [25.0, 25.0, 25.0, 25.0, 25.0] ['159', '215', '285', '263', '490']\n",
      "('Al8Co17Cr17Cu8Fe17Ni33', '10.1007/s11837-013-0756-3', 'A', 25.0) 2 [25.0, 25.0] ['365', '215']\n",
      "('AlCoCrFeNi', '10.1016/j.jallcom.2016.05.034', 'A', 25.0) 4 [25.0, 25.0, 25.0, 25.0] ['1430', '1690', '1220', '1450']\n",
      "('AlCoCrFeNi', '10.1016/j.matchar.2019.05.022', 'SPS', 25.0) 3 [25.0, 25.0, 25.0] ['1221.1 $\\\\pm$ 15', '1186.7 $\\\\pm$ 16', '1112.9 $\\\\pm$ 20']\n",
      "('AlCoCrFeNi', '10.1088/2053-1591/ab2517', 'SPS', 25.0) 6 [25.0, 25.0, 25.0, 25.0, 25.0, 25.0] ['520', '1150', '1287', '1286', '1390', '1626']\n",
      "('AlCoCrFeNi2.1', '10.1038/s41467-019-08460-2', 'CR + A', 25.0) 3 [25.0, 25.0, 25.0] ['1263', '1154', '1490']\n",
      "('AlCrFeCoNi', '10.1016/j.matchar.2019.03.006', 'AC', 25.0) 2 [25.0, 25.0] ['1631', '1209']\n",
      "('Co10Cr10Fe50Mn30', '10.1016/j.actamat.2017.03.069', 'CR + A', 25.0) 3 [25.0, 25.0, 25.0] ['330', '280', '350']\n",
      "('Co10Cr10Fe50Mn30', '10.1038/s41598-017-16509-9', 'HR + A', 25.0) 2 [25.0, 25.0] ['298', '400']\n",
      "('Co17.5Cr12.5Fe55Ni10Mo5', '10.1016/j.jallcom.2018.12.040', 'CR + A', 25.0) 4 [25.0, 25.0, 25.0, 25.0] ['443 $\\\\pm$ 12', '301 $\\\\pm$ 15', '261 $\\\\pm$ 8', '231 $\\\\pm$ 7']\n",
      "('Co18Cr12.5Fe55Ni7Mo7.5', '10.1016/j.jallcom.2018.12.040', 'CR + A', 25.0) 4 [25.0, 25.0, 25.0, 25.0] ['711 $\\\\pm$ 15', '684 $\\\\pm$ 9', '506 $\\\\pm$ 7', '296 $\\\\pm$ 6']\n",
      "('Co20(CrNi)80', '10.1016/j.actamat.2019.04.017', 'CR + A', 25.0) 4 [25.0, 25.0, 25.0, 25.0] ['518', '462', '395', '356']\n",
      "('Co20.6Cr19.9Fe19.5Ni20.9Mn19.1', '10.1016/j.msea.2019.01.112', 'CR+A', 25.0) 5 [25.0, 25.0, 25.0, 25.0, 25.0] ['1290', '1135', '585', '425', '270']\n",
      "('Co23Cr23Fe23Ni23Mo7', '10.1016/j.actamat.2016.06.063', 'CR + A', 25.0) 3 [25.0, 25.0, 25.0] ['815.5', '646.7', '683.7']\n",
      "('Co35Cr15Fe20Ni20Mo10', '10.1016/j.scriptamat.2017.05.019', 'CR + A', 25.0) 6 [25.0, 25.0, 25.0, 25.0, 25.0, 25.0] ['1311', '1212', '1028', '879', '799', '350']\n",
      "('CoCrFeMnNi', '10.1016/j.jmst.2018.09.068', 'CR + A', 25.0) 2 [25.0, 25.0] ['300', '800']\n",
      "('CoCrFeNi', '10.1016/j.actamat.2019.04.017', 'CR + A', 25.0) 5 [25.0, 25.0, 25.0, 25.0, 25.0] ['631', '494', '448', '273', '172']\n",
      "('CoCrFeNiMo0.15', '10.1016/j.msea.2019.05.078', 'CR+A', 25.0) 6 [25.0, 25.0, 25.0, 25.0, 25.0, 25.0] ['873 $\\\\pm$ 27', '952 $\\\\pm$ 35', '1136 $\\\\pm$ 3', '1301 $\\\\pm$ 28', '1311 $\\\\pm$ 14', '1273 $\\\\pm$ 16']\n",
      "('CoFeNi', '10.1016/j.jmmm.2014.07.023', 'AC', 25.0) 2 [25.0, 25.0] ['204.0', '209.0']\n",
      "('CoMnNi', '10.1016/j.actamat.2019.04.017', 'CR + A', 25.0) 4 [25.0, 25.0, 25.0, 25.0] ['333', '601', '321', '267']\n",
      "('CoNiFe', '10.1016/j.intermet.2019.106477', 'CR+A', 25.0) 3 [25.0, 25.0, 25.0] ['276', '217', '201']\n",
      "('Cr20Fe6Co34Ni34Mo6', '10.1016/j.ijplas.2018.10.005', 'CR + A', 25.0) 5 [25.0, 25.0, 25.0, 25.0, 25.0] ['1100', '950', '649', '439', '309']\n",
      "('CrCoNi', '10.1016/j.actamat.2018.12.015', 'CR + A', 25.0) 3 [25.0, 25.0, 25.0] ['1100', '597', '346']\n",
      "('CrCoNi', '10.1016/j.jmst.2018.12.002', 'A', -196.0) 2 [-196.0, -196.0] ['600', '1215']\n",
      "('CrHfNbTiZr', '10.1016/j.ijrmhm.2014.07.009', 'A', 25.0) 4 [25.0, 25.0, 25.0, 25.0] ['1457.0', '1420.0', '1328.0', '1322.0']\n",
      "('Fe40Mn40Co10Cr10', '10.1016/j.msea.2019.138039', 'AC', 25.0) 2 [25.0, 25.0] ['213', '393']\n",
      "('Fe40Mn40Co10Cr10', '10.1016/j.msea.2019.138039', 'HR + A', 25.0) 3 [25.0, 25.0, 25.0] ['559', '512', '476']\n",
      "('FeCoCrNiMn', '10.1007/s11661-019-05231-y', 'CR + A', 25.0) 10 [25.0, 25.0, 25.0, 25.0, 25.0, 25.0, 25.0, 25.0, 25.0, 25.0] ['1269.23', '1371.21', '1362.74', '1241.81', '930.3', '729.21', '494.82', '366.88', '290.65', '258.76']\n",
      "('FeCoCrNiMnTi0.1C0.1', '10.1016/j.vacuum.2019.04.043', 'VHP', 25.0) 4 [25.0, 25.0, 25.0, 25.0] ['1616 $\\\\pm$ 27', '1652 $\\\\pm$ 16', '1490 $\\\\pm$ 11', '1194 $\\\\pm$ 9']\n",
      "('FeCrCoMnNi', '10.1016/j.msea.2019.04.025', 'CR + A', 25.0) 6 [25.0, 25.0, 25.0, 25.0, 25.0, 25.0] ['1300', '1050', '560', '520', '320', '280']\n",
      "('FeCrCuMnNi', '10.1016/j.matchar.2019.05.043', 'CR + A', 25.0) 5 [25.0, 25.0, 25.0, 25.0, 25.0] ['1170', '1030', '970', '850', '470']\n",
      "('FeCrCuMnNi', '10.1016/j.matchemphys.2018.09.033', 'A', 25.0) 5 [25.0, 25.0, 25.0, 25.0, 25.0] ['545', '534', '525', '517', '502']\n",
      "('FeMnNi', '10.1016/j.actamat.2019.04.017', 'CR + A', 25.0) 6 [25.0, 25.0, 25.0, 25.0, 25.0, 25.0] ['529', '522', '460', '407', '372', '322']\n",
      "('Hf0.75NbTa0.5Ti1.5Zr1.25', '10.1016/j.msea.2017.10.073', 'CR', -268.8) 2 [-268.8, -268.8] ['2250.0', '2210.0']\n",
      "('Hf0.75NbTa0.5Ti1.5Zr1.25', '10.1016/j.msea.2017.10.073', 'CR', -196.0) 2 [-196.0, -196.0] ['1880.0', '1750.0']\n",
      "('Hf0.75NbTa0.5Ti1.5Zr1.25', '10.1016/j.msea.2017.10.073', 'CR', -153.0) 2 [-153.0, -153.0] ['1640.0', '1550.0']\n",
      "('Hf0.75NbTa0.5Ti1.5Zr1.25', '10.1016/j.msea.2017.10.073', 'CR', -103.0) 2 [-103.0, -103.0] ['1380.0', '1370.0']\n",
      "('Hf0.75NbTa0.5Ti1.5Zr1.25', '10.1016/j.msea.2017.10.073', 'CR', -43.0) 2 [-43.0, -43.0] ['1200.0', '1180.0']\n",
      "('Hf0.75NbTa0.5Ti1.5Zr1.25', '10.1016/j.msea.2017.10.073', 'CR', 25.0) 2 [25.0, 25.0] ['1150.0', '1100.0']\n",
      "('Hf0.75NbTa0.5Ti1.5Zr1.25', '10.1016/j.msea.2017.10.073', 'CR', 72.0) 2 [72.0, 72.0] ['1040.0', '1020.0']\n",
      "('HfNbTaTi', '10.1016/j.actamat.2019.06.006', 'A', 20.0) 2 [20.0, 20.0] ['860', '834']\n",
      "('HfNbTaTiZr', '10.1007/s11661-018-4646-8', 'HIP + CR + A', 25.0) 7 [25.0, 25.0, 25.0, 25.0, 25.0, 25.0, 25.0] ['1159', '1134', '1094', '1071', '1107', '1115', '1114']\n",
      "('HfNbTaTiZr', '10.1016/j.actamat.2017.09.035', 'SPD+A', 25.0) 2 [25.0, 25.0] ['1520.0', '795.0']\n",
      "('HfNbTaTiZr', '10.1016/j.jallcom.2015.07.209', 'CR+A', 25.0) 2 [25.0, 25.0] ['1303.0', '1145.0']\n",
      "('HfNbTaTiZr', '10.1016/j.jallcom.2019.04.291', 'CR+A', 25.0) 3 [25.0, 25.0, 25.0] ['985', '972', '967']\n",
      "('HfNbTaTiZr', '10.1016/j.matlet.2016.08.060', 'CR+A', 25.0) 3 [25.0, 25.0, 25.0] ['958.0', '944.0', '940.0']\n",
      "('HfNbTaTiZr', '10.1016/j.msea.2015.12.017', 'AC', 25.0) 4 [25.0, 25.0, 25.0, 25.0] ['828.0', '827.0', '820.0', '803.0']\n",
      "('HfNbTaZr', '10.1016/j.actamat.2016.01.018', 'A', 25.0) 4 [25.0, 25.0, 25.0, 25.0] ['2310.0', '2100.0', '2020.0', '1950.0']\n",
      "('HfNbTiVZr', '10.1016/j.ijrmhm.2014.07.009', 'A', 25.0) 4 [25.0, 25.0, 25.0, 25.0] ['1157.0', '1253.0', '1140.0', '1120.0']\n",
      "('NbMoTaWVCr', '10.1016/j.jallcom.2018.11.318', 'SPS', 25.0) 3 [25.0, 25.0, 25.0] ['3416', '3410', '3338']\n",
      "('NbTaTiV', '10.1016/j.jallcom.2018.10.230', 'SPS', 25.0) 3 [25.0, 25.0, 25.0] ['1108', '1308', '1373']\n",
      "('TiNbTa0.5ZrAl0.5', '10.1016/j.matlet.2019.03.075', 'HF + A', 25.0) 4 [25.0, 25.0, 25.0, 25.0] ['1200', '2100', '1740', '1630']\n",
      "('V10Cr15Mn5Fe35Co10Ni25', '10.1016/j.msea.2018.12.077', 'CR + A', 25.0) 5 [25.0, 25.0, 25.0, 25.0, 25.0] ['401', '350', '312', '240', '210']\n",
      "('VCoNi', '10.1002/adma.201807142', 'CR+A', 25.0) 5 [25.0, 25.0, 25.0, 25.0, 25.0] ['991 $\\\\pm$ 8', '767 $\\\\pm$ 5', '602 $\\\\pm$ 7', '517 $\\\\pm$ 8', '461 $\\\\pm$ 6']\n",
      "('WMoNbCrTi', '10.1007/s11837-019-03432-9', 'SPS', 25.0) 5 [25.0, 25.0, 25.0, 25.0, 25.0] ['2500', '1260', '1630', '2030', '1920']\n"
     ]
    }
   ],
   "source": [
    "import json\n",
    "import pandas as pd\n",
    "\n",
    "\n",
    "df = pd.read_csv('../combined_data.csv')\n",
    "df_ys = df.dropna(subset=['PROPERTY: YS (MPa)'])\n",
    "\n",
    "gb_key = ['FORMULA', 'REFERENCE: doi', 'PROPERTY: synthesis method', 'PROPERTY: Test temperature ($^\\circ$C)']\n",
    "samples = df_ys.groupby(gb_key)\n",
    "for s in samples:\n",
    "    temps = [t for t in s[1]['PROPERTY: Test temperature ($^\\circ$C)']]\n",
    "    ys = [t for t in s[1]['PROPERTY: YS (MPa)']]\n",
    "\n",
    "    if len(s[1]) > 1:\n",
    "        print(s[0], len(s[1]), temps, ys)"
   ]
  },
  {
   "cell_type": "code",
   "execution_count": 2,
   "metadata": {},
   "outputs": [],
   "source": [
    "df = pd.read_csv('../combined_data.csv')\n",
    "\n",
    "samples = df.groupby(['REFERENCE: doi','PROPERTY: YS (MPa)'])\n",
    "for s in samples:\n",
    "    temps = [t for t in s[1]['PROPERTY: Test temperature ($^\\circ$C)']]\n",
    "    ys = [t for t in s[1]['PROPERTY: YS (MPa)']]\n",
    "\n",
    "    if len(s[1]['REFERENCE: tag'].unique())>1:\n",
    "        # print(s[0], len(s[1]), temps, ys)\n",
    "        print(s[0], s[1]['REFERENCE: tag'].values)\n"
   ]
  },
  {
   "cell_type": "code",
   "execution_count": 3,
   "metadata": {},
   "outputs": [
    {
     "name": "stdout",
     "output_type": "stream",
     "text": [
      "('AlNbTiV', 25.0, '1000.0') ['Couzinie_14' 'Couzinie_9']\n",
      "('AlNbTiV', 600.0, '780.0') ['Couzinie_14' 'Couzinie_9']\n",
      "('AlNbTiV', 800.0, '560.0') ['Couzinie_14' 'Couzinie_9']\n",
      "('CoCrCuFeNiTi0.5', 25.0, '700.0') ['25' '35']\n",
      "('HfMoNbTaTiZr', 25.0, '1512.0') ['62' '63']\n",
      "('HfMoNbTaTiZr', 1000.0, '814') ['J38' 'J131']\n",
      "('HfMoNbTaTiZr', 1200.0, '556') ['J38' 'J131']\n",
      "('HfMoTaTiZr', 1000.0, '855') ['J38' 'J131']\n",
      "('HfMoTaTiZr', 1200.0, '404') ['J38' 'J131']\n",
      "('HfNbTaTiZr', 25.0, '940.0') ['Couzinie_34' 'Couzinie_35']\n"
     ]
    }
   ],
   "source": [
    "df = pd.read_csv('../combined_data.csv')\n",
    "\n",
    "samples = df.groupby(['FORMULA', 'PROPERTY: Test temperature ($^\\circ$C)','PROPERTY: YS (MPa)'])\n",
    "for s in samples:\n",
    "    temps = [t for t in s[1]['PROPERTY: Test temperature ($^\\circ$C)']]\n",
    "    ys = [t for t in s[1]['PROPERTY: YS (MPa)']]\n",
    "\n",
    "    if len(s[1]['REFERENCE: tag'].unique())>1:\n",
    "        # print(s[0], len(s[1]), temps, ys)\n",
    "        print(s[0], s[1]['REFERENCE: tag'].values)"
   ]
  },
  {
   "cell_type": "code",
   "execution_count": 4,
   "metadata": {},
   "outputs": [],
   "source": [
    "df = pd.read_csv('../combined_data.csv')\n",
    "\n",
    "samples = df.groupby(['REFERENCE: doi'])\n",
    "for s in samples:\n",
    "    temps = [t for t in s[1]['PROPERTY: Test temperature ($^\\circ$C)']]\n",
    "    ys = [t for t in s[1]['PROPERTY: YS (MPa)']]\n",
    "\n",
    "    if len(s[1]['REFERENCE: tag'].unique())>1:\n",
    "        # print(s[0], len(s[1]), temps, ys)\n",
    "        print(s[0], s[1]['REFERENCE: tag'].values)"
   ]
  },
  {
   "cell_type": "code",
   "execution_count": 17,
   "metadata": {},
   "outputs": [],
   "source": [
    "out = 'PROPERTY: HV'\n",
    "\n",
    "outs = ['PROPERTY: Exp. Density (g/cm$^3$)',\n",
    "       'PROPERTY: Calculated Density (g/cm$^3$)', 'PROPERTY: HV',\n",
    "       'PROPERTY: YS (MPa)', 'PROPERTY: UTS (MPa)', 'PROPERTY: Elongation (%)',\n",
    "       'PROPERTY: Elongation plastic (%)',\n",
    "       'PROPERTY: Exp. Young modulus (GPa)',\n",
    "       'PROPERTY: Calculated Young modulus (GPa)']\n",
    "\n",
    "input_df = pd.read_csv('../MPEA_dataset.csv')\n",
    "\n",
    "\n",
    "for out in outs:\n",
    "    df = input_df.dropna(subset=[out])\n",
    "    grouped = df.groupby('FORMULA')\n",
    "\n",
    "    rows = []\n",
    "    for g in grouped:\n",
    "        if len(g[1][out]) > 1:\n",
    "            row = [g[0], round(g[1][out].std())]\n",
    "            rows.append(row)\n",
    "\n",
    "    df_std = pd.DataFrame(data=rows, columns=['FORMULA', '{}_std'.format(out)])\n",
    "    df_std = df_std.sort_values('{}_std'.format(out), ascending=False)\n",
    "    df_std.to_csv('outliers/{}_std.csv'.format(out.split('(')[0]))"
   ]
  },
  {
   "cell_type": "code",
   "execution_count": null,
   "metadata": {},
   "outputs": [],
   "source": []
  }
 ],
 "metadata": {
  "kernelspec": {
   "display_name": "Python 3",
   "language": "python",
   "name": "python3"
  },
  "language_info": {
   "codemirror_mode": {
    "name": "ipython",
    "version": 3
   },
   "file_extension": ".py",
   "mimetype": "text/x-python",
   "name": "python",
   "nbconvert_exporter": "python",
   "pygments_lexer": "ipython3",
   "version": "3.7.3"
  }
 },
 "nbformat": 4,
 "nbformat_minor": 4
}
